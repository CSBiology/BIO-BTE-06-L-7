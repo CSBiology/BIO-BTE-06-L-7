
        {
            "cells": [
          {
           "cell_type": "markdown",
           "metadata": {},
           
           "source": ["# JP10 Peptide Identification\n",
"\n",
"[![Binder](https://mybinder.org/badge_logo.svg)](https://mybinder.org/v2/gh/CSBiology/BIO-BTE-06-L-7/gh-pages?filepath=JP10_Peptide_Identification.ipynb)\n",
"\n",
"\n",
"1. [Understanding peptide identification from MS\u003csup\u003e2\u003c/sup\u003e spectra](#Understanding-peptide-identification-from-MS2-spectra)\n",
"2. [Matching and scoring of Tandem MS peptide identification](#Matching-and-scoring-of-Tandem-MS-peptide-identification)\n",
"    3. [Step 1: Data acquisition and preprocessing](#Step-1:-Data-acquisition-and-preprocessing)\n",
"    4. [Step 2: Preselecting the peptides of interest](#Step-2:-Preselecting-the-peptides-of-interest)\n",
"    5. [Step 3+4: Matching and Scoring](#Step-3+4:-Matching-and-Scoring)\n",
"\n",
"## Understanding peptide identification from MS\u003csup\u003e2\u003c/sup\u003e spectra\n",
"\u003ca href=\"#Peptide-Identification\" style=\"display: inline-block\"\u003e\u003csup\u003e\u0026#8593;back\u003c/sup\u003e\u003c/a\u003e\u003cbr\u003e\n",
"\u003ca href=\"#Peptide-Identification\" style=\"display: inline-block\"\u003e\u003csup\u003e\u0026#8593;back\u003c/sup\u003e\u003c/a\u003e\u003cbr\u003e\n",
"\n",
"\u003cdiv class=\"container\"\u003e\n",
"\u003cdiv class=\"container\"\u003e\n",
"Under low-energy fragmentation conditions, peptide fragment patterns are reproducible and, in general, predictable, which allows for an \n",
"amino acid sequence identification according to a fragmentation expectation. Algorithms for peptide identification perform in principle \n",
"three basic tasks:\n",
"\n",
"\u003cb\u003e(i)\u003c/b\u003e a raw data preprocessing step is applied to the MS/MS spectra to obtain clean peak information. The same signal filtering \n",
"\u003cb\u003e(i)\u003c/b\u003e a raw data preprocessing step is applied to the MS/MS spectra to obtain clean peak information. The same signal filtering \n",
"and background subtraction methods are used as discussed in the section of low-level processing. Peak detection, however, may be performed \n",
"differently. Preprocessing of MS/MS spectra focuses on the extraction of the precise m/z of the peak rather than the accurate peak areas. \n",
"The conversion of a peak profile into the corresponding m/z and intensity values reduces the complexity, its representation is termed centroiding. \n",
"To extract the masses for identification in a simple and fast way, peak fitting approaches are used. These approaches take either the most intense \n",
"point of the peak profile, fit a Lorentzian distribution to the profile, or use a quadratic fit\u003csup\u003e\u003ca href=\"#37\"\u003e37\u003c/a\u003e\u003c/sup\u003e. \n",
"\n",
"\u003cb\u003e(ii)\u003c/b\u003e Spectrum information and possible amino acid sequences assignments are evaluated. \n",
"\u003cb\u003e(ii)\u003c/b\u003e Spectrum information and possible amino acid sequences assignments are evaluated. \n",
"\n",
"\u003cb\u003e(iii)\u003c/b\u003e The quality of the match between spectrum and possible sequences is scored.\n",
"\u003cb\u003e(iii)\u003c/b\u003e The quality of the match between spectrum and possible sequences is scored.\n",
"\n",
"Even though the three steps roughly describe the basic principle of algorithms used for peptide sequence identification, most implementations \n",
"show differences in individual steps which can lead to major changes in the outcome. Therefore, it has been proven useful to utilize more than \n",
"one algorithm for a robust and thorough identification. Due to their major difference in identification strategies and prerequisites, \n",
"identification algorithms are normally classified into three categories: (i) \u003ci\u003ede novo\u003c/i\u003e peptide sequencing, (ii) peptide sequence-tag (PST) \n",
"searching, and (iii) uninterpreted sequence searching. However, in this notebook we focus on the explanation of (iii) uninterpreted sequence \n",
"searching, the most frequently used methods.\n",
"\u003c/div\u003e\n",
"\n",
"## Matching and scoring of Tandem MS peptide identification\n",
"\u003ca href=\"#Peptide-Identification\" style=\"display: inline-block\"\u003e\u003csup\u003e\u0026#8593;back\u003c/sup\u003e\u003c/a\u003e\u003cbr\u003e\n",
"\u003ca href=\"#Peptide-Identification\" style=\"display: inline-block\"\u003e\u003csup\u003e\u0026#8593;back\u003c/sup\u003e\u003c/a\u003e\u003cbr\u003e\n",
"\n",
"\n",
"\u003cdiv class=\"container\"\u003e\n",
"\u003cdiv class=\"container\"\u003e\n",
"\n",
"\u003cdiv Id=\"figure4\" Style=\"float: right ; display: inline-block ; color: #44546a ; width: 60% ; padding: 15px\"\u003e\n",
"\u003cdiv Id=\"figure4\" Style=\"float: right ; display: inline-block ; color: #44546a ; width: 60% ; padding: 15px\"\u003e\n",
"    \u003cimg src=\"img/ComputationalProteinIdentification.png\" Style=\"width: 100%\"\u003e\n",
"    \u003cdiv Style=\"padding-left: 1rem ; padding-right: 1rem ; text-align: justify ; font-size: 0.8rem\"\u003e\u003cb\u003e\n",
"        Figure 4: Process of computational identification of peptides from their fragment spectra\u003c/b\u003e\n",
"    \u003c/div\u003e\n",
"\u003c/div\u003e    \n",
"\n",
"Previously we learned, that peptides fragment to create patterns characteristic of a specific amino acid sequence. These patterns are reproducible and, in general, predictable taking the applied fragmentation method into account. This can be used for computational identification of peptides from their fragment spectra. This process can be subdivided into 5 main steps: spectrum preprocessing, selection of possible sequences, generating theoretical spectra, matching and scoring (\u003ca href=\"#figure5\" \u003eFigure 4\u003c/a\u003e). The first step is a preprocessing of the experimental spectra and is done to reduce noise. Secondly, all possible amino acid sequences are selected which match the particular precursor peptide mass. The possible peptides can but do not need to be restricted to a particular organism. A theoretical spectrum is predicted for each of these amino acid sequences. Matching and scoring is performed by comparing experimental spectra to their predicted corresponding theoretical spectra. The score function measures the closeness of fit between the experimental acquired and theoretical spectrum. There are many different score functions, which can be considered as the main reason of different identifications considering different identification algorithm. The most natural score function is the cross correlation score (xcorr) used by the commercially available search tool SEQUEST. One of the reasons the xcorr is so sensitive is because it involves a correction factor that assesses the background correlation for each acquired spectrum and the theoretically predicted spectrum from sequences within a database. To compute this correction factor, a measure of similarity is calculated at different offsets between a preprocessed mass spectrum and a theoretical spectrum. The final xcorr is then the correlation at zero offset minus the mean correlation from all the individual offsets.\n",
"\n",
"Thus, the correlation function measures the coherence of two signals by, in effect, translating one signal across the other. This can be mathematically achieved using the formula for cross-correlation in the form for discrete input signals:\n",
"\n",
"\u003ci\u003e\u003cb\u003eEquation 5\u003c/b\u003e\u003c/i\u003e\n",
"\u003ci\u003e\u003cb\u003eEquation 5\u003c/b\u003e\u003c/i\u003e\n",
"\n",
"\u003cimg src=\"https://latex.codecogs.com/gif.latex?\\large\u0026space;R_{\\tau}\u0026space;=\u0026space;\\sum_{i=0}^{n-1}x_{i}\\cdot y_{i\u0026plus;\\tau}\" title=\"\\large R_{𝜏} = \\sum_{i=0}^{n-1}x_{i}\\cdot y_{i+𝜏}\" style=\"margin: 1rem auto 1rem; display: block\" /\u003e\n",
"\u003cimg src=\"https://latex.codecogs.com/gif.latex?\\large\u0026space;R_{\\tau}\u0026space;=\u0026space;\\sum_{i=0}^{n-1}x_{i}\\cdot y_{i\u0026plus;\\tau}\" title=\"\\large R_{𝜏} = \\sum_{i=0}^{n-1}x_{i}\\cdot y_{i+𝜏}\" style=\"margin: 1rem auto 1rem; display: block\" /\u003e\n",
"\n",
"where x\u003csub\u003ei\u003c/sub\u003e is a peak of the reconstructed spectrum at position i and y\u003csub\u003ei\u003c/sub\u003e is a peak of the experimental spectrum. The displacement value 𝜏 is the amount by which the signal is offset during the translation and is varied over a range of values. If two signals are the same, the correlation function should have its maxima at 𝜏=0, where there is no offset. The average of the offset-correlation is seen as the average background correlation and needs to be subtracted from the correlation at 𝜏=0. It follows: \n",
"\n",
"\u003ci\u003e\u003cb\u003eEquation 6\u003c/b\u003e\u003c/i\u003e\n",
"\u003ci\u003e\u003cb\u003eEquation 6\u003c/b\u003e\u003c/i\u003e\n",
"\n",
"\u003cimg src=\"https://latex.codecogs.com/gif.latex?xcorr\u0026space;=\u0026space;R_{0}\u0026space;-\u0026space;\\frac{(\\sum\u0026space;\\begin{matrix}\u0026space;\\tau=\u0026plus;offeset\\\\\u0026space;\\tau=-offeset\\end{matrix}R_{\\tau})}{2*offset\u0026plus;1}\" title=\"xcorr = R_{0} - \\frac{(\\sum \\begin{matrix} \\tau=+offeset\\\\ \\tau=-offeset\\end{matrix}R_{\\tau})}{2*offset+1}\" style=\"margin: 1rem auto 1rem; display: block\" /\u003e\n",
"\u003cimg src=\"https://latex.codecogs.com/gif.latex?xcorr\u0026space;=\u0026space;R_{0}\u0026space;-\u0026space;\\frac{(\\sum\u0026space;\\begin{matrix}\u0026space;\\tau=\u0026plus;offeset\\\\\u0026space;\\tau=-offeset\\end{matrix}R_{\\tau})}{2*offset\u0026plus;1}\" title=\"xcorr = R_{0} - \\frac{(\\sum \\begin{matrix} \\tau=+offeset\\\\ \\tau=-offeset\\end{matrix}R_{\\tau})}{2*offset+1}\" style=\"margin: 1rem auto 1rem; display: block\" /\u003e\n",
"\n",
"In practice many theoretical spectra have to be matched again a single experimental spectrum. Therefore, the calculation can be speed up by reformulating Equation 5 and Equation 6 and introduce a preprocessing step, which is independent of the predicted spectra.\n",
"\n",
"\u003ci\u003e\u003cb\u003eEquation 7\u003c/b\u003e\u003c/i\u003e\n",
"\u003ci\u003e\u003cb\u003eEquation 7\u003c/b\u003e\u003c/i\u003e\n",
"\n",
"\u003cimg src=\"https://latex.codecogs.com/gif.latex?xcorr\u0026space;=\u0026space;x_{0}\\cdot\u0026space;y_{0}\u0026space;-\u0026space;\\frac{(\\sum\u0026space;\\begin{matrix}\u0026space;\\tau=\u0026plus;offeset\\\\\u0026space;\\tau=-offeset\\end{matrix}x_{0}\\cdot\u0026space;y_{\\tau})}{2*offset\u0026plus;1}\" title=\"xcorr = x_{0}\\cdot y_{0} - \\frac{(\\sum \\begin{matrix} \\tau=+offeset\\\\ \\tau=-offeset\\end{matrix}x_{0}\\cdot y_{\\tau})}{2*offset+1}\" style=\"margin: 1rem auto 1rem; display: block\" /\u003e\n",
"\u003cimg src=\"https://latex.codecogs.com/gif.latex?xcorr\u0026space;=\u0026space;x_{0}\\cdot\u0026space;y_{0}\u0026space;-\u0026space;\\frac{(\\sum\u0026space;\\begin{matrix}\u0026space;\\tau=\u0026plus;offeset\\\\\u0026space;\\tau=-offeset\\end{matrix}x_{0}\\cdot\u0026space;y_{\\tau})}{2*offset\u0026plus;1}\" title=\"xcorr = x_{0}\\cdot y_{0} - \\frac{(\\sum \\begin{matrix} \\tau=+offeset\\\\ \\tau=-offeset\\end{matrix}x_{0}\\cdot y_{\\tau})}{2*offset+1}\" style=\"margin: 1rem auto 1rem; display: block\" /\u003e\n",
"\n",
"For the preprocessed experimental spectrum y\u0027 it follows:\n",
"\n",
"\u003ci\u003e\u003cb\u003eEquation 8\u003c/b\u003e\u003c/i\u003e\n",
"\u003ci\u003e\u003cb\u003eEquation 8\u003c/b\u003e\u003c/i\u003e\n",
"\n",
"\u003cimg src=\"https://latex.codecogs.com/gif.latex?xcorr\u0026space;=\u0026space;x_{0}\\cdot\u0026space;y\u0027\" title=\"xcorr = x_{0}\\cdot y\u0027\" style=\"margin: 1rem auto 1rem; display: block\" /\u003e\n",
"\u003cimg src=\"https://latex.codecogs.com/gif.latex?xcorr\u0026space;=\u0026space;x_{0}\\cdot\u0026space;y\u0027\" title=\"xcorr = x_{0}\\cdot y\u0027\" style=\"margin: 1rem auto 1rem; display: block\" /\u003e\n",
"\n",
"where:\n",
"\n",
"\u003ci\u003e\u003cb\u003eEquation 9\u003c/b\u003e\u003c/i\u003e\n",
"\u003ci\u003e\u003cb\u003eEquation 9\u003c/b\u003e\u003c/i\u003e\n",
"\n",
"\u003cimg src=\"https://latex.codecogs.com/gif.latex?y\u0027\u0026space;=\u0026space;y_{0}\u0026space;-\u0026space;\\frac{(\\sum\u0026space;\\begin{matrix}\u0026space;\\tau=\u0026plus;offeset\\\\\u0026space;\\tau=-offeset\\end{matrix}x_{0}\\cdot\u0026space;y_{\\tau})}{2*offset\u0026plus;1}\" title=\"y\u0027 = y_{0} - \\frac{(\\sum \\begin{matrix} \\tau=+offeset\\\\ \\tau=-offeset\\end{matrix}x_{0}\\cdot y_{\\tau})}{2*offset+1}\" style=\"margin: 1rem auto 1rem; display: block\" /\u003e\n",
"\u003cimg src=\"https://latex.codecogs.com/gif.latex?y\u0027\u0026space;=\u0026space;y_{0}\u0026space;-\u0026space;\\frac{(\\sum\u0026space;\\begin{matrix}\u0026space;\\tau=\u0026plus;offeset\\\\\u0026space;\\tau=-offeset\\end{matrix}x_{0}\\cdot\u0026space;y_{\\tau})}{2*offset\u0026plus;1}\" title=\"y\u0027 = y_{0} - \\frac{(\\sum \\begin{matrix} \\tau=+offeset\\\\ \\tau=-offeset\\end{matrix}x_{0}\\cdot y_{\\tau})}{2*offset+1}\" style=\"margin: 1rem auto 1rem; display: block\" /\u003e\n",
"\n",
"\u003cdiv Style=\"text-align: justify ; margin-top: 2rem ; margin-bottom: 2rem ; line-height: 1.3 ; width: 85% ; margin-left: auto ; margin-right: auto ; padding: 10px ; border: 2px dotted #708090 ; color: #708090\"\u003e\n",
"\u003cdiv Style=\"text-align: justify ; margin-top: 2rem ; margin-bottom: 2rem ; line-height: 1.3 ; width: 85% ; margin-left: auto ; margin-right: auto ; padding: 10px ; border: 2px dotted #708090 ; color: #708090\"\u003e\n",
"Matching a measured spectrum against chlamy database\n",
"\u003c/div\u003e\n",
"\u003c/div\u003e\n",
"\n"]
          }
,
          {
           "cell_type": "code",
           "metadata": {},
            "execution_count": 1, "outputs": [], 
           "source": ["#r \"nuget: BioFSharp, 2.0.0-beta5\"\n",
"#r \"nuget: BioFSharp.IO, 2.0.0-beta5\"\n",
"#r \"nuget: Plotly.NET, 2.0.0-beta6\"\n",
"\n",
"#r \"nuget: Plotly.NET, 2.0.0-beta6\"\n",
"#r \"nuget: Plotly.NET.Interactive, 2.0.0-beta6\"\n",
"\n",
"open Plotly.NET\n",
"open BioFSharp\n"]
          }
,
          {
           "cell_type": "markdown",
           "metadata": {},
           
           "source": ["### Step 1: Data acquisition and preprocessing\n",
"\u003ca href=\"#Peptide-Identification\" style=\"display: inline-block\"\u003e\u003csup\u003e\u0026#8593;back\u003c/sup\u003e\u003c/a\u003e\u003cbr\u003e\n",
"\u003ca href=\"#Peptide-Identification\" style=\"display: inline-block\"\u003e\u003csup\u003e\u0026#8593;back\u003c/sup\u003e\u003c/a\u003e\u003cbr\u003e\n",
"\n",
"We load a single MS\u003csup\u003e2\u003c/sup\u003e spectrum that is saved in a mgf file.\n",
"\n"]
          }
,
          {
           "cell_type": "code",
           "metadata": {},
            "execution_count": 2, "outputs": [
          {
           "data": {
            "text/plain": ["{ Parameters =",
"              map",
"                [(\"CHARGE\", \"2\"); (\"Id\", \"sample\");",
"                 (\"PRECURSORMZ\", \"511.2691141\");",
"                 (\"RawFile\", \"20180322MS_SHshift1514002\");",
"                 (\"SCANTIME\", \"51.95223333\"); (\"TITLE\", \"Exemplary MS2 Scan\");",
"                 (\"centroided\", \"True\")]",
"  Mass =",
"        [|112.036653; 120.080594; 130.046346; 153.062829; 157.109862; 158.092818;",
"          171.076774; 175.067784; 189.087923; 189.338845; 198.083737; 199.072418;",
"          201.124816; 211.144868; 217.082739; 219.109405; 227.174856; 229.120531;",
"          233.165312; 238.16277; 242.111545; 253.044327; 255.142393; 256.169969;",
"          260.12437; 268.091868; 270.07139; 272.085967; 279.059968; 280.158068;",
"          281.197142; 285.149895; 288.08612; 296.090984; 296.202063; 305.155873;",
"          314.098751; 315.094288; 322.006424; 322.192782; 323.185918; 332.111085;",
"          332.315692; 338.132174; 342.195319; 345.718946; 351.209137; 353.131429;",
"          358.185808; 359.153126; 366.12195; 375.242387; 376.194349; 381.174952;",
"          384.133931; 385.13565; 393.22419; 394.226541; 399.184537; 400.16638;",
"          403.14732; 413.239741; 417.196992; 417.300178; 427.184224; 427.323445;",
"          428.176669; 429.240034; 439.257781; 443.242876; 445.194799; 446.196081;",
"          447.234097; 453.230571; 453.768446; 457.230402; 462.822253; 464.260295;",
"          464.586884; 465.26462; 465.500733; 465.652119; 470.259918; 471.209786;",
"          479.273205; 480.256729; 484.275011; 485.269833; 494.262925; 502.262504;",
"          502.76579; 511.271366; 512.268119; 513.259484; 514.283629; 516.232954;",
"          523.264365; 526.253758; 530.272248; 531.274408; ...|]",
"  Intensity =",
"             [|253.0; 1118.0; 96.0; 943.0; 290.0; 781.0; 1540.0; 46.0; 12618.0;",
"               24.0; 233.0; 12520.0; 5369.0; 48.0; 10722.0; 318.0; 345.0; 1643.0;",
"               24.0; 24.0; 1283.0; 120.0; 72.0; 239.0; 120.0; 120.0; 300.0; 48.0;",
"               48.0; 72.0; 24.0; 96.0; 421.0; 588.0; 48.0; 1960.0; 15750.0;",
"               288.0; 24.0; 3545.0; 215.0; 29178.0; 24.0; 211.0; 599.0; 286.0;",
"               48.0; 24.0; 127.0; 72.0; 72.0; 208.0; 987.0; 190.0; 48.0; 72.0;",
"               9226.0; 728.0; 1443.0; 439.0; 141.0; 405.0; 6152.0; 23.0; 2033.0;",
"               24.0; 120.0; 96.0; 48.0; 432.0; 8936.0; 610.0; 577.0; 96.0; 72.0;",
"               120.0; 164.0; 35545.0; 24.0; 2098.0; 48.0; 24.0; 48.0; 139.0;",
"               478.0; 72.0; 362.0; 72.0; 208.0; 2302.0; 436.0; 166.0; 657.0;",
"               365.0; 170.0; 700.0; 24.0; 24.0; 654.0; 72.0; ...|] }"]
        },
           "execution_count": 2,
           "metadata": {},
           "output_type": "execute_result"
          }], 
           "source": ["// Code-Block 1\n",
"\n",
"let ms2 = \n",
"    BioFSharp.IO.Mgf.readMgf (__SOURCE_DIRECTORY__ + @\"/../AuxFiles/ms2sample.mgf\")\n",
"    |\u003e List.head\n",
"    \n",
"ms2\n"]
          }
,
          {
           "cell_type": "markdown",
           "metadata": {},
           
           "source": ["Here, the spectrum is already centroidized as shown in \u003ca href=\"JP08_Centroidisation.ipynb\"\u003eJP08_Centroidisation\u003c/a\u003e using the function \n",
"\u003ccode\u003emsPeakPicking\u003c/code\u003e. So we just visualize mass and intensity:\n",
"\n"]
          }
,
          {
           "cell_type": "code",
           "metadata": {},
            "execution_count": 3, "outputs": [
          {
           "data": {
            "text/html": ["\u003cdiv id=\"da72059b-899f-48bd-8701-3b96064933d9\" style=\"width: 600px; height: 600px;\"\u003e\u003c!-- Plotly chart will be drawn inside this DIV --\u003e\u003c/div\u003e",
"\u003cscript type=\"text/javascript\"\u003e",
"",
"            var renderPlotly_da72059b899f48bd87013b96064933d9 = function() {",
"            var fsharpPlotlyRequire = requirejs.config({context:\u0027fsharp-plotly\u0027,paths:{plotly:\u0027https://cdn.plot.ly/plotly-latest.min\u0027}}) || require;",
"            fsharpPlotlyRequire([\u0027plotly\u0027], function(Plotly) {",
"",
"            var data = [{\"type\":\"bar\",\"x\":[112.036653,120.080594,130.046346,153.062829,157.109862,158.092818,171.076774,175.067784,189.087923,189.338845,198.083737,199.072418,201.124816,211.144868,217.082739,219.109405,227.174856,229.120531,233.165312,238.16277,242.111545,253.044327,255.142393,256.169969,260.12437,268.091868,270.07139,272.085967,279.059968,280.158068,281.197142,285.149895,288.08612,296.090984,296.202063,305.155873,314.098751,315.094288,322.006424,322.192782,323.185918,332.111085,332.315692,338.132174,342.195319,345.718946,351.209137,353.131429,358.185808,359.153126,366.12195,375.242387,376.194349,381.174952,384.133931,385.13565,393.22419,394.226541,399.184537,400.16638,403.14732,413.239741,417.196992,417.300178,427.184224,427.323445,428.176669,429.240034,439.257781,443.242876,445.194799,446.196081,447.234097,453.230571,453.768446,457.230402,462.822253,464.260295,464.586884,465.26462,465.500733,465.652119,470.259918,471.209786,479.273205,480.256729,484.275011,485.269833,494.262925,502.262504,502.76579,511.271366,512.268119,513.259484,514.283629,516.232954,523.264365,526.253758,530.272248,531.274408,540.271182,541.269683,542.301782,550.245007,551.259267,554.142479,554.274614,556.318098,558.279137,558.3985,558.683698,559.333957,560.310053,565.310057,569.267126,575.531536,576.56209,577.350783,578.342469,584.290103,587.319537,593.299364,593.524966,594.304648,596.317768,596.42057,597.263876,599.31635,600.326716,601.317288,611.295671,611.406695,612.32997,629.321462,630.314525,637.323317,641.517339,654.354213,655.359643,656.416175,660.340675,663.300761,664.182845,665.333326,682.336088,688.250119,690.423762,690.733508,691.427002,695.410243,700.347824,701.328517,707.331578,724.428818,726.439443,732.43487,734.380513,744.453695,763.456062,770.45088,775.452194,787.463086,788.432043,802.950406,803.101507,804.589423,805.457347,806.453247,810.323167,811.65784,813.329727,815.46007,819.463982,828.849964,829.423713,830.442404,847.414598,847.63519,898.460976,906.520859,916.467903],\"y\":[253.0,1118.0,96.0,943.0,290.0,781.0,1540.0,46.0,12618.0,24.0,233.0,12520.0,5369.0,48.0,10722.0,318.0,345.0,1643.0,24.0,24.0,1283.0,120.0,72.0,239.0,120.0,120.0,300.0,48.0,48.0,72.0,24.0,96.0,421.0,588.0,48.0,1960.0,15750.0,288.0,24.0,3545.0,215.0,29178.0,24.0,211.0,599.0,286.0,48.0,24.0,127.0,72.0,72.0,208.0,987.0,190.0,48.0,72.0,9226.0,728.0,1443.0,439.0,141.0,405.0,6152.0,23.0,2033.0,24.0,120.0,96.0,48.0,432.0,8936.0,610.0,577.0,96.0,72.0,120.0,164.0,35545.0,24.0,2098.0,48.0,24.0,48.0,139.0,478.0,72.0,362.0,72.0,208.0,2302.0,436.0,166.0,657.0,365.0,170.0,700.0,24.0,24.0,654.0,72.0,1132.0,119.0,120.0,48.0,48.0,24.0,24.0,24.0,2500.0,23.0,24.0,228.0,416.0,48.0,72.0,132.0,72.0,68417.0,4148.0,177.0,154.0,72.0,24.0,24.0,24.0,24.0,24.0,24.0,24.0,288.0,507.0,24.0,48.0,1388.0,131.0,48.0,24.0,72.0,48.0,24.0,24.0,24.0,24.0,24.0,158.0,96.0,10941.0,24.0,1317.0,24.0,358.0,72.0,24.0,24.0,24.0,24.0,48.0,24.0,48.0,24.0,48.0,296.0,153.0,96.0,24.0,48.0,27770.0,2648.0,24.0,24.0,24.0,48.0,24.0,24.0,72.0,24.0,96.0,24.0,96.0,72.0,796.0],\"marker\":{}}];",
"            var layout = {};",
"            var config = {};",
"            Plotly.newPlot(\u0027da72059b-899f-48bd-8701-3b96064933d9\u0027, data, layout, config);",
"});",
"            };",
"            if ((typeof(requirejs) !==  typeof(Function)) || (typeof(requirejs.config) !== typeof(Function))) {",
"                var script = document.createElement(\"script\");",
"                script.setAttribute(\"src\", \"https://cdnjs.cloudflare.com/ajax/libs/require.js/2.3.6/require.min.js\");",
"                script.onload = function(){",
"                    renderPlotly_da72059b899f48bd87013b96064933d9();",
"                };",
"                document.getElementsByTagName(\"head\")[0].appendChild(script);",
"            }",
"            else {",
"                renderPlotly_da72059b899f48bd87013b96064933d9();",
"            }",
"\u003c/script\u003e",
""]
        },
           "execution_count": 3,
           "metadata": {},
           "output_type": "execute_result"
          }], 
           "source": ["// Code-Block 2\n",
"\n",
"let ms2Chart = Chart.Column(ms2.Mass, ms2.Intensity)\n"]
          }
,
          {
           "cell_type": "markdown",
           "metadata": {},
           
           "source": ["Now, we will preprocess the experimental spectrum from our example. This is on the one hand to reduce noise, but also to make \n",
"the measured spectrum more like the once we are able to simulate. \n",
"\n"]
          }
,
          {
           "cell_type": "code",
           "metadata": {},
            "execution_count": 5, "outputs": [
          {
           "data": {
            "text/plain": ["No value returned by any evaluator"]
        },
           "execution_count": 5,
           "metadata": {},
           "output_type": "execute_result"
          }], 
           "source": ["// Code-Block 3\n",
"\n",
"let lowerScanLimit = 150.\n",
"let upperScanLimit = 1000.\n",
"\n",
"let preprocessedIntesities =\n",
"    Mz.PeakArray.zip ms2.Mass ms2.Intensity\n",
"    |\u003e (fun pa -\u003e Mz.PeakArray.peaksToNearestUnitDaltonBinVector pa lowerScanLimit upperScanLimit)\n",
"    |\u003e (fun pa -\u003e Mz.SequestLike.windowNormalizeIntensities pa 10)\n",
"    \n",
"let intensityChart = Chart.Column([lowerScanLimit .. upperScanLimit], preprocessedIntesities)\n"]
          }
,
          {
           "cell_type": "markdown",
           "metadata": {},
           
           "source": ["### Step 2: Preselecting the peptides of interest\n",
"\u003ca href=\"#Peptide-Identification\" style=\"display: inline-block\"\u003e\u003csup\u003e\u0026#8593;back\u003c/sup\u003e\u003c/a\u003e\u003cbr\u003e\n",
"\u003ca href=\"#Peptide-Identification\" style=\"display: inline-block\"\u003e\u003csup\u003e\u0026#8593;back\u003c/sup\u003e\u003c/a\u003e\u003cbr\u003e\n",
"\n",
"\u003cdiv class=\"container\"\u003e\n",
"\u003cdiv class=\"container\"\u003e\n",
"Every MS\u003csup\u003e2\u003c/sup\u003e spectrum is accompanied by a m/z ratio reported by the instrument. Additionally, we can estimate the charge looking \n",
"at the isotopic cluster. We take the peptide \"DTDILAAFR\" from our previous notebook again. Our example has a measured m/z = 511.2691141 and \n",
"a charge of z=2.\n",
"\u003c/div\u003e\n",
"\n"]
          }
,
          {
           "cell_type": "code",
           "metadata": {},
            "execution_count": 7, "outputs": [
          {
           "data": {
            "text/plain": ["1020.523675"]
        },
           "execution_count": 7,
           "metadata": {},
           "output_type": "execute_result"
          }], 
           "source": ["let peptideMass = \n",
"    Mass.ofMZ 511.2691141 2.\n",
"\n",
"peptideMass\n"]
          }
,
          {
           "cell_type": "markdown",
           "metadata": {},
           
           "source": ["From our previos notebook \u003ca href=\"JP04_Digestion_and_mass_calculation.ipynb\"\u003eJP04 Digestion and mass calculation\u003c/a\u003e, we know how to \n",
"calculate all peptide masses that we can expect to be present in \u003ci\u003eChlamydomonas reinhardtii\u003c/i\u003e.\n",
"\n"]
          }
,
          {
           "cell_type": "code",
           "metadata": {},
            "execution_count": 8, "outputs": [
          {
           "data": {
            "text/plain": ["([Asp; Leu; His; Pro; Leu; Leu; Thr; Ser; Leu; Pro; Thr; Lys; Pro; Gly; Ser; Ala;",
"  Ala; Thr; Pro; Tyr; Thr; Thr; Thr; Gln; Ser; Pro; Pro; Ser; Thr; Thr; Leu; Ser;",
"  Ter], 3279.687453)"]
        },
           "execution_count": 8,
           "metadata": {},
           "output_type": "execute_result"
          }], 
           "source": ["// Code-Block 4\n",
"\n",
"let source = __SOURCE_DIRECTORY__\n",
"let filePath = source + @\"/../AuxFiles/Chlamy_JGI5_5(Cp_Mp).fasta\"\n",
"\n",
"let peptideAndMasses = \n",
"    filePath\n",
"    |\u003e IO.FastA.fromFile BioArray.ofAminoAcidString\n",
"    |\u003e Seq.toArray\n",
"    |\u003e Array.mapi (fun i fastAItem -\u003e\n",
"        Digestion.BioArray.digest Digestion.Table.Trypsin i fastAItem.Sequence\n",
"        |\u003e Digestion.BioArray.concernMissCleavages 0 0\n",
"        )\n",
"    |\u003e Array.concat\n",
"    |\u003e Array.map (fun peptide -\u003e\n",
"        // calculate mass for each peptide\n",
"        peptide.PepSequence, BioSeq.toMonoisotopicMassWith (BioItem.monoisoMass ModificationInfo.Table.H2O) peptide.PepSequence\n",
"        )\n",
"\n",
"peptideAndMasses |\u003e Array.head\n"]
          }
,
          {
           "cell_type": "markdown",
           "metadata": {},
           
           "source": ["However, we are only interest in possible amino acid sequences, that match the particular precursor peptide mass of our example spectrum \n",
"with 1020.523675 Da. Additionaly, we should also consider a small measurement error.\n",
"\n"]
          }
,
          {
           "cell_type": "code",
           "metadata": {},
            "execution_count": 9, "outputs": [
          {
           "data": {
            "text/plain": ["[|([Leu; Ser; Ser; Glu; Val; Pro; Phe; Ser; Arg], 1020.52401);",
"  ([Leu; Ser; Ser; Glu; Val; Pro; Phe; Ser; Arg], 1020.52401);",
"  ([Ala; Ala; Thr; Thr; Ala; Thr; Met; Leu; Asn; Lys], 1020.527381);",
"  ([Leu; Gly; Ala; Leu; Glu; Ala; Glu; Tyr; Arg], 1020.52401);",
"  ([Ser; Leu; Ile; Gly; Asp; Asp; Phe; Val; Arg], 1020.52401);",
"  ([Gly; Glu; Glu; Leu; Leu; Ser; Ala; Phe; Arg], 1020.52401);",
"  ([Thr; Thr; Pro; Tyr; Gly; Val; Val; Glu; Arg], 1020.52401);",
"  ([Val; Asp; Phe; Thr; Asn; Ala; Asn; Leu; Lys], 1020.52401);",
"  ([Leu; Tyr; Ala; Ala; Asp; Gly; Asn; Ala; Val; Lys], 1020.52401);",
"  ([Asp; Val; Leu; Thr; Trp; Tyr; Pro; Lys], 1020.528032);",
"  ([Glu; Tyr; Gln; Ala; Glu; Leu; Leu; Arg], 1020.52401);",
"  ([Phe; Ala; Gln; Gly; Ala; Asp; Ala; Thr; Ile; Lys], 1020.52401);",
"  ([Asp; Phe; Val; Glu; Val; Val; Ser; Ala; Arg], 1020.52401);",
"  ([Gln; Asn; Ile; Phe; Pro; Thr; Ser; Ser; Lys], 1020.52401);",
"  ([Ala; Val; Gln; Leu; Tyr; Asp; Gln; Gly; Lys], 1020.52401);",
"  ([Val; Val; Asp; Leu; Ser; Ala; Asp; Phe; Arg], 1020.52401);",
"  ([Gly; Ser; Thr; Tyr; Gly; Gln; Pro; Ala; Leu; Lys], 1020.52401);",
"  ([Asn; Tyr; Val; Glu; Asp; Leu; Leu; Arg], 1020.52401);",
"  ([Ala; Glu; Ala; Val; Glu; Thr; Phe; Val; Arg], 1020.52401);",
"  ([Val; Ser; Thr; Met; Asp; Thr; Leu; Val; Arg], 1020.527381);",
"  ([Ser; Ala; Ser; Pro; Pro; Pro; Pro; Gly; Pro; Ser; Lys], 1020.52401);",
"  ([Ser; Ala; Ser; Pro; Pro; Pro; Pro; Gly; Pro; Ser; Lys], 1020.52401);",
"  ([Ser; Ala; Ser; Pro; Pro; Pro; Pro; Gly; Pro; Ser; Lys], 1020.52401);",
"  ([Trp; Leu; Ala; Ser; Val; Ile; Phe; Glu; Gly; Ter], 1020.528032);",
"  ([Trp; Pro; Gly; Val; Ala; Ala; His; Gln; Arg], 1020.525347);",
"  ([Ala; Asp; Leu; Asp; Gly; Val; Leu; Tyr; Arg], 1020.52401);",
"  ([Val; Ile; Gly; Cys; Thr; Thr; Thr; Gly; Ala; Ala; Lys], 1020.527381);",
"  ([Val; Ile; Gly; Cys; Thr; Thr; Thr; Gly; Ala; Ala; Lys], 1020.527381);",
"  ([Phe; Leu; Asp; Ala; Gly; Leu; Glu; Thr; Arg], 1020.52401);",
"  ([Phe; Val; Thr; Leu; Ala; Glu; Gly; Glu; Arg], 1020.52401);",
"  ([Ala; Tyr; Gln; Gly; Ala; Glu; Ala; Ala; Leu; Lys], 1020.52401);",
"  ([Asp; Val; Leu; Asp; Trp; Phe; Val; Lys], 1020.528032);",
"  ([Leu; Glu; Gly; Tyr; Val; Glu; Gly; Val; Arg], 1020.52401);",
"  ([Gln; Ile; Ile; Thr; Phe; Glu; Asp; Arg], 1020.52401);",
"  ([Asp; Thr; Asp; Ile; Leu; Ala; Ala; Phe; Arg], 1020.52401)|]"]
        },
           "execution_count": 9,
           "metadata": {},
           "output_type": "execute_result"
          }], 
           "source": ["// Code-Block 5\n",
"\n",
"peptideAndMasses\n",
"|\u003e Array.filter (fun (sequence,mass) -\u003e mass \u003e 1020.52  \u0026\u0026 mass \u003c 1020.53)\n"]
          }
,
          {
           "cell_type": "markdown",
           "metadata": {},
           
           "source": ["In the previous notebook \u003ca href=\"JP09_Fragmentation_for_peptide_identification.ipynb\"\u003eFragmentation for peptide identification\u003c/a\u003e, \n",
"we used functions that generate the theoretical series of b- and y-ions from the given peptide. Combined with the function \n",
"\u003ccode\u003eMz.SequestLike.predictOf\u003c/code\u003e that generates theoretical spectra that fit the Sequest scoring algorithm.\n",
"\n"]
          }
,
          {
           "cell_type": "code",
           "metadata": {},
            "execution_count": 10, "outputs": [], 
           "source": ["// Code-Block 6\n",
"\n",
"let predictFromSequence peptide =\n",
"    [\n",
"        peptide\n",
"        |\u003e Mz.Fragmentation.Series. yOfBioList BioItem.initMonoisoMassWithMemP\n",
"        peptide\n",
"        |\u003e Mz.Fragmentation.Series.bOfBioList BioItem.initMonoisoMassWithMemP\n",
"    ]\n",
"    |\u003e List.concat\n",
"    |\u003e Mz.SequestLike.predictOf (lowerScanLimit,upperScanLimit) 2.\n",
"\n",
"predictFromSequence\n"]
          }
,
          {
           "cell_type": "markdown",
           "metadata": {},
           
           "source": ["### Step 3+4: Matching and Scoring\n",
"\u003ca href=\"#Peptide-Identification\" style=\"display: inline-block\"\u003e\u003csup\u003e\u0026#8593;back\u003c/sup\u003e\u003c/a\u003e\u003cbr\u003e\n",
"\u003ca href=\"#Peptide-Identification\" style=\"display: inline-block\"\u003e\u003csup\u003e\u0026#8593;back\u003c/sup\u003e\u003c/a\u003e\u003cbr\u003e\n",
"\n",
"In the matching step, we compare theoretical spectra of peptides within our precursor peptide mass range with our measured spectra. \n",
"We get a score which tells us how well the theoretical spectrum fits the given experimental spectrum.\n",
"\n"]
          }
,
          {
           "cell_type": "code",
           "metadata": {},
            "execution_count": 11, "outputs": [
          {
           "data": {
            "text/plain": ["No value returned by any evaluator"]
        },
           "execution_count": 11,
           "metadata": {},
           "output_type": "execute_result"
          }], 
           "source": ["// Code-Block 7\n",
"\n",
"peptideAndMasses\n",
"|\u003e Array.filter (fun (sequence,mass) -\u003e\n",
"    mass \u003e 1020.52  \u0026\u0026 mass \u003c 1020.53\n",
")\n",
"|\u003e Array.map (fun (sequence,mass)    -\u003e\n",
"    sequence,predictFromSequence sequence\n",
")\n",
"|\u003e Array.map (fun (sequence,theoSpectrum) -\u003e \n",
"    sequence,Mz.SequestLike.scoreSingle theoSpectrum preprocessedIntesities\n",
")\n",
"|\u003e Array.sortByDescending (fun (sequence,score) -\u003e score)\n"]
          }
,
          {
           "cell_type": "markdown",
           "metadata": {},
           
           "source": ["Finaly, we pick the sequence with the best score and are done for now. Notice however, that in a real world we would need to \n",
"relate our score to the complete data set to get an idea of the overall quality and which numerical value we could trust. \n",
"\n",
"\u003chr\u003e\n",
"\u003chr\u003e\n",
"\u003cnav class=\"level is-mobile\"\u003e\n",
"    \u003cdiv class=\"level-left\"\u003e\n",
"        \u003cdiv class=\"level-item\"\u003e\n",
"            \u003cbutton class=\"button is-primary is-outlined\" onclick=\"location.href=\u0027/JP09_Fragmentation_for_peptide_identification.html\u0027;\"\u003e\u0026#171; JP09\u003c/button\u003e\n",
"        \u003c/div\u003e\n",
"    \u003c/div\u003e\n",
"    \u003cdiv class=\"level-right\"\u003e\n",
"        \u003cdiv class=\"level-item\"\u003e\n",
"            \u003cbutton class=\"button is-primary is-outlined\" onclick=\"location.href=\u0027/JP11_Quantification.html\u0027;\"\u003eJP11 \u0026#187;\u003c/button\u003e\n",
"        \u003c/div\u003e\n",
"    \u003c/div\u003e\n",
"\u003c/nav\u003e\n",
"\n"]
          }],
            "metadata": {
            "kernelspec": {"display_name": ".NET (F#)", "language": "F#", "name": ".net-fsharp"},
            "langauge_info": {
        "file_extension": ".fs",
        "mimetype": "text/x-fsharp",
        "name": "C#",
        "pygments_lexer": "fsharp",
        "version": "4.5"
        }
        },
            "nbformat": 4,
            "nbformat_minor": 1
        }
        

