
        {
            "cells": [
          {
           "cell_type": "code",
           "metadata": {},
            "execution_count": 1, "outputs": [], 
           "source": ["#r \"nuget: FSharp.Stats, 0.4.0\"\n",
"#r \"nuget: BioFSharp, 2.0.0-beta5\"\n",
"#r \"nuget: BioFSharp.IO, 2.0.0-beta5\"\n",
"#r \"nuget: Plotly.NET, 2.0.0-beta6\"\n",
"#r \"nuget: BIO-BTE-06-L-7_Aux, 0.0.5\"\n",
"#r \"nuget: Deedle, 2.3.0\"\n",
"#r \"nuget: ISADotNet, 0.2.3\"\n",
"#r \"nuget: ISADotNet.XLSX, 0.2.3\"\n",
"\n",
"#r \"nuget: Plotly.NET, 2.0.0-beta6\"\n",
"#r \"nuget: Plotly.NET.Interactive, 2.0.0-beta6\"\n",
"\n",
"open System.IO\n",
"open ISADotNet\n",
"open ISADotNet.API\n",
"open Deedle\n",
"open BioFSharp\n",
"open FSharpAux\n",
"open FSharp.Stats\n",
"open Plotly.NET\n",
"open FSharp.Stats.Fitting.LinearRegression.OrdinaryLeastSquares.Linear\n",
"open System.IO\n",
"open BIO_BTE_06_L_7_Aux.FS3_Aux\n",
"\n",
"let getRecordFieldAndTypes t =     \n",
"    Microsoft.FSharp.Reflection.FSharpType.GetRecordFields t\n",
"    |\u003e Array.map (fun x -\u003e \n",
"            {|Name=x.Name;Type=x.PropertyType;GetValue=x.GetValue|}\n",
"            )\n",
"\n",
"\n",
"let formatAsTable (frame:Frame\u003c\u0027a,\u0027b\u003e) =\n",
"    let kToString k = \n",
"        let t = k.GetType()\n",
"        if FSharp.Reflection.FSharpType.IsRecord t then \n",
"            let sb = new System.Text.StringBuilder()\n",
"            let t = getRecordFieldAndTypes t\n",
"            t\n",
"            |\u003e Array.fold (fun (sb:System.Text.StringBuilder) field -\u003e \n",
"                // sb.AppendLine(\"asd\")\n",
"                sb.Append(sprintf \"%s: %A;\u003cbr\u003e\" field.Name (k |\u003e box |\u003e field.GetValue) )\n",
"                ) sb\n",
"            |\u003e fun x -\u003e x.ToString()\n",
"        else\n",
"            k.ToString()\n",
"    \n",
"    let f =\n",
"        frame\n",
"        |\u003e Frame.mapValues string\n",
"        |\u003e Frame.mapColKeys kToString\n",
"        |\u003e Frame.mapRowKeys kToString\n",
"    let maxColsIdx = f.ColumnCount \n",
"    let maxRowIdx = f.RowCount\n",
"    let header = \n",
"        f.ColumnKeys \n",
"        |\u003e Seq.take maxColsIdx\n",
"        |\u003e Seq.append [\"RowKey\"]\n",
"    let f\u0027 =\n",
"        f\n",
"        |\u003e Frame.sliceCols header\n",
"        |\u003e fun f\u0027 -\u003e \n",
"            if f\u0027.ColumnCount \u003c f.ColumnCount then \n",
"                f\u0027\n",
"                |\u003e Frame.addCol \"...\" (f\u0027.RowKeys |\u003e Seq.map (fun ck -\u003e ck,\"...\") |\u003e Series.ofObservations)\n",
"            else \n",
"                f\u0027\n",
"    let columnWidth =\n",
"        let headerLength = \n",
"            header\n",
"            |\u003e Seq.map (fun (x:string) -\u003e (x.Length*10) + 10)\n",
"        let colLenght    =\n",
"            f\u0027\n",
"            |\u003e Frame.getCols \n",
"            |\u003e Series.values\n",
"            |\u003e Seq.map (fun s -\u003e\n",
"                s\n",
"                |\u003e Series.fillMissingWith \"null\"\n",
"                |\u003e Series.values\n",
"                |\u003e Seq.map (string \u003e\u003e String.length \u003e\u003e float) \n",
"                |\u003e Seq.average \n",
"                |\u003e int\n",
"                )\n",
"        let rowKeyLength =\n",
"            f\u0027\n",
"            |\u003e Frame.getRows\n",
"            |\u003e Series.observations\n",
"            |\u003e Seq.map (fun (k,v) -\u003e k)\n",
"            |\u003e Seq.map (string \u003e\u003e String.length \u003e\u003e float) \n",
"            |\u003e Seq.average \n",
"            |\u003e int\n",
"        Seq.map2 (fun (x:int) (y:int) -\u003e System.Math.Min(250,(System.Math.Max(x,y)))) headerLength (Seq.append [rowKeyLength] colLenght)\n",
"    let rows = \n",
"        f\u0027    \n",
"        |\u003e Frame.mapRows (fun k s -\u003e \n",
"            s.As\u003cstring\u003e() \n",
"            |\u003e Series.values \n",
"            |\u003e Seq.append [k])\n",
"        |\u003e Series.values\n",
"        |\u003e Seq.take maxRowIdx\n",
"    Chart.Table(\n",
"        header,\n",
"        rows,\n",
"        AlignHeader = [StyleParam.HorizontalAlign.Left],\n",
"        AlignCells  = [StyleParam.HorizontalAlign.Left],\n",
"        ColorHeader = \"#45546a\",    \n",
"        ColorCells  = (header |\u003e Seq.mapi (fun i x -\u003e if i%2 = 0 then  \"#deebf7\" else \"lightgrey\")),\n",
"        FontHeader  = Font.init(StyleParam.FontFamily.Courier_New, Size=12, Color=\"white\"),      \n",
"        HeightHeader= 30.,\n",
"        LineHeader  = Line.init(2.,\"black\"),                 \n",
"        ColumnWidth = columnWidth , \n",
"        HeightCells= 125.    \n",
"        )\n",
"    |\u003e Chart.withSize((columnWidth |\u003e Seq.sum |\u003e float |\u003e (*) 2.),500.)\n",
"\n",
"//Todo:\n",
"// 1. formatAsTable in repo\n",
"// 2. sample sheet umbenennen.\n"]
          }
,
          {
           "cell_type": "markdown",
           "metadata": {},
           
           "source": ["# NB06a Data Access and Quality Control\n",
"\n",
"[![Binder](https://mybinder.org/badge_logo.svg)](https://mybinder.org/v2/gh/CSBiology/BIO-BTE-06-L-7/gh-pages?filepath=NB06a_Data_Access_And_Quality_Control.ipynb)\n",
"\n",
"\n",
"For the explorative data analysis, we are using \n",
"[Deedle](http://bluemountaincapital.github.io/Deedle/tutorial.html).\n",
"Deedle is an easy to use library for data and time series manipulation and for scientific programming. \n",
"It supports working with structured data frames, ordered and unordered data, as well as time series. Deedle is designed to work well for exploratory programming using F#.\n",
"\n",
"## Reading the sample description\n",
"\n",
"Before we analyze our data, we will download and read the sample description provided by the experimentalist.\n",
"\n"]
          }
,
          {
           "cell_type": "code",
           "metadata": {},
            "execution_count": 2, "outputs": [], 
           "source": ["let directory = __SOURCE_DIRECTORY__\n",
"let path2 = Path.Combine[|directory;\"downloads/alle_Gruppen_V7_SWATE.xlsx\"|]\n",
"downloadFile path2 \"alle_Gruppen_V7_SWATE.xlsx\" \"bio-bte-06-l-7\"\n",
"\n",
"let _,_,_,myAssayFile = XLSX.AssayFile.AssayFile.fromFile path2\n",
"let inOutMap = BIO_BTE_06_L_7_Aux.ISA_Aux.createInOutMap myAssayFile\n"]
          }
,
          {
           "cell_type": "markdown",
           "metadata": {},
           
           "source": ["Next, we will prepare functions that given a file name look up parameters which might be needed for further calculations. \n",
"\n"]
          }
,
          {
           "cell_type": "code",
           "metadata": {},
            "execution_count": 3, "outputs": [], 
           "source": ["let normalizeFileName (f:string) = if Path.HasExtension f then f else Path.ChangeExtension(f, \"wiff\")\n",
"\n",
"//        \n",
"let getStrain (fileName:string) =\n",
"    let fN = fileName |\u003e normalizeFileName\n",
"    BIO_BTE_06_L_7_Aux.ISA_Aux.tryGetCharacteristic inOutMap \"Cultivation -Sample preparation\" \"strain\" fN myAssayFile\n",
"    |\u003e Option.defaultValue \"\"\n",
"\n",
"//\n",
"let getExpressionLevel (fileName:string) =\n",
"    let fN = fileName |\u003e normalizeFileName \n",
"    BIO_BTE_06_L_7_Aux.ISA_Aux.tryGetCharacteristic inOutMap \"Cultivation -Sample preparation\" \"gene expression\" fN myAssayFile \n",
"    |\u003e Option.defaultValue \"Wt-Like\"\n",
"\n",
"//  \n",
"let get15N_CBC_Amount (fileName:string) =\n",
"    let fN = fileName |\u003e normalizeFileName\n",
"    BIO_BTE_06_L_7_Aux.ISA_Aux.tryGetCharacteristic inOutMap \"Extraction\" \"gram\" fN myAssayFile |\u003e Option.defaultValue \"\"\n",
"    |\u003e String.split \u0027 \u0027\n",
"    |\u003e Array.head\n",
"    |\u003e float \n",
"//\n",
"let get15N_PS_Amount (fileName:string) =\n",
"    let fN = fileName |\u003e normalizeFileName\n",
"    BIO_BTE_06_L_7_Aux.ISA_Aux.tryGetCharacteristic inOutMap \"Extraction\" \"gram #2\" fN myAssayFile |\u003e Option.defaultValue \"\"\n",
"    |\u003e String.split \u0027 \u0027\n",
"    |\u003e Array.head\n",
"    |\u003e float \n",
"//\n",
"let getGroupID (fileName:string) =\n",
"    let fN = fileName |\u003e normalizeFileName\n",
"    BIO_BTE_06_L_7_Aux.ISA_Aux.tryGetParameter inOutMap \"Extraction\" \"Group name\" fN myAssayFile |\u003e Option.defaultValue \"\"\n",
"    |\u003e int    \n"]
          }
,
          {
           "cell_type": "markdown",
           "metadata": {},
           
           "source": ["A quick execution to assure that all values can be retrieved from the isa sample table:\n",
"\n"]
          }
,
          {
           "cell_type": "code",
           "metadata": {},
            "execution_count": 4, "outputs": [], 
           "source": ["getStrain \"WCGr2_U1.wiff\"\n",
"getExpressionLevel \"WCGr2_U1.wiff\"\n",
"get15N_CBC_Amount \"WCGr2_U1.wiff\"\n",
"get15N_PS_Amount \"WCGr2_U1.wiff\"\n",
"getGroupID \"WCGr2_U1.wiff\"\n"]
          }
,
          {
           "cell_type": "markdown",
           "metadata": {},
           
           "source": ["Now that we have the sample sheet, all that is missing is the data to be analyzed:\n",
"\n"]
          }
,
          {
           "cell_type": "code",
           "metadata": {},
            "execution_count": 5, "outputs": [], 
           "source": ["let path = Path.Combine[|directory;\"downloads/Quantifications_wc.txt\"|]\n",
"downloadFile path \"Quantifications_wc.txt\" \"bio-bte-06-l-7\"\n"]
          }
,
          {
           "cell_type": "markdown",
           "metadata": {},
           
           "source": ["## Raw data access using Deedle:\n",
"As teasered in the primer, we want to work with our tabular data using Deedle. Luckily Deedle does nonly deliver data frame and series\n",
"manipulation, but also allows us to quickly read the recently downloaded data into the memory:\n",
"\n"]
          }
,
          {
           "cell_type": "code",
           "metadata": {},
            "execution_count": 6, "outputs": [], 
           "source": ["let rawData = Frame.ReadCsv(path,separators=\"\\t\")\n"]
          }
,
          {
           "cell_type": "markdown",
           "metadata": {},
           
           "source": ["To visualize the data we can call the \"formatAsTable\" function. The preview of visual studio code does not allow\n",
"for the charts to be scrollable so feel free to pipe the output into \"Chart.Show\", to visualize the data in your browser.\n",
"\n"]
          }
,
          {
           "cell_type": "code",
           "metadata": {},
            "execution_count": null, "outputs": [], 
           "source": ["rawData\n",
"|\u003e Frame.take 10\n",
"|\u003e formatAsTable \n",
"|\u003e Chart.Show\n"]
          }
,
          {
           "cell_type": "markdown",
           "metadata": {},
           
           "source": ["Looking at the raw data, we can see that each row contains a different quantifiction of a peptide ion, with the columns containing \n",
"a single ion feature each, such as peptide ion charge, sequence or a quantification value reported for a file (e.g. light, heavy or ratio).\n",
"Since the columns ProteinGroup, StringSequence, PepSequenceID and Charge uniquely identify a row, we can use these to index the rows.\n",
"For this we use a language feature called [\"anonymous record type\"](https://docs.microsoft.com/en-us/dotnet/fsharp/language-reference/anonymous-records). Here we create a tuple like structure, with the additional feature\n",
"that each element of the tuple is named (e.g.: Proteingroup).\n",
"\n"]
          }
,
          {
           "cell_type": "code",
           "metadata": {},
            "execution_count": 7, "outputs": [], 
           "source": ["let indexedData =\n",
"    rawData\n",
"    // StringSequence is the peptide sequence\n",
"    |\u003e Frame.indexRowsUsing (fun os -\u003e \n",
"            {|\n",
"                ProteinGroup=os.GetAs\u003cstring\u003e(\"ProteinGroup\"); \n",
"                StringSequence=os.GetAs\u003cstring\u003e(\"StringSequence\");\n",
"                PepSequenceID=os.GetAs\u003cint\u003e(\"PepSequenceID\");\n",
"                Charge=os.GetAs\u003cint\u003e(\"Charge\")\n",
"            |}\n",
"        )\n",
"    |\u003e Frame.dropCol \"ProteinGroup\"\n",
"    |\u003e Frame.dropCol \"StringSequence\"\n",
"    |\u003e Frame.dropCol \"PepSequenceID\"\n",
"    |\u003e Frame.dropCol \"Charge\"\n"]
          }
,
          {
           "cell_type": "code",
           "metadata": {},
            "execution_count": null, "outputs": [], 
           "source": ["// The effect of our frame manipulation can be observed:\n",
"indexedData\n",
"// |\u003e Frame.take 10\n",
"|\u003e formatAsTable \n",
"|\u003e Chart.Show\n"]
          }
,
          {
           "cell_type": "markdown",
           "metadata": {},
           
           "source": ["## Augmenting and filtering the data frame \n",
"The data frame already contains all information needed to perform the analysis, but it could still benefit from \n",
"some quality-of-life upgrades. For this we want to map the Cre-numbers to human readable synonyms.\n",
"\n"]
          }
,
          {
           "cell_type": "code",
           "metadata": {},
            "execution_count": 8, "outputs": [], 
           "source": ["let pathSyn = Path.Combine[|directory;\"downloads/CreToSynonym.txt\"|]\n",
"downloadFile pathSyn \"CreToSynonym.txt\" \"bio-bte-06-l-7\"\n",
"\n",
"let creToSynonym = \n",
"    Frame.ReadCsv(pathSyn,separators=\"\\t\")\n",
"    |\u003e Frame.indexRowsString \"Identifier\"\n",
"    |\u003e Frame.getCol \"Synonym\"\n",
"    |\u003e Series.mapValues string\n",
"\n",
"let withSynonyms = \n",
"    indexedData\n",
"    |\u003e Frame.mapRowKeys (fun k -\u003e\n",
"        let synonyms =\n",
"            k.ProteinGroup\n",
"            |\u003e String.split \u0027;\u0027\n",
"            |\u003e Array.map (fun cre -\u003e \n",
"                let cre\u0027 = cre.Split(\u0027.\u0027).[0..1] |\u003e String.concat \".\"\n",
"                match creToSynonym |\u003e Series.tryGet cre\u0027 with \n",
"                | Some syn -\u003e syn\n",
"                | None -\u003e \"\"\n",
"                )\n",
"            |\u003e Array.filter (fun x -\u003eString.isNullOrEmpty x |\u003e not)\n",
"            |\u003e String.concat \";\"\n",
"        {|k with Synonyms=synonyms|}\n",
"        )\n"]
          }
,
          {
           "cell_type": "code",
           "metadata": {},
            "execution_count": null, "outputs": [], 
           "source": ["withSynonyms\n",
"|\u003e Frame.take 10\n",
"|\u003e formatAsTable \n",
"|\u003e Chart.Show\n",
"\n",
"type Qprot = \n",
"    | CBB\n",
"    | PS\n"]
          }
,
          {
           "cell_type": "markdown",
           "metadata": {},
           
           "source": ["Subsequently and finally, we will also encode the specific qConcat protein as a separate feature:\n",
"\n"]
          }
,
          {
           "cell_type": "code",
           "metadata": {},
            "execution_count": 9, "outputs": [], 
           "source": ["let final = \n",
"    withSynonyms\n",
"    |\u003e Frame.mapRowKeys (fun k -\u003e\n",
"        let qprot = \n",
"            match k.ProteinGroup |\u003e String.contains \"QProt_newCBB\", k.ProteinGroup |\u003e String.contains \"QProt_newPS\" with \n",
"            | true, false  -\u003e Some CBB\n",
"            | false, true  -\u003e Some PS \n",
"            | _ -\u003e None  \n",
"        {|k with QProt = qprot|}\n",
"        )\n",
"    // What does this line filter for? Why does this make sense for our analysis?\n",
"    |\u003e Frame.filterRows (fun k s -\u003e k.QProt.IsSome)\n",
"    |\u003e Frame.mapRowKeys (fun k -\u003e {|k with QProt = k.QProt.Value|})\n"]
          }
,
          {
           "cell_type": "code",
           "metadata": {},
            "execution_count": null, "outputs": [], 
           "source": ["final\n",
"|\u003e Frame.take 10\n",
"|\u003e formatAsTable \n",
"|\u003e Chart.Show\n",
"\n",
"// How many peptide ions did the filter remove? \n"]
          }
,
          {
           "cell_type": "markdown",
           "metadata": {},
           
           "source": ["## Global quality control.\n",
"\n",
"With our data frame prepared, we want to see on a global scale if our experiment worked.\n",
"For this we plot the overall mean of the 14N and 15N quantifications and observe if we can recover our dilution series (15N),\n",
"while keeping the analyte to be quantified at a constant level (14N).\n",
"\n",
"Since it comes in handy to simplify the data frame, in this code we will only keep columns that contain a specific identifier, \n",
"such as, \"Ratio\", \"Light\", or \"Heavy\".\n",
"\n"]
          }
,
          {
           "cell_type": "code",
           "metadata": {},
            "execution_count": 10, "outputs": [], 
           "source": ["let sliceQuantColumns quantColID frame = \n",
"    frame\n",
"    |\u003e Frame.filterCols (fun ck os -\u003e ck |\u003e String.contains (\".\"+quantColID))\n",
"    |\u003e Frame.mapColKeys (fun ck -\u003e ck.Split(\u0027.\u0027) |\u003e Array.item 0)\n",
"\n",
"let ratios = sliceQuantColumns \"Ratio\" final\n",
"let light  = sliceQuantColumns \"Light\" final\n",
"let heavy  = sliceQuantColumns \"Heavy\" final\n",
"\n",
"/// How did the data frame change, how did the column headers change?\n"]
          }
,
          {
           "cell_type": "code",
           "metadata": {},
            "execution_count": null, "outputs": [], 
           "source": ["ratios\n",
"|\u003e Frame.take 10\n",
"|\u003e formatAsTable \n",
"|\u003e Chart.Show\n",
"\n",
"/// This function will plot the distribution of column valuesusing boxplots. \n",
"let createBoxPlot f = \n",
"    f\n",
"    |\u003e Frame.getNumericCols\n",
"    |\u003e Series.map (fun k s -\u003e \n",
"         let x,y =\n",
"            s\n",
"            |\u003e Series.values \n",
"            |\u003e Seq.map (fun values -\u003e k,values)\n",
"            |\u003e Seq.unzip\n",
"         Chart.BoxPlot(x,y,Orientation=StyleParam.Orientation.Vertical)         \n",
"         )\n",
"    |\u003e Series.values\n",
"    |\u003e Chart.Combine\n",
"    |\u003e Chart.withY_AxisStyle \"Ion intensity\"\n"]
          }
,
          {
           "cell_type": "code",
           "metadata": {},
            "execution_count": 11, "outputs": [
          {
           "data": {
            "text/plain": ["No value returned by any evaluator"]
        },
           "execution_count": 11,
           "metadata": {},
           "output_type": "execute_result"
          }], 
           "source": ["// The function applied to the n14 values, what do you see?\n",
"\n",
"light\n",
"|\u003e createBoxPlot\n"]
          }
,
          {
           "cell_type": "code",
           "metadata": {},
            "execution_count": 13, "outputs": [
          {
           "data": {
            "text/plain": ["No value returned by any evaluator"]
        },
           "execution_count": 13,
           "metadata": {},
           "output_type": "execute_result"
          }], 
           "source": ["// The function applied to the n15 values, what do you see?\n",
"\n",
"heavy\n",
"|\u003e createBoxPlot\n"]
          }
,
          {
           "cell_type": "markdown",
           "metadata": {},
           
           "source": ["The following function performs a normalization which accounts for a specific effect. Can you \n",
"determine what the function accounts for?\n",
"\n"]
          }
,
          {
           "cell_type": "code",
           "metadata": {},
            "execution_count": 15, "outputs": [], 
           "source": ["let normalizePeptides f =\n",
"    f\n",
"    |\u003e Frame.transpose\n",
"    |\u003e Frame.getNumericCols\n",
"    |\u003e Series.mapValues (fun s -\u003e \n",
"        let m = Stats.median s\n",
"        s / m \n",
"        )\n",
"    |\u003e Frame.ofColumns\n",
"    |\u003e Frame.transpose\n"]
          }
,
          {
           "cell_type": "code",
           "metadata": {},
            "execution_count": 16, "outputs": [
          {
           "data": {
            "text/plain": ["No value returned by any evaluator"]
        },
           "execution_count": 16,
           "metadata": {},
           "output_type": "execute_result"
          }], 
           "source": ["// How does the distribution of the date change, when the normalization is applied? \n",
"light \n",
"|\u003e normalizePeptides\n",
"|\u003e createBoxPlot\n"]
          }
,
          {
           "cell_type": "code",
           "metadata": {},
            "execution_count": 18, "outputs": [
          {
           "data": {
            "text/plain": ["No value returned by any evaluator"]
        },
           "execution_count": 18,
           "metadata": {},
           "output_type": "execute_result"
          }], 
           "source": ["heavy\n",
"|\u003e normalizePeptides\n",
"|\u003e createBoxPlot \n"]
          }
,
          {
           "cell_type": "markdown",
           "metadata": {},
           
           "source": ["Finally we have a look at the ratios. Does it make sense to normalize the ratios the same way?\n",
"\n"]
          }
,
          {
           "cell_type": "code",
           "metadata": {},
            "execution_count": 20, "outputs": [], 
           "source": ["ratios\n",
"|\u003e createBoxPlot \n"]
          }
,
          {
           "cell_type": "code",
           "metadata": {},
            "execution_count": null, "outputs": [], 
           "source": ["ratios\n",
"|\u003e Frame.take 10\n",
"|\u003e formatAsTable \n",
"|\u003e Chart.Show\n"]
          }
,
          {
           "cell_type": "code",
           "metadata": {},
            "execution_count": null, "outputs": [], 
           "source": ["ratios\n",
"|\u003e Frame.transpose\n",
"|\u003e Frame.take 10\n",
"|\u003e formatAsTable \n",
"|\u003e Chart.Show\n"]
          }
,
          {
           "cell_type": "markdown",
           "metadata": {},
           
           "source": ["## V. Local quality control. \n",
"\n",
"Now that we know on a global scale how our experiment worked it might be time to have a look at the details.\n",
"First, we want to write a function that allows us to plot all peptides of a protein vs. the dilution used. This way we can identify peptides that\n",
"we want to use and those, that seem to be prone to error and should thus be discarded. \n",
"To keep things simple, we apply a filter step at the beginning, which only keeps peptides belonging to one protein and samples measured by one group\n",
"in the data frame. What are sources of error? Which peptides do you think should be discarded and why? Which proteins need to be analyzed with extra care?\n",
"\n"]
          }
,
          {
           "cell_type": "code",
           "metadata": {},
            "execution_count": 21, "outputs": [], 
           "source": ["let initGetQProtAmount qProt =\n",
"    match qProt with \n",
"    | CBB -\u003e get15N_CBC_Amount\n",
"    | PS  -\u003e get15N_PS_Amount\n",
"\n",
"let plotPeptidesOf (prot:string) (groupID:int) = \n",
"    ratios\n",
"    |\u003e Frame.filterRows (fun k s -\u003e k.Synonyms.Contains prot)\n",
"    |\u003e Frame.filterCols (fun k s -\u003e getGroupID k = groupID)    \n",
"    |\u003e Frame.transpose\n",
"    |\u003e Frame.getNumericCols\n",
"    |\u003e Series.map (fun pep (values) -\u003e \n",
"        let getQProtAmount = initGetQProtAmount pep.QProt\n",
"        let qprotAmounts,ratios,expressionLevel =\n",
"            values\n",
"            |\u003e Series.map (fun fileName (ratio) -\u003e \n",
"                    let qProtAmount =  getQProtAmount fileName\n",
"                    let expressionLevel = getExpressionLevel fileName\n",
"                    qProtAmount, ratio, expressionLevel         \n",
"                )\n",
"            |\u003e Series.values\n",
"            |\u003e Seq.unzip3\n",
"        Chart.Point(qprotAmounts,ratios,Labels=expressionLevel)\n",
"        |\u003e Chart.withTraceName (sprintf \"S:%s_C:%i\" pep.StringSequence pep.Charge)\n",
"        )\n",
"    |\u003e Series.values\n",
"    |\u003e Chart.Combine\n"]
          }
,
          {
           "cell_type": "markdown",
           "metadata": {},
           
           "source": ["First we get an overview of available protein ids.\n",
"\n"]
          }
,
          {
           "cell_type": "code",
           "metadata": {},
            "execution_count": 22, "outputs": [], 
           "source": ["ratios.RowKeys\n",
"|\u003e Array.ofSeq \n",
"|\u003e Array.map (fun k -\u003e k.Synonyms)\n",
"|\u003e Array.distinct\n"]
          }
,
          {
           "cell_type": "markdown",
           "metadata": {},
           
           "source": ["Then we can start to visualizes our results:\n",
"\n"]
          }
,
          {
           "cell_type": "code",
           "metadata": {},
            "execution_count": 23, "outputs": [
          {
           "data": {
            "text/plain": ["No value returned by any evaluator"]
        },
           "execution_count": 23,
           "metadata": {},
           "output_type": "execute_result"
          }], 
           "source": ["plotPeptidesOf \"rbcL\" 1\n"]
          }
,
          {
           "cell_type": "code",
           "metadata": {},
            "execution_count": 25, "outputs": [
          {
           "data": {
            "text/plain": ["No value returned by any evaluator"]
        },
           "execution_count": 25,
           "metadata": {},
           "output_type": "execute_result"
          }], 
           "source": ["plotPeptidesOf \"RBCS2;RBCS1\" 2\n"]
          }
,
          {
           "cell_type": "code",
           "metadata": {},
            "execution_count": 27, "outputs": [
          {
           "data": {
            "text/plain": ["No value returned by any evaluator"]
        },
           "execution_count": 27,
           "metadata": {},
           "output_type": "execute_result"
          }], 
           "source": ["plotPeptidesOf \"FBP1\" 2\n"]
          }
,
          {
           "cell_type": "code",
           "metadata": {},
            "execution_count": 29, "outputs": [
          {
           "data": {
            "text/plain": ["No value returned by any evaluator"]
        },
           "execution_count": 29,
           "metadata": {},
           "output_type": "execute_result"
          }], 
           "source": ["plotPeptidesOf \"FBP2\" 2\n"]
          }
,
          {
           "cell_type": "code",
           "metadata": {},
            "execution_count": 31, "outputs": [
          {
           "data": {
            "text/plain": ["No value returned by any evaluator"]
        },
           "execution_count": 31,
           "metadata": {},
           "output_type": "execute_result"
          }], 
           "source": ["plotPeptidesOf \"SEBP1\" 2\n"]
          }
,
          {
           "cell_type": "markdown",
           "metadata": {},
           
           "source": ["With the plots at hand we can manipulate the data frame and discard peptides and/or whole files which we do not want to use for \n",
"a absolute protein quantification e.g.:\n",
"\n"]
          }
,
          {
           "cell_type": "code",
           "metadata": {},
            "execution_count": 33, "outputs": [], 
           "source": ["let ratiosFiltered = \n",
"    ratios\n",
"    |\u003e Frame.filterCols (fun k s -\u003e get15N_CBC_Amount k \u003e 0.1 )\n"]
          }
,
          {
           "cell_type": "code",
           "metadata": {},
            "execution_count": null, "outputs": [], 
           "source": ["ratiosFiltered\n",
"|\u003e Frame.take 10\n",
"|\u003e formatAsTable \n",
"|\u003e Chart.Show\n"]
          }
,
          {
           "cell_type": "markdown",
           "metadata": {},
           
           "source": ["This file can then be saved and used for the next notebook, where we will have a look on the isotopic labeling efficiency and finally calculate absolute protein amounts.\n",
"\n"]
          }],
            "metadata": {
            "kernelspec": {"display_name": ".NET (F#)", "language": "F#", "name": ".net-fsharp"},
            "langauge_info": {
        "file_extension": ".fs",
        "mimetype": "text/x-fsharp",
        "name": "C#",
        "pygments_lexer": "fsharp",
        "version": "4.5"
        }
        },
            "nbformat": 4,
            "nbformat_minor": 1
        }
        

