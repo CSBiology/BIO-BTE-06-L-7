
        {
            "cells": [
          {
           "cell_type": "markdown",
           "metadata": {},
           
           "source": ["# NB06b Targeted quantification of photosynthetic proteins (SDS in gel digest)\n",
"\n",
"[![Binder](https://mybinder.org/badge_logo.svg)](https://mybinder.org/v2/gh/CSBiology/BIO-BTE-06-L-7/gh-pages?filepath=NB06b_Targeted_quantification_of_photosynthetic_proteins_SDS_IGD.ipynb)\n",
"\n",
"1. Relative Quantification between rbcL and rbcS\n",
"2. Compare 14N/15N for rbcL and rbcS\n",
"\n",
"\n"]
          }
,
          {
           "cell_type": "code",
           "metadata": {},
            "execution_count": 1, "outputs": [], 
           "source": ["#r \"nuget: FSharp.Stats, 0.4.0\"\n",
"#r \"nuget: BioFSharp, 2.0.0-beta5\"\n",
"#r \"nuget: BioFSharp.IO, 2.0.0-beta5\"\n",
"#r \"nuget: Plotly.NET, 2.0.0-beta6\"\n",
"#r \"nuget: BIO-BTE-06-L-7_Aux, 0.0.1\"\n",
"#r \"nuget: Deedle, 2.3.0\"\n",
"\n",
"#r \"nuget: Plotly.NET, 2.0.0-beta6\"\n",
"#r \"nuget: Plotly.NET.Interactive, 2.0.0-beta6\"\n",
"\n",
"open Deedle\n",
"open BioFSharp\n",
"open FSharpAux\n",
"open FSharp.Stats\n",
"open Plotly.NET\n",
"open FSharp.Stats.Fitting.LinearRegression.OrdinaryLeastSquares.Linear\n",
"open System.IO\n",
"open BIO_BTE_06_L_7_Aux.FS3_Aux\n"]
          }
,
          {
           "cell_type": "markdown",
           "metadata": {},
           
           "source": ["At start we have the output file of the QconQuantifier. We want to read the file, bind it to `qConcatRawData` \n",
"and group the rows by peptide sequence, modifcation (14N or 15N) and the charge state of the ion.\n",
"\n"]
          }
,
          {
           "cell_type": "code",
           "metadata": {},
            "execution_count": 2, "outputs": [
          {
           "data": {
            "text/plain": ["Deedle.Frame`2[System.Tuple`3[System.String,System.Boolean,System.Int32],System.String]"]
        },
           "execution_count": 2,
           "metadata": {},
           "output_type": "execute_result"
          }], 
           "source": ["// Code block 1\n",
"\n",
"let directory = __SOURCE_DIRECTORY__\n",
"let path = Path.Combine[|directory;\"downloads/Group2/G2_L_4A_20myg_QuantifiedPeptides.txt\"|]\n",
"downloadFile path \"G2_L_4A_20myg_QuantifiedPeptides.txt\" \"bio-bte-06-l-7/Group2\"\n",
"\n",
"let qConcatRawData =\n",
"    Frame.ReadCsv(path = path,separators=\"\\t\")\n",
"    // StringSequence is the peptide sequence\n",
"    |\u003e Frame.indexRowsUsing (fun os -\u003e \n",
"            os.GetAs\u003cstring\u003e(\"StringSequence\"),\n",
"            os.GetAs\u003cbool\u003e(\"GlobalMod\"), \n",
"            os.GetAs\u003cint\u003e(\"Charge\")\n",
"        )\n",
"        \n",
"qConcatRawData\n"]
          }
,
          {
           "cell_type": "markdown",
           "metadata": {},
           
           "source": ["From literature we know that there are peptides with a very bad flyability (Hammel et al.). Additionally, \n",
"there are extreme values only due to technical artifacts. Both should be avoided in further analysis:\n",
"\n"]
          }
,
          {
           "cell_type": "code",
           "metadata": {},
            "execution_count": 3, "outputs": [
          {
           "data": {
            "text/plain": ["Deedle.Frame`2[System.Tuple`3[System.String,System.Boolean,System.Int32],System.String]"]
        },
           "execution_count": 3,
           "metadata": {},
           "output_type": "execute_result"
          }], 
           "source": ["// Code block 2\n",
"\n",
"let qConcatData =\n",
"    qConcatRawData\n",
"    |\u003e Frame.filterRows ( fun (sequence, gmod, charge) _ -\u003e \n",
"        sequence \u003c\u003e \"EVTLGFVDLMR\" \u0026\u0026 sequence \u003c\u003e \"AFPDAYVR\" \n",
"        )\n",
"    |\u003e Frame.mapValues (fun x -\u003e  if x \u003c 2000000. \u0026\u0026 x \u003e 1. then x else nan)\n",
"    \n",
"qConcatData\n"]
          }
,
          {
           "cell_type": "markdown",
           "metadata": {},
           
           "source": ["Reading the sample description file provides us with a list of all measured files and additional information about \n",
"the experiment (mixing ratio, strain, etc.). Here you need to write ***YOUR*** filenames into the .txt file!\n",
"\n"]
          }
,
          {
           "cell_type": "code",
           "metadata": {},
            "execution_count": 4, "outputs": [
          {
           "data": {
            "text/plain": ["Deedle.Frame`2[System.String,System.String]"]
        },
           "execution_count": 4,
           "metadata": {},
           "output_type": "execute_result"
          }], 
           "source": ["// Code block 3\n",
"\n",
"let path2 = Path.Combine[|directory;\"downloads/Group2/IGD_SampleDesc.txt\"|]\n",
"downloadFile path2 \"IGD_SampleDesc.txt\" \"bio-bte-06-l-7/Group2\"\n",
"\n",
"//FileName CutOutBand Dilution Strain\n",
"let sampleDesc :Frame\u003cstring,string\u003e= \n",
"    Frame.ReadCsv(path = path2,separators=\"\\t\",schema=\"Strain=string\")\n",
"    |\u003e Frame.indexRows \"RawFileName\"\n",
"    \n",
"sampleDesc\n"]
          }
,
          {
           "cell_type": "markdown",
           "metadata": {},
           
           "source": ["We map the list of filenames and get the corresponding 14N and 15N column series. \n",
"This allows us to calculate the 14N/15N ratio per peptide ion per sample.\n",
"\n"]
          }
,
          {
           "cell_type": "code",
           "metadata": {},
            "execution_count": 5, "outputs": [
          {
           "data": {
            "text/plain": ["Deedle.Frame`2[System.Tuple`3[System.String,System.Boolean,System.Int32],System.String]"]
        },
           "execution_count": 5,
           "metadata": {},
           "output_type": "execute_result"
          }], 
           "source": ["// Code block 4\n",
"\n",
"let ionRatios = \n",
"    sampleDesc\n",
"    |\u003e Frame.mapRows (fun rawFileName _ -\u003e \n",
"        let n14 = \n",
"            qConcatData.GetColumn\u003cfloat\u003e(\"N14Quant_\" + rawFileName) \n",
"            |\u003e Series.filterValues (fun x -\u003e  x \u003c 2000000. \u0026\u0026 x \u003e 1. )\n",
"        let n15 = \n",
"            qConcatData.GetColumn\u003cfloat\u003e(\"N15Quant_\" + rawFileName) \n",
"            |\u003e Series.filterValues (fun x -\u003e  x \u003c 2000000. \u0026\u0026 x \u003e 1. )\n",
"        n14 / n15 \n",
"        )\n",
"    |\u003e Frame.ofColumns\n",
"\n",
"ionRatios\n"]
          }
,
          {
           "cell_type": "markdown",
           "metadata": {},
           
           "source": ["From our in silico protein digest during the design of the qConCat protein, we know the peptide(s) \u0026rarr; \n",
"protein relationship. We read this information from the \"PeptideProtMap.txt\" file.\n",
"\n"]
          }
,
          {
           "cell_type": "code",
           "metadata": {},
            "execution_count": 6, "outputs": [
          {
           "data": {
            "text/plain": ["Deedle.Frame`2[System.String,System.String]"]
        },
           "execution_count": 6,
           "metadata": {},
           "output_type": "execute_result"
          }], 
           "source": ["// Code block 5\n",
"\n",
"let path3 = Path.Combine[|directory;\"downloads/PeptideProtMap.txt\"|]\n",
"downloadFile path3 \"PeptideProtMap.txt\" \"bio-bte-06-l-7\"\n",
"\n",
"let peptideProtMapping =\n",
"    Frame.ReadCsv(path3,hasHeaders=true,separators=\"\\t\")\n",
"    |\u003e Frame.indexRowsString \"Peptide\"\n",
"    \n",
"peptideProtMapping\n"]
          }
,
          {
           "cell_type": "markdown",
           "metadata": {},
           
           "source": ["Next, we will aggregate the peptide ion ratios to obtain one ratio per peptide sequence despite the ion charge. For convenience, we join the protein names.\n",
"\n"]
          }
,
          {
           "cell_type": "code",
           "metadata": {},
            "execution_count": 7, "outputs": [
          {
           "data": {
            "text/plain": ["Deedle.Frame`2[System.Tuple`2[System.String,System.String],System.String]"]
        },
           "execution_count": 7,
           "metadata": {},
           "output_type": "execute_result"
          }], 
           "source": ["// Code block 6\n",
"\n",
"let peptideRatios = \n",
"    ionRatios\n",
"    |\u003e Frame.applyLevel (fun (sequence,globalMod,charge) -\u003e sequence) Stats.mean\n",
"    |\u003e Frame.join JoinKind.Inner peptideProtMapping \n",
"    |\u003e Frame.groupRowsByString \"Protein\"\n",
"    |\u003e Frame.getNumericCols\n",
"    |\u003e Frame.ofColumns\n",
"    \n",
"peptideRatios\n"]
          }
,
          {
           "cell_type": "markdown",
           "metadata": {},
           
           "source": ["Now, we join the sample description with the data. \n",
"\n"]
          }
,
          {
           "cell_type": "code",
           "metadata": {},
            "execution_count": 8, "outputs": [
          {
           "data": {
            "text/plain": ["Deedle.Frame`2[System.Tuple`2[System.String,System.String],System.Tuple`2[System.String,System.Tuple`2[System.String,System.Double]]]"]
        },
           "execution_count": 8,
           "metadata": {},
           "output_type": "execute_result"
          }], 
           "source": ["// Code block 7\n",
"\n",
"let peptideRatiosWithDesc : Frame\u003c(string * string),(string * (string * float))\u003e=\n",
"    peptideRatios\n",
"    |\u003e Frame.mapColKeys (fun rk -\u003e\n",
"        sampleDesc.GetColumn(\"CutOutBand\").[rk],\n",
"        (sampleDesc.GetColumn(\"Strain\").[rk],\n",
"         sampleDesc.GetColumn(\"Dilution\").[rk])\n",
"    )\n",
"    \n",
"peptideRatiosWithDesc\n"]
          }
,
          {
           "cell_type": "markdown",
           "metadata": {},
           
           "source": ["By calculating the mean value per protein, we have two final tables with peptide and protein ratios:\n",
"\n"]
          }
,
          {
           "cell_type": "code",
           "metadata": {},
            "execution_count": 9, "outputs": [], 
           "source": ["// Code block 8\n",
"\n",
"let proteinRatiosWithDesc =\n",
"    //peptideRatiosWithDesc\n",
"    peptideRatiosWithDesc\n",
"    |\u003e Frame.applyLevel fst Stats.mean\n",
"    \n",
"proteinRatiosWithDesc\n"]
          }
,
          {
           "cell_type": "markdown",
           "metadata": {},
           
           "source": ["Next we want to compare the quantities between the cut-out band for rbcL and the cut-out band for rbcS. \n",
"Therefore we divide the rbcL quantities from the rbcL cut-out by the rbcS quantities from the rbcS cut.out.\n",
"\n"]
          }
,
          {
           "cell_type": "code",
           "metadata": {},
            "execution_count": 10, "outputs": [
          {
           "data": {
            "text/plain": ["Deedle.Frame`2[System.Tuple`2[System.String,System.Double],System.String]"]
        },
           "execution_count": 10,
           "metadata": {},
           "output_type": "execute_result"
          }], 
           "source": ["// Code block 9\n",
"\n",
"let calcultateRelativeQuantForCutOutsProteins (prot1) (prot2) frame =\n",
"    let nestedFrame: Series\u003cstring,Frame\u003c\u0027a,string\u003e\u003e =\n",
"        frame\n",
"        |\u003e Frame.transpose\n",
"        |\u003e Frame.nest\n",
"    nestedFrame.[\"RBCL\"] \n",
"    |\u003e Frame.filterCols (fun ck cs -\u003e ck = prot1)\n",
"    |\u003e Frame.mapCols (fun ck _ -\u003e\n",
"        let rbclSeries =\n",
"            nestedFrame.[\"RBCL\"].GetColumn\u003cfloat\u003eprot1\n",
"        let rbcsSeries =\n",
"            nestedFrame.[\"RBCS\"].GetColumn\u003cfloat\u003eprot2\n",
"        rbclSeries / rbcsSeries\n",
"    )\n",
"    |\u003e Frame.mapColKeys (fun ck -\u003e prot1 + \"/\" + prot2)\n",
"    |\u003e Frame.transpose\n",
"\n",
"let proteinRatiosWithDescCutOuts prot1 prot2=\n",
"    proteinRatiosWithDesc\n",
"    |\u003e calcultateRelativeQuantForCutOutsProteins prot1 prot2\n",
"    \n",
"let rbclRBCS2 = proteinRatiosWithDescCutOuts \"rbcL\" \"RBCS2\"\n",
"\n",
"rbclRBCS2\n",
"|\u003e Frame.transpose\n"]
          }
,
          {
           "cell_type": "markdown",
           "metadata": {},
           
           "source": ["Here are functions and parameters which are used for the styling of the graphs.\n",
"\n"]
          }
,
          {
           "cell_type": "code",
           "metadata": {},
            "execution_count": 11, "outputs": [], 
           "source": ["// Code block 10\n",
"\n",
"let xAxis showGrid title titleSize tickSize = Axis.LinearAxis.init(Title=title,Showgrid=showGrid,Showline=true,Mirror=StyleParam.Mirror.All,Zeroline=false,Tickmode=StyleParam.TickMode.Auto,Ticks= StyleParam.TickOptions.Inside, Tickfont=Font.init(StyleParam.FontFamily.Arial,Size=tickSize),Titlefont=Font.init(StyleParam.FontFamily.Arial,Size=titleSize))\n",
"let yAxis showGrid title titleSize tickSize = Axis.LinearAxis.init(Title=title,Showgrid=showGrid,Showline=true,Mirror=StyleParam.Mirror.All,Tickmode=StyleParam.TickMode.Auto,Ticks= StyleParam.TickOptions.Inside,Tickfont=Font.init(StyleParam.FontFamily.Arial,Size=tickSize),Titlefont=Font.init(StyleParam.FontFamily.Arial,Size=titleSize))\n",
"\n",
"let config = Config.init(ToImageButtonOptions = ToImageButtonOptions.init(Format = StyleParam.ImageFormat.SVG, Filename = \"praktikumsplot.svg\"), EditableAnnotations = [AnnotationEditOptions.LegendPosition])\n"]
          }
,
          {
           "cell_type": "markdown",
           "metadata": {},
           
           "source": ["## Relative Quantification between rbcL and rbcS\n",
"At first we calculated the 14N/15N relative quantities for rbcL and rbcS. Then, as we normalized against the same \n",
"QProtein we can now calculate the relation of subunits from rbcL and rbcS, both from their respective cut-out band.\n",
"\n",
"First we will access the data for rbcL and rbcS for a given strain from our Deedle frame.\n",
"\n"]
          }
,
          {
           "cell_type": "code",
           "metadata": {},
            "execution_count": 12, "outputs": [
          {
           "data": {
            "text/plain": ["[|(5.0, 1.29098907); (20.0, 1.539067615)|]"]
        },
           "execution_count": 12,
           "metadata": {},
           "output_type": "execute_result"
          }], 
           "source": ["// Code block 11\n",
"\n",
"/////////////////////////////////// Chart Step 1 //////////////////////////////////////////\n",
"\n",
"open FSharp.Stats.Fitting.LinearRegression.OrdinaryLeastSquares.Linear\n",
"\n",
"// access the data for rbcL and rbcS for a given strain\n",
"let meanValuesFor prot1Name prot2Name strainName=\n",
"    let meanSeries : Series\u003c(string * float),float\u003e = rbclRBCS2.GetRow (prot1Name+\"/\"+prot2Name)\n",
"    meanSeries\n",
"    |\u003e Series.filter (fun k t -\u003e fst k = strainName)\n",
"    |\u003e fun x -\u003e x.Observations\n",
"    |\u003e Seq.map (fun x -\u003e snd x.Key, x.Value)\n",
"    |\u003e Array.ofSeq\n",
"    \n",
"let testMeanValues =\n",
"    meanValuesFor \"rbcL\" \"RBCS2\" \"4A\"\n",
"    \n",
"testMeanValues\n"]
          }
,
          {
           "cell_type": "markdown",
           "metadata": {},
           
           "source": ["In addition we will display the pearson coefficient for all different given dilutions.\n",
"\n"]
          }
,
          {
           "cell_type": "code",
           "metadata": {},
            "execution_count": 13, "outputs": [
          {
           "data": {
            "text/plain": ["(vector [|1.208296222; 0.01653856967|], [|1.29098907; 1.539067615|], 1.0)"]
        },
           "execution_count": 13,
           "metadata": {},
           "output_type": "execute_result"
          }], 
           "source": ["// Code block 12\n",
"\n",
"//let prot1Coeff,prot1FitVals,prot1Determination =\n",
"let calculatePearson prot1Name prot2Name strainName (meanValueArray:(float*float) [])  =\n",
"    let dilutionsSorted,strainVals =\n",
"        meanValueArray\n",
"        |\u003e Array.unzip\n",
"    // RBCL Regression of relative quantification values\n",
"    let RBCLcoeff = Univariable.coefficient (vector dilutionsSorted) (vector strainVals)\n",
"    let RBCLfitFunc = Univariable.fit RBCLcoeff\n",
"    let RBCLfitVals = dilutionsSorted |\u003e Array.map RBCLfitFunc\n",
"    let RBCLdetermination = FSharp.Stats.Fitting.GoodnessOfFit.calculateDeterminationFromValue strainVals RBCLfitVals\n",
"    let RBCLpearson = FSharp.Stats.Correlation.Seq.pearson strainVals dilutionsSorted\n",
"    printfn \"%s - Pearson WholeCell %s: %f\" strainName (prot1Name+\"/\"+prot2Name) RBCLpearson\n",
"    RBCLcoeff, RBCLfitVals, RBCLdetermination\n",
"    \n",
"testMeanValues\n",
"|\u003e calculatePearson \"rbcL\" \"RBCS2\" \"4A\"\n"]
          }
,
          {
           "cell_type": "code",
           "metadata": {},
            "execution_count": 14, "outputs": [
          {
           "data": {
            "text/html": ["\u003cdiv id=\"5da82329-500a-4c6a-b3f0-9015221a4b61\" style=\"width: 1000px; height: 400px;\"\u003e\u003c!-- Plotly chart will be drawn inside this DIV --\u003e\u003c/div\u003e",
"\u003cscript type=\"text/javascript\"\u003e",
"",
"            var renderPlotly_5da82329500a4c6ab3f09015221a4b61 = function() {",
"            var fsharpPlotlyRequire = requirejs.config({context:\u0027fsharp-plotly\u0027,paths:{plotly:\u0027https://cdn.plot.ly/plotly-latest.min\u0027}}) || require;",
"            fsharpPlotlyRequire([\u0027plotly\u0027], function(Plotly) {",
"",
"            var data = [{\"type\":\"scatter\",\"x\":[5.0,10.0,20.0],\"y\":[1.3116197857891108,0.5468129565563647,0.5359809895468356],\"mode\":\"markers\",\"name\":\"rbcL/RBCS2 Quantified Ratios\",\"marker\":{\"size\":10,\"symbol\":3}},{\"type\":\"scatter\",\"x\":[5.0,10.0,20.0],\"y\":[1.0946509727239733,0.8722661761540711,0.42749658301426685],\"mode\":\"lines\",\"name\":\"rbcL/RBCS2 linear regression: -0.04 x + (1.317036) ; R = 0.5835\",\"marker\":{},\"line\":{\"color\":\"lightblue\",\"dash\":\"dashdot\"}}];",
"            var layout = {\"title\":\"1690 - In-Gel-Digest: Stability of rbcL/RBCS2 ratios between samples\",\"xaxis\":{\"title\":\"Cut Out 1 - rbcL / Cut Out 2 - RBCS2\",\"tickmode\":\"auto\",\"ticks\":\"inside\",\"mirror\":\"all\",\"showline\":true,\"showgrid\":false,\"zeroline\":false,\"titlefont\":{\"family\":\"Arial\",\"size\":20},\"tickfont\":{\"family\":\"Arial\",\"size\":16}},\"yaxis\":{\"title\":\"relative quantification\",\"tickmode\":\"auto\",\"ticks\":\"inside\",\"mirror\":\"all\",\"showline\":true,\"showgrid\":false,\"zeroline\":false,\"titlefont\":{\"family\":\"Arial\",\"size\":20},\"tickfont\":{\"family\":\"Arial\",\"size\":16}},\"width\":1000.0,\"height\":400.0};",
"            var config = {\"toImageButtonOptions\":{\"format\":\"svg\",\"filename\":\"praktikumsplot.svg\"},\"edits\":{\"legendPosition\":true}};",
"            Plotly.newPlot(\u00275da82329-500a-4c6a-b3f0-9015221a4b61\u0027, data, layout, config);",
"});",
"            };",
"            if ((typeof(requirejs) !==  typeof(Function)) || (typeof(requirejs.config) !== typeof(Function))) {",
"                var script = document.createElement(\"script\");",
"                script.setAttribute(\"src\", \"https://cdnjs.cloudflare.com/ajax/libs/require.js/2.3.6/require.min.js\");",
"                script.onload = function(){",
"                    renderPlotly_5da82329500a4c6ab3f09015221a4b61();",
"                };",
"                document.getElementsByTagName(\"head\")[0].appendChild(script);",
"            }",
"            else {",
"                renderPlotly_5da82329500a4c6ab3f09015221a4b61();",
"            }",
"\u003c/script\u003e",
""]
        },
           "execution_count": 14,
           "metadata": {},
           "output_type": "execute_result"
          }], 
           "source": ["// Code block 13\n",
"\n",
"let chartRatios prot1 prot2 strain =\n",
"    let prot1Vals = meanValuesFor prot1 prot2 strain\n",
"\n",
"    let (prot1Coeff:Vector\u003cfloat\u003e),prot1FitVals,prot1Determination =\n",
"        calculatePearson prot1 prot2 strain prot1Vals\n",
"\n",
"    let dilutionsSorted,_ =\n",
"        prot1Vals\n",
"        |\u003e Array.unzip\n",
"\n",
"    [\n",
"        Chart.Point (prot1Vals,Name = sprintf \"%s Quantified Ratios\" (prot1+\"/\"+prot2))\n",
"        |\u003e Chart.withMarkerStyle(Size=10,Symbol = StyleParam.Symbol.Cross)\n",
"        Chart.Line(Array.zip dilutionsSorted prot1FitVals,Name = (sprintf \"%s linear regression: %.2f x + (%2f) ; R = %.4f\" (prot1+\"/\"+prot2) prot1Coeff.[1] prot1Coeff.[0] prot1Determination))\n",
"        |\u003e Chart.withLineStyle(Color=\"lightblue\",Dash=StyleParam.DrawingStyle.DashDot)\n",
"    ]\n",
"    |\u003e Chart.Combine\n",
"    |\u003e Chart.withTitle (sprintf \"%s - In-Gel-Digest: Stability of %s/%s ratios between samples\" strain prot1 prot2)\n",
"    |\u003e Chart.withX_Axis (xAxis false (sprintf \"Cut Out 1 - %s / Cut Out 2 - %s\" prot1 prot2) 20 16)\n",
"    |\u003e Chart.withY_Axis (xAxis false \"relative quantification\" 20 16 )\n",
"    |\u003e Chart.withConfig config\n",
"    |\u003e Chart.withSize (1000.,400.)\n",
"\n",
"chartRatios \"rbcL\" \"RBCS2\" \"1690\"\n"]
          }
,
          {
           "cell_type": "markdown",
           "metadata": {},
           
           "source": ["## Compare 14N/15N for rbcL and rbcS\n",
"To calculate absolute quantities we need to know the relation of 14N protein to the 15N QProtein. \n",
"We will show these relation with the following charts.\n",
"We add a linear fit to the charts to allow for more precise evaluation of sample linearity.\n",
"\n"]
          }
,
          {
           "cell_type": "code",
           "metadata": {},
            "execution_count": 16, "outputs": [
          {
           "data": {
            "text/plain": ["\u003cnull\u003e"]
        },
           "execution_count": 16,
           "metadata": {},
           "output_type": "execute_result"
          }], 
           "source": ["// Code block 14\n",
"\n",
"/////////////////////////////////// Chart Step 2 //////////////////////////////////////////\n",
"\n",
"let calculateLinearFit ((amount,quant): float[]*float[]) =\n",
"    // Calculation of the coefficients for a linear fit.\n",
"    let coeffs =\n",
"        Univariable.coefficient (vector amount) (vector quant)\n",
"    // Calculation of the linear fit with the coefficients.\n",
"    let linearFitFunc =\n",
"        Univariable.fit coeffs\n",
"    // Here, we apply the fitting function to our x-values (amount of loaded protein) \n",
"    // to get the corresponding fitted values.\n",
"    let linearFitVals =\n",
"        amount\n",
"        |\u003e Array.map linearFitFunc\n",
"    // Calculation of the goodness of the fit by comparing our calculated \n",
"    // Protein1/Protein2 ratios to the values of the fit.\n",
"    let determination =\n",
"        FSharp.Stats.Fitting.GoodnessOfFit.calculateDeterminationFromValue quant linearFitVals\n",
"    {|Coefficients = coeffs; LinearFitValues = linearFitVals; Determination = determination; LoadedProtein = amount|}\n"]
          }
,
          {
           "cell_type": "code",
           "metadata": {},
            "execution_count": 17, "outputs": [
          {
           "data": {
            "text/html": ["[|\"\u003cdiv id=\"f3f04c1c-06a4-4326-8e84-88d7dc2fd7c0\" style=\"width: 1200px; height: 400px;\"\u003e\u003c!-- Plotly chart will be drawn inside this DIV --\u003e\u003c/div\u003e",
"\u003cscript type=\"text/javascript\"\u003e",
"",
"            var renderPlotly_f3f04c1c06a443268e8488d7dc2fd7c0 = function() {",
"            var fsharpPlotlyRequire = requirejs.config({context:\u0027fsharp-plotly\u0027,paths:{plotly:\u0027https://cdn.plot.ly/plotly-latest.min\u0027}}) || require;",
"            fsharpPlotlyRequire([\u0027plotly\u0027], function(Plotly) {",
"",
"            var data = [{\"type\":\"scatter\",\"x\":[5.0,10.0,20.0],\"y\":[0.11186098426802878,0.19793043920169257,0.37006934906902017],\"mode\":\"lines\",\"marker\":{},\"name\":\"linear regression: 0.02 x + (0.025792) ; R² = 0.9492 for strain 4A and rbcL\",\"line\":{\"color\":\"#D3D3D3\",\"dash\":\"dashdot\"}},{\"type\":\"scatter\",\"x\":[5.0,20.0],\"y\":[0.06884415680812295,0.23298351569020823],\"mode\":\"lines\",\"marker\":{},\"name\":\"linear regression: 0.01 x + (0.014131) ; R² = 1.0000 for strain 4A and RBCS2\",\"line\":{\"color\":\"#D3D3D3\",\"dash\":\"dashdot\"}},{\"type\":\"scatter\",\"x\":[5.0,10.0,20.0],\"y\":[0.0888770540035107,0.23240633459846965,0.3585773839367612],\"mode\":\"lines+markers\",\"opacity\":0.8,\"line\":{\"width\":{}},\"marker\":{\"symbol\":0},\"name\":\"Mean rbcL - 4A\"},{\"type\":\"scatter\",\"x\":[5.0,20.0],\"y\":[0.06884415680812295,0.23298351569020825],\"mode\":\"lines+markers\",\"opacity\":0.8,\"line\":{\"width\":{}},\"marker\":{\"symbol\":0},\"name\":\"Mean RBCS2 - 4A\"}];",
"            var layout = {\"xaxis\":{\"title\":\"Loaded protein [µg]\",\"tickmode\":\"auto\",\"ticks\":\"inside\",\"mirror\":\"all\",\"showline\":true,\"showgrid\":false,\"zeroline\":false,\"titlefont\":{\"family\":\"Arial\",\"size\":20},\"tickfont\":{\"family\":\"Arial\",\"size\":16}},\"yaxis\":{\"title\":\"\u003csup\u003e14\u003c/sup\u003eN/\u003csup\u003e15\u003c/sup\u003eN Quantification ratio\",\"tickmode\":\"auto\",\"ticks\":\"inside\",\"mirror\":\"all\",\"showline\":true,\"showgrid\":false,\"zeroline\":false,\"titlefont\":{\"family\":\"Arial\",\"size\":20},\"tickfont\":{\"family\":\"Arial\",\"size\":16}},\"title\":\"rbcL/RBCS2 relative protein quantification\",\"width\":1200.0,\"height\":400.0};",
"            var config = {};",
"            Plotly.newPlot(\u0027f3f04c1c-06a4-4326-8e84-88d7dc2fd7c0\u0027, data, layout, config);",
"});",
"            };",
"            if ((typeof(requirejs) !==  typeof(Function)) || (typeof(requirejs.config) !== typeof(Function))) {",
"                var script = document.createElement(\"script\");",
"                script.setAttribute(\"src\", \"https://cdnjs.cloudflare.com/ajax/libs/require.js/2.3.6/require.min.js\");",
"                script.onload = function(){",
"                    renderPlotly_f3f04c1c06a443268e8488d7dc2fd7c0();",
"                };",
"                document.getElementsByTagName(\"head\")[0].appendChild(script);",
"            }",
"            else {",
"                renderPlotly_f3f04c1c06a443268e8488d7dc2fd7c0();",
"            }",
"\u003c/script\u003e",
"\";",
"  \"\u003cdiv id=\"4458aab9-ec24-4e60-ad26-9f153fba8b4a\" style=\"width: 1200px; height: 400px;\"\u003e\u003c!-- Plotly chart will be drawn inside this DIV --\u003e\u003c/div\u003e",
"\u003cscript type=\"text/javascript\"\u003e",
"",
"            var renderPlotly_4458aab9ec244e60ad269f153fba8b4a = function() {",
"            var fsharpPlotlyRequire = requirejs.config({context:\u0027fsharp-plotly\u0027,paths:{plotly:\u0027https://cdn.plot.ly/plotly-latest.min\u0027}}) || require;",
"            fsharpPlotlyRequire([\u0027plotly\u0027], function(Plotly) {",
"",
"            var data = [{\"type\":\"scatter\",\"x\":[5.0,10.0,20.0],\"y\":[0.278744160443413,0.3569579402085009,0.5133854997386768],\"mode\":\"lines\",\"marker\":{},\"name\":\"linear regression: 0.02 x + (0.200530) ; R² = 0.9363 for strain 1883 and rbcL\",\"line\":{\"color\":\"#D3D3D3\",\"dash\":\"dashdot\"}},{\"type\":\"scatter\",\"x\":[10.0,20.0],\"y\":[0.12514936804353058,0.23278478863539157],\"mode\":\"lines\",\"marker\":{},\"name\":\"linear regression: 0.01 x + (0.017514) ; R² = 1.0000 for strain 1883 and RBCS2\",\"line\":{\"color\":\"#D3D3D3\",\"dash\":\"dashdot\"}},{\"type\":\"scatter\",\"x\":[5.0,10.0,20.0],\"y\":[0.3022936894172453,0.3216336467477523,0.5251602642255929],\"mode\":\"lines+markers\",\"opacity\":0.8,\"line\":{\"width\":{}},\"marker\":{\"symbol\":0},\"name\":\"Mean rbcL - 1883\"},{\"type\":\"scatter\",\"x\":[10.0,20.0],\"y\":[0.12514936804353058,0.23278478863539157],\"mode\":\"lines+markers\",\"opacity\":0.8,\"line\":{\"width\":{}},\"marker\":{\"symbol\":0},\"name\":\"Mean RBCS2 - 1883\"}];",
"            var layout = {\"xaxis\":{\"title\":\"Loaded protein [µg]\",\"tickmode\":\"auto\",\"ticks\":\"inside\",\"mirror\":\"all\",\"showline\":true,\"showgrid\":false,\"zeroline\":false,\"titlefont\":{\"family\":\"Arial\",\"size\":20},\"tickfont\":{\"family\":\"Arial\",\"size\":16}},\"yaxis\":{\"title\":\"\u003csup\u003e14\u003c/sup\u003eN/\u003csup\u003e15\u003c/sup\u003eN Quantification ratio\",\"tickmode\":\"auto\",\"ticks\":\"inside\",\"mirror\":\"all\",\"showline\":true,\"showgrid\":false,\"zeroline\":false,\"titlefont\":{\"family\":\"Arial\",\"size\":20},\"tickfont\":{\"family\":\"Arial\",\"size\":16}},\"title\":\"rbcL/RBCS2 relative protein quantification\",\"width\":1200.0,\"height\":400.0};",
"            var config = {};",
"            Plotly.newPlot(\u00274458aab9-ec24-4e60-ad26-9f153fba8b4a\u0027, data, layout, config);",
"});",
"            };",
"            if ((typeof(requirejs) !==  typeof(Function)) || (typeof(requirejs.config) !== typeof(Function))) {",
"                var script = document.createElement(\"script\");",
"                script.setAttribute(\"src\", \"https://cdnjs.cloudflare.com/ajax/libs/require.js/2.3.6/require.min.js\");",
"                script.onload = function(){",
"                    renderPlotly_4458aab9ec244e60ad269f153fba8b4a();",
"                };",
"                document.getElementsByTagName(\"head\")[0].appendChild(script);",
"            }",
"            else {",
"                renderPlotly_4458aab9ec244e60ad269f153fba8b4a();",
"            }",
"\u003c/script\u003e",
"\";",
"  \"\u003cdiv id=\"e987c2d1-b8f4-4d6a-8577-02044725f2d9\" style=\"width: 1200px; height: 400px;\"\u003e\u003c!-- Plotly chart will be drawn inside this DIV --\u003e\u003c/div\u003e",
"\u003cscript type=\"text/javascript\"\u003e",
"",
"            var renderPlotly_e987c2d1b8f44d6a857702044725f2d9 = function() {",
"            var fsharpPlotlyRequire = requirejs.config({context:\u0027fsharp-plotly\u0027,paths:{plotly:\u0027https://cdn.plot.ly/plotly-latest.min\u0027}}) || require;",
"            fsharpPlotlyRequire([\u0027plotly\u0027], function(Plotly) {",
"",
"            var data = [{\"type\":\"scatter\",\"x\":[5.0,10.0,20.0],\"y\":[0.13260315991113977,0.14348866886447184,0.16525968677113595],\"mode\":\"lines\",\"marker\":{},\"name\":\"linear regression: 0.00 x + (0.121718) ; R² = 0.3364 for strain 1690 and rbcL\",\"line\":{\"color\":\"#D3D3D3\",\"dash\":\"dashdot\"}},{\"type\":\"scatter\",\"x\":[5.0,10.0,20.0],\"y\":[0.12713319219951302,0.19511806882071905,0.3310878220631311],\"mode\":\"lines\",\"marker\":{},\"name\":\"linear regression: 0.01 x + (0.059148) ; R² = 0.9750 for strain 1690 and RBCS2\",\"line\":{\"color\":\"#D3D3D3\",\"dash\":\"dashdot\"}},{\"type\":\"scatter\",\"x\":[5.0,10.0,20.0],\"y\":[0.15025779074425646,0.1170067226147968,0.17408700218769427],\"mode\":\"lines+markers\",\"opacity\":0.8,\"line\":{\"width\":{}},\"marker\":{\"symbol\":0},\"name\":\"Mean rbcL - 1690\"},{\"type\":\"scatter\",\"x\":[5.0,10.0,20.0],\"y\":[0.11455895402939256,0.2139794260758997,0.3248007029780709],\"mode\":\"lines+markers\",\"opacity\":0.8,\"line\":{\"width\":{}},\"marker\":{\"symbol\":0},\"name\":\"Mean RBCS2 - 1690\"}];",
"            var layout = {\"xaxis\":{\"title\":\"Loaded protein [µg]\",\"tickmode\":\"auto\",\"ticks\":\"inside\",\"mirror\":\"all\",\"showline\":true,\"showgrid\":false,\"zeroline\":false,\"titlefont\":{\"family\":\"Arial\",\"size\":20},\"tickfont\":{\"family\":\"Arial\",\"size\":16}},\"yaxis\":{\"title\":\"\u003csup\u003e14\u003c/sup\u003eN/\u003csup\u003e15\u003c/sup\u003eN Quantification ratio\",\"tickmode\":\"auto\",\"ticks\":\"inside\",\"mirror\":\"all\",\"showline\":true,\"showgrid\":false,\"zeroline\":false,\"titlefont\":{\"family\":\"Arial\",\"size\":20},\"tickfont\":{\"family\":\"Arial\",\"size\":16}},\"title\":\"rbcL/RBCS2 relative protein quantification\",\"width\":1200.0,\"height\":400.0};",
"            var config = {};",
"            Plotly.newPlot(\u0027e987c2d1-b8f4-4d6a-8577-02044725f2d9\u0027, data, layout, config);",
"});",
"            };",
"            if ((typeof(requirejs) !==  typeof(Function)) || (typeof(requirejs.config) !== typeof(Function))) {",
"                var script = document.createElement(\"script\");",
"                script.setAttribute(\"src\", \"https://cdnjs.cloudflare.com/ajax/libs/require.js/2.3.6/require.min.js\");",
"                script.onload = function(){",
"                    renderPlotly_e987c2d1b8f44d6a857702044725f2d9();",
"                };",
"                document.getElementsByTagName(\"head\")[0].appendChild(script);",
"            }",
"            else {",
"                renderPlotly_e987c2d1b8f44d6a857702044725f2d9();",
"            }",
"\u003c/script\u003e",
"\"|]"]
        },
           "execution_count": 17,
           "metadata": {},
           "output_type": "execute_result"
          }], 
           "source": ["// Code block 15\n",
"\n",
"let createChartForRbcsRbclComparison prot1 prot2 strain =\n",
"\n",
"    let nestedFrame =\n",
"        proteinRatiosWithDesc\n",
"        |\u003e Frame.filterRows (fun rk rs -\u003e rk = prot1 || rk = prot2)\n",
"        |\u003e Frame.transpose\n",
"        |\u003e Frame.nest     \n",
"\n",
"    let getProtValuesFromSeries series =\n",
"        series\n",
"        |\u003e Series.filter (fun k t -\u003e fst k = strain)\n",
"        |\u003e fun x -\u003e x.Observations \n",
"        |\u003e Array.ofSeq\n",
"        |\u003e Array.map (fun x -\u003e snd x.Key, x.Value)\n",
"\n",
"    let rbcLRBCLValues =\n",
"        nestedFrame.[\"RBCL\"].GetColumn\u003cfloat\u003eprot1\n",
"        |\u003e getProtValuesFromSeries\n",
"\n",
"    let rbcs2RBCSValues =\n",
"        nestedFrame.[\"RBCS\"].GetColumn\u003cfloat\u003eprot2\n",
"        |\u003e getProtValuesFromSeries\n",
"\n",
"    let rbclFit =\n",
"        calculateLinearFit (Array.unzip rbcLRBCLValues)\n",
"\n",
"    let rbcsFit =\n",
"        calculateLinearFit (Array.unzip rbcs2RBCSValues)\n",
"\n",
"    let fitChart =\n",
"        [\n",
"            Chart.Line(Array.zip rbclFit.LoadedProtein rbclFit.LinearFitValues)\n",
"            |\u003e Chart.withTraceName (sprintf \"linear regression: %.2f x + (%2f) ; R² = %.4f for strain %s and %s\"\n",
"                rbclFit.Coefficients.[1] rbclFit.Coefficients.[0] rbclFit.Determination strain prot1)\n",
"            |\u003e Chart.withLineStyle(Color=\"#D3D3D3\",Dash=StyleParam.DrawingStyle.DashDot)\n",
"            Chart.Line(Array.zip rbcsFit.LoadedProtein rbcsFit.LinearFitValues)\n",
"            |\u003e Chart.withTraceName (sprintf \"linear regression: %.2f x + (%2f) ; R² = %.4f for strain %s and %s\"\n",
"                rbcsFit.Coefficients.[1] rbcsFit.Coefficients.[0] rbcsFit.Determination strain prot2)\n",
"            |\u003e Chart.withLineStyle(Color=\"#D3D3D3\",Dash=StyleParam.DrawingStyle.DashDot)\n",
"        ]\n",
"        |\u003e Chart.Combine\n",
"\n",
"    let dataChart =\n",
"        [\n",
"            Chart.Scatter(rbcLRBCLValues,mode=StyleParam.Mode.Lines_Markers, MarkerSymbol = StyleParam.Symbol.Circle, Opacity=0.8)\n",
"            |\u003e Chart.withTraceName (sprintf \"Mean %s - %s\" prot1 strain)\n",
"            Chart.Scatter(rbcs2RBCSValues,mode=StyleParam.Mode.Lines_Markers, MarkerSymbol = StyleParam.Symbol.Circle, Opacity=0.8)\n",
"            |\u003e Chart.withTraceName (sprintf \"Mean %s - %s\" prot2 strain)\n",
"        ]\n",
"        |\u003e Chart.Combine\n",
"        |\u003e Chart.withX_Axis (xAxis false \"Loaded protein [µg]\" 20 16)\n",
"        |\u003e Chart.withY_Axis (xAxis false \"\u003csup\u003e14\u003c/sup\u003eN/\u003csup\u003e15\u003c/sup\u003eN Quantification ratio\" 20 16)\n",
"\n",
"    [fitChart;dataChart]\n",
"    |\u003e Chart.Combine\n",
"    |\u003e Chart.withTitle (sprintf \"%s/%s relative protein quantification\" prot1 prot2)\n",
"    |\u003e Chart.withSize (1200.,400.)\n",
"\n",
"let prot1 = \"rbcL\"\n",
"let prot2 = \"RBCS2\"\n",
"\n",
"[|\"4A\"; \"1883\";\"1690\"|]\n",
"|\u003e Array.map (createChartForRbcsRbclComparison prot1 prot2)\n"]
          }],
            "metadata": {
            "kernelspec": {"display_name": ".NET (F#)", "language": "F#", "name": ".net-fsharp"},
            "langauge_info": {
        "file_extension": ".fs",
        "mimetype": "text/x-fsharp",
        "name": "C#",
        "pygments_lexer": "fsharp",
        "version": "4.5"
        }
        },
            "nbformat": 4,
            "nbformat_minor": 1
        }
        

