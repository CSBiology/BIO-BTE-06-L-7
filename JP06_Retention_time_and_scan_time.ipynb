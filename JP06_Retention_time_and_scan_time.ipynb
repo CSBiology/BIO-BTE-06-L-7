
        {
            "cells": [
          {
           "cell_type": "markdown",
           "metadata": {},
           
           "source": ["# JP06 Retention time and scan time\n",
"\n",
"[![Binder](https://mybinder.org/badge_logo.svg)](https://mybinder.org/v2/gh/CSBiology/BIO-BTE-06-L-7/gh-pages?filepath=JP06_Retention_time_and_scan_time.ipynb)\n",
"\n",
"1. [Retention time and scan time](#Retention-time-and-scan-time)\n",
"    1. [m/z calculation of the digested peptides](#m/z-calculation-of-the-digested-peptides)\n",
"    2. [Determination of peptide hydrophobicity](#Determination-of-peptide-hydrophobicity)\n",
"\n",
"## Retention time and scan time\n",
"\u003ca href=\"#Retention-time-and-scan-time\" style=\"display: inline-block\"\u003e\u003csup\u003e\u0026#8593;back\u003c/sup\u003e\u003c/a\u003e\u003cbr\u003e\n",
"\u003ca href=\"#Retention-time-and-scan-time\" style=\"display: inline-block\"\u003e\u003csup\u003e\u0026#8593;back\u003c/sup\u003e\u003c/a\u003e\u003cbr\u003e\n",
"\n",
"\u003cdiv class=\"container\"\u003e\n",
"\u003cdiv class=\"container\"\u003e\n",
"In general, peptides are separated by one or more steps of liquid chromatography (LC). The retention time (RT) is the time when the measured \n",
"peptides were eluting from the column and is therefore influenced by the physicochemical interaction of the particular peptide with the \n",
"column material. Scan time is basically synonym to retention time, but more from the point of view of the device.\n",
"\n",
"The aim of this notebook is to understand that even though peptides are roughly separated by the LC, multiple peptides elute at the same \n",
"retention time and are recorded within one MS\u003csup\u003e1\u003c/sup\u003e spectrum. Here, we will simulate a MS\u003csup\u003e1\u003c/sup\u003e spectrum by random sampling from \n",
"our previously generated peptide-mass distribution. Further, we will try to improve our simulation by incorporating information about the peptide \n",
"hydrophobicity. It is a only a crude model, but considers the fact that less hydrophobic peptides elute faster from the \u003csup\u003e13\u003c/sup\u003eC LC column.\n",
"\n",
"As always, we start by loading our famous libraries.\n",
"\n",
"\u003c/div\u003e\n",
"\u003c/div\u003e\n",
"\n"]
          }
,
          {
           "cell_type": "code",
           "metadata": {},
            "execution_count": 1, "outputs": [], 
           "source": ["#r \"nuget: FSharp.Stats, 0.4.0\"\n",
"#r \"nuget: BioFSharp, 2.0.0-beta5\"\n",
"#r \"nuget: BioFSharp.IO, 2.0.0-beta5\"\n",
"#r \"nuget: Plotly.NET, 2.0.0-beta6\"\n",
"#load @\"..\\AuxFsx\\JP06_Retention_time_and_scan_time_Aux.fsx\"\n",
"\n",
"#r \"nuget: Plotly.NET, 2.0.0-beta6\"\n",
"#r \"nuget: Plotly.NET.Interactive, 2.0.0-beta6\"\n",
"\n",
"open BioFSharp\n",
"open Plotly.NET\n",
"open BioFSharp.Elements\n",
"open JP06_Retention_time_and_scan_time_Aux\n",
"\n",
"open FSharp.Stats\n"]
          }
,
          {
           "cell_type": "markdown",
           "metadata": {},
           
           "source": ["## m/z calculation of the digested peptides\n",
"\u003ca href=\"#Retention-time-and-scan-time\" style=\"display: inline-block\"\u003e\u003csup\u003e\u0026#8593;back\u003c/sup\u003e\u003c/a\u003e\u003cbr\u003e\n",
"\u003ca href=\"#Retention-time-and-scan-time\" style=\"display: inline-block\"\u003e\u003csup\u003e\u0026#8593;back\u003c/sup\u003e\u003c/a\u003e\u003cbr\u003e\n",
"\n",
"\u003cdiv class=\"container\"\u003e\n",
"\u003cdiv class=\"container\"\u003e\n",
"I think you remember the protein digestion process from the privious notebook (see: \u003ca href=\"JP04_Digestion_and_mass_calculation.ipynb\"\u003eJP04 \n",
"Digestion and mass calculation\u003c/a\u003e). This time we also remember the peptide sequence, because we need it later for hydrophobicity calculation. \n",
"\u003c/div\u003e\n",
"\n"]
          }
,
          {
           "cell_type": "code",
           "metadata": {},
            "execution_count": 2, "outputs": [
          {
           "data": {
            "text/plain": ["No value returned by any evaluator"]
        },
           "execution_count": 2,
           "metadata": {},
           "output_type": "execute_result"
          }], 
           "source": ["// Code-Block 1\n",
"\n",
"let source = __SOURCE_DIRECTORY__\n",
"let filePath = source + @\"/../AuxFiles/Chlamy_JGI5_5(Cp_Mp).fasta\"\n",
"\n",
"let peptideAndMasses = \n",
"    filePath\n",
"    |\u003e IO.FastA.fromFile BioArray.ofAminoAcidString\n",
"    |\u003e Seq.toArray\n",
"    |\u003e Array.mapi (fun i fastAItem -\u003e\n",
"        Digestion.BioArray.digest Digestion.Table.Trypsin i fastAItem.Sequence\n",
"        |\u003e Digestion.BioArray.concernMissCleavages 0 0\n",
"        )\n",
"    |\u003e Array.concat\n",
"    |\u003e Array.map (fun peptide -\u003e\n",
"        // calculate mass for each peptide\n",
"        peptide.PepSequence, BioSeq.toMonoisotopicMassWith (BioItem.monoisoMass ModificationInfo.Table.H2O) peptide.PepSequence\n",
"        )\n",
"\n",
"peptideAndMasses |\u003e Array.head\n"]
          }
,
          {
           "cell_type": "markdown",
           "metadata": {},
           
           "source": ["Calculate the single and double charged m/z for all peptides and combine both in a single collection.\n",
"\n"]
          }
,
          {
           "cell_type": "code",
           "metadata": {},
            "execution_count": 3, "outputs": [
          {
           "data": {
            "text/plain": ["No value returned by any evaluator"]
        },
           "execution_count": 3,
           "metadata": {},
           "output_type": "execute_result"
          }], 
           "source": ["// Code-Block 2\n",
"\n",
"// calculate m/z for each peptide z=1\n",
"let singleChargedPeptides =\n",
"    peptideAndMasses\n",
"    // we only consider peptides longer than 6 amino acids \n",
"    |\u003e Array.filter (fun (peptide,ucMass) -\u003e peptide.Length \u003e=7)\n",
"    |\u003e Array.map (fun (peptide,ucMass) -\u003e peptide, Mass.toMZ ucMass 1.) \n",
"\n",
"// calculate m/z for each peptide z=2\n",
"let doubleChargedPeptides =\n",
"    peptideAndMasses\n",
"    // we only consider peptides longer than 6 amino acids \n",
"    |\u003e Array.filter (fun (peptide,ucMass) -\u003e peptide.Length \u003e=7)\n",
"    |\u003e Array.map (fun (peptide,ucMass) -\u003e peptide, Mass.toMZ ucMass 2.) \n",
"\n",
"// combine this two    \n",
"let chargedPeptides =\n",
"    Array.concat [singleChargedPeptides;doubleChargedPeptides]\n",
"\n",
"\n",
"chargedPeptides.[1]\n"]
          }
,
          {
           "cell_type": "markdown",
           "metadata": {},
           
           "source": ["Now, we can sample our random \"MS1\" spectrum from this collection of m/z.\n",
"\n"]
          }
,
          {
           "cell_type": "code",
           "metadata": {},
            "execution_count": 4, "outputs": [
          {
           "data": {
            "text/plain": ["No value returned by any evaluator"]
        },
           "execution_count": 4,
           "metadata": {},
           "output_type": "execute_result"
          }], 
           "source": ["// Code-Block 3\n",
"\n",
"// initialze a random generator \n",
"let rnd = new System.Random()\n",
"\n",
"// sample n random peptides from all Chlamydomonas reinhardtii peptides\n",
"let chargedPeptideChar =\n",
"    Array.sampleWithOutReplacement rnd chargedPeptides 100\n",
"    // we only want the m/z\n",
"    |\u003e Array.map (fun (peptide,mz) -\u003e mz,1.) \n",
"    |\u003e Chart.Column\n",
"    |\u003e Chart.withX_AxisStyle(\"m/z\", MinMax=(0.,3000.))\n",
"    |\u003e Chart.withY_AxisStyle (\"Intensity\", MinMax=(0.,1.3))\n",
"    |\u003e Chart.withSize (900.,400.)\n"]
          }
,
          {
           "cell_type": "markdown",
           "metadata": {},
           
           "source": ["This looks quite strange. I think you immediately see that we forgot about our isotopic cluster. A peptide doesn’t produce a single peak, \n",
"but a full isotopic cluster. Therefore, we use our convenience function from the previous notebook \n",
"(see: \u003ca href=\"JP05_Isotopic_distribution.ipynb\"\u003eJP05 Isotopic distributiona\u003c/a\u003e).\n",
"\n",
"\n"]
          }
,
          {
           "cell_type": "code",
           "metadata": {},
            "execution_count": 6, "outputs": [], 
           "source": ["// Code-Block 4\n",
"\n",
"// Predicts an isotopic distribution of the given formula at the given charge, \n",
"// normalized by the sum of probabilities, using the MIDAs algorithm\n",
"let generateIsotopicDistribution (charge:int) (f:Formula.Formula) =\n",
"    IsotopicDistribution.MIDA.ofFormula \n",
"        IsotopicDistribution.MIDA.normalizeByMaxProb\n",
"        0.01\n",
"        0.005\n",
"        charge\n",
"        f\n",
"    |\u003e List.toArray\n",
"        \n",
"generateIsotopicDistribution\n"]
          }
,
          {
           "cell_type": "code",
           "metadata": {},
            "execution_count": 7, "outputs": [
          {
           "data": {
            "text/plain": ["No value returned by any evaluator"]
        },
           "execution_count": 7,
           "metadata": {},
           "output_type": "execute_result"
          }], 
           "source": ["// Code-Block 5\n",
"\n",
"let peptidesAndMassesChart =\n",
"    // sample n random peptides from all Chlamydomonas reinhardtii peptides\n",
"    Array.sampleWithOutReplacement rnd peptideAndMasses 500\n",
"    |\u003e Array.map (fun (peptide,mz) -\u003e \n",
"            peptide\n",
"            |\u003e BioSeq.toFormula\n",
"            // peptides are hydrolysed in the mass spectrometer, so we add H2O\n",
"            |\u003e Formula.add Formula.Table.H2O\n",
"            )\n",
"    |\u003e Array.collect (fun formula -\u003e \n",
"        [\n",
"            // generate single charged iones \n",
"            generateIsotopicDistribution 1 formula\n",
"            // generate double charged iones \n",
"            generateIsotopicDistribution 2 formula\n",
"        ] |\u003e Array.concat\n",
"        )\n",
"    |\u003e Chart.Column\n",
"    |\u003e Chart.withX_AxisStyle(\"m/z\", MinMax=(0.,3000.))\n",
"    |\u003e Chart.withY_AxisStyle (\"Intensity\", MinMax=(0.,1.3))\n",
"    |\u003e Chart.withSize (900.,400.)\n",
"\n",
"// HINT: zoom in on peptides\n"]
          }
,
          {
           "cell_type": "markdown",
           "metadata": {},
           
           "source": ["## Determination of peptide hydrophobicity\n",
"\u003ca href=\"#Retention-time-and-scan-time\" style=\"display: inline-block\"\u003e\u003csup\u003e\u0026#8593;back\u003c/sup\u003e\u003c/a\u003e\u003cbr\u003e\n",
"\u003ca href=\"#Retention-time-and-scan-time\" style=\"display: inline-block\"\u003e\u003csup\u003e\u0026#8593;back\u003c/sup\u003e\u003c/a\u003e\u003cbr\u003e\n",
"\n",
"\u003cdiv class=\"container\"\u003e\n",
"\u003cdiv class=\"container\"\u003e\n",
"In a MS\u003csup\u003e1\u003c/sup\u003e scan, peptides don\u0027t appear randomly. They elute according to their hydrophobicity and other physicochemical properties \n",
"from the LC.\n",
"\n",
"To more accurately represent a MS\u003csup\u003e1\u003c/sup\u003e spectrum, we determine the hydrophobicity of each peptide. Therefore, we first need a function \n",
"that maps from sequence to hydrophobicity.\n",
"\u003c/div\u003e\n",
"\n"]
          }
,
          {
           "cell_type": "code",
           "metadata": {},
            "execution_count": 9, "outputs": [], 
           "source": ["// Code-Block 6\n",
"\n",
"open BioFSharp.AminoProperties\n",
"\n",
"// first, define a function that maps from amino acid to hydophobicity\n",
"let getHydrophobicityIndex =\n",
"    BioFSharp.AminoProperties.initGetAminoProperty AminoProperty.HydrophobicityIndex\n",
"    \n",
"// second, use that function to map from peptide sequence to hydophobicity\n",
"let toHydrophobicity (peptide:AminoAcids.AminoAcid[]) =\n",
"    peptide\n",
"    |\u003e Array.map AminoAcidSymbols.aminoAcidSymbol\n",
"    |\u003e AminoProperties.ofWindowedBioArray 3 getHydrophobicityIndex\n",
"    |\u003e Array.average\n",
"\n",
"toHydrophobicity\n"]
          }
,
          {
           "cell_type": "code",
           "metadata": {},
            "execution_count": 10, "outputs": [
          {
           "data": {
            "text/plain": ["No value returned by any evaluator"]
        },
           "execution_count": 10,
           "metadata": {},
           "output_type": "execute_result"
          }], 
           "source": ["// Code-Block 7\n",
"\n",
"let peptidesFirst200 = \n",
"    chargedPeptides \n",
"    // now we sort according to hydrophobicity\n",
"    |\u003e Array.sortBy (fun (peptide,mass) -\u003e   \n",
"        peptide\n",
"        |\u003e Array.ofList\n",
"        |\u003e toHydrophobicity\n",
"        )\n",
"    |\u003e Array.take 200\n",
"\n",
"peptidesFirst200 |\u003e Array.head\n"]
          }
,
          {
           "cell_type": "markdown",
           "metadata": {},
           
           "source": ["Now, we need to generate the isotopic cluster again and visualize afterwards.\n",
"\n"]
          }
,
          {
           "cell_type": "code",
           "metadata": {},
            "execution_count": 11, "outputs": [
          {
           "data": {
            "text/plain": ["No value returned by any evaluator"]
        },
           "execution_count": 11,
           "metadata": {},
           "output_type": "execute_result"
          }], 
           "source": ["// Code-Block 8\n",
"\n",
"let peptidesFirst200Chart =\n",
"    peptidesFirst200\n",
"    |\u003e Array.map (fun (peptide,mz) -\u003e \n",
"            peptide\n",
"            |\u003e BioSeq.toFormula\n",
"            // peptides are hydrolysed in the mass spectrometer, so we add H2O\n",
"            |\u003e Formula.add Formula.Table.H2O\n",
"            )\n",
"    |\u003e Array.collect (fun formula -\u003e \n",
"        [\n",
"            // generate single charged iones \n",
"            generateIsotopicDistribution 1 formula\n",
"            // generate double charged iones \n",
"            generateIsotopicDistribution 2 formula\n",
"        ] |\u003e Array.concat\n",
"        )\n",
"    // Display\n",
"    |\u003e Chart.Column\n",
"    |\u003e Chart.withX_AxisStyle(\"m/z\", MinMax=(0.,3000.))\n",
"    |\u003e Chart.withY_AxisStyle (\"Intensity\", MinMax=(0.,1.3))\n",
"    |\u003e Chart.withSize (900.,400.)\n",
"\n",
"// HINT: zoom in on peptides\n"]
          }
,
          {
           "cell_type": "markdown",
           "metadata": {},
           
           "source": ["\u003chr\u003e\n",
"\u003chr\u003e\n",
"\u003cnav class=\"level is-mobile\"\u003e\n",
"    \u003cdiv class=\"level-left\"\u003e\n",
"        \u003cdiv class=\"level-item\"\u003e\n",
"            \u003cbutton class=\"button is-primary is-outlined\" onclick=\"location.href=\u0027/JP05_Isotopic_distribution.html\u0027;\"\u003e\u0026#171; JP05\u003c/button\u003e\n",
"        \u003c/div\u003e\n",
"    \u003c/div\u003e\n",
"    \u003cdiv class=\"level-right\"\u003e\n",
"        \u003cdiv class=\"level-item\"\u003e\n",
"            \u003cbutton class=\"button is-primary is-outlined\" onclick=\"location.href=\u0027/JP07_Signal_detection_and_quantification.html\u0027;\"\u003eJP07 \u0026#187;\u003c/button\u003e\n",
"        \u003c/div\u003e\n",
"    \u003c/div\u003e\n",
"\u003c/nav\u003e\n",
"\n"]
          }],
            "metadata": {
            "kernelspec": {"display_name": ".NET (F#)", "language": "F#", "name": ".net-fsharp"},
            "langauge_info": {
        "file_extension": ".fs",
        "mimetype": "text/x-fsharp",
        "name": "C#",
        "pygments_lexer": "fsharp",
        "version": "4.5"
        }
        },
            "nbformat": 4,
            "nbformat_minor": 1
        }
        

