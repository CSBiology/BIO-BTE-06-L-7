
        {
            "cells": [
          {
           "cell_type": "code",
           "metadata": {},
            "execution_count": 1, "outputs": [], 
           "source": ["#r \"nuget: FSharp.Stats, 0.4.0\"\n",
"#r \"nuget: BioFSharp, 2.0.0-beta5\"\n",
"#r \"nuget: BioFSharp.IO, 2.0.0-beta5\"\n",
"#r \"nuget: Plotly.NET, 2.0.0-beta8\"\n",
"#r \"nuget: BIO-BTE-06-L-7_Aux, 0.0.8\"\n",
"#r \"nuget: Deedle, 2.3.0\"\n",
"#r \"nuget: ISADotNet, 0.2.4\"\n",
"#r \"nuget: ISADotNet.XLSX, 0.2.4\"\n",
"\n",
"#r \"nuget: Plotly.NET.Interactive, 2.0.0-beta8\"\n",
"\n",
"open System.IO\n",
"open ISADotNet\n",
"open ISADotNet.API\n",
"open Deedle\n",
"open BioFSharp\n",
"open FSharpAux\n",
"open FSharp.Stats\n",
"open Plotly.NET\n",
"open FSharp.Stats.Fitting.LinearRegression.OrdinaryLeastSquares.Linear\n",
"open System.IO\n",
"open BIO_BTE_06_L_7_Aux.FS3_Aux\n",
"open BIO_BTE_06_L_7_Aux.Deedle_Aux\n"]
          }
,
          {
           "cell_type": "markdown",
           "metadata": {},
           
           "source": ["# NB06d Absolute Quantification\n",
"\n",
"[![Binder](https://mybinder.org/badge_logo.svg)](https://mybinder.org/v2/gh/CSBiology/BIO-BTE-06-L-7/gh-pages?filepath=NB06d_Absolute_Quantification_BN.ipynb)\n",
"\n",
"[Download Notebook](https://github.com/CSBiology/BIO-BTE-06-L-7/releases/download/NB06b_NB06b_NB06c_NB06c_NB06d_NB06d/NB06d_Absolute_Quantification_BN.ipynb)\n",
"\n",
"Finally, after careful peptide ion selection, quality control and assuring that our label efficiency allows accurate for quantifications, we can start to\n",
"calculate protein abundancies. Since we start again by getting access to our data and its description, this notebook will start off familiar!\n",
"\n",
"\n",
"## I. Reading the data\n",
"As promised, we start this notebook with the output of the previous analysis, this notebook assumes that the data from *NB06b Data Access and Quality Control* is stored in a .txt\n",
"\n"]
          }
,
          {
           "cell_type": "code",
           "metadata": {},
            "execution_count": 2, "outputs": [], 
           "source": ["type PeptideIon = \n",
"    {|\n",
"        ProteinGroup    : string  \n",
"        Synonyms        : string\n",
"        StringSequence  : string\n",
"        PepSequenceID   : int\n",
"        Charge          : int\n",
"    |}\n",
"\n",
"//This is the filepath you chose in *NB06b Data Access and Quality Control*\n",
"// let filePath = @\"C:\\yourPath\\testOut.txt\"\n",
"let filePath = System.IO.Path.Combine [|__SOURCE_DIRECTORY__ + \"/downloads/qualityControlResult_BN.txt\"|]\n",
"\n",
"let qConcatDataFiltered =\n",
"    Frame.ReadCsv(path = filePath, separators = \"\\t\")\n",
"    // StringSequence is the peptide sequence\n",
"    |\u003e Frame.indexRowsUsing (fun os -\u003e \n",
"        {|\n",
"            ProteinGroup    = os.GetAs\u003cstring\u003e(\"ProteinGroup\"); \n",
"            Synonyms        = os.GetAs\u003cstring\u003e(\"Synonyms\")\n",
"            StringSequence  = os.GetAs\u003cstring\u003e(\"StringSequence\");\n",
"            PepSequenceID   = os.GetAs\u003cint\u003e(\"PepSequenceID\");\n",
"            Charge          = os.GetAs\u003cint\u003e(\"Charge\");\n",
"        |}\n",
"    )\n",
"    |\u003e Frame.filterRows (fun k s -\u003e String.contains \"QProt_newPS\" k.ProteinGroup)\n"]
          }
,
          {
           "cell_type": "markdown",
           "metadata": {},
           
           "source": ["## II. Extracting ratios and calculating comparisons.\n",
"\n",
"Next, we want to look at the stoichiometry between rbcL and rbcS. First, we extract the ratios from our curated results file and plot them.\n",
"\n"]
          }
,
          {
           "cell_type": "code",
           "metadata": {},
            "execution_count": 3, "outputs": [], 
           "source": ["let sliceQuantColumns quantColID frame = \n",
"    frame\n",
"    |\u003e Frame.filterCols (fun ck os -\u003e ck |\u003e String.contains (\".\" + quantColID))\n",
"    |\u003e Frame.mapColKeys (fun ck -\u003e ck.Split(\u0027.\u0027) |\u003e Array.item 0)\n",
"\n",
"\n",
"let ratios = sliceQuantColumns \"Ratio\" qConcatDataFiltered\n",
"\n",
"ratios\n",
"|\u003e Frame.getRow {|Charge = 2; PepSequenceID = 1457965; ProteinGroup = \"QProt_newPS;Cre02.g120150.t1.2;Cre02.g120100.t1.2\"; StringSequence = \"AFPDAYVR\"; Synonyms = \"RBCS2;RBCS1\"|}\n",
"\n",
"let ratiosRbcL =\n",
"    ratios\n",
"    |\u003e Frame.filterRows (fun r s -\u003e r.Synonyms |\u003e String.contains \"rbcL\")\n",
"\n",
"let ratiosRbcS =\n",
"    ratios\n",
"    |\u003e Frame.filterRows (fun r s -\u003e r.Synonyms |\u003e String.contains \"RBCS\")\n",
"\n",
"let medianRbcL =\n",
"    ratiosRbcL\n",
"    |\u003e Frame.getNumericCols\n",
"    |\u003e Series.mapValues Stats.median\n",
"    |\u003e Series.observations\n",
"\n",
"let medianRbcS =\n",
"    ratiosRbcS\n",
"    |\u003e Frame.getNumericCols\n",
"    |\u003e Series.mapValues Stats.median\n",
"    |\u003e Series.observations\n"]
          }
,
          {
           "cell_type": "code",
           "metadata": {},
            "execution_count": null, "outputs": [], 
           "source": ["[\n",
"    Chart.Column (medianRbcL)\n",
"    |\u003e Chart.withTraceName \"rbcL\"\n",
"    Chart.Column (medianRbcS)\n",
"    |\u003e Chart.withTraceName \"rbcS\"\n",
"]\n",
"|\u003e Chart.Combine\n"]
          }
,
          {
           "cell_type": "markdown",
           "metadata": {},
           
           "source": ["Since we are interested in the ratio between rbcL and rbcS, we just divide the rbcL ratio through the ratio of rbcS and compare the result with values from the literature.\n",
"\n"]
          }
,
          {
           "cell_type": "code",
           "metadata": {},
            "execution_count": null, "outputs": [], 
           "source": ["(medianRbcL, medianRbcS)\n",
"||\u003e Seq.map2 (fun (s1,v1) (s2,v2) -\u003e s1, v1 / v2)\n",
"|\u003e Chart.Column\n"]
          }
,
          {
           "cell_type": "markdown",
           "metadata": {},
           
           "source": ["Do your results differ from the literature? Why? Discuss.\n",
"\n"]
          }],
            "metadata": {
            "kernelspec": {"display_name": ".NET (F#)", "language": "F#", "name": ".net-fsharp"},
            "langauge_info": {
        "file_extension": ".fs",
        "mimetype": "text/x-fsharp",
        "name": "C#",
        "pygments_lexer": "fsharp",
        "version": "4.5"
        }
        },
            "nbformat": 4,
            "nbformat_minor": 1
        }
        

