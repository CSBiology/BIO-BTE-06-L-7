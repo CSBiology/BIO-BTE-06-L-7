
        {
            "cells": [
          {
           "cell_type": "markdown",
           "metadata": {},
           
           "source": ["# JP07 Signal detection and quantification\n",
"\n",
"1. [Signal detection and quantification](#Signal-detection-and-quantification)\n",
"\n",
"## Signal detection and quantification\n",
"\u003ca href=\"#Signal-detection-and-quantification\" style=\"display: inline-block\"\u003e\u003csup\u003e\u0026#8593;back\u003c/sup\u003e\u003c/a\u003e\u003cbr\u003e\n",
"\u003ca href=\"#Signal-detection-and-quantification\" style=\"display: inline-block\"\u003e\u003csup\u003e\u0026#8593;back\u003c/sup\u003e\u003c/a\u003e\u003cbr\u003e\n",
"\n",
"\u003cdiv class=\"container\"\u003e\n",
"\u003cdiv class=\"container\"\u003e\n",
"Signals detected during a LC-MS measurement are pairs of m/z value and ion intensity in time. All signals recorded at a particular retention \n",
"time in a given mass range compose a spectrum. Thus, in its most raw form, a generic spectrum contains the following information: (i) scan \n",
"(spectra) number; (ii) retention time; (iii) vector of m/z values; (iv) vector of ion intensities; (v) scan mode. The scan number is a simple \n",
"enumeration over the measurements. The retention time is the time when the measured peptides were eluting from the column. The m/z values \n",
"represent the mass over charge values of the ions and ion intensity values are the corresponding ion abundances. The scan mode denotes the \n",
"operational mode used to record the spectrum. It is either a full scan or the number of the fragmentation scan.\n",
"\n",
"\u003cdiv Id=\"figure3\" Style=\"margin-left: auto ; margin-right: auto ; color: #44546a ; width: 80% ; padding: 15px\"\u003e\n",
"\u003cdiv Id=\"figure3\" Style=\"margin-left: auto ; margin-right: auto ; color: #44546a ; width: 80% ; padding: 15px\"\u003e\n",
"    \u003cimg src=\"img/MSDerivedDataSpaces.png\" Style=\"width: 100%\"\u003e\n",
"    \u003cdiv Style=\"padding-left: 1rem ; padding-right: 1rem ; text-align: justify ; margin-top: 1rem; font-size: 0.8rem \"\u003e\n",
"        \u003cb\u003eFigure 3: A conceptual view of different spaces of MS derived data sets.\u003c/b\u003e\n",
"        (i) The metadata-space serves as a descriptive layer to order, assign and integrate spectra information. (ii) \n",
"        The MS1-space and the (iii) MS2-space represent two independent entities that differ in signal shape, resolution and their \n",
"        information content (‘features’).\n",
"    \u003c/div\u003e\n",
"\u003c/div\u003e    \n",
"\u003c/div\u003e\n",
"\n",
"\u003chr\u003e\n",
"\u003chr\u003e\n",
"\u003cnav class=\"level is-mobile\"\u003e\n",
"    \u003cdiv class=\"level-left\"\u003e\n",
"        \u003cdiv class=\"level-item\"\u003e\n",
"            \u003cbutton class=\"button is-primary is-outlined\" onclick=\"location.href=\u0027/JP06_Retention_time_and_scan_time.html\u0027;\"\u003e\u0026#171; JP06\u003c/button\u003e\n",
"        \u003c/div\u003e\n",
"    \u003c/div\u003e\n",
"    \u003cdiv class=\"level-right\"\u003e\n",
"        \u003cdiv class=\"level-item\"\u003e\n",
"            \u003cbutton class=\"button is-primary is-outlined\" onclick=\"location.href=\u0027/JP08_Centroidisation.html\u0027;\"\u003eJP08 \u0026#187;\u003c/button\u003e\n",
"        \u003c/div\u003e\n",
"    \u003c/div\u003e\n",
"\u003c/nav\u003e\n",
"\n"]
          }],
            "metadata": {
            "kernelspec": {"display_name": ".NET (F#)", "language": "F#", "name": ".net-fsharp"},
            "langauge_info": {
        "file_extension": ".fs",
        "mimetype": "text/x-fsharp",
        "name": "C#",
        "pygments_lexer": "fsharp",
        "version": "4.5"
        }
        },
            "nbformat": 4,
            "nbformat_minor": 1
        }
        

