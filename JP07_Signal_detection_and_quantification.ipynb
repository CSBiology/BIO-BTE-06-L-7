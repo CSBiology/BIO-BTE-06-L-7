
        {
            "cells": [
          {
           "cell_type": "markdown",
           "metadata": {},
           
           "source": ["# JP07 Signal detection and quantification\n",
"\n",
"[![Binder](https://mybinder.org/badge_logo.svg)](https://mybinder.org/v2/gh/CSBiology/BIO-BTE-06-L-7/gh-pages?filepath=JP07_Signal_detection_and_quantification.ipynb)\n",
"\n",
"1. Signal detection and quantification\n",
"\n",
"\n",
"## Signal detection and quantification\n",
"\n",
"Signals detected during a LC-MS measurement are pairs of m/z value and ion intensity in time. All signals recorded at a particular retention \n",
"time in a given mass range compose a spectrum. Thus, in its most raw form, a generic spectrum contains the following information: (i) scan \n",
"(spectra) number; (ii) retention time; (iii) vector of m/z values; (iv) vector of ion intensities; (v) scan mode. The scan number is a simple \n",
"enumeration over the measurements. The retention time is the time when the measured peptides were eluting from the column. The m/z values \n",
"represent the mass over charge values of the ions and ion intensity values are the corresponding ion abundances. The scan mode denotes the \n",
"operational mode used to record the spectrum. It is either a full scan or the number of the fragmentation scan.\n",
"\n",
"![](https://raw.githubusercontent.com/CSBiology/BIO-BTE-06-L-7/main/docs/img/MSDerivedDataSpaces.PNG)\n",
"\n",
"**Figure 3: A conceptual view of different spaces of MS derived data sets.**\n",
"(i) The metadata-space serves as a descriptive layer to order, assign and integrate spectra information. (ii) \n",
"The MS1-space and the (iii) MS2-space represent two independent entities that differ in signal shape, resolution and their \n",
"information content (‘features’).\n",
"\n"]
          }],
            "metadata": {
            "kernelspec": {"display_name": ".NET (F#)", "language": "F#", "name": ".net-fsharp"},
            "langauge_info": {
        "file_extension": ".fs",
        "mimetype": "text/x-fsharp",
        "name": "C#",
        "pygments_lexer": "fsharp",
        "version": "4.5"
        }
        },
            "nbformat": 4,
            "nbformat_minor": 1
        }
        

