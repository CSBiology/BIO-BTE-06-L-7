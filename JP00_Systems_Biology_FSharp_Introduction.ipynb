
        {
            "cells": [
          {
           "cell_type": "markdown",
           "metadata": {},
           
           "source": ["# JP00 Systems Biology\n",
"\n",
"[![Binder](https://mybinder.org/badge_logo.svg)](https://mybinder.org/v2/gh/CSBiology/BIO-BTE-06-L-7/gh-pages?filepath=JP00_Systems_Biology_FSharp_Introduction.ipynb)\n",
"\n",
"\n",
"This notebook introduces the field of Systems Biology and explains why programming is a necessary skill to it. You will get a short introduction to the programming language F# and some links to resource for further studies.\n",
"\n",
"1. Systems Biology: A brief introduction\n",
"2. Starting with FSharp\n",
"    1. Functions\n",
"    2. Binding function values and simple values\n",
"        1. Side note: Lambda expressions\n",
"    3. Simple values\n",
"    4. Lists \u0026 Arrays\n",
"    5. Higher-order functions\n",
"        1. Side Note: Pipe-forward operator |\u003e\n",
"    6. Control flow expressions\n",
"        1. if-then-else\n",
"        2. Pattern Matching\n",
"    7. Complex Data Types\n",
"        1. Tuples\n",
"        2. Record Types\n",
"    8. Code organization\n",
"        1. Namespaces and modules\n",
"        2. Comments\n",
"3. References\n",
"\n",
"## Systems Biology: A brief introduction\n",
"\n",
"\n",
"The term “systems theory” was introduced by the biologist L. von Bertalanffy. He defined a system as a set of related components that work together in a particular environment to perform whatever \n",
"functions are required to achieve the system\u0027s objective (Bertalanffy 1945). The hierarchical organization orchestrating the interaction of thousands of molecules with individual \n",
"properties allows complex biological functions. Biological processes like cell division, biomass production, or a systemic response to perturbations are molecular physiological functions \n",
"which result from a complex dynamic interplay between genes, proteins and metabolites (Figure 1). To gain a holistic understanding of a biological system, all parts of the \n",
"system need to be studied simultaneously by quantitative measures (Sauer et al. 2007). The focus on a system-wide perspective lies on the quantitative understanding of the \n",
"organizational structure, functional state, robustness and dynamics of a biological system and led to the coining of the term “Systems Biology”(Kitano 2002a).\n",
"\n",
"The current challenges of Systems Biology approaches are mainly along four lines (Sauer et al. 2007, Joyce and Palsson 2006): \n",
"\n",
" - (**i**) - system-wide quantification of transcriptome, proteome (including protein modifications) and metabolome\n",
" \n",
" - (**ii**) - identification of physical interactions between these components\n",
" \n",
" - (**iii**) - inference of structure, type and quantity of found interactions\n",
" \n",
" - (**iv**) - analysis and integration of the resulting large amounts of heterogeneous data. It becomes obvious that an interdisciplinary effort is needed to resolve these challenges in Systems Biology (Aderem 2006). Here Biology dictates which analytical, experimental and computational methods are required.\n",
"\n",
"Modern analytical methods to measure the identity and quantity of biomolecules system-wide, summarized under the term “quantitative omics”-technologies, address the first two \n",
"mentioned challenges of Systems Biology. Among these “omics”-technologies are transcriptomics based on microarrays/next generation sequencing and proteomics/metabolomics based on mass-spectrometry.\n",
"\n",
"Tying in with the area of genome sequencing, the focus is set on the accurate profiling of gene/protein expression and metabolite concentrations, as well as on the determination of biological \n",
"protein modifications and of physical interactions between proteins.\n",
"\n",
"Addressing the abovementioned challenges three and four of Systems Biology, the development of numerous computational approaches reaches out to unravel the \n",
"intrinsic complexity of biological systems (Kahlem and Birney 2006). These computational approaches focus on knowledge discovery and on in silico \n",
"simulation or modeling (Kitano 2002b). In the latter approach knowledge on a biological process is converted into a mathematical model. \n",
"In silico simulations based on such a model can provide predictions that may subsequently be tested experimentally. Computation-based knowledge discovery \n",
"(also known as data mining) aims to extract hidden patterns from complex and high-dimensional data to generate hypotheses. Therefore, the first step is to describe \n",
"information on a biological system such that it is sustainably stored in a format rendering it readable and manipulable for machines and humans. The second step is \n",
"to integrate the huge amount of differently structured data, often referred to as the “big data” challenge. In a last step, statistical or machine learning methods \n",
"are applied to extract the information or underlying principles hidden in the data.\n",
"\n",
"The most flexible way of working with huge amounts of data is using a lightweight programming language with a succinct syntax. Therefore, it becomes necessary that biologist become familiar with a suitable programming language to solve real world problems in (Systems) Biology.\n",
"\n",
"![](https://raw.githubusercontent.com/CSBiology/BIO-BTE-06-L-7/main/docs/img/OmicSpace.png)\n",
"***Figure 1: A conceptual view of the omic space.***\n",
"\n",
"The omics space comprises of genomic, transcriptomic, proteomic, metabolomic and phenomic systems level represented as a plane. Complex biological function is the result of the interplay between molecules of one and/or different systems level.\n",
"\n",
"## Starting with FSharp\n",
"\n",
"\n",
"F# (pronounced “F Sharp”) is a simple and expressive programming language. It can be described as statically typed impure functional language that supports functional, \n",
"imperative and object-oriented paradigm and also several other programming styles including data-driven, event-driven and parallel programming. \n",
"This makes it an excellent tool for introducing programming as well as programming paradigms.\n",
"\n",
"F# is supported by the [F# Software Foundation](http://fsharp.org) and a worldwide community of contributors. Microsoft and other companies \n",
"develop professional tooling for F#. The [F# Language Reference](https://docs.microsoft.com/en-us/dotnet/articles/fsharp/) is a reference for \n",
"the F# language, and the [F# Guide](https://docs.microsoft.com/en-us/dotnet/articles/fsharp/) covers general topics. There are lots of excellent \n",
"[F# learning resources](http://fsharp.org/learn.html) available online.\n",
"   \n",
"To learn more about how to use Jupyter notebooks, see the [Jupyter documentation](http://jupyter-notebook.readthedocs.io/) and the [Jupyter keyboard shortcuts](https://www.cheatography.com/weidadeyue/cheat-sheets/jupyter-notebook/). You can find more information baoutthe F# and Jupyter tooling locally using [IfSharp](https://github.com/fsprojects/IfSharp).\n",
"  \n",
"With the help of the following FSharp coding information/examples, you will be able to solve all exercises in *JP01_FSharpExcercises.ipynb*!\n",
"   \n",
"Let\u0027s start with our basic introduction:\n",
"\n",
"## Functions\n",
"\n",
"The impetus behind functional programming comes from mathematics. Mathematical functions have a number of very nice features that functional languages try to emulate in the real world.\n",
"So first, let’s start with a mathematical function that adds 1 to a number.\n",
"\n",
"```\n",
"Add1(x) = x+1\n",
"```\n",
"\n",
"What does this really mean? Well it seems pretty straightforward. It means that there is an operation that starts with a number, and adds one to it.\n",
"   \n",
"**Let’s introduce some terminology:**\n",
"\n",
" - The set of values that can be used as input to the function is called the domain. In this case, it could be the set of real numbers, but to make life simpler for now, let’s restrict it to integers only.\n",
"\n",
" - The set of possible output values from the function is called the range (technically, the image on the codomain). In this case, it is also the set of integers.\n",
"\n",
" - The function is said to map the domain to the range.\n",
"\n",
"A diagram of a general function would be:\n",
"\n",
"![](https://raw.githubusercontent.com/CSBiology/BIO-BTE-06-L-7/main/docs/img/function.png)\n",
"***Figure 2: diagram of a general function***\n",
"\n",
"\n",
"## Binding function values and simple values\n",
"\n",
"The process of using a name to represent a function or a value is called “binding“. A binding is done by using the `let` keyword in F#. Let’s look at the simple function we used previously:\n",
"\n",
"\n"]
          }
,
          {
           "cell_type": "code",
           "metadata": {},
            "execution_count": 1, "outputs": [], 
           "source": ["let add1 x = x + 1\n",
"// evaluate\n",
"add1\n"]
          }
,
          {
           "cell_type": "markdown",
           "metadata": {},
           
           "source": ["```\n",
"val add1: \n",
"   x: int \n",
"   -\u003e int\n",
"```\n",
"\n",
"What does the “x” mean here? It means:\n",
"\n",
" - Accept some value from the input domain.\n",
"\n",
" - Use the name ”x” to represent that value so that we can refer to it later. The name “x” is \"bound\" to the input value. So if we evaluate the function with the input 5 say, what is happening is that everywhere we see “x” in the original definition, we replace it with “5”, sort of like search and replace in a word processor\n",
"\n",
"\n"]
          }
,
          {
           "cell_type": "code",
           "metadata": {},
            "execution_count": 2, "outputs": [
          {
           "data": {
            "text/plain": ["6"]
        },
           "execution_count": 2,
           "metadata": {},
           "output_type": "execute_result"
          }], 
           "source": ["add1 5\n",
"// replace \"x\" with \"5\"\n",
"// add1 5 = 5 + 1 = 6\n",
"// result is 6\n"]
          }
,
          {
           "cell_type": "markdown",
           "metadata": {},
           
           "source": ["If you think about this a bit more, you will see that the name `add1` itself is just a binding to _the function that adds one to its input_. \n",
"The function itself is independent of the name it is bound to. When you type let `add1` x = x + 1 you are telling the F# compiler “every time you see the name add1, \n",
"replace it with _the function that adds one to its input_”. `add1` is called a function value. To see that the function is independent of its name, try:\n",
"\n"]
          }
,
          {
           "cell_type": "code",
           "metadata": {},
            "execution_count": 3, "outputs": [
          {
           "data": {
            "text/plain": ["true"]
        },
           "execution_count": 3,
           "metadata": {},
           "output_type": "execute_result"
          }], 
           "source": ["let plus1 = add1\n",
"add1 5 = plus1 5\n"]
          }
,
          {
           "cell_type": "markdown",
           "metadata": {},
           
           "source": ["You can see that `add1` and `plus1` are two names that refer (\"bound to\") to the same function. You can always identify a function value because its signature has the standard form domain → range. \n",
"Here is a generic function value signature:\n",
"\n",
"```\n",
"val functionName : domain -\u003e range\n",
"```\n",
"\n",
"Side note: Lambda expressions\n",
"\n",
"In F# it is possible to use function without giving them a name and use the keyword `fun` instead and the `=` becomes `-\u003e`. \n",
"This is called anonymous function, or - referring to lambda calculus - **lambda expression**. This kind of functions are often used for convenience. To write `add1` as lambda expression:\n",
"\n"]
          }
,
          {
           "cell_type": "code",
           "metadata": {},
            "execution_count": 4, "outputs": [], 
           "source": ["fun x -\u003e x + 1\n"]
          }
,
          {
           "cell_type": "markdown",
           "metadata": {},
           
           "source": ["## Simple values\n",
"\n",
"![](img/valueBinding.png)\n",
"      \n",
"Imagine an operation that always returned the integer 5 and didn’t have any input.\n",
"   \n",
"This would be a “constant” operation.\n",
"How would we write this in F#? We want to tell the F# compiler “every time you see the name c, replace it with 5”. Here’s how:\n",
"\n"]
          }
,
          {
           "cell_type": "code",
           "metadata": {},
            "execution_count": 5, "outputs": [
          {
           "data": {
            "text/plain": ["5"]
        },
           "execution_count": 5,
           "metadata": {},
           "output_type": "execute_result"
          }], 
           "source": ["let c = 5\n",
"// evaluate\n",
"c\n"]
          }
,
          {
           "cell_type": "markdown",
           "metadata": {},
           
           "source": ["There is no mapping arrow this time, just a single int. What’s new is an equals sign with the actual value printed after it. The F# compiler knows that this binding has a known value which it will always return, namely the value 5.\n",
"In other words, we’ve just defined a constant, or in F# terms, a simple value.\n",
"\n",
"## Lists \u0026 Arrays\n",
"\n",
"Square brackets `[]` create a list with semicolon `;` delimiters.\n",
"\n"]
          }
,
          {
           "cell_type": "code",
           "metadata": {},
            "execution_count": 6, "outputs": [
          {
           "data": {
            "text/plain": ["[2; 3; 4; 5]"]
        },
           "execution_count": 6,
           "metadata": {},
           "output_type": "execute_result"
          }], 
           "source": ["let twoToFive = [2; 3; 4; 5]\n",
"twoToFive\n"]
          }
,
          {
           "cell_type": "markdown",
           "metadata": {},
           
           "source": ["`::` creates a list with a new element appended to the front of the list.\n",
"\n"]
          }
,
          {
           "cell_type": "code",
           "metadata": {},
            "execution_count": 7, "outputs": [
          {
           "data": {
            "text/plain": ["[1; 2; 3; 4; 5]"]
        },
           "execution_count": 7,
           "metadata": {},
           "output_type": "execute_result"
          }], 
           "source": ["let oneToFive = 1::twoToFive\n",
"oneToFive\n"]
          }
,
          {
           "cell_type": "markdown",
           "metadata": {},
           
           "source": ["Square brackets with dashes `[||]` create an array with semicolon `;` delimiters.\n",
"\n"]
          }
,
          {
           "cell_type": "code",
           "metadata": {},
            "execution_count": 8, "outputs": [], 
           "source": ["let oneToFour = [|1; 2; 3; 4|]\n"]
          }
,
          {
           "cell_type": "markdown",
           "metadata": {},
           
           "source": ["Elements can be accessed using dot `.[i]`, where i is the (zero-based) index of the desired element\n",
"\n"]
          }
,
          {
           "cell_type": "code",
           "metadata": {},
            "execution_count": 9, "outputs": [
          {
           "data": {
            "text/plain": ["1"]
        },
           "execution_count": 9,
           "metadata": {},
           "output_type": "execute_result"
          }], 
           "source": ["oneToFour.[0]\n"]
          }
,
          {
           "cell_type": "markdown",
           "metadata": {},
           
           "source": ["_Note_: commas are **never** used as delimiters in collection types, only semicolons!\n",
"\n",
"## Higher-order functions\n",
"\n",
"A higher-order function is a function that takes another function as a parameter. \n",
"This is simple, but leads to one of the most important concepts of functional programming: The conceptual operation: ***map***\n",
"\n",
"The higher-order and polytypic function `map` applies a function working on the normal space to an elevated space.\n",
"This concept is so important that all collection types (lists, arrays, ...) have a build in `map` function. \n",
"Let\u0027s look at an example of what that means. Therefore, we first define a function working on the normal space:\n",
"\n",
"![](https://raw.githubusercontent.com/CSBiology/BIO-BTE-06-L-7/main/docs/img/map.png)\n",
"***Figure 3: A conceptual view of the `map` concept.***\n",
"\n"]
          }
,
          {
           "cell_type": "code",
           "metadata": {},
            "execution_count": 10, "outputs": [
          {
           "data": {
            "text/plain": ["9"]
        },
           "execution_count": 10,
           "metadata": {},
           "output_type": "execute_result"
          }], 
           "source": ["let square x = x * x\n",
"// evaluate\n",
"square 3\n"]
          }
,
          {
           "cell_type": "markdown",
           "metadata": {},
           
           "source": ["Now, let\u0027s apply this function to every number in a list.\n",
"\n"]
          }
,
          {
           "cell_type": "code",
           "metadata": {},
            "execution_count": 11, "outputs": [
          {
           "data": {
            "text/plain": ["[9; 4; 36; 49]"]
        },
           "execution_count": 11,
           "metadata": {},
           "output_type": "execute_result"
          }], 
           "source": ["List.map square [3;2;6;7]\n"]
          }
,
          {
           "cell_type": "markdown",
           "metadata": {},
           
           "source": ["Be aware, that this concept of mapping is restricted to the actual function called `map`. A `filter` function, for example, is also the same kind of operation.\n",
"\n"]
          }
,
          {
           "cell_type": "code",
           "metadata": {},
            "execution_count": 12, "outputs": [], 
           "source": ["let evens list =\n",
"   let isEven x = x%2 = 0\n",
"   List.filter isEven list \n",
"   \n",
"//isEven 5      // the value or constructor isEven is not defined. .. this is because it is only defined inside \n",
"                // of the functional scope of `evens`.\n"]
          }
,
          {
           "cell_type": "markdown",
           "metadata": {},
           
           "source": ["Additionaly, you can see in this example how to define a multiline function. Just use indents! No `;` needed.\n",
"Define `isEven` as an inner (\"nested\") function. In this case the function `isEven` is defined in the scope of the function `evens`. It cannot be accessed outside of this scope.\n",
"`List.filter` is a library function with two parameters: a `predicate` function, returning `true` or `false` depending on the input - and a `list` to work on.\n",
"\n"]
          }
,
          {
           "cell_type": "code",
           "metadata": {},
            "execution_count": 13, "outputs": [
          {
           "data": {
            "text/plain": ["[2; 4]"]
        },
           "execution_count": 13,
           "metadata": {},
           "output_type": "execute_result"
          }], 
           "source": ["evens [1..5]\n"]
          }
,
          {
           "cell_type": "markdown",
           "metadata": {},
           
           "source": ["You can use `()` to clarify precedence (think brackets in math). In this example, do `List.map` first, with two parameters. Then do `List.sum` on the result. `List.map` \n",
"applies a function to all elements in the list.\n",
"\n"]
          }
,
          {
           "cell_type": "code",
           "metadata": {},
            "execution_count": 14, "outputs": [
          {
           "data": {
            "text/plain": ["338350"]
        },
           "execution_count": 14,
           "metadata": {},
           "output_type": "execute_result"
          }], 
           "source": ["let sumOfSquaresTo100 =\n",
"   List.sum (List.map square [1..100])\n",
"\n",
"sumOfSquaresTo100\n"]
          }
,
          {
           "cell_type": "markdown",
           "metadata": {},
           
           "source": ["Without the `()`, `List.map` would be passed as an parameter to `List.sum`.\n",
"\n",
"## Side Note: Pipe-forward operator `|\u003e`\n",
"\n",
"The Pipe-forward operator lets you pass an intermediate result (value) onto the next function, it’s defined as: \n",
"\n",
"\n"]
          }
,
          {
           "cell_type": "code",
           "metadata": {},
            "execution_count": 15, "outputs": [], 
           "source": ["let (|\u003e) x f = f x \n"]
          }
,
          {
           "cell_type": "markdown",
           "metadata": {},
           
           "source": ["Now, you can pipe the output of one operation to the next using `|\u003e`.\n",
"Here is the same `sumOfSquares` function written using pipes.\n",
"\n",
"\n"]
          }
,
          {
           "cell_type": "code",
           "metadata": {},
            "execution_count": 16, "outputs": [
          {
           "data": {
            "text/plain": ["338350"]
        },
           "execution_count": 16,
           "metadata": {},
           "output_type": "execute_result"
          }], 
           "source": ["let sumOfSquaresTo100piped =\n",
"   [1..100] \n",
"   |\u003e List.map square \n",
"   |\u003e List.sum\n",
"\n",
"sumOfSquaresTo100piped\n"]
          }
,
          {
           "cell_type": "markdown",
           "metadata": {},
           
           "source": ["In this case one often uses anonymous functions using the `fun` keyword. This saves time to think about a name and the function can be writen inline.\n",
"\n"]
          }
,
          {
           "cell_type": "code",
           "metadata": {},
            "execution_count": 17, "outputs": [
          {
           "data": {
            "text/plain": ["338350"]
        },
           "execution_count": 17,
           "metadata": {},
           "output_type": "execute_result"
          }], 
           "source": ["let sumOfSquaresTo100withFun =\n",
"   [1..100] \n",
"   |\u003e List.map (fun x -\u003e x * x) \n",
"   |\u003e List.sum\n",
"   \n",
"sumOfSquaresTo100withFun\n"]
          }
,
          {
           "cell_type": "markdown",
           "metadata": {},
           
           "source": ["You already used the `List.sum` function. It is important to notice that this function doesn’t follow the `map` concept. There is a second related concept called `fold`. \n",
"The higher-order and polytypic function `fold` applies a function working on the normal space to an elevated space and reduces the elevated space into the normal space. \n",
"This results in an aggregation. A simple but concreate example would be to sum a list of numeric values.\n",
"\n",
"\n",
"![](https://raw.githubusercontent.com/CSBiology/BIO-BTE-06-L-7/main/docs/img/fold.png)\n",
"***Figure 4: A conceptual view of the `fold` concept.***\n",
"\n",
"## Control flow expressions\n",
"\n",
"Control flow expressions are used to determine the program pathing under multiple possible conditions. These different paths must always lead to the same `Type` (e.g. `string`).\n",
"\n",
"### if-then-else\n",
"\n",
"`if-then-else` is an expression and must return a value of a particular type.\n",
"It evaluates to a different value depending on the `boolean` expression given.\n",
"\n",
"Both branches must return the same type!\n",
"\n",
"\n"]
          }
,
          {
           "cell_type": "code",
           "metadata": {},
            "execution_count": 18, "outputs": [
          {
           "data": {
            "text/plain": ["\"a\""]
        },
           "execution_count": 18,
           "metadata": {},
           "output_type": "execute_result"
          }], 
           "source": ["let v = if true then \"a\" else \"b\"\n",
"v\n"]
          }
,
          {
           "cell_type": "markdown",
           "metadata": {},
           
           "source": ["### Pattern Matching\n",
"\n",
"Pattern matchings are one method to apply these control flow expressions. These function similiar to the *if then else* expression, but much more powerful.\n",
"\n",
"\n"]
          }
,
          {
           "cell_type": "code",
           "metadata": {},
            "execution_count": 19, "outputs": [], 
           "source": ["let simplePatternMatch x =\n",
"   match x with\n",
"    | \"a\" -\u003e printfn \"input is a\"\n",
"    | \"b\" -\u003e printfn \"input is b\"\n",
"    | _   -\u003e printfn \"input is something else\"\n"]
          }
,
          {
           "cell_type": "markdown",
           "metadata": {},
           
           "source": ["Underscore `_` matches anything\n",
"\n"]
          }
,
          {
           "cell_type": "code",
           "metadata": {},
            "execution_count": 20, "outputs": [
          {
           "data": {
            "text/plain": ["input is a"]
        },
           "execution_count": 20,
           "metadata": {},
           "output_type": "execute_result"
          }], 
           "source": ["simplePatternMatch \"a\" \n"]
          }
,
          {
           "cell_type": "code",
           "metadata": {},
            "execution_count": 21, "outputs": [
          {
           "data": {
            "text/plain": ["input is something else"]
        },
           "execution_count": 21,
           "metadata": {},
           "output_type": "execute_result"
          }], 
           "source": ["simplePatternMatch \"I will not match\"\n"]
          }
,
          {
           "cell_type": "markdown",
           "metadata": {},
           
           "source": ["In the following we will use a `printfn` function. Normally in FSharp only the last output is returned, but side effects, can always be returned. As a rule of thumb: All Unit outputs are side effects. \n",
"In this case, this means, we will print the result and still can keep working with the output.\n",
"Also you will notice, that the last output is only `f (1=3)` → `\"b\"`, but we still will get all other results, as we print them below.\n",
"\n"]
          }
,
          {
           "cell_type": "code",
           "metadata": {},
            "execution_count": 22, "outputs": [
          {
           "data": {
            "text/plain": ["\"b\""]
        },
           "execution_count": 22,
           "metadata": {},
           "output_type": "execute_result"
          }], 
           "source": ["let f x = \n",
"    if x then \n",
"        printfn \"a\";\n",
"        \"a\" \n",
"    else\n",
"        printfn \"b\"\n",
"        \"b\"\n",
"\n",
"f false\n"]
          }
,
          {
           "cell_type": "code",
           "metadata": {},
            "execution_count": 23, "outputs": [
          {
           "data": {
            "text/plain": ["\"a\""]
        },
           "execution_count": 23,
           "metadata": {},
           "output_type": "execute_result"
          }], 
           "source": ["f true\n"]
          }
,
          {
           "cell_type": "code",
           "metadata": {},
            "execution_count": 24, "outputs": [
          {
           "data": {
            "text/plain": ["\"a\""]
        },
           "execution_count": 24,
           "metadata": {},
           "output_type": "execute_result"
          }], 
           "source": ["f (1=1)\n"]
          }
,
          {
           "cell_type": "code",
           "metadata": {},
            "execution_count": 25, "outputs": [
          {
           "data": {
            "text/plain": ["\"b\""]
        },
           "execution_count": 25,
           "metadata": {},
           "output_type": "execute_result"
          }], 
           "source": ["f (1=3)\n"]
          }
,
          {
           "cell_type": "markdown",
           "metadata": {},
           
           "source": ["## Complex Data Types\n",
"\n",
"\n",
"### Tuples\n",
"\n",
"Tuple types are pairs, triples, and so on of values.\n",
"\n",
"Tuples use commas `,` as delimiter.\n",
"\n",
"\n"]
          }
,
          {
           "cell_type": "code",
           "metadata": {},
            "execution_count": 26, "outputs": [
          {
           "data": {
            "text/plain": ["(1, 2)"]
        },
           "execution_count": 26,
           "metadata": {},
           "output_type": "execute_result"
          }], 
           "source": ["let twoTuple = 1,2\n",
"twoTuple\n"]
          }
,
          {
           "cell_type": "code",
           "metadata": {},
            "execution_count": 27, "outputs": [
          {
           "data": {
            "text/plain": ["(\"a\", 2, true)"]
        },
           "execution_count": 27,
           "metadata": {},
           "output_type": "execute_result"
          }], 
           "source": ["let threeTuple = \"a\",2,true\n",
"threeTuple\n"]
          }
,
          {
           "cell_type": "markdown",
           "metadata": {},
           
           "source": ["### Record Types\n",
"\n",
"Record types have named fields. They use Semicolons `;` as separators.\n",
"\n",
"\n"]
          }
,
          {
           "cell_type": "code",
           "metadata": {},
            "execution_count": 28, "outputs": [
          {
           "data": {
            "text/plain": ["{ FirstName = \"John\"",
"  LastName = \"Doe\" }"]
        },
           "execution_count": 28,
           "metadata": {},
           "output_type": "execute_result"
          }], 
           "source": ["type Person = {FirstName:string; LastName:string}\n",
"\n",
"let person1 = {FirstName = \"John\"; LastName = \"Doe\"}\n",
"person1\n"]
          }
,
          {
           "cell_type": "markdown",
           "metadata": {},
           
           "source": ["Field of a record type can be acessed individually with a dot `.Name`\n",
"\n"]
          }
,
          {
           "cell_type": "code",
           "metadata": {},
            "execution_count": 29, "outputs": [
          {
           "data": {
            "text/plain": ["\"John\""]
        },
           "execution_count": 29,
           "metadata": {},
           "output_type": "execute_result"
          }], 
           "source": ["person1.FirstName\n"]
          }
,
          {
           "cell_type": "markdown",
           "metadata": {},
           
           "source": ["## Code organization\n",
"\n",
"Sometimes it can be necessary to organize code for example to ship a library to other users. Namespaces und Modules are top-level and low-level constructs to organize code. \n",
"\n",
"### Namespaces and modules\n",
"\n",
"You can think of namespaces and modules as containers and sub containers, respectively, in which you can put function and type definitions. \n",
"The hierarchy is defined that you can have multiple modules in one namespace, also nested modules in a module, but no namespace in another \n",
"namespace. You can acces namespaces and modules with the `.` operator.\n",
"\n",
"\n"]
          }
,
          {
           "cell_type": "code",
           "metadata": {},
            "execution_count": 30, "outputs": [
          {
           "data": {
            "text/plain": ["\"Hello FSharp\""]
        },
           "execution_count": 30,
           "metadata": {},
           "output_type": "execute_result"
          }], 
           "source": ["//Module “container” \n",
"module WidgetsModule =\n",
"    let widgetName = \"FSharp\"\n",
"    let widgetFunction x y =\n",
"        sprintf \"%s %s\" x y\n",
"        // printfn \"%s %s\" x y\n",
"\n",
"// Calls the function from the module\n",
"WidgetsModule.widgetFunction \"Hello\" WidgetsModule.widgetName\n"]
          }
,
          {
           "cell_type": "markdown",
           "metadata": {},
           
           "source": ["### Comments\n",
"\n",
"Comments also help to write organized code.\n",
"\n",
"**Comments are text written in code area (often marked green) which will be ignored by the compiler and not be executed.**\n",
"\n",
"`//` single line comments use a double slash\n",
"\n",
"(* multi-line or in-line comments use `(* . . . *)` pair -end of multi line comment- *)\n",
"\n",
"\n"]
          }
,
          {
           "cell_type": "code",
           "metadata": {},
            "execution_count": 31, "outputs": [], 
           "source": ["type PersonalInformation =\n",
"    {\n",
"        //First name of a person\n",
"        FirstName  :string\n",
"        //Last name of a person\n",
"        LastName   :string\n",
"        (*Address and\n",
"        phone number of a person*)\n",
"        Address    : (*int*) string\n",
"        PhoneNumber: int\n",
"    }\n"]
          }
,
          {
           "cell_type": "markdown",
           "metadata": {},
           
           "source": ["## References\n",
"\n",
"1. Bertalanffy, L. von. Zu einer allgemeinen Systemlehre. Blätter für deutsche Philosophie 18 (1945).\n",
"2. Sauer, U., Heinemann, M. \u0026 Zamboni, N. Genetics. Getting closer to the whole picture. Science 316, 550–551; 10.1126/science.1142502 (2007).\n",
"3. Kitano, H. Systems biology. a brief overview. Science 295, 1662–1664; 10.1126/science.1069492 (2002).\n",
"4. Joyce, A. R. \u0026 Palsson, B. O. The model organism as a system. integrating \u0027omics\u0027 data sets. Nat Rev Mol Cell Bio 7, 198–210; 10.1038/Nrm1857 (2006).\n",
"5. Aderem, A. Systems biology. Its practice and challenges. Cell 121, 511–513; 10.1016/j.cell.2005.04.020 (2005).\n",
"6. Kahlem, P. \u0026 Birney, E. Dry work in a wet world. computation in systems biology. Mol Syst Biol 2 (2006).\n",
"7. Kitano, H. Computational systems biology. Nature 420, 206–210; 10.1038/nature01254 (2002).\n",
"\n"]
          }],
            "metadata": {
            "kernelspec": {"display_name": ".NET (F#)", "language": "F#", "name": ".net-fsharp"},
            "langauge_info": {
        "file_extension": ".fs",
        "mimetype": "text/x-fsharp",
        "name": "C#",
        "pygments_lexer": "fsharp",
        "version": "4.5"
        }
        },
            "nbformat": 4,
            "nbformat_minor": 1
        }
        

