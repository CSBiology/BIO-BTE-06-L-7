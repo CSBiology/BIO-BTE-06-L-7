
        {
            "cells": [
          {
           "cell_type": "markdown",
           "metadata": {},
           
           "source": ["# NB02b Digestion and mass calculation\n",
"\n",
"[![Binder](https://mybinder.org/badge_logo.svg)](https://mybinder.org/v2/gh/CSBiology/BIO-BTE-06-L-7/gh-pages?filepath=NB02b_Digestion_and_mass_calculation.ipynb)\n",
"\n",
"[Download Notebook](https://github.com/CSBiology/BIO-BTE-06-L-7/releases/download/NB02a_NB02b_NB02c/NB02b_Digestion_and_mass_calculation.ipynb)\n",
"\n",
"1. Digestion and mass calculation\n",
"    2. Accessing the protein sequences of *Chlamydomonas reinhardtii*\n",
"    3. Amino acid distribution for *C. reinhardtii*\n",
"4. Calculating the molecular weight for peptides\n",
"    5. *In silico* digestion of FASTA proteins with trypsin\n",
"    6. Calculating peptide masses\n",
"    7. Calculating peptide masses for charge 2\n",
"6. References\n",
"7. Questions\n",
"\n",
"\n",
"## Digestion and mass calculation\n",
"\n",
"The most widely applied method for protein digestion involves the use of enzymes. Many proteases are available for this purpose, \n",
"each having their own characteristics in terms of specificity, efficiency and optimum digestion conditions. Trypsin is most widely \n",
"applied in bottom-up proteomics and and has a very high degree of specificity, cleaving the peptide bonds C-terminal to the basic residues \n",
"Lys and Arg, except when followed by Pro (Burkhart et al. 2012). In general, Lys and Arg are relatively abundant amino acids and are \n",
"usually well distributed throughout a protein (Switzar et al. 2013). This leads to tryptic peptides with an average length of ∼14 amino \n",
"acids that carry at least two positive charges, which is ideally suited for CID-MS analysis (Burkhart et al. 2012).\n",
"\n",
"Using *in silico* analysis, we want to confirm that the general properties of trypsin digestion also apply for the \n",
"proteome of *Chlamydomonas reinhardtii* . First, we load the proteome of *Chlamydomonas* in standard fastA format. \n",
"Amino acid composition of the proteome is simply counting each amino acid occurrence and can be visualized by a histogram:\n",
"\n"]
          }
,
          {
           "cell_type": "code",
           "metadata": {},
            "execution_count": 1, "outputs": [], 
           "source": ["#r \"nuget: BioFSharp, 2.0.0-beta5\"\n",
"#r \"nuget: BioFSharp.IO, 2.0.0-beta5\"\n",
"#r \"nuget: Plotly.NET, 2.0.0-preview.16\"\n",
"#r \"nuget: BIO-BTE-06-L-7_Aux, 0.0.1\"\n",
"\n",
"#r \"nuget: Plotly.NET.Interactive, 2.0.0-preview.16\"\n",
"\n",
"open Plotly.NET\n",
"open BioFSharp\n",
"open BIO_BTE_06_L_7_Aux.FS3_Aux\n",
"open System.IO\n"]
          }
,
          {
           "cell_type": "markdown",
           "metadata": {},
           
           "source": ["## Accessing the protein sequences of *Chlamydomonas reinhardtii*\n",
"\n",
"FASTA is a standardized text format, containing gene or protein sequence information. Such FASTAs can be donwloaded \n",
"from [UniProt](https://www.uniprot.org/proteomes/UP000006906) for example.\n",
"\n",
"To gain informations about the amino acid composition of *C. reinhardtii*, we need information about the proteome \n",
"of *Chlamydomonas*, which is saved in the .fasta file we are accessing below.\n",
"\n"]
          }
,
          {
           "cell_type": "code",
           "metadata": {},
            "execution_count": 2, "outputs": [
          {
           "data": {
            "text/plain": ["\"/home/runner/work/BIO-BTE-06-L-7/BIO-BTE-06-L-7/docs/downloads/Chlamy_JGI5_5(Cp_Mp).fasta\""]
        },
           "execution_count": 2,
           "metadata": {},
           "output_type": "execute_result"
          }], 
           "source": ["// __SOURCE_DIRECTORY__ returns the directory in which the current notebook is located\n",
"let directory = __SOURCE_DIRECTORY__\n",
"let path = Path.Combine [|directory; \"downloads/Chlamy_JGI5_5(Cp_Mp).fasta\"|]\n",
"downloadFile path \"Chlamy_JGI5_5(Cp_Mp).fasta\" \"bio-bte-06-l-7\"\n",
"// with /../ we navigate a directory \n",
"path\n"]
          }
,
          {
           "cell_type": "markdown",
           "metadata": {},
           
           "source": ["Functions to read information from FASTA files exist in the [BioFSharp](https://csbiology.github.io/BioFSharp/) library.\n",
"\n"]
          }
,
          {
           "cell_type": "code",
           "metadata": {},
            "execution_count": 3, "outputs": [
          {
           "data": {
            "text/plain": ["{ Header =",
"   \"Cre38.g759997.t1.1 None DBV=JGI5.5 OS=Chlamydomonas reinhardtii SV=1 TOU=Cre\"",
"  Sequence =",
"   [|Met; Asp; Ala; Thr; Ser; Lys; Ala; Asp; Leu; Pro; Asp; Tyr; Ala; Ala; Asp;",
"     Asn; Arg; Leu; Pro; Pro; Trp; Leu; Leu; Pro; Asp; Gln; Glu; Gly; Lys; Pro;",
"     Ala; Gly; Arg; His; Leu; His; Tyr; Arg; Pro; Asp; Ile; Leu; Leu; Ile; Pro;",
"     Ser; Ile; Ser; Leu; Ala; Ala; Ala; Leu; Asn; Pro; Asp; Phe; Val; Val; Leu;",
"     Pro; Ser; Glu; Arg; Asp; Thr; Ile; His; Ile; Ile; Glu; Ala; Gly; Tyr; Thr;",
"     Ala; Asp; Thr; Asn; His; Ala; Ala; Lys; Gln; His; Glu; Lys; Ala; Gln; Gln;",
"     Gln; Gln; Ala; Leu; Ala; Ala; Asp; Leu; Arg; Glu; ...|] }"]
        },
           "execution_count": 3,
           "metadata": {},
           "output_type": "execute_result"
          }], 
           "source": ["let sequences = \n",
"    path\n",
"    |\u003e IO.FastA.fromFile BioArray.ofAminoAcidString\n",
"    |\u003e Seq.toArray\n",
"    \n",
"// Display the first element in the array collection\n",
"sequences |\u003e Array.head\n"]
          }
,
          {
           "cell_type": "markdown",
           "metadata": {},
           
           "source": ["## Amino acid distribution for *C. reinhardtii*\n",
"\n",
"To count the amino acid composition, we take the sequence of every protein and count the occurences of each amino acid\n",
"\n"]
          }
,
          {
           "cell_type": "code",
           "metadata": {},
            "execution_count": 4, "outputs": [
          {
           "data": {
            "text/plain": ["No value returned by any evaluator"]
        },
           "execution_count": 4,
           "metadata": {},
           "output_type": "execute_result"
          }], 
           "source": ["let aminoAcidDistribution =\n",
"    sequences\n",
"    // only access Sequence from each array element.\n",
"    |\u003e Array.collect (fun fastAItem -\u003e fastAItem.Sequence)\n",
"    // count each occurence of all amino acids. \n",
"    |\u003e Array.countBy id\n",
"    \n",
"aminoAcidDistribution\n",
"\n",
"let aaDistributionHis =\n",
"    aminoAcidDistribution\n",
"    |\u003e Array.map (fun (name,count) -\u003e string name, count)\n",
"    // sort by number of occurences\n",
"    |\u003e Array.sortByDescending snd\n",
"    // create chart\n",
"    |\u003e Chart.Column\n",
"    // style chart\n",
"    |\u003e Chart.withYAxisStyle \"Count\"\n",
"    |\u003e Chart.withSize (650.,600.)\n",
"    |\u003e Chart.withTitle \"Amino Acid composition of the \u003ci\u003eChlamydomonas reinhardtii\u003c/i\u003e proteome\"\n",
"\n",
"aaDistributionHis\n"]
          }
,
          {
           "cell_type": "markdown",
           "metadata": {},
           
           "source": ["## Calculating the molecular weight for peptides\n",
"\n",
"The molecular weight M of a peptide may be estimated by calculating the equation for the molecular weight of a peptide: \n",
"\n",
"![](https://latex.codecogs.com/png.latex?M\u0026space;=\u0026space;M_{N}\u0026plus;M_{C}\\sum_{i=0}^{n}N_{i}M_{i})\n",
"\n",
"where N(i) are the number, and M(i) the average residue molecular weights, of the amino acids. M(N) + M(C) \n",
"are added to the total in order to account for the termini: H at the N-terminus and OH at the C-terminus. (Remark: if the termini are modified, \n",
"these additions are replaced by those of the modifiers.)\n",
"\n",
"The distribution of all molecular weights for the peptides resulting from the previous proteome digest can be calculated and visualized using a histogram chart:\n",
"\n",
"## *In silico* digestion of FASTA proteins with trypsin\n",
"\n",
"To gain information about the peptide sequences of each protein, we have to compute the digested sequence, A digest function with \n",
"variable protease exists in BioFSharp.\n",
"\n"]
          }
,
          {
           "cell_type": "code",
           "metadata": {},
            "execution_count": 6, "outputs": [
          {
           "data": {
            "text/plain": ["{ ProteinID = 0",
"  MissCleavages = 0",
"  CleavageStart = 123",
"  CleavageEnd = 155",
"  PepSequence =",
"   [Asp; Leu; His; Pro; Leu; Leu; Thr; Ser; Leu; Pro; Thr; Lys; Pro; Gly; Ser;",
"    Ala; Ala; Thr; Pro; Tyr; Thr; Thr; Thr; Gln; Ser; Pro; Pro; Ser; Thr; Thr;",
"    Leu; Ser; Ter] }"]
        },
           "execution_count": 6,
           "metadata": {},
           "output_type": "execute_result"
          }], 
           "source": ["let digestedProteins =\n",
"    // sequences is the fasta data\n",
"    sequences\n",
"    |\u003e Array.mapi (fun i fastAItem -\u003e\n",
"        // in silico digestion\n",
"        Digestion.BioArray.digest Digestion.Table.Trypsin i fastAItem.Sequence\n",
"        |\u003e Digestion.BioArray.concernMissCleavages 0 1\n",
"    )\n",
"    |\u003e Array.concat\n",
"    \n",
"digestedProteins |\u003e Array.head\n"]
          }
,
          {
           "cell_type": "markdown",
           "metadata": {},
           
           "source": ["## Calculating peptide masses\n",
"\n",
"We calculate the mass of each peptide by calculating the monoisotopic mass of each amino acid and adding the weight \n",
"of an H(2)O to each peptide weight.\n",
"\n"]
          }
,
          {
           "cell_type": "code",
           "metadata": {},
            "execution_count": 7, "outputs": [
          {
           "data": {
            "text/plain": ["No value returned by any evaluator"]
        },
           "execution_count": 7,
           "metadata": {},
           "output_type": "execute_result"
          }], 
           "source": ["let chartDigestedProteins =\n",
"    digestedProteins\n",
"    |\u003e Array.map (fun peptide -\u003e\n",
"        // calculate mass for each peptide\n",
"        BioSeq.toMonoisotopicMassWith (BioItem.monoisoMass ModificationInfo.Table.H2O) peptide.PepSequence\n",
"        )\n",
"    |\u003e Array.filter (fun x -\u003e x \u003c 3000.)\n",
"    // visualize distribution of all peptide masses \u003c 3000 Da\n",
"    |\u003e fun masses -\u003e Chart.Histogram(data = masses, orientation = StyleParam.Orientation.Vertical, NBinsX = 100)\n",
"    |\u003e Chart.withXAxisStyle (title = \"Mass [Da]\", MinMax = (0., 3000.))\n",
"    |\u003e Chart.withYAxisStyle \"Count\"\n",
"\n",
"chartDigestedProteins\n"]
          }
,
          {
           "cell_type": "markdown",
           "metadata": {},
           
           "source": ["## Calculating peptide masses for charge 2\n",
"\n",
"However, in mass spectrometry we are only able to detect ions. Therefore, the measurements report the mass-to-charge ratio. \n",
"The abbreviation m/z (m = mass; z = charge) is used to denote the dimensionless quantity formed by dividing the molecular weight \n",
"of an ion (M+nH(+)) by its charge number (n).\n",
"\n",
"![](https://latex.codecogs.com/png.latex?M_{z}=\\frac{(M\u0026plus;nH^{\u0026plus;})}{n})\n",
"\n",
"In the following, we will convert the uncharged peptide masses to the m/z ratio with charge two by applaying the Mass.toMZ \n",
"function from the BioFSharp library and displax its distribution again. Note that m/z ratio with a charge of two represents \n",
"the predominant charge species.\n",
"\n"]
          }
,
          {
           "cell_type": "code",
           "metadata": {},
            "execution_count": 9, "outputs": [
          {
           "data": {
            "text/plain": ["No value returned by any evaluator"]
        },
           "execution_count": 9,
           "metadata": {},
           "output_type": "execute_result"
          }], 
           "source": ["let digestedPeptideMasses =\n",
"    digestedProteins\n",
"    |\u003e Array.map (fun peptide -\u003e\n",
"        BioSeq.toMonoisotopicMassWith (BioItem.monoisoMass ModificationInfo.Table.H2O) peptide.PepSequence\n",
"    )\n",
"\n",
"let chartDigestedPeptideMasses =\n",
"    digestedPeptideMasses\n",
"    |\u003e Array.map (fun ucMass -\u003e Mass.toMZ ucMass 2.)\n",
"    |\u003e Array.filter (fun x -\u003e x \u003c 3000.)\n",
"    |\u003e fun masses -\u003e Chart.Histogram(data = masses, orientation = StyleParam.Orientation.Vertical, NBinsX=100)\n",
"    |\u003e Chart.withXAxisStyle (title = \"m/z\", MinMax = (0., 3000.))\n",
"    |\u003e Chart.withYAxisStyle \"Count\"\n",
"    \n",
"chartDigestedPeptideMasses\n"]
          }
,
          {
           "cell_type": "markdown",
           "metadata": {},
           
           "source": ["## Questions\n",
"\n",
"1. When trypsin is used for digestion in a MS experiment, it is often combined with another protease (e.g. Lys-C). Why can it be beneficial to combine trypsin?\n",
"2. A peptide with a charge of 2 has a m/z of 414. What is the m/z of the same peptide with a charge of 3? Visualize the m/z of the peptides from the fastA with a charge of 3\n",
"like done above.\n",
"3. Peptides can occur at different charge states during a MS run. Do the different charge states of an peptide usually possess similar intensities?\n",
"\n",
"## References\n",
"\n",
"23. Burkhart, J. M., Schumbrutzki, C., Wortelkamp, S., Sickmann, A. \u0026 Zahedi, R. P. Systematic and quantitative comparison of digest efficiency and specificity reveals the impact of trypsin quality on MS-based proteomics. Journal of proteomics 75, 1454–1462; 10.1016/j.jprot.2011.11.016 (2012).\n",
"24. Switzar, L., Giera, M. \u0026 Niessen, W. M. A. Protein digestion: an overview of the available techniques and recent developments. J. Proteome Res. 12, 1067–1077; 10.1021/pr301201x (2013).\n",
"\n"]
          }],
            "metadata": {
            "kernelspec": {"display_name": ".NET (F#)", "language": "F#", "name": ".net-fsharp"},
            "langauge_info": {
        "file_extension": ".fs",
        "mimetype": "text/x-fsharp",
        "name": "C#",
        "pygments_lexer": "fsharp",
        "version": "4.5"
        }
        },
            "nbformat": 4,
            "nbformat_minor": 1
        }
        

