
        {
            "cells": [
          {
           "cell_type": "markdown",
           "metadata": {},
           
           "source": ["# NB00b FSharp Coding literacy part II\n",
"\n",
"[![Binder](https://mybinder.org/badge_logo.svg)](https://mybinder.org/v2/gh/CSBiology/BIO-BTE-06-L-7/gh-pages?filepath=NB00b_FSharp_Coding_literacy_Part_II.ipynb)\n",
"\n",
"[Download Notebook](https://github.com/CSBiology/BIO-BTE-06-L-7/releases/download/NB00b/NB00b_FSharp_Coding_literacy_Part_II.ipynb)\n",
"\n",
"1. Making sense of sequences\n",
"    1. Strings have their own module \n",
"    2. Bio-collections are F# collections\n",
"    3. All collections have their modules\n",
"    4. Seq module contains the skeleton key functions\n",
"    5. Build a map to associate values with a key \n",
"2. Higher-order functions     \n",
"    1. Functions can consume other functions\n",
"    2. Pipe-forward operator |\u003e \n",
"3. More interesting types \n",
"    1. Tuples are ad hoc data structures \n",
"    2. Record types provide more organization\n",
"\n",
"## Making sense of sequences\n",
"\n",
"Sequences are a key part of biology, and therefore, storing, searching, and analyzing protein and nucleic sequences plays an important role in computational biology. \n",
"In many languages, biological sequences are simply represented as strings. \n",
"\n",
"Here’s a very simple DNA sequence: \n",
"\n"]
          }
,
          {
           "cell_type": "code",
           "metadata": {},
            "execution_count": 1, "outputs": [], 
           "source": ["let mySequence = \"atcg\" \n"]
          }
,
          {
           "cell_type": "markdown",
           "metadata": {},
           
           "source": ["In F# there are a lot of functions available by default to manipulate strings all of which can be found in the String module. \n",
"\n",
"### Strings have their own module \n",
"\n",
"We learned previously that modules are simply a container to organize your functionality. To make use of that functionality you need to know the name of the respective \n",
"module and be aware that you can access everything with the `.` operator. The name of the module for ‘string’ types is ‘String’ with a capital to distinguish the module \n",
"from its type. *- FYI -* this is true for all core types in F#.\n",
"\n"]
          }
,
          {
           "cell_type": "code",
           "metadata": {},
            "execution_count": 2, "outputs": [], 
           "source": ["String.length \"atcg\"\n"]
          }
,
          {
           "cell_type": "markdown",
           "metadata": {},
           
           "source": ["Here, the ` String.Length ` returns the length of the string sequence. If you are using a nice text editor with more sophisticated code completion (intelliSense), you can \n",
"explore the functionality provided within a module by pressing `Strg + Space`. Otherwise, you need to look it up in one of many [documentations.](https://fsharp.github.io/fsharp-core-docs/reference/fsharp-core-stringmodule.html)\n",
"\n",
"Another interesting feature of strings is that their characters can also be accessed according to their numerical position, starting from 0 up to 1 minus the length of the \n",
"string. You can also slice strings up using a [from .. to] syntax:\n",
"\n"]
          }
,
          {
           "cell_type": "code",
           "metadata": {},
            "execution_count": 3, "outputs": [], 
           "source": ["\"atcg\".[2]\n",
"\"atcg\".[1 .. 2]\n"]
          }
,
          {
           "cell_type": "markdown",
           "metadata": {},
           
           "source": ["Technically, strings are specialized collection of characters and we have seen how to represent a nucleotide sequence.\n",
"\n",
"### Bio-collections are F# collections\n",
"\n",
"In contrast to the alphabet of letters we use in natural language, biological nucleotide and amino acid alphabets have a smaller set of valid characters. This allows us to \n",
"represent biological sequence data that encode DNA and proteins more efficiently using BioFSharp.\n",
"\n"]
          }
,
          {
           "cell_type": "code",
           "metadata": {},
            "execution_count": 4, "outputs": [], 
           "source": ["// Get BioFSharp from nuget \n",
"#r \"nuget: BioFSharp, 2.0.0-beta5\"\n",
"open BioFSharp \n",
"\n",
"let adenine = Nucleotides.A\n",
"let alanine = AminoAcids.Ala\n"]
          }
,
          {
           "cell_type": "markdown",
           "metadata": {},
           
           "source": ["Sequence types or collection types are a series of any items or values rather than only characters. There are different variations of collection types with different properties \n",
"regarding there manipulation and efficiency. To cover all different kinds and their methods to manipulate them would go far beyond the scope of this introduction. So, we will \n",
"focus on the most important types and methods of manipulation. Collections provide a more flexible way to work with groups of items. In the case of our Bio-collections from \n",
"BioFSharp the items of the biological alphabets. Here is an example of a list of nucleotides: \n",
"\n"]
          }
,
          {
           "cell_type": "code",
           "metadata": {},
            "execution_count": 5, "outputs": [], 
           "source": ["open BioFSharp.Nucleotides \n",
"\n",
"let nucs = [ A; T; C; G; ]\n"]
          }
,
          {
           "cell_type": "markdown",
           "metadata": {},
           
           "source": ["Notice here that we have stored the exact same sequence as in our previous string example, but this time in list format. Notice how the items are separated by a semicolon and\n",
"enclosed in square brackets instead of quotes. Analogously, we can access each item by its index, however, in case of lists this is not very efficient. \n",
"\n"]
          }
,
          {
           "cell_type": "code",
           "metadata": {},
            "execution_count": 6, "outputs": [], 
           "source": ["// Accessing position 3 (remember index start at 0)\n",
"nucs.[2]\n",
"// Add elongates the list (very efficient operation on lists)\n",
"let nucs\u0027 = G::A::nucs\n"]
          }
,
          {
           "cell_type": "markdown",
           "metadata": {},
           
           "source": ["If you need a collection type with the opposite properties, meaning fast random access but very inefficient adding or deleting elements an array is what you want to use instead. \n",
"Just add the additional `|` and you have an array.\n",
"\n"]
          }
,
          {
           "cell_type": "code",
           "metadata": {},
            "execution_count": 7, "outputs": [], 
           "source": ["// The same sequence but as an array\n",
"let nucsArr = [| A; T; C; G; |]\n"]
          }
,
          {
           "cell_type": "markdown",
           "metadata": {},
           
           "source": ["### All collections have their modules \n",
"\n",
"Whenever you need functions to manipulate bio-collections, you might find them in the respective module. You can either use intelliSense to browse the available functions or you \n",
"can have a look at the documentation [here.](https://csbiology.github.io/BioFSharp)\n",
"\n",
"With functions you find in the Bio-collection modules you can easily compute for example the complementary mRNA sequence or translate it into the corresponding peptide sequence.\n",
"\n"]
          }
,
          {
           "cell_type": "code",
           "metadata": {},
            "execution_count": 8, "outputs": [], 
           "source": ["// Reverse complement of a sequence as a BioArray\n",
"BioArray.reverseComplement nucsArr\n",
"\n",
"// Translate to peptide \n",
"BioList.translate 0 [A; U; C; G; C; G]\n",
"\n",
"// Use the Array module to find the index of the first occurring cytosine\n",
"Array.findIndex (fun n -\u003e n = C)  [| A; T; C; G; |]\n"]
          }
,
          {
           "cell_type": "markdown",
           "metadata": {},
           
           "source": ["However, it is worth noticing that the bio-collections are normal F# collections. The Bio* modules just enhance the functionalities of the default modules. In the example, we \n",
"apply the `Array.findIndex` functions from the default array module to a BioArray to find the index of the first occurring cytosine. \n",
"\n",
"A full overview of the default collections and their respective modules can be found [here.](https://docs.microsoft.com/en-us/dotnet/fsharp/language-reference/fsharp-collection-types)\n",
"\n",
"\n",
"There is one module that you might see quite often when working with collections in F#. It is more generic compared to the others previously discussed as it is able to manipulate \n",
"all enumerable collections. The `Seq.`  module contains functions that can take list collections as well as array collections as input\n",
" (or others that are [enumerable).]( https://docs.microsoft.com/en-us/dotnet/fsharp/language-reference/fsharp-collection-types).\n",
"In the following example we apply the same functions to a list and on an array. \n",
"\n",
"### Seq module contains the skeleton key functions\n",
"\n",
"It is worth mentioning that in the module of F# collections you will find functions to convert from one collection type to another. I believe that you can imagine the reason \n",
"for such an operation. You know by now that depending on the use case one collection might be advantages compared to the other. For example, if you know that you need to access \n",
"your sequence multiple times at different position, you want to convert it from a list into an array.\n",
"\n"]
          }
,
          {
           "cell_type": "code",
           "metadata": {},
            "execution_count": 9, "outputs": [], 
           "source": ["// Returns the length of the array\n",
"Seq.length [| A; T; C; G; |]\n",
"// Returns the length of the list  \n",
"Seq.length [ A; T; C; G; ]\n",
"// The input is a list type the output an array type \n",
"List.toArray [ A; T; C; G; ]\n"]
          }
,
          {
           "cell_type": "markdown",
           "metadata": {},
           
           "source": ["Due to those performance issues, certain functionality is only offered on particular collection types and you need to do the conversion first before you can apply this function.\n",
"\n",
"### Build a map to associate values with a key\n",
"\n",
"We learned that you can access the elements within collections by its numerical position index. To build more complex examples, it might be necessary to have a more sophisticated \n",
"way to associate values with a key. A map is built from a list of key-value pairs using the so-called Map constructor. \n",
"\n",
"This just means you need to write `Map` in front of that key-value pair list:\n",
"\n"]
          }
,
          {
           "cell_type": "code",
           "metadata": {},
            "execution_count": 10, "outputs": [], 
           "source": ["let mass = Map [\"Hydrogen\",1.0079; \"Carbon\", 12.001]\n"]
          }
,
          {
           "cell_type": "markdown",
           "metadata": {},
           
           "source": ["Extracting a value from a Map work similar to accessing an array using the key instead of the index. \n",
"\n"]
          }
,
          {
           "cell_type": "code",
           "metadata": {},
            "execution_count": 11, "outputs": [], 
           "source": ["mass.[\"Carbon\"]\n",
"\n",
"Map.find \"Carbon\" mass\n"]
          }
,
          {
           "cell_type": "markdown",
           "metadata": {},
           
           "source": ["Analogously to the List and Array module there is a Map module. \n",
"A full overview of all map function can be found [here]( https://fsharp.github.io/fsharp-core-docs/reference/fsharp-collections-fsharpmap-2.html).\n",
"\n",
"\n",
"## Higher-order functions     \n",
"In F# as a functional programming language, you should be able to do with a function whatever you can do with values of the other types and be\n",
" able to do so with a comparable degree of effort. This includes the following:\n",
"* You can bind functions to identifiers and give them names.\n",
"* You can store functions in data structures, e.g. such as in a list.\n",
"* You can pass a function as an argument in a function call. \n",
"* You can return a function from a function call.\n",
"The last two define what are known as higher-order operations or higher-order functions. A higher-order function is a function that takes another function as a parameter. \n",
"This is simple but leads to one of the most important concepts of functional programming: *mapping and folding*. \n",
"\n",
"### Functions can consume other functions\n",
"\n",
"Mapping is when a function applies computation working on an inner space and then returns the outer space as a result. This sounds complicated, but let’s dive right into it \n",
"and see how this works. We first need a function that will later be the function working on the inner space. The function `monoisoMass` from the `AminoAcids` module in \n",
"BioFSharp returns the monoisotopic mass of the given amino acid as the name suggests: \n",
"\n"]
          }
,
          {
           "cell_type": "code",
           "metadata": {},
            "execution_count": 12, "outputs": [], 
           "source": ["// Function working on the inner space \n",
"AminoAcids.monoisoMass AminoAcids.Ser\n",
"// Outer or elevated space\n",
"open AminoAcids\n",
"\n",
"let peptide = [ Pro; Glu; Pro; Thr; Ile; Asp; Glu; ]\n"]
          }
,
          {
           "cell_type": "markdown",
           "metadata": {},
           
           "source": ["Now, we want to apply the function `monoisoMass` to each amino acid in the peptide list. For that we can make use of the `List.map` function. This is very convenient as the \n",
"recursive process that steps through the list and builds a list of the results to return. That part is captured in the mapping function. \n",
"\n"]
          }
,
          {
           "cell_type": "code",
           "metadata": {},
            "execution_count": 13, "outputs": [], 
           "source": ["List.map AminoAcids.monoisoMass peptide\n"]
          }
,
          {
           "cell_type": "markdown",
           "metadata": {},
           
           "source": ["The higher-order function map applies a function working on the normal space to an elevated space. This concept is so important that all collection types (lists, arrays, ...) \n",
"have a build in map function.  \n",
"If your higher-order function applies a function to the inner space and the return value is not the outer space, you are folding aka. aggregating. Just to build on the example \n",
"above, we can compute the sum of all amino acids being elements of the peptide list. \n",
"\n"]
          }
,
          {
           "cell_type": "code",
           "metadata": {},
            "execution_count": 14, "outputs": [], 
           "source": ["List.sumBy AminoAcids.monoisoMass peptide\n"]
          }
,
          {
           "cell_type": "markdown",
           "metadata": {},
           
           "source": ["Maybe it is worth noticing that the mass of water needs to be added to calculate the correct peptide mass.\n",
"\n",
"### Pipe-forward operator |\u003e \n",
"\n",
"F# is all about readability. Here, pipe operators are used to pass parameters to a function in a simple and elegant way. It allows to eliminate intermediate values and \n",
"make function calls easier to read. It possible to chain function calls and feed the return value of each function to the next using the forward type operator which looks \n",
"like this: |\u003e . We can literally read it as “pipe forward”.\n",
"\n"]
          }
,
          {
           "cell_type": "code",
           "metadata": {},
            "execution_count": 15, "outputs": [], 
           "source": ["[ Pro; Glu; Pro; Thr; Ile; Asp; Glu; ]\n",
"|\u003e List.map AminoAcids.monoisoMass \n",
"|\u003e List.sum\n"]
          }
,
          {
           "cell_type": "markdown",
           "metadata": {},
           
           "source": ["## More interesting types \n",
"\n",
"We already learned about type annotation that it defines the kind of the value you and the compiler have to deal with. Therefore, you can think of type annotation as a sort of \n",
"data modelling tool that allows you to represent a real-world domain in your code. The better the type definitions reflect the real-world domain, the better they will statically  \n",
"encode the rules. This means you will always be warned if you violate the rules you defined. That will help you to avoid mistakes within your code. In practice, if you try to  \n",
"sum binding x + y and x is bound to the number 5 (datatype = int) whereas y is bound to the word “PEPTIDE” (datatype = string) the compiler will not allow it, while if y is \n",
"bound to number 7 you will get 12 as a valid result. \n",
"\n",
"However, using only literal or primitive types may be not enough. You most probably want to do something more interesting that is not based solely on numbers or letters. To do \n",
"so you need to be able to produce your own types.   \n",
"\n",
"The key to understanding the power of types in F# is that most new types are constructed from other types just combing types that already exist. You can think of your own type \n",
"definition as an organization or grouping of other types. To do so, every type definition is similar, even though the specific details may vary. All type definitions start with \n",
"a \"type\" keyword, followed by an name or identifier for the type, which then is followed by any existing type(s). \n",
"\n",
"For example, here are some type definitions for a variety of types:\n",
"\n"]
          }
,
          {
           "cell_type": "code",
           "metadata": {},
            "execution_count": 16, "outputs": [], 
           "source": ["type A = int * int\n",
"\n",
"type B = {AminoAcidName: string; Mass: float}\n"]
          }
,
          {
           "cell_type": "markdown",
           "metadata": {},
           
           "source": ["### Tuples are ad hoc data structures \n",
"Tuples have several advantages over other more complex types. They can be used on the fly because they are always available without being defined, and thus are perfect for small, \n",
"temporary, lightweight structures. Some people think of tuples as small list with a fixed length and different types. If you look at the way to create a list and compare it to a \n",
"tuple, you will see why:\n",
"\n"]
          }
,
          {
           "cell_type": "code",
           "metadata": {},
            "execution_count": 17, "outputs": [], 
           "source": ["// Creating a list\n",
"[ 1.1; 3.5; 2.0 ]\n",
"\n",
"// Creating a tuple by changing the semicolon to a comma and the square brackets to curved brackets\n",
"(  1.1, 3.5, 2.0 )\n",
"\n",
"// Creating another tuple\n",
"( 115.026943, \"asp\" )\n"]
          }
,
          {
           "cell_type": "markdown",
           "metadata": {},
           
           "source": ["However, while collections can only contain elements of the same type, with tuples you can combine different types in the same tuple type. Also accessing values from a tuple is quite \n",
"different compared to a collection type. \n",
"\n",
"\n"]
          }
,
          {
           "cell_type": "code",
           "metadata": {},
            "execution_count": 18, "outputs": [], 
           "source": ["// Accessing the value at position 2 of a list\n",
"[ 1.1; 3.5; 2.0 ].[1]\n",
"\n",
"// Accessing the value at position 2 of a tuple\n",
"let monoMass, threeLetterCode = ( 115.026943, \"asp\" )\n",
"threeLetterCode\n"]
          }
,
          {
           "cell_type": "markdown",
           "metadata": {},
           
           "source": ["You notice that accessing a value from a tuple means create a named binding that has the same structure (a process called deconstruction). After this, the individual values have their \n",
"own names and can be used separately. Therefore, it is easy to define functions that can access individual positions of tuple types. \n",
"\n",
"Let\u0027s define a function that returns the three-letter:\n",
"\n"]
          }
,
          {
           "cell_type": "code",
           "metadata": {},
            "execution_count": 19, "outputs": [], 
           "source": ["let getThreeLetterCode (monoMass, threeLetterCode) =\n",
"    threeLetterCode\n",
"\n",
"getThreeLetterCode ( 115.026943, \"asp\" )\n"]
          }
,
          {
           "cell_type": "markdown",
           "metadata": {},
           
           "source": ["Tuples are also very useful in the common scenario when you want to return multiple values from a function rather than just one.\n",
"\n"]
          }
,
          {
           "cell_type": "code",
           "metadata": {},
            "execution_count": 20, "outputs": [], 
           "source": ["let returnTwoValues () =\n",
"    (\u0027A\u0027,100)\n"]
          }
,
          {
           "cell_type": "markdown",
           "metadata": {},
           
           "source": ["### Record types provide more organization\n",
"\n",
"Tuples are useful in many cases. But they have some disadvantages too. Because all tuple types are pre-defined, you can\u0027t distinguish between a string and a float used for an \n",
"amino acid mass with one-letter-code say, vs. a similar tuple used for nucleotide. \n",
"\n",
"And when tuples have more than a few elements, it is easy to get confused about which element is in which place. In these situations, what you would like to do is label each \n",
"slot in the tuple, which will both document what each element is for and force a distinction between tuples made from the same types. A record type is exactly that: A tuple \n",
"where each element is labeled.\n",
"\n"]
          }
,
          {
           "cell_type": "code",
           "metadata": {},
            "execution_count": 21, "outputs": [], 
           "source": ["// Define a record type amino acid\n",
"type AminoAcidMass = { OneLetterCode: char; Mass: float }\n",
"// Define a record type nucleotide\n",
"type NucleotideMass = { Symbol: char; Mass: float }\n",
"\n",
"// Bind an amino acid value to a name binding\n",
"let asp = { OneLetterCode = \u0027D\u0027; Mass = 115.026943 }\n"]
          }
,
          {
           "cell_type": "markdown",
           "metadata": {},
           
           "source": ["A record type has the standard preamble: `type` typename = followed by curly braces. Inside the curly braces is a list of label: type pairs, separated by semicolons (notice: We \n",
"will see later that all lists in F# use semicolon separators -- commas are for tuples).\n",
"\n",
"Let\u0027s compare the \"type syntax\" for a record type with a tuple type:\n",
"\n"]
          }
,
          {
           "cell_type": "code",
           "metadata": {},
            "execution_count": 22, "outputs": [], 
           "source": ["// Definition of a record type \n",
"type AminoAcidMassRecord = { OneLetterCode: char; Mass: float }\n",
"// Definition of a tuple type \n",
"type AminoAcidMassTuple = char * float\n"]
          }
,
          {
           "cell_type": "markdown",
           "metadata": {},
           
           "source": ["You see that record types have named fields that make them easily accessible. A Field of a record type can be accessed individually with the dot operator `.Fieldname`\n",
"\n"]
          }
,
          {
           "cell_type": "code",
           "metadata": {},
            "execution_count": 23, "outputs": [], 
           "source": ["//Create cysteine  \n",
"let cys = { OneLetterCode = \u0027C\u0027; Mass = 103.0091848 }\n",
"// Access the one-letter-code of cysteine\n",
"cys.OneLetterCode\n",
"// Access the monoisotopic mass of cysteine and multiply it times 3\n",
"cys.Mass * 3.\n"]
          }],
            "metadata": {
            "kernelspec": {"display_name": ".NET (F#)", "language": "F#", "name": ".net-fsharp"},
            "langauge_info": {
        "file_extension": ".fs",
        "mimetype": "text/x-fsharp",
        "name": "C#",
        "pygments_lexer": "fsharp",
        "version": "4.5"
        }
        },
            "nbformat": 4,
            "nbformat_minor": 1
        }
        

