
        {
            "cells": [
          {
           "cell_type": "markdown",
           "metadata": {},
           
           "source": ["# NB00b FSharp Coding literacy part II\n",
"\n",
"[![Binder](https://mybinder.org/badge_logo.svg)](https://mybinder.org/v2/gh/CSBiology/BIO-BTE-06-L-7/gh-pages?filepath=NB00b_FSharp_Coding_literacy_Part_II.ipynb)\n",
"\n",
"\n",
"1. Making sense of sequences\n",
"    1. Strings have their own module \n",
"    2. Bio-collections are F# collections\n",
"    3. All collections have their modules\n",
"    4. Seq module contains the skeleton key functions\n",
"    5. Build a map to associate values with a key \n",
"2. Higher-order functions     \n",
"    1. Functions can consume other functions\n",
"    2. Pipe-forward operator |\u003e \n",
"3. More interesting types \n",
"    1. Tuples are ad hoc data structures \n",
"    2. Record types provide more organization\n",
"\n",
"## Making sense of sequences\n",
"\n",
"Sequences are a key part of biology, and therefore, storing, searching, and analyzing protein and nucleic sequences plays an important role in computational biology. \n",
"In many languages, biological sequences are simply represented as strings. \n",
"\n",
"Here’s a very simple DNA sequence: \n",
"\n"]
          }
,
          {
           "cell_type": "code",
           "metadata": {},
            "execution_count": 1, "outputs": [], 
           "source": ["let mySequence = \"atcg\" \n"]
          }
,
          {
           "cell_type": "markdown",
           "metadata": {},
           
           "source": ["In F# there are a lot of functions available by default to manipulate strings all of which can be found in the String module. \n",
"\n",
"### Strings have their own module \n",
"\n",
"We learned previously that modules are simply a container to organize your functionality. To make use of that functionality you need to know the name of the respective \n",
"module and be aware that you can access everything with the `.` operator. The name of the module for ‘string’ types is ‘String’ with a capital to distinguish the module \n",
"from its type. *- FYI -* this is true for all core types in F#.\n",
"\n"]
          }
,
          {
           "cell_type": "code",
           "metadata": {},
            "execution_count": 2, "outputs": [], 
           "source": ["String.length \"atcg\"\n"]
          }
,
          {
           "cell_type": "markdown",
           "metadata": {},
           
           "source": ["Here, the ` String.Length ` returns the length of the string sequence. If you are using a nice text editor with more sophisticated code completion (intelliSence), you can \n",
"explore the functionality provided within a module by pressing `strg - space`. Otherwise, you need to look it up in one of many [documentations.](https://fsharp.github.io/fsharp-core-docs/reference/fsharp-core-stringmodule.html)\n",
"\n",
"Another interesting feature of strings is that their characters can also be accessed according to their numerical position, starting from 0 up to 1 minus the length of the \n",
"string. You can also slice strings up using a [from .. to] syntax:\n",
"\n"]
          }
,
          {
           "cell_type": "code",
           "metadata": {},
            "execution_count": 3, "outputs": [], 
           "source": ["\"atcg\".[2]\n",
"\"atcg\".[1..2]\n"]
          }
,
          {
           "cell_type": "markdown",
           "metadata": {},
           
           "source": ["Technically, strings are specialized collection of characters and we have seen how to represent a nucleotide sequence. \n",
"\n",
"### Bio-collections are F# collections\n",
"\n",
"In contrast to the alphabet of letters we use in natural language, biological nucleotide and amino acid alphabets have a smaller set of valid characters. This allows us to \n",
"represent biological sequence data that encode DNA and proteins more efficiently using BioFSharp.  \n",
"\n"]
          }
,
          {
           "cell_type": "code",
           "metadata": {},
            "execution_count": 4, "outputs": [], 
           "source": ["// Get BioFSharp from nuget \n",
"#r \"nuget: BioFSharp, 2.0.0-beta5\"\n",
"open BioFSharp \n",
"\n",
"let adenine = Nucleotides.A\n",
"let alanine = AminoAcids.Ala\n"]
          }
,
          {
           "cell_type": "markdown",
           "metadata": {},
           
           "source": ["Sequence types or collection types are a series of any items or values rather than only characters. There are different variations of collection types with different properties \n",
"regarding there manipulation and efficiency. To cover all different kinds and their methods to manipulate them would go far beyond the scope of this introduction. So, we will \n",
"focus on the most important types and methods of manipulation. Collections provide a more flexible way to work with groups of items. In the case of our Bio-collections from \n",
"BioFSharp the items of the biological alphabets. Here, is an example of a list of nucleotides: \n",
"\n"]
          }
,
          {
           "cell_type": "code",
           "metadata": {},
            "execution_count": 5, "outputs": [], 
           "source": ["open BioFSharp.Nucleotides \n",
"\n",
"let nucs = [ A; T; C; G; ]\n"]
          }
,
          {
           "cell_type": "markdown",
           "metadata": {},
           
           "source": ["Notice here that we have stored the exact same sequence as in our previous string example, but this time in list format. Notice how the items are separated by a semicolon and\n",
"enclosed in square brackets instead of quotes. Analogously, we can access each item by its index, however, in case of lists this is not very efficient. \n",
"\n"]
          }
,
          {
           "cell_type": "code",
           "metadata": {},
            "execution_count": 6, "outputs": [], 
           "source": ["// Accessing position 3 (remember index start at 0)\n",
"nucs.[2]\n",
"// Add elongate the list (very efficient operation on lists)\n",
"let nucs\u0027 = G::A::nucs\n"]
          }
,
          {
           "cell_type": "markdown",
           "metadata": {},
           
           "source": ["If you need a collection type with the opposite properties, meaning fast random access but very inefficient adding or deleting elements an array is what you want to use instead. \n",
"Just add the additional `|` and you have an array.\n",
"\n"]
          }
,
          {
           "cell_type": "code",
           "metadata": {},
            "execution_count": 7, "outputs": [], 
           "source": ["// The same sequence but as an array\n",
"let nucsArr = [| A; T; C; G; |]\n"]
          }
,
          {
           "cell_type": "markdown",
           "metadata": {},
           
           "source": ["### All collections have their modules \n",
"\n",
"Whenever you need functions to manipulate bio-collections, you might find them in the respective module. You can either use intelliSence to browse the available functions or you \n",
"can have a look at the documentation [here.](https://csbiology.github.io/BioFSharp)\n",
"\n",
"With functions you find in the Bio-collection modules you can easily compute for example the complementary mRNA sequence or translate it into the corresponding peptide sequence.\n",
"\n"]
          }
,
          {
           "cell_type": "code",
           "metadata": {},
            "execution_count": 8, "outputs": [], 
           "source": ["// Reverse complement of a sequence as a BioArray\n",
"BioArray.reverseComplement nucsArr\n",
"\n",
"// Translate to peptide \n",
"BioList.translate 0 [A; U; C; G; C; G]\n",
"\n",
"// Use the Arra module to find the index of the first occurring cytosine\n",
"Array.findIndex (fun n -\u003e n = C)  [| A; T; C; G; |]\n"]
          }
,
          {
           "cell_type": "markdown",
           "metadata": {},
           
           "source": ["However, it is worth noticing that the bio-collections are normal F# collections. The Bio* modules just enhance the functionalities of the default modules. In the example, we \n",
"apply the `Array.findIndex` functions from the default array module on a BioArray to find the index of the first occurring cytosine. \n",
"\n",
"A full overview of the default collections and their respective modules can be found [here.](https://docs.microsoft.com/en-us/dotnet/fsharp/language-reference/fsharp-collection-types)\n",
"\n",
"\n",
"There is one module that you might see quite often when working with collections in F#. It is more generic compared to the others previously discussed as it is able to manipulate \n",
"all enumerable collections. The `Seq.`  module contains functions that can take list collections as well as array collections as input\n",
" (or others that are [enumerable).]( https://docs.microsoft.com/en-us/dotnet/fsharp/language-reference/fsharp-collection-types).\n",
"In the following example we apply the same functions on a list and on an array. \n",
"\n",
"### Seq module contains the skeleton key functions\n",
"\n",
"It is worth mentioning, that in the module of F# collections you will find functions to convert from one collection type to another. I believe that you can imagen the reason \n",
"for such an operation. You know by now that depending on the use case one collection might be advantages compared to the other. For example, if you know that you need to access \n",
"your sequence multiple times at different position, you want to convert it from a list into an array.\n",
"\n"]
          }
,
          {
           "cell_type": "code",
           "metadata": {},
            "execution_count": 9, "outputs": [], 
           "source": ["// Returns the length of the array\n",
"Seq.length [| A; T; C; G; |]\n",
"// Returns the length of the list  \n",
"Seq.length [ A; T; C; G; ]\n",
"// The input is a lit type the output an array type \n",
"List.toArray [ A; T; C; G; ]\n"]
          }
,
          {
           "cell_type": "markdown",
           "metadata": {},
           
           "source": ["Due to those performance issues, certain functionality is only offered on particular collection types and you need to do the conversion first, before you can apply this function.\n",
"\n",
"### Build a map to associate values with a key\n",
"\n",
"We learned that you can access the elements within collections by its numerical position index. To build more complex examples, it might be necessary to have a more sophisticated \n",
"way to associate values with a key. A map is built from a list of key-value pairs using the so-called Map constructor. \n",
"\n",
"This just means you need to write `Map` in front of that key-value pair list:\n",
"\n"]
          }
,
          {
           "cell_type": "code",
           "metadata": {},
            "execution_count": 10, "outputs": [], 
           "source": ["let mass = Map [\"Hydrogen\",1.0079; \"Carbon\", 12.001]\n"]
          }
,
          {
           "cell_type": "markdown",
           "metadata": {},
           
           "source": ["Extracting a value from a Map work similar to accessing an array using the key instead of the index. \n",
"\n"]
          }
,
          {
           "cell_type": "code",
           "metadata": {},
            "execution_count": 11, "outputs": [], 
           "source": ["mass.[\"Carbon\"]\n",
"\n",
"Map.find \"Cabon\" mass\n"]
          }
,
          {
           "cell_type": "markdown",
           "metadata": {},
           
           "source": ["Analogously to the List and Array module there is a Map module. \n",
"A full overview of all map function can be found [here]( https://fsharp.github.io/fsharp-core-docs/reference/fsharp-collections-fsharpmap-2.html).\n",
"\n",
"\n",
"## Higher-order functions     \n",
"\n",
"A higher-order function is a function that takes another function as a parameter. This is simple, but leads to one of the most important concepts of functional programming.\n",
"\n",
"### Functions can consume other functions\n",
"\n",
"ipso\n",
"\n",
"### Pipe-forward operator |\u003e \n",
"\n",
"The Pipe-forward operator lets you pass an intermediate result (value) onto the next function, it’s defined as:\n",
"\n",
"## More interesting types \n",
"\n",
"ipso\n",
"\n",
"### Tuples are ad hoc data structures \n",
"\n",
"ipso\n",
"### Record types provide more organization\n",
"\n",
"ipso\n",
"\n"]
          }],
            "metadata": {
            "kernelspec": {"display_name": ".NET (F#)", "language": "F#", "name": ".net-fsharp"},
            "langauge_info": {
        "file_extension": ".fs",
        "mimetype": "text/x-fsharp",
        "name": "C#",
        "pygments_lexer": "fsharp",
        "version": "4.5"
        }
        },
            "nbformat": 4,
            "nbformat_minor": 1
        }
        

