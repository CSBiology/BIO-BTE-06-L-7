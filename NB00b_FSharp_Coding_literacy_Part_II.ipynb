
        {
            "cells": [
          {
           "cell_type": "markdown",
           "metadata": {},
           
           "source": ["# NB00b FSharp Coding literacy part II\n",
"\n",
"[![Binder](https://mybinder.org/badge_logo.svg)](https://mybinder.org/v2/gh/CSBiology/BIO-BTE-06-L-7/gh-pages?filepath=NB00b_FSharp_Coding_literacy_Part_II.ipynb)\n",
"\n",
"\n",
"1. Getting things done and understand values\n",
"    1. Numeric types\n",
"    2. String or character types\n",
"    3. F# handles your types.\n",
"2. Functions and operators: Do some operations\n",
"    1. Operations and types\n",
"    2. Functions\n",
"3. Namespace and modules\n",
"4. Control flow expressions\n",
"\n",
"\n",
"## Getting things done \n",
"\n",
"The purpose of this first part is to present the use of F# (pronounced “F Sharp”) programming language to facilitate and automate a wide variety of data manipulation\n",
"tasks typically faced in life science research. Here, we want to support your coding literacy by a practical programming approach without the attempt to detail every \n",
"possible variation of the mechanisms. This offers a rapid introduction to F# programming that should allow you to understand code and do some manipulation to achieve \n",
"your desired outcome.\n",
"\n",
"There are many kinds of programming languages, with different purposes, styles, intended uses, etc. However, F# is particularly nice as it is easy to learn in the beginning \n",
"but also extremely powerful for professional use cases. Simply put, F# is a beautiful language. It is effective for everything from teaching new programmers to advanced\n",
"computer science study, from simple scripts to sophisticated advanced applications. Therefore, it is extremely well suited for bioinformatics programming and \n",
"application in live science.\n",
"\n",
"### Numeric types\n",
"\n",
"Definitely, F# can be a good friend in your daily work even when you are doing simple calculations e.g., in the lab. Let’s jump right in and some stuff done:\n",
"\n"]
          }
,
          {
           "cell_type": "code",
           "metadata": {},
            "execution_count": 1, "outputs": [], 
           "source": ["// Define numerical values\n",
"let co2Oxygens = 2\n",
"let co2Carbon  = 1\n",
"let oxygenMass = 15.9994\n",
"let carbonMass = 12.0107\n",
"let avogadro = 6.023e23\n"]
          }],
            "metadata": {
            "kernelspec": {"display_name": ".NET (F#)", "language": "F#", "name": ".net-fsharp"},
            "langauge_info": {
        "file_extension": ".fs",
        "mimetype": "text/x-fsharp",
        "name": "C#",
        "pygments_lexer": "fsharp",
        "version": "4.5"
        }
        },
            "nbformat": 4,
            "nbformat_minor": 1
        }
        

