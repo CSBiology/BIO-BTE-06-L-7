
        {
            "cells": [
          {
           "cell_type": "markdown",
           "metadata": {},
           
           "source": ["# JP12 Targeted quantification of photosynthetic proteins (Whole Cell)\n",
"\n",
"[![Binder](https://mybinder.org/badge_logo.svg)](https://mybinder.org/v2/gh/CSBiology/BIO-BTE-06-L-7/gh-pages?filepath=JP12_Targeted_quantification_of_photosynthetic_proteins_WC.ipynb)\n",
"\n",
"1. [General steps for targeted quantification](#General-steps-for-targeted-quantification)\n",
"2. [Peptide Ratio Visualization](#Peptide-Ratio-Visualization)\n",
"3. [Sample stability](#Sample-stability)\n",
"\n",
"## General steps for targeted quantification\n",
"\n",
"\n",
"1. Read the output file of the QconQuantifier containing the raw peptide ion quantification.\n",
"2. Performing a first data cleaning step\n",
"3. Calculating the \u003csup\u003e14\u003c/sup\u003eN/\u003csup\u003e15\u003c/sup\u003eN ratio per peptide ion per sample\n",
"4. Aggregating the peptide ions to their corresponding peptide\n",
"5. Calculating the average of the peptide quantification value for protein quantification\n",
"6. Visually inspect the peptide/protein quantification\n",
"\n",
"For the explorative data analysis, we are using \n",
"\u003ca href=\"http://bluemountaincapital.github.io/Deedle/tutorial.html\"\u003eDeedle\u003c/a\u003e.\n",
"Deedle is an easy to use library for data and time series manipulation and for scientific programming. \n",
"It supports working with structured data frames, ordered and unordered data, as well as time series. Deedle is designed to work well for exploratory programming using F#.\n",
"\n"]
          }
,
          {
           "cell_type": "code",
           "metadata": {},
            "execution_count": 1, "outputs": [], 
           "source": ["#r \"nuget: FSharp.Stats, 0.4.0\"\n",
"#r \"nuget: BioFSharp, 2.0.0-beta5\"\n",
"#r \"nuget: BioFSharp.IO, 2.0.0-beta5\"\n",
"#r \"nuget: Plotly.NET, 2.0.0-beta6\"\n",
"#r \"nuget: BIO-BTE-06-L-7_Aux, 0.0.2\"\n",
"#r \"nuget: Deedle, 2.3.0\"\n",
"\n",
"#r \"nuget: Plotly.NET, 2.0.0-beta6\"\n",
"#r \"nuget: Plotly.NET.Interactive, 2.0.0-beta6\"\n",
"\n",
"open Deedle\n",
"open BioFSharp\n",
"open FSharpAux\n",
"open FSharp.Stats\n",
"open Plotly.NET\n",
"open FSharp.Stats.Fitting.LinearRegression.OrdinaryLeastSquares.Linear\n",
"open System.IO\n",
"open BIO_BTE_06_L_7_Aux\n",
"open FS3_Aux\n",
"open Deedle_Aux\n"]
          }
,
          {
           "cell_type": "markdown",
           "metadata": {},
           
           "source": ["At the start we have the output file of the QconQuantifier. We want to read the file, bind it to \n",
"\u003ccode\u003eqConcatRawData\u003c/code\u003e and group the rows by peptide sequence, modifcation (\u003csup\u003e14\u003c/sup\u003eN or \u003csup\u003e15\u003c/sup\u003eN) and the charge state of the ion.\n",
"\n"]
          }
,
          {
           "cell_type": "code",
           "metadata": {},
            "execution_count": 2, "outputs": [
          {
           "data": {
            "text/plain": ["No value returned by any evaluator"]
        },
           "execution_count": 2,
           "metadata": {},
           "output_type": "execute_result"
          }], 
           "source": ["// Code block 1\n",
"\n",
"let directory = __SOURCE_DIRECTORY__\n",
"let path = Path.Combine[|directory;\"downloads/Group1/G1_1690WC1zu1_QuantifiedPeptides.txt\"|]\n",
"downloadFile path \"G1_1690WC1zu1_QuantifiedPeptides.txt\" \"bio-bte-06-l-7/Group1\"\n",
"\n",
"let qConcatRawData =\n",
"    Frame.ReadCsv(path,separators=\"\\t\")\n",
"    // StringSequence is the peptide sequence\n",
"    |\u003e Frame.indexRowsUsing (fun os -\u003e \n",
"            os.GetAs\u003cstring\u003e(\"StringSequence\"),\n",
"            os.GetAs\u003cbool\u003e(\"GlobalMod\"), \n",
"            os.GetAs\u003cint\u003e(\"Charge\")\n",
"        )\n",
"        \n",
"qConcatRawData\n",
"|\u003e formatAsTable\n"]
          }
,
          {
           "cell_type": "markdown",
           "metadata": {},
           
           "source": ["From literature we know that there are peptides with a very bad flyability \n",
"(Hammel et al.). Additionally, there are extreme values only due to technical artifacts. Both should be avoided in further analysis:\n",
"\n"]
          }
,
          {
           "cell_type": "code",
           "metadata": {},
            "execution_count": 4, "outputs": [
          {
           "data": {
            "text/plain": ["No value returned by any evaluator"]
        },
           "execution_count": 4,
           "metadata": {},
           "output_type": "execute_result"
          }], 
           "source": ["// Code block 2\n",
"\n",
"let qConcatData =\n",
"    qConcatRawData\n",
"    |\u003e Frame.filterRows ( fun (sequence, gmod, charge) _ -\u003e \n",
"        sequence \u003c\u003e \"EVTLGFVDLMR\" \u0026\u0026 sequence \u003c\u003e \"AFPDAYVR\" \n",
"        )\n",
"    |\u003e Frame.mapValues (fun x -\u003e  if x \u003c 2000000. \u0026\u0026 x \u003e 1. then x else nan)\n",
"\n",
"qConcatData\n",
"|\u003e formatAsTable\n"]
          }
,
          {
           "cell_type": "markdown",
           "metadata": {},
           
           "source": ["Reading the sample description file provides us with a list of all measured files and additional information about the experiment (mixing ratio, strain, etc.) \n",
"\n"]
          }
,
          {
           "cell_type": "code",
           "metadata": {},
            "execution_count": 6, "outputs": [
          {
           "data": {
            "text/plain": ["No value returned by any evaluator"]
        },
           "execution_count": 6,
           "metadata": {},
           "output_type": "execute_result"
          }], 
           "source": ["// Code block 3\n",
"\n",
"//FileName Experiment Content ProteinAmount[ug] Replicate\n",
"\n",
"let path2 = Path.Combine[|directory;\"downloads/Group1/WC_SampleDesc.txt\"|]\n",
"downloadFile path2 \"WC_SampleDesc.txt\" \"bio-bte-06-l-7/Group1\"\n",
"\n",
"let sampleDesc = \n",
"    Frame.ReadCsv(path2 ,separators=\"\\t\",schema=\"Strain=string\")\n",
"    |\u003e Frame.indexRowsString \"RawFileName\"\n",
"    \n",
"sampleDesc\n",
"|\u003e formatAsTable\n"]
          }
,
          {
           "cell_type": "markdown",
           "metadata": {},
           
           "source": ["We map the list of filenames and get the corresponding \u003csup\u003e14\u003c/sup\u003eN and \u003csup\u003e15\u003c/sup\u003eN column series. \n",
"This allows us to calculate the \u003csup\u003e14\u003c/sup\u003eN/\u003csup\u003e15\u003c/sup\u003eN ratio per peptide ion per sample.\n",
"\n"]
          }
,
          {
           "cell_type": "code",
           "metadata": {},
            "execution_count": 8, "outputs": [
          {
           "data": {
            "text/plain": ["No value returned by any evaluator"]
        },
           "execution_count": 8,
           "metadata": {},
           "output_type": "execute_result"
          }], 
           "source": ["// Code block 4\n",
"\n",
"let ionRatios = \n",
"    sampleDesc\n",
"    |\u003e Frame.mapRows (fun rawFileName _ -\u003e \n",
"        let n14 = qConcatData.GetColumn\u003cfloat\u003e(\"N14Quant_\" + rawFileName) \n",
"        let n15 = qConcatData.GetColumn\u003cfloat\u003e(\"N15Quant_\" + rawFileName)\n",
"        n14 / n15 \n",
"        )\n",
"    |\u003e Frame.ofColumns\n",
"    \n",
"ionRatios\n",
"|\u003e formatAsTable\n"]
          }
,
          {
           "cell_type": "markdown",
           "metadata": {},
           
           "source": ["From our in silico protein digest during the design of the qConCat protein, \n",
"we know the peptide(s) \u0026rarr; protein relationship. We read this information from the \"PeptideProtMap.txt\" file.\n",
"\n"]
          }
,
          {
           "cell_type": "code",
           "metadata": {},
            "execution_count": 10, "outputs": [
          {
           "data": {
            "text/plain": ["No value returned by any evaluator"]
        },
           "execution_count": 10,
           "metadata": {},
           "output_type": "execute_result"
          }], 
           "source": ["// Code block 5\n",
"\n",
"let path3 = Path.Combine[|directory;\"downloads/PeptideProtMap.txt\"|]\n",
"downloadFile path3 \"PeptideProtMap.txt\" \"bio-bte-06-l-7\"\n",
"\n",
"let peptideProtMapping =\n",
"    Frame.ReadCsv(path3,hasHeaders=true,separators=\"\\t\")\n",
"    |\u003e Frame.indexRowsString \"Peptide\"\n",
"    \n",
"peptideProtMapping\n",
"|\u003e formatAsTable\n"]
          }
,
          {
           "cell_type": "markdown",
           "metadata": {},
           
           "source": ["Next, we will aggregate the peptide ion ratios to obtain one ratio per peptide sequence despite the ion charge. For convenience, we join the protein names.\n",
"\n"]
          }
,
          {
           "cell_type": "code",
           "metadata": {},
            "execution_count": 12, "outputs": [
          {
           "data": {
            "text/plain": ["No value returned by any evaluator"]
        },
           "execution_count": 12,
           "metadata": {},
           "output_type": "execute_result"
          }], 
           "source": ["// Code block 6\n",
"\n",
"let peptideRatios = \n",
"    ionRatios\n",
"    |\u003e Frame.applyLevel (fun (sequence,globalMod,charge) -\u003e sequence) Stats.mean\n",
"    |\u003e Frame.join JoinKind.Inner peptideProtMapping \n",
"    |\u003e Frame.groupRowsByString \"Protein\"\n",
"    |\u003e Frame.getNumericCols\n",
"    |\u003e Frame.ofColumns\n",
"    \n",
"peptideRatios\n",
"|\u003e formatAsTable\n"]
          }
,
          {
           "cell_type": "markdown",
           "metadata": {},
           
           "source": ["Now, we join the sample description with the data.\n",
"\n"]
          }
,
          {
           "cell_type": "code",
           "metadata": {},
            "execution_count": 14, "outputs": [
          {
           "data": {
            "text/plain": ["No value returned by any evaluator"]
        },
           "execution_count": 14,
           "metadata": {},
           "output_type": "execute_result"
          }], 
           "source": ["// Code block 7\n",
"\n",
"let peptideRatiosWithDesc = \n",
"    peptideRatios\n",
"    |\u003e Frame.nest\n",
"    |\u003e Series.map (fun k v -\u003e \n",
"        v\n",
"        |\u003e Frame.transpose\n",
"        |\u003e Frame.join JoinKind.Right sampleDesc\n",
"        |\u003e Frame.indexRowsUsing (fun os -\u003e \n",
"                os.GetAs\u003cstring\u003e(\"Strain\"),\n",
"                os.GetAs\u003cfloat\u003e(\"Dilution\")\n",
"            )\n",
"        |\u003e Frame.filterCols (fun ck cs -\u003e v.RowKeys |\u003e Seq.contains ck)\n",
"        |\u003e Frame.transpose\n",
"        )\n",
"    |\u003e Frame.unnest\n",
"    \n",
"peptideRatiosWithDesc\n"]
          }
,
          {
           "cell_type": "markdown",
           "metadata": {},
           
           "source": ["By calculating the mean value per protein, we have two final tables with peptide and protein ratios:\n",
"\n"]
          }
,
          {
           "cell_type": "code",
           "metadata": {},
            "execution_count": 15, "outputs": [
          {
           "data": {
            "text/plain": ["No value returned by any evaluator"]
        },
           "execution_count": 15,
           "metadata": {},
           "output_type": "execute_result"
          }], 
           "source": ["// Code block 8\n",
"\n",
"let proteinRatiosWithDesc =\n",
"    //peptideRatiosWithDesc\n",
"    peptideRatiosWithDesc\n",
"    |\u003e Frame.applyLevel fst Stats.mean\n",
"    \n",
"proteinRatiosWithDesc\n"]
          }
,
          {
           "cell_type": "markdown",
           "metadata": {},
           
           "source": ["Here are functions and parameters which are used for the styling of the graphs.\n",
"\n"]
          }
,
          {
           "cell_type": "code",
           "metadata": {},
            "execution_count": 16, "outputs": [], 
           "source": ["// Code block 9\n",
"\n",
"let xAxis showGrid title titleSize tickSize = Axis.LinearAxis.init(Title=title,Showgrid=showGrid,Showline=true,Mirror=StyleParam.Mirror.All,Zeroline=false,Tickmode=StyleParam.TickMode.Auto,Ticks= StyleParam.TickOptions.Inside, Tickfont=Font.init(StyleParam.FontFamily.Arial,Size=tickSize),Titlefont=Font.init(StyleParam.FontFamily.Arial,Size=titleSize))\n",
"let yAxis showGrid title titleSize tickSize = Axis.LinearAxis.init(Title=title,Showgrid=showGrid,Showline=true,Mirror=StyleParam.Mirror.All,Tickmode=StyleParam.TickMode.Auto,Ticks= StyleParam.TickOptions.Inside,Tickfont=Font.init(StyleParam.FontFamily.Arial,Size=tickSize),Titlefont=Font.init(StyleParam.FontFamily.Arial,Size=titleSize))\n",
"\n",
"let config = Config.init(ToImageButtonOptions = ToImageButtonOptions.init(Format = StyleParam.ImageFormat.SVG, Filename = \"praktikumsplot.svg\"), EditableAnnotations = [AnnotationEditOptions.LegendPosition])\n"]
          }
,
          {
           "cell_type": "markdown",
           "metadata": {},
           
           "source": ["## Peptide Ratio Visualization\n",
"\n",
"createChartForPeptideComparison\u003c/code\u003e creates a chart for the given protein comparing the ratios for each given strain. \n",
"It generates a chart for each strain showing the individual peptide ratios and their mean (protein ratio). It also compares the protein ratios for each strain.\n",
"\n"]
          }
,
          {
           "cell_type": "code",
           "metadata": {},
            "execution_count": 17, "outputs": [], 
           "source": ["// Code block 10\n",
"\n",
"// create charts to compare rel quant per dilution in strains\n",
"let createChartForPeptideComparison (protString:string) (strainStrings:string []) =\n",
"    \n",
"    let protFrame =\n",
"        peptideRatiosWithDesc.Nest()\n",
"        |\u003e fun x -\u003e x.Get(protString)\n",
"\n",
"    let peptideStrings =\n",
"        protFrame.RowKeys\n",
"        |\u003e Array.ofSeq\n",
"\n",
"    let peptideRows : Series\u003cstring,Series\u003c(string * float),float\u003e\u003e =\n",
"        protFrame\n",
"        |\u003e Frame.getRows\n",
"\n",
"    let protMeanFrame : Series\u003c(string * float),float\u003e =\n",
"        proteinRatiosWithDesc.GetRow protString\n",
"\n",
"    let xyMean =\n",
"        strainStrings\n",
"        |\u003e Array.map (fun strain -\u003e\n",
"            strain,\n",
"            protMeanFrame\n",
"            |\u003e Series.filter (fun k t -\u003e fst k = strain)\n",
"            |\u003e fun x -\u003e x.Observations\n",
"            |\u003e Seq.map (fun x -\u003e 1./snd x.Key, x.Value)\n",
"            |\u003e Array.ofSeq\n",
"        )\n",
"\n",
"    let xyMeanChart =\n",
"        xyMean\n",
"        |\u003e Array.map (fun (strain,xyMean) -\u003e\n",
"            Chart.Scatter(xyMean,mode=StyleParam.Mode.Lines_Markers, MarkerSymbol = StyleParam.Symbol.Circle, Opacity=0.8)\n",
"            |\u003e Chart.withTraceName (sprintf \"%s - %s\" protString strain )\n",
"        )\n",
"        |\u003e Chart.Combine\n",
"        |\u003e Chart.withX_Axis (xAxis false \"Means: \u003csup\u003e14\u003c/sup\u003eN Sample/\u003csup\u003e15\u003c/sup\u003eN QProtein ratio\" 20 16)\n",
"        |\u003e Chart.withY_Axis (yAxis false \"\u003csup\u003e14\u003c/sup\u003eN/\u003csup\u003e15\u003c/sup\u003eN Quantification ratio\" 20 16)\n",
"\n",
"    strainStrings\n",
"    |\u003e Array.map (fun strain -\u003e\n",
"        let peptideCharts =\n",
"            peptideStrings\n",
"            |\u003e Array.map (fun peptide -\u003e\n",
"                let strainValueSeries = \n",
"                    peptideRows.[peptide] \n",
"                    |\u003e Series.filter (fun k t -\u003e fst k = strain)\n",
"                let xy =\n",
"                    strainValueSeries.Observations\n",
"                    |\u003e Seq.map (fun x -\u003e 1./snd x.Key, x.Value)\n",
"                    |\u003e Array.ofSeq\n",
"                Chart.Scatter(xy,mode=StyleParam.Mode.Markers, MarkerSymbol = StyleParam.Symbol.Cross)\n",
"                |\u003e Chart.withTraceName (sprintf \"%s -  %s - %s\" strain protString peptide)\n",
"            )\n",
"        let relMeanChart = \n",
"            let xyMeanVals = Array.find (fun (x,y) -\u003e x = strain) xyMean |\u003e snd\n",
"            Chart.Scatter(xyMeanVals,mode=StyleParam.Mode.Lines_Markers, MarkerSymbol = StyleParam.Symbol.Circle, Color=\"#366F8E\", Opacity=0.8)\n",
"            |\u003e Chart.withTraceName (sprintf \"Mean %s - %s\" protString strain)\n",
"        Array.append peptideCharts [|relMeanChart|]\n",
"        |\u003e Chart.Combine\n",
"        |\u003e Chart.withX_Axis (xAxis false (strain + \": \u003csup\u003e14\u003c/sup\u003eN Sample/\u003csup\u003e15\u003c/sup\u003eN QProtein ratio\") 20 16)\n",
"        |\u003e Chart.withY_Axis (yAxis false \"\u003csup\u003e14\u003c/sup\u003eN/\u003csup\u003e15\u003c/sup\u003eN Quantification ratio\" 20 16)\n",
"    )\n",
"    |\u003e Array.append [|xyMeanChart|]\n",
"    |\u003e Chart.Stack(2,Space=0.2)\n",
"    |\u003e Chart.withSize (1200.,900.)\n",
"    |\u003e Chart.withTitle (sprintf \"Relative Quantification of %s\" protString)\n",
"    |\u003e Chart.withConfig config\n"]
          }
,
          {
           "cell_type": "markdown",
           "metadata": {},
           
           "source": ["\u003ccode\u003erbclChart\u003c/code\u003e executes \u003ccode\u003ecreateChartForPeptideComparison\u003c/code\u003e for rbcL and the strains 4A, 1690 and 1883. \n",
"\u003ccode\u003erbclChart\u003c/code\u003e executes \u003ccode\u003ecreateChartForPeptideComparison\u003c/code\u003e for rbcL and the strains 4A, 1690 and 1883. \n",
"With \u003ccode\u003eallCharts\u003c/code\u003e you can generate charts for all proteins and strains (\u003cspan Style=\"color: red\"\u003eWarning! This displays a lot of charts\u003c/span\u003e).\n",
"\n"]
          }
,
          {
           "cell_type": "code",
           "metadata": {},
            "execution_count": 18, "outputs": [
          {
           "data": {
            "text/plain": ["No value returned by any evaluator"]
        },
           "execution_count": 18,
           "metadata": {},
           "output_type": "execute_result"
          }], 
           "source": ["// Code block 11\n",
"\n",
"let rbclChart = createChartForPeptideComparison \"rbcL\" [|\"4A\";\"1690\";\"1883\"|]\n",
"\n",
"rbclChart\n"]
          }
,
          {
           "cell_type": "code",
           "metadata": {},
            "execution_count": 20, "outputs": [], 
           "source": ["//let allCharts =\n",
"//    let strains = \n",
"//        peptideRatiosWithDesc.ColumnKeys\n",
"//        |\u003e Seq.map fst\n",
"//        |\u003e Seq.distinct\n",
"//        |\u003e Array.ofSeq\n",
"//        \n",
"//    peptideRatiosWithDesc.RowKeys\n",
"//    |\u003e Seq.map (fun (prot,pep) -\u003e\n",
"//        createChartForPeptideComparison prot strains\n",
"//    )\n",
"//allCharts\n"]
          }
,
          {
           "cell_type": "markdown",
           "metadata": {},
           
           "source": ["## Sample stability\n",
"\n",
"Next, we do a quality assessment for the whole-cell sample preparation. \n",
"For that we will do a linear regression of the RuBisCO subunits relative quantification (\u003csup\u003e14\u003c/sup\u003eN/\u003csup\u003e15\u003c/sup\u003eN) protein ratio in whole-cell samples.\n",
"\n",
"Next we need two peptides (in this case rbcl and rbcs) for the assessment. You can exchange them for other proteins if you want to.\n",
"\n",
"Here, we fit a linear function to our mean peptide ratios and dilution series for the first protein. The  x-values are our different dilutions and the y-values our ratios. We calculate the \u003ca href=\"https://en.wikipedia.org/wiki/Goodness_of_fit\"\u003egoodness\n",
" of the fit\u003c/a\u003e (discrepancy between predicted and observed values) for each fit and and also the \u003ca href=\"https://en.wikipedia.org/wiki/Pearson_correlation_coefficient\"\u003epearson correlation coefficient\u003c/a\u003e (measure of the linear correlation between our ratios and dilution) for our values.\n",
"\n"]
          }
,
          {
           "cell_type": "code",
           "metadata": {},
            "execution_count": 21, "outputs": [], 
           "source": ["// Code block 12\n",
"\n",
"let calculateFit protName strainName (meanValueArray:(float*float) [])  =\n",
"    let dilutionsSorted,strainVals =\n",
"        meanValueArray\n",
"        |\u003e Array.unzip\n",
"    // RBCL Regression of relative quantification values\n",
"    let RBCLcoeff = Univariable.coefficient (vector dilutionsSorted) (vector strainVals)\n",
"    let RBCLfitFunc = Univariable.fit RBCLcoeff\n",
"    let RBCLfitVals = dilutionsSorted |\u003e Array.map RBCLfitFunc\n",
"    let RBCLdetermination = FSharp.Stats.Fitting.GoodnessOfFit.calculateDeterminationFromValue strainVals RBCLfitVals\n",
"    let RBCLpearson = FSharp.Stats.Correlation.Seq.pearson strainVals dilutionsSorted\n",
"    printfn \"%s - Pearson WholeCell %s: %f\" strainName protName RBCLpearson\n",
"    RBCLcoeff, RBCLfitVals, RBCLdetermination\n",
"\n",
"let meanValuesFor protName strainName=\n",
"    let meanSeries : Series\u003c(string * float),float\u003e = proteinRatiosWithDesc.GetRow protName\n",
"    meanSeries\n",
"    |\u003e Series.filter (fun k t -\u003e fst k = strainName)\n",
"    |\u003e fun x -\u003e x.Observations\n",
"    |\u003e Seq.map (fun x -\u003e 1./snd x.Key, x.Value)\n",
"    |\u003e Array.ofSeq\n",
"\n",
"meanValuesFor \"rbcL\" \"4A\"\n",
"//|\u003e calculateFit \"rbcL\" \"4A\"\n"]
          }
,
          {
           "cell_type": "markdown",
           "metadata": {},
           
           "source": ["\u003ccode\u003echartRatios\u003c/code\u003e generates charts for each given strain and our chosen proteins. \n",
"\u003ccode\u003echartRatios\u003c/code\u003e generates charts for each given strain and our chosen proteins. \n",
"Each chart contains a comparison of the two proteins, showing their mean data points, the linear fit and the goodness of the fit.\n",
"\n"]
          }
,
          {
           "cell_type": "code",
           "metadata": {},
            "execution_count": 22, "outputs": [], 
           "source": ["// Code block 13\n",
"\n",
"let chartRatios prot1 prot2 strain =\n",
"    let prot1Vals = meanValuesFor prot1 strain\n",
"    let prot2Vals = meanValuesFor prot2 strain\n",
"\n",
"    let (prot1Coeff:Vector\u003cfloat\u003e),prot1FitVals,prot1Determination =\n",
"        calculateFit prot1 strain prot1Vals\n",
"\n",
"    let (prot2Coeff:Vector\u003cfloat\u003e),prot2FitVals,prot2Determination =\n",
"        calculateFit prot2 strain prot2Vals\n",
"\n",
"    let dilutionsSorted,_ =\n",
"        prot1Vals // or prot2Vals, does not matter, as we only want x-axis\n",
"        |\u003e Array.unzip\n",
"    [\n",
"        Chart.Point (prot1Vals,Name = sprintf \"%s Quantified Ratios\" prot1)\n",
"        |\u003e Chart.withMarkerStyle(Size=10,Symbol = StyleParam.Symbol.Cross)\n",
"        Chart.Line(Array.zip dilutionsSorted prot1FitVals,Name = (sprintf \"%s linear regression: %.2f x + (%2f) ; R = %.4f\" prot1 prot1Coeff.[1] prot1Coeff.[0] prot1Determination))\n",
"        |\u003e Chart.withLineStyle(Color=\"lightblue\",Dash=StyleParam.DrawingStyle.DashDot)\n",
"\n",
"        Chart.Point (prot2Vals,Name = sprintf \"%s Quantified Ratios\" prot2,MarkerSymbol = StyleParam.Symbol.Cross)\n",
"        |\u003e Chart.withMarkerStyle(Size=10,Symbol = StyleParam.Symbol.Cross)\n",
"        Chart.Line(Array.zip dilutionsSorted prot2FitVals,Name = (sprintf \"%s linear regression: %.2f x + (%2f) ; R = %.4f\" prot2 prot2Coeff.[1] prot2Coeff.[0] prot2Determination))\n",
"        |\u003e Chart.withLineStyle(Color=\"LightGreen\",Dash=StyleParam.DrawingStyle.DashDot)\n",
"    ]\n",
"    |\u003e Chart.Combine\n",
"    |\u003e Chart.withTitle (sprintf \"%s - Whole cell extracts: Stability of %s/%s ratios between samples\" strain prot1 prot2)\n",
"    |\u003e Chart.withX_Axis (yAxis false \"\u003csup\u003e14\u003c/sup\u003eN Sample/\u003csup\u003e15\u003c/sup\u003eN QProtein ratio\" 20 16)\n",
"    |\u003e Chart.withY_Axis (xAxis false \"relative quantification\" 20 16 )\n",
"    |\u003e Chart.withConfig config\n",
"    |\u003e Chart.withSize (1200.,500.)\n"]
          }
,
          {
           "cell_type": "markdown",
           "metadata": {},
           
           "source": ["Here we display the chart of rbcl and rbcs for the strain 4A.\n",
"\n"]
          }
,
          {
           "cell_type": "code",
           "metadata": {},
            "execution_count": 23, "outputs": [
          {
           "data": {
            "text/plain": ["No value returned by any evaluator"]
        },
           "execution_count": 23,
           "metadata": {},
           "output_type": "execute_result"
          }], 
           "source": ["// Code block 14\n",
"\n",
"chartRatios \"rbcL\" \"RBCS2\" \"4A\"\n"]
          }],
            "metadata": {
            "kernelspec": {"display_name": ".NET (F#)", "language": "F#", "name": ".net-fsharp"},
            "langauge_info": {
        "file_extension": ".fs",
        "mimetype": "text/x-fsharp",
        "name": "C#",
        "pygments_lexer": "fsharp",
        "version": "4.5"
        }
        },
            "nbformat": 4,
            "nbformat_minor": 1
        }
        

