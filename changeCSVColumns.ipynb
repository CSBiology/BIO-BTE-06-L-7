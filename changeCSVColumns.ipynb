
        {
            "cells": [
          {
           "cell_type": "code",
           "metadata": {},
            "execution_count": 1, "outputs": [], 
           "source": ["#r \"nuget: Deedle\"\n",
"#r \"nuget: FSharpAux\"\n",
"\n",
"open Deedle\n",
"open FSharpAux\n",
"\n",
"let myPathSDS = @\"C:\\Repos\\BIO-BTE-06-L-7\\docs\\downloads\\Quantifications_sds_annotated.txt\"\n",
"let myPathBN = @\"C:\\Repos\\BIO-BTE-06-L-7\\docs\\downloads\\Quantifications_bn_annotated.txt\"\n",
"\n",
"let framSDS = Frame.ReadCsv (myPathSDS, separators = \"\\t\")\n",
"let framBN = Frame.ReadCsv (myPathBN, separators = \"\\t\")\n",
"\n",
"framSDS.ColumnKeys |\u003e Array.ofSeq\n",
"framBN.ColumnKeys |\u003e Array.ofSeq\n",
"\n",
"let framSDS\u0027 = framSDS |\u003e Frame.mapColKeys (fun cK -\u003e cK |\u003e String.replace \"2.5\" \"2_5\")\n",
"let framBN\u0027 = framBN |\u003e Frame.mapColKeys (fun cK -\u003e cK |\u003e String.replace \"2.5\" \"2_5\")\n",
"\n",
"framSDS\u0027.ColumnKeys |\u003e Array.ofSeq\n",
"framBN\u0027.ColumnKeys |\u003e Array.ofSeq\n",
"\n",
"framSDS\u0027.SaveCsv (myPathSDS |\u003e String.replace \".txt\" \"_replaced.txt\", separator = \u0027\\t\u0027, includeRowKeys = false)\n",
"framBN\u0027.SaveCsv (myPathBN |\u003e String.replace \".txt\" \"_replaced.txt\", separator = \u0027\\t\u0027, includeRowKeys = false)\n"]
          }],
            "metadata": {
            "kernelspec": {"display_name": ".NET (F#)", "language": "F#", "name": ".net-fsharp"},
            "langauge_info": {
        "file_extension": ".fs",
        "mimetype": "text/x-fsharp",
        "name": "C#",
        "pygments_lexer": "fsharp",
        "version": "4.5"
        }
        },
            "nbformat": 4,
            "nbformat_minor": 1
        }
        

