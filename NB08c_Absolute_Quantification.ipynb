
        {
            "cells": [
          {
           "cell_type": "code",
           "metadata": {},
            "execution_count": 1, "outputs": [], 
           "source": ["#r \"nuget: FSharp.Stats, 0.4.3\"\n",
"#r \"nuget: BioFSharp, 2.0.0-beta5\"\n",
"#r \"nuget: BioFSharp.IO, 2.0.0-beta5\"\n",
"#r \"nuget: Plotly.NET, 2.0.0-preview.16\"\n",
"#r \"nuget: BIO-BTE-06-L-7_Aux, 0.0.9\"\n",
"#r \"nuget: Deedle, 2.5.0\"\n",
"#r \"nuget: ISADotNet, 0.4.0-preview.4\"\n",
"#r \"nuget: ISADotNet.XLSX, 0.4.0-preview.4\"\n",
"#r \"nuget: ISADotNet.IO, 0.0.2\"\n",
"\n",
"#r \"nuget: Plotly.NET.Interactive, 2.0.0-preview.16\"\n",
"\n",
"open System.IO\n",
"open ISADotNet\n",
"open ISADotNet.API\n",
"open Deedle\n",
"open BioFSharp\n",
"open FSharpAux\n",
"open FSharp.Stats\n",
"open Plotly.NET\n",
"open arcIO.NET\n",
"open BIO_BTE_06_L_7_Aux.Deedle_Aux\n"]
          }
,
          {
           "cell_type": "markdown",
           "metadata": {},
           
           "source": ["# NB08c Absolute Quantification\n",
"\n",
"[![Binder](https://mybinder.org/badge_logo.svg)](https://mybinder.org/v2/gh/CSBiology/BIO-BTE-06-L-7/gh-pages?filepath=NB08c_Absolute_Quantification.ipynb)\n",
"\n",
"[Download Notebook](https://github.com/CSBiology/BIO-BTE-06-L-7/releases/download/NB08c/NB08c_Absolute_Quantification.ipynb)\n",
"\n",
"Finally, after careful peptide ion selection, quality control and assuring that our label efficiency allows accurate for quantifications, we can start to\n",
"calculate protein abundancies. Since we start again by getting access to our data and its description, this notebook will start off familiar!\n",
"\n",
"## I. Reading the sample description\n",
"\n",
"As always: before we analyze our data, we will download and read the sample description provided by the experimentalist.\n",
"\n"]
          }
,
          {
           "cell_type": "code",
           "metadata": {},
            "execution_count": 2, "outputs": [], 
           "source": ["let path2 = @\"..\\assays\\VP21_WC\\isa-assay.xlsx\"\n",
"\n",
"let _,_,_,myAssayFile = XLSX.AssayFile.Assay.fromFile path2\n",
"let inOutMap = ISADotNet.createInOutMap myAssayFile\n"]
          }
,
          {
           "cell_type": "markdown",
           "metadata": {},
           
           "source": ["Next, we will prepare functions to look up parameters which might be needed for further calculations.\n",
"If you compare this list to the one of note book *NB08a Data Access and Quality Control* you will find additional functions. We will need these functions\n",
"in order to calculate the absolute abundances. \n",
"\n"]
          }
,
          {
           "cell_type": "code",
           "metadata": {},
            "execution_count": 3, "outputs": [], 
           "source": ["let normalizeFileName (f: string) = if Path.HasExtension f then f else Path.ChangeExtension(f, \"wiff\")\n",
"\n",
"//        \n",
"let getStrain (fileName: string) =\n",
"    let fN = fileName |\u003e normalizeFileName\n",
"    ISADotNet.tryGetCharacteristic inOutMap \"Cultivation\" \"strain\" fN myAssayFile\n",
"    |\u003e Option.defaultValue \"\"\n",
"\n",
"//\n",
"let getExpressionLevel (fileName: string) =\n",
"    let fN = fileName |\u003e normalizeFileName \n",
"    ISADotNet.tryGetCharacteristic inOutMap \"Cultivation\" \"gene expression\" fN myAssayFile \n",
"    |\u003e Option.defaultValue \"Wt-Like\"\n",
"\n",
"// \n",
"let getμgChlorophPerMlCult (fileName: string) =\n",
"    let fN = fileName |\u003e normalizeFileName\n",
"    ISADotNet.tryGetCharacteristic inOutMap \"Cultivation\" \"total chlorophyll concentration of culture #7\" fN myAssayFile |\u003e Option.defaultValue \"\"\n",
"    |\u003e String.split \u0027 \u0027\n",
"    |\u003e Array.head\n",
"    |\u003e float \n",
"\n",
"// \n",
"let getCellCountPerMlCult (fileName: string) =\n",
"    let fN = fileName |\u003e normalizeFileName\n",
"    ISADotNet.tryGetCharacteristic inOutMap \"Cultivation\" \"cell concentration #6\" fN myAssayFile |\u003e Option.defaultValue \"\"\n",
"    |\u003e String.split \u0027 \u0027\n",
"    |\u003e Array.head\n",
"    |\u003e float \n",
"\n",
"// \n",
"let getμgChlorophPerμlSample (fileName: string) =\n",
"    let fN = fileName |\u003e normalizeFileName\n",
"    ISADotNet.tryGetCharacteristic inOutMap \"Cultivation\" \"total chlorophyll of sample #12\" fN myAssayFile |\u003e Option.defaultValue \"\"\n",
"    |\u003e String.split \u0027 \u0027\n",
"    |\u003e Array.head\n",
"    |\u003e float\n",
"    |\u003e fun x -\u003e x / 1000.\n",
"\n",
"// \n",
"let getμgProtPerμlSample (fileName: string) =\n",
"    let fN = fileName |\u003e normalizeFileName\n",
"    ISADotNet.tryGetCharacteristic inOutMap \"Cultivation\" \"whole cell protein concentration of sample #11\" fN myAssayFile |\u003e Option.defaultValue \"\"\n",
"    |\u003e String.split \u0027 \u0027\n",
"    |\u003e Array.head\n",
"    |\u003e float \n",
"    |\u003e fun x -\u003e x / 1000.\n",
"\n",
"//  \n",
"let get15N_CBC_Amount (fileName: string) =\n",
"    let fN = fileName |\u003e normalizeFileName\n",
"    ISADotNet.tryGetParameter inOutMap \"Protein extraction\" \"15N Calvin-Benson cycle QconCAT mass #3\" fN myAssayFile\n",
"    |\u003e Option.defaultValue \"\"\n",
"    |\u003e String.split \u0027 \u0027\n",
"    |\u003e Array.head\n",
"    |\u003e float\n",
"//\n",
"let get15N_PS_Amount (fileName: string) =\n",
"    let fN = fileName |\u003e normalizeFileName\n",
"    ISADotNet.tryGetParameter inOutMap \"Protein extraction\" \"15N Photosynthesis QconCAT mass #4\" fN myAssayFile\n",
"    |\u003e Option.defaultValue \"\"\n",
"    |\u003e String.split \u0027 \u0027\n",
"    |\u003e Array.head\n",
"    |\u003e float \n",
"//\n",
"let getGroupID (fileName: string) =\n",
"    let fN = fileName |\u003e normalizeFileName\n",
"    ISADotNet.tryGetParameter inOutMap \"Protein extraction\" \"Group name\" fN myAssayFile\n",
"    |\u003e Option.defaultValue \"\"\n",
"    |\u003e int\n"]
          }
,
          {
           "cell_type": "markdown",
           "metadata": {},
           
           "source": ["A quick execution to test the retrieval of data from the isa sample table:\n",
"\n"]
          }
,
          {
           "cell_type": "code",
           "metadata": {},
            "execution_count": 4, "outputs": [], 
           "source": ["getStrain \"WCGr2_U1.wiff\"\n",
"getExpressionLevel \"WCGr2_U1.wiff\"\n",
"getμgChlorophPerMlCult \"WCGr2_U1.wiff\"\n",
"getCellCountPerMlCult \"WCGr2_U1.wiff\"\n",
"getμgChlorophPerμlSample \"WCGr2_U1.wiff\"\n",
"getμgProtPerμlSample \"WCGr2_U1.wiff\"\n",
"get15N_CBC_Amount \"WCGr2_U1.wiff\"\n",
"get15N_PS_Amount \"WCGr2_U1.wiff\"\n",
"getGroupID \"WCGr2_U1.wiff\"\n"]
          }
,
          {
           "cell_type": "markdown",
           "metadata": {},
           
           "source": ["## II. Reading the data\n",
"As promised, we start this notebook with the output of the previous analysis, this notebook assumes that the data from *NB06b Data Access and Quality Control* is stored in a .txt\n",
"\n"]
          }
,
          {
           "cell_type": "code",
           "metadata": {},
            "execution_count": 5, "outputs": [], 
           "source": ["// Similarly to the previous notebook, we start by defining a type, modelling our qProteins. \n",
"type Qprot = \n",
"    | CBB\n",
"    | PS \n",
"\n",
"// Finally we want to define a function that given a distinct Qprot,\n",
"// returns the correct ISA lookup. (See: \u0027Reading the sample description\u0027)\n",
"let initGetQProtAmount qProt =\n",
"    match qProt with \n",
"    | CBB -\u003e get15N_CBC_Amount\n",
"    | PS  -\u003e get15N_PS_Amount\n",
"\n",
"type PeptideIon = \n",
"    {|\n",
"        ProteinGroup    : string  \n",
"        Synonyms        : string\n",
"        StringSequence  : string\n",
"        PepSequenceID   : int\n",
"        Charge          : int\n",
"        QProt           : Qprot\n",
"    |}\n",
"\n",
"//This is the filepath you chose in *NB08a Data Access and Quality Control*\n",
"let filePath = @\"C:\\YourPath\\testOut.txt\"\n",
"\n",
"let qConcatDataFiltered =\n",
"    Frame.ReadCsv(path = filePath,separators=\"\\t\")\n",
"    // StringSequence is the peptide sequence\n",
"    |\u003e Frame.indexRowsUsing (fun os -\u003e \n",
"            let proteinGroup = os.GetAs\u003cstring\u003e(\"ProteinGroup\")\n",
"            let qprot = \n",
"                match proteinGroup |\u003e String.contains \"QProt_newCBB\", proteinGroup |\u003e String.contains \"QProt_newPS\" with \n",
"                | true, false  -\u003e Some CBB\n",
"                | false, true  -\u003e Some PS \n",
"                | _ -\u003e None  \n",
"            {|\n",
"                ProteinGroup    = os.GetAs\u003cstring\u003e(\"ProteinGroup\"); \n",
"                Synonyms        = os.GetAs\u003cstring\u003e(\"Synonym\")\n",
"                StringSequence  = os.GetAs\u003cstring\u003e(\"StringSequence\");\n",
"                PepSequenceID   = os.GetAs\u003cint\u003e(\"PepSequenceID\");\n",
"                Charge          = os.GetAs\u003cint\u003e(\"Charge\");\n",
"                QProt           = qprot;\n",
"            |}\n",
"        )\n",
"    |\u003e Frame.filterRows (fun k s -\u003e k.QProt.IsSome)\n",
"    |\u003e Frame.mapRowKeys (fun k -\u003e {|k with QProt = k.QProt.Value|})\n"]
          }
,
          {
           "cell_type": "code",
           "metadata": {},
            "execution_count": null, "outputs": [], 
           "source": ["qConcatDataFiltered\n",
"|\u003e Frame.take 10\n",
"|\u003e formatAsTable 1500.\n"]
          }
,
          {
           "cell_type": "markdown",
           "metadata": {},
           
           "source": ["## III. From Ratios to mol proteins per cell.\n",
"\n",
"Now we can use the extensive information stored in the sample sheet and map each quantified peptide ion passing\n",
"the quality checks to an estimator for protein abundance! First we start off by defining a function to extract ratios:\n",
"\n"]
          }
,
          {
           "cell_type": "code",
           "metadata": {},
            "execution_count": 6, "outputs": [], 
           "source": ["let sliceQuantColumns quantColID frame = \n",
"    frame\n",
"    |\u003e Frame.filterCols (fun ck os -\u003e ck |\u003e String.contains (\".\" + quantColID))\n",
"    |\u003e Frame.mapColKeys (fun ck -\u003e ck.Split(\u0027.\u0027) |\u003e Array.item 0)\n"]
          }
,
          {
           "cell_type": "markdown",
           "metadata": {},
           
           "source": ["Next up, we have to define a function, which maps the measured ratio and measured parameters to an quantification value.\n",
"\n"]
          }
,
          {
           "cell_type": "code",
           "metadata": {},
            "execution_count": 7, "outputs": [], 
           "source": ["/// \n",
"let calcAbsoluteAbundance μgChlorophPerMlCult cellCountPerMlCult μgChlorophPerμlSample μgProtPerμlSample μgQProtSpike molWeightQProt molWeightTargetProt ratio1415N =\n",
"    let chlorophPerCell: float = μgChlorophPerMlCult / cellCountPerMlCult\n",
"    let cellsPerμlSample = μgChlorophPerμlSample / chlorophPerCell\n",
"    let μgProteinPerCell = μgProtPerμlSample / cellsPerμlSample\n",
"    let molQProtSpike = μgQProtSpike * 10. ** -6. / molWeightQProt\n",
"    let molProtIn50μgWCProt = ratio1415N * molQProtSpike\n",
"    let molProtIn1μgWCProt = molProtIn50μgWCProt / 50.\n",
"    let gTargetProtIn1μgWCProt = molWeightTargetProt * molProtIn1μgWCProt\n",
"    let molProteinPerCell = molProtIn1μgWCProt * μgProteinPerCell\n",
"    let proteinsPerCell = molProteinPerCell * 6.022 * 10. ** 23.\n",
"    let attoMolProteinPerCell = molProteinPerCell * (10. ** 18.)\n",
"    {|\n",
"        MassTargetProteinInWCProtein    = gTargetProtIn1μgWCProt\n",
"        ProteinsPerCell                 = proteinsPerCell\n",
"        AttoMolProteinPerCell           = attoMolProteinPerCell\n",
"    |}\n"]
          }
,
          {
           "cell_type": "markdown",
           "metadata": {},
           
           "source": ["Inspecting the input parameters of \u0027calcAbsoluteAbundance\u0027 we can see that we need both, the molcular weight of the qProtein and of the \n",
"native Protein. Since we have none at hand we will use our newly aquired skills to compute both and add them to the row key of our Frame. \n",
"\n"]
          }
,
          {
           "cell_type": "code",
           "metadata": {},
            "execution_count": 8, "outputs": [], 
           "source": ["let path = @\"..\\externals\\Chlamy_JGI5_5(Cp_Mp)_QProt.fasta\"\n",
"\n",
"let examplePeptides = \n",
"    path\n",
"    |\u003e IO.FastA.fromFile BioArray.ofAminoAcidString\n",
"    |\u003e Array.ofSeq\n"]
          }
,
          {
           "cell_type": "markdown",
           "metadata": {},
           
           "source": ["First we find the sequences of the qProteins, calculate their masses and define a function to retrieve the calculated mass.\n",
"\n"]
          }
,
          {
           "cell_type": "code",
           "metadata": {},
            "execution_count": 9, "outputs": [], 
           "source": ["let CBB = \n",
"    examplePeptides \n",
"    |\u003e Seq.find (fun prot -\u003e prot.Header |\u003e String.contains \"QProt_newCBB2\")\n",
"\n",
"let CBBMass = \n",
"    BioFSharp.BioSeq.toMonoisotopicMassWith (Formula.monoisoMass Formula.Table.H2O) CBB.Sequence\n",
"\n",
"let PS = \n",
"    examplePeptides \n",
"    |\u003e Seq.find (fun prot -\u003e prot.Header |\u003e String.contains \"QProt_newPS\")\n",
"\n",
"let PSMass = \n",
"    BioFSharp.BioSeq.toMonoisotopicMassWith (Formula.monoisoMass Formula.Table.H2O) PS.Sequence\n",
"\n",
"let getQProtMass qProt =\n",
"    match qProt with \n",
"    | CBB -\u003e CBBMass\n",
"    | PS  -\u003e PSMass\n"]
          }
,
          {
           "cell_type": "markdown",
           "metadata": {},
           
           "source": ["Then we repeat the process and assign the calculated masses to each protein.\n",
"\n"]
          }
,
          {
           "cell_type": "code",
           "metadata": {},
            "execution_count": 10, "outputs": [], 
           "source": ["let withProteinWeights = \n",
"    qConcatDataFiltered\n",
"    /// For each row (peptide) in the frame...\n",
"    |\u003e Frame.mapRowKeys (fun k -\u003e \n",
"        let proteinsOfInterest = \n",
"            k.ProteinGroup \n",
"            |\u003e String.split \u0027;\u0027 \n",
"            |\u003e Array.filter (fun x -\u003e x.Contains \"Cre\")\n",
"        let masses = \n",
"            proteinsOfInterest\n",
"            /// ...we look up the matching protein sequence\n",
"            |\u003e Seq.choose (fun creID -\u003e \n",
"                examplePeptides \n",
"                |\u003e Seq.tryFind (fun prot -\u003e prot.Header |\u003e String.contains creID)\n",
"                )\n",
"            /// ... and calculate the protein masses        \n",
"            |\u003e Seq.map (fun prot -\u003e \n",
"                BioFSharp.BioSeq.toMonoisotopicMassWith (Formula.monoisoMass Formula.Table.H2O) prot.Sequence \n",
"                )\n",
"        let avgMass = if Seq.isEmpty masses then 0. else masses |\u003e Seq.average\n",
"        /// ... and add the average to the peptide.   \n",
"        {|k with AverageProtGroupMass = avgMass|}\n",
"        )\n"]
          }
,
          {
           "cell_type": "markdown",
           "metadata": {},
           
           "source": ["With our newest update to our meta data (adding the masses to the rowkey), we can slice out the columns\n",
"needed to calculate absolute abundances: the ratio columns.\n",
"\n"]
          }
,
          {
           "cell_type": "code",
           "metadata": {},
            "execution_count": 11, "outputs": [], 
           "source": ["let ratios = sliceQuantColumns \"Ratio\" withProteinWeights\n"]
          }
,
          {
           "cell_type": "code",
           "metadata": {},
            "execution_count": null, "outputs": [], 
           "source": ["ratios\n",
"|\u003e Frame.take 10\n",
"|\u003e formatAsTable 1500.\n"]
          }
,
          {
           "cell_type": "markdown",
           "metadata": {},
           
           "source": ["Finally, we can iterate the ratios and map each to a protein abundance using our well annotated experiment.\n",
"\n"]
          }
,
          {
           "cell_type": "code",
           "metadata": {},
            "execution_count": 12, "outputs": [], 
           "source": ["//\n",
"let absoluteAbundances  = \n",
"    ratios\n",
"    |\u003e Frame.map (fun peptide filenName ratio -\u003e \n",
"        let μgChlorophPerMlCult     = getμgChlorophPerMlCult filenName\n",
"        let cellCountPerMlCult      = getCellCountPerMlCult filenName\n",
"        let μgChlorophPerμlSample   = getμgChlorophPerμlSample filenName\n",
"        let μgProtPerμlSample       = getμgProtPerμlSample filenName\n",
"        let μgQProtSpike            = initGetQProtAmount peptide.QProt filenName\n",
"        let molWeightQProt          = getQProtMass peptide.QProt\n",
"        let molWeightTargetProt     = peptide.AverageProtGroupMass\n",
"        let result = \n",
"            calcAbsoluteAbundance\n",
"                μgChlorophPerMlCult  \n",
"                cellCountPerMlCult   \n",
"                μgChlorophPerμlSample\n",
"                μgProtPerμlSample    \n",
"                μgQProtSpike         \n",
"                molWeightQProt       \n",
"                molWeightTargetProt\n",
"                ratio\n",
"        result.AttoMolProteinPerCell \n",
"        )\n"]
          }
,
          {
           "cell_type": "markdown",
           "metadata": {},
           
           "source": ["To see if our calculations are not off, we look at the calculated abundance for the well studied abundances of rbcL and RBCS\n",
"and compare this to the published knowledge about these proteins.\n",
"For this, we write a function that, given a protein synonym and a list of peptide sequences, returns a list of quantifications (via mean)\n",
"and the estimated uncertainty (via standard deviation). The results can then be visualized using e.g. column charts.\n",
"\n"]
          }
,
          {
           "cell_type": "code",
           "metadata": {},
            "execution_count": 13, "outputs": [
          {
           "data": {
            "text/plain": ["No value returned by any evaluator"]
        },
           "execution_count": 13,
           "metadata": {},
           "output_type": "execute_result"
          }], 
           "source": ["let extractAbsolutAbundancesOf prot peptidelist = \n",
"    absoluteAbundances\n",
"    |\u003e Frame.filterRows (fun k s -\u003e k.Synonyms |\u003e String.contains prot)\n",
"    |\u003e Frame.filterRows (fun k s -\u003e \n",
"        peptidelist |\u003e List.exists (fun (sequence,charge) -\u003e sequence = k.StringSequence \u0026\u0026 charge = k.Charge)\n",
"        )\n",
"    |\u003e Frame.getNumericCols \n",
"    |\u003e Series.filter (fun k s -\u003e getExpressionLevel k = \"\")\n",
"    |\u003e Series.map (fun k v -\u003e \n",
"        {|\n",
"            Filename   = k \n",
"            MeanQuant  = Stats.mean v\n",
"            StdevQuant = Stats.stdDev v\n",
"        |}\n",
"        )\n",
"    |\u003e Series.values\n",
"\n",
"let rbclQuantification = extractAbsolutAbundancesOf \"rbcL\" [\"DTDILAAFR\", 2; \"FLFVAEAIYK\", 2]\n",
"let rbcsQuantification = extractAbsolutAbundancesOf \"RBCS\" [\"AFPDAYVR\", 2; \"LVAFDNQK\", 2]\n",
"\n",
"let protAbundanceChart =\n",
"    [\n",
"    Chart.Column(rbclQuantification |\u003e Seq.map (fun x -\u003e x.MeanQuant),rbclQuantification |\u003e Seq.map (fun x -\u003e x.Filename))\n",
"    |\u003e Chart.withYErrorStyle (rbclQuantification |\u003e Seq.map (fun x -\u003e x.StdevQuant))\n",
"    |\u003e Chart.withTraceName \"rbcL\"\n",
"    Chart.Column(rbcsQuantification |\u003e Seq.map (fun x -\u003e x.MeanQuant),rbcsQuantification |\u003e Seq.map (fun x -\u003e x.Filename))\n",
"    |\u003e Chart.withYErrorStyle (rbcsQuantification |\u003e Seq.map (fun x -\u003e x.StdevQuant))\n",
"    |\u003e Chart.withTraceName \"RBCS\"\n",
"    ]\n",
"    |\u003e Chart.combine\n",
"    |\u003e Chart.withTemplate ChartTemplates.light\n",
"    |\u003e Chart.withYAxisStyle \"protein abundance [amol/cell]\"\n",
"\n",
"protAbundanceChart\n"]
          }
,
          {
           "cell_type": "markdown",
           "metadata": {},
           
           "source": ["Comparing this to the published results (see: https://www.frontiersin.org/articles/10.3389/fpls.2020.00868/full) we see that our preliminary results are\n",
"not only in the same order of magnitude as the published values, but in many cases really close! Of course it could be that you see systematic differences between your results\n",
"and published results. As data analysts it is now your task to estimate if the differences are the product of biology (e.g. different growth conditions or genetic background)\n",
"or caused by technical artifacts (e.g. different amounts of spiked proteins, mistakes estimating a parameter like the cell count) which could be accounted for by developing\n",
"normalization strategies. We look forward to read your explanations!\n",
"\n"]
          }],
            "metadata": {
            "kernelspec": {"display_name": ".NET (F#)", "language": "F#", "name": ".net-fsharp"},
            "langauge_info": {
        "file_extension": ".fs",
        "mimetype": "text/x-fsharp",
        "name": "C#",
        "pygments_lexer": "fsharp",
        "version": "4.5"
        }
        },
            "nbformat": 4,
            "nbformat_minor": 1
        }
        

