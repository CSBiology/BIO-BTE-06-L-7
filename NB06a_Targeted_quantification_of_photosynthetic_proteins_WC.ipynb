
        {
            "cells": [
          {
           "cell_type": "markdown",
           "metadata": {},
           
           "source": ["# NB06a Targeted quantification of photosynthetic proteins (Whole Cell)\n",
"\n",
"[![Binder](https://mybinder.org/badge_logo.svg)](https://mybinder.org/v2/gh/CSBiology/BIO-BTE-06-L-7/gh-pages?filepath=NB06a_Targeted_quantification_of_photosynthetic_proteins_WC.ipynb)\n",
"\n",
"1. General steps for targeted quantification\n",
"2. Peptide Ratio Visualization\n",
"3. Sample stability\n",
"\n",
"\n",
"## General steps for targeted quantification\n",
"\n",
"\n",
"1. Read the output file of the QconQuantifier containing the raw peptide ion quantification.\n",
"2. Performing a first data cleaning step\n",
"3. Calculating the 14N/15N ratio per peptide ion per sample\n",
"4. Aggregating the peptide ions to their corresponding peptide\n",
"5. Calculating the average of the peptide quantification value for protein quantification\n",
"6. Visually inspect the peptide/protein quantification\n",
"\n",
"For the explorative data analysis, we are using \n",
"[Deedle](http://bluemountaincapital.github.io/Deedle/tutorial.html).\n",
"Deedle is an easy to use library for data and time series manipulation and for scientific programming. \n",
"It supports working with structured data frames, ordered and unordered data, as well as time series. Deedle is designed to work well for exploratory programming using F#.\n",
"\n"]
          }
,
          {
           "cell_type": "code",
           "metadata": {},
            "execution_count": 1, "outputs": [], 
           "source": ["#r \"nuget: FSharp.Stats, 0.4.0\"\n",
"#r \"nuget: BioFSharp, 2.0.0-beta5\"\n",
"#r \"nuget: BioFSharp.IO, 2.0.0-beta5\"\n",
"#r \"nuget: Plotly.NET, 2.0.0-beta6\"\n",
"#r \"nuget: BIO-BTE-06-L-7_Aux, 0.0.2\"\n",
"#r \"nuget: Deedle, 2.3.0\"\n",
"\n",
"#r \"nuget: Plotly.NET, 2.0.0-beta6\"\n",
"#r \"nuget: Plotly.NET.Interactive, 2.0.0-beta6\"\n",
"\n",
"open Deedle\n",
"open BioFSharp\n",
"open FSharpAux\n",
"open FSharp.Stats\n",
"open Plotly.NET\n",
"open FSharp.Stats.Fitting.LinearRegression.OrdinaryLeastSquares.Linear\n",
"open System.IO\n",
"open BIO_BTE_06_L_7_Aux.FS3_Aux\n"]
          }
,
          {
           "cell_type": "markdown",
           "metadata": {},
           
           "source": ["At the start we have the output file of the QconQuantifier. We want to read the file, bind it to \n",
"`qConcatRawData` and group the rows by peptide sequence, modifcation (14N or 15N) and the charge state of the ion.\n",
"\n"]
          }
,
          {
           "cell_type": "code",
           "metadata": {},
            "execution_count": 2, "outputs": [
          {
           "data": {
            "text/plain": ["ModSequenceID PepSequenceID StringSequence Charge Proteingroup                                      20170517 TM FScon3001.MeasuredApex_Heavy 20170517 TM FScon3001.MeasuredApex_Light 20170517 TM FScon3001.Ratio 20170517 TM FScon3003.MeasuredApex_Heavy 20170517 TM FScon3003.MeasuredApex_Light 20170517 TM FScon3003.Ratio 20170517 TM FScon3005.MeasuredApex_Heavy 20170517 TM FScon3005.MeasuredApex_Light 20170517 TM FScon3005.Ratio ",
"123 124 DTDILAAFR  Cre15.g639150.t2.1;Cre15.g639150.t1.1;Qprot_newPS 2 -\u003e 123           124           DTDILAAFR      2      Cre15.g639150.t2.1;Cre15.g639150.t1.1;Qprot_newPS 1029.335597                              1311.564791                              1.27418579                  777.3912822                              1640.672454                              2.111148387                 19982.9304                               308537.402                               15.44004787                 ",
"456 457 SLVDEQENVK Cre07.g326950.t1.1;Qprot_newCBB2                  2 -\u003e 456           457           SLVDEQENVK     2      Cre07.g326950.t1.1;Qprot_newCBB2                  5980.238395                              1216.072392                              0.233672519                 8718.235654                              1657.735563                              0.356266064                 9548.862075                              2355.292055                              0.246176256                 ",
"789 780 SEQ        Cre16.g687350.t1.2                                2 -\u003e 789           780           SEQ            2      Cre16.g687350.t1.2                                1849.004558                              1945.076277                              0.901757919                 1347.965929                              2387.051769                              1.331925727                 2145.362795                              2593.791292                              1.30939321                  ",
"125 124 DTDILAAFR  Cre15.g639150.t2.1;Cre15.g639150.t1.1;Qprot_newPS 3 -\u003e 125           124           DTDILAAFR      3      Cre15.g639150.t2.1;Cre15.g639150.t1.1;Qprot_newPS 1029.335597                              1311.564791                              1.27418579                  777.3912822                              1640.672454                              2.111148387                 19982.9304                               308537.402                               15.44004787                 ",
"",
"val directory : string =",
"  \"/home/runner/work/BIO-BTE-06-L-7/BIO-BTE-06-L-7/docs\"",
"val path : string =",
"  \"/home/runner/work/BIO-BTE-06-L-7/BIO-BTE-06-L-7/docs/download\"+[12 chars]",
"val qConcatRawData : Frame\u003c(int * int * string * string * int),string\u003e",
"val it : unit = ()"]
        },
           "execution_count": 2,
           "metadata": {},
           "output_type": "execute_result"
          }], 
           "source": ["// Code block 1\n",
"\n",
"let directory = __SOURCE_DIRECTORY__\n",
"let path = Path.Combine[|directory;\"downloads/Sample.tab\"|]\n",
"downloadFile path \"Sample.tab\" \"bio-bte-06-l-7\"\n",
"\n",
"let qConcatRawData =\n",
"    Frame.ReadCsv(path,separators=\"\\t\")\n",
"    // StringSequence is the peptide sequence\n",
"    |\u003e Frame.indexRowsUsing (fun os -\u003e \n",
"            os.GetAs\u003cint\u003e(\"ModSequenceID\"),\n",
"            os.GetAs\u003cint\u003e(\"PepSequenceID\"),\n",
"            os.GetAs\u003cstring\u003e(\"StringSequence\"),\n",
"            os.GetAs\u003cstring\u003e(\"Proteingroup\"), \n",
"            os.GetAs\u003cint\u003e(\"Charge\")\n",
"        )\n",
"        \n",
"qConcatRawData.Print()\n"]
          }
,
          {
           "cell_type": "markdown",
           "metadata": {},
           
           "source": ["From literature we know that there are peptides with a very bad flyability \n",
"(Hammel et al.). Additionally, there are extreme values only due to technical artifacts. Both should be avoided in further analysis.\n",
"We also only want to keep the peptides that also appear in a QProtein:\n",
"\n"]
          }
,
          {
           "cell_type": "code",
           "metadata": {},
            "execution_count": 3, "outputs": [], 
           "source": ["// Code block 2\n",
"\n",
"let qConcatData =\n",
"    qConcatRawData\n",
"    |\u003e Frame.filterRows ( fun (modID, pepID, sequence, protGroup, charge) _ -\u003e \n",
"        sequence \u003c\u003e \"EVTLGFVDLMR\" \u0026\u0026 sequence \u003c\u003e \"AFPDAYVR\" \u0026\u0026 (protGroup |\u003e String.contains \"Qprot_\")\n",
"        )\n",
"    |\u003e Frame.mapValues (fun x -\u003e  if x \u003c 2000000. \u0026\u0026 x \u003e 0. then x else nan)\n",
"\n",
"qConcatData.Print()\n"]
          }
,
          {
           "cell_type": "markdown",
           "metadata": {},
           
           "source": ["Reading the sample description file provides us with a list of all measured files and additional information about the experiment (mixing ratio, strain, etc.) \n",
"\n"]
          }
,
          {
           "cell_type": "code",
           "metadata": {},
            "execution_count": 4, "outputs": [
          {
           "data": {
            "text/plain": ["Dilution Strain ",
"20170517 TM FScon3001 -\u003e 1        Test   ",
"20170517 TM FScon3003 -\u003e 0.5      Test   ",
"20170517 TM FScon3005 -\u003e 0.25     Test   ",
"",
"type experimentData =",
"  { Filename: string",
"    Dilution: float",
"    Strain: string }",
"val createExperimentData :",
"  filename:string -\u003e dilution:float -\u003e strain:string -\u003e experimentData",
"val sampleExperimentData : experimentData [] =",
"  [|{ Filename = \"20170517 TM FScon3001\"",
"      Dilution = 1.0",
"      Strain = \"Test\" }; { Filename = \"20170517 TM FScon3003\"",
"                           Dilution = 0.5",
"                           Strain = \"Test\" };",
"    { Filename = \"20170517 TM FScon3005\"",
"      Dilution = 0.25",
"      Strain = \"Test\" }|]",
"val sampleDesc : Frame\u003cstring,string\u003e",
"val it : unit = ()"]
        },
           "execution_count": 4,
           "metadata": {},
           "output_type": "execute_result"
          }], 
           "source": ["// Code block 3\n",
"\n",
"//FileName Experiment Content ProteinAmount[ug] Replicate\n",
"// This will be replaced by a ISA.NET function once it is implemented\n",
"type experimentData = {\n",
"    Filename: string\n",
"    Dilution: float\n",
"    Strain: string\n",
"}\n",
"\n",
"let createExperimentData filename dilution strain =\n",
"    {\n",
"        Filename = filename\n",
"        Dilution = dilution\n",
"        Strain = strain\n",
"    }\n",
"\n",
"let sampleExperimentData = \n",
"    [|\n",
"        createExperimentData \"20170517 TM FScon3001\" 1. \"Test\"\n",
"        createExperimentData \"20170517 TM FScon3003\" 0.5 \"Test\"\n",
"        createExperimentData \"20170517 TM FScon3005\" 0.25 \"Test\"\n",
"    |]\n",
"\n",
"\n",
"\n",
"let sampleDesc = \n",
"    Frame.ofRecords sampleExperimentData\n",
"    |\u003e Frame.indexRowsString \"Filename\"\n",
"    \n",
"sampleDesc.Print()\n"]
          }
,
          {
           "cell_type": "markdown",
           "metadata": {},
           
           "source": ["From our in silico protein digest during the design of the qConCat protein, \n",
"we know the peptide(s) \u0026rarr; protein relationship. We read this information from the \"PeptideProtMap.txt\" file.\n",
"\n"]
          }
,
          {
           "cell_type": "code",
           "metadata": {},
            "execution_count": 5, "outputs": [
          {
           "data": {
            "text/plain": ["Protein       ",
"LGGNEQVTR      -\u003e iRT           ",
"SALPSNWK       -\u003e LCI5          ",
"SVLPANWR       -\u003e LCI5          ",
"DTDILAAFR      -\u003e rbcL          ",
"EVTLGFVDLMR    -\u003e rbcL          ",
"FLFVAEAIYK     -\u003e rbcL          ",
"LTYYTPDYVVR    -\u003e rbcL          ",
"AYVSNESAIR     -\u003e RBCS2         ",
"LVAFDNQK       -\u003e RBCS2         ",
"YWTMWK         -\u003e RBCS2         ",
"AFPDAYVR       -\u003e RBCS2         ",
"VPLILGIWGGK    -\u003e RCA1          ",
"IGQQLVNAR      -\u003e RCA1          ",
"SLVDEQENVK     -\u003e RCA1          ",
"LGADSGALEFVPK  -\u003e PCY1          ",
":                 ...           ",
"LVDELNAGTIPR   -\u003e TPI1          ",
"LANLPEVK       -\u003e RPI1          ",
"LQNIVGVPTSIR   -\u003e RPI1          ",
"TQLSQDELK      -\u003e RPI1          ",
"SGQPAVDLNK     -\u003e DP12          ",
"ASGQPAVDLNK    -\u003e DP12          ",
"AEAALLVR       -\u003e RMT1          ",
"SNSTPLGSR      -\u003e RMT1          ",
"GILASDESNATTGK -\u003e FBA1          ",
"ALQSSTLK       -\u003e FBA1          ",
"VSAADVAR       -\u003e FBA2          ",
"ALQASVLK       -\u003e FBA2          ",
"VTEAAALASGR    -\u003e Cre07.g338451 ",
"NLALELVR       -\u003e FBP1          ",
"SAEGLDASASLR   -\u003e CalSciex      ",
"",
"val path3 : string =",
"  \"/home/runner/work/BIO-BTE-06-L-7/BIO-BTE-06-L-7/docs/download\"+[20 chars]",
"val peptideProtMapping : Frame\u003cstring,string\u003e",
"val it : unit = ()"]
        },
           "execution_count": 5,
           "metadata": {},
           "output_type": "execute_result"
          }], 
           "source": ["// Code block 5\n",
"\n",
"let path3 = Path.Combine[|directory;\"downloads/PeptideProtMap.txt\"|]\n",
"downloadFile path3 \"PeptideProtMap.txt\" \"bio-bte-06-l-7\"\n",
"\n",
"let peptideProtMapping =\n",
"    Frame.ReadCsv(path3,hasHeaders=true,separators=\"\\t\")\n",
"    |\u003e Frame.indexRowsString \"Peptide\"\n",
"    \n",
"peptideProtMapping.Print()\n"]
          }
,
          {
           "cell_type": "markdown",
           "metadata": {},
           
           "source": ["Next, we will aggregate the peptide ion ratios to obtain one ratio per peptide sequence despite the ion charge. For convenience, we join the protein names.\n",
"\n"]
          }
,
          {
           "cell_type": "code",
           "metadata": {},
            "execution_count": 6, "outputs": [
          {
           "data": {
            "text/plain": ["20170517 TM FScon3001 20170517 TM FScon3003 20170517 TM FScon3005 ",
"rbcL DTDILAAFR  -\u003e 1.27418579            2.111148387           15.44004787           ",
"RCA1 SLVDEQENVK -\u003e 0.233672519           0.356266064           0.246176256           ",
"",
"val peptideRatios : Frame\u003c(string * string),string\u003e",
"val it : unit = ()"]
        },
           "execution_count": 6,
           "metadata": {},
           "output_type": "execute_result"
          }], 
           "source": ["// Code block 6\n",
"\n",
"let peptideRatios = \n",
"    qConcatData\n",
"    |\u003e Frame.applyLevel (fun (modID, pepID, sequence, protGroup, charge) -\u003e sequence) Stats.mean\n",
"    |\u003e Frame.filterCols (fun ck os -\u003e ck |\u003e String.contains \"Ratio\")\n",
"    |\u003e Frame.mapColKeys (fun ck -\u003e ck.Replace(\".Ratio\", \"\"))\n",
"    |\u003e Frame.join JoinKind.Inner peptideProtMapping \n",
"    |\u003e Frame.groupRowsByString \"Protein\"\n",
"    |\u003e Frame.getNumericCols\n",
"    |\u003e Frame.ofColumns\n",
"    \n",
"peptideRatios.Print()\n"]
          }
,
          {
           "cell_type": "markdown",
           "metadata": {},
           
           "source": ["Now, we join the sample description with the data.\n",
"\n"]
          }
,
          {
           "cell_type": "code",
           "metadata": {},
            "execution_count": 7, "outputs": [
          {
           "data": {
            "text/plain": ["Test        Test        Test        ",
"                   1           0.5         0.25        ",
"rbcL DTDILAAFR  -\u003e 1.27418579  2.111148387 15.44004787 ",
"RCA1 SLVDEQENVK -\u003e 0.233672519 0.356266064 0.246176256 ",
"",
"val peptideRatiosWithDesc : Frame\u003c(string * string),(string * float)\u003e",
"val it : unit = ()"]
        },
           "execution_count": 7,
           "metadata": {},
           "output_type": "execute_result"
          }], 
           "source": ["// Code block 7\n",
"\n",
"let peptideRatiosWithDesc = \n",
"    peptideRatios\n",
"    |\u003e Frame.nest\n",
"    |\u003e Series.map (fun k v -\u003e \n",
"        v\n",
"        |\u003e Frame.transpose\n",
"        |\u003e Frame.join JoinKind.Right sampleDesc\n",
"        |\u003e Frame.indexRowsUsing (fun os -\u003e \n",
"                os.GetAs\u003cstring\u003e(\"Strain\"),\n",
"                os.GetAs\u003cfloat\u003e(\"Dilution\")\n",
"            )\n",
"        |\u003e Frame.filterCols (fun ck cs -\u003e v.RowKeys |\u003e Seq.contains ck)\n",
"        |\u003e Frame.transpose\n",
"        )\n",
"    |\u003e Frame.unnest\n",
"    \n",
"peptideRatiosWithDesc.Print()\n"]
          }
,
          {
           "cell_type": "markdown",
           "metadata": {},
           
           "source": ["By calculating the mean value per protein, we have two final tables with peptide and protein ratios:\n",
"\n"]
          }
,
          {
           "cell_type": "code",
           "metadata": {},
            "execution_count": 8, "outputs": [
          {
           "data": {
            "text/plain": ["Test        Test        Test        ",
"        1           0.5         0.25        ",
"rbcL -\u003e 1.27418579  2.111148387 15.44004787 ",
"RCA1 -\u003e 0.233672519 0.356266064 0.246176256 ",
"",
"val proteinRatiosWithDesc : Frame\u003cstring,(string * float)\u003e",
"val it : unit = ()"]
        },
           "execution_count": 8,
           "metadata": {},
           "output_type": "execute_result"
          }], 
           "source": ["// Code block 8\n",
"\n",
"let proteinRatiosWithDesc =\n",
"    //peptideRatiosWithDesc\n",
"    peptideRatiosWithDesc\n",
"    |\u003e Frame.applyLevel fst Stats.mean\n",
"    \n",
"proteinRatiosWithDesc.Print()\n"]
          }
,
          {
           "cell_type": "markdown",
           "metadata": {},
           
           "source": ["Here are functions and parameters which are used for the styling of the graphs.\n",
"\n"]
          }
,
          {
           "cell_type": "code",
           "metadata": {},
            "execution_count": 9, "outputs": [], 
           "source": ["// Code block 9\n",
"\n",
"let xAxis showGrid title titleSize tickSize = Axis.LinearAxis.init(Title=title,Showgrid=showGrid,Showline=true,Mirror=StyleParam.Mirror.All,Zeroline=false,Tickmode=StyleParam.TickMode.Auto,Ticks= StyleParam.TickOptions.Inside, Tickfont=Font.init(StyleParam.FontFamily.Arial,Size=tickSize),Titlefont=Font.init(StyleParam.FontFamily.Arial,Size=titleSize))\n",
"let yAxis showGrid title titleSize tickSize = Axis.LinearAxis.init(Title=title,Showgrid=showGrid,Showline=true,Mirror=StyleParam.Mirror.All,Tickmode=StyleParam.TickMode.Auto,Ticks= StyleParam.TickOptions.Inside,Tickfont=Font.init(StyleParam.FontFamily.Arial,Size=tickSize),Titlefont=Font.init(StyleParam.FontFamily.Arial,Size=titleSize))\n",
"\n",
"let config = Config.init(ToImageButtonOptions = ToImageButtonOptions.init(Format = StyleParam.ImageFormat.SVG, Filename = \"praktikumsplot.svg\"), EditableAnnotations = [AnnotationEditOptions.LegendPosition])\n"]
          }
,
          {
           "cell_type": "markdown",
           "metadata": {},
           
           "source": ["## Peptide Ratio Visualization\n",
"\n",
"`createChartForPeptideComparison` creates a chart for the given protein comparing the ratios for each given strain. \n",
"It generates a chart for each strain showing the individual peptide ratios and their mean (protein ratio). It also compares the protein ratios for each strain.\n",
"\n"]
          }
,
          {
           "cell_type": "code",
           "metadata": {},
            "execution_count": 10, "outputs": [], 
           "source": ["// Code block 10\n",
"\n",
"// create charts to compare rel quant per dilution in strains\n",
"let createChartForPeptideComparison (protString:string) (strainStrings:string []) =\n",
"    \n",
"    let protFrame =\n",
"        peptideRatiosWithDesc.Nest()\n",
"        |\u003e fun x -\u003e x.Get(protString)\n",
"\n",
"    let peptideStrings =\n",
"        protFrame.RowKeys\n",
"        |\u003e Array.ofSeq\n",
"\n",
"    let peptideRows : Series\u003cstring,Series\u003c(string * float),float\u003e\u003e =\n",
"        protFrame\n",
"        |\u003e Frame.getRows\n",
"\n",
"    let protMeanFrame : Series\u003c(string * float),float\u003e =\n",
"        proteinRatiosWithDesc.GetRow protString\n",
"\n",
"    let xyMean =\n",
"        strainStrings\n",
"        |\u003e Array.map (fun strain -\u003e\n",
"            strain,\n",
"            protMeanFrame\n",
"            |\u003e Series.filter (fun k t -\u003e fst k = strain)\n",
"            |\u003e fun x -\u003e x.Observations\n",
"            |\u003e Seq.map (fun x -\u003e 1./snd x.Key, x.Value)\n",
"            |\u003e Array.ofSeq\n",
"        )\n",
"\n",
"    let xyMeanChart =\n",
"        xyMean\n",
"        |\u003e Array.map (fun (strain,xyMean) -\u003e\n",
"            Chart.Scatter(xyMean,mode=StyleParam.Mode.Lines_Markers, MarkerSymbol = StyleParam.Symbol.Circle, Opacity=0.8)\n",
"            |\u003e Chart.withTraceName (sprintf \"%s - %s\" protString strain )\n",
"        )\n",
"        |\u003e Chart.Combine\n",
"        |\u003e Chart.withX_Axis (xAxis false \"Means: \u003csup\u003e14\u003c/sup\u003eN Sample/\u003csup\u003e15\u003c/sup\u003eN QProtein ratio\" 20 16)\n",
"        |\u003e Chart.withY_Axis (yAxis false \"\u003csup\u003e14\u003c/sup\u003eN/\u003csup\u003e15\u003c/sup\u003eN Quantification ratio\" 20 16)\n",
"\n",
"    strainStrings\n",
"    |\u003e Array.map (fun strain -\u003e\n",
"        let peptideCharts =\n",
"            peptideStrings\n",
"            |\u003e Array.map (fun peptide -\u003e\n",
"                let strainValueSeries = \n",
"                    peptideRows.[peptide] \n",
"                    |\u003e Series.filter (fun k t -\u003e fst k = strain)\n",
"                let xy =\n",
"                    strainValueSeries.Observations\n",
"                    |\u003e Seq.map (fun x -\u003e 1./snd x.Key, x.Value)\n",
"                    |\u003e Array.ofSeq\n",
"                Chart.Scatter(xy,mode=StyleParam.Mode.Markers, MarkerSymbol = StyleParam.Symbol.Cross)\n",
"                |\u003e Chart.withTraceName (sprintf \"%s -  %s - %s\" strain protString peptide)\n",
"            )\n",
"        let relMeanChart = \n",
"            let xyMeanVals = Array.find (fun (x,y) -\u003e x = strain) xyMean |\u003e snd\n",
"            Chart.Scatter(xyMeanVals,mode=StyleParam.Mode.Lines_Markers, MarkerSymbol = StyleParam.Symbol.Circle, Color=\"#366F8E\", Opacity=0.8)\n",
"            |\u003e Chart.withTraceName (sprintf \"Mean %s - %s\" protString strain)\n",
"        Array.append peptideCharts [|relMeanChart|]\n",
"        |\u003e Chart.Combine\n",
"        |\u003e Chart.withX_Axis (xAxis false (strain + \": \u003csup\u003e14\u003c/sup\u003eN Sample/\u003csup\u003e15\u003c/sup\u003eN QProtein ratio\") 20 16)\n",
"        |\u003e Chart.withY_Axis (yAxis false \"\u003csup\u003e14\u003c/sup\u003eN/\u003csup\u003e15\u003c/sup\u003eN Quantification ratio\" 20 16)\n",
"    )\n",
"    |\u003e Array.append [|xyMeanChart|]\n",
"    |\u003e Chart.Stack(2,Space=0.2)\n",
"    |\u003e Chart.withSize (1200.,900.)\n",
"    |\u003e Chart.withTitle (sprintf \"Relative Quantification of %s\" protString)\n",
"    |\u003e Chart.withConfig config\n"]
          }
,
          {
           "cell_type": "markdown",
           "metadata": {},
           
           "source": ["`rbclChart` executes `createChartForPeptideComparison` for rbcL and the strains 4A, 1690 and 1883. \n",
"With `allCharts` you can generate charts for all proteins and strains ( ***Warning! This displays a lot of charts*** ).\n",
"\n"]
          }
,
          {
           "cell_type": "code",
           "metadata": {},
            "execution_count": 11, "outputs": [
          {
           "data": {
            "text/html": ["\u003cdiv id=\"ca0e46c3-968e-47f7-898a-ee9e22dc6772\" style=\"width: 1200px; height: 900px;\"\u003e\u003c!-- Plotly chart will be drawn inside this DIV --\u003e\u003c/div\u003e",
"\u003cscript type=\"text/javascript\"\u003e",
"",
"            var renderPlotly_ca0e46c3968e47f7898aee9e22dc6772 = function() {",
"            var fsharpPlotlyRequire = requirejs.config({context:\u0027fsharp-plotly\u0027,paths:{plotly:\u0027https://cdn.plot.ly/plotly-latest.min\u0027}}) || require;",
"            fsharpPlotlyRequire([\u0027plotly\u0027], function(Plotly) {",
"",
"            var data = [{\"type\":\"scatter\",\"x\":[],\"y\":[],\"mode\":\"lines+markers\",\"opacity\":0.8,\"line\":{\"width\":{}},\"marker\":{\"symbol\":0},\"name\":\"rbcL - 4A\",\"xaxis\":\"x\",\"yaxis\":\"y\"},{\"type\":\"scatter\",\"x\":[],\"y\":[],\"mode\":\"lines+markers\",\"opacity\":0.8,\"line\":{\"width\":{}},\"marker\":{\"symbol\":0},\"name\":\"rbcL - 1690\",\"xaxis\":\"x\",\"yaxis\":\"y\"},{\"type\":\"scatter\",\"x\":[],\"y\":[],\"mode\":\"lines+markers\",\"opacity\":0.8,\"line\":{\"width\":{}},\"marker\":{\"symbol\":0},\"name\":\"rbcL - 1883\",\"xaxis\":\"x\",\"yaxis\":\"y\"},{\"type\":\"scatter\",\"x\":[],\"y\":[],\"mode\":\"markers\",\"line\":{\"width\":{}},\"marker\":{\"symbol\":3},\"name\":\"4A -  rbcL - DTDILAAFR\",\"xaxis\":\"x2\",\"yaxis\":\"y2\"},{\"type\":\"scatter\",\"x\":[],\"y\":[],\"mode\":\"lines+markers\",\"opacity\":0.8,\"line\":{\"width\":{},\"color\":\"#366F8E\"},\"marker\":{\"color\":\"#366F8E\",\"symbol\":0},\"name\":\"Mean rbcL - 4A\",\"xaxis\":\"x2\",\"yaxis\":\"y2\"},{\"type\":\"scatter\",\"x\":[],\"y\":[],\"mode\":\"markers\",\"line\":{\"width\":{}},\"marker\":{\"symbol\":3},\"name\":\"1690 -  rbcL - DTDILAAFR\",\"xaxis\":\"x3\",\"yaxis\":\"y3\"},{\"type\":\"scatter\",\"x\":[],\"y\":[],\"mode\":\"lines+markers\",\"opacity\":0.8,\"line\":{\"width\":{},\"color\":\"#366F8E\"},\"marker\":{\"color\":\"#366F8E\",\"symbol\":0},\"name\":\"Mean rbcL - 1690\",\"xaxis\":\"x3\",\"yaxis\":\"y3\"},{\"type\":\"scatter\",\"x\":[],\"y\":[],\"mode\":\"markers\",\"line\":{\"width\":{}},\"marker\":{\"symbol\":3},\"name\":\"1883 -  rbcL - DTDILAAFR\",\"xaxis\":\"x4\",\"yaxis\":\"y4\"},{\"type\":\"scatter\",\"x\":[],\"y\":[],\"mode\":\"lines+markers\",\"opacity\":0.8,\"line\":{\"width\":{},\"color\":\"#366F8E\"},\"marker\":{\"color\":\"#366F8E\",\"symbol\":0},\"name\":\"Mean rbcL - 1883\",\"xaxis\":\"x4\",\"yaxis\":\"y4\"}];",
"            var layout = {\"yaxis\":{\"title\":\"\u003csup\u003e14\u003c/sup\u003eN/\u003csup\u003e15\u003c/sup\u003eN Quantification ratio\",\"tickmode\":\"auto\",\"ticks\":\"inside\",\"mirror\":\"all\",\"showline\":true,\"showgrid\":false,\"titlefont\":{\"family\":\"Arial\",\"size\":20},\"tickfont\":{\"family\":\"Arial\",\"size\":16},\"anchor\":\"x\",\"domain\":[0.7,1.0]},\"xaxis\":{\"title\":\"Means: \u003csup\u003e14\u003c/sup\u003eN Sample/\u003csup\u003e15\u003c/sup\u003eN QProtein ratio\",\"tickmode\":\"auto\",\"ticks\":\"inside\",\"mirror\":\"all\",\"showline\":true,\"showgrid\":false,\"zeroline\":false,\"titlefont\":{\"family\":\"Arial\",\"size\":20},\"tickfont\":{\"family\":\"Arial\",\"size\":16},\"anchor\":\"y\",\"domain\":[0.0,0.3]},\"yaxis2\":{\"title\":\"\u003csup\u003e14\u003c/sup\u003eN/\u003csup\u003e15\u003c/sup\u003eN Quantification ratio\",\"tickmode\":\"auto\",\"ticks\":\"inside\",\"mirror\":\"all\",\"showline\":true,\"showgrid\":false,\"titlefont\":{\"family\":\"Arial\",\"size\":20},\"tickfont\":{\"family\":\"Arial\",\"size\":16},\"anchor\":\"x2\",\"domain\":[0.7,1.0]},\"xaxis2\":{\"title\":\"4A: \u003csup\u003e14\u003c/sup\u003eN Sample/\u003csup\u003e15\u003c/sup\u003eN QProtein ratio\",\"tickmode\":\"auto\",\"ticks\":\"inside\",\"mirror\":\"all\",\"showline\":true,\"showgrid\":false,\"zeroline\":false,\"titlefont\":{\"family\":\"Arial\",\"size\":20},\"tickfont\":{\"family\":\"Arial\",\"size\":16},\"anchor\":\"y2\",\"domain\":[0.5,0.8]},\"yaxis3\":{\"title\":\"\u003csup\u003e14\u003c/sup\u003eN/\u003csup\u003e15\u003c/sup\u003eN Quantification ratio\",\"tickmode\":\"auto\",\"ticks\":\"inside\",\"mirror\":\"all\",\"showline\":true,\"showgrid\":false,\"titlefont\":{\"family\":\"Arial\",\"size\":20},\"tickfont\":{\"family\":\"Arial\",\"size\":16},\"anchor\":\"x3\",\"domain\":[0.19999999999999996,0.5]},\"xaxis3\":{\"title\":\"1690: \u003csup\u003e14\u003c/sup\u003eN Sample/\u003csup\u003e15\u003c/sup\u003eN QProtein ratio\",\"tickmode\":\"auto\",\"ticks\":\"inside\",\"mirror\":\"all\",\"showline\":true,\"showgrid\":false,\"zeroline\":false,\"titlefont\":{\"family\":\"Arial\",\"size\":20},\"tickfont\":{\"family\":\"Arial\",\"size\":16},\"anchor\":\"y3\",\"domain\":[0.0,0.3]},\"yaxis4\":{\"title\":\"\u003csup\u003e14\u003c/sup\u003eN/\u003csup\u003e15\u003c/sup\u003eN Quantification ratio\",\"tickmode\":\"auto\",\"ticks\":\"inside\",\"mirror\":\"all\",\"showline\":true,\"showgrid\":false,\"titlefont\":{\"family\":\"Arial\",\"size\":20},\"tickfont\":{\"family\":\"Arial\",\"size\":16},\"anchor\":\"x4\",\"domain\":[0.19999999999999996,0.5]},\"xaxis4\":{\"title\":\"1883: \u003csup\u003e14\u003c/sup\u003eN Sample/\u003csup\u003e15\u003c/sup\u003eN QProtein ratio\",\"tickmode\":\"auto\",\"ticks\":\"inside\",\"mirror\":\"all\",\"showline\":true,\"showgrid\":false,\"zeroline\":false,\"titlefont\":{\"family\":\"Arial\",\"size\":20},\"tickfont\":{\"family\":\"Arial\",\"size\":16},\"anchor\":\"y4\",\"domain\":[0.5,0.8]},\"width\":1200.0,\"height\":900.0,\"title\":\"Relative Quantification of rbcL\"};",
"            var config = {\"toImageButtonOptions\":{\"format\":\"svg\",\"filename\":\"praktikumsplot.svg\"},\"edits\":{\"legendPosition\":true}};",
"            Plotly.newPlot(\u0027ca0e46c3-968e-47f7-898a-ee9e22dc6772\u0027, data, layout, config);",
"});",
"            };",
"            if ((typeof(requirejs) !==  typeof(Function)) || (typeof(requirejs.config) !== typeof(Function))) {",
"                var script = document.createElement(\"script\");",
"                script.setAttribute(\"src\", \"https://cdnjs.cloudflare.com/ajax/libs/require.js/2.3.6/require.min.js\");",
"                script.onload = function(){",
"                    renderPlotly_ca0e46c3968e47f7898aee9e22dc6772();",
"                };",
"                document.getElementsByTagName(\"head\")[0].appendChild(script);",
"            }",
"            else {",
"                renderPlotly_ca0e46c3968e47f7898aee9e22dc6772();",
"            }",
"\u003c/script\u003e",
""]
        },
           "execution_count": 11,
           "metadata": {},
           "output_type": "execute_result"
          }], 
           "source": ["// Code block 11\n",
"\n",
"let rbclChart = createChartForPeptideComparison \"rbcL\" [|\"4A\";\"1690\";\"1883\"|]\n",
"\n",
"rbclChart\n"]
          }
,
          {
           "cell_type": "code",
           "metadata": {},
            "execution_count": 13, "outputs": [], 
           "source": ["//let allCharts =\n",
"//    let strains = \n",
"//        peptideRatiosWithDesc.ColumnKeys\n",
"//        |\u003e Seq.map fst\n",
"//        |\u003e Seq.distinct\n",
"//        |\u003e Array.ofSeq\n",
"//        \n",
"//    peptideRatiosWithDesc.RowKeys\n",
"//    |\u003e Seq.map (fun (prot,pep) -\u003e\n",
"//        createChartForPeptideComparison prot strains\n",
"//    )\n",
"//allCharts\n"]
          }
,
          {
           "cell_type": "markdown",
           "metadata": {},
           
           "source": ["## Sample stability\n",
"\n",
"Next, we do a quality assessment for the whole-cell sample preparation. \n",
"For that we will do a linear regression of the RuBisCO subunits relative quantification (14N/15N) protein ratio in whole-cell samples.\n",
"\n",
"Next we need two peptides (in this case rbcl and rbcs) for the assessment. You can exchange them for other proteins if you want to.\n",
"\n",
"Here, we fit a linear function to our mean peptide ratios and dilution series for the first protein. The  x-values are our different dilutions and the y-values our ratios. We calculate the [goodness\n",
" of the fit](https://en.wikipedia.org/wiki/Goodness_of_fit) (discrepancy between predicted and observed values) for each fit and and also the [pearson correlation coefficient](https://en.wikipedia.org/wiki/Pearson_correlation_coefficient) (measure of the linear correlation between our ratios and dilution) for our values.\n",
"\n"]
          }
,
          {
           "cell_type": "code",
           "metadata": {},
            "execution_count": 14, "outputs": [], 
           "source": ["// Code block 12\n",
"\n",
"let calculateFit protName strainName (meanValueArray:(float*float) [])  =\n",
"    let dilutionsSorted,strainVals =\n",
"        meanValueArray\n",
"        |\u003e Array.unzip\n",
"    // RBCL Regression of relative quantification values\n",
"    let RBCLcoeff = Univariable.coefficient (vector dilutionsSorted) (vector strainVals)\n",
"    let RBCLfitFunc = Univariable.fit RBCLcoeff\n",
"    let RBCLfitVals = dilutionsSorted |\u003e Array.map RBCLfitFunc\n",
"    let RBCLdetermination = FSharp.Stats.Fitting.GoodnessOfFit.calculateDeterminationFromValue strainVals RBCLfitVals\n",
"    let RBCLpearson = FSharp.Stats.Correlation.Seq.pearson strainVals dilutionsSorted\n",
"    printfn \"%s - Pearson WholeCell %s: %f\" strainName protName RBCLpearson\n",
"    RBCLcoeff, RBCLfitVals, RBCLdetermination\n",
"\n",
"let meanValuesFor protName strainName=\n",
"    let meanSeries : Series\u003c(string * float),float\u003e = proteinRatiosWithDesc.GetRow protName\n",
"    meanSeries\n",
"    |\u003e Series.filter (fun k t -\u003e fst k = strainName)\n",
"    |\u003e fun x -\u003e x.Observations\n",
"    |\u003e Seq.map (fun x -\u003e 1./snd x.Key, x.Value)\n",
"    |\u003e Array.ofSeq\n",
"\n",
"meanValuesFor \"rbcL\" \"4A\"\n",
"//|\u003e calculateFit \"rbcL\" \"4A\"\n"]
          }
,
          {
           "cell_type": "markdown",
           "metadata": {},
           
           "source": ["`chartRatios` generates charts for each given strain and our chosen proteins. \n",
"Each chart contains a comparison of the two proteins, showing their mean data points, the linear fit and the goodness of the fit.\n",
"\n"]
          }
,
          {
           "cell_type": "code",
           "metadata": {},
            "execution_count": 15, "outputs": [], 
           "source": ["// Code block 13\n",
"\n",
"let chartRatios prot1 prot2 strain =\n",
"    let prot1Vals = meanValuesFor prot1 strain\n",
"    let prot2Vals = meanValuesFor prot2 strain\n",
"\n",
"    let (prot1Coeff:Vector\u003cfloat\u003e),prot1FitVals,prot1Determination =\n",
"        calculateFit prot1 strain prot1Vals\n",
"\n",
"    let (prot2Coeff:Vector\u003cfloat\u003e),prot2FitVals,prot2Determination =\n",
"        calculateFit prot2 strain prot2Vals\n",
"\n",
"    let dilutionsSorted,_ =\n",
"        prot1Vals // or prot2Vals, does not matter, as we only want x-axis\n",
"        |\u003e Array.unzip\n",
"    [\n",
"        Chart.Point (prot1Vals,Name = sprintf \"%s Quantified Ratios\" prot1)\n",
"        |\u003e Chart.withMarkerStyle(Size=10,Symbol = StyleParam.Symbol.Cross)\n",
"        Chart.Line(Array.zip dilutionsSorted prot1FitVals,Name = (sprintf \"%s linear regression: %.2f x + (%2f) ; R = %.4f\" prot1 prot1Coeff.[1] prot1Coeff.[0] prot1Determination))\n",
"        |\u003e Chart.withLineStyle(Color=\"lightblue\",Dash=StyleParam.DrawingStyle.DashDot)\n",
"\n",
"        Chart.Point (prot2Vals,Name = sprintf \"%s Quantified Ratios\" prot2,MarkerSymbol = StyleParam.Symbol.Cross)\n",
"        |\u003e Chart.withMarkerStyle(Size=10,Symbol = StyleParam.Symbol.Cross)\n",
"        Chart.Line(Array.zip dilutionsSorted prot2FitVals,Name = (sprintf \"%s linear regression: %.2f x + (%2f) ; R = %.4f\" prot2 prot2Coeff.[1] prot2Coeff.[0] prot2Determination))\n",
"        |\u003e Chart.withLineStyle(Color=\"LightGreen\",Dash=StyleParam.DrawingStyle.DashDot)\n",
"    ]\n",
"    |\u003e Chart.Combine\n",
"    |\u003e Chart.withTitle (sprintf \"%s - Whole cell extracts: Stability of %s/%s ratios between samples\" strain prot1 prot2)\n",
"    |\u003e Chart.withX_Axis (yAxis false \"\u003csup\u003e14\u003c/sup\u003eN Sample/\u003csup\u003e15\u003c/sup\u003eN QProtein ratio\" 20 16)\n",
"    |\u003e Chart.withY_Axis (xAxis false \"relative quantification\" 20 16 )\n",
"    |\u003e Chart.withConfig config\n",
"    |\u003e Chart.withSize (1200.,500.)\n"]
          }
,
          {
           "cell_type": "markdown",
           "metadata": {},
           
           "source": ["Here we display the chart of rbcl and rbcs for the strain 4A.\n",
"\n"]
          }
,
          {
           "cell_type": "code",
           "metadata": {},
            "execution_count": 16, "outputs": [
          {
           "data": {
            "text/html": ["\u003cdiv id=\"f96110ad-0148-4d0e-b7c0-42967ae6684b\" style=\"width: 1200px; height: 900px;\"\u003e\u003c!-- Plotly chart will be drawn inside this DIV --\u003e\u003c/div\u003e",
"\u003cscript type=\"text/javascript\"\u003e",
"",
"            var renderPlotly_f96110ad01484d0eb7c042967ae6684b = function() {",
"            var fsharpPlotlyRequire = requirejs.config({context:\u0027fsharp-plotly\u0027,paths:{plotly:\u0027https://cdn.plot.ly/plotly-latest.min\u0027}}) || require;",
"            fsharpPlotlyRequire([\u0027plotly\u0027], function(Plotly) {",
"",
"            var data = [{\"type\":\"scatter\",\"x\":[],\"y\":[],\"mode\":\"lines+markers\",\"opacity\":0.8,\"line\":{\"width\":{}},\"marker\":{\"symbol\":0},\"name\":\"rbcL - 4A\",\"xaxis\":\"x\",\"yaxis\":\"y\"},{\"type\":\"scatter\",\"x\":[],\"y\":[],\"mode\":\"lines+markers\",\"opacity\":0.8,\"line\":{\"width\":{}},\"marker\":{\"symbol\":0},\"name\":\"rbcL - 1690\",\"xaxis\":\"x\",\"yaxis\":\"y\"},{\"type\":\"scatter\",\"x\":[],\"y\":[],\"mode\":\"lines+markers\",\"opacity\":0.8,\"line\":{\"width\":{}},\"marker\":{\"symbol\":0},\"name\":\"rbcL - 1883\",\"xaxis\":\"x\",\"yaxis\":\"y\"},{\"type\":\"scatter\",\"x\":[],\"y\":[],\"mode\":\"markers\",\"line\":{\"width\":{}},\"marker\":{\"symbol\":3},\"name\":\"4A -  rbcL - DTDILAAFR\",\"xaxis\":\"x2\",\"yaxis\":\"y2\"},{\"type\":\"scatter\",\"x\":[],\"y\":[],\"mode\":\"lines+markers\",\"opacity\":0.8,\"line\":{\"width\":{},\"color\":\"#366F8E\"},\"marker\":{\"color\":\"#366F8E\",\"symbol\":0},\"name\":\"Mean rbcL - 4A\",\"xaxis\":\"x2\",\"yaxis\":\"y2\"},{\"type\":\"scatter\",\"x\":[],\"y\":[],\"mode\":\"markers\",\"line\":{\"width\":{}},\"marker\":{\"symbol\":3},\"name\":\"1690 -  rbcL - DTDILAAFR\",\"xaxis\":\"x3\",\"yaxis\":\"y3\"},{\"type\":\"scatter\",\"x\":[],\"y\":[],\"mode\":\"lines+markers\",\"opacity\":0.8,\"line\":{\"width\":{},\"color\":\"#366F8E\"},\"marker\":{\"color\":\"#366F8E\",\"symbol\":0},\"name\":\"Mean rbcL - 1690\",\"xaxis\":\"x3\",\"yaxis\":\"y3\"},{\"type\":\"scatter\",\"x\":[],\"y\":[],\"mode\":\"markers\",\"line\":{\"width\":{}},\"marker\":{\"symbol\":3},\"name\":\"1883 -  rbcL - DTDILAAFR\",\"xaxis\":\"x4\",\"yaxis\":\"y4\"},{\"type\":\"scatter\",\"x\":[],\"y\":[],\"mode\":\"lines+markers\",\"opacity\":0.8,\"line\":{\"width\":{},\"color\":\"#366F8E\"},\"marker\":{\"color\":\"#366F8E\",\"symbol\":0},\"name\":\"Mean rbcL - 1883\",\"xaxis\":\"x4\",\"yaxis\":\"y4\"}];",
"            var layout = {\"yaxis\":{\"title\":\"\u003csup\u003e14\u003c/sup\u003eN/\u003csup\u003e15\u003c/sup\u003eN Quantification ratio\",\"tickmode\":\"auto\",\"ticks\":\"inside\",\"mirror\":\"all\",\"showline\":true,\"showgrid\":false,\"titlefont\":{\"family\":\"Arial\",\"size\":20},\"tickfont\":{\"family\":\"Arial\",\"size\":16},\"anchor\":\"x\",\"domain\":[0.7,1.0]},\"xaxis\":{\"title\":\"Means: \u003csup\u003e14\u003c/sup\u003eN Sample/\u003csup\u003e15\u003c/sup\u003eN QProtein ratio\",\"tickmode\":\"auto\",\"ticks\":\"inside\",\"mirror\":\"all\",\"showline\":true,\"showgrid\":false,\"zeroline\":false,\"titlefont\":{\"family\":\"Arial\",\"size\":20},\"tickfont\":{\"family\":\"Arial\",\"size\":16},\"anchor\":\"y\",\"domain\":[0.0,0.3]},\"yaxis2\":{\"title\":\"\u003csup\u003e14\u003c/sup\u003eN/\u003csup\u003e15\u003c/sup\u003eN Quantification ratio\",\"tickmode\":\"auto\",\"ticks\":\"inside\",\"mirror\":\"all\",\"showline\":true,\"showgrid\":false,\"titlefont\":{\"family\":\"Arial\",\"size\":20},\"tickfont\":{\"family\":\"Arial\",\"size\":16},\"anchor\":\"x2\",\"domain\":[0.7,1.0]},\"xaxis2\":{\"title\":\"4A: \u003csup\u003e14\u003c/sup\u003eN Sample/\u003csup\u003e15\u003c/sup\u003eN QProtein ratio\",\"tickmode\":\"auto\",\"ticks\":\"inside\",\"mirror\":\"all\",\"showline\":true,\"showgrid\":false,\"zeroline\":false,\"titlefont\":{\"family\":\"Arial\",\"size\":20},\"tickfont\":{\"family\":\"Arial\",\"size\":16},\"anchor\":\"y2\",\"domain\":[0.5,0.8]},\"yaxis3\":{\"title\":\"\u003csup\u003e14\u003c/sup\u003eN/\u003csup\u003e15\u003c/sup\u003eN Quantification ratio\",\"tickmode\":\"auto\",\"ticks\":\"inside\",\"mirror\":\"all\",\"showline\":true,\"showgrid\":false,\"titlefont\":{\"family\":\"Arial\",\"size\":20},\"tickfont\":{\"family\":\"Arial\",\"size\":16},\"anchor\":\"x3\",\"domain\":[0.19999999999999996,0.5]},\"xaxis3\":{\"title\":\"1690: \u003csup\u003e14\u003c/sup\u003eN Sample/\u003csup\u003e15\u003c/sup\u003eN QProtein ratio\",\"tickmode\":\"auto\",\"ticks\":\"inside\",\"mirror\":\"all\",\"showline\":true,\"showgrid\":false,\"zeroline\":false,\"titlefont\":{\"family\":\"Arial\",\"size\":20},\"tickfont\":{\"family\":\"Arial\",\"size\":16},\"anchor\":\"y3\",\"domain\":[0.0,0.3]},\"yaxis4\":{\"title\":\"\u003csup\u003e14\u003c/sup\u003eN/\u003csup\u003e15\u003c/sup\u003eN Quantification ratio\",\"tickmode\":\"auto\",\"ticks\":\"inside\",\"mirror\":\"all\",\"showline\":true,\"showgrid\":false,\"titlefont\":{\"family\":\"Arial\",\"size\":20},\"tickfont\":{\"family\":\"Arial\",\"size\":16},\"anchor\":\"x4\",\"domain\":[0.19999999999999996,0.5]},\"xaxis4\":{\"title\":\"1883: \u003csup\u003e14\u003c/sup\u003eN Sample/\u003csup\u003e15\u003c/sup\u003eN QProtein ratio\",\"tickmode\":\"auto\",\"ticks\":\"inside\",\"mirror\":\"all\",\"showline\":true,\"showgrid\":false,\"zeroline\":false,\"titlefont\":{\"family\":\"Arial\",\"size\":20},\"tickfont\":{\"family\":\"Arial\",\"size\":16},\"anchor\":\"y4\",\"domain\":[0.5,0.8]},\"width\":1200.0,\"height\":900.0,\"title\":\"Relative Quantification of rbcL\"};",
"            var config = {\"toImageButtonOptions\":{\"format\":\"svg\",\"filename\":\"praktikumsplot.svg\"},\"edits\":{\"legendPosition\":true}};",
"            Plotly.newPlot(\u0027f96110ad-0148-4d0e-b7c0-42967ae6684b\u0027, data, layout, config);",
"});",
"            };",
"            if ((typeof(requirejs) !==  typeof(Function)) || (typeof(requirejs.config) !== typeof(Function))) {",
"                var script = document.createElement(\"script\");",
"                script.setAttribute(\"src\", \"https://cdnjs.cloudflare.com/ajax/libs/require.js/2.3.6/require.min.js\");",
"                script.onload = function(){",
"                    renderPlotly_f96110ad01484d0eb7c042967ae6684b();",
"                };",
"                document.getElementsByTagName(\"head\")[0].appendChild(script);",
"            }",
"            else {",
"                renderPlotly_f96110ad01484d0eb7c042967ae6684b();",
"            }",
"\u003c/script\u003e",
""]
        },
           "execution_count": 16,
           "metadata": {},
           "output_type": "execute_result"
          }], 
           "source": ["// Code block 14\n",
"\n",
"chartRatios \"rbcL\" \"RCA1\" \"Test\"\n"]
          }],
            "metadata": {
            "kernelspec": {"display_name": ".NET (F#)", "language": "F#", "name": ".net-fsharp"},
            "langauge_info": {
        "file_extension": ".fs",
        "mimetype": "text/x-fsharp",
        "name": "C#",
        "pygments_lexer": "fsharp",
        "version": "4.5"
        }
        },
            "nbformat": 4,
            "nbformat_minor": 1
        }
        

