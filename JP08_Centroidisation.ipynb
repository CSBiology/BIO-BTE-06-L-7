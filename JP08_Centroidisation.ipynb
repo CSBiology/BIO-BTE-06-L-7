
        {
            "cells": [
          {
           "cell_type": "markdown",
           "metadata": {},
           
           "source": ["# JP08 Centroidisation\n",
"\n",
"[![Binder](https://mybinder.org/badge_logo.svg)](https://mybinder.org/v2/gh/CSBiology/BIO-BTE-06-L-7/gh-pages?filepath=JP08_Centroidisation.ipynb)\n",
"\n",
"\n",
"1. [Centroidisation](#Centroidisation)\n",
"2. [Peak fitting and picking functions](#Peak-fitting-and-picking-functions)\n",
"3. [Application of the peak picking function](#Application-of-the-peak-picking-function)\n",
"\n",
"## Centroidisation\n",
"\u003ca href=\"#Centroidisation\" style=\"display: inline-block\"\u003e\u003csup\u003e\u0026#8593;back\u003c/sup\u003e\u003c/a\u003e\u003cbr\u003e\n",
"\u003ca href=\"#Centroidisation\" style=\"display: inline-block\"\u003e\u003csup\u003e\u0026#8593;back\u003c/sup\u003e\u003c/a\u003e\u003cbr\u003e\n",
"\n",
"\u003cdiv class=\"container\"\u003e\n",
"\u003cdiv class=\"container\"\u003e\n",
"In reality, a peak is represented by a collection of signals from a peptide or fragment ion species that are measured by the \n",
"specific detector. Due to imperfections of the measurement, there is a scatter around the accurate mass. This distribution \n",
"along the m/z axis of signals from ion species is termed profile peak. The conversion of a peak profile into the corresponding m/z and \n",
"intensity values reduces the complexity, its representation is termed centroiding. To extract the masses for identification in a simple \n",
"and fast way, peak fitting approaches are used. Further, peak fitting algorithms are also needed to extract ion abundancies and therefore \n",
"explained under quantification in the following section.\n",
"\u003c/div\u003e\n",
"\n"]
          }
,
          {
           "cell_type": "code",
           "metadata": {},
            "execution_count": 1, "outputs": [], 
           "source": ["#r \"nuget: BioFSharp, 2.0.0-beta5\"\n",
"#r \"nuget: BioFSharp.IO, 2.0.0-beta5\"\n",
"#r \"nuget: Plotly.NET, 2.0.0-beta6\"\n",
"\n",
"#r \"nuget: Plotly.NET, 2.0.0-beta6\"\n",
"#r \"nuget: Plotly.NET.Interactive, 2.0.0-beta6\"\n",
"\n",
"open Plotly.NET\n",
"open BioFSharp.Mz\n"]
          }
,
          {
           "cell_type": "markdown",
           "metadata": {},
           
           "source": ["## Peak fitting and picking functions\n",
"\u003ca href=\"#Centroidisation\" style=\"display: inline-block\"\u003e\u003csup\u003e\u0026#8593;back\u003c/sup\u003e\u003c/a\u003e\u003cbr\u003e\n",
"\u003ca href=\"#Centroidisation\" style=\"display: inline-block\"\u003e\u003csup\u003e\u0026#8593;back\u003c/sup\u003e\u003c/a\u003e\u003cbr\u003e\n",
"\n",
"\u003cdiv class=\"container\"\u003e\n",
"\u003cdiv class=\"container\"\u003e\n",
"We declare a function which centroids the given m/z and intensity data. In the scope of the function the m/z and intensity data \n",
"are padded for the wavelet (You will read more about wavelet functions later in \u003ca href=\"JP11_Quantification.ipynb#Quantification-Theorie\"\u003eJP11\u003c/a\u003e) \n",
"and the centroided. For the centroidisation, we use a Ricker 2D wavelet.\n",
"\u003c/div\u003e\n",
"\n"]
          }
,
          {
           "cell_type": "code",
           "metadata": {},
            "execution_count": 2, "outputs": [], 
           "source": ["// Code-Block 1\n",
"\n",
"let ms1PeakPicking (mzData:float []) (intensityData: float []) = \n",
"    if mzData.Length \u003c 3 then \n",
"        [||],[||]\n",
"    else\n",
"        let paddYValue = Array.min intensityData\n",
"        // we need to define some padding and wavelet parameters\n",
"        let paddingParams = \n",
"            SignalDetection.Padding.createPaddingParameters paddYValue (Some 7) 0.05 150 95.\n",
"        let waveletParameters = \n",
"            SignalDetection.Wavelet.createWaveletParameters 10 paddYValue 0.1 90. 1.\n",
"        \n",
"        let paddedMz,paddedIntensity = \n",
"            SignalDetection.Padding.paddDataBy paddingParams mzData intensityData\n",
"        \n",
"        BioFSharp.Mz.SignalDetection.Wavelet.toCentroidWithRicker2D waveletParameters paddedMz paddedIntensity\n"]
          }
,
          {
           "cell_type": "markdown",
           "metadata": {},
           
           "source": ["We load a sample MS\u003csup\u003e1\u003c/sup\u003e from a mgf file.\n",
"\n"]
          }
,
          {
           "cell_type": "code",
           "metadata": {},
            "execution_count": 3, "outputs": [
          {
           "data": {
            "text/plain": ["No value returned by any evaluator"]
        },
           "execution_count": 3,
           "metadata": {},
           "output_type": "execute_result"
          }], 
           "source": ["// Code-Block 2\n",
"\n",
"let ms1 = \n",
"    BioFSharp.IO.Mgf.readMgf (__SOURCE_DIRECTORY__ + @\"/../AuxFiles/DavesTaskData/ms1MGF.mgf\")\n",
"    |\u003e List.head\n",
"\n",
"ms1\n"]
          }
,
          {
           "cell_type": "markdown",
           "metadata": {},
           
           "source": ["## Application of the peak picking function\n",
"\u003ca href=\"#Centroidisation\" style=\"display: inline-block\"\u003e\u003csup\u003e\u0026#8593;back\u003c/sup\u003e\u003c/a\u003e\u003cbr\u003e\n",
"\u003ca href=\"#Centroidisation\" style=\"display: inline-block\"\u003e\u003csup\u003e\u0026#8593;back\u003c/sup\u003e\u003c/a\u003e\u003cbr\u003e\n",
"\n",
"\u003cdiv class=\"container\"\u003e\n",
"\u003cdiv class=\"container\"\u003e\n",
"We centroid the MS2 data using the function declared beforehand:\n",
"\u003c/div\u003e\n",
"\n"]
          }
,
          {
           "cell_type": "code",
           "metadata": {},
            "execution_count": 4, "outputs": [], 
           "source": ["// Code-Block 3\n",
"\n",
"let centroidedMs1 = \n",
"    ms1PeakPicking ms1.Mass ms1.Intensity\n"]
          }
,
          {
           "cell_type": "code",
           "metadata": {},
            "execution_count": 5, "outputs": [], 
           "source": ["// Code-Block 4\n",
"\n",
"//removes low intensity data points for charting\n",
"let filteredMs1Mass, filteredMs1Intensity =\n",
"    Array.zip ms1.Mass ms1.Intensity\n",
"    |\u003e Array.filter (fun (mass, intensity) -\u003e\n",
"        intensity \u003e 400.\n",
"    )\n",
"    |\u003e Array.unzip\n",
"\n",
"let filteredChart =\n",
"    [\n",
"        Chart.Point(filteredMs1Mass,filteredMs1Intensity)\n",
"        |\u003e Chart.withTraceName \"Uncentroided MS1\"\n",
"        Chart.Point(fst centroidedMs1,snd centroidedMs1)\n",
"        |\u003e Chart.withTraceName \"Centroided MS1\"\n",
"    ]\n",
"    |\u003e Chart.Combine\n",
"    |\u003e Chart.withY_AxisStyle \"Intensity\"\n",
"    |\u003e Chart.withX_AxisStyle (title = \"m/z\", MinMax = (400., 800.))\n",
"    |\u003e Chart.withSize (900.,900.)\n"]
          }
,
          {
           "cell_type": "markdown",
           "metadata": {},
           
           "source": ["*include-it-raw\n",
"\u003chr\u003e\n",
"\u003chr\u003e\n",
"\u003cnav class=\"level is-mobile\"\u003e\n",
"    \u003cdiv class=\"level-left\"\u003e\n",
"        \u003cdiv class=\"level-item\"\u003e\n",
"            \u003cbutton class=\"button is-primary is-outlined\" onclick=\"location.href=\u0027/JP07_Signal_detection_and_quantification.html\u0027;\"\u003e\u0026#171; JP07\u003c/button\u003e\n",
"        \u003c/div\u003e\n",
"    \u003c/div\u003e\n",
"    \u003cdiv class=\"level-right\"\u003e\n",
"        \u003cdiv class=\"level-item\"\u003e\n",
"            \u003cbutton class=\"button is-primary is-outlined\" onclick=\"location.href=\u0027/JP09_Fragmentation_for_peptide_identification.html\u0027;\"\u003eJP09 \u0026#187;\u003c/button\u003e\n",
"        \u003c/div\u003e\n",
"    \u003c/div\u003e\n",
"\u003c/nav\u003e\n",
"\n"]
          }],
            "metadata": {
            "kernelspec": {"display_name": ".NET (F#)", "language": "F#", "name": ".net-fsharp"},
            "langauge_info": {
        "file_extension": ".fs",
        "mimetype": "text/x-fsharp",
        "name": "C#",
        "pygments_lexer": "fsharp",
        "version": "4.5"
        }
        },
            "nbformat": 4,
            "nbformat_minor": 1
        }
        

