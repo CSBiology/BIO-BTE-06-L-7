
        {
            "cells": [
          {
           "cell_type": "markdown",
           "metadata": {},
           
           "source": ["# NB01a Systems Biology\n",
"\n",
"[![Binder](https://mybinder.org/badge_logo.svg)](https://mybinder.org/v2/gh/CSBiology/BIO-BTE-06-L-7/gh-pages?filepath=NB01a_Systems_Biology_FSharp_Introduction.ipynb)\n",
"\n",
"\n",
"This notebook introduces the field of Systems Biology and explains why programming is a necessary skill to it. You will get a short introduction to the programming language F# and some links to resource for further studies.\n",
"\n",
"1. Systems Biology: A brief introduction\n",
"\n",
"3. References\n",
"\n",
"## Systems Biology: A brief introduction\n",
"\n",
"\n",
"The term “systems theory” was introduced by the biologist L. von Bertalanffy. He defined a system as a set of related components that work together in a particular environment to perform whatever \n",
"functions are required to achieve the system\u0027s objective (Bertalanffy 1945). The hierarchical organization orchestrating the interaction of thousands of molecules with individual \n",
"properties allows complex biological functions. Biological processes like cell division, biomass production, or a systemic response to perturbations are molecular physiological functions \n",
"which result from a complex dynamic interplay between genes, proteins and metabolites (Figure 1). To gain a holistic understanding of a biological system, all parts of the \n",
"system need to be studied simultaneously by quantitative measures (Sauer et al. 2007). The focus on a system-wide perspective lies on the quantitative understanding of the \n",
"organizational structure, functional state, robustness and dynamics of a biological system and led to the coining of the term “Systems Biology”(Kitano 2002a).\n",
"\n",
"The current challenges of Systems Biology approaches are mainly along four lines (Sauer et al. 2007, Joyce and Palsson 2006): \n",
"\n",
" - (**i**) - system-wide quantification of transcriptome, proteome (including protein modifications) and metabolome\n",
" \n",
" - (**ii**) - identification of physical interactions between these components\n",
" \n",
" - (**iii**) - inference of structure, type and quantity of found interactions\n",
" \n",
" - (**iv*\n",
"## References\n",
"\n",
"1. Bertalanffy, L. von. Zu einer allgemeinen Systemlehre. Blätter für deutsche Philosophie 18 (1945).\n",
"2. Sauer, U., Heinemann, M. \u0026 Zamboni, N. Genetics. Getting closer to the whole picture. Science 316, 550–551; 10.1126/science.1142502 (2007).\n",
"3. Kitano, H. Systems biology. a brief overview. Science 295, 1662–1664; 10.1126/science.1069492 (2002).\n",
"4. Joyce, A. R. \u0026 Palsson, B. O. The model organism as a system. integrating \u0027omics\u0027 data sets. Nat Rev Mol Cell Bio 7, 198–210; 10.1038/Nrm1857 (2006).\n",
"5. Aderem, A. Systems biology. Its practice and challenges. Cell 121, 511–513; 10.1016/j.cell.2005.04.020 (2005).\n",
"6. Kahlem, P. \u0026 Birney, E. Dry work in a wet world. computation in systems biology. Mol Syst Biol 2 (2006).\n",
"7. Kitano, H. Computational systems biology. Nature 420, 206–210; 10.1038/nature01254 (2002).\n",
"\n"]
          }],
            "metadata": {
            "kernelspec": {"display_name": ".NET (F#)", "language": "F#", "name": ".net-fsharp"},
            "langauge_info": {
        "file_extension": ".fs",
        "mimetype": "text/x-fsharp",
        "name": "C#",
        "pygments_lexer": "fsharp",
        "version": "4.5"
        }
        },
            "nbformat": 4,
            "nbformat_minor": 1
        }
        

