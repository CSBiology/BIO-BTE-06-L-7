
        {
            "cells": [
          {
           "cell_type": "markdown",
           "metadata": {},
           
           "source": ["# JP12 Targeted quantification of photosynthetic proteins (Label Efficiency)\n",
"\n",
"[![Binder](https://mybinder.org/badge_logo.svg)](https://mybinder.org/v2/gh/CSBiology/BIO-BTE-06-L-7/gh-pages?filepath=JP12_Targeted_quantification_of_photosynthetic_proteins_SDS_IGD.ipynb)\n",
"\n",
"1. [Relative Quantification between rbcL and rbcS](#Relative-Quantification-between-rbcL-and-rbcS)\u003cbr\u003e\n",
"2. [Compare 14N/15N for rbcL and rbcS](#Compare-14N/15N-for-rbcL-and-rbcS)\n",
"\n"]
          }
,
          {
           "cell_type": "code",
           "metadata": {},
            "execution_count": 1, "outputs": [], 
           "source": ["#r \"nuget: FSharp.Stats, 0.4.0\"\n",
"#r \"nuget: BioFSharp, 2.0.0-beta5\"\n",
"#r \"nuget: BioFSharp.IO, 2.0.0-beta5\"\n",
"#r \"nuget: Plotly.NET, 2.0.0-beta6\"\n",
"#r \"nuget: BIO-BTE-06-L-7_Aux, 0.0.1\"\n",
"#r \"nuget: Deedle, 2.3.0\"\n",
"\n",
"#r \"nuget: Plotly.NET, 2.0.0-beta6\"\n",
"#r \"nuget: Plotly.NET.Interactive, 2.0.0-beta6\"\n",
"\n",
"open Deedle\n",
"open BioFSharp\n",
"open FSharpAux\n",
"open FSharp.Stats\n",
"open Plotly.NET\n",
"open FSharp.Stats.Fitting.LinearRegression.OrdinaryLeastSquares.Linear\n",
"open System.IO\n",
"open BIO_BTE_06_L_7_Aux.FS3_Aux\n"]
          }
,
          {
           "cell_type": "markdown",
           "metadata": {},
           
           "source": ["At start we have the output file of the QconQuantifier. We want to read the file, bind it to \u003ccode\u003eqConcatRawData\u003c/code\u003e \n",
"and group the rows by peptide sequence, modifcation (\u003csup\u003e14\u003c/sup\u003eN or \u003csup\u003e15\u003c/sup\u003eN) and the charge state of the ion.\n",
"\n"]
          }
,
          {
           "cell_type": "code",
           "metadata": {},
            "execution_count": 2, "outputs": [
          {
           "data": {
            "text/plain": ["Deedle.Frame`2[System.Tuple`3[System.String,System.Boolean,System.Int32],System.String]"]
        },
           "execution_count": 2,
           "metadata": {},
           "output_type": "execute_result"
          }], 
           "source": ["// Code block 1\n",
"\n",
"let directory = __SOURCE_DIRECTORY__\n",
"let path = Path.Combine[|directory;\"downloads/Group2/G2_L_4A_20myg_QuantifiedPeptides.txt\"|]\n",
"downloadFile path \"G2_L_4A_20myg_QuantifiedPeptides.txt\" \"bio-bte-06-l-7/Group2\"\n",
"\n",
"let qConcatRawData =\n",
"    Frame.ReadCsv(path = path,separators=\"\\t\")\n",
"    // StringSequence is the peptide sequence\n",
"    |\u003e Frame.indexRowsUsing (fun os -\u003e \n",
"            os.GetAs\u003cstring\u003e(\"StringSequence\"),\n",
"            os.GetAs\u003cbool\u003e(\"GlobalMod\"), \n",
"            os.GetAs\u003cint\u003e(\"Charge\")\n",
"        )\n",
"        \n",
"qConcatRawData\n"]
          }
,
          {
           "cell_type": "markdown",
           "metadata": {},
           
           "source": ["From literature we know that there are peptides with a very bad flyability (Hammel et al.). Additionally, \n",
"there are extreme values only due to technical artifacts. Both should be avoided in further analysis:\n",
"\n"]
          }
,
          {
           "cell_type": "code",
           "metadata": {},
            "execution_count": 3, "outputs": [
          {
           "data": {
            "text/plain": ["Deedle.Frame`2[System.Tuple`3[System.String,System.Boolean,System.Int32],System.String]"]
        },
           "execution_count": 3,
           "metadata": {},
           "output_type": "execute_result"
          }], 
           "source": ["// Code block 2\n",
"\n",
"let qConcatData =\n",
"    qConcatRawData\n",
"    |\u003e Frame.filterRows ( fun (sequence, gmod, charge) _ -\u003e \n",
"        sequence \u003c\u003e \"EVTLGFVDLMR\" \u0026\u0026 sequence \u003c\u003e \"AFPDAYVR\" \n",
"        )\n",
"    |\u003e Frame.mapValues (fun x -\u003e  if x \u003c 2000000. \u0026\u0026 x \u003e 1. then x else nan)\n",
"    \n",
"qConcatData\n"]
          }
,
          {
           "cell_type": "markdown",
           "metadata": {},
           
           "source": ["Reading the sample description file provides us with a list of all measured files and additional information about \n",
"the experiment (mixing ratio, strain, etc.). Here you need to write \u003cb\u003eYOUR\u003c/b\u003e filenames into the .txt file!\n",
"\n"]
          }
,
          {
           "cell_type": "code",
           "metadata": {},
            "execution_count": 4, "outputs": [
          {
           "data": {
            "text/plain": ["Deedle.Frame`2[System.String,System.String]"]
        },
           "execution_count": 4,
           "metadata": {},
           "output_type": "execute_result"
          }], 
           "source": ["// Code block 3\n",
"\n",
"let directory = __SOURCE_DIRECTORY__\n",
"let path2 = Path.Combine[|directory;\"downloads/Group2/IGD_SampleDesc.txt\"|]\n",
"downloadFile path2 \"IGD_SampleDesc.txt\" \"bio-bte-06-l-7/Group2\"\n",
"\n",
"//FileName CutOutBand Dilution Strain\n",
"let sampleDesc :Frame\u003cstring,string\u003e= \n",
"    Frame.ReadCsv(path = path2,separators=\"\\t\",schema=\"Strain=string\")\n",
"    |\u003e Frame.indexRows \"RawFileName\"\n",
"    \n",
"sampleDesc\n"]
          }
,
          {
           "cell_type": "markdown",
           "metadata": {},
           
           "source": ["We map the list of filenames and get the corresponding \u003csup\u003e14\u003c/sup\u003eN and \u003csup\u003e15\u003c/sup\u003eN column series. \n",
"This allows us to calculate the \u003csup\u003e14\u003c/sup\u003eN/\u003csup\u003e15\u003c/sup\u003eN ratio per peptide ion per sample.\n",
"\n"]
          }
,
          {
           "cell_type": "code",
           "metadata": {},
            "execution_count": 5, "outputs": [
          {
           "data": {
            "text/plain": ["Deedle.Frame`2[System.Tuple`3[System.String,System.Boolean,System.Int32],System.String]"]
        },
           "execution_count": 5,
           "metadata": {},
           "output_type": "execute_result"
          }], 
           "source": ["// Code block 4\n",
"\n",
"let ionRatios = \n",
"    sampleDesc\n",
"    |\u003e Frame.mapRows (fun rawFileName _ -\u003e \n",
"        let n14 = \n",
"            qConcatData.GetColumn\u003cfloat\u003e(\"N14Quant_\" + rawFileName) \n",
"            |\u003e Series.filterValues (fun x -\u003e  x \u003c 2000000. \u0026\u0026 x \u003e 1. )\n",
"        let n15 = \n",
"            qConcatData.GetColumn\u003cfloat\u003e(\"N15Quant_\" + rawFileName) \n",
"            |\u003e Series.filterValues (fun x -\u003e  x \u003c 2000000. \u0026\u0026 x \u003e 1. )\n",
"        n14 / n15 \n",
"        )\n",
"    |\u003e Frame.ofColumns\n",
"\n",
"ionRatios\n"]
          }
,
          {
           "cell_type": "markdown",
           "metadata": {},
           
           "source": ["From our in silico protein digest during the design of the qConCat protein, we know the peptide(s) \u0026rarr; \n",
"protein relationship. We read this information from the \"PeptideProtMap.txt\" file.\n",
"\n"]
          }
,
          {
           "cell_type": "code",
           "metadata": {},
            "execution_count": 6, "outputs": [
          {
           "data": {
            "text/plain": ["No value returned by any evaluator"]
        },
           "execution_count": 6,
           "metadata": {},
           "output_type": "execute_result"
          }], 
           "source": ["// Code block 5\n",
"\n",
"let peptideProtMapping =\n",
"    Frame.ReadCsv(source + @\"\\..\\AuxFiles\\PeptideProtMap.txt\",hasHeaders=true,separators=\"\\t\")\n",
"    |\u003e Frame.indexRowsString \"Peptide\"\n",
"    \n",
"peptideProtMapping\n"]
          }
,
          {
           "cell_type": "markdown",
           "metadata": {},
           
           "source": ["Next, we will aggregate the peptide ion ratios to obtain one ratio per peptide sequence despite the ion charge. For convenience, we join the protein names.\n",
"\n"]
          }
,
          {
           "cell_type": "code",
           "metadata": {},
            "execution_count": 7, "outputs": [
          {
           "data": {
            "text/plain": ["No value returned by any evaluator"]
        },
           "execution_count": 7,
           "metadata": {},
           "output_type": "execute_result"
          }], 
           "source": ["// Code block 6\n",
"\n",
"let peptideRatios = \n",
"    ionRatios\n",
"    |\u003e Frame.applyLevel (fun (sequence,globalMod,charge) -\u003e sequence) Stats.mean\n",
"    |\u003e Frame.join JoinKind.Inner peptideProtMapping \n",
"    |\u003e Frame.groupRowsByString \"Protein\"\n",
"    |\u003e Frame.getNumericCols\n",
"    |\u003e Frame.ofColumns\n",
"    \n",
"peptideRatios\n"]
          }
,
          {
           "cell_type": "markdown",
           "metadata": {},
           
           "source": ["Now, we join the sample description with the data. \n",
"\n"]
          }
,
          {
           "cell_type": "code",
           "metadata": {},
            "execution_count": 8, "outputs": [
          {
           "data": {
            "text/plain": ["No value returned by any evaluator"]
        },
           "execution_count": 8,
           "metadata": {},
           "output_type": "execute_result"
          }], 
           "source": ["// Code block 7\n",
"\n",
"let peptideRatiosWithDesc : Frame\u003c(string * string),(string * (string * float))\u003e=\n",
"    peptideRatios\n",
"    |\u003e Frame.mapColKeys (fun rk -\u003e\n",
"        sampleDesc.GetColumn(\"CutOutBand\").[rk],\n",
"        (sampleDesc.GetColumn(\"Strain\").[rk],\n",
"         sampleDesc.GetColumn(\"Dilution\").[rk])\n",
"    )\n",
"    \n",
"peptideRatiosWithDesc\n"]
          }
,
          {
           "cell_type": "markdown",
           "metadata": {},
           
           "source": ["By calculating the mean value per protein, we have two final tables with peptide and protein ratios:\n",
"\n"]
          }
,
          {
           "cell_type": "code",
           "metadata": {},
            "execution_count": 9, "outputs": [], 
           "source": ["// Code block 8\n",
"\n",
"let proteinRatiosWithDesc =\n",
"    //peptideRatiosWithDesc\n",
"    peptideRatiosWithDesc\n",
"    |\u003e Frame.applyLevel fst Stats.mean\n",
"    \n",
"proteinRatiosWithDesc\n"]
          }
,
          {
           "cell_type": "markdown",
           "metadata": {},
           
           "source": ["Next we want to compare the quantities between the cut-out band for rbcL and the cut-out band for rbcS. \n",
"Therefore we divide the rbcL quantities from the rbcL cut-out by the rbcS quantities from the rbcS cut.out.\n",
"\n"]
          }
,
          {
           "cell_type": "code",
           "metadata": {},
            "execution_count": 10, "outputs": [
          {
           "data": {
            "text/plain": ["No value returned by any evaluator"]
        },
           "execution_count": 10,
           "metadata": {},
           "output_type": "execute_result"
          }], 
           "source": ["// Code block 9\n",
"\n",
"let calcultateRelativeQuantForCutOutsProteins (prot1) (prot2) frame =\n",
"    let nestedFrame: Series\u003cstring,Frame\u003c\u0027a,string\u003e\u003e =\n",
"        frame\n",
"        |\u003e Frame.transpose\n",
"        |\u003e Frame.nest\n",
"    nestedFrame.[\"RBCL\"] \n",
"    |\u003e Frame.filterCols (fun ck cs -\u003e ck = prot1)\n",
"    |\u003e Frame.mapCols (fun ck _ -\u003e\n",
"        let rbclSeries =\n",
"            nestedFrame.[\"RBCL\"].GetColumn\u003cfloat\u003eprot1\n",
"        let rbcsSeries =\n",
"            nestedFrame.[\"RBCS\"].GetColumn\u003cfloat\u003eprot2\n",
"        rbclSeries / rbcsSeries\n",
"    )\n",
"    |\u003e Frame.mapColKeys (fun ck -\u003e prot1 + \"/\" + prot2)\n",
"    |\u003e Frame.transpose\n",
"\n",
"let proteinRatiosWithDescCutOuts prot1 prot2=\n",
"    proteinRatiosWithDesc\n",
"    |\u003e calcultateRelativeQuantForCutOutsProteins prot1 prot2\n",
"    \n",
"let rbclRBCS2 = proteinRatiosWithDescCutOuts \"rbcL\" \"RBCS2\"\n",
"\n",
"rbclRBCS2\n",
"|\u003e Frame.transpose\n"]
          }
,
          {
           "cell_type": "markdown",
           "metadata": {},
           
           "source": ["Here are functions and parameters which are used for the styling of the graphs.\n",
"\n"]
          }
,
          {
           "cell_type": "code",
           "metadata": {},
            "execution_count": 11, "outputs": [], 
           "source": ["// Code block 10\n",
"\n",
"let xAxis showGrid title titleSize tickSize = Axis.LinearAxis.init(Title=title,Showgrid=showGrid,Showline=true,Mirror=StyleParam.Mirror.All,Zeroline=false,Tickmode=StyleParam.TickMode.Auto,Ticks= StyleParam.TickOptions.Inside, Tickfont=Font.init(StyleParam.FontFamily.Arial,Size=tickSize),Titlefont=Font.init(StyleParam.FontFamily.Arial,Size=titleSize))\n",
"let yAxis showGrid title titleSize tickSize = Axis.LinearAxis.init(Title=title,Showgrid=showGrid,Showline=true,Mirror=StyleParam.Mirror.All,Tickmode=StyleParam.TickMode.Auto,Ticks= StyleParam.TickOptions.Inside,Tickfont=Font.init(StyleParam.FontFamily.Arial,Size=tickSize),Titlefont=Font.init(StyleParam.FontFamily.Arial,Size=titleSize))\n",
"\n",
"let config = Config.init(ToImageButtonOptions = ToImageButtonOptions.init(Format = StyleParam.ImageFormat.SVG, Filename = \"praktikumsplot.svg\"), EditableAnnotations = [AnnotationEditOptions.LegendPosition])\n"]
          }
,
          {
           "cell_type": "markdown",
           "metadata": {},
           
           "source": ["## Relative Quantification between rbcL and rbcS\n",
"At first we calculated the \u003csup\u003e14\u003c/sup\u003eN/\u003csup\u003e15\u003c/sup\u003eN relative quantities for rbcL and rbcS. Then, as we normalized against the same \n",
"QProtein we can now calculate the relation of subunits from rbcL and rbcS, both from their respective cut-out band.\n",
"\n",
"First we will access the data for rbcL and rbcS for a given strain from our Deedle frame.\n",
"\n"]
          }
,
          {
           "cell_type": "code",
           "metadata": {},
            "execution_count": 12, "outputs": [
          {
           "data": {
            "text/plain": ["No value returned by any evaluator"]
        },
           "execution_count": 12,
           "metadata": {},
           "output_type": "execute_result"
          }], 
           "source": ["// Code block 11\n",
"\n",
"/////////////////////////////////// Chart Step 1 //////////////////////////////////////////\n",
"\n",
"open FSharp.Stats.Fitting.LinearRegression.OrdinaryLeastSquares.Linear\n",
"\n",
"// access the data for rbcL and rbcS for a given strain\n",
"let meanValuesFor prot1Name prot2Name strainName=\n",
"    let meanSeries : Series\u003c(string * float),float\u003e = rbclRBCS2.GetRow (prot1Name+\"/\"+prot2Name)\n",
"    meanSeries\n",
"    |\u003e Series.filter (fun k t -\u003e fst k = strainName)\n",
"    |\u003e fun x -\u003e x.Observations\n",
"    |\u003e Seq.map (fun x -\u003e snd x.Key, x.Value)\n",
"    |\u003e Array.ofSeq\n",
"    \n",
"let testMeanValues =\n",
"    meanValuesFor \"rbcL\" \"RBCS2\" \"4A\"\n",
"    \n",
"testMeanValues\n"]
          }
,
          {
           "cell_type": "markdown",
           "metadata": {},
           
           "source": ["In addition we will display the pearson coefficient for all different given dilutions.\n",
"\n"]
          }
,
          {
           "cell_type": "code",
           "metadata": {},
            "execution_count": 13, "outputs": [
          {
           "data": {
            "text/plain": ["No value returned by any evaluator"]
        },
           "execution_count": 13,
           "metadata": {},
           "output_type": "execute_result"
          }], 
           "source": ["// Code block 12\n",
"\n",
"//let prot1Coeff,prot1FitVals,prot1Determination =\n",
"let calculatePearson prot1Name prot2Name strainName (meanValueArray:(float*float) [])  =\n",
"    let dilutionsSorted,strainVals =\n",
"        meanValueArray\n",
"        |\u003e Array.unzip\n",
"    // RBCL Regression of relative quantification values\n",
"    let RBCLcoeff = Univariable.coefficient (vector dilutionsSorted) (vector strainVals)\n",
"    let RBCLfitFunc = Univariable.fit RBCLcoeff\n",
"    let RBCLfitVals = dilutionsSorted |\u003e Array.map RBCLfitFunc\n",
"    let RBCLdetermination = FSharp.Stats.Fitting.GoodnessOfFit.calculateDeterminationFromValue strainVals RBCLfitVals\n",
"    let RBCLpearson = FSharp.Stats.Correlation.Seq.pearson strainVals dilutionsSorted\n",
"    printfn \"%s - Pearson WholeCell %s: %f\" strainName (prot1Name+\"/\"+prot2Name) RBCLpearson\n",
"    RBCLcoeff, RBCLfitVals, RBCLdetermination\n",
"    \n",
"testMeanValues\n",
"|\u003e calculatePearson \"rbcL\" \"RBCS2\" \"4A\"\n"]
          }
,
          {
           "cell_type": "code",
           "metadata": {},
            "execution_count": 14, "outputs": [
          {
           "data": {
            "text/plain": ["No value returned by any evaluator"]
        },
           "execution_count": 14,
           "metadata": {},
           "output_type": "execute_result"
          }], 
           "source": ["// Code block 13\n",
"\n",
"let chartRatios prot1 prot2 strain =\n",
"    let prot1Vals = meanValuesFor prot1 prot2 strain\n",
"\n",
"    let (prot1Coeff:Vector\u003cfloat\u003e),prot1FitVals,prot1Determination =\n",
"        calculatePearson prot1 prot2 strain prot1Vals\n",
"\n",
"    let dilutionsSorted,_ =\n",
"        prot1Vals\n",
"        |\u003e Array.unzip\n",
"\n",
"    [\n",
"        Chart.Point (prot1Vals,Name = sprintf \"%s Quantified Ratios\" (prot1+\"/\"+prot2))\n",
"        |\u003e Chart.withMarkerStyle(Size=10,Symbol = StyleParam.Symbol.Cross)\n",
"        Chart.Line(Array.zip dilutionsSorted prot1FitVals,Name = (sprintf \"%s linear regression: %.2f x + (%2f) ; R = %.4f\" (prot1+\"/\"+prot2) prot1Coeff.[1] prot1Coeff.[0] prot1Determination))\n",
"        |\u003e Chart.withLineStyle(Color=\"lightblue\",Dash=StyleParam.DrawingStyle.DashDot)\n",
"    ]\n",
"    |\u003e Chart.Combine\n",
"    |\u003e Chart.withTitle (sprintf \"%s - In-Gel-Digest: Stability of %s/%s ratios between samples\" strain prot1 prot2)\n",
"    |\u003e Chart.withX_Axis (xAxis false (sprintf \"Cut Out 1 - %s / Cut Out 2 - %s\" prot1 prot2) 20 16)\n",
"    |\u003e Chart.withY_Axis (xAxis false \"relative quantification\" 20 16 )\n",
"    |\u003e Chart.withConfig config\n",
"    |\u003e Chart.withSize (1000.,400.)\n",
"\n",
"chartRatios \"rbcL\" \"RBCS2\" \"1690\"\n"]
          }
,
          {
           "cell_type": "markdown",
           "metadata": {},
           
           "source": ["## Compare \u003csup\u003e14\u003c/sup\u003eN/\u003csup\u003e15\u003c/sup\u003eN for rbcL and rbcS\n",
"To calculate absolute quantities we need to know the relation of \u003csup\u003e14\u003c/sup\u003eN protein to the \u003csup\u003e15\u003c/sup\u003eN QProtein. \n",
"We will show these relation with the following charts.\n",
"We add a linear fit to the charts to allow for more precise evaluation of sample linearity.\n",
"\n"]
          }
,
          {
           "cell_type": "code",
           "metadata": {},
            "execution_count": 16, "outputs": [
          {
           "data": {
            "text/plain": ["\u003cnull\u003e"]
        },
           "execution_count": 16,
           "metadata": {},
           "output_type": "execute_result"
          }], 
           "source": ["// Code block 14\n",
"\n",
"/////////////////////////////////// Chart Step 2 //////////////////////////////////////////\n",
"\n",
"let calculateLinearFit ((amount,quant): float[]*float[]) =\n",
"    // Calculation of the coefficients for a linear fit.\n",
"    let coeffs =\n",
"        Univariable.coefficient (vector amount) (vector quant)\n",
"    // Calculation of the linear fit with the coefficients.\n",
"    let linearFitFunc =\n",
"        Univariable.fit coeffs\n",
"    // Here, we apply the fitting function to our x-values (amount of loaded protein) \n",
"    // to get the corresponding fitted values.\n",
"    let linearFitVals =\n",
"        amount\n",
"        |\u003e Array.map linearFitFunc\n",
"    // Calculation of the goodness of the fit by comparing our calculated \n",
"    // Protein1/Protein2 ratios to the values of the fit.\n",
"    let determination =\n",
"        FSharp.Stats.Fitting.GoodnessOfFit.calculateDeterminationFromValue quant linearFitVals\n",
"    {|Coefficients = coeffs; LinearFitValues = linearFitVals; Determination = determination; LoadedProtein = amount|}\n"]
          }
,
          {
           "cell_type": "code",
           "metadata": {},
            "execution_count": 17, "outputs": [
          {
           "data": {
            "text/plain": ["No value returned by any evaluator"]
        },
           "execution_count": 17,
           "metadata": {},
           "output_type": "execute_result"
          }], 
           "source": ["// Code block 15\n",
"\n",
"let createChartForRbcsRbclComparison prot1 prot2 strain =\n",
"\n",
"    let nestedFrame =\n",
"        proteinRatiosWithDesc\n",
"        |\u003e Frame.filterRows (fun rk rs -\u003e rk = prot1 || rk = prot2)\n",
"        |\u003e Frame.transpose\n",
"        |\u003e Frame.nest     \n",
"\n",
"    let getProtValuesFromSeries series =\n",
"        series\n",
"        |\u003e Series.filter (fun k t -\u003e fst k = strain)\n",
"        |\u003e fun x -\u003e x.Observations \n",
"        |\u003e Array.ofSeq\n",
"        |\u003e Array.map (fun x -\u003e snd x.Key, x.Value)\n",
"\n",
"    let rbcLRBCLValues =\n",
"        nestedFrame.[\"RBCL\"].GetColumn\u003cfloat\u003eprot1\n",
"        |\u003e getProtValuesFromSeries\n",
"\n",
"    let rbcs2RBCSValues =\n",
"        nestedFrame.[\"RBCS\"].GetColumn\u003cfloat\u003eprot2\n",
"        |\u003e getProtValuesFromSeries\n",
"\n",
"    let rbclFit =\n",
"        calculateLinearFit (Array.unzip rbcLRBCLValues)\n",
"\n",
"    let rbcsFit =\n",
"        calculateLinearFit (Array.unzip rbcs2RBCSValues)\n",
"\n",
"    let fitChart =\n",
"        [\n",
"            Chart.Line(Array.zip rbclFit.LoadedProtein rbclFit.LinearFitValues)\n",
"            |\u003e Chart.withTraceName (sprintf \"linear regression: %.2f x + (%2f) ; R² = %.4f for strain %s and %s\"\n",
"                rbclFit.Coefficients.[1] rbclFit.Coefficients.[0] rbclFit.Determination strain prot1)\n",
"            |\u003e Chart.withLineStyle(Color=\"#D3D3D3\",Dash=StyleParam.DrawingStyle.DashDot)\n",
"            Chart.Line(Array.zip rbcsFit.LoadedProtein rbcsFit.LinearFitValues)\n",
"            |\u003e Chart.withTraceName (sprintf \"linear regression: %.2f x + (%2f) ; R² = %.4f for strain %s and %s\"\n",
"                rbcsFit.Coefficients.[1] rbcsFit.Coefficients.[0] rbcsFit.Determination strain prot2)\n",
"            |\u003e Chart.withLineStyle(Color=\"#D3D3D3\",Dash=StyleParam.DrawingStyle.DashDot)\n",
"        ]\n",
"        |\u003e Chart.Combine\n",
"\n",
"    let dataChart =\n",
"        [\n",
"            Chart.Scatter(rbcLRBCLValues,mode=StyleParam.Mode.Lines_Markers, MarkerSymbol = StyleParam.Symbol.Circle, Opacity=0.8)\n",
"            |\u003e Chart.withTraceName (sprintf \"Mean %s - %s\" prot1 strain)\n",
"            Chart.Scatter(rbcs2RBCSValues,mode=StyleParam.Mode.Lines_Markers, MarkerSymbol = StyleParam.Symbol.Circle, Opacity=0.8)\n",
"            |\u003e Chart.withTraceName (sprintf \"Mean %s - %s\" prot2 strain)\n",
"        ]\n",
"        |\u003e Chart.Combine\n",
"        |\u003e Chart.withX_Axis (xAxis false \"Loaded protein [µg]\" 20 16)\n",
"        |\u003e Chart.withY_Axis (xAxis false \"\u003csup\u003e14\u003c/sup\u003eN/\u003csup\u003e15\u003c/sup\u003eN Quantification ratio\" 20 16)\n",
"\n",
"    [fitChart;dataChart]\n",
"    |\u003e Chart.Combine\n",
"    |\u003e Chart.withTitle (sprintf \"%s/%s relative protein quantification\" prot1 prot2)\n",
"    |\u003e Chart.withSize (1200.,400.)\n",
"\n",
"let prot1 = \"rbcL\"\n",
"let prot2 = \"RBCS2\"\n",
"\n",
"[|\"4A\"; \"1883\";\"1690\"|]\n",
"|\u003e Array.map (createChartForRbcsRbclComparison prot1 prot2)\n"]
          }],
            "metadata": {
            "kernelspec": {"display_name": ".NET (F#)", "language": "F#", "name": ".net-fsharp"},
            "langauge_info": {
        "file_extension": ".fs",
        "mimetype": "text/x-fsharp",
        "name": "C#",
        "pygments_lexer": "fsharp",
        "version": "4.5"
        }
        },
            "nbformat": 4,
            "nbformat_minor": 1
        }
        

