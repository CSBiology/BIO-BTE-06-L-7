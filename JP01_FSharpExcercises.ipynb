
        {
            "cells": [
          {
           "cell_type": "markdown",
           "metadata": {},
           
           "source": ["This notebook contains introductional excercises for the FSharp programming language and also some small code examples for correct formatting.\n",
"If you have questions at any point please ask us. We will discuss the first batch (task 1-6) before you can start the rest.\n",
"\n",
"# JP01 FSharp Introduction Excercises\n",
"\n",
"[![Binder](https://mybinder.org/badge_logo.svg)](https://mybinder.org/v2/gh/CSBiology/BIO-BTE-06-L-7/gh-pages?filepath=JP01_FSharpExcercises.ipynb)\n",
"\n",
"\n",
"1. [Code Examples](#Code-Examples)\n",
"2. [Excercises](#Excercises)\n",
"    * [Task 1](#Task-1)\n",
"    * [Task 2](#Task-2)\n",
"    * [Task 3](#Task-3)\n",
"    * [Task 4](#Task-4)\n",
"    * [Task 5](#Task-5)\n",
"    * [Task 6](#Task-6)\n",
"    * [Task 7](#Task-7)\n",
"    * [Task 8](#Task-8)\n",
"    * [Task 9](#Task-9)\n",
"    * [Task 10](#Task-10)\n",
"    * [Task 11](#Task-11)\n",
"\n",
"\u003chr\u003e\n",
"\u003chr\u003e\n",
"\n",
"## Code Examples\n",
"\u003ca href=\"#FSharp-Introduction-Excercises\" style=\"display: inline-block\"\u003e\u003csup\u003e\u0026#8593;back\u003c/sup\u003e\u003c/a\u003e\u003cbr\u003e\n",
"\u003ca href=\"#FSharp-Introduction-Excercises\" style=\"display: inline-block\"\u003e\u003csup\u003e\u0026#8593;back\u003c/sup\u003e\u003c/a\u003e\u003cbr\u003e\n",
"\n",
"\n",
"We will beginn with some minor code examples to show you correct formatting. You can even use these examples to help you understand minor programming logics for your excercises below.\n",
"\n",
"\n"]
          }
,
          {
           "cell_type": "code",
           "metadata": {},
            "execution_count": 1, "outputs": [
          {
           "data": {
            "text/plain": ["6.0"]
        },
           "execution_count": 1,
           "metadata": {},
           "output_type": "execute_result"
          }], 
           "source": ["// Define a function \u0027mulitplyBy2\u0027, which should double any input Float.\n",
"\n",
"let mulitplyBy2 x = x * 2.\n",
"\n",
"mulitplyBy2 3.\n"]
          }
,
          {
           "cell_type": "markdown",
           "metadata": {},
           
           "source": ["If a excercise asks you to bind something to a specific name, keep that name! It might be used later on!\n",
"Also remember to use camel case for names. This works by having a regular first letter and then have a capital letter at the start of each new word.\n",
"\n",
"exmp: \u003ccode\u003ethisIsACamelCaseExample\u003c/code\u003e\n",
"\n",
"\n"]
          }
,
          {
           "cell_type": "code",
           "metadata": {},
            "execution_count": 2, "outputs": [
          {
           "data": {
            "text/plain": ["125.6636"]
        },
           "execution_count": 2,
           "metadata": {},
           "output_type": "execute_result"
          },

          {
           "data": {
            "text/plain": ["Das Volumen des Zylinders ist: 125.663600"]
        },
           "execution_count": 2,
           "metadata": {},
           "output_type": "execute_result"
          }], 
           "source": ["// Create a function \u0027calculateCylinderVolume\u0027, which should, with a given radius and lenght, \n",
"// calculate and return the volume of a cylinder AND print \"The volume of the cylinder is: XX.\" into the console. \u0027XX\u0027 is,\n",
"// of course, the correct volume for the cylinder. (The output of a printfn function is Unit.)\n",
"\n",
"let calculateCylinderVolume radius length : float =\n",
"   // function body\n",
"   let pi = 3.14159 //or System.Math.PI\n",
"   let volume = length * pi * radius * radius\n",
"   printfn \"Das Volumen des Zylinders ist: %f\" volume\n",
"   volume\n",
"\n",
"calculateCylinderVolume 2. 10.\n",
"   \n"]
          }
,
          {
           "cell_type": "markdown",
           "metadata": {},
           
           "source": ["\u003cul\u003e\n",
"\u003cul\u003e\n",
"    \u003cli\u003eTry to follow the excercise as close as possible, to not overlook something like \".. calculate (..) the volume of a cylinder AND print ..\" as these small differences migth be a valuable part of the excercise.\u003c/li\u003e\n",
"    \u003cli\u003eLines of code do not have any cost, don\u0027t be to stingy about them, e.g. have an extra line with a binding of \u003ccode\u003elet pi = 3.14159\u003c/code\u003e, so you can just use \"pi\" instead of the number. \u003c/li\u003e\n",
"    \u003cli\u003eThis improves readability and keeps the function modular.\u003c/li\u003e\n",
"    \u003cli\u003eBy defining pi inside of the scope of \u003ccode\u003ecalculateCylinderVolume\u003c/code\u003e it cannot be accessed from outside, keeping your overall code nice and clean.\u003c/li\u003e\n",
"\u003c/ul\u003e\n",
"\n",
"\n"]
          }
,
          {
           "cell_type": "code",
           "metadata": {},
            "execution_count": 3, "outputs": [
          {
           "data": {
            "text/plain": ["true"]
        },
           "execution_count": 3,
           "metadata": {},
           "output_type": "execute_result"
          },

          {
           "data": {
            "text/plain": ["Both queens can hit each other"]
        },
           "execution_count": 3,
           "metadata": {},
           "output_type": "execute_result"
          }], 
           "source": ["// A chessboard is a 8x8 field. The rows and columns have the indices 0 - 7.\n",
"// Create a function, which should return true if two queens can hit each other or false if they can\u0027t.\n",
"// The functions parameters should be two Tuples (int*int).\n",
"\n",
"let canHit (queen1 : int*int) (queen2 : int*int) =\n",
"    let (posX1, posY1),(posX2, posY2)= (queen1,queen2)\n",
"    if \n",
"        // check if both queens are on the same x-axis\n",
"        (posX1 = posX2) \n",
"        // check if both queens are on the same y-axis\n",
"        || (posY1 = posY2) \n",
"        // check if both queens are on the same diagonal\n",
"        || (abs (posX1 - posX2) = abs (posY1 - posY2))\n",
"    then\n",
"        printfn \"Both queens can hit each other\"\n",
"        true\n",
"    else \n",
"        printfn \"Both queen cannot hit each other\"\n",
"        false\n",
"        \n",
"canHit (3,5) (5,7)\n"]
          }
,
          {
           "cell_type": "markdown",
           "metadata": {},
           
           "source": ["\u003chr\u003e\n",
"\u003chr\u003e\n",
" \n",
"## Excercises \n",
"\u003ca href=\"#FSharp-Introduction-Excercises\" style=\"display: inline-block\"\u003e\u003csup\u003e\u0026#8593;back\u003c/sup\u003e\u003c/a\u003e\u003cbr\u003e\n",
"\u003ca href=\"#FSharp-Introduction-Excercises\" style=\"display: inline-block\"\u003e\u003csup\u003e\u0026#8593;back\u003c/sup\u003e\u003c/a\u003e\u003cbr\u003e\n",
"\n",
"### Task 1\n",
"\u003ca href=\"#FSharp-Introduction-Excercises\" style=\"display: inline-block\"\u003e\u003csup\u003e\u0026#8593;back\u003c/sup\u003e\u003c/a\u003e\u003cbr\u003e\n",
"\u003ca href=\"#FSharp-Introduction-Excercises\" style=\"display: inline-block\"\u003e\u003csup\u003e\u0026#8593;back\u003c/sup\u003e\u003c/a\u003e\u003cbr\u003e\n",
"\n",
"\n"]
          }
,
          {
           "cell_type": "code",
           "metadata": {},
            "execution_count": 4, "outputs": [
          {
           "data": {
            "text/plain": ["\"Kevin\""]
        },
           "execution_count": 4,
           "metadata": {},
           "output_type": "execute_result"
          }], 
           "source": ["// Bind a String of your name (\"Name\") to the name \u0027myFirstName\u0027.\n",
"\n",
"// Solution\n",
"\n",
"let myFirstName = \"Kevin\"\n",
"\n",
"myFirstName\n"]
          }
,
          {
           "cell_type": "markdown",
           "metadata": {},
           
           "source": ["### Task 2\n",
"\u003ca href=\"#FSharp-Introduction-Excercises\" style=\"display: inline-block\"\u003e\u003csup\u003e\u0026#8593;back\u003c/sup\u003e\u003c/a\u003e\u003cbr\u003e\n",
"\u003ca href=\"#FSharp-Introduction-Excercises\" style=\"display: inline-block\"\u003e\u003csup\u003e\u0026#8593;back\u003c/sup\u003e\u003c/a\u003e\u003cbr\u003e\n",
"\n"]
          }
,
          {
           "cell_type": "code",
           "metadata": {},
            "execution_count": 5, "outputs": [
          {
           "data": {
            "text/plain": ["\"Kevin Frey\""]
        },
           "execution_count": 5,
           "metadata": {},
           "output_type": "execute_result"
          }], 
           "source": ["// Define a variable \u0027myName\u0027, by adding \u0027myFirstName\u0027 to the rest of your name.\n",
"\n",
"// Solution\n",
"\n",
"let myName = myFirstName + \" Frey\"\n",
"\n",
"myName\n"]
          }
,
          {
           "cell_type": "markdown",
           "metadata": {},
           
           "source": ["### Task 3\n",
"\u003ca href=\"#FSharp-Introduction-Excercises\" style=\"display: inline-block\"\u003e\u003csup\u003e\u0026#8593;back\u003c/sup\u003e\u003c/a\u003e\u003cbr\u003e\n",
"\u003ca href=\"#FSharp-Introduction-Excercises\" style=\"display: inline-block\"\u003e\u003csup\u003e\u0026#8593;back\u003c/sup\u003e\u003c/a\u003e\u003cbr\u003e\n",
"\n"]
          }
,
          {
           "cell_type": "code",
           "metadata": {},
            "execution_count": 6, "outputs": [
          {
           "data": {
            "text/plain": ["36"]
        },
           "execution_count": 6,
           "metadata": {},
           "output_type": "execute_result"
          }], 
           "source": ["// Define a variable \u0027summeXY\u0027 as the sum of any two Integer numbers. Do this, by defining x and y as separate \n",
"// let - bindings inside the functional scope of the \u0027summeXY\u0027 function. \n",
"// (The function MUST contain three let - bindings)\n",
"\n",
"// Solution\n",
"\n",
"let summeXY =\n",
"    let x = 2\n",
"    let y = 34\n",
"    x + y\n"]
          }
,
          {
           "cell_type": "markdown",
           "metadata": {},
           
           "source": ["### Task 4\n",
"\u003ca href=\"#FSharp-Introduction-Excercises\" style=\"display: inline-block\"\u003e\u003csup\u003e\u0026#8593;back\u003c/sup\u003e\u003c/a\u003e\u003cbr\u003e\n",
"\u003ca href=\"#FSharp-Introduction-Excercises\" style=\"display: inline-block\"\u003e\u003csup\u003e\u0026#8593;back\u003c/sup\u003e\u003c/a\u003e\u003cbr\u003e\n",
"\n"]
          }
,
          {
           "cell_type": "code",
           "metadata": {},
            "execution_count": 8, "outputs": [
          {
           "data": {
            "text/plain": ["(2, \"February\")"]
        },
           "execution_count": 8,
           "metadata": {},
           "output_type": "execute_result"
          }], 
           "source": ["// Declare a Tuple, consisting of 2 and \"February\" and bind the Tuple to the name \u0027tuple1\u0027\n",
"\n",
"// Solution \n",
"\n",
"let tuple1 = (2,\"February\")\n"]
          }
,
          {
           "cell_type": "markdown",
           "metadata": {},
           
           "source": ["### Task 5\n",
"\u003ca href=\"#FSharp-Introduction-Excercises\" style=\"display: inline-block\"\u003e\u003csup\u003e\u0026#8593;back\u003c/sup\u003e\u003c/a\u003e\u003cbr\u003e\n",
"\u003ca href=\"#FSharp-Introduction-Excercises\" style=\"display: inline-block\"\u003e\u003csup\u003e\u0026#8593;back\u003c/sup\u003e\u003c/a\u003e\u003cbr\u003e\n",
"\n"]
          }
,
          {
           "cell_type": "code",
           "metadata": {},
            "execution_count": 10, "outputs": [
          {
           "data": {
            "text/plain": ["(2, \"February\", \"spring\")"]
        },
           "execution_count": 10,
           "metadata": {},
           "output_type": "execute_result"
          }], 
           "source": ["// Declare a Tuple, consisting of 2, \"February\" and \"spring\" and bind the Tuple to the name \u0027tuple2\u0027\n",
"\n",
"// Solution \n",
"\n",
"let tuple2 = (2,\"February\",\"spring\")\n"]
          }
,
          {
           "cell_type": "markdown",
           "metadata": {},
           
           "source": ["### Task 6 \n",
"\u003ca href=\"#FSharp-Introduction-Excercises\" style=\"display: inline-block\"\u003e\u003csup\u003e\u0026#8593;back\u003c/sup\u003e\u003c/a\u003e\u003cbr\u003e\n",
"\u003ca href=\"#FSharp-Introduction-Excercises\" style=\"display: inline-block\"\u003e\u003csup\u003e\u0026#8593;back\u003c/sup\u003e\u003c/a\u003e\u003cbr\u003e\n",
"\n"]
          }
,
          {
           "cell_type": "code",
           "metadata": {},
            "execution_count": 12, "outputs": [
          {
           "data": {
            "text/plain": ["\"February\""]
        },
           "execution_count": 12,
           "metadata": {},
           "output_type": "execute_result"
          },

          {
           "data": {
            "text/plain": ["\"February\""]
        },
           "execution_count": 12,
           "metadata": {},
           "output_type": "execute_result"
          }], 
           "source": ["// Access the second variable of the Tuple \u0027tuple1\u0027.\n",
"// Access the second variable of the Tuple \u0027tuple2\u0027.\n",
"\n",
"// Solution \n",
"\n",
"let solution1 = snd tuple1\n",
"\n",
"let solution2 = (fun (x,y,z) -\u003e y) tuple2 // or: let (x,y,z) = tuple2\n"]
          }
,
          {
           "cell_type": "markdown",
           "metadata": {},
           
           "source": ["### Task 7\n",
"\u003ca href=\"#FSharp-Introduction-Excercises\" style=\"display: inline-block\"\u003e\u003csup\u003e\u0026#8593;back\u003c/sup\u003e\u003c/a\u003e\u003cbr\u003e\n",
"\u003ca href=\"#FSharp-Introduction-Excercises\" style=\"display: inline-block\"\u003e\u003csup\u003e\u0026#8593;back\u003c/sup\u003e\u003c/a\u003e\u003cbr\u003e\n",
"\n"]
          }
,
          {
           "cell_type": "code",
           "metadata": {},
            "execution_count": 15, "outputs": [], 
           "source": ["// Create a Record Type with the name \u0027Month\u0027. \u0027Month\u0027 should contain the fields \u0027Number\u0027 (int),\n",
"// \u0027Name\u0027 (string) and \u0027Season\u0027 (string).\n",
"\n",
"// Solution\n",
"\n",
"type Month =\n",
"    {\n",
"        Number: int\n",
"        Name:   string\n",
"        Season: string\n",
"    }\n",
"    \n"]
          }
,
          {
           "cell_type": "markdown",
           "metadata": {},
           
           "source": ["### Task 8\n",
"\u003ca href=\"#FSharp-Introduction-Excercises\" style=\"display: inline-block\"\u003e\u003csup\u003e\u0026#8593;back\u003c/sup\u003e\u003c/a\u003e\u003cbr\u003e\n",
"\u003ca href=\"#FSharp-Introduction-Excercises\" style=\"display: inline-block\"\u003e\u003csup\u003e\u0026#8593;back\u003c/sup\u003e\u003c/a\u003e\u003cbr\u003e\n",
"\n"]
          }
,
          {
           "cell_type": "code",
           "metadata": {},
            "execution_count": 16, "outputs": [
          {
           "data": {
            "text/plain": ["{ Number = 2",
"  Name = \"February\"",
"  Season = \"spring\" }"]
        },
           "execution_count": 16,
           "metadata": {},
           "output_type": "execute_result"
          }], 
           "source": ["// Declare a function \u0027createMonth\u0027 with three input parameters and which should return a \u0027Month\u0027 - Record Type.\n",
"// Use the values from \u0027tuple2\u0027 and create a month with these as input.  \n",
"\n",
"// Solution\n",
"\n",
"let createMonth number name season =\n",
"    {\n",
"        Number = number\n",
"        Name   = name\n",
"        Season = season\n",
"    }\n",
"    \n",
"let feb = createMonth 2 \"February\" \"spring\"\n",
"feb\n"]
          }
,
          {
           "cell_type": "markdown",
           "metadata": {},
           
           "source": ["### Task 9\n",
"\u003ca href=\"#FSharp-Introduction-Excercises\" style=\"display: inline-block\"\u003e\u003csup\u003e\u0026#8593;back\u003c/sup\u003e\u003c/a\u003e\u003cbr\u003e\n",
"\u003ca href=\"#FSharp-Introduction-Excercises\" style=\"display: inline-block\"\u003e\u003csup\u003e\u0026#8593;back\u003c/sup\u003e\u003c/a\u003e\u003cbr\u003e\n",
"\n"]
          }
,
          {
           "cell_type": "code",
           "metadata": {},
            "execution_count": 18, "outputs": [
          {
           "data": {
            "text/plain": ["My favorite month is February. It is the 2 month in the year ",
"        and i especially like this time because it is part of spring."]
        },
           "execution_count": 18,
           "metadata": {},
           "output_type": "execute_result"
          }], 
           "source": ["// Create a function called \u0027myMonthsPrinter\u0027 which should take a \u0027Month\u0027 as input and return a unit output \n",
"// (printfn - command) in the form of \"My favorite month is [Month Name]. It is the [Number of Month] month\n",
"// in the year and i especially like this time because it is part of [Season].\"\n",
"\n",
"// Solution\n",
"\n",
"let myMonthsPrinter (month:Month) =\n",
"    printfn \"\n",
"        My favorite month is %s. It is the %i month in the year \n",
"        and i especially like this time because it is part of %s.\"\n",
"        month.Name\n",
"        month.Number\n",
"        month.Season\n",
"        \n",
"myMonthsPrinter feb\n"]
          }
,
          {
           "cell_type": "markdown",
           "metadata": {},
           
           "source": ["### Task 10\n",
"\u003ca href=\"#FSharp-Introduction-Excercises\" style=\"display: inline-block\"\u003e\u003csup\u003e\u0026#8593;back\u003c/sup\u003e\u003c/a\u003e\u003cbr\u003e\n",
"\u003ca href=\"#FSharp-Introduction-Excercises\" style=\"display: inline-block\"\u003e\u003csup\u003e\u0026#8593;back\u003c/sup\u003e\u003c/a\u003e\u003cbr\u003e\n",
"\n"]
          }
,
          {
           "cell_type": "code",
           "metadata": {},
            "execution_count": 19, "outputs": [
          {
           "data": {
            "text/plain": ["true"]
        },
           "execution_count": 19,
           "metadata": {},
           "output_type": "execute_result"
          }], 
           "source": ["// We want to put additional emphasis on readability of code ...\n",
"\n",
"// Oh no, the following function is not readable. Write the function new and use pipe operators!\n",
"\n",
"let unreadableFunc x = (string ((x - 7) * 2) + \"Generic\").ToUpper().ToCharArray()\n",
"\n",
"// Solution\n",
"\n",
"let readableFunc (x:int) = \n",
"    x\n",
"    |\u003e fun x -\u003e x - 7\n",
"    |\u003e fun x -\u003e x * 2\n",
"    |\u003e string\n",
"    |\u003e fun x -\u003e x + \"Generic\"\n",
"    |\u003e fun x -\u003e x.ToUpper().ToCharArray()\n",
"    \n",
"readableFunc 4 = unreadableFunc 4\n"]
          }
,
          {
           "cell_type": "markdown",
           "metadata": {},
           
           "source": ["### Task 11\n",
"\u003ca href=\"#FSharp-Introduction-Excercises\" style=\"display: inline-block\"\u003e\u003csup\u003e\u0026#8593;back\u003c/sup\u003e\u003c/a\u003e\u003cbr\u003e\n",
"\u003ca href=\"#FSharp-Introduction-Excercises\" style=\"display: inline-block\"\u003e\u003csup\u003e\u0026#8593;back\u003c/sup\u003e\u003c/a\u003e\u003cbr\u003e\n",
"\n"]
          }
,
          {
           "cell_type": "code",
           "metadata": {},
            "execution_count": 20, "outputs": [
          {
           "data": {
            "text/plain": ["[0; 0; 0; 0; 0; 5; 6; 7; 8; 9; 10; 11; 12; 13; 14; 15; 16; 17; 18; 19; 20]"]
        },
           "execution_count": 20,
           "metadata": {},
           "output_type": "execute_result"
          }], 
           "source": ["// Create a function \u0027replaceSmallNumbers\u0027, which should replace all \n",
"// integers in a list with a 0 if the integer is smaller than 5.\n",
"\n",
"let numList = [0 .. 20]\n",
"\n",
"// Solution\n",
"\n",
"let replaceSmallNumbers (numList:int list) =\n",
"    numList\n",
"    |\u003e List.map (\n",
"        fun x -\u003e\n",
"            if x \u003c 5 then\n",
"                0\n",
"            else x\n",
"        )\n",
"    \n",
"replaceSmallNumbers numList\n"]
          }
,
          {
           "cell_type": "markdown",
           "metadata": {},
           
           "source": ["\u003cnav class=\"level is-mobile\"\u003e\n",
"\u003cnav class=\"level is-mobile\"\u003e\n",
"    \u003cdiv class=\"level-left\"\u003e\n",
"        \u003cdiv class=\"level-item\"\u003e\n",
"            \u003cbutton class=\"button is-primary is-outlined\" onclick=\"location.href=\u0027/JP00_Systems_Biology_FSharp_Introduction.html\u0027;\"\u003e\u0026#171; JP00\u003c/button\u003e\n",
"        \u003c/div\u003e\n",
"    \u003c/div\u003e\n",
"    \u003cdiv class=\"level-right\"\u003e\n",
"        \u003cdiv class=\"level-item\"\u003e\n",
"            \u003cbutton class=\"button is-primary is-outlined\" onclick=\"location.href=\u0027/JP02_Plant_Systems_Biology.html\u0027;\"\u003eJP02 \u0026#187;\u003c/button\u003e\n",
"        \u003c/div\u003e\n",
"    \u003c/div\u003e\n",
"\u003c/nav\u003e\n",
"\n"]
          }],
            "metadata": {
            "kernelspec": {"display_name": ".NET (F#)", "language": "F#", "name": ".net-fsharp"},
            "langauge_info": {
        "file_extension": ".fs",
        "mimetype": "text/x-fsharp",
        "name": "C#",
        "pygments_lexer": "fsharp",
        "version": "4.5"
        }
        },
            "nbformat": 4,
            "nbformat_minor": 1
        }
        

