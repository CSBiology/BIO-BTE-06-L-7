
        {
            "cells": [
          {
           "cell_type": "markdown",
           "metadata": {},
           
           "source": ["# NB03c Centroidisation\n",
"\n",
"[![Binder](https://mybinder.org/badge_logo.svg)](https://mybinder.org/v2/gh/CSBiology/BIO-BTE-06-L-7/gh-pages?filepath=NB03c_Centroidisation.ipynb)\n",
"\n",
"[Download Notebook](https://github.com/CSBiology/BIO-BTE-06-L-7/releases/download/NB03a_NB03b_NB03c/NB03c_Centroidisation.ipynb)\n",
"\n",
"1. Centroidisation\n",
"2. Peak fitting and picking functions\n",
"3. Application of the peak picking function\n",
"4. Questions\n",
"\n",
"\n",
"## Centroidisation\n",
"\n",
"In reality, a peak is represented by a collection of signals from a peptide or fragment ion species that are measured by the \n",
"specific detector. Due to imperfections of the measurement, there is a scatter around the accurate mass. This distribution \n",
"along the m/z axis of signals from ion species is termed profile peak. The conversion of a peak profile into the corresponding m/z and \n",
"intensity values reduces the complexity, its representation is termed centroiding. To extract the masses for identification in a simple \n",
"and fast way, peak fitting approaches are used. Further, peak fitting algorithms are also needed to extract ion abundancies and therefore \n",
"explained under quantification in the following section.\n",
"\n"]
          }
,
          {
           "cell_type": "code",
           "metadata": {},
            "execution_count": 1, "outputs": [], 
           "source": ["#r \"nuget: BioFSharp, 2.0.0-beta5\"\n",
"#r \"nuget: BioFSharp.IO, 2.0.0-beta5\"\n",
"#r \"nuget: Plotly.NET, 2.0.0-preview.16\"\n",
"#r \"nuget: BioFSharp.Mz, 0.1.5-beta\"\n",
"#r \"nuget: BIO-BTE-06-L-7_Aux, 0.0.1\"\n",
"\n",
"#r \"nuget: Plotly.NET.Interactive, 2.0.0-preview.16\"\n",
"\n",
"open Plotly.NET\n",
"open BioFSharp.Mz\n",
"open BIO_BTE_06_L_7_Aux.FS3_Aux\n",
"open System.IO\n"]
          }
,
          {
           "cell_type": "markdown",
           "metadata": {},
           
           "source": ["## Peak fitting and picking functions\n",
"\n",
"We declare a function which centroids the given m/z and intensity data. In the scope of the function the m/z and intensity data \n",
"are padded for the wavelet (You will read more about wavelet functions later in *NB05a\\_Quantification.ipynb* ) \n",
"and the centroided. For the centroidisation, we use a Ricker 2D wavelet.\n",
"\n"]
          }
,
          {
           "cell_type": "code",
           "metadata": {},
            "execution_count": 2, "outputs": [], 
           "source": ["// Code-Block 1\n",
"\n",
"let ms1PeakPicking (mzData: float []) (intensityData: float []) = \n",
"    if mzData.Length \u003c 3 then \n",
"        [||],[||]\n",
"    else\n",
"        let paddYValue = Array.min intensityData\n",
"        // we need to define some padding and wavelet parameters\n",
"        let paddingParams = \n",
"            SignalDetection.Padding.createPaddingParameters paddYValue (Some 7) 0.05 150 95.\n",
"        let waveletParameters = \n",
"            SignalDetection.Wavelet.createWaveletParameters 10 paddYValue 0.1 90. 1. false false\n",
"        \n",
"        let paddedMz,paddedIntensity = \n",
"            SignalDetection.Padding.paddDataBy paddingParams mzData intensityData\n",
"        \n",
"        BioFSharp.Mz.SignalDetection.Wavelet.toCentroidWithRicker2D waveletParameters paddedMz paddedIntensity \n"]
          }
,
          {
           "cell_type": "markdown",
           "metadata": {},
           
           "source": ["We load a sample MS1 from a mgf file.\n",
"\n"]
          }
,
          {
           "cell_type": "code",
           "metadata": {},
            "execution_count": 3, "outputs": [
          {
           "data": {
            "text/plain": ["{ Parameters = map [(\"TITLE\", \"Exemplary MS1 Scan; RawFile\")]",
"  Mass =",
"   [|400.000997; 400.009415; 400.012221; 400.015027; 400.017834; 400.02064;",
"     400.029058; 400.031865; 400.034671; 400.037477; 400.040283; 400.04309;",
"     400.045896; 400.054315; 400.059927; 400.062734; 400.06554; 400.068346;",
"     400.071153; 400.076766; 400.082378; 400.085185; 400.087991; 400.090798;",
"     400.093604; 400.09641; 400.099217; 400.102023; 400.10483; 400.107636;",
"     400.110443; 400.113249; 400.116056; 400.118862; 400.124475; 400.127282;",
"     400.130089; 400.132895; 400.135702; 400.138508; 400.141315; 400.144122;",
"     400.146928; 400.149735; 400.152541; 400.155348; 400.158155; 400.160961;",
"     400.166575; 400.169382; 400.172188; 400.174995; 400.177802; 400.180608;",
"     400.183415; 400.186222; 400.189029; 400.191836; 400.194642; 400.197449;",
"     400.200256; 400.203063; 400.20587; 400.208676; 400.211483; 400.21429;",
"     400.217097; 400.219904; 400.222711; 400.225518; 400.228325; 400.231132;",
"     400.233938; 400.236745; 400.239552; 400.242359; 400.245166; 400.247973;",
"     400.25078; 400.253587; 400.256394; 400.259201; 400.262008; 400.264815;",
"     400.267622; 400.270429; 400.273237; 400.276044; 400.278851; 400.281658;",
"     400.284465; 400.287272; 400.290079; 400.292886; 400.295693; 400.298501;",
"     400.301308; 400.304115; 400.306922; 400.309729; ...|]",
"  Intensity =",
"   [|23.0; 46.0; 34.0; 34.0; 61.0; 34.0; 23.0; 23.0; 23.0; 23.0; 34.0; 34.0;",
"     34.0; 23.0; 34.0; 46.0; 23.0; 23.0; 34.0; 72.0; 34.0; 23.0; 23.0; 34.0;",
"     57.0; 23.0; 88.0; 85.0; 110.0; 104.0; 108.0; 87.0; 77.0; 76.0; 46.0; 120.0;",
"     67.0; 60.0; 57.0; 46.0; 124.0; 34.0; 98.0; 34.0; 23.0; 34.0; 23.0; 69.0;",
"     109.0; 210.0; 117.0; 107.0; 34.0; 46.0; 57.0; 86.0; 23.0; 71.0; 23.0; 23.0;",
"     64.0; 46.0; 57.0; 34.0; 57.0; 57.0; 66.0; 67.0; 123.0; 46.0; 46.0; 90.0;",
"     34.0; 102.0; 46.0; 128.0; 88.0; 83.0; 46.0; 151.0; 104.0; 147.0; 188.0;",
"     73.0; 103.0; 65.0; 95.0; 66.0; 70.0; 57.0; 46.0; 92.0; 23.0; 34.0; 23.0;",
"     23.0; 23.0; 57.0; 23.0; 73.0; ...|] }"]
        },
           "execution_count": 3,
           "metadata": {},
           "output_type": "execute_result"
          }], 
           "source": ["// Code-Block 2\n",
"let directory = __SOURCE_DIRECTORY__\n",
"let path = Path.Combine[|directory; \"downloads/ms1MGF.mgf\"|]\n",
"downloadFile path \"ms1MGF.mgf\" \"bio-bte-06-l-7\"\n",
"\n",
"let ms1 = \n",
"    BioFSharp.IO.Mgf.readMgf (path)\n",
"    |\u003e List.head\n",
"\n",
"ms1\n"]
          }
,
          {
           "cell_type": "markdown",
           "metadata": {},
           
           "source": ["## Application of the peak picking function\n",
"\n",
"We centroid the MS2 data using the function declared beforehand:\n",
"\n"]
          }
,
          {
           "cell_type": "code",
           "metadata": {},
            "execution_count": 4, "outputs": [], 
           "source": ["// Code-Block 3\n",
"\n",
"let centroidedMs1 = \n",
"    ms1PeakPicking ms1.Mass ms1.Intensity\n"]
          }
,
          {
           "cell_type": "code",
           "metadata": {},
            "execution_count": 5, "outputs": [
          {
           "data": {
            "text/plain": ["No value returned by any evaluator"]
        },
           "execution_count": 5,
           "metadata": {},
           "output_type": "execute_result"
          }], 
           "source": ["// Code-Block 4\n",
"\n",
"//removes low intensity data points for charting\n",
"let filteredMs1Mass, filteredMs1Intensity =\n",
"    Array.zip ms1.Mass ms1.Intensity\n",
"    |\u003e Array.filter (fun (mass, intensity) -\u003e\n",
"        intensity \u003e 400.\n",
"    )\n",
"    |\u003e Array.unzip\n",
"\n",
"let filteredChart =\n",
"    [\n",
"        Chart.Point(filteredMs1Mass,filteredMs1Intensity)\n",
"        |\u003e Chart.withTraceName \"Uncentroided MS1\"\n",
"        Chart.Point(fst centroidedMs1,snd centroidedMs1)\n",
"        |\u003e Chart.withTraceName \"Centroided MS1\"\n",
"    ]\n",
"    |\u003e Chart.combine\n",
"    |\u003e Chart.withYAxisStyle \"Intensity\"\n",
"    |\u003e Chart.withXAxisStyle (title = \"m/z\", MinMax = (400., 800.))\n",
"    |\u003e Chart.withSize (900., 900.)\n",
"\n",
"filteredChart\n"]
          }
,
          {
           "cell_type": "markdown",
           "metadata": {},
           
           "source": ["## Questions:\n",
"\n",
"1. The aim of centroidization is finding the m/z for each profile peak. How can this improve the performance and quality of the following steps?\n",
"2. In the result plot, a single ms1 spectrum is shown. Naively describe the differences between the uncentroided and the centroided spectrums.\n",
"3. Taking into consideration your answer for question 1, do your findings of question 2 meet your expectations? If yes, why? If no, why?\n",
"\n",
"\n"]
          }],
            "metadata": {
            "kernelspec": {"display_name": ".NET (F#)", "language": "F#", "name": ".net-fsharp"},
            "langauge_info": {
        "file_extension": ".fs",
        "mimetype": "text/x-fsharp",
        "name": "C#",
        "pygments_lexer": "fsharp",
        "version": "4.5"
        }
        },
            "nbformat": 4,
            "nbformat_minor": 1
        }
        

