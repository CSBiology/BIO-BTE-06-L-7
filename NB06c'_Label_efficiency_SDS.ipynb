
        {
            "cells": [
          {
           "cell_type": "code",
           "metadata": {},
            "execution_count": 1, "outputs": [], 
           "source": ["#r \"nuget: FSharp.Stats, 0.4.0\"\n",
"#r \"nuget: BioFSharp, 2.0.0-beta5\"\n",
"#r \"nuget: BioFSharp.IO, 2.0.0-beta5\"\n",
"#r \"nuget: Plotly.NET, 2.0.0-beta6\"\n",
"#r \"nuget: BIO-BTE-06-L-7_Aux, 0.0.8\"\n",
"#r \"nuget: Deedle, 2.3.0\"\n",
"#r \"nuget: ISADotNet, 0.2.4\"\n",
"#r \"nuget: ISADotNet.XLSX, 0.2.4\"\n",
"\n",
"#r \"nuget: Plotly.NET, 2.0.0-beta6\"\n",
"#r \"nuget: Plotly.NET.Interactive, 2.0.0-beta6\"\n",
"\n",
"open System.IO\n",
"open ISADotNet\n",
"open ISADotNet.API\n",
"open Deedle\n",
"open BioFSharp\n",
"open FSharpAux\n",
"open FSharp.Stats\n",
"open Plotly.NET\n",
"open System.IO\n",
"open BIO_BTE_06_L_7_Aux.FS3_Aux\n",
"open BIO_BTE_06_L_7_Aux.Deedle_Aux\n"]
          }
,
          {
           "cell_type": "markdown",
           "metadata": {},
           
           "source": ["# NB06c\u0027 Label efficiency for SDS\n",
"\n",
"[![Binder](https://mybinder.org/badge_logo.svg)](https://mybinder.org/v2/gh/CSBiology/BIO-BTE-06-L-7/gh-pages?filepath=NB06b_Label_efficiency.ipynb)\n",
"\n",
"[Download Notebook](https://github.com/CSBiology/BIO-BTE-06-L-7/releases/download/NB06c/NB06c_Label_efficiency.ipynb)\n",
"\n",
"Stable isotopic peptide labeling is the foundation of QconCAT experiments. While an excellent tool when carried out with correctly, it also exposes \n",
"challenges and pitfalls that have to be checked and possibly accounted for. One of these pitfalls is the efficiency with which we labeled \n",
"our QconCAT protein (Why?). In this notebook we will have a look at some high quality peptides selected in the previous notebook and \n",
"illustrate how the label efficiency can be calculated using simulations.  \n",
"\n",
"## I. Reading the data\n",
"As promised, we start this notebook with the output of the previous analysis, this notebook assumes that the data from *NB06b Data Access and Quality Control* is stored in a .txt\n",
"\n"]
          }
,
          {
           "cell_type": "code",
           "metadata": {},
            "execution_count": 2, "outputs": [
          {
           "data": {
            "text/plain": ["\u003cnull\u003e"]
        },
           "execution_count": 2,
           "metadata": {},
           "output_type": "execute_result"
          }], 
           "source": ["type PeptideIon = \n",
"    {|\n",
"        ProteinGroup    : string  \n",
"        Synonyms        : string\n",
"        StringSequence  : string\n",
"        PepSequenceID   : int\n",
"        Charge          : int\n",
"    |}\n",
"\n",
"//This is the filepath you chose in *NB06b Data Access and Quality Control*\n",
"// let filePath = @\"C:\\YourPath\\testOut.txt\"\n",
"let filePath = @\n",
"\n",
"// What is different about this function from the one known from the last notebook?\n",
"let qConcatDataFiltered =\n",
"    Frame.ReadCsv(path = filePath, separators = \"\\t\")\n",
"    // StringSequence is the peptide sequence\n",
"    |\u003e Frame.indexRowsUsing (fun os -\u003e \n",
"            let proteinGroup = os.GetAs\u003cstring\u003e(\"ProteinGroup\")\n",
"            {|\n",
"                ProteinGroup    = os.GetAs\u003cstring\u003e(\"ProteinGroup\"); \n",
"                Synonyms        = os.GetAs\u003cstring\u003e(\"Synonyms\")\n",
"                StringSequence  = os.GetAs\u003cstring\u003e(\"StringSequence\");\n",
"                PepSequenceID   = os.GetAs\u003cint\u003e(\"PepSequenceID\");\n",
"                Charge          = os.GetAs\u003cint\u003e(\"Charge\");\n",
"            |}\n",
"        )\n",
"    |\u003e Frame.filterRows (fun k s -\u003e k.ProteinGroup |\u003e String.contains \"QProt_newCBB\")\n",
"\n",
"qConcatDataFiltered.ColumnKeys\n",
"|\u003e Array.ofSeq\n",
"\n",
"qConcatDataFilteredBN.ColumnKeys\n",
"|\u003e Array.ofSeq\n"]
          }
,
          {
           "cell_type": "markdown",
           "metadata": {},
           
           "source": ["First we reuse a proved pattern and define a function to manipulate our frame\n",
"\n"]
          }
,
          {
           "cell_type": "code",
           "metadata": {},
            "execution_count": 3, "outputs": [], 
           "source": ["let sliceQuantColumns quantColID frame = \n",
"    frame\n",
"    |\u003e Frame.filterCols (fun ck os -\u003e ck |\u003e String.contains (\".\" + quantColID))\n",
"    |\u003e Frame.mapColKeys (fun ck -\u003e ck.Split(\u0027.\u0027) |\u003e Array.item 0)\n"]
          }
,
          {
           "cell_type": "markdown",
           "metadata": {},
           
           "source": ["Besides already familiar slices...\n",
"\n"]
          }
,
          {
           "cell_type": "code",
           "metadata": {},
            "execution_count": 4, "outputs": [], 
           "source": ["let heavySDS = sliceQuantColumns \"Heavy\" qConcatDataFilteredSDS\n",
"let heavyBN = sliceQuantColumns \"Heavy\" qConcatDataFilteredBN\n"]
          }
,
          {
           "cell_type": "markdown",
           "metadata": {},
           
           "source": ["... we can also use this function for information needed to reconstruct isotopic patterns.\n",
"\n",
"## II. Extraction and visualization of measured isotopic envelopes.\n",
"\n"]
          }
,
          {
           "cell_type": "code",
           "metadata": {},
            "execution_count": 5, "outputs": [], 
           "source": ["let heavyPatternMzSDS = sliceQuantColumns \"heavyPatternMz\" qConcatDataFilteredSDS\n",
"let heavyPatternISDS  = sliceQuantColumns \"heavyPatternI\" qConcatDataFilteredSDS\n",
"\n",
"let heavyPatternMzBN = sliceQuantColumns \"heavyPatternMz\" qConcatDataFilteredBN\n",
"let heavyPatternIBN  = sliceQuantColumns \"heavyPatternI\" qConcatDataFilteredBN\n"]
          }
,
          {
           "cell_type": "markdown",
           "metadata": {},
           
           "source": ["Now, there\u0027s a challenge: The info to reconstruct an isotopic pattern is\n",
"separated into two columns, the x component (heavyPatternMz) and the y component (heavyPatternI).\n",
"As always, this challenged can be solved using a function! \n",
"Hint: Note how we define a function \u0027floatArrayOf\u0027 that specifies how the string is parsed. \n",
"\n"]
          }
,
          {
           "cell_type": "code",
           "metadata": {},
            "execution_count": 6, "outputs": [
          {
           "data": {
            "text/plain": ["No value returned by any evaluator"]
        },
           "execution_count": 6,
           "metadata": {},
           "output_type": "execute_result"
          }], 
           "source": ["let getHeavyPatternsInFile extractionType fileName = \n",
"    let floatArrayOf s = \n",
"        if String.isNullOrEmpty s then \n",
"            [||]\n",
"        else\n",
"            s\n",
"            |\u003e String.split (\u0027;\u0027) \n",
"            |\u003e Array.map float\n",
"    let mz, intensities =\n",
"        match extractionType with\n",
"        | \"SDS\" -\u003e\n",
"            heavyPatternMzSDS \n",
"            |\u003e Frame.getCol fileName \n",
"            |\u003e Series.mapValues floatArrayOf,\n",
"            heavyPatternISDS \n",
"            |\u003e Frame.getCol fileName \n",
"            |\u003e Series.mapValues floatArrayOf\n",
"        | \"BN\" -\u003e \n",
"            heavyPatternMzBN\n",
"            |\u003e Frame.getCol fileName \n",
"            |\u003e Series.mapValues floatArrayOf,\n",
"            heavyPatternIBN \n",
"            |\u003e Frame.getCol fileName \n",
"            |\u003e Series.mapValues floatArrayOf\n",
"        | _ -\u003e failwith \"ERROR: Accepted extractionType input is either \\\"SDS\\\" or \\\"BN\\\"\"\n",
"    let zipped = Series.zipInner mz intensities\n",
"    zipped\n",
"\n",
"let extractedPatternsSDS = getHeavyPatternsInFile \"SDS\" \"Gr2rbcL2_5\"\n",
"let extractedPatternsBN = getHeavyPatternsInFile \"BN\" \"20210312BN2_U1\"\n"]
          }
,
          {
           "cell_type": "markdown",
           "metadata": {},
           
           "source": ["Additionally, we can write two functions to plot the patterns of a peptide. When it comes\n",
"to the build the chart (plotIsotopicPattern), things get a little bit trickier, but this is not necessarily your concern. Please inspect the Chart \n",
"created by \u0027plotIsotopicPatternOf\u0027 and write correct descriptions for the x and the y axis. (Fill: |\u003e Chart.withX_AxisStyle \"\" and |\u003e Chart.withY_AxisStyle \"\")\n",
"\n"]
          }
,
          {
           "cell_type": "code",
           "metadata": {},
            "execution_count": 7, "outputs": [], 
           "source": ["let plotIsotopicPattern color mzsAndintensities =\n",
"    let min,max =\n",
"        mzsAndintensities |\u003e Seq.minBy fst |\u003e fst,\n",
"        mzsAndintensities |\u003e Seq.maxBy fst |\u003e fst\n",
"    Seq.map (fun (x,y) -\u003e \n",
"        Chart.Line([x;x],[0.;y], Showlegend = false)\n",
"        |\u003e Chart.withLineStyle (Width = 7)\n",
"    ) mzsAndintensities\n",
"    |\u003e Chart.Combine\n",
"    |\u003e Chart.withMarkerStyle(Size=0,Color = FSharpAux.Colors.toWebColor color)\n",
"    |\u003e Chart.withX_AxisStyle (\"\", MinMax = (min - 1., max + 1.))\n",
"    |\u003e Chart.withY_AxisStyle \"\"\n",
"\n",
"type ExtractedIsoPattern = \n",
"    {|\n",
"        PeptideSequence : PeptideIon\n",
"        Charge          : int\n",
"        Pattern         : seq\u003c(float*float)\u003e\n",
"    |}\n",
"\n",
"let getIsotopicPattern extractionType peptideSequence charge =\n",
"    let (k,(mzs,intensities)) = \n",
"        match extractionType with\n",
"        | \"SDS\" -\u003e\n",
"            extractedPatternsSDS\n",
"            |\u003e Series.observations\n",
"            |\u003e Seq.find (fun (k,(mzs,intensities)) -\u003e \n",
"                    k.StringSequence = peptideSequence \u0026\u0026 k.Charge = charge\n",
"                )\n",
"        | \"BN\" -\u003e\n",
"        extractedPatternsSDS\n",
"            |\u003e Series.observations\n",
"            |\u003e Seq.find (fun (k,(mzs,intensities)) -\u003e \n",
"                    k.StringSequence = peptideSequence \u0026\u0026 k.Charge = charge\n",
"                ) \n",
"        | _ -\u003e failwith \"ERROR: Accepted extractionType input is either \\\"SDS\\\" or \\\"BN\\\"\"\n",
"    {|\n",
"        PeptideSequence=k\n",
"        Charge  = charge\n",
"        Pattern = Seq.zip mzs intensities\n",
"    |}\n"]
          }
,
          {
           "cell_type": "code",
           "metadata": {},
            "execution_count": 8, "outputs": [
          {
           "data": {
            "text/plain": ["No value returned by any evaluator"]
        },
           "execution_count": 8,
           "metadata": {},
           "output_type": "execute_result"
          }], 
           "source": ["let examplePep1SDS = getIsotopicPattern \"SDS\" \"DTDILAAFR\" 2\n",
"let examplePep1BN = getIsotopicPattern \"BN\" \"DTDILAAFR\" 2\n",
"\n",
"plotIsotopicPattern FSharpAux.Colors.Table.Office.blue examplePep1SDS.Pattern\n",
"plotIsotopicPattern FSharpAux.Colors.Table.Office.blue examplePep1BN.Pattern\n"]
          }
,
          {
           "cell_type": "code",
           "metadata": {},
            "execution_count": 10, "outputs": [
          {
           "data": {
            "text/plain": ["No value returned by any evaluator"]
        },
           "execution_count": 10,
           "metadata": {},
           "output_type": "execute_result"
          }], 
           "source": ["let examplePep2SDS = getIsotopicPattern \"SDS\" \"LTYYTPDYVVR\" 2\n",
"let examplePep2BN = getIsotopicPattern \"BN\" \"LTYYTPDYVVR\" 2\n",
"\n",
"plotIsotopicPattern FSharpAux.Colors.Table.Office.blue examplePep2SDS.Pattern\n",
"plotIsotopicPattern FSharpAux.Colors.Table.Office.blue examplePep2BN.Pattern\n"]
          }
,
          {
           "cell_type": "markdown",
           "metadata": {},
           
           "source": ["## III. Simulation of isotopic patterns: revisited.\n",
"\n",
"Now that we visualized the patterns of two sample peptides, we will simulate theoretical patterns\n",
"and compare them to the ones we measured! You will recognize a lot of the used code from *NB02c Isotopic distribution*\n",
"Note: we copy the code so you can make yourself familiar with it, of course we could also reference functions defined beforehand.\n",
"\n"]
          }
,
          {
           "cell_type": "code",
           "metadata": {},
            "execution_count": 12, "outputs": [], 
           "source": ["// create chemical formula for amino acid and add water to reflect hydrolysed state in mass spectrometer\n",
"let toFormula bioseq =  \n",
"    bioseq\n",
"    |\u003e BioSeq.toFormula\n",
"    // peptides are hydrolysed in the mass spectrometer, so we add H2O\n",
"    |\u003e Formula.add Formula.Table.H2O\n",
"\n",
"let label n15LableEfficiency formula =\n",
"    let heavyN15 = Elements.Di  (Elements.createDi \"N15\" (Isotopes.Table.N15,n15LableEfficiency) (Isotopes.Table.N14,1.-n15LableEfficiency) )\n",
"    Formula.replaceElement formula Elements.Table.N heavyN15\n",
"\n",
"// Predicts an isotopic distribution of the given formula at the given charge, \n",
"// normalized by the sum of probabilities, using the MIDAs algorithm\n",
"let generateIsotopicDistribution (charge:int) (f:Formula.Formula) =\n",
"    IsotopicDistribution.MIDA.ofFormula \n",
"        IsotopicDistribution.MIDA.normalizeByProbSum\n",
"        0.01\n",
"        0.000000001\n",
"        charge\n",
"        f\n",
"\n",
"type SimulatedIsoPattern = \n",
"    {|\n",
"        PeptideSequence : string\n",
"        Charge          : int\n",
"        LableEfficiency : float\n",
"        SimPattern      : list\u003c(float*float)\u003e\n",
"    |}\n",
"\n",
"let simulateFrom peptideSequence charge lableEfficiency =\n",
"    let simPattern =\n",
"        peptideSequence\n",
"        |\u003e BioSeq.ofAminoAcidString\n",
"        |\u003e toFormula \n",
"        |\u003e label lableEfficiency\n",
"        |\u003e generateIsotopicDistribution charge     \n",
"    {|\n",
"        PeptideSequence = peptideSequence\n",
"        Charge          = charge\n",
"        LableEfficiency = lableEfficiency\n",
"        SimPattern      = simPattern\n",
"    |}\n"]
          }
,
          {
           "cell_type": "code",
           "metadata": {},
            "execution_count": 13, "outputs": [
          {
           "data": {
            "text/plain": ["No value returned by any evaluator"]
        },
           "execution_count": 13,
           "metadata": {},
           "output_type": "execute_result"
          }], 
           "source": ["let examplePep2_Sim1 = simulateFrom \"LTYYTPDYVVR\" 2 0.95\n",
"\n",
"plotIsotopicPattern FSharpAux.Colors.Table.Office.orange examplePep2_Sim1.SimPattern\n"]
          }
,
          {
           "cell_type": "code",
           "metadata": {},
            "execution_count": 15, "outputs": [
          {
           "data": {
            "text/plain": ["No value returned by any evaluator"]
        },
           "execution_count": 15,
           "metadata": {},
           "output_type": "execute_result"
          }], 
           "source": ["let examplePep2_Sim2 = simulateFrom \"LTYYTPDYVVR\" 2 0.99\n",
"\n",
"plotIsotopicPattern FSharpAux.Colors.Table.Office.orange examplePep2_Sim2.SimPattern\n"]
          }
,
          {
           "cell_type": "markdown",
           "metadata": {},
           
           "source": ["## IV. Comparing measured and theoretical isotopic patterns.\n",
"\n",
"As we see, there is a discrepancy between real and simulated patterns, both in peak height and in peak count. \n",
"But before we compare both patterns, we have to take some things into consideration.\n",
"While both patterns are normalized in a way that their intensities\n",
"sum to 1., they were normalized independently from each other. Since it is often not possible to \n",
"extract all peaks of an isotopic pattern from a MS run (e.g. due to measurement inaccuracies), we have to \n",
"write a function which filters the simulated patterns for those peaks present in the experimentally \n",
"measured one. Then we normalize it again and have two spectra that can be compared.\n",
"// How are distributions called that sum up to 1?\n",
"\n"]
          }
,
          {
           "cell_type": "code",
           "metadata": {},
            "execution_count": 17, "outputs": [], 
           "source": ["let normBySum (a:seq\u003cfloat*float\u003e) =\n",
"    let s = Seq.sumBy snd a \n",
"    Seq.map (fun (x,y) -\u003e x,y / s) a\n",
"\n",
"let compareIsotopicDistributions (measured:ExtractedIsoPattern) (simulated:SimulatedIsoPattern)= \n",
"    let patternSim\u0027 = \n",
"        measured.Pattern \n",
"        |\u003e Seq.map (fun (mz,intensities) -\u003e \n",
"                mz,\n",
"                simulated.SimPattern\n",
"                |\u003e Seq.filter (fun (mzSim,intensitiesSim) -\u003e abs(mzSim-mz) \u003c 0.05 )\n",
"                |\u003e Seq.sumBy snd\n",
"            )\n",
"        |\u003e normBySum\n",
"    {|\n",
"        Plot = \n",
"            [\n",
"            plotIsotopicPattern FSharpAux.Colors.Table.Office.blue measured.Pattern\n",
"            plotIsotopicPattern FSharpAux.Colors.Table.Office.orange patternSim\u0027\n",
"            ]\n",
"            |\u003e Chart.Combine\n",
"    |}\n"]
          }
,
          {
           "cell_type": "code",
           "metadata": {},
            "execution_count": 18, "outputs": [
          {
           "data": {
            "text/plain": ["No value returned by any evaluator"]
        },
           "execution_count": 18,
           "metadata": {},
           "output_type": "execute_result"
          }], 
           "source": ["let comp1SDS = compareIsotopicDistributions examplePep2SDS examplePep2_Sim1\n",
"let comp1BN = compareIsotopicDistributions examplePep2BN examplePep2_Sim1\n",
"comp1SDS.Plot\n",
"comp1BN.Plot\n"]
          }
,
          {
           "cell_type": "code",
           "metadata": {},
            "execution_count": 20, "outputs": [
          {
           "data": {
            "text/plain": ["No value returned by any evaluator"]
        },
           "execution_count": 20,
           "metadata": {},
           "output_type": "execute_result"
          }], 
           "source": ["let comp2SDS = compareIsotopicDistributions examplePep2SDS examplePep2_Sim2\n",
"let comp2BN = compareIsotopicDistributions examplePep2SDS examplePep2_Sim2\n",
"comp2SDS.Plot\n",
"comp2BN.Plot\n"]
          }
,
          {
           "cell_type": "markdown",
           "metadata": {},
           
           "source": ["Comparing both simulations, we see that the simulation with a label efficiency of 0.99 fits the measured spectra better than the simulation with 0.95.\n",
"But since we do not want to find a better fit, but the best fit to our measured pattern, this is no goal that is achievable in a feasable way \n",
"using visual inspections. As a solution we utilize the fact that isotopic patterns can be abstracted as ___ ___ (See: How are distributions called that sum up to 1?) distributions.\n",
"A measure to compare measured and theoretical distributions is the kullback leibler divergence. The following code block extends the function \n",
"\u0027compareIsotopicDistributions\u0027 to compute the KL divergence between the precisely measured distribution p and our approximation \n",
"of p (q) using the mida algorithm. \n",
"\n"]
          }
,
          {
           "cell_type": "code",
           "metadata": {},
            "execution_count": 22, "outputs": [], 
           "source": ["/// Calculates the Kullback-Leibler divergence Dkl(p||q) from q (theory, model, description, or approximation of p) \n",
"/// to p (the \"true\" distribution of data, observations, or a ___ ___ precisely measured).\n",
"let klDiv (p:seq\u003cfloat\u003e) (q:seq\u003cfloat\u003e) = \n",
"    Seq.fold2 (fun acc p q -\u003e (System.Math.Log(p/q)*p) + acc ) 0. p q\n",
"\n",
"let compareIsotopicDistributions\u0027 (measured:ExtractedIsoPattern) (simulated:SimulatedIsoPattern)= \n",
"    let patternSim\u0027 = \n",
"        measured.Pattern \n",
"        |\u003e Seq.map (fun (mz,intensities) -\u003e \n",
"                mz,\n",
"                simulated.SimPattern\n",
"                |\u003e Seq.filter (fun (mzSim,intensitiesSim) -\u003e abs(mzSim-mz) \u003c 0.05 )\n",
"                |\u003e Seq.sumBy snd\n",
"            )\n",
"        |\u003e normBySum\n",
"    let klDiv = klDiv (patternSim\u0027 |\u003e Seq.map snd)  (measured.Pattern |\u003e Seq.map snd)\n",
"    {|\n",
"        KLDiv = klDiv\n",
"        Plot  = \n",
"            [\n",
"            plotIsotopicPattern FSharpAux.Colors.Table.Office.blue measured.Pattern\n",
"            plotIsotopicPattern FSharpAux.Colors.Table.Office.orange patternSim\u0027\n",
"            ]\n",
"            |\u003e Chart.Combine\n",
"    |}\n"]
          }
,
          {
           "cell_type": "markdown",
           "metadata": {},
           
           "source": ["## V. Determining the lable efficiency: an optimiziation problem.\n",
"\n",
"Using this function we can now visualize the kullback leibler divergence between\n",
"different models and the two peptides we measured. Since the lower the divergence. We will\n",
"also visualize the pattern with the best fit. Please inspect the Chart created by \u0027Chart.Point(lableEfficiency,comparison |\u003e Seq.map (fun x -\u003e x.KLDiv))\u0027 \n",
"and write correct descriptions for the x and the y axis. (Fill: |\u003e Chart.withX_AxisStyle \"\" and |\u003e Chart.withY_AxisStyle \"\")\n",
"\n"]
          }
,
          {
           "cell_type": "code",
           "metadata": {},
            "execution_count": 23, "outputs": [
          {
           "data": {
            "text/plain": ["No value returned by any evaluator"]
        },
           "execution_count": 23,
           "metadata": {},
           "output_type": "execute_result"
          }], 
           "source": ["let lableEfficiencySDS,comparisonSDS,lableEfficiencyBN,comparisonBN = \n",
"    (\n",
"        [|0.95 .. 0.001 .. 0.999|]\n",
"        |\u003e Array.map (fun lableEfficiency -\u003e \n",
"                let sim = simulateFrom \"DTDILAAFR\" 2 lableEfficiency\n",
"                let comp = compareIsotopicDistributions\u0027 examplePep1SDS sim\n",
"                lableEfficiency,\n",
"                comp\n",
"            )\n",
"        |\u003e Seq.unzip,\n",
"        [|0.95 .. 0.001 .. 0.999|]\n",
"        |\u003e Array.map (fun lableEfficiency -\u003e \n",
"                let sim = simulateFrom \"DTDILAAFR\" 2 lableEfficiency\n",
"                let comp = compareIsotopicDistributions\u0027 examplePep1BN sim\n",
"                lableEfficiency,\n",
"                comp\n",
"            )\n",
"        |\u003e Seq.unzip\n",
"    )\n",
"    |\u003e fun (x,y) -\u003e fst x, snd x, fst y, snd y\n",
"let bestFitSDS = comparisonSDS |\u003e Seq.minBy (fun x -\u003e x.KLDiv) \n",
"let bestFitBN = comparisonBN |\u003e Seq.minBy (fun x -\u003e x.KLDiv) \n",
"\n",
"Chart.Point(lableEfficiencySDS,comparisonSDS |\u003e Seq.map (fun x -\u003e x.KLDiv))\n",
"|\u003e Chart.withX_AxisStyle \"\"\n",
"|\u003e Chart.withY_AxisStyle \"\"\n",
"\n",
"Chart.Point(lableEfficiencyBN,comparisonBN |\u003e Seq.map (fun x -\u003e x.KLDiv))\n",
"|\u003e Chart.withX_AxisStyle \"\"\n",
"|\u003e Chart.withY_AxisStyle \"\"\n"]
          }
,
          {
           "cell_type": "code",
           "metadata": {},
            "execution_count": 25, "outputs": [
          {
           "data": {
            "text/plain": ["No value returned by any evaluator"]
        },
           "execution_count": 25,
           "metadata": {},
           "output_type": "execute_result"
          }], 
           "source": ["bestFitSDS.Plot\n",
"bestFitBN.Plot\n"]
          }
,
          {
           "cell_type": "code",
           "metadata": {},
            "execution_count": 27, "outputs": [
          {
           "data": {
            "text/plain": ["No value returned by any evaluator"]
        },
           "execution_count": 27,
           "metadata": {},
           "output_type": "execute_result"
          }], 
           "source": ["let lableEfficiency2SDS,comparison2SDS,lableEfficiency2BN,comparison2BN = \n",
"    (\n",
"        [|0.95 .. 0.001 .. 0.999|]\n",
"        |\u003e Array.map (fun lableEfficiency -\u003e \n",
"                let sim = simulateFrom \"LTYYTPDYVVR\" 2 lableEfficiency\n",
"                let comp = compareIsotopicDistributions\u0027 examplePep2SDS sim\n",
"                lableEfficiency,\n",
"                comp\n",
"            )\n",
"        |\u003e Seq.unzip,\n",
"        [|0.95 .. 0.001 .. 0.999|]\n",
"        |\u003e Array.map (fun lableEfficiency -\u003e \n",
"                let sim = simulateFrom \"LTYYTPDYVVR\" 2 lableEfficiency\n",
"                let comp = compareIsotopicDistributions\u0027 examplePep2BN sim\n",
"                lableEfficiency,\n",
"                comp\n",
"            )\n",
"        |\u003e Seq.unzip\n",
"    )\n",
"    |\u003e fun ((a,b),(c,d)) -\u003e a,b,c,d\n",
"\n",
"let bestFit2SDS = comparison2SDS |\u003e Seq.minBy (fun x -\u003e x.KLDiv) \n",
"let bestFit2BN = comparison2BN |\u003e Seq.minBy (fun x -\u003e x.KLDiv) \n",
"\n",
"Chart.Point(lableEfficiency2SDS,comparison2SDS |\u003e Seq.map (fun x -\u003e x.KLDiv))\n",
"|\u003e Chart.withX_AxisStyle \"\"\n",
"|\u003e Chart.withY_AxisStyle \"\"\n",
"\n",
"Chart.Point(lableEfficiency2BN,comparison2BN |\u003e Seq.map (fun x -\u003e x.KLDiv))\n",
"|\u003e Chart.withX_AxisStyle \"\"\n",
"|\u003e Chart.withY_AxisStyle \"\"\n"]
          }
,
          {
           "cell_type": "code",
           "metadata": {},
            "execution_count": 29, "outputs": [
          {
           "data": {
            "text/plain": ["No value returned by any evaluator"]
        },
           "execution_count": 29,
           "metadata": {},
           "output_type": "execute_result"
          }], 
           "source": ["bestFit2SDS.Plot\n",
"bestFit2BN.Plot\n"]
          }
,
          {
           "cell_type": "markdown",
           "metadata": {},
           
           "source": ["Observing the output, we can make two observations: the function x(lablefficiency) = KL(measured,sim(lableeffciency)) has in both cases a local minimum\n",
"that is similar, yet slightly different for peptides \"LTYYTPDYVVR\" and \"DTDILAAFR\", and that the best fit resembles the measured distribution closely, but not\n",
"perfectly, what is the reason for this?\n",
"\n",
"Finding this local minimum will give us the best estimator for the lable efficiency. This can be done using brute force approaches (as we just did) \n",
"or more elaborate optimization techniques. For this we will use an algorithm called \u0027Brent\u0027s method\u0027. This method is more precise and speeds up the calculation time (Why?). \n",
"How close are the estimates?\n",
"\n"]
          }
,
          {
           "cell_type": "code",
           "metadata": {},
            "execution_count": 31, "outputs": [], 
           "source": ["let calcKL peptideSequence charge lableEfficiency = \n",
"    let measuredSDS, measuredBN = \n",
"        getIsotopicPattern \"SDS\" peptideSequence charge, \n",
"        getIsotopicPattern \"BN\" peptideSequence charge\n",
"    let sim = simulateFrom peptideSequence charge lableEfficiency\n",
"    let compSDS, compBN = \n",
"        compareIsotopicDistributions\u0027 measuredSDS sim,\n",
"        compareIsotopicDistributions\u0027 measuredBN sim\n",
"    compSDS.KLDiv, compBN.KLDiv\n",
"\n",
"let est1SDS = Optimization.Brent.minimize (calcKL \"DTDILAAFR\" 2 \u003e\u003e fst) 0.98 0.999\n",
"let est1BN = Optimization.Brent.minimize (calcKL \"DTDILAAFR\" 2 \u003e\u003e snd) 0.98 0.999\n",
"let est2SDS = Optimization.Brent.minimize (calcKL \"LTYYTPDYVVR\" 2 \u003e\u003e fst) 0.98 0.999\n",
"let est2BN = Optimization.Brent.minimize (calcKL \"LTYYTPDYVVR\" 2 \u003e\u003e snd) 0.98 0.999\n"]
          }
,
          {
           "cell_type": "markdown",
           "metadata": {},
           
           "source": ["Since the estimates have a certain level of uncertainty we will repeat the estimation for \n",
"some high intensity peptides and visualize the results. Please fill the x axis description (|\u003e Chart.withX_AxisStyle \"\")\n",
"\n"]
          }
,
          {
           "cell_type": "code",
           "metadata": {},
            "execution_count": 32, "outputs": [
          {
           "data": {
            "text/plain": ["No value returned by any evaluator"]
        },
           "execution_count": 32,
           "metadata": {},
           "output_type": "execute_result"
          }], 
           "source": ["let highIntensityPeptidesSDS = \n",
"    heavySDS\n",
"    |\u003e Frame.getCol \"WCGr1_U1\" \n",
"    |\u003e Series.sortBy (fun (x:float) -\u003e - x)\n",
"    |\u003e Series.filter (fun k v -\u003e k.StringSequence |\u003e String.exists (fun x -\u003e x=\u0027[\u0027) |\u003e not)\n",
"\n",
"let highIntensityPeptidesBN = \n",
"    heavyBN\n",
"    |\u003e Frame.getCol \"WCGr1_U1\" \n",
"    |\u003e Series.sortBy (fun (x:float) -\u003e - x)\n",
"    |\u003e Series.filter (fun k v -\u003e k.StringSequence |\u003e String.exists (fun x -\u003e x=\u0027[\u0027) |\u003e not)\n",
"\n",
"let estimatesSDS = \n",
"    highIntensityPeptidesSDS\n",
"    |\u003e Series.take 20 \n",
"    |\u003e Series.map (fun k v -\u003e \n",
"        FSharp.Stats.Optimization.Brent.minimize (calcKL k.StringSequence k.Charge \u003e\u003e fst) 0.98 0.999\n",
"        )\n",
"    |\u003e Series.values\n",
"    |\u003e Seq.choose id\n",
"\n",
"let estimatesBN = \n",
"    highIntensityPeptidesBN\n",
"    |\u003e Series.take 20 \n",
"    |\u003e Series.map (fun k v -\u003e \n",
"        FSharp.Stats.Optimization.Brent.minimize (calcKL k.StringSequence k.Charge \u003e\u003e snd) 0.98 0.999\n",
"        )\n",
"    |\u003e Series.values\n",
"    |\u003e Seq.choose id\n",
"\n",
"Chart.BoxPlot estimatesSDS\n",
"|\u003e Chart.withX_AxisStyle \"\"\n"]
          }
,
          {
           "cell_type": "markdown",
           "metadata": {},
           
           "source": ["Now that we know more than an educated guess of an lable efficiency estimate we can start with our main goal:\n",
"the absolute quantification of chlamydomonas proteins!\n",
"\n"]
          }],
            "metadata": {
            "kernelspec": {"display_name": ".NET (F#)", "language": "F#", "name": ".net-fsharp"},
            "langauge_info": {
        "file_extension": ".fs",
        "mimetype": "text/x-fsharp",
        "name": "C#",
        "pygments_lexer": "fsharp",
        "version": "4.5"
        }
        },
            "nbformat": 4,
            "nbformat_minor": 1
        }
        

