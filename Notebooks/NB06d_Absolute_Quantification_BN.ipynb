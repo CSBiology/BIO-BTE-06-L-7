{
  "cells": [
    {
      "cell_type": "code",
      "execution_count": 1,
      "metadata": {
        "dotnet_interactive": {
          "language": "fsharp"
        }
      },
      "source": [
        "#r \"nuget: FSharp.Stats, 0.4.0\"\n",
        "#r \"nuget: BioFSharp, 2.0.0-beta5\"\n",
        "#r \"nuget: BioFSharp.IO, 2.0.0-beta5\"\n",
        "#r \"nuget: Plotly.NET, 2.0.0-beta6\"\n",
        "#r \"nuget: BIO-BTE-06-L-7_Aux, 0.0.6\"\n",
        "#r \"nuget: Deedle, 2.3.0\"\n",
        "#r \"nuget: ISADotNet, 0.2.4\"\n",
        "#r \"nuget: ISADotNet.XLSX, 0.2.4\"\n",
        "\n",
        "#r \"nuget: Plotly.NET, 2.0.0-beta8\"\n",
        "#r \"nuget: Plotly.NET.Interactive, 2.0.0-beta8\"\n",
        "\n",
        "open System.IO\n",
        "open ISADotNet\n",
        "open ISADotNet.API\n",
        "open Deedle\n",
        "open BioFSharp\n",
        "open FSharpAux\n",
        "open FSharp.Stats\n",
        "open Plotly.NET\n",
        "open FSharp.Stats.Fitting.LinearRegression.OrdinaryLeastSquares.Linear\n",
        "open System.IO\n",
        "open BIO_BTE_06_L_7_Aux.FS3_Aux\n",
        "open BIO_BTE_06_L_7_Aux.Deedle_Aux"
      ],
      "outputs": []
    },
    {
      "cell_type": "markdown",
      "metadata": {},
      "source": [
        "# NB06d Absolute Quantification\n",
        "\n",
        "[![Binder](https://mybinder.org/badge_logo.svg)](https://mybinder.org/v2/gh/CSBiology/BIO-BTE-06-L-7/gh-pages?filepath=NB06d_Absolute_Quantification_BN.ipynb)\n",
        "\n",
        "[Download Notebook](https://github.com/CSBiology/BIO-BTE-06-L-7/releases/download/NB06b_NB06b_NB06c_NB06c_NB06d_NB06d/NB06d_Absolute_Quantification_BN.ipynb)\n",
        "\n",
        "Finally, after careful peptide ion selection, quality control and assuring that our label efficiency allows accurate for quantifications, we can start to\n",
        "calculate protein abundancies. Since we start again by getting access to our data and its description, this notebook will start off familiar!\n",
        "\n",
        "\n",
        "## I. Reading the data\n",
        "As promised, we start this notebook with the output of the previous analysis, this notebook assumes that the data from *NB06b Data Access and Quality Control* is stored in a .txt"
      ]
    },
    {
      "cell_type": "code",
      "execution_count": 1,
      "metadata": {
        "dotnet_interactive": {
          "language": "fsharp"
        }
      },
      "source": [
        "type PeptideIon = \n",
        "    {|\n",
        "        ProteinGroup    : string  \n",
        "        Synonyms        : string\n",
        "        StringSequence  : string\n",
        "        PepSequenceID   : int\n",
        "        Charge          : int\n",
        "    |}\n",
        "\n",
        "//This is the filepath you chose in *NB06b Data Access and Quality Control*\n",
        "// let filePath = @\"C:\\yourPath\\testOut.txt\"\n",
        "let filePath = System.IO.Path.Combine [|__SOURCE_DIRECTORY__ + \"/downloads/qualityControlResult_BN.txt\"|]\n",
        "\n",
        "let qConcatDataFiltered =\n",
        "    Frame.ReadCsv(path = filePath, separators = \"\\t\")\n",
        "    // StringSequence is the peptide sequence\n",
        "    |> Frame.indexRowsUsing (fun os -> \n",
        "        {|\n",
        "            ProteinGroup    = os.GetAs<string>(\"ProteinGroup\"); \n",
        "            Synonyms        = os.GetAs<string>(\"Synonyms\")\n",
        "            StringSequence  = os.GetAs<string>(\"StringSequence\");\n",
        "            PepSequenceID   = os.GetAs<int>(\"PepSequenceID\");\n",
        "            Charge          = os.GetAs<int>(\"Charge\");\n",
        "        |}\n",
        "    )\n",
        "    |> Frame.filterRows (fun k s -> String.contains \"QProt_newPS\" k.ProteinGroup)"
      ],
      "outputs": []
    },
    {
      "cell_type": "markdown",
      "metadata": {},
      "source": [
        "## II. Extracting ratios and calculating comparisons.\n",
        "\n",
        "Next, we want to look at the stoichiometry between rbcL and rbcS. First, we extract the ratios from our curated results file and plot them."
      ]
    },
    {
      "cell_type": "code",
      "execution_count": 1,
      "metadata": {
        "dotnet_interactive": {
          "language": "fsharp"
        }
      },
      "source": [
        "let sliceQuantColumns quantColID frame = \n",
        "    frame\n",
        "    |> Frame.filterCols (fun ck os -> ck |> String.contains (\".\" + quantColID))\n",
        "    |> Frame.mapColKeys (fun ck -> ck.Split('.') |> Array.item 0)\n",
        "\n",
        "\n",
        "let ratios = sliceQuantColumns \"Ratio\" qConcatDataFiltered\n",
        "\n",
        "ratios\n",
        "|> Frame.getRow {|Charge = 2; PepSequenceID = 1457965; ProteinGroup = \"QProt_newPS;Cre02.g120150.t1.2;Cre02.g120100.t1.2\"; StringSequence = \"AFPDAYVR\"; Synonyms = \"RBCS2;RBCS1\"|}\n",
        "\n",
        "let ratiosRbcL =\n",
        "    ratios\n",
        "    |> Frame.filterRows (fun r s -> r.Synonyms |> String.contains \"rbcL\")\n",
        "\n",
        "let ratiosRbcS =\n",
        "    ratios\n",
        "    |> Frame.filterRows (fun r s -> r.Synonyms |> String.contains \"RBCS\")\n",
        "\n",
        "let medianRbcL =\n",
        "    ratiosRbcL\n",
        "    |> Frame.getNumericCols\n",
        "    |> Series.mapValues Stats.median\n",
        "    |> Series.observations\n",
        "\n",
        "let medianRbcS =\n",
        "    ratiosRbcS\n",
        "    |> Frame.getNumericCols\n",
        "    |> Series.mapValues Stats.median\n",
        "    |> Series.observations"
      ],
      "outputs": []
    },
    {
      "cell_type": "code",
      "execution_count": 1,
      "metadata": {
        "dotnet_interactive": {
          "language": "fsharp"
        }
      },
      "source": [
        "[\n",
        "    Chart.Column (medianRbcL)\n",
        "    |> Chart.withTraceName \"rbcL\"\n",
        "    Chart.Column (medianRbcS)\n",
        "    |> Chart.withTraceName \"rbcS\"\n",
        "]\n",
        "|> Chart.Combine"
      ],
      "outputs": []
    },
    {
      "cell_type": "markdown",
      "metadata": {},
      "source": [
        "Since we are interested in the ratio between rbcL and rbcS, we just divide the rbcL ratio through the ratio of rbcS and compare the result with values from the literature."
      ]
    },
    {
      "cell_type": "code",
      "execution_count": 1,
      "metadata": {
        "dotnet_interactive": {
          "language": "fsharp"
        }
      },
      "source": [
        "(medianRbcL, medianRbcS)\n",
        "||> Seq.map2 (fun (s1,v1) (s2,v2) -> s1, v1 / v2)\n",
        "|> Chart.Column"
      ],
      "outputs": []
    },
    {
      "cell_type": "markdown",
      "metadata": {},
      "source": [
        "Do your results differ from the literature? Why? Discuss."
      ]
    }
  ],
  "metadata": {
    "kernelspec": {
      "display_name": ".NET (C#)",
      "language": "C#",
      "name": ".net-csharp"
    },
    "language_info": {
      "file_extension": ".cs",
      "mimetype": "text/x-csharp",
      "name": "C#",
      "pygments_lexer": "csharp",
      "version": "8.0"
    }
  },
  "nbformat": 4,
  "nbformat_minor": 4
}