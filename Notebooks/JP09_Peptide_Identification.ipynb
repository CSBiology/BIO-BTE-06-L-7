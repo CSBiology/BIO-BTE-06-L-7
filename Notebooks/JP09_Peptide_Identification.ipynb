{
 "cells": [
  {
   "cell_type": "markdown",
   "metadata": {},
   "source": [
    "<h1 Style=\"font-size: 3rem\" >Fragmentation for peptide identification</h1>\n",
    "\n",
    "1. [Understanding MS2 spectra: From peptide to fragment](#Understanding-MS2-spectra:-From-peptide-to-fragment)\n",
    "2. [Simulate MS2 Fragmentation](#Simulate-MS2-Fragmentation)<br>\n",
    "2. [References](#References)"
   ]
  },
  {
   "cell_type": "markdown",
   "metadata": {},
   "source": [
    "## Understanding MS2 spectra: From peptide to fragment\n",
    "\n",
    "<div Style=\"max-width: 85%\">\n",
    "    <div Style=\"text-align: justify ; font-size: 1.8rem ; margin-top: 2rem ; line-height: 1.5\">\n",
    "The currency of information for identification in MS-based proteomics is the fragment ion spectrum (MS/MS spectrum) that is typically derived from the fragmentation of a specific peptide in the collision cell of a mass spectrometer. Peptides produce fragments that provide information on their amino acid sequence. The correct assignment of such a spectrum to a peptide sequence is the central step to link m/z values and ion intensities to biology<sup><a href=\"#31\">31</a></sup>. \n",
    "    </div>\n",
    "    <div Id=\"figure4\" Style=\"float: right ; display: inline-block ; font-size: 1.7rem ; color: #44546a ; width: 60% ; padding: 15px\">\n",
    "        <img src=\"img/FragmentIonNomenclature.png\" Style=\"width: 100%\">\n",
    "        <div Style=\"padding-left: 1rem ; padding-right: 1rem ; margin-top: 1rem ; text-align: justify ; \">\n",
    "            <b>Figure 4: The Roepstorff-Fohlmann-Biemann nomenclature of fragment ions.</b>\n",
    "            N-terminal and C-terminal peptide fragments result of dissociation of electron bonds along the peptide backbone.\n",
    "        </div>\n",
    "    </div>    \n",
    "    <div Style=\"text-align: justify ; font-size: 1.8rem ; margin-top: 2rem ; line-height: 1.5\">\n",
    "During the unimolecular peptide ion dissociation processes, different chemical reactions can lead to different types of product ions. The types of ions observed in MS/MS experiments depend on the physicochemical properties of the amino acids and their sequence, on the amount of internal energy, and on the peptide’s charge state. In addition, product ion formation is strongly influenced by the fragmentation method<sup><a href=\"#32\">32</a></sup>. The most widely used fragmentation methods today are low-energy collision-induced dissociation (CID)<sup><a href=\"#33\">33</a></sup> and electron transfer dissociation (ETD)<sup><a href=\"#34\">34</a></sup>. These methods favor fragmentation along the peptide backbone and result in an N-terminal prefix fragment and a C-terminal suffix fragment. The standard nomenclature for the C-terminal fragments is x, y and z whereas the corresponding N-terminal fragments are denoted as a, b and c depending on the position where the breakage occurs at the peptide backbone level. The numbering of each fragment starts from the N-terminus for a,b,c series and from the C-terminus for x,y,z series (<a href=\"#figure4\">Figure 4</a>). One should keep in mind that during parent ion selection many of the same peptide ions are selected and dissociated into fragments, with the resulting fragment ions having different relative abundances according to the preferred fragmentation reaction. In addition to the fragmentation along the peptide backbone, fragment ions containing the amino acids R, K, N, or Q can lose ammonia (-17 Da) and are then denoted a*, b* and y*. Fragments containing the amino acids S, T, E, or D may lose water (-18 Da) and are then denoted a°, b° and y°. These losses do not change the charge of the ions and are observable as natural losses <sup><a href=\"#35\">35</a>,<a href=\"#36\">36</a></sup>.\n",
    "    </div>\n",
    "</div>"
   ]
  },
  {
   "cell_type": "code",
   "execution_count": 29,
   "metadata": {},
   "outputs": [],
   "source": [
    "#load \"..\\IfSharp\\Paket.Generated.Refs.fsx\"\n",
    "#load \"..\\IfSharp\\References.fsx\"\n",
    "\n",
    "open FSharp.Plotly\n",
    "open BioFSharp"
   ]
  },
  {
   "cell_type": "markdown",
   "metadata": {},
   "source": [
    "## Simulate MS2 Fragmentation\n",
    "\n",
    "<div Style=\"max-width: 85%\">\n",
    "\t<div Style=\"text-align: justify ; font-size: 1.8rem ; margin-top: 2rem ; line-height: 1.5\">\n",
    "        For the simulation we first define a short peptide.\n",
    "\t</div>\n",
    "</div>"
   ]
  },
  {
   "cell_type": "code",
   "execution_count": 25,
   "metadata": {},
   "outputs": [
    {
     "data": {
      "text/plain": [
       "[Val; Tyr; Val; Val; Gly; Glu; Asp; Gly; Ile; Leu; Lys]"
      ]
     },
     "execution_count": 25,
     "metadata": {},
     "output_type": "execute_result"
    }
   ],
   "source": [
    "let peptide = \n",
    "    \"VYVVGEDGILK\"\n",
    "    |> BioList.ofAminoAcidString\n",
    "\n",
    "peptide"
   ]
  },
  {
   "cell_type": "markdown",
   "metadata": {},
   "source": [
    "<div Style=\"max-width: 85%\">\n",
    "\t<div Style=\"text-align: justify ; font-size: 1.8rem ; margin-top: 2rem ; line-height: 1.5\">\n",
    "        In the <code>Mz</code> namespace of <a href=\"https://csbiology.github.io/BioFSharp/\">BioFSharp</a>, we can find a function that can generate the theoretical series of y-ions from the given peptide. This function provides a lot of information, but we are only interested in the mass. Notice, that we do not know the intesity of the fragment ions and just use '1.' for simulation.\n",
    "\t</div>\n",
    "</div>"
   ]
  },
  {
   "cell_type": "code",
   "execution_count": 30,
   "metadata": {},
   "outputs": [
    {
     "data": {
      "text/plain": [
       "[(1190.654689, 1.0); (1091.586276, 1.0); (928.522947, 1.0); (829.4545331, 1.0);\n",
       " (730.3861192, 1.0); (673.3646555, 1.0); (544.3220624, 1.0); (429.2951194, 1.0);\n",
       " (372.2736556, 1.0); (259.1895917, 1.0); (146.1055277, 1.0)]"
      ]
     },
     "execution_count": 30,
     "metadata": {},
     "output_type": "execute_result"
    }
   ],
   "source": [
    "let ionSeriesY =\n",
    "    peptide\n",
    "    |> Mz.Fragmentation.Series.yOfBioList BioItem.initMonoisoMassWithMemP\n",
    "    |> List.map (fun aac -> aac.MainPeak.Mass,1.)\n",
    "    \n",
    "ionSeriesY"
   ]
  },
  {
   "cell_type": "markdown",
   "metadata": {},
   "source": [
    "<div Style=\"max-width: 85%\">\n",
    "\t<div Style=\"text-align: justify ; font-size: 1.8rem ; margin-top: 2rem ; line-height: 1.5\">\n",
    "Similarly, we can simulate the b-ion series.</div>\n",
    "</div>"
   ]
  },
  {
   "cell_type": "code",
   "execution_count": 31,
   "metadata": {},
   "outputs": [
    {
     "data": {
      "text/plain": [
       "[(99.06841391, 1.0); (262.1317424, 1.0); (361.2001564, 1.0); (460.2685703, 1.0);\n",
       " (517.290034, 1.0); (646.3326271, 1.0); (761.3595701, 1.0); (818.3810338, 1.0);\n",
       " (931.4650978, 1.0); (1044.549162, 1.0); (1172.644125, 1.0)]"
      ]
     },
     "execution_count": 31,
     "metadata": {},
     "output_type": "execute_result"
    }
   ],
   "source": [
    "let ionSeriesB =\n",
    "    peptide\n",
    "    |> Mz.Fragmentation.Series.bOfBioList BioItem.initMonoisoMassWithMemP\n",
    "    |> List.map (fun aac -> aac.MainPeak.Mass,1.)\n",
    "\n",
    "ionSeriesB"
   ]
  },
  {
   "cell_type": "markdown",
   "metadata": {},
   "source": [
    "<div Style=\"max-width: 85%\">\n",
    "\t<div Style=\"text-align: justify ; font-size: 1.8rem ; margin-top: 2rem ; line-height: 1.5\">Now, we can just plot the simulated data and look at our theoretical spectrum.</div>\n",
    "</div>"
   ]
  },
  {
   "cell_type": "code",
   "execution_count": 33,
   "metadata": {},
   "outputs": [
    {
     "data": {
      "text/html": [
       "<div id=\"059df1c3-17ee-4799-a3f5-0af2378d2839\" style=\"width: 600px; height: 600px;\"><!-- Plotly chart will be drawn inside this DIV --></div>\n",
       "  <script>\n",
       "    var data = [{\"type\":\"bar\",\"x\":[99.06841391243,262.13174244386005,361.20015635629005,460.26857026872005,517.2900339887301,646.33262707502013,761.35957009717015,818.3810338171802,931.46509779375015,1044.54916177032,1172.6441247837602],\"y\":[1.0,1.0,1.0,1.0,1.0,1.0,1.0,1.0,1.0,1.0,1.0],\"marker\":{},\"name\":\"b ions\"},{\"type\":\"bar\",\"x\":[1190.6546894669002,1091.5862755544701,928.52294702304016,829.4545331106101,730.38611919818,673.36465547817,544.32206239188,429.29511936973,372.27365564972,259.18959167315,146.10552769658],\"y\":[1.0,1.0,1.0,1.0,1.0,1.0,1.0,1.0,1.0,1.0,1.0],\"marker\":{},\"name\":\"y ions\"}];\n",
       "    var layout = {};\n",
       "    var config = {};\n",
       "    Plotly.newPlot('059df1c3-17ee-4799-a3f5-0af2378d2839', data, layout, config);\n",
       "  </script>"
      ],
      "text/plain": [
       "MultiChart\n",
       "  ([FSharp.Plotly.Trace; FSharp.Plotly.Trace],FSharp.Plotly.Layout,\n",
       "   FSharp.Plotly.Config)"
      ]
     },
     "execution_count": 33,
     "metadata": {},
     "output_type": "execute_result"
    }
   ],
   "source": [
    "[    \n",
    "    Chart.Column (ionSeriesB, Name=\"b ions\")\n",
    "    Chart.Column (ionSeriesY, Name=\"y ions\")\n",
    "]\n",
    "|> Chart.Combine"
   ]
  },
  {
   "cell_type": "markdown",
   "metadata": {},
   "source": [
    "## References\n",
    "<ol Style=\"max-width: 85% ; text-align: justify ; font-size: 1.8rem ; margin-top: 2rem ; line-height: 1.5\">\n",
    "<li Value=\"31\" Id=\"31\"> Nesvizhskii, A. I., Vitek, O. & Aebersold, R. Analysis and validation of proteomic data generated by tandem mass spectrometry. Nature methods 4, 787–797; 10.1038/nmeth1088 (2007).\n",
    "<li Id=\"32\"> Medzihradszky, K. F. Peptide sequence analysis. Method Enzymol 402, 209–244; 10.1016/S0076-6879(05)02007-0 (2005).\n",
    "<li Id=\"33\"> Johnson, R. S., Martin, S. A., Biemann, K., Stults, J. T. & Watson, J. T. Novel fragmentation process of peptides by collision-induced decomposition in a tandem mass spectrometer: differentiation of leucine and isoleucine. Anal. Chem. 59, 2621–2625; 10.1021/Ac00148a019 (1987).\n",
    "<li Id=\"34\"> Mikesh, L. M. et al. The utility of ETD mass spectrometry in proteomic analysis. Biochimica et biophysica acta 1764, 1811–1822; 10.1016/j.bbapap.2006.10.003 (2006).\n",
    "<li Id=\"35\"> Forner, F., Foster, L. J. & Toppo, S. Mass spectrometry data analysis in the proteomics era. Curr Bioinform 2, 63–93; 10.2174/157489307779314285 (2007).\n",
    "<li Id=\"36\"> Steen, H. & Mann, M. The ABC's (and XYZ's) of peptide sequencing. Nat. Rev. Mol. Cell Biol. 5, 699–711; 10.1038/nrm1468 (2004).\n",
    "</ol>"
   ]
  },
  {
   "cell_type": "code",
   "execution_count": null,
   "metadata": {},
   "outputs": [],
   "source": []
  }
 ],
 "metadata": {
  "kernelspec": {
   "display_name": "F#",
   "language": "fsharp",
   "name": "ifsharp"
  },
  "language": "fsharp",
  "language_info": {
   "codemirror_mode": "",
   "file_extension": ".fs",
   "mimetype": "text/x-fsharp",
   "name": "fsharp",
   "nbconvert_exporter": "",
   "pygments_lexer": "",
   "version": "4.3.1.0"
  }
 },
 "nbformat": 4,
 "nbformat_minor": 2
}
