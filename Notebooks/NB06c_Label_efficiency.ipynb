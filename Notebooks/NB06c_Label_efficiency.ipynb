{
  "cells": [
    {
      "cell_type": "code",
      "execution_count": 1,
      "metadata": {
        "dotnet_interactive": {
          "language": "fsharp"
        }
      },
      "source": [
        "#r \"nuget: FSharp.Stats, 0.4.0\"\n",
        "#r \"nuget: BioFSharp, 2.0.0-beta5\"\n",
        "#r \"nuget: BioFSharp.IO, 2.0.0-beta5\"\n",
        "#r \"nuget: Plotly.NET, 2.0.0-beta6\"\n",
        "#r \"nuget: BIO-BTE-06-L-7_Aux, 0.0.8\"\n",
        "#r \"nuget: Deedle, 2.3.0\"\n",
        "#r \"nuget: ISADotNet, 0.2.4\"\n",
        "#r \"nuget: ISADotNet.XLSX, 0.2.4\"\n",
        "\n",
        "#r \"nuget: Plotly.NET, 2.0.0-beta6\"\n",
        "#r \"nuget: Plotly.NET.Interactive, 2.0.0-beta6\"\n",
        "\n",
        "open System.IO\n",
        "open ISADotNet\n",
        "open ISADotNet.API\n",
        "open Deedle\n",
        "open BioFSharp\n",
        "open FSharpAux\n",
        "open FSharp.Stats\n",
        "open Plotly.NET\n",
        "open System.IO\n",
        "open BIO_BTE_06_L_7_Aux.FS3_Aux\n",
        "open BIO_BTE_06_L_7_Aux.Deedle_Aux"
      ],
      "outputs": []
    },
    {
      "cell_type": "markdown",
      "metadata": {},
      "source": [
        "# NB06c Label efficiency\n",
        "\n",
        "[![Binder](https://mybinder.org/badge_logo.svg)](https://mybinder.org/v2/gh/CSBiology/BIO-BTE-06-L-7/gh-pages?filepath=NB06b_Label_efficiency.ipynb)\n",
        "\n",
        "[Download Notebook](https://github.com/CSBiology/BIO-BTE-06-L-7/releases/download/NB06c/NB06c_Label_efficiency.ipynb)\n",
        "\n",
        "Stable isotopic peptide labeling is the foundation of QconCAT experiments. While an excellent tool when carried out with correctly, it also exposes \n",
        "challenges and pitfalls that have to be checked and possibly accounted for. One of these pitfalls is the efficiency with which we labeled \n",
        "our QconCAT protein (Why?). In this notebook we will have a look at some high quality peptides selected in the previous notebook and \n",
        "illustrate how the label efficiency can be calculated using simulations.  \n",
        "\n",
        "## I. Reading the data\n",
        "As promised, we start this notebook with the output of the previous analysis, this notebook assumes that the data is stored locally:"
      ]
    },
    {
      "cell_type": "code",
      "execution_count": 1,
      "metadata": {
        "dotnet_interactive": {
          "language": "fsharp"
        }
      },
      "source": [
        "type Qprot = \n",
        "    | CBB\n",
        "    | PS \n",
        "\n",
        "type PeptideIon = \n",
        "    {|\n",
        "        ProteinGroup    : string  \n",
        "        Synonyms        : string\n",
        "        StringSequence  : string\n",
        "        PepSequenceID   : int\n",
        "        Charge          : int\n",
        "        QProt           : Qprot\n",
        "    |}\n",
        "\n",
        "//This is the filepath you chose in *NB06b Data Access and Quality Control*\n",
        "let filePath = @\"C:\\YourPath\\testOut.txt\"\n",
        "\n",
        "// What is different about this function from the one known from the last notebook?\n",
        "let qConcatDataFiltered =\n",
        "    Frame.ReadCsv(path = filePath,separators=\"\\t\")\n",
        "    // StringSequence is the peptide sequence\n",
        "    |> Frame.indexRowsUsing (fun os -> \n",
        "            let proteinGroup = os.GetAs<string>(\"ProteinGroup\")\n",
        "            let qprot = \n",
        "                match proteinGroup |> String.contains \"QProt_newCBB\", proteinGroup |> String.contains \"QProt_newPS\" with \n",
        "                | true, false  -> Some CBB\n",
        "                | false, true  -> Some PS \n",
        "                | _ -> None  \n",
        "            {|\n",
        "                ProteinGroup    = os.GetAs<string>(\"ProteinGroup\"); \n",
        "                Synonyms        = os.GetAs<string>(\"Synonyms\")\n",
        "                StringSequence  = os.GetAs<string>(\"StringSequence\");\n",
        "                PepSequenceID   = os.GetAs<int>(\"PepSequenceID\");\n",
        "                Charge          = os.GetAs<int>(\"Charge\");\n",
        "                QProt           = qprot;\n",
        "            |}\n",
        "        )\n",
        "    |> Frame.filterRows (fun k s -> k.QProt.IsSome)\n",
        "    |> Frame.mapRowKeys (fun k -> {|k with QProt = k.QProt.Value|})\n",
        "\n",
        "qConcatDataFiltered.ColumnKeys\n",
        "|> Array.ofSeq"
      ],
      "outputs": []
    },
    {
      "cell_type": "markdown",
      "metadata": {},
      "source": [
        "First we reuse a proved pattern and define a function to manipulate our frame"
      ]
    },
    {
      "cell_type": "code",
      "execution_count": 1,
      "metadata": {
        "dotnet_interactive": {
          "language": "fsharp"
        }
      },
      "source": [
        "let sliceQuantColumns quantColID frame = \n",
        "    frame\n",
        "    |> Frame.filterCols (fun ck os -> ck |> String.contains (\".\" + quantColID))\n",
        "    |> Frame.mapColKeys (fun ck -> ck.Split('.') |> Array.item 0)"
      ],
      "outputs": []
    },
    {
      "cell_type": "markdown",
      "metadata": {},
      "source": [
        "Besides already familiar slices..."
      ]
    },
    {
      "cell_type": "code",
      "execution_count": 1,
      "metadata": {
        "dotnet_interactive": {
          "language": "fsharp"
        }
      },
      "source": [
        "let heavy = sliceQuantColumns \"Heavy\" qConcatDataFiltered"
      ],
      "outputs": []
    },
    {
      "cell_type": "markdown",
      "metadata": {},
      "source": [
        "... we can also use this function for information needed to reconstruct isotopic patterns.\n",
        "\n",
        "## II. Extraction and visualization of measured isotopic envelopes."
      ]
    },
    {
      "cell_type": "code",
      "execution_count": 1,
      "metadata": {
        "dotnet_interactive": {
          "language": "fsharp"
        }
      },
      "source": [
        "let heavyPatternMz = sliceQuantColumns \"heavyPatternMz\" qConcatDataFiltered\n",
        "let heavyPatternI  = sliceQuantColumns \"heavyPatternI\" qConcatDataFiltered"
      ],
      "outputs": []
    },
    {
      "cell_type": "markdown",
      "metadata": {},
      "source": [
        "Now, there's a challenge: The info to reconstruct an isotopic pattern is\n",
        "separated into two columns, the x component (heavyPatternMz) and the y component (heavyPatternI).\n",
        "As always, this challenged can be solved using a function! \n",
        "Hint: Note how we define a function 'floatArrayOf' that specifies how the string is parsed. "
      ]
    },
    {
      "cell_type": "code",
      "execution_count": 1,
      "metadata": {
        "dotnet_interactive": {
          "language": "fsharp"
        }
      },
      "source": [
        "let getHeavyPatternsInFile fileName = \n",
        "    let floatArrayOf s = \n",
        "        if String.isNullOrEmpty s then \n",
        "            [||]\n",
        "        else\n",
        "            s\n",
        "            |> String.split (';') \n",
        "            |> Array.map float\n",
        "    let mz = \n",
        "        heavyPatternMz \n",
        "        |> Frame.getCol fileName \n",
        "        |> Series.mapValues floatArrayOf\n",
        "    let intensities = \n",
        "        heavyPatternI \n",
        "        |> Frame.getCol fileName \n",
        "        |> Series.mapValues floatArrayOf\n",
        "    let zipped = Series.zipInner mz intensities\n",
        "    zipped\n",
        "\n",
        "let extractedPatterns = getHeavyPatternsInFile \"WCGr1_U1\""
      ],
      "outputs": []
    },
    {
      "cell_type": "markdown",
      "metadata": {},
      "source": [
        "Additionally, we can write two functions to plot the patterns of a peptide. When it comes\n",
        "to the build the chart (plotIsotopicPattern), things get a little bit trickier, but this is not necessarily your concern. Please inspect the Chart \n",
        "created by 'plotIsotopicPatternOf' and write correct descriptions for the x and the y axis. (Fill: |> Chart.withX_AxisStyle \"\" and |> Chart.withY_AxisStyle \"\")"
      ]
    },
    {
      "cell_type": "code",
      "execution_count": 1,
      "metadata": {
        "dotnet_interactive": {
          "language": "fsharp"
        }
      },
      "source": [
        "let plotIsotopicPattern color mzsAndintensities =\n",
        "    let min,max =\n",
        "        mzsAndintensities |> Seq.minBy fst |> fst,\n",
        "        mzsAndintensities |> Seq.maxBy fst |> fst\n",
        "    Seq.map (fun (x,y) -> \n",
        "        Chart.Line([x;x],[0.;y], Showlegend = false)\n",
        "        |> Chart.withLineStyle (Width = 7)\n",
        "    ) mzsAndintensities\n",
        "    |> Chart.Combine\n",
        "    |> Chart.withMarkerStyle(Size=0,Color = FSharpAux.Colors.toWebColor color)\n",
        "    |> Chart.withX_AxisStyle (\"\", MinMax = (min - 1., max + 1.))\n",
        "    |> Chart.withY_AxisStyle \"\"\n",
        "\n",
        "type ExtractedIsoPattern = \n",
        "    {|\n",
        "        PeptideSequence : PeptideIon\n",
        "        Charge          : int\n",
        "        Pattern         : seq<(float*float)>\n",
        "    |}\n",
        "\n",
        "let getIsotopicPattern peptideSequence charge =\n",
        "    let (k,(mzs,intensities)) = \n",
        "        extractedPatterns\n",
        "        |> Series.observations\n",
        "        |> Seq.find (fun (k,(mzs,intensities)) -> \n",
        "                k.StringSequence = peptideSequence && k.Charge = charge\n",
        "            )\n",
        "    {|\n",
        "        PeptideSequence=k\n",
        "        Charge  = charge\n",
        "        Pattern = Seq.zip mzs intensities\n",
        "    |}"
      ],
      "outputs": []
    },
    {
      "cell_type": "code",
      "execution_count": 1,
      "metadata": {
        "dotnet_interactive": {
          "language": "fsharp"
        }
      },
      "source": [
        "let examplePep1 = getIsotopicPattern \"DTDILAAFR\" 2\n",
        "\n",
        "plotIsotopicPattern FSharpAux.Colors.Table.Office.blue examplePep1.Pattern"
      ],
      "outputs": []
    },
    {
      "cell_type": "code",
      "execution_count": 1,
      "metadata": {
        "dotnet_interactive": {
          "language": "fsharp"
        }
      },
      "source": [
        "let examplePep2 = getIsotopicPattern \"LTYYTPDYVVR\" 2\n",
        "\n",
        "plotIsotopicPattern FSharpAux.Colors.Table.Office.blue examplePep2.Pattern"
      ],
      "outputs": []
    },
    {
      "cell_type": "markdown",
      "metadata": {},
      "source": [
        "## III. Simulation of isotopic patterns: revisited.\n",
        "\n",
        "Now that we visualized the patterns of two sample peptides, we will simulate theoretical patterns\n",
        "and compare them to the ones we measured! You will recognize a lot of the used code from *NB02c Isotopic distribution*\n",
        "Note: we copy the code so you can make yourself familiar with it, of course we could also reference functions defined beforehand."
      ]
    },
    {
      "cell_type": "code",
      "execution_count": 1,
      "metadata": {
        "dotnet_interactive": {
          "language": "fsharp"
        }
      },
      "source": [
        "// create chemical formula for amino acid and add water to reflect hydrolysed state in mass spectrometer\n",
        "let toFormula bioseq =  \n",
        "    bioseq\n",
        "    |> BioSeq.toFormula\n",
        "    // peptides are hydrolysed in the mass spectrometer, so we add H2O\n",
        "    |> Formula.add Formula.Table.H2O\n",
        "\n",
        "let label n15LableEfficiency formula =\n",
        "    let heavyN15 = Elements.Di  (Elements.createDi \"N15\" (Isotopes.Table.N15,n15LableEfficiency) (Isotopes.Table.N14,1.-n15LableEfficiency) )\n",
        "    Formula.replaceElement formula Elements.Table.N heavyN15\n",
        "\n",
        "// Predicts an isotopic distribution of the given formula at the given charge, \n",
        "// normalized by the sum of probabilities, using the MIDAs algorithm\n",
        "let generateIsotopicDistribution (charge:int) (f:Formula.Formula) =\n",
        "    IsotopicDistribution.MIDA.ofFormula \n",
        "        IsotopicDistribution.MIDA.normalizeByProbSum\n",
        "        0.01\n",
        "        0.000000001\n",
        "        charge\n",
        "        f\n",
        "\n",
        "type SimulatedIsoPattern = \n",
        "    {|\n",
        "        PeptideSequence : string\n",
        "        Charge          : int\n",
        "        LableEfficiency : float\n",
        "        SimPattern      : list<(float*float)>\n",
        "    |}\n",
        "\n",
        "let simulateFrom peptideSequence charge lableEfficiency =\n",
        "    let simPattern =\n",
        "        peptideSequence\n",
        "        |> BioSeq.ofAminoAcidString\n",
        "        |> toFormula \n",
        "        |> label lableEfficiency\n",
        "        |> generateIsotopicDistribution charge     \n",
        "    {|\n",
        "        PeptideSequence = peptideSequence\n",
        "        Charge          = charge\n",
        "        LableEfficiency = lableEfficiency\n",
        "        SimPattern      = simPattern\n",
        "    |}"
      ],
      "outputs": []
    },
    {
      "cell_type": "code",
      "execution_count": 1,
      "metadata": {
        "dotnet_interactive": {
          "language": "fsharp"
        }
      },
      "source": [
        "let examplePep2_Sim1 = simulateFrom \"LTYYTPDYVVR\" 2 0.95\n",
        "\n",
        "plotIsotopicPattern FSharpAux.Colors.Table.Office.orange examplePep2_Sim1.SimPattern"
      ],
      "outputs": []
    },
    {
      "cell_type": "code",
      "execution_count": 1,
      "metadata": {
        "dotnet_interactive": {
          "language": "fsharp"
        }
      },
      "source": [
        "let examplePep2_Sim2 = simulateFrom \"LTYYTPDYVVR\" 2 0.99\n",
        "\n",
        "plotIsotopicPattern FSharpAux.Colors.Table.Office.orange examplePep2_Sim2.SimPattern"
      ],
      "outputs": []
    },
    {
      "cell_type": "markdown",
      "metadata": {},
      "source": [
        "## IV. Comparing measured and theoretical isotopic patterns.\n",
        "\n",
        "As we see, there is a discrepancy between real and simulated patterns, both in peak height and in peak count. \n",
        "But before we compare both patterns, we have to take some things into consideration.\n",
        "While both patterns are normalized in a way that their intensities\n",
        "sum to 1., they were normalized independently from each other. Since it is often not possible to \n",
        "extract all peaks of an isotopic pattern from a MS run (e.g. due to measurement inaccuracies), we have to \n",
        "write a function which filters the simulated patterns for those peaks present in the experimentally \n",
        "measured one. Then we normalize it again and have two spectra that can be compared.\n",
        "// How are distributions called that sum up to 1?"
      ]
    },
    {
      "cell_type": "code",
      "execution_count": 1,
      "metadata": {
        "dotnet_interactive": {
          "language": "fsharp"
        }
      },
      "source": [
        "let normBySum (a:seq<float*float>) =\n",
        "    let s = Seq.sumBy snd a \n",
        "    Seq.map (fun (x,y) -> x,y / s) a\n",
        "\n",
        "let compareIsotopicDistributions (measured:ExtractedIsoPattern) (simulated:SimulatedIsoPattern)= \n",
        "    let patternSim' = \n",
        "        measured.Pattern \n",
        "        |> Seq.map (fun (mz,intensities) -> \n",
        "                mz,\n",
        "                simulated.SimPattern\n",
        "                |> Seq.filter (fun (mzSim,intensitiesSim) -> abs(mzSim-mz) < 0.05 )\n",
        "                |> Seq.sumBy snd\n",
        "            )\n",
        "        |> normBySum\n",
        "    {|\n",
        "        Plot = \n",
        "            [\n",
        "            plotIsotopicPattern FSharpAux.Colors.Table.Office.blue measured.Pattern\n",
        "            plotIsotopicPattern FSharpAux.Colors.Table.Office.orange patternSim'\n",
        "            ]\n",
        "            |> Chart.Combine\n",
        "    |}"
      ],
      "outputs": []
    },
    {
      "cell_type": "code",
      "execution_count": 1,
      "metadata": {
        "dotnet_interactive": {
          "language": "fsharp"
        }
      },
      "source": [
        "let comp1 = compareIsotopicDistributions examplePep2 examplePep2_Sim1\n",
        "comp1.Plot"
      ],
      "outputs": []
    },
    {
      "cell_type": "code",
      "execution_count": 1,
      "metadata": {
        "dotnet_interactive": {
          "language": "fsharp"
        }
      },
      "source": [
        "let comp2 = compareIsotopicDistributions examplePep2 examplePep2_Sim2\n",
        "comp2.Plot"
      ],
      "outputs": []
    },
    {
      "cell_type": "markdown",
      "metadata": {},
      "source": [
        "Comparing both simulations, we see that the simulation with a label efficiency of 0.99 fits the measured spectra better than the simulation with 0.95.\n",
        "But since we do not want to find a better fit, but the best fit to our measured pattern, this is no goal that is achievable in a feasable way \n",
        "using visual inspections. As a solution we utilize the fact that isotopic patterns can be abstracted as ___ ___ (See: How are distributions called that sum up to 1?) distributions.\n",
        "A measure to compare measured and theoretical distributions is the kullback leibler divergence. The following code block extends the function \n",
        "'compareIsotopicDistributions' to compute the KL divergence between the precisely measured distribution p and our approximation \n",
        "of p (q) using the mida algorithm. "
      ]
    },
    {
      "cell_type": "code",
      "execution_count": 1,
      "metadata": {
        "dotnet_interactive": {
          "language": "fsharp"
        }
      },
      "source": [
        "/// Calculates the Kullback-Leibler divergence Dkl(p||q) from q (theory, model, description, or approximation of p) \n",
        "/// to p (the \"true\" distribution of data, observations, or a ___ ___ precisely measured).\n",
        "let klDiv (p:seq<float>) (q:seq<float>) = \n",
        "    Seq.fold2 (fun acc p q -> (System.Math.Log(p/q)*p) + acc ) 0. p q\n",
        "\n",
        "let compareIsotopicDistributions' (measured:ExtractedIsoPattern) (simulated:SimulatedIsoPattern)= \n",
        "    let patternSim' = \n",
        "        measured.Pattern \n",
        "        |> Seq.map (fun (mz,intensities) -> \n",
        "                mz,\n",
        "                simulated.SimPattern\n",
        "                |> Seq.filter (fun (mzSim,intensitiesSim) -> abs(mzSim-mz) < 0.05 )\n",
        "                |> Seq.sumBy snd\n",
        "            )\n",
        "        |> normBySum\n",
        "    let klDiv = klDiv (patternSim' |> Seq.map snd)  (measured.Pattern |> Seq.map snd)\n",
        "    {|\n",
        "        KLDiv = klDiv\n",
        "        Plot  = \n",
        "            [\n",
        "            plotIsotopicPattern FSharpAux.Colors.Table.Office.blue measured.Pattern\n",
        "            plotIsotopicPattern FSharpAux.Colors.Table.Office.orange patternSim'\n",
        "            ]\n",
        "            |> Chart.Combine\n",
        "    |}"
      ],
      "outputs": []
    },
    {
      "cell_type": "markdown",
      "metadata": {},
      "source": [
        "## V. Determining the lable efficiency: an optimiziation problem.\n",
        "\n",
        "Using this function we can now visualize the kullback leibler divergence between\n",
        "different models and the two peptides we measured. Since the lower the divergence. We will\n",
        "also visualize the pattern with the best fit. Please inspect the Chart created by 'Chart.Point(lableEfficiency,comparison |> Seq.map (fun x -> x.KLDiv))' \n",
        "and write correct descriptions for the x and the y axis. (Fill: |> Chart.withX_AxisStyle \"\" and |> Chart.withY_AxisStyle \"\")"
      ]
    },
    {
      "cell_type": "code",
      "execution_count": 1,
      "metadata": {
        "dotnet_interactive": {
          "language": "fsharp"
        }
      },
      "source": [
        "let lableEfficiency,comparison = \n",
        "    [|0.95 .. 0.001 .. 0.999|]\n",
        "    |> Array.map (fun lableEfficiency -> \n",
        "            let sim = simulateFrom \"DTDILAAFR\" 2 lableEfficiency\n",
        "            let comp = compareIsotopicDistributions' examplePep1 sim\n",
        "            lableEfficiency,\n",
        "            comp\n",
        "        )\n",
        "    |> Seq.unzip \n",
        "let bestFit = comparison |> Seq.minBy (fun x -> x.KLDiv) \n",
        "\n",
        "Chart.Point(lableEfficiency,comparison |> Seq.map (fun x -> x.KLDiv))\n",
        "|> Chart.withX_AxisStyle \"\"\n",
        "|> Chart.withY_AxisStyle \"\""
      ],
      "outputs": []
    },
    {
      "cell_type": "code",
      "execution_count": 1,
      "metadata": {
        "dotnet_interactive": {
          "language": "fsharp"
        }
      },
      "source": [
        "bestFit.Plot"
      ],
      "outputs": []
    },
    {
      "cell_type": "code",
      "execution_count": 1,
      "metadata": {
        "dotnet_interactive": {
          "language": "fsharp"
        }
      },
      "source": [
        "let lableEfficiency2,comparison2 = \n",
        "    [|0.95 .. 0.001 .. 0.999|]\n",
        "    |> Array.map (fun lableEfficiency -> \n",
        "            let sim = simulateFrom \"LTYYTPDYVVR\" 2 lableEfficiency\n",
        "            let comp = compareIsotopicDistributions' examplePep2 sim\n",
        "            lableEfficiency,\n",
        "            comp\n",
        "        )\n",
        "    |> Seq.unzip \n",
        "\n",
        "let bestFit2 = comparison2 |> Seq.minBy (fun x -> x.KLDiv) \n",
        "\n",
        "Chart.Point(lableEfficiency2,comparison2 |> Seq.map (fun x -> x.KLDiv))\n",
        "|> Chart.withX_AxisStyle \"\"\n",
        "|> Chart.withY_AxisStyle \"\""
      ],
      "outputs": []
    },
    {
      "cell_type": "code",
      "execution_count": 1,
      "metadata": {
        "dotnet_interactive": {
          "language": "fsharp"
        }
      },
      "source": [
        "bestFit2.Plot"
      ],
      "outputs": []
    },
    {
      "cell_type": "markdown",
      "metadata": {},
      "source": [
        "Observing the output, we can make two observations: the function x(lablefficiency) = KL(measured,sim(lableeffciency)) has in both cases a local minimum\n",
        "that is similar, yet slightly different for peptides \"LTYYTPDYVVR\" and \"DTDILAAFR\", and that the best fit resembles the measured distribution closely, but not\n",
        "perfectly, what is the reason for this?\n",
        "\n",
        "Finding this local minimum will give us the best estimator for the lable efficiency. This can be done using brute force approaches (as we just did) \n",
        "or more elaborate optimization techniques. For this we will use an algorithm called 'Brent's method'. This method is more precise and speeds up the calculation time (Why?). \n",
        "How close are the estimates?"
      ]
    },
    {
      "cell_type": "code",
      "execution_count": 1,
      "metadata": {
        "dotnet_interactive": {
          "language": "fsharp"
        }
      },
      "source": [
        "let calcKL peptideSequence charge lableEfficiency = \n",
        "    let measured = getIsotopicPattern peptideSequence charge\n",
        "    let sim = simulateFrom peptideSequence charge lableEfficiency\n",
        "    let comp = compareIsotopicDistributions' measured sim\n",
        "    comp.KLDiv\n",
        "\n",
        "let est1 = Optimization.Brent.minimize (calcKL \"DTDILAAFR\" 2) 0.98 0.999\n",
        "let est2 = Optimization.Brent.minimize (calcKL \"LTYYTPDYVVR\" 2) 0.98 0.999"
      ],
      "outputs": []
    },
    {
      "cell_type": "markdown",
      "metadata": {},
      "source": [
        "Since the estimates have a certain level of uncertainty we will repeat the estimation for \n",
        "some high intensity peptides and visualize the results. Please fill the x axis description (|> Chart.withX_AxisStyle \"\")"
      ]
    },
    {
      "cell_type": "code",
      "execution_count": 1,
      "metadata": {
        "dotnet_interactive": {
          "language": "fsharp"
        }
      },
      "source": [
        "let highIntensityPeptides = \n",
        "    heavy\n",
        "    |> Frame.getCol \"WCGr1_U1\" \n",
        "    |> Series.sortBy (fun (x:float) -> - x)\n",
        "    |> Series.filter (fun k v -> k.StringSequence |> String.exists (fun x -> x='[') |> not)\n",
        "\n",
        "let estimates = \n",
        "    highIntensityPeptides\n",
        "    |> Series.take 20 \n",
        "    |> Series.map (fun k v -> \n",
        "        FSharp.Stats.Optimization.Brent.minimize (calcKL k.StringSequence k.Charge) 0.98 0.999\n",
        "        )\n",
        "    |> Series.values\n",
        "    |> Seq.choose id\n",
        "\n",
        "Chart.BoxPlot estimates\n",
        "|> Chart.withX_AxisStyle \"\""
      ],
      "outputs": []
    },
    {
      "cell_type": "markdown",
      "metadata": {},
      "source": [
        "Now that we know more than an educated guess of an lable efficiency estimate we can start with our main goal:\n",
        "the absolute quantification of chlamydomonas proteins!"
      ]
    }
  ],
  "metadata": {
    "kernelspec": {
      "display_name": ".NET (C#)",
      "language": "C#",
      "name": ".net-csharp"
    },
    "language_info": {
      "file_extension": ".cs",
      "mimetype": "text/x-csharp",
      "name": "C#",
      "pygments_lexer": "csharp",
      "version": "8.0"
    }
  },
  "nbformat": 4,
  "nbformat_minor": 4
}
