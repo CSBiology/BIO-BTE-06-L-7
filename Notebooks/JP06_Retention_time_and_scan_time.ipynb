{
 "cells": [
  {
   "cell_type": "markdown",
   "metadata": {},
   "source": [
    "<h1 Style=\"font-size: 3rem\" >Retention time and scan time</h1>\n",
    "\n",
    "1. [Retention time and scan time](#Retention-time-and-scan-time)\n",
    "6. [References](#References)"
   ]
  },
  {
   "cell_type": "markdown",
   "metadata": {},
   "source": [
    "## Retention time and scan time\n",
    "\n",
    "<div Style=\"max-width: 85%\">\n",
    "    <div Style=\"text-align: justify ; font-size: 1.8rem ; margin-top: 2rem ; line-height : 1.5\">\n",
    "In general, peptides are separated by one or more steps of liquid chromatography (LC). The retention time (RT) is the time when the measured peptides were eluting from the column and is therefore influenced by the physicochemical interaction of the particular peptide with the column material. Scan time is basically synonym to retention time, but more from the aperture point of view.\n",
    "    </div>\n",
    "\n",
    "Figure x. Simulation of an MS1 spectrum (random)\n",
    "\n",
    "Figure x. Simulation of an MS1 spectrum (random) versus (ret. Time based)\n",
    "</div>"
   ]
  },
  {
   "cell_type": "markdown",
   "metadata": {},
   "source": [
    "## References\n",
    "\n",
    "<ol Style=\"max-width: 85% ; text-align: justify ; font-size: 1.8rem ; margin-top: 2rem ; line-height: 1.5\">\n",
    "<li Id=\"exmp\">exmp</li>\n",
    "\n",
    "</ol>"
   ]
  },
  {
   "cell_type": "code",
   "execution_count": null,
   "metadata": {},
   "outputs": [],
   "source": []
  }
 ],
 "metadata": {
  "kernelspec": {
   "display_name": "Python 3",
   "language": "python",
   "name": "python3"
  },
  "language_info": {
   "codemirror_mode": {
    "name": "ipython",
    "version": 3
   },
   "file_extension": ".py",
   "mimetype": "text/x-python",
   "name": "python",
   "nbconvert_exporter": "python",
   "pygments_lexer": "ipython3",
   "version": "3.7.4"
  }
 },
 "nbformat": 4,
 "nbformat_minor": 2
}
