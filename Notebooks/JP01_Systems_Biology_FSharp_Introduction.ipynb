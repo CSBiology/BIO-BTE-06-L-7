{
 "cells": [
  {
   "cell_type": "markdown",
   "metadata": {},
   "source": [
    "<h1 Style=\"font-size: 3rem\" >Systems Biology</h1>\n",
    "\n",
    "<div Style=\"text-align: justify ; font-size: 1.8rem ; margin-top: 2rem ; line-height : 1.5\">\n",
    "This notebook is meant as a small cheat sheet for the FSharp programming language. You should read up on <a href=\"#Comments\">Comments</a>  first so you don't get confused if explanatory text is written in the code blocks.\n",
    "</div>\n",
    "\n",
    "1. [Introduction](#Introduction)\n",
    "2. [Variables (but not really)](#Variables-(but-not-really))\n",
    "3. [Lists & Arrays](#Lists-&-Arrays)\n",
    "4. [Functions](#Functions)\n",
    "5. [Control flow expressions](#Control-flow-expressions)<br>\n",
    " 5.1 [Pattern Matching](#Pattern-Matching)<br>\n",
    " 5.2 [if-then-else](#if-then-else)<br>\n",
    "6. [Complex Data Types](#Complex-Data-Types)<br>\n",
    "  6.1 [Tuples](#Tuples)<br>\n",
    "  6.2 [Record Types](#Record-Types)<br>\n",
    "  6.3 [Comments](#Comments) <br>"
   ]
  },
  {
   "cell_type": "markdown",
   "metadata": {},
   "source": [
    "## Introduction\n",
    "\n",
    "<div Style=\"max-width: 85%\">\n",
    "    <img src=\"img/SystemsBiology_Figure1.png\" Style=\"float: right ; display: inline-block\">\n",
    "    <div Style=\"text-align: justify ; font-size: 1.8rem ; margin-top: 2rem ; line-height: 1.5\">\n",
    "The term “systems theory” was introduced by the biologist L. von Bertalanffy. He defined a system as a set of related components that work together in a particular environment to perform whatever functions are required to achieve the system's objective<sup><a href=\"#1\">1</a></sup>. The hierarchical organization orchestrating the interaction of thousands of molecules with individual properties allows complex biological functions. Biological processes like cell division, biomass production, or a systemic response to perturbations are molecular physiological functions which result from a complex dynamic interplay between genes, proteins and metabolites (Figure 1). To gain a holistic understanding of a biological system, all parts of the system need to be studied simultaneously by quantitative measures<sup><a href=\"#2\">2</a></sup>. The focus on a system-wide perspective lies on the quantitative understanding of the organizational structure, functional state, robustness and dynamics of a biological system and led to the coining of the term “Systems Biology”<sup><a href=\"#3\">3</a></sup>.\n",
    "    </div>\n",
    "    <div Style=\"text-align: justify ; font-size: 1.8rem ; margin-top: 2rem ; line-height: 1.5\">\n",
    "The current challenges of Systems Biology approaches are mainly along four lines<sup><a href=\"#2\">2</a>,<a href=\"#4\">4</a></sup>: (i) system-wide quantification of transcriptome, proteome (including protein modifications) and metabolome; (ii) identification of physical interactions between these components; (iii) inference of structure, type and quantity of found interactions; and (iv) analysis and integration of the resulting large amounts of heterogeneous data. It becomes obvious that an interdisciplinary effort is needed to resolve these challenges in Systems Biology<sup><a href=\"#5\">5</a></sup>. Here Biology dictates which analytical, experimental and computational methods are required.\n",
    "    </div>\n",
    "    <div Style=\"text-align: justify ; font-size: 1.8rem ; margin-top: 2rem ; line-height: 1.5\">\n",
    "Modern analytical methods to measure the identity and quantity of biomolecules system-wide, summarized under the term “quantitative omics”-technologies, address the first two mentioned challenges of Systems Biology. Among these “omics”-technologies are transcriptomics based on microarrays/next generation sequencing and proteomics/metabolomics based on mass-spectrometry.\n",
    "    </div>\n",
    "    <div Style=\"text-align: justify ; font-size: 1.8rem ; margin-top: 2rem ; line-height: 1.5\">\n",
    "Tying in with the area of genome sequencing, the focus is set on the accurate profiling of gene/protein expression and metabolite concentrations, as well as on the determination of biological protein modifications and of physical interactions between proteins.\n",
    "    </div>\n",
    "    <div Style=\"text-align: justify ; font-size: 1.8rem ; margin-top: 2rem ; line-height: 1.5\">\n",
    "Addressing the abovementioned challenges three and four of Systems Biology, the development of numerous computational approaches reaches out to unravel the intrinsic complexity of biological systems<sup><a href=\"#6\">6</a></sup>. These computational approaches focus on knowledge discovery and on in silico simulation or modeling<sup><a href=\"#7\">7</a></sup>. In the latter approach knowledge on a biological process is converted into a mathematical model. In silico simulations based on such a model can provide predictions that may subsequently be tested experimentally. Computation-based knowledge discovery (also known as data mining) aims to extract hidden patterns from complex and high-dimensional data to generate hypotheses. Therefore, the first step is to describe information on a biological system such that it is sustainably stored in a format rendering it readable and manipulable for machines and humans. The second step is to integrate the huge amount of differently structured data, often referred to as the “big data” challenge. In a last step, statistical or machine learning methods are applied to extract the information or underlying principles hidden in the data.\n",
    "    </div>\n",
    "    <div Style=\"text-align: justify ; font-size: 1.8rem ; margin-top: 2rem ; line-height: 1.5\">\n",
    "The most flexible way of working with huge amounts of data is using a lightweight programming language with a succinct syntax. Therefore, it becomes necessary that biologist become familiar with a suitable programming language to solve real world problems in (Systems) Biology.\n",
    "    </div>\n",
    "</div>"
   ]
  },
  {
   "cell_type": "markdown",
   "metadata": {},
   "source": [
    "## Variable (but not really)\n",
    "\n",
    "<div Style=\"text-align: justify ; font-size: 1.8rem ; margin-top: 2rem ; line-height : 1.5\">\n",
    "    The <code>let</code> keyword defines an (immutable) value.\n",
    "</div>"
   ]
  },
  {
   "cell_type": "code",
   "execution_count": 1,
   "metadata": {},
   "outputs": [
    {
     "data": {
      "text/plain": [
       "5"
      ]
     },
     "execution_count": 1,
     "metadata": {},
     "output_type": "execute_result"
    }
   ],
   "source": [
    "let myInt = 5\n",
    "myInt"
   ]
  },
  {
   "cell_type": "code",
   "execution_count": 2,
   "metadata": {},
   "outputs": [
    {
     "data": {
      "text/plain": [
       "3.14"
      ]
     },
     "execution_count": 2,
     "metadata": {},
     "output_type": "execute_result"
    }
   ],
   "source": [
    "let myFloat = 3.14\n",
    "myFloat"
   ]
  },
  {
   "cell_type": "code",
   "execution_count": 3,
   "metadata": {},
   "outputs": [
    {
     "data": {
      "text/plain": [
       "\"hello\""
      ]
     },
     "execution_count": 3,
     "metadata": {},
     "output_type": "execute_result"
    }
   ],
   "source": [
    "let myString = \"hello\"\n",
    "myString"
   ]
  },
  {
   "cell_type": "markdown",
   "metadata": {},
   "source": [
    "## Lists & Arrays\n",
    "\n",
    "<div Style=\"text-align: justify ; font-size: 1.8rem ; margin-top: 2rem ; line-height : 1.5\">\n",
    "    Square brackets <code>[]</code> create a list with semicolon <code>;</code> delimiters.\n",
    "</div>"
   ]
  },
  {
   "cell_type": "code",
   "execution_count": 4,
   "metadata": {},
   "outputs": [
    {
     "data": {
      "text/plain": [
       "[2; 3; 4; 5]"
      ]
     },
     "execution_count": 4,
     "metadata": {},
     "output_type": "execute_result"
    }
   ],
   "source": [
    "let twoToFive = [2; 3; 4; 5]\n",
    "twoToFive"
   ]
  },
  {
   "cell_type": "markdown",
   "metadata": {},
   "source": [
    "<div Style=\"text-align: justify ; font-size: 1.8rem ; margin-top: 2rem ; line-height : 1.5\">\n",
    "    <code>::</code> creates a list with a new 1st element.\n",
    "</div>"
   ]
  },
  {
   "cell_type": "code",
   "execution_count": 5,
   "metadata": {},
   "outputs": [
    {
     "data": {
      "text/plain": [
       "[1; 2; 3; 4; 5]"
      ]
     },
     "execution_count": 5,
     "metadata": {},
     "output_type": "execute_result"
    }
   ],
   "source": [
    "let oneToFive = 1::twoToFive\n",
    "oneToFive"
   ]
  },
  {
   "cell_type": "markdown",
   "metadata": {},
   "source": [
    "<div Style=\"text-align: justify ; font-size: 1.8rem ; margin-top: 2rem ; line-height : 1.5\">\n",
    "    Square brackets with dashes <code>[||]</code> create an array with semicolon <code>;</code> delimiters.\n",
    "</div>"
   ]
  },
  {
   "cell_type": "code",
   "execution_count": 6,
   "metadata": {},
   "outputs": [],
   "source": [
    "let oneToFour = [|1; 2; 3; 4|]"
   ]
  },
  {
   "cell_type": "markdown",
   "metadata": {},
   "source": [
    "<div Style=\"text-align: justify ; font-size: 1.8rem ; margin-top: 2rem ; line-height : 1.5\">\n",
    "    Elements can be accessed using dot <code>.[i]</code>\n",
    "</div>"
   ]
  },
  {
   "cell_type": "code",
   "execution_count": 7,
   "metadata": {},
   "outputs": [
    {
     "data": {
      "text/plain": [
       "1"
      ]
     },
     "execution_count": 7,
     "metadata": {},
     "output_type": "execute_result"
    }
   ],
   "source": [
    "oneToFour.[0]"
   ]
  },
  {
   "cell_type": "markdown",
   "metadata": {},
   "source": [
    "<div Style=\"text-align: justify ; font-size: 1.8rem ; margin-top: 2rem ; line-height : 1.5\">\n",
    "    IMPORTANT: commas are <b>never</b> used as delimiters, only semicolons!\n",
    "</div>"
   ]
  },
  {
   "cell_type": "markdown",
   "metadata": {},
   "source": [
    "## Functions\n",
    "<div Style=\"text-align: justify ; font-size: 1.8rem ; margin-top: 2rem ; line-height : 1.5\">\n",
    "    The <code>let</code> keyword also defines a named function.\n",
    "</div>"
   ]
  },
  {
   "cell_type": "code",
   "execution_count": 8,
   "metadata": {},
   "outputs": [
    {
     "data": {
      "text/plain": [
       "9"
      ]
     },
     "execution_count": 8,
     "metadata": {},
     "output_type": "execute_result"
    }
   ],
   "source": [
    "let square x = x * x\n",
    "square 3"
   ]
  },
  {
   "cell_type": "code",
   "execution_count": 9,
   "metadata": {},
   "outputs": [
    {
     "data": {
      "text/plain": [
       "5"
      ]
     },
     "execution_count": 9,
     "metadata": {},
     "output_type": "execute_result"
    }
   ],
   "source": [
    "let add x y = x + y\n",
    "add 2 3"
   ]
  },
  {
   "cell_type": "markdown",
   "metadata": {},
   "source": [
    "<div Style=\"text-align: justify ; font-size: 1.8rem ; margin-top: 2rem ; line-height : 1.5\">\n",
    "    To define a multiline function, just use indents. No <code>;</code> needed.\n",
    "</div>"
   ]
  },
  {
   "cell_type": "code",
   "execution_count": 10,
   "metadata": {},
   "outputs": [],
   "source": [
    "let evens list =\n",
    "   let isEven x = x%2 = 0\n",
    "   List.filter isEven list \n",
    "   \n",
    "//isEven 5    // the value or constructor isEven is not definet. .. this is because it is only defined inside \n",
    "            // of the functional scope of `evens`."
   ]
  },
  {
   "cell_type": "markdown",
   "metadata": {},
   "source": [
    "<div Style=\"text-align: justify ; font-size: 1.8rem ; margin-top: 2rem ; line-height : 1.5\">\n",
    "Define <code>isEven</code> as an inner (\"nested\") function. In this case the function <code>isEven</code> is defined in the scope of the function <code>evens</code>. It cannot be accessed outside of this scope.\n",
    "<code>List.filter</code> is a library function with two parameters: a <code>boolean</code> function and a <code>list</code> to work on.\n",
    "</div>"
   ]
  },
  {
   "cell_type": "code",
   "execution_count": 11,
   "metadata": {},
   "outputs": [
    {
     "data": {
      "text/plain": [
       "[2; 4]"
      ]
     },
     "execution_count": 11,
     "metadata": {},
     "output_type": "execute_result"
    }
   ],
   "source": [
    "evens oneToFive"
   ]
  },
  {
   "cell_type": "markdown",
   "metadata": {},
   "source": [
    "<div Style=\"text-align: justify ; font-size: 1.8rem ; margin-top: 2rem ; line-height : 1.5\">\n",
    "You can use <code>()</code> to clarify precedence (think brackets in math). In this example, do <code>List.map</code> first, with two parameters, then do <code>List.sum</code> on the result.\n",
    "<code>List.map</code> applies a function to all elements in the list.\n",
    "</div>"
   ]
  },
  {
   "cell_type": "code",
   "execution_count": 12,
   "metadata": {},
   "outputs": [
    {
     "data": {
      "text/plain": [
       "338350"
      ]
     },
     "execution_count": 12,
     "metadata": {},
     "output_type": "execute_result"
    }
   ],
   "source": [
    "let sumOfSquaresTo100 =\n",
    "   List.sum (List.map square [1..100])\n",
    "sumOfSquaresTo100"
   ]
  },
  {
   "cell_type": "markdown",
   "metadata": {},
   "source": [
    "<div Style=\"text-align: justify ; font-size: 1.8rem ; margin-top: 2rem ; line-height: 2.3rem\">\n",
    "    Without the <code>()</code>, <code>List.map</code> would be passed as an parameter to <code>List.sum</code>.\n",
    "</div>"
   ]
  },
  {
   "cell_type": "markdown",
   "metadata": {},
   "source": [
    "You can pipe the output of one operation to the next using `|>`.\n",
    "Here is the same sumOfSquares function written using pipes."
   ]
  },
  {
   "cell_type": "code",
   "execution_count": 13,
   "metadata": {},
   "outputs": [
    {
     "data": {
      "text/plain": [
       "338350"
      ]
     },
     "execution_count": 13,
     "metadata": {},
     "output_type": "execute_result"
    }
   ],
   "source": [
    "let sumOfSquaresTo100piped =\n",
    "   [1..100] \n",
    "   |> List.map square \n",
    "   |> List.sum\n",
    "sumOfSquaresTo100piped"
   ]
  },
  {
   "cell_type": "markdown",
   "metadata": {},
   "source": [
    "<div Style=\"text-align: justify ; font-size: 1.8rem ; margin-top: 2rem ; line-height: 2.3rem\">\n",
    "    You can define anonymous functions using the <code>fun</code> keyword\n",
    "</div>"
   ]
  },
  {
   "cell_type": "code",
   "execution_count": 14,
   "metadata": {},
   "outputs": [
    {
     "data": {
      "text/plain": [
       "338350"
      ]
     },
     "execution_count": 14,
     "metadata": {},
     "output_type": "execute_result"
    }
   ],
   "source": [
    "let sumOfSquaresTo100withFun =\n",
    "   [1..100] \n",
    "   |> List.map (fun x -> x * x) \n",
    "   |> List.sum\n",
    "sumOfSquaresTo100withFun"
   ]
  },
  {
   "cell_type": "markdown",
   "metadata": {},
   "source": [
    "## Control flow expressions\n",
    "\n",
    "### Pattern Matching"
   ]
  },
  {
   "cell_type": "code",
   "execution_count": 15,
   "metadata": {},
   "outputs": [],
   "source": [
    "let simplePatternMatch x =\n",
    "   match x with\n",
    "    | \"a\" -> printfn \"input is a\"\n",
    "    | \"b\" -> printfn \"input is b\"\n",
    "    | _   -> printfn \"input is something else\""
   ]
  },
  {
   "cell_type": "markdown",
   "metadata": {},
   "source": [
    "<div Style=\"text-align: justify ; font-size: 1.8rem ; margin-top: 2rem ; line-height: 1.5\">\n",
    "    Underscore <code>_</code> matches anything\n",
    "</div>"
   ]
  },
  {
   "cell_type": "code",
   "execution_count": 16,
   "metadata": {},
   "outputs": [
    {
     "data": {
      "text/plain": [
       "input is a\r\n"
      ]
     },
     "metadata": {},
     "output_type": "display_data"
    }
   ],
   "source": [
    "simplePatternMatch \"a\""
   ]
  },
  {
   "cell_type": "markdown",
   "metadata": {},
   "source": [
    "### if-then-else\n",
    "<div Style=\"text-align: justify ; font-size: 1.8rem ; margin-top: 2rem ; line-height: 1.5\">\n",
    "<code>if-then-else</code> is an expression and must return a value of a particular type.\n",
    "    It evaluates to a different value depending on the <code>boolean</code> expression given.\n",
    "Both branches must return the same type!\n",
    "</div>"
   ]
  },
  {
   "cell_type": "code",
   "execution_count": 17,
   "metadata": {},
   "outputs": [
    {
     "data": {
      "text/plain": [
       "\"a\""
      ]
     },
     "execution_count": 17,
     "metadata": {},
     "output_type": "execute_result"
    }
   ],
   "source": [
    "let v = if true then \"a\" else \"b\"\n",
    "v"
   ]
  },
  {
   "cell_type": "markdown",
   "metadata": {},
   "source": [
    "<div Style=\"text-align: justify ; font-size: 1.8rem ; margin-top: 2rem ; line-height: 1.5\">\n",
    "In the following we will use a printfn function. Normally in FSharp only the last output is returned, but side effects, can always be returned. As a rule of thumb: All Unit outputs are side effects. <br>\n",
    "In this case, this means, we will print the result and still can keep working with the output.\n",
    "Also you will notice, that the last output is only <code>f (1=3)</code> -> \"b\", but we still will get all other results, as we print them below.\n",
    "</div>"
   ]
  },
  {
   "cell_type": "code",
   "execution_count": 18,
   "metadata": {},
   "outputs": [
    {
     "data": {
      "text/plain": [
       "\"b\""
      ]
     },
     "execution_count": 18,
     "metadata": {},
     "output_type": "execute_result"
    },
    {
     "data": {
      "text/plain": [
       "b\r\n",
       "a\r\n",
       "a\r\n",
       "b\r\n"
      ]
     },
     "metadata": {},
     "output_type": "display_data"
    }
   ],
   "source": [
    "let f x = \n",
    "    if x \n",
    "    then \n",
    "        printfn \"a\";\n",
    "        \"a\" \n",
    "    else\n",
    "        printfn \"b\"\n",
    "        \"b\"\n",
    "\n",
    "f false\n",
    "f true\n",
    "f (1=1)\n",
    "f (1=3)"
   ]
  },
  {
   "cell_type": "markdown",
   "metadata": {},
   "source": [
    "## Complex Data Types\n",
    "\n",
    "### Tuples\n",
    "<div Style=\"text-align: justify ; font-size: 1.8rem ; margin-top: 2rem ; line-height : 1.5\">\n",
    "Tuple types are pairs, triples, and so on of values.\n",
    "    Tuples use commas <code>,</code> as delimiter.\n",
    "</div>"
   ]
  },
  {
   "cell_type": "code",
   "execution_count": 19,
   "metadata": {},
   "outputs": [
    {
     "data": {
      "text/plain": [
       "(1, 2)"
      ]
     },
     "execution_count": 19,
     "metadata": {},
     "output_type": "execute_result"
    }
   ],
   "source": [
    "let twoTuple = 1,2\n",
    "twoTuple"
   ]
  },
  {
   "cell_type": "code",
   "execution_count": 20,
   "metadata": {},
   "outputs": [
    {
     "data": {
      "text/plain": [
       "(\"a\", 2, true)"
      ]
     },
     "execution_count": 20,
     "metadata": {},
     "output_type": "execute_result"
    }
   ],
   "source": [
    "let threeTuple = \"a\",2,true\n",
    "threeTuple"
   ]
  },
  {
   "cell_type": "markdown",
   "metadata": {},
   "source": [
    "### Record Types\n",
    "<div Style=\"text-align: justify ; font-size: 1.8rem ; margin-top: 2rem ; line-height : 1.5\">\n",
    "    Record types have named fields. They use Semicolons <code>;</code> as separators.\n",
    "</div>"
   ]
  },
  {
   "cell_type": "code",
   "execution_count": 21,
   "metadata": {},
   "outputs": [],
   "source": [
    "type Person = {FirstName:string; LastName:string}"
   ]
  },
  {
   "cell_type": "code",
   "execution_count": 22,
   "metadata": {},
   "outputs": [
    {
     "data": {
      "text/plain": [
       "{FirstName = \"John\";\n",
       " LastName = \"Doe\";}"
      ]
     },
     "execution_count": 22,
     "metadata": {},
     "output_type": "execute_result"
    }
   ],
   "source": [
    "let person1 = {FirstName = \"John\"; LastName = \"Doe\"}\n",
    "person1"
   ]
  },
  {
   "cell_type": "markdown",
   "metadata": {},
   "source": [
    "<div Style=\"text-align: justify ; font-size: 1.8rem ; margin-top: 2rem ; line-height : 1.5\">\n",
    "    Field of a record type can be acessed individually with a dot <code>.Name</code>\n",
    "</div>"
   ]
  },
  {
   "cell_type": "code",
   "execution_count": 23,
   "metadata": {},
   "outputs": [
    {
     "data": {
      "text/plain": [
       "\"John\""
      ]
     },
     "execution_count": 23,
     "metadata": {},
     "output_type": "execute_result"
    }
   ],
   "source": [
    "person1.FirstName"
   ]
  },
  {
   "cell_type": "markdown",
   "metadata": {},
   "source": [
    "## Comments\n",
    "<div Style=\"text-align: justify ; font-size: 1.8rem ; margin-top: 2rem ; line-height : 1.5\">\n",
    "    <b Style=\"color: red\">Comments are text written in code area (often marked green) which will be ignored by the compiler and is not executed.\n",
    "    </b>\n",
    "\n",
    "\n",
    "// single line comments use a double slash\n",
    "\n",
    "(* multi-line or in-line comments use (* . . . *) pair -end of multi line comment- *)\n",
    "</div>"
   ]
  },
  {
   "cell_type": "code",
   "execution_count": 24,
   "metadata": {},
   "outputs": [],
   "source": [
    "type PersonalInformation =\n",
    "    {\n",
    "        //First name of a person\n",
    "        FirstName  :string\n",
    "        //Last name of a person\n",
    "        LastName   :string\n",
    "        (*Address and\n",
    "        phone number of a person*)\n",
    "        Address    : (*int*) string\n",
    "        PhoneNumber: int\n",
    "    }"
   ]
  },
  {
   "cell_type": "markdown",
   "metadata": {},
   "source": [
    "## References \n",
    "<ol Style=\"max-width: 85% ; text-align: justify ; font-size: 1.8rem ; margin-top: 2rem ; line-height : 1.5\">\n",
    "\n",
    "<li Id=\"1\"> Bertalanffy, L. von. Zu einer allgemeinen Systemlehre. Blätter für deutsche Philosophie 18 (1945).</li>\n",
    "\n",
    "<li Id=\"2\"> Sauer, U., Heinemann, M. & Zamboni, N. Genetics. Getting closer to the whole picture. Science 316, 550–551; 10.1126/science.1142502 (2007).</li>\n",
    "\n",
    "<li Id=\"3\"> Kitano, H. Systems biology. a brief overview. Science 295, 1662–1664; 10.1126/science.1069492 (2002).</li>\n",
    "\n",
    "<li Id=\"4\"> Joyce, A. R. & Palsson, B. O. The model organism as a system. integrating 'omics' data sets. Nat Rev Mol Cell Bio 7, 198–210; 10.1038/Nrm1857 (2006).</li>\n",
    "\n",
    "<li Id=\"5\"> Aderem, A. Systems biology. Its practice and challenges. Cell 121, 511–513; 10.1016/j.cell.2005.04.020 (2005).</li>\n",
    "\n",
    "<li Id=\"6\"> Kahlem, P. & Birney, E. Dry work in a wet world. computation in systems biology. Mol Syst Biol 2 (2006).</li>\n",
    "\n",
    "<li Id=\"7\"> Kitano, H. Computational systems biology. Nature 420, 206–210; 10.1038/nature01254 (2002). </li>\n",
    "</ol>"
   ]
  },
  {
   "cell_type": "code",
   "execution_count": null,
   "metadata": {},
   "outputs": [],
   "source": []
  }
 ],
 "metadata": {
  "kernelspec": {
   "display_name": "F#",
   "language": "fsharp",
   "name": "ifsharp"
  },
  "language": "fsharp",
  "language_info": {
   "codemirror_mode": "",
   "file_extension": ".fs",
   "mimetype": "text/x-fsharp",
   "name": "fsharp",
   "nbconvert_exporter": "",
   "pygments_lexer": "",
   "version": "4.3.1.0"
  }
 },
 "nbformat": 4,
 "nbformat_minor": 2
}
