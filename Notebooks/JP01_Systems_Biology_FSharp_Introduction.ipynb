{
 "cells": [
  {
   "cell_type": "markdown",
   "metadata": {},
   "source": [
    "<h1 Style=\"font-size: 3rem\" >Systems Biology</h1>\n",
    "\n",
    "<div Style=\"text-align: justify ; font-size: 1.8rem ; margin-top: 2rem ; line-height: 1.5\">\n",
    "This notebook introduces the field of Systems Biology and explains why programming is a necessary skill to it. You will get a short introduction to the programming language F# and some links to resource for further studies.\n",
    "</div>\n",
    "\n",
    "1. [Systems Biology: A brief introduction](#Systems-Biology:-A-brief-introduction)\n",
    "2. [Starting with FSharp](#Starting-with-FSharp)<br>\n",
    "    1. [Functions](#Functions)<br>\n",
    "    2. [Binding function values and simple values](#Binding-function-values-and-simple-values)<br>\n",
    "        1. [Side note: Lambda expressions](#Side-note:-Lambda-expressions)<br>\n",
    "    3. [Simple values](#Simple-values)\n",
    "    4. [Lists & Arrays](#Lists-&-Arrays)\n",
    "    5. [Higher-order functions](#Higher-order-functions)\n",
    "        1. [Side Note: Pipe-forward operator |>](#Side-Note:-Pipe-forward-operator-|>)\n",
    "    6. [Control flow expressions](#Control-flow-expressions)\n",
    "        1. [if-then-else](#if-then-else)\n",
    "        2. [Pattern Matching](#Pattern-Matching)\n",
    "    7. [Complex Data Types](#Complex-Data-Types)\n",
    "        1. [Tuples](#Tuples)\n",
    "        2. [Record Types](#Record-Types)\n",
    "    8. [Code organization](#Code-organization)\n",
    "        1. [Namespaces and modules](#Namespaces-and-modules)\n",
    "        2. [Comments](#Comments)\n",
    "3. [References](#References)"
   ]
  },
  {
   "cell_type": "markdown",
   "metadata": {},
   "source": [
    "<h1 Style=\"font-size: 2rem ; display: inline-block\" >Systems Biology: A brief introduction</h1>\n",
    "<a href=\"#Systems-Biology\" style=\"display: inline-block\"><sup>&#8593;back</sup></a>\n",
    "\n",
    "<div Style=\"max-width: 85%\">\n",
    "    <div Id=\"figure1\" Style=\"float: right ; display: inline-block ; font-size: 1.7rem ; color: #44546a ; padding: 15px ; width: 45%\">\n",
    "        <img src=\"img/OmicSpace.png\" Style=\"width: 100%\">\n",
    "        <div Style=\"padding-left: 1rem ; padding-right: 1rem ; text-align: justify ; \">\n",
    "            <b>Figure 1: A conceptual view of the omic space.</b> The omics space comprises of genomic, transcriptomic, proteomic, metabolomic and phenomic systems level represented as a plane. Complex biological function is the result of the interplay between molecules of one and/or different systems level.\n",
    "        </div>\n",
    "    </div>    \n",
    "    <div Style=\"text-align: justify ; font-size: 1.8rem ; margin-top: 2rem ; line-height: 1.5\">\n",
    "The term “systems theory” was introduced by the biologist L. von Bertalanffy. He defined a system as a set of related components that work together in a particular environment to perform whatever functions are required to achieve the system's objective<sup><a href=\"#1\" id=\"ref1\">1</a></sup>. The hierarchical organization orchestrating the interaction of thousands of molecules with individual properties allows complex biological functions. Biological processes like cell division, biomass production, or a systemic response to perturbations are molecular physiological functions which result from a complex dynamic interplay between genes, proteins and metabolites (<a href=\"#figure1\">Figure 1</a>). To gain a holistic understanding of a biological system, all parts of the system need to be studied simultaneously by quantitative measures<sup><a id=\"ref2\" href=\"#2\">2</a></sup>. The focus on a system-wide perspective lies on the quantitative understanding of the organizational structure, functional state, robustness and dynamics of a biological system and led to the coining of the term “Systems Biology”<sup><a href=\"#3\">3</a></sup>.\n",
    "    </div>\n",
    "    <div Style=\"text-align: justify ; font-size: 1.8rem ; margin-top: 2rem ; line-height: 1.5\">\n",
    "The current challenges of Systems Biology approaches are mainly along four lines<sup><a href=\"#2\">2</a>,<a href=\"#4\">4</a></sup>: (i) system-wide quantification of transcriptome, proteome (including protein modifications) and metabolome; (ii) identification of physical interactions between these components; (iii) inference of structure, type and quantity of found interactions; and (iv) analysis and integration of the resulting large amounts of heterogeneous data. It becomes obvious that an interdisciplinary effort is needed to resolve these challenges in Systems Biology<sup><a href=\"#5\">5</a></sup>. Here Biology dictates which analytical, experimental and computational methods are required.\n",
    "    </div>\n",
    "    <div Style=\"text-align: justify ; font-size: 1.8rem ; margin-top: 2rem ; line-height: 1.5\">\n",
    "Modern analytical methods to measure the identity and quantity of biomolecules system-wide, summarized under the term “quantitative omics”-technologies, address the first two mentioned challenges of Systems Biology. Among these “omics”-technologies are transcriptomics based on microarrays/next generation sequencing and proteomics/metabolomics based on mass-spectrometry.\n",
    "    </div>\n",
    "    <div Style=\"text-align: justify ; font-size: 1.8rem ; margin-top: 2rem ; line-height: 1.5\">\n",
    "Tying in with the area of genome sequencing, the focus is set on the accurate profiling of gene/protein expression and metabolite concentrations, as well as on the determination of biological protein modifications and of physical interactions between proteins.\n",
    "    </div>\n",
    "    <div Style=\"text-align: justify ; font-size: 1.8rem ; margin-top: 2rem ; line-height: 1.5\">\n",
    "Addressing the abovementioned challenges three and four of Systems Biology, the development of numerous computational approaches reaches out to unravel the intrinsic complexity of biological systems<sup><a href=\"#6\">6</a></sup>. These computational approaches focus on knowledge discovery and on in silico simulation or modeling<sup><a href=\"#7\">7</a></sup>. In the latter approach knowledge on a biological process is converted into a mathematical model. In silico simulations based on such a model can provide predictions that may subsequently be tested experimentally. Computation-based knowledge discovery (also known as data mining) aims to extract hidden patterns from complex and high-dimensional data to generate hypotheses. Therefore, the first step is to describe information on a biological system such that it is sustainably stored in a format rendering it readable and manipulable for machines and humans. The second step is to integrate the huge amount of differently structured data, often referred to as the “big data” challenge. In a last step, statistical or machine learning methods are applied to extract the information or underlying principles hidden in the data.\n",
    "    </div>\n",
    "    <div Style=\"text-align: justify ; font-size: 1.8rem ; margin-top: 2rem ; line-height: 1.5\">\n",
    "The most flexible way of working with huge amounts of data is using a lightweight programming language with a succinct syntax. Therefore, it becomes necessary that biologist become familiar with a suitable programming language to solve real world problems in (Systems) Biology.\n",
    "    </div>\n",
    "</div>"
   ]
  },
  {
   "cell_type": "markdown",
   "metadata": {
    "nteract": {
     "transient": {
      "deleting": false
     }
    }
   },
   "source": [
    "<h1 Style=\"font-size: 2rem ; display: inline-block\" >Starting with FSharp</h1>\n",
    "<a href=\"#Systems-Biology\" style=\"display: inline-block\"><sup>&#8593;back</sup></a>\n",
    "\n",
    "<div Style=\"max-width: 85%\">\n",
    "    <div Style=\"text-align: justify ; font-size: 1.8rem ; margin-top: 2rem ; line-height: 1.5\">\n",
    "F# (pronounced “F Sharp”) is a simple and expressive programming language. It can be described as statically typed impure functional language that supports functional, imperative and object-oriented paradigm and also several other programming styles including data-driven, event-driven and parallel programming. This makes it an excellent tool for introducing programming as well as programming paradigms.\n",
    "    </div>\n",
    "    <div Style=\"text-align: justify ; font-size: 1.8rem ; margin-top: 2rem ; line-height: 1.5\">\n",
    "        F# is supported by the <a href=\"http://fsharp.org\">F# Software Foundation</a> and a worldwide community of contributors. Microsoft and other companies develop professional tooling for F#. The <a href=\"https://docs.microsoft.com/en-us/dotnet/articles/fsharp/\">F# Language Reference</a> is a reference for the F# language, and the <a href=\"https://docs.microsoft.com/en-us/dotnet/articles/fsharp/\">F# Guide</a> covers general topics. There are lots of excellent <a href=\"http://fsharp.org/learn.html\">F# learning resources</a> available online.\n",
    "    </div>\n",
    "    <div Style=\"text-align: justify ; font-size: 1.8rem ; margin-top: 2rem ; line-height: 1.5\">\n",
    "To learn more about how to use Jupyter notebooks, see <a href=\"http://jupyter-notebook.readthedocs.io/\">the Jupyter documentation</a> and the <a href=\"https://www.cheatography.com/weidadeyue/cheat-sheets/jupyter-notebook/\">Jupyter keyboard shortcuts</a>. You can find more information baoutthe F# and Jupyter tooling locally using <a href=\"https://github.com/fsprojects/IfSharp\">IfSharp</a>.\n",
    "    </div>\n",
    "    <div Style=\"text-align: justify ; font-size: 1.8rem ; margin-top: 2rem ; line-height: 1.5\">\n",
    "Let's start with our basic introduction:\n",
    "    </div>\n",
    "</div>"
   ]
  },
  {
   "cell_type": "markdown",
   "metadata": {},
   "source": [
    "<h1 Style=\"font-size: 2rem ; display: inline-block\" >Functions</h1>\n",
    "<a href=\"#Systems-Biology\" style=\"display: inline-block\"><sup>&#8593;back</sup></a>\n",
    "\n",
    "<div Style=\"max-width: 85%\">\n",
    "    <div Style=\"text-align: justify ; font-size: 1.8rem ; margin-top: 2rem ; line-height: 1.5\">\n",
    "The impetus behind functional programming comes from mathematics. Mathematical functions have a number of very nice features that functional languages try to emulate in the real world.\n",
    "So first, let’s start with a mathematical function that adds 1 to a number.\n",
    "    </div>\n",
    "    <div Style=\"width: 90% ; margin-left: auto ; margin-right: auto ; margin-top: 2rem\">\n",
    "        <code Style=\"margin-left: 3rem\">Add1(x) = x+1</code>\n",
    "    </div>\n",
    "    <div Style=\"text-align: justify ; font-size: 1.8rem ; margin-top: 2rem ; line-height: 1.5\">\n",
    "What does this really mean? Well it seems pretty straightforward. It means that there is an operation that starts with a number, and adds one to it.\n",
    "    </div>\n",
    "    <div Style=\"text-align: justify ; font-size: 1.8rem ; margin-top: 2rem ; line-height: 1.5\">\n",
    "        Let’s introduce some terminology:\n",
    "    </div>\n",
    "    <ul Style=\"max-width: 85% ; text-align: justify ; font-size: 1.8rem ; margin-top: 2rem ; line-height: 1.5\">\n",
    "        <li>\n",
    "\t\tThe set of values that can be used as input to the function is called the domain. In this case, it could be the set of real numbers, but to make life simpler for now, let’s restrict it to integers only.</li>\n",
    "        <li>The set of possible output values from the function is called the range (technically, the image on the codomain). In this case, it is also the set of integers.</li>\n",
    "        <li>The function is said to map the domain to the range.</li>\n",
    "    </ul>\n",
    "    <div Style=\"text-align: justify ; font-size: 1.8rem ; margin-top: 2rem ; line-height: 1.5\">\n",
    "    A diagram of a general function would be:\n",
    "    </div>\n",
    "    <img src=\"img/function.png\" title=\"diagram of a general function\" Style=\"width: 100%\">\n",
    "</div>\n",
    "\n",
    "<h1 Style=\"font-size: 2rem ; display: inline-block\" >Binding function values and simple values</h1>\n",
    "<a href=\"#Systems-Biology\" style=\"display: inline-block\"><sup>&#8593;back</sup></a>\n",
    "\n",
    "<div Style=\"max-width: 85%\">\n",
    "    <div Style=\"text-align: justify ; font-size: 1.8rem ; margin-top: 2rem ; line-height: 1.5\">\n",
    "The process of using a name to represent a function or a value is called “binding“. A binding is done by using the <code>let</code> keyword in F#. Let’s look at the simple function we used previously:\n",
    "    </div>\n",
    "</div>"
   ]
  },
  {
   "cell_type": "code",
   "execution_count": 2,
   "metadata": {},
   "outputs": [
    {
     "data": {
      "text/plain": [
       "3"
      ]
     },
     "execution_count": 2,
     "metadata": {},
     "output_type": "execute_result"
    }
   ],
   "source": [
    "let add1 x = x + 1\n",
    "// evaluate\n",
    "add1 2"
   ]
  },
  {
   "cell_type": "markdown",
   "metadata": {},
   "source": [
    "<div Style=\"max-width: 85%\">\n",
    "\t<div Style=\"text-align: justify ; font-size: 1.8rem ; margin-top: 2rem ; line-height: 1.5\">\n",
    "    What does the “x” mean here? It means:\n",
    "    </div>\n",
    "    <ul Style=\"max-width: 85% ; text-align: justify ; font-size: 1.8rem ; margin-top: 2rem ; line-height: 1.5\">\n",
    "        <li>Accept some value from the input domain.</li>\n",
    "    <li>Use the name ”x” to represent that value so that we can refer to it later.\n",
    "The name “x” is \"bound\" to the input value. So if we evaluate the function with the input 5 say, what is happening is that everywhere we see “x” in the original definition, we replace it with “5”, sort of like search and replace in a word processor</li>\n",
    "    </ul>\n",
    "<div>"
   ]
  },
  {
   "cell_type": "code",
   "execution_count": 2,
   "metadata": {},
   "outputs": [
    {
     "data": {
      "text/plain": [
       "6"
      ]
     },
     "execution_count": 2,
     "metadata": {},
     "output_type": "execute_result"
    }
   ],
   "source": [
    "add1 5\n",
    "// replace \"x\" with \"5\"\n",
    "// add1 5 = 5 + 1 = 6\n",
    "// result is 6"
   ]
  },
  {
   "cell_type": "markdown",
   "metadata": {},
   "source": [
    "<div Style=\"max-width: 85%\">\n",
    "\t<div Style=\"text-align: justify ; font-size: 1.8rem ; margin-top: 2rem ; line-height: 1.5\">\n",
    "        If you think about this a bit more, you will see that the name <code>add1</code> itself is just a binding to “the function that adds one to its input”. The function itself is independent of the name it is bound to. When you type <code>let add1 x = x + 1</code> you are telling the F# compiler “every time you see the name <code>add1</code>, replace it with the function that adds 1 to its input”. <code>add1</code> is called a function value. To see that the function is independent of its name, try:\n",
    "    </div>\n",
    "</div>"
   ]
  },
  {
   "cell_type": "code",
   "execution_count": 3,
   "metadata": {},
   "outputs": [
    {
     "data": {
      "text/plain": [
       "true"
      ]
     },
     "execution_count": 3,
     "metadata": {},
     "output_type": "execute_result"
    }
   ],
   "source": [
    "let plus1 = add1\n",
    "add1 5 = plus1 5"
   ]
  },
  {
   "cell_type": "markdown",
   "metadata": {},
   "source": [
    "<div Style=\"max-width: 85%\">\n",
    "\t<div Style=\"text-align: justify ; font-size: 1.8rem ; margin-top: 2rem ; line-height: 1.5\">\n",
    "You can see that \"add1\" and \"plus1\" are two names that refer (\"bound to\") to the same function. You can always identify a function value because its signature has the standard form domain -> range. Here is a generic function value signature:\n",
    "val functionName : domain -> range\n",
    "    <div>\n",
    "<div>\n",
    "    \n",
    "<h1 Style=\"font-size: 1.6rem ; display: inline-block ; margin-top: 2rem\" >Side note: Lambda expressions</h1>\n",
    "<a href=\"#Systems-Biology\" style=\"display: inline-block\"><sup>&#8593;back</sup></a>\n",
    "\n",
    "<div Style=\"max-width: 85%\">\n",
    "\t<div Style=\"text-align: justify ; font-size: 1.8rem ; margin-top: 2rem ; line-height: 1.5\">\n",
    "        In F# it is possible to use function without giving them a name and use the keyword <code>fun</code> instead and the <code>=</code> becomes <code>-></code>. This is called anonymous function or referring to lambda calculus lambda expression. This kind of functions are often used for convenience. To write <code>add1</code> as lambda expression\n",
    "    <div>\n",
    "<div>"
   ]
  },
  {
   "cell_type": "code",
   "execution_count": 5,
   "metadata": {},
   "outputs": [
    {
     "data": {
      "text/plain": [
       "<fun:it@1-2> : (int -> int)"
      ]
     },
     "execution_count": 5,
     "metadata": {},
     "output_type": "execute_result"
    }
   ],
   "source": [
    "fun x -> x + 1"
   ]
  },
  {
   "cell_type": "markdown",
   "metadata": {},
   "source": [
    "<h1 Style=\"font-size: 2rem ; display: inline-block ; margin-top: 2rem\" >Simple values</h1>\n",
    "<a href=\"#Systems-Biology\" style=\"display: inline-block\"><sup>&#8593;back</sup></a>\n",
    "\n",
    "<div Style=\"max-width: 85%\">\n",
    "    <div Style=\"float: right ; display: inline-block ; font-size: 1.7rem ; color: #44546a ; width: 40% ; padding: 15px\">\n",
    "        <img src=\"img/valueBinding.png\" Style=\"width: 100%\" title=\"Simple value binding\">\n",
    "        <div Style=\"padding-left: 1rem ; padding-right: 1rem ; text-align: justify ; \">\n",
    "        </div>\n",
    "    </div>    \n",
    "\t<div Style=\"text-align: justify ; font-size: 1.8rem ; margin-top: 2rem ; line-height: 1.5\">\n",
    "Imagine an operation that always returned the integer 5 and didn’t have any input.\n",
    "    </div>\n",
    "    <div Style=\"text-align: justify ; font-size: 1.8rem ; margin-top: 2rem ; line-height: 1.5\">\n",
    "This would be a “constant” operation.\n",
    "How would we write this in F#? We want to tell the F# compiler “every time you see the name c, replace it with 5”. Here’s how:\n",
    "    </div>\n",
    "</div>"
   ]
  },
  {
   "cell_type": "code",
   "execution_count": 7,
   "metadata": {},
   "outputs": [
    {
     "data": {
      "text/plain": [
       "5"
      ]
     },
     "execution_count": 7,
     "metadata": {},
     "output_type": "execute_result"
    }
   ],
   "source": [
    "let c = 5\n",
    "// evaluate\n",
    "c"
   ]
  },
  {
   "cell_type": "markdown",
   "metadata": {},
   "source": [
    "<div Style=\"max-width: 85%\">\n",
    "\t<div Style=\"text-align: justify ; font-size: 1.8rem ; margin-top: 2rem ; line-height: 1.5\">\n",
    "There is no mapping arrow this time, just a single int. What’s new is an equals sign with the actual value printed after it. The F# compiler knows that this binding has a known value which it will always return, namely the value 5.\n",
    "In other words, we’ve just defined a constant, or in F# terms, a simple value.\n",
    "\t</div>\n",
    "</div>"
   ]
  },
  {
   "cell_type": "markdown",
   "metadata": {},
   "source": [
    "<h1 Style=\"font-size: 2rem ; display: inline-block ; margin-top: 2rem\" >Lists & Arrays</h1>\n",
    "<a href=\"#Systems-Biology\" style=\"display: inline-block\"><sup>&#8593;back</sup></a>\n",
    "\n",
    "<div Style=\"text-align: justify ; font-size: 1.8rem ; margin-top: 2rem ; line-height: 1.5\">\n",
    "    Square brackets <code>[]</code> create a list with semicolon <code>;</code> delimiters.\n",
    "</div>"
   ]
  },
  {
   "cell_type": "code",
   "execution_count": 4,
   "metadata": {},
   "outputs": [
    {
     "data": {
      "text/plain": [
       "[2; 3; 4; 5]"
      ]
     },
     "execution_count": 4,
     "metadata": {},
     "output_type": "execute_result"
    }
   ],
   "source": [
    "let twoToFive = [2; 3; 4; 5]\n",
    "twoToFive"
   ]
  },
  {
   "cell_type": "markdown",
   "metadata": {},
   "source": [
    "<div Style=\"text-align: justify ; font-size: 1.8rem ; margin-top: 2rem ; line-height: 1.5\">\n",
    "    <code>::</code> creates a list with a new 1st element.\n",
    "</div>"
   ]
  },
  {
   "cell_type": "code",
   "execution_count": 5,
   "metadata": {},
   "outputs": [
    {
     "data": {
      "text/plain": [
       "[1; 2; 3; 4; 5]"
      ]
     },
     "execution_count": 5,
     "metadata": {},
     "output_type": "execute_result"
    }
   ],
   "source": [
    "let oneToFive = 1::twoToFive\n",
    "oneToFive"
   ]
  },
  {
   "cell_type": "markdown",
   "metadata": {},
   "source": [
    "<div Style=\"text-align: justify ; font-size: 1.8rem ; margin-top: 2rem ; line-height: 1.5\">\n",
    "    Square brackets with dashes <code>[||]</code> create an array with semicolon <code>;</code> delimiters.\n",
    "</div>"
   ]
  },
  {
   "cell_type": "code",
   "execution_count": 6,
   "metadata": {},
   "outputs": [],
   "source": [
    "let oneToFour = [|1; 2; 3; 4|]"
   ]
  },
  {
   "cell_type": "markdown",
   "metadata": {},
   "source": [
    "<div Style=\"text-align: justify ; font-size: 1.8rem ; margin-top: 2rem ; line-height: 1.5\">\n",
    "    Elements can be accessed using dot <code>.[i]</code>\n",
    "</div>"
   ]
  },
  {
   "cell_type": "code",
   "execution_count": 7,
   "metadata": {},
   "outputs": [
    {
     "data": {
      "text/plain": [
       "1"
      ]
     },
     "execution_count": 7,
     "metadata": {},
     "output_type": "execute_result"
    }
   ],
   "source": [
    "oneToFour.[0]"
   ]
  },
  {
   "cell_type": "markdown",
   "metadata": {},
   "source": [
    "<div Style=\"text-align: justify ; font-size: 1.8rem ; margin-top: 2rem ; line-height: 1.5\">\n",
    "    <b>IMPORTANT:</b> commas are <b>never</b> used as delimiters, only semicolons!\n",
    "</div>"
   ]
  },
  {
   "cell_type": "markdown",
   "metadata": {},
   "source": [
    "<h1 Style=\"font-size: 2rem ; display: inline-block ; margin-top: 2rem\" >Higher-order functions</h1>\n",
    "<a href=\"#Systems-Biology\" style=\"display: inline-block\"><sup>&#8593;back</sup></a>\n",
    "\n",
    "<div Style=\"max-width: 85%\">\n",
    "    <div Style=\"float: right ; display: inline-block ; font-size: 1.7rem ; color: #44546a ; width: 60% ; padding: 15px\">\n",
    "        <img src=\"img/map.png\" Title=\"the map function\" Style=\"width: 100%\">\n",
    "        <div Style=\"padding-left: 1rem ; padding-right: 1rem ; text-align: justify ; \">\n",
    "        </div>\n",
    "    </div>    \n",
    "\t<div Style=\"text-align: justify ; font-size: 1.8rem ; margin-top: 2rem ; line-height: 1.5\">\n",
    "A higher-order function is a function that takes another function as a parameter. This is simple, but leads to one of the most important concepts of functional programming: The conceptual operation: - map -\n",
    "    </div>\n",
    "    <div Style=\"text-align: justify ; font-size: 1.8rem ; margin-top: 2rem ; line-height: 1.5\">\n",
    "        The higher-order and polytypic function <code>map</code> applies a function working on the normal space to an elevated space. This concept is so important that all collection types (lists, arrays, ...) have a build in <code>map</code> function. Let's look at an example of what that means. Therefore, we first define a function working on the normal space:\n",
    "    </div>\n",
    "</div>"
   ]
  },
  {
   "cell_type": "code",
   "execution_count": 8,
   "metadata": {},
   "outputs": [
    {
     "data": {
      "text/plain": [
       "9"
      ]
     },
     "execution_count": 8,
     "metadata": {},
     "output_type": "execute_result"
    }
   ],
   "source": [
    "let square x = x * x\n",
    "// evaluate\n",
    "square 3"
   ]
  },
  {
   "cell_type": "markdown",
   "metadata": {},
   "source": [
    "<div Style=\"max-width: 85%\">\n",
    "\t<div Style=\"text-align: justify ; font-size: 1.8rem ; margin-top: 2rem ; line-height: 1.5\">\n",
    "Now, let's apply this function to every number in a list.\n",
    "    </div>\n",
    "</div>"
   ]
  },
  {
   "cell_type": "code",
   "execution_count": 9,
   "metadata": {},
   "outputs": [
    {
     "data": {
      "text/plain": [
       "[9; 4; 36; 49]"
      ]
     },
     "execution_count": 9,
     "metadata": {},
     "output_type": "execute_result"
    }
   ],
   "source": [
    "List.map square [3;2;6;7]"
   ]
  },
  {
   "cell_type": "markdown",
   "metadata": {},
   "source": [
    "<div Style=\"max-width: 85%\">\n",
    "\t<div Style=\"text-align: justify ; font-size: 1.8rem ; margin-top: 2rem ; line-height: 1.5\">\n",
    "Be aware, that this concept of mapping is restricted to the actual function called ‘map’. A filter function e.g. is also the same kind of operation.\n",
    "    </div>\n",
    "</div>"
   ]
  },
  {
   "cell_type": "code",
   "execution_count": 10,
   "metadata": {},
   "outputs": [],
   "source": [
    "let evens list =\n",
    "   let isEven x = x%2 = 0\n",
    "   List.filter isEven list \n",
    "   \n",
    "//isEven 5    // the value or constructor isEven is not definet. .. this is because it is only defined inside \n",
    "            // of the functional scope of `evens`."
   ]
  },
  {
   "cell_type": "markdown",
   "metadata": {},
   "source": [
    "<div Style=\"text-align: justify ; font-size: 1.8rem ; margin-top: 2rem ; line-height: 1.5\">\n",
    "Additionaly, you can see in this example how to define a multiline function, just use indents. No <code>;</code> needed.\n",
    "Define <code>isEven</code> as an inner (\"nested\") function. In this case the function <code>isEven</code> is defined in the scope of the function <code>evens</code>. It cannot be accessed outside of this scope.\n",
    "<code>List.filter</code> is a library function with two parameters: a <code>boolean</code> function and a <code>list</code> to work on.\n",
    "</div>"
   ]
  },
  {
   "cell_type": "code",
   "execution_count": 14,
   "metadata": {},
   "outputs": [
    {
     "data": {
      "text/plain": [
       "[2; 4]"
      ]
     },
     "execution_count": 14,
     "metadata": {},
     "output_type": "execute_result"
    }
   ],
   "source": [
    "evens [1..5]"
   ]
  },
  {
   "cell_type": "markdown",
   "metadata": {},
   "source": [
    "<div Style=\"text-align: justify ; font-size: 1.8rem ; margin-top: 2rem ; line-height: 1.5\">\n",
    "You can use <code>()</code> to clarify precedence (think brackets in math). In this example, do <code>List.map</code> first, with two parameters, then do <code>List.sum</code> on the result.\n",
    "<code>List.map</code> applies a function to all elements in the list.\n",
    "</div>"
   ]
  },
  {
   "cell_type": "code",
   "execution_count": 12,
   "metadata": {},
   "outputs": [
    {
     "data": {
      "text/plain": [
       "338350"
      ]
     },
     "execution_count": 12,
     "metadata": {},
     "output_type": "execute_result"
    }
   ],
   "source": [
    "let sumOfSquaresTo100 =\n",
    "   List.sum (List.map square [1..100])\n",
    "sumOfSquaresTo100"
   ]
  },
  {
   "cell_type": "markdown",
   "metadata": {},
   "source": [
    "<div Style=\"text-align: justify ; font-size: 1.8rem ; margin-top: 2rem ; line-height: 2.3rem\">\n",
    "    Without the <code>()</code>, <code>List.map</code> would be passed as an parameter to <code>List.sum</code>.\n",
    "</div>"
   ]
  },
  {
   "cell_type": "markdown",
   "metadata": {},
   "source": [
    "<h1 Style=\"font-size: 1.8rem ; display: inline-block ; margin-top: 2rem\" >Side Note: Pipe-forward operator <code>|></code></h1>\n",
    "<a href=\"#Systems-Biology\" style=\"display: inline-block\"><sup>&#8593;back</sup></a>\n",
    "\n",
    "<div Style=\"max-width: 85%\">\n",
    "\t<div Style=\"text-align: justify ; font-size: 1.8rem ; margin-top: 2rem ; line-height: 1.5\">\n",
    "The Pipe-forward operator lets you pass an intermediate result (value) onto the next function, it’s defined as: \n",
    "    </div>\n",
    "</div>"
   ]
  },
  {
   "cell_type": "code",
   "execution_count": 15,
   "metadata": {},
   "outputs": [],
   "source": [
    "let (|>) x f = f x "
   ]
  },
  {
   "cell_type": "markdown",
   "metadata": {},
   "source": [
    "<div Style=\"text-align: justify ; font-size: 1.8rem ; margin-top: 2rem ; line-height: 2.3rem\">\n",
    "    Now, you can pipe the output of one operation to the next using <code>|></code>.\n",
    "    Here is the same <code>sumOfSquares</code> function written using pipes.\n",
    "</div>"
   ]
  },
  {
   "cell_type": "code",
   "execution_count": 13,
   "metadata": {},
   "outputs": [
    {
     "data": {
      "text/plain": [
       "338350"
      ]
     },
     "execution_count": 13,
     "metadata": {},
     "output_type": "execute_result"
    }
   ],
   "source": [
    "let sumOfSquaresTo100piped =\n",
    "   [1..100] \n",
    "   |> List.map square \n",
    "   |> List.sum\n",
    "sumOfSquaresTo100piped"
   ]
  },
  {
   "cell_type": "markdown",
   "metadata": {},
   "source": [
    "<div Style=\"text-align: justify ; font-size: 1.8rem ; margin-top: 2rem ; line-height: 2.3rem\">\n",
    "    In this case one often uses anonymous functions using the <code>fun</code> keyword. This saves time to think about a name and the function can be writen inline.\n",
    "</div>"
   ]
  },
  {
   "cell_type": "code",
   "execution_count": 16,
   "metadata": {},
   "outputs": [
    {
     "data": {
      "text/plain": [
       "338350"
      ]
     },
     "execution_count": 16,
     "metadata": {},
     "output_type": "execute_result"
    }
   ],
   "source": [
    "let sumOfSquaresTo100withFun =\n",
    "   [1..100] \n",
    "   |> List.map (fun x -> x * x) \n",
    "   |> List.sum\n",
    "   \n",
    "   \n",
    "sumOfSquaresTo100withFun"
   ]
  },
  {
   "cell_type": "markdown",
   "metadata": {},
   "source": [
    "<div Style=\"max-width: 85%\">\n",
    "    <div Style=\"float: right ; display: inline-block ; font-size: 1.7rem ; color: #44546a ; width: 50% ; padding: 15px\">\n",
    "        <img src=\"img/fold.png\" Style=\"width: 100%\">\n",
    "        <div Style=\"padding-left: 1rem ; padding-right: 1rem ; text-align: justify ; \">\n",
    "        </div>\n",
    "    </div>    \n",
    "\t<div Style=\"text-align: justify ; font-size: 1.8rem ; margin-top: 2rem ; line-height: 1.5\">\n",
    "You already used the <code>List.sum</code> function. It is important to notice that this function doesn’t follow the <code>map</code> concept. There is a second related concept called <code>fold</code>.  The higher-order and polytypic function <code>fold</code> applies a function working on the normal space to an elevated space and reduces the elevated space into the normal space. This results in an aggregation. A simple but concreate example would be to sum a list of numeric values.\n",
    "    </div>\n",
    "</div>"
   ]
  },
  {
   "cell_type": "markdown",
   "metadata": {},
   "source": [
    "<h1 Style=\"font-size: 2rem ; display: inline-block ; margin-top: 2rem\" >Control flow expressions</h1>\n",
    "<a href=\"#Systems-Biology\" style=\"display: inline-block\"><sup>&#8593;back</sup></a>\n",
    "\n",
    "<div Style=\"max-width: 85%\">\n",
    "    <div Style=\"text-align: justify ; font-size: 1.8rem ; margin-top: 2rem ; line-height: 1.5\">\n",
    "    Control flow expressions are used to determine the program pathing under multiple possible conditions. These different paths must always lead to the same <code>Type</code> (e.g. <code>string</code>).\n",
    "    </div>\n",
    "</div>"
   ]
  },
  {
   "cell_type": "markdown",
   "metadata": {},
   "source": [
    "<h1 Style=\"font-size: 1.9rem ; display: inline-block ; margin-top: 2rem\" >if-then-else</h1>\n",
    "<a href=\"#Systems-Biology\" style=\"display: inline-block\"><sup>&#8593;back</sup></a>\n",
    "\n",
    "<div Style=\"max-width: 85%\">\n",
    "    <div Style=\"text-align: justify ; font-size: 1.8rem ; margin-top: 2rem ; line-height: 1.5\">\n",
    "    <code>if-then-else</code> is an expression and must return a value of a particular type.\n",
    "    It evaluates to a different value depending on the <code>boolean</code> expression given.\n",
    "Both branches must return the same type!\n",
    "    </div>\n",
    "</div>"
   ]
  },
  {
   "cell_type": "code",
   "execution_count": 5,
   "metadata": {},
   "outputs": [
    {
     "data": {
      "text/plain": [
       "\"a\""
      ]
     },
     "execution_count": 5,
     "metadata": {},
     "output_type": "execute_result"
    }
   ],
   "source": [
    "let v = if true then \"a\" else \"b\"\n",
    "v"
   ]
  },
  {
   "cell_type": "markdown",
   "metadata": {},
   "source": [
    "<h1 Style=\"font-size: 1.9rem ; display: inline-block ; margin-top: 2rem\" >Pattern Matching</h1>\n",
    "<a href=\"#Systems-Biology\" style=\"display: inline-block\"><sup>&#8593;back</sup></a>\n",
    "\n",
    "<div Style=\"max-width: 85%\">\n",
    "<div Style=\"text-align: justify ; font-size: 1.8rem ; margin-top: 2rem ; line-height: 1.5\">\n",
    "    Pattern matchings are one method to apply these control flow expressions. These function similiar to the <a href=\"#if-then-else\">if then else</a> expression, but much more powerful.\n",
    "</div>\n",
    "</div>"
   ]
  },
  {
   "cell_type": "code",
   "execution_count": 6,
   "metadata": {},
   "outputs": [],
   "source": [
    "let simplePatternMatch x =\n",
    "   match x with\n",
    "    | \"a\" -> printfn \"input is a\"\n",
    "    | \"b\" -> printfn \"input is b\"\n",
    "    | _   -> printfn \"input is something else\""
   ]
  },
  {
   "cell_type": "markdown",
   "metadata": {},
   "source": [
    "<div Style=\"text-align: justify ; font-size: 1.8rem ; margin-top: 2rem ; line-height: 1.5\">\n",
    "    Underscore <code>_</code> matches anything\n",
    "</div>"
   ]
  },
  {
   "cell_type": "code",
   "execution_count": 4,
   "metadata": {},
   "outputs": [
    {
     "data": {
      "text/plain": [
       "input is a\r\n",
       "input is something else\r\n"
      ]
     },
     "metadata": {},
     "output_type": "display_data"
    }
   ],
   "source": [
    "simplePatternMatch \"a\" \n",
    "\n",
    "simplePatternMatch \"I will not match\""
   ]
  },
  {
   "cell_type": "markdown",
   "metadata": {},
   "source": [
    "<div Style=\"max-width: 85%\">\n",
    "<div Style=\"text-align: justify ; font-size: 1.8rem ; margin-top: 2rem ; line-height: 1.5\">\n",
    "    In the following we will use a <code>printfn</code> function. Normally in FSharp only the last output is returned, but side effects, can always be returned. As a rule of thumb: All Unit outputs are side effects. <br>\n",
    "In this case, this means, we will print the result and still can keep working with the output.\n",
    "Also you will notice, that the last output is only <code>f (1=3)</code> -> \"b\", but we still will get all other results, as we print them below.\n",
    "</div>\n",
    "</div>"
   ]
  },
  {
   "cell_type": "code",
   "execution_count": 18,
   "metadata": {},
   "outputs": [
    {
     "data": {
      "text/plain": [
       "\"b\""
      ]
     },
     "execution_count": 18,
     "metadata": {},
     "output_type": "execute_result"
    },
    {
     "data": {
      "text/plain": [
       "b\r\n",
       "a\r\n",
       "a\r\n",
       "b\r\n"
      ]
     },
     "metadata": {},
     "output_type": "display_data"
    }
   ],
   "source": [
    "let f x = \n",
    "    if x then \n",
    "        printfn \"a\";\n",
    "        \"a\" \n",
    "    else\n",
    "        printfn \"b\"\n",
    "        \"b\"\n",
    "\n",
    "f false\n",
    "f true\n",
    "f (1=1)\n",
    "f (1=3)"
   ]
  },
  {
   "cell_type": "markdown",
   "metadata": {},
   "source": [
    "<h1 Style=\"font-size: 2rem ; display: inline-block ; margin-top: 2rem\" >Complex Data Types</h1>\n",
    "<a href=\"#Systems-Biology\" style=\"display: inline-block\"><sup>&#8593;back</sup></a><br>\n",
    "\n",
    "\n",
    "<h1 Style=\"font-size: 1.9rem ; display: inline-block ; margin-top: 2rem\" >Tuples</h1>\n",
    "<a href=\"#Systems-Biology\" style=\"display: inline-block\"><sup>&#8593;back</sup></a><br>\n",
    "\n",
    "<div Style=\"text-align: justify ; font-size: 1.8rem ; margin-top: 2rem ; line-height: 1.5\">\n",
    "Tuple types are pairs, triples, and so on of values.\n",
    "    Tuples use commas <code>,</code> as delimiter.\n",
    "</div>"
   ]
  },
  {
   "cell_type": "code",
   "execution_count": 19,
   "metadata": {},
   "outputs": [
    {
     "data": {
      "text/plain": [
       "(1, 2)"
      ]
     },
     "execution_count": 19,
     "metadata": {},
     "output_type": "execute_result"
    }
   ],
   "source": [
    "let twoTuple = 1,2\n",
    "twoTuple"
   ]
  },
  {
   "cell_type": "code",
   "execution_count": 20,
   "metadata": {},
   "outputs": [
    {
     "data": {
      "text/plain": [
       "(\"a\", 2, true)"
      ]
     },
     "execution_count": 20,
     "metadata": {},
     "output_type": "execute_result"
    }
   ],
   "source": [
    "let threeTuple = \"a\",2,true\n",
    "threeTuple"
   ]
  },
  {
   "cell_type": "markdown",
   "metadata": {},
   "source": [
    "<h1 Style=\"font-size: 1.9rem ; display: inline-block ; margin-top: 2rem\" >Record Types</h1>\n",
    "<a href=\"#Systems-Biology\" style=\"display: inline-block\"><sup>&#8593;back</sup></a><br>\n",
    "\n",
    "<div Style=\"text-align: justify ; font-size: 1.8rem ; margin-top: 2rem ; line-height: 1.5\">\n",
    "    Record types have named fields. They use Semicolons <code>;</code> as separators.\n",
    "</div>"
   ]
  },
  {
   "cell_type": "code",
   "execution_count": 21,
   "metadata": {},
   "outputs": [],
   "source": [
    "type Person = {FirstName:string; LastName:string}"
   ]
  },
  {
   "cell_type": "code",
   "execution_count": 22,
   "metadata": {},
   "outputs": [
    {
     "data": {
      "text/plain": [
       "{FirstName = \"John\";\n",
       " LastName = \"Doe\";}"
      ]
     },
     "execution_count": 22,
     "metadata": {},
     "output_type": "execute_result"
    }
   ],
   "source": [
    "let person1 = {FirstName = \"John\"; LastName = \"Doe\"}\n",
    "person1"
   ]
  },
  {
   "cell_type": "markdown",
   "metadata": {},
   "source": [
    "<div Style=\"text-align: justify ; font-size: 1.8rem ; margin-top: 2rem ; line-height: 1.5\">\n",
    "    Field of a record type can be acessed individually with a dot <code>.Name</code>\n",
    "</div>"
   ]
  },
  {
   "cell_type": "code",
   "execution_count": 23,
   "metadata": {},
   "outputs": [
    {
     "data": {
      "text/plain": [
       "\"John\""
      ]
     },
     "execution_count": 23,
     "metadata": {},
     "output_type": "execute_result"
    }
   ],
   "source": [
    "person1.FirstName"
   ]
  },
  {
   "cell_type": "markdown",
   "metadata": {},
   "source": [
    "<h1 Style=\"font-size: 2rem ; display: inline-block ; margin-top: 2rem\" >Code organization</h1>\n",
    "<a href=\"#Systems-Biology\" style=\"display: inline-block\"><sup>&#8593;back</sup></a><br>\n",
    "\n",
    "<div Style=\"max-width: 85%\">\n",
    "\t<div Style=\"text-align: justify ; font-size: 1.8rem ; margin-top: 2rem ; line-height: 1.5\">\n",
    "Sometimes it can be necessary to organize code for example to ship a library to other users. Namespaces und Modules are top-level and low-level constructs to organize code. \n",
    "    </div>\n",
    "</div>\n",
    "\n",
    "\n",
    "<h1 Style=\"font-size: 1.9rem ; display: inline-block ; margin-top: 2rem\" >Namespaces and modules</h1>\n",
    "<a href=\"#Systems-Biology\" style=\"display: inline-block\"><sup>&#8593;back</sup></a><br>\n",
    "\n",
    "<div Style=\"max-width: 85%\">\n",
    "\t<div Style=\"text-align: justify ; font-size: 1.8rem ; margin-top: 2rem ; line-height: 1.5\">\n",
    "You can think of namespaces and modules as containers and sub containers, respectively, in which you can put function and type definitions. The hierarchy is defined that you can have multiple modules in one namespace, also nested modules in a module, but no namespace in another namespace. You can acces namespaces and modules with the <code>.</code> operator.\n",
    "    </div>\n",
    "</div>"
   ]
  },
  {
   "cell_type": "code",
   "execution_count": 11,
   "metadata": {},
   "outputs": [
    {
     "data": {
      "text/plain": [
       "Hello FSharp\r\n"
      ]
     },
     "metadata": {},
     "output_type": "display_data"
    }
   ],
   "source": [
    "//Module “container” \n",
    "module WidgetsModule =\n",
    "    let widgetName = \"FSharp\"\n",
    "    let widgetFunction x y =\n",
    "        printfn \"%s %s\" x y\n",
    "\n",
    "// Calls the function from the module\n",
    "WidgetsModule.widgetFunction \"Hello\" WidgetsModule.widgetName"
   ]
  },
  {
   "cell_type": "markdown",
   "metadata": {},
   "source": [
    "<h1 Style=\"font-size: 1.9rem ; display: inline-block ; margin-top: 2rem\">Comments</h1>\n",
    "<a href=\"#Systems-Biology\" style=\"display: inline-block\"><sup>&#8593;back</sup></a><br>\n",
    "\n",
    "<div Style=\"text-align: justify ; font-size: 1.8rem ; margin-top: 2rem ; line-height: 1.5\">\n",
    "    Comments also help to write organized code.\n",
    "    <b Style=\"color: red\">\n",
    "        Comments are text written in code area (often marked green) which will be ignored by the compiler and is not executed.\n",
    "    </b>\n",
    "\n",
    "\n",
    "<code>//</code> single line comments use a double slash\n",
    "\n",
    "(* multi-line or in-line comments use <code>(* . . . *)</code> pair -end of multi line comment- *)\n",
    "</div>"
   ]
  },
  {
   "cell_type": "code",
   "execution_count": 6,
   "metadata": {},
   "outputs": [],
   "source": [
    "type PersonalInformation =\n",
    "    {\n",
    "        //First name of a person\n",
    "        FirstName  :string\n",
    "        //Last name of a person\n",
    "        LastName   :string\n",
    "        (*Address and\n",
    "        phone number of a person*)\n",
    "        Address    : (*int*) string\n",
    "        PhoneNumber: int\n",
    "    }"
   ]
  },
  {
   "cell_type": "markdown",
   "metadata": {},
   "source": [
    "<hr>"
   ]
  },
  {
   "cell_type": "markdown",
   "metadata": {},
   "source": [
    "<div style=\"width: 100% ; height: 60px ; display: flex ; align-content: center\">\n",
    "    <a href=\"JP01_FSharpExcercises.ipynb\" style=\"padding: 8px ; border: 2px solid blue ; border-radius: 5px ; font-size: 1.5rem ; cursor: pointer ; color: inherit; text-decoration: none ; margin-right: auto ; display: block ; height: 40px ; width: 80px ; text-align: center ; color: white ; background-color: blue\">\t\n",
    "&#171; JP01</a>\n",
    "        <a href=\"JP02_Plant_Systems_Biology.ipynb\" style=\"padding: 8px ; border: 2px solid blue ; border-radius: 5px ; font-size: 1.5rem ; cursor: pointer ; color: inherit; text-decoration: none ; margin-left: auto ; display: block ; height: 40px ; width: 80px ; text-align: center ; color: white ; background-color: blue\">JP02 &#187;</a>\n",
    "</div>"
   ]
  },
  {
   "cell_type": "markdown",
   "metadata": {},
   "source": [
    "<h1 Style=\"font-size: 2rem ; display: inline-block\" >References</h1>\n",
    "<a href=\"#Systems-Biology\" style=\"display: inline-block\"><sup>&#8593;back</sup></a>\n",
    "\n",
    "<ol Style=\"max-width: 85% ; text-align: justify ; font-size: 1.8rem ; margin-top: 2rem ; line-height: 1.5\">\n",
    "\n",
    "<li Id=\"1\"> \n",
    "    Bertalanffy, L. von. Zu einer allgemeinen Systemlehre. Blätter für deutsche Philosophie 18 (1945).\n",
    "</li>\n",
    "\n",
    "<li Id=\"2\"> Sauer, U., Heinemann, M. & Zamboni, N. Genetics. Getting closer to the whole picture. Science 316, 550–551; 10.1126/science.1142502 (2007).</li>\n",
    "\n",
    "<li Id=\"3\"> Kitano, H. Systems biology. a brief overview. Science 295, 1662–1664; 10.1126/science.1069492 (2002).</li>\n",
    "\n",
    "<li Id=\"4\"> Joyce, A. R. & Palsson, B. O. The model organism as a system. integrating 'omics' data sets. Nat Rev Mol Cell Bio 7, 198–210; 10.1038/Nrm1857 (2006).</li>\n",
    "\n",
    "<li Id=\"5\"> Aderem, A. Systems biology. Its practice and challenges. Cell 121, 511–513; 10.1016/j.cell.2005.04.020 (2005).</li>\n",
    "\n",
    "<li Id=\"6\"> Kahlem, P. & Birney, E. Dry work in a wet world. computation in systems biology. Mol Syst Biol 2 (2006).</li>\n",
    "\n",
    "<li Id=\"7\"> Kitano, H. Computational systems biology. Nature 420, 206–210; 10.1038/nature01254 (2002). </li>\n",
    "</ol>"
   ]
  },
  {
   "cell_type": "code",
   "execution_count": null,
   "metadata": {},
   "outputs": [],
   "source": []
  }
 ],
 "metadata": {
  "kernelspec": {
   "display_name": "F#",
   "language": "fsharp",
   "name": "ifsharp"
  },
  "language": "fsharp",
  "language_info": {
   "codemirror_mode": "",
   "file_extension": ".fs",
   "mimetype": "text/x-fsharp",
   "name": "fsharp",
   "nbconvert_exporter": "",
   "pygments_lexer": "",
   "version": "4.3.1.0"
  },
  "nteract": {
   "version": "0.22.0"
  }
 },
 "nbformat": 4,
 "nbformat_minor": 2
}
