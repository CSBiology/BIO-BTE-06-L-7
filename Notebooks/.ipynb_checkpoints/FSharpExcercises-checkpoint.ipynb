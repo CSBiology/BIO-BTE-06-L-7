{
 "cells": [
  {
   "cell_type": "markdown",
   "metadata": {},
   "source": [
    "This notebook contains introductional excercises for the FSharp programming language and also some small code examples for correct formatting.\n",
    "If you have questions at any point please ask us. We will discuss the first batch (task 1-6) before you can start the rest.\n",
    "\n",
    "# FSharp Introduction Excercises\n",
    "\n",
    "1. [Code Examples](#Code-Examples)\n",
    "2. [Excercises](#Excercises)\n",
    "     - [Task 1](#Task-1)\n",
    "     - [Task 2](#Task-2)\n",
    "     - [Task 3](#Task-3)\n",
    "     - [Task 4](#Task-4)\n",
    "     - [Task 5](#Task-5)\n",
    "     - [Task 6](#Task-6)\n",
    "     - [Task 7](#Task-7)\n",
    "     - [Task 8](#Task-8)\n",
    "     - [Task 9](#Task-9)\n",
    "     - [ Task 10](#Task-10)\n",
    "     - [Task 11](#Task-11)\n",
    "     - [Task 12](#Task-12)"
   ]
  },
  {
   "cell_type": "markdown",
   "metadata": {},
   "source": [
    "<hr>\n",
    "\n",
    "## Code Examples\n",
    "\n",
    "We will beginn with some minor code examples to show you correct formatting. You can even use these examples to help you understand minor programming logics for your excercises below."
   ]
  },
  {
   "cell_type": "code",
   "execution_count": 1,
   "metadata": {},
   "outputs": [
    {
     "data": {
      "text/plain": [
       "6.0"
      ]
     },
     "execution_count": 1,
     "metadata": {},
     "output_type": "execute_result"
    }
   ],
   "source": [
    "// Define a function 'mulitplyBy2', whoch should doubly any input Float.\n",
    "\n",
    "let mulitplyBy2 x = x * 2.\n",
    "\n",
    "mulitplyBy2 3."
   ]
  },
  {
   "cell_type": "markdown",
   "metadata": {},
   "source": [
    "If a excercise asks you to bind something to a specific name, keep that name! It might be used later on!\n",
    "Also remember to use camel case for names. This works by having a regular first letter and then have a capital letter at the start of each new word.\n",
    "\n",
    "exmp: \"thisIsACamelCaseExample\""
   ]
  },
  {
   "cell_type": "code",
   "execution_count": 2,
   "metadata": {},
   "outputs": [
    {
     "data": {
      "text/plain": [
       "125.6636"
      ]
     },
     "execution_count": 2,
     "metadata": {},
     "output_type": "execute_result"
    },
    {
     "data": {
      "text/plain": [
       "Das Volumen des Zylinders ist: 125.663600\r\n"
      ]
     },
     "metadata": {},
     "output_type": "display_data"
    }
   ],
   "source": [
    "// Create a function 'calculateCylinderVolume', which should, with a given radius and lenght, \n",
    "// calculate and return the volume of a cylinder AND print \"The volume of the cylinder is: XX.\" into the console. 'XX' is,\n",
    "// of course, the correct volume for the cylinder. (The output of a printfn function is Unit.)\n",
    "\n",
    "let calculateCylinderVolume radius length : float =\n",
    "   // function body\n",
    "   let pi = 3.14159 //or System.Math.PI\n",
    "   let volume = length * pi * radius * radius\n",
    "   printfn \"Das Volumen des Zylinders ist: %f\" volume\n",
    "   volume\n",
    "   \n",
    "calculateCylinderVolume 2. 10."
   ]
  },
  {
   "cell_type": "markdown",
   "metadata": {},
   "source": [
    " - Try to follow the excercise as close as possible, to not overlook something like \"...Volumen eines Zylinders (..) berechnet UND zusätzlich ...\" as these small differences migth be a valuable part of the excercise.\n",
    " - Lines of code do not have any cost, don't be to stingy about them, e.g. have an extra line with a binding of \"let pi = 3.14159\", so you can just use \"pi\" instead of the number. \n",
    "  - This improves readability and keeps the function modular.\n",
    "  - By defining pi inside of the scope of 'calculateCylinderVolume' it cannot be accessed from outside, keeping your\n",
    "  overall code nice and clean.\n"
   ]
  },
  {
   "cell_type": "code",
   "execution_count": 3,
   "metadata": {},
   "outputs": [
    {
     "data": {
      "text/plain": [
       "true"
      ]
     },
     "execution_count": 3,
     "metadata": {},
     "output_type": "execute_result"
    },
    {
     "data": {
      "text/plain": [
       "Both queens can hit each other\r\n"
      ]
     },
     "metadata": {},
     "output_type": "display_data"
    }
   ],
   "source": [
    "// A chessboard is a 8x8 field. The rows and columns have the indices 0 - 7.\n",
    "// Create a function, which should return true if two queens can hit each other or false if they can't.\n",
    "// The functions parameters should be two Tuples (int*int).\n",
    "\n",
    "let canHit (queen1 : int*int) (queen2 : int*int) =\n",
    "    let (posX1, posY1),(posX2, posY2)= (queen1,queen2)\n",
    "    if \n",
    "        // check if both queens are on the same x-axis\n",
    "        (posX1 = posX2) \n",
    "        // check if both queens are on the same y-axis\n",
    "        || (posY1 = posY2) \n",
    "        // check if both queens are on the same diagonal\n",
    "        || (abs (posX1 - posX2) = abs (posY1 - posY2))\n",
    "    then\n",
    "        printfn \"Both queens can hit each other\"\n",
    "        true\n",
    "    else \n",
    "        printfn \"Both queen cannot hit each other\"\n",
    "        false\n",
    "        \n",
    "canHit (3,5) (5,7)"
   ]
  },
  {
   "cell_type": "markdown",
   "metadata": {},
   "source": [
    "\n",
    "<hr>\n",
    "\n",
    "## Excercises\n"
   ]
  },
  {
   "cell_type": "markdown",
   "metadata": {},
   "source": [
    "### Task 1"
   ]
  },
  {
   "cell_type": "code",
   "execution_count": 4,
   "metadata": {},
   "outputs": [
    {
     "data": {
      "text/plain": [
       "\"Kevin\""
      ]
     },
     "execution_count": 4,
     "metadata": {},
     "output_type": "execute_result"
    }
   ],
   "source": [
    "// Bind a String of your name (\"Name\") to the name 'myFirstName'.\n",
    "\n",
    "// Lösung\n",
    "\n",
    "let myFirstName = \"Kevin\"\n",
    "\n",
    "myFirstName"
   ]
  },
  {
   "cell_type": "markdown",
   "metadata": {},
   "source": [
    "### Task 2"
   ]
  },
  {
   "cell_type": "code",
   "execution_count": 5,
   "metadata": {},
   "outputs": [
    {
     "data": {
      "text/plain": [
       "\"Kevin Frey\""
      ]
     },
     "execution_count": 5,
     "metadata": {},
     "output_type": "execute_result"
    }
   ],
   "source": [
    "// Define a variable 'myName', by adding 'myFirstName' to the rest of your name.\n",
    "\n",
    "// Lösung\n",
    "\n",
    "let myName = myFirstName + \" Frey\"\n",
    "\n",
    "myName"
   ]
  },
  {
   "cell_type": "markdown",
   "metadata": {},
   "source": [
    "### Task 3"
   ]
  },
  {
   "cell_type": "code",
   "execution_count": 6,
   "metadata": {},
   "outputs": [],
   "source": [
    "// Define a variable 'summeXY' as the sum of any two Integer numbers. Do this, by defining x and y as separate \n",
    "// let - bindings inside the functional scope of the 'summeXY' function. \n",
    "// (The function MUST contain three let - bindings)\n",
    "\n",
    "// Lösung\n",
    "\n",
    "let SummeXY =\n",
    "    let x = 2\n",
    "    let y = 34\n",
    "    x + y"
   ]
  },
  {
   "cell_type": "markdown",
   "metadata": {},
   "source": [
    "### Task 4"
   ]
  },
  {
   "cell_type": "code",
   "execution_count": 7,
   "metadata": {},
   "outputs": [],
   "source": [
    "// Declare a Tuple, consisting of 2 and \"February\" and bind the Tuple to the name 'tuple1'\n",
    "\n",
    "// Lösung \n",
    "\n",
    "let tuple1 = (2,\"February\")"
   ]
  },
  {
   "cell_type": "markdown",
   "metadata": {},
   "source": [
    "### Task 5"
   ]
  },
  {
   "cell_type": "code",
   "execution_count": 8,
   "metadata": {},
   "outputs": [],
   "source": [
    "// Declare a Tuple, consisting of 2, \"February\" and \"spring\" and bind the Tuple to the name 'tuple2'\n",
    "\n",
    "// Lösung \n",
    "\n",
    "let tuple2 = (2,\"February\",\"spring\")"
   ]
  },
  {
   "cell_type": "markdown",
   "metadata": {},
   "source": [
    "### Task 6"
   ]
  },
  {
   "cell_type": "code",
   "execution_count": 9,
   "metadata": {},
   "outputs": [
    {
     "data": {
      "text/plain": [
       "\"February\""
      ]
     },
     "execution_count": 9,
     "metadata": {},
     "output_type": "execute_result"
    }
   ],
   "source": [
    "// Access the second variable of the Tuple 'tuple1'.\n",
    "// Access the second variable of the Tuple 'tuple2'.\n",
    "\n",
    "// Lösung \n",
    "\n",
    "snd tuple1\n",
    "(fun (x,y,z) -> y) tuple2 // or: let (x,y,z) = tuple2"
   ]
  },
  {
   "cell_type": "markdown",
   "metadata": {},
   "source": [
    "### Task 7"
   ]
  },
  {
   "cell_type": "code",
   "execution_count": 10,
   "metadata": {},
   "outputs": [],
   "source": [
    "// Create a Record Type with the name 'Month'. 'Month' should contain the fields 'Number' (int),\n",
    "// 'Name' (string) and 'Season' (string).\n",
    "\n",
    "// Lösung\n",
    "\n",
    "type Month =\n",
    "    {\n",
    "        Number: int\n",
    "        Name: string\n",
    "        Season: string\n",
    "    }\n",
    "    "
   ]
  },
  {
   "cell_type": "markdown",
   "metadata": {},
   "source": [
    "### Task 8"
   ]
  },
  {
   "cell_type": "code",
   "execution_count": 11,
   "metadata": {},
   "outputs": [
    {
     "data": {
      "text/plain": [
       "{Number = 2;\n",
       " Name = \"February\";\n",
       " Season = \"spring\";}"
      ]
     },
     "execution_count": 11,
     "metadata": {},
     "output_type": "execute_result"
    }
   ],
   "source": [
    "// Declare a function 'createMonth' with three input parameters and which should return a 'Month' - Record Type.\n",
    "// Use the values from 'tuple2' and create a month with these as input.  \n",
    "\n",
    "// Lösung\n",
    "\n",
    "let createMonth number name season =\n",
    "    {\n",
    "        Number = number\n",
    "        Name = name\n",
    "        Season = season\n",
    "    }\n",
    "    \n",
    "let feb = createMonth 2 \"February\" \"spring\"\n",
    "feb"
   ]
  },
  {
   "cell_type": "markdown",
   "metadata": {},
   "source": [
    "### Task 9"
   ]
  },
  {
   "cell_type": "code",
   "execution_count": 12,
   "metadata": {},
   "outputs": [
    {
     "data": {
      "text/plain": [
       "\n",
       "        My favorite month is February. It is the 2 month in the year \n",
       "        and i especially like this time because it is part of spring.\r\n"
      ]
     },
     "metadata": {},
     "output_type": "display_data"
    }
   ],
   "source": [
    "// Create a function called 'myMonthsPrinter' which should take a 'Month' as input and return a unit output \n",
    "// (printfn - command) in the form of \"My favorite month is [Month Name]. It is the [Number of Month] month\n",
    "// in the year and i especially like this time because it is part of [Season].\"\n",
    "\n",
    "// Lösung\n",
    "\n",
    "let myMonthsPrinter (month:Month) =\n",
    "    printfn \"\n",
    "        My favorite month is %s. It is the %i month in the year \n",
    "        and i especially like this time because it is part of %s.\"\n",
    "        month.Name\n",
    "        month.Number\n",
    "        month.Season\n",
    "        \n",
    "myMonthsPrinter feb"
   ]
  },
  {
   "cell_type": "markdown",
   "metadata": {},
   "source": [
    "### Task 10"
   ]
  },
  {
   "cell_type": "code",
   "execution_count": 13,
   "metadata": {},
   "outputs": [
    {
     "data": {
      "text/plain": [
       "true"
      ]
     },
     "execution_count": 13,
     "metadata": {},
     "output_type": "execute_result"
    }
   ],
   "source": [
    "// We want to put additional emphasis on readability of code. ...\n",
    "\n",
    "// Oh no, the following function is not readable. Write the function new and use pipe operators!\n",
    "\n",
    "let unreadableFunc x = (string ((x - 7) * 2) + \"Generic\").ToUpper().ToCharArray()\n",
    "\n",
    "// Lösung\n",
    "\n",
    "let readableFunc (x:int) = \n",
    "    x\n",
    "    |> fun x -> x - 7\n",
    "    |> fun x -> x * 2\n",
    "    |> string\n",
    "    |> fun x -> x + \"Generic\"\n",
    "    |> fun x -> x.ToUpper().ToCharArray()\n",
    "    \n",
    "readableFunc 4 = unreadableFunc 4\n"
   ]
  },
  {
   "cell_type": "markdown",
   "metadata": {},
   "source": [
    "### Task 11"
   ]
  },
  {
   "cell_type": "code",
   "execution_count": 14,
   "metadata": {},
   "outputs": [
    {
     "data": {
      "text/plain": [
       "\"123456789101112131415\""
      ]
     },
     "execution_count": 14,
     "metadata": {},
     "output_type": "execute_result"
    }
   ],
   "source": [
    "// Try to understand the function \"sum\" and try to create a new function \"sumString\" \n",
    "// to create a continual string of all numbers from 1 to 15.\n",
    "\n",
    "let numberArr = [|1. .. 15.|]\n",
    "\n",
    "let sum (numberArr:float []) = \n",
    "    Array.fold (fun acc number -> acc + number) 0. numberArr\n",
    "    \n",
    "sum numberArr  \n",
    "\n",
    "// Lösung\n",
    "\n",
    "let sumString (numberArr:float []) =\n",
    "    Array.fold (fun acc number -> acc + string number) \"\" numberArr\n",
    "    \n",
    "sumString numberArr "
   ]
  },
  {
   "cell_type": "markdown",
   "metadata": {},
   "source": [
    "### Task 12"
   ]
  },
  {
   "cell_type": "code",
   "execution_count": 15,
   "metadata": {},
   "outputs": [
    {
     "data": {
      "text/plain": [
       "[0; 0; 0; 0; 0; 5; 6; 7; 8; 9; 10; 11; 12; 13; 14; 15; 16; 17; 18; 19; 20]"
      ]
     },
     "execution_count": 15,
     "metadata": {},
     "output_type": "execute_result"
    }
   ],
   "source": [
    "// Create a function 'replaceSmallNumbers', which should replace all \n",
    "// integers in a list with a 0 if the integer is smaller than 5.\n",
    "\n",
    "let numList = [0 .. 20]\n",
    "\n",
    "// Lösung\n",
    "\n",
    "let replaceSmallNumbers (numList:int list) =\n",
    "    numList\n",
    "    |> List.map (\n",
    "        fun x ->\n",
    "            if x < 5 then\n",
    "                0\n",
    "            else x\n",
    "        )\n",
    "    \n",
    "replaceSmallNumbers numList"
   ]
  },
  {
   "cell_type": "code",
   "execution_count": null,
   "metadata": {},
   "outputs": [],
   "source": []
  }
 ],
 "metadata": {
  "kernelspec": {
   "display_name": "F#",
   "language": "fsharp",
   "name": "ifsharp"
  },
  "language": "fsharp",
  "language_info": {
   "codemirror_mode": "",
   "file_extension": ".fs",
   "mimetype": "text/x-fsharp",
   "name": "fsharp",
   "nbconvert_exporter": "",
   "pygments_lexer": "",
   "version": "4.3.1.0"
  }
 },
 "nbformat": 4,
 "nbformat_minor": 2
}
