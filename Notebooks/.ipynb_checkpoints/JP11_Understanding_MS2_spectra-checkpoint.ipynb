{
 "cells": [
  {
   "cell_type": "markdown",
   "metadata": {},
   "source": [
    "<h1 Style=\"font-size: 3rem\" >Understanding MS<sup>2</sup> spectra: From peptide to fragment</h1>\n",
    "\n",
    "1. [Understanding MS<sup>2</sup> spectra: From peptide to fragment](#Understanding-MS2-spectra:-From-peptide-to-fragment)\n",
    "6. [References](#References)"
   ]
  },
  {
   "cell_type": "markdown",
   "metadata": {},
   "source": [
    "## Understanding MS<sup>2</sup> spectra: From peptide to fragment\n",
    "\n",
    "<div Style=\"max-width: 85%\">\n",
    "    <div Style=\"text-align: justify ; font-size: 1.8rem ; margin-top: 2rem ; line-height: 1.5\">\n",
    "Under low-energy fragmentation conditions, peptide fragment patterns are reproducible and, in general, predictable, which allows for an amino acid sequence identification according to a fragmentation expectation. Algorithms for peptide identification perform in principle three basic tasks:\n",
    "    </div>\n",
    "    <div Style=\"text-align: justify ; font-size: 1.8rem ; margin-top: 2rem ; line-height: 1.5\">\n",
    "        <b>(i)</b> a raw data preprocessing step is applied to the MS/MS spectra to obtain clean peak information. The same signal filtering and background subtraction methods are used as discussed in the section of low-level processing. Peak detection, however, may be performed differently. Preprocessing of MS/MS spectra focuses on the extraction of the precise m/z of the peak rather than the accurate peak areas. The conversion of a peak profile into the corresponding m/z and intensity values reduces the complexity, its representation is termed centroiding. To extract the masses for identification in a simple and fast way, peak fitting approaches are used. These approaches take either the most intense point of the peak profile, fit a Lorentzian distribution to the profile, or use a quadratic fit<sup><a href=\"#37\">37</a></sup>. \n",
    "    </div>\n",
    "    <div Style=\"text-align: justify ; font-size: 1.8rem ; margin-top: 2rem ; line-height: 1.5\">\n",
    "        <b>(ii)</b> Spectrum information and possible amino acid sequences assignments are evaluated. \n",
    "    </div>\n",
    "    <div Style=\"text-align: justify ; font-size: 1.8rem ; margin-top: 2rem ; line-height: 1.5\">\n",
    "        <b>(iii)</b> The quality of the match between spectrum and possible sequences is scored.\n",
    "    </div>\n",
    "    <div Style=\"text-align: justify ; font-size: 1.8rem ; margin-top: 2rem ; line-height: 1.5\">\n",
    "Even though the three steps roughly describe the basic principle of algorithms used for peptide sequence identification, most implementations show differences in individual steps which can lead to major changes in the outcome. Therefore, it has been proven useful to utilize more than one algorithm for a robust and thorough identification. Due to their major difference in identification strategies and prerequisites, identification algorithms are normally classified into three categories: (i) <i>de novo</i> peptide sequencing, (ii) peptide sequence-tag (PST) searching, and (iii) uninterpreted sequence searching.\n",
    "    </div>\n",
    "    <div Style=\"text-align: justify ; font-size: 1.5rem ; margin-top: 2rem ; margin-bottom: 2rem ; line-height: 1.3 ; width: 85% ; margin-left: auto ; margin-right: auto ; padding: 10px ; border: 2px dotted #708090 ; color: #708090\">\n",
    "Simulation of MSMS.\n",
    "    </div>\n",
    "\n",
    "</div>"
   ]
  },
  {
   "cell_type": "markdown",
   "metadata": {},
   "source": [
    "## References\n",
    "\n",
    "<ol Style=\"max-width: 85% ; text-align: justify ; font-size: 1.8rem ; margin-top: 2rem ; line-height: 1.5\">\n",
    "<li Id=\"exmp\">exmp</li>\n",
    "</ol>"
   ]
  },
  {
   "cell_type": "code",
   "execution_count": null,
   "metadata": {},
   "outputs": [],
   "source": []
  }
 ],
 "metadata": {
  "kernelspec": {
   "display_name": "Python 3",
   "language": "python",
   "name": "python3"
  },
  "language_info": {
   "codemirror_mode": {
    "name": "ipython",
    "version": 3
   },
   "file_extension": ".py",
   "mimetype": "text/x-python",
   "name": "python",
   "nbconvert_exporter": "python",
   "pygments_lexer": "ipython3",
   "version": "3.7.4"
  }
 },
 "nbformat": 4,
 "nbformat_minor": 2
}
