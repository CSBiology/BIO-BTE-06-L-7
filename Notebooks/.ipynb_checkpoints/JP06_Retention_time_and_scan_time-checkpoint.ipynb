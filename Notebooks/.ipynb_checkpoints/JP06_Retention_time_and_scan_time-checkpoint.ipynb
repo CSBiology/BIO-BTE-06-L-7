{
 "cells": [
  {
   "cell_type": "markdown",
   "metadata": {},
   "source": [
    "<h1 Style=\"font-size: 3rem\" >Retention time and scan time</h1>\n",
    "\n",
    "1. [Retention time and scan time](#Retention-time-and-scan-time)\n",
    "6. [References](#References)"
   ]
  },
  {
   "cell_type": "markdown",
   "metadata": {},
   "source": [
    "## Retention time and scan time\n",
    "\n",
    "<div Style=\"max-width: 85%\">\n",
    "    <div Style=\"text-align: justify ; font-size: 1.8rem ; margin-top: 2rem ; line-height : 1.5\">\n",
    "In general, peptides are separated by one or more steps of liquid chromatography (LC). The retention time (RT) is the time when the measured peptides were eluting from the column and is therefore influenced by the physicochemical interaction of the particular peptide with the column material. Scan time is basically synonym to retention time, but more from the aperture point of view.\n",
    "    </div>\n",
    "\n",
    "Figure x. Simulation of an MS1 spectrum (random)\n",
    "\n",
    "Figure x. Simulation of an MS1 spectrum (random) versus (ret. Time based)\n",
    "</div>"
   ]
  },
  {
   "cell_type": "markdown",
   "metadata": {},
   "source": [
    "## References\n",
    "\n",
    "<ol Style=\"max-width: 85% ; text-align: justify ; font-size: 1.8rem ; margin-top: 2rem ; line-height: 1.5\">\n",
    "<li Id=\"exmp\">exmp</li>\n",
    "\n",
    "</ol>"
   ]
  },
  {
   "cell_type": "code",
   "execution_count": null,
   "metadata": {},
   "outputs": [],
   "source": [
    "// David fragt Timo"
   ]
  }
 ],
 "metadata": {
  "kernelspec": {
   "display_name": "F#",
   "language": "fsharp",
   "name": "ifsharp"
  },
  "language": "fsharp",
  "language_info": {
   "codemirror_mode": "",
   "file_extension": ".fs",
   "mimetype": "text/x-fsharp",
   "name": "fsharp",
   "nbconvert_exporter": "",
   "pygments_lexer": "",
   "version": "4.3.1.0"
  }
 },
 "nbformat": 4,
 "nbformat_minor": 2
}
