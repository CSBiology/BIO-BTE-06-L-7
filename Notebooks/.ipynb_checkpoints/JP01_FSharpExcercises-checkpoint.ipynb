{
 "cells": [
  {
   "cell_type": "markdown",
   "metadata": {},
   "source": [
    "<div Style=\"max-width: 85%\">\n",
    "\t<div Style=\"text-align: justify ; font-size: 1.8rem ; margin-top: 2rem ; line-height: 1.5\">\n",
    "This notebook contains introductional excercises for the FSharp programming language and also some small code examples for correct formatting.\n",
    "If you have questions at any point please ask us. We will discuss the first batch (task 1-6) before you can start the rest.\n",
    "\t</div>\n",
    "</div>\n",
    "\n",
    "# FSharp Introduction Excercises\n",
    "\n",
    "1. [Code Examples](#Code-Examples)\n",
    "2. [Excercises](#Excercises)\n",
    "    * [Task 1](#Task-1)\n",
    "    * [Task 2](#Task-2)\n",
    "    * [Task 3](#Task-3)\n",
    "    * [Task 4](#Task-4)\n",
    "    * [Task 5](#Task-5)\n",
    "    * [Task 6](#Task-6)\n",
    "    * [Task 7](#Task-7)\n",
    "    * [Task 8](#Task-8)\n",
    "    * [Task 9](#Task-9)\n",
    "    * [Task 10](#Task-10)\n",
    "    * [Task 11](#Task-11)"
   ]
  },
  {
   "cell_type": "markdown",
   "metadata": {},
   "source": [
    "<hr>\n",
    "\n",
    "## Code Examples\n",
    "\n",
    "<div Style=\"max-width: 85%\">\n",
    "\t<div Style=\"text-align: justify ; font-size: 1.8rem ; margin-top: 2rem ; line-height: 1.5\">\n",
    "We will beginn with some minor code examples to show you correct formatting. You can even use these examples to help you understand minor programming logics for your excercises below.\n",
    "\t</div>\n",
    "</div>"
   ]
  },
  {
   "cell_type": "code",
   "execution_count": 1,
   "metadata": {},
   "outputs": [
    {
     "data": {
      "text/plain": [
       "6.0"
      ]
     },
     "execution_count": 1,
     "metadata": {},
     "output_type": "execute_result"
    }
   ],
   "source": [
    "// Define a function 'mulitplyBy2', whoch should doubly any input Float.\n",
    "\n",
    "let mulitplyBy2 x = x * 2.\n",
    "\n",
    "mulitplyBy2 3."
   ]
  },
  {
   "cell_type": "markdown",
   "metadata": {},
   "source": [
    "<div Style=\"max-width: 85%\">\n",
    "\t<div Style=\"text-align: justify ; font-size: 1.8rem ; margin-top: 2rem ; line-height: 1.5\">\n",
    "If a excercise asks you to bind something to a specific name, keep that name! It might be used later on!\n",
    "Also remember to use camel case for names. This works by having a regular first letter and then have a capital letter at the start of each new word.\n",
    "\t</div>\n",
    "    <div Style=\"text-align: justify ; font-size: 1.8rem ; margin-top: 2rem ; line-height: 1.5\">\n",
    "exmp: <code>thisIsACamelCaseExample</code>\n",
    "\t</div>\n",
    "</div>"
   ]
  },
  {
   "cell_type": "code",
   "execution_count": 2,
   "metadata": {},
   "outputs": [
    {
     "data": {
      "text/plain": [
       "125.6636"
      ]
     },
     "execution_count": 2,
     "metadata": {},
     "output_type": "execute_result"
    },
    {
     "data": {
      "text/plain": [
       "Das Volumen des Zylinders ist: 125.663600\r\n"
      ]
     },
     "metadata": {},
     "output_type": "display_data"
    }
   ],
   "source": [
    "// Create a function 'calculateCylinderVolume', which should, with a given radius and lenght, \n",
    "// calculate and return the volume of a cylinder AND print \"The volume of the cylinder is: XX.\" into the console. 'XX' is,\n",
    "// of course, the correct volume for the cylinder. (The output of a printfn function is Unit.)\n",
    "\n",
    "let calculateCylinderVolume radius length : float =\n",
    "   // function body\n",
    "   let pi = 3.14159 //or System.Math.PI\n",
    "   let volume = length * pi * radius * radius\n",
    "   printfn \"Das Volumen des Zylinders ist: %f\" volume\n",
    "   volume\n",
    "   \n",
    "calculateCylinderVolume 2. 10."
   ]
  },
  {
   "cell_type": "markdown",
   "metadata": {},
   "source": [
    " <div Style=\"max-width: 85%\">\n",
    "\t<div Style=\"text-align: justify ; font-size: 1.8rem ; margin-top: 2rem ; line-height: 1.5\">\n",
    "        <ul>\n",
    "            <li>Try to follow the excercise as close as possible, to not overlook something like \"...Volumen eines Zylinders (..) berechnet UND zusätzlich ...\" as these small differences migth be a valuable part of the excercise.</li>\n",
    "             <li>Lines of code do not have any cost, don't be to stingy about them, e.g. have an extra line with a binding of <code>let pi = 3.14159</code>, so you can just use \"pi\" instead of the number. </li>\n",
    "             <li>This improves readability and keeps the function modular.</li>\n",
    "            <li>By defining pi inside of the scope of <code>calculateCylinderVolume</code> it cannot be accessed from outside, keeping your overall code nice and clean.</li>\n",
    "        </ul>\n",
    "    </div>\n",
    "</div>\n"
   ]
  },
  {
   "cell_type": "code",
   "execution_count": 3,
   "metadata": {},
   "outputs": [
    {
     "data": {
      "text/plain": [
       "true"
      ]
     },
     "execution_count": 3,
     "metadata": {},
     "output_type": "execute_result"
    },
    {
     "data": {
      "text/plain": [
       "Both queens can hit each other\r\n"
      ]
     },
     "metadata": {},
     "output_type": "display_data"
    }
   ],
   "source": [
    "// A chessboard is a 8x8 field. The rows and columns have the indices 0 - 7.\n",
    "// Create a function, which should return true if two queens can hit each other or false if they can't.\n",
    "// The functions parameters should be two Tuples (int*int).\n",
    "\n",
    "let canHit (queen1 : int*int) (queen2 : int*int) =\n",
    "    let (posX1, posY1),(posX2, posY2)= (queen1,queen2)\n",
    "    if \n",
    "        // check if both queens are on the same x-axis\n",
    "        (posX1 = posX2) \n",
    "        // check if both queens are on the same y-axis\n",
    "        || (posY1 = posY2) \n",
    "        // check if both queens are on the same diagonal\n",
    "        || (abs (posX1 - posX2) = abs (posY1 - posY2))\n",
    "    then\n",
    "        printfn \"Both queens can hit each other\"\n",
    "        true\n",
    "    else \n",
    "        printfn \"Both queen cannot hit each other\"\n",
    "        false\n",
    "        \n",
    "canHit (3,5) (5,7)"
   ]
  },
  {
   "cell_type": "markdown",
   "metadata": {},
   "source": [
    "\n",
    "<hr>\n",
    "\n",
    "## Excercises\n"
   ]
  },
  {
   "cell_type": "markdown",
   "metadata": {},
   "source": [
    "### Task 1"
   ]
  },
  {
   "cell_type": "code",
   "execution_count": 4,
   "metadata": {},
   "outputs": [
    {
     "data": {
      "text/plain": [
       "\"Kevin\""
      ]
     },
     "execution_count": 4,
     "metadata": {},
     "output_type": "execute_result"
    }
   ],
   "source": [
    "// Bind a String of your name (\"Name\") to the name 'myFirstName'.\n",
    "\n",
    "// Lösung\n",
    "\n",
    "let myFirstName = \"Kevin\"\n",
    "\n",
    "myFirstName"
   ]
  },
  {
   "cell_type": "markdown",
   "metadata": {},
   "source": [
    "### Task 2"
   ]
  },
  {
   "cell_type": "code",
   "execution_count": 5,
   "metadata": {},
   "outputs": [
    {
     "data": {
      "text/plain": [
       "\"Kevin Frey\""
      ]
     },
     "execution_count": 5,
     "metadata": {},
     "output_type": "execute_result"
    }
   ],
   "source": [
    "// Define a variable 'myName', by adding 'myFirstName' to the rest of your name.\n",
    "\n",
    "// Lösung\n",
    "\n",
    "let myName = myFirstName + \" Frey\"\n",
    "\n",
    "myName"
   ]
  },
  {
   "cell_type": "markdown",
   "metadata": {},
   "source": [
    "### Task 3"
   ]
  },
  {
   "cell_type": "code",
   "execution_count": 6,
   "metadata": {},
   "outputs": [],
   "source": [
    "// Define a variable 'summeXY' as the sum of any two Integer numbers. Do this, by defining x and y as separate \n",
    "// let - bindings inside the functional scope of the 'summeXY' function. \n",
    "// (The function MUST contain three let - bindings)\n",
    "\n",
    "// Lösung\n",
    "\n",
    "let SummeXY =\n",
    "    let x = 2\n",
    "    let y = 34\n",
    "    x + y"
   ]
  },
  {
   "cell_type": "markdown",
   "metadata": {},
   "source": [
    "### Task 4"
   ]
  },
  {
   "cell_type": "code",
   "execution_count": 7,
   "metadata": {},
   "outputs": [],
   "source": [
    "// Declare a Tuple, consisting of 2 and \"February\" and bind the Tuple to the name 'tuple1'\n",
    "\n",
    "// Lösung \n",
    "\n",
    "let tuple1 = (2,\"February\")"
   ]
  },
  {
   "cell_type": "markdown",
   "metadata": {},
   "source": [
    "### Task 5"
   ]
  },
  {
   "cell_type": "code",
   "execution_count": 8,
   "metadata": {},
   "outputs": [],
   "source": [
    "// Declare a Tuple, consisting of 2, \"February\" and \"spring\" and bind the Tuple to the name 'tuple2'\n",
    "\n",
    "// Lösung \n",
    "\n",
    "let tuple2 = (2,\"February\",\"spring\")"
   ]
  },
  {
   "cell_type": "markdown",
   "metadata": {},
   "source": [
    "### Task 6"
   ]
  },
  {
   "cell_type": "code",
   "execution_count": 9,
   "metadata": {},
   "outputs": [
    {
     "data": {
      "text/plain": [
       "\"February\""
      ]
     },
     "execution_count": 9,
     "metadata": {},
     "output_type": "execute_result"
    }
   ],
   "source": [
    "// Access the second variable of the Tuple 'tuple1'.\n",
    "// Access the second variable of the Tuple 'tuple2'.\n",
    "\n",
    "// Lösung \n",
    "\n",
    "snd tuple1\n",
    "(fun (x,y,z) -> y) tuple2 // or: let (x,y,z) = tuple2"
   ]
  },
  {
   "cell_type": "markdown",
   "metadata": {},
   "source": [
    "### Task 7"
   ]
  },
  {
   "cell_type": "code",
   "execution_count": 10,
   "metadata": {},
   "outputs": [],
   "source": [
    "// Create a Record Type with the name 'Month'. 'Month' should contain the fields 'Number' (int),\n",
    "// 'Name' (string) and 'Season' (string).\n",
    "\n",
    "// Lösung\n",
    "\n",
    "type Month =\n",
    "    {\n",
    "        Number: int\n",
    "        Name:   string\n",
    "        Season: string\n",
    "    }\n",
    "    "
   ]
  },
  {
   "cell_type": "markdown",
   "metadata": {},
   "source": [
    "### Task 8"
   ]
  },
  {
   "cell_type": "code",
   "execution_count": 11,
   "metadata": {},
   "outputs": [
    {
     "data": {
      "text/plain": [
       "{Number = 2;\n",
       " Name = \"February\";\n",
       " Season = \"spring\";}"
      ]
     },
     "execution_count": 11,
     "metadata": {},
     "output_type": "execute_result"
    }
   ],
   "source": [
    "// Declare a function 'createMonth' with three input parameters and which should return a 'Month' - Record Type.\n",
    "// Use the values from 'tuple2' and create a month with these as input.  \n",
    "\n",
    "// Lösung\n",
    "\n",
    "let createMonth number name season =\n",
    "    {\n",
    "        Number = number\n",
    "        Name   = name\n",
    "        Season = season\n",
    "    }\n",
    "    \n",
    "let feb = createMonth 2 \"February\" \"spring\"\n",
    "feb"
   ]
  },
  {
   "cell_type": "markdown",
   "metadata": {},
   "source": [
    "### Task 9"
   ]
  },
  {
   "cell_type": "code",
   "execution_count": 12,
   "metadata": {},
   "outputs": [
    {
     "data": {
      "text/plain": [
       "\n",
       "        My favorite month is February. It is the 2 month in the year \n",
       "        and i especially like this time because it is part of spring.\r\n"
      ]
     },
     "metadata": {},
     "output_type": "display_data"
    }
   ],
   "source": [
    "// Create a function called 'myMonthsPrinter' which should take a 'Month' as input and return a unit output \n",
    "// (printfn - command) in the form of \"My favorite month is [Month Name]. It is the [Number of Month] month\n",
    "// in the year and i especially like this time because it is part of [Season].\"\n",
    "\n",
    "// Lösung\n",
    "\n",
    "let myMonthsPrinter (month:Month) =\n",
    "    printfn \"\n",
    "        My favorite month is %s. It is the %i month in the year \n",
    "        and i especially like this time because it is part of %s.\"\n",
    "        month.Name\n",
    "        month.Number\n",
    "        month.Season\n",
    "        \n",
    "myMonthsPrinter feb"
   ]
  },
  {
   "cell_type": "markdown",
   "metadata": {},
   "source": [
    "### Task 10"
   ]
  },
  {
   "cell_type": "code",
   "execution_count": 13,
   "metadata": {},
   "outputs": [
    {
     "data": {
      "text/plain": [
       "true"
      ]
     },
     "execution_count": 13,
     "metadata": {},
     "output_type": "execute_result"
    }
   ],
   "source": [
    "// We want to put additional emphasis on readability of code ...\n",
    "\n",
    "// Oh no, the following function is not readable. Write the function new and use pipe operators!\n",
    "\n",
    "let unreadableFunc x = (string ((x - 7) * 2) + \"Generic\").ToUpper().ToCharArray()\n",
    "\n",
    "// Lösung\n",
    "\n",
    "let readableFunc (x:int) = \n",
    "    x\n",
    "    |> fun x -> x - 7\n",
    "    |> fun x -> x * 2\n",
    "    |> string\n",
    "    |> fun x -> x + \"Generic\"\n",
    "    |> fun x -> x.ToUpper().ToCharArray()\n",
    "    \n",
    "readableFunc 4 = unreadableFunc 4\n"
   ]
  },
  {
   "cell_type": "markdown",
   "metadata": {},
   "source": [
    "### Task 11"
   ]
  },
  {
   "cell_type": "code",
   "execution_count": 15,
   "metadata": {},
   "outputs": [
    {
     "data": {
      "text/plain": [
       "[0; 0; 0; 0; 0; 5; 6; 7; 8; 9; 10; 11; 12; 13; 14; 15; 16; 17; 18; 19; 20]"
      ]
     },
     "execution_count": 15,
     "metadata": {},
     "output_type": "execute_result"
    }
   ],
   "source": [
    "// Create a function 'replaceSmallNumbers', which should replace all \n",
    "// integers in a list with a 0 if the integer is smaller than 5.\n",
    "\n",
    "let numList = [0 .. 20]\n",
    "\n",
    "// Lösung\n",
    "\n",
    "let replaceSmallNumbers (numList:int list) =\n",
    "    numList\n",
    "    |> List.map (\n",
    "        fun x ->\n",
    "            if x < 5 then\n",
    "                0\n",
    "            else x\n",
    "        )\n",
    "    \n",
    "replaceSmallNumbers numList"
   ]
  },
  {
   "cell_type": "markdown",
   "metadata": {},
   "source": [
    "<hr>"
   ]
  },
  {
   "cell_type": "code",
   "execution_count": 88,
   "metadata": {},
   "outputs": [
    {
     "data": {
      "text/html": [
       "\r\n",
       "        <head>\r\n",
       "        <style>\r\n",
       "        .mySelectButton-right {\r\n",
       "                display: inline-block;\r\n",
       "                border-radius: 4px;\r\n",
       "                background-color: blue;\r\n",
       "                border: none;\r\n",
       "                color: white;\r\n",
       "                text-align: center;\r\n",
       "                font-size: 18px;\r\n",
       "                width: 120px;\r\n",
       "                padding: 20px;\r\n",
       "                transition: all 0.5s;\r\n",
       "                cursor: pointer;\r\n",
       "                margin: 5px;\r\n",
       "                margin-left: auto;\r\n",
       "            }\r\n",
       "            \r\n",
       "            /*style when clicked*/\r\n",
       "            .mySelectButton-right:active {\r\n",
       "              box-shadow: 0 5px #666;\r\n",
       "              transform: translateY(4px);\r\n",
       "            }\r\n",
       "            \r\n",
       "            .mySelectButton-right::-moz-focus-inner {\r\n",
       "                border: 0;\r\n",
       "            }\r\n",
       "            \r\n",
       "            .mySelectButton-right span {\r\n",
       "                cursor: pointer;\r\n",
       "                display: inline-block;\r\n",
       "                color: white;\r\n",
       "                position: relative;\r\n",
       "                transition: 0.5s;\r\n",
       "            }\r\n",
       "            \r\n",
       "            .mySelectButton-right span:after {\r\n",
       "                content: '\\00bb';\r\n",
       "                position: absolute;\r\n",
       "                color: white;\r\n",
       "                opacity: 0;\r\n",
       "                top: 0;\r\n",
       "                right: -20px;\r\n",
       "                transition: 0.5s;\r\n",
       "            }\r\n",
       "            \r\n",
       "            .mySelectButton-right:hover span {\r\n",
       "                padding-right: 25px;\r\n",
       "            }\r\n",
       "            \r\n",
       "            .mySelectButton-right:hover span:after {\r\n",
       "                opacity: 1;\r\n",
       "                right: 0;\r\n",
       "            }\r\n",
       "            \r\n",
       "        \r\n",
       "        .mySelectButton-left {\r\n",
       "            display: inline-block;\r\n",
       "            border-radius: 4px;\r\n",
       "            background-color: blue;\r\n",
       "            border: none;\r\n",
       "            color: white;\r\n",
       "            text-align: center;\r\n",
       "            font-size: 18px;\r\n",
       "            width: 120px;\r\n",
       "            padding: 20px;\r\n",
       "            transition: all 0.5s;\r\n",
       "            cursor: pointer;\r\n",
       "            margin: 5px;\r\n",
       "            margin-right: auto;\r\n",
       "        }\r\n",
       "        \r\n",
       "        /*style when clicked*/\r\n",
       "        .mySelectButton-left:active {\r\n",
       "          box-shadow: 0 5px #666;\r\n",
       "          transform: translateY(4px);\r\n",
       "        }\r\n",
       "        \r\n",
       "        .mySelectButton-left::-moz-focus-inner {\r\n",
       "            border: 0;\r\n",
       "        }\r\n",
       "        \r\n",
       "        .mySelectButton-left span {\r\n",
       "            cursor: pointer;\r\n",
       "            display: inline-block;\r\n",
       "            position: relative;\r\n",
       "            transition: 0.5s;\r\n",
       "            color: white;\r\n",
       "        }\r\n",
       "        \r\n",
       "        .mySelectButton-left span::before {\r\n",
       "            content: '\\00AB';\r\n",
       "            color: white;\r\n",
       "            position: absolute;\r\n",
       "            opacity: 0;\r\n",
       "            top: 0;\r\n",
       "            left: -20px;\r\n",
       "            transition: 0.5s;\r\n",
       "        }\r\n",
       "        \r\n",
       "        .mySelectButton-left:hover span {\r\n",
       "            padding-left: 25px;\r\n",
       "        }\r\n",
       "        \r\n",
       "        .mySelectButton-left:hover span::before {\r\n",
       "            opacity: 1;\r\n",
       "            left: 0;\r\n",
       "        }\r\n",
       "        \r\n",
       "        .cancela,.cancela:link,.cancela:visited,.cancela:hover,.cancela:focus,.cancela:active{\r\n",
       "            color: inherit;\r\n",
       "            text-decoration: none;\r\n",
       "        }\r\n",
       "        \r\n",
       "        </style>\r\n",
       "        </head>\r\n",
       "        <body>\r\n",
       "        \r\n",
       "        <div Style=\"display: flex ; justify-content: space-between ; width: 100% \">\r\n",
       "            \r\n",
       "            <a target=\"_blank\" href=\"JP01_Systems_Biology_FSharp_Introduction.ipynb\" title=\"JP01_Systems_Biology_FSharp_Introduction.ipynb\" class=\"mySelectButton-right cancela\">\r\n",
       "                    <span>\r\n",
       "                        JP01\r\n",
       "                    </span>\r\n",
       "                </a>\r\n",
       "        </div>\r\n",
       "        \r\n",
       "        </body>\r\n",
       "        "
      ],
      "text/plain": [
       "{Html =\n",
       "  \"\r\n",
       "        <head>\r\n",
       "        <style>\r\n",
       "        .mySelectButton-right {\r\n",
       "                display: inline-block;\r\n",
       "                border-radius: 4px;\r\n",
       "                background-color: blue;\r\n",
       "                border: none;\r\n",
       "                color: white;\r\n",
       "                text-align: center;\r\n",
       "                font-size: 18px;\r\n",
       "                width: 120px;\r\n",
       "                padding: 20px;\r\n",
       "                transition: all 0.5s;\r\n",
       "                cursor: pointer;\r\n",
       "                margin: 5px;\r\n",
       "                margin-left: auto;\r\n",
       "            }\r\n",
       "            \r\n",
       "            /*style when clicked*/\r\n",
       "            .mySelectButton-right:active {\r\n",
       "              box-shadow: 0 5px #666;\r\n",
       "              transform: translateY(4px);\r\n",
       "            }\r\n",
       "            \r\n",
       "            .mySelectButton-right::-moz-focus-inner {\r\n",
       "                border: 0;\r\n",
       "            }\r\n",
       "            \r\n",
       "            .mySelectButton-right span {\r\n",
       "                cursor: pointer;\r\n",
       "                display: inline-block;\r\n",
       "                color: white;\r\n",
       "                position: relative;\r\n",
       "                transition: 0.5s;\r\n",
       "            }\r\n",
       "            \r\n",
       "            .mySelectButton-right span:after {\r\n",
       "                content: '\\00bb';\r\n",
       "                position: absolute;\r\n",
       "                color: white;\r\n",
       "                opacity: 0;\r\n",
       "                top: 0;\r\n",
       "                right: -20px;\r\n",
       "                transition: 0.5s;\r\n",
       "            }\r\n",
       "            \r\n",
       "            .mySelectButton-right:hover span {\r\n",
       "                padding-right: 25px;\r\n",
       "            }\r\n",
       "            \r\n",
       "            .mySelectButton-right:hover span:after {\r\n",
       "                opacity: 1;\r\n",
       "                right: 0;\r\n",
       "            }\r\n",
       "            \r\n",
       "        \r\n",
       "        .mySelectButton-left {\r\n",
       "            display: inline-block;\r\n",
       "            border-radius: 4px;\r\n",
       "            background-color: blue;\r\n",
       "            border: none;\r\n",
       "            color: white;\r\n",
       "            text-align: center;\r\n",
       "            font-size: 18px;\r\n",
       "            width: 120px;\r\n",
       "            padding: 20px;\r\n",
       "            transition: all 0.5s;\r\n",
       "            cursor: pointer;\r\n",
       "            margin: 5px;\r\n",
       "            margin-right: auto;\r\n",
       "        }\r\n",
       "        \r\n",
       "        /*style when clicked*/\r\n",
       "        .mySelectButton-left:active {\r\n",
       "          box-shadow: 0 5px #666;\r\n",
       "          transform: translateY(4px);\r\n",
       "        }\r\n",
       "        \r\n",
       "        .mySelectButton-left::-moz-focus-inner {\r\n",
       "            border: 0;\r\n",
       "        }\r\n",
       "        \r\n",
       "        .mySelectButton-left span {\r\n",
       "            cursor: pointer;\r\n",
       "            display: inline-block;\r\n",
       "            position: relative;\r\n",
       "            transition: 0.5s;\r\n",
       "            color: white;\r\n",
       "        }\r\n",
       "        \r\n",
       "        .mySelectButton-left span::before {\r\n",
       "            content: '\\00AB';\r\n",
       "            color: white;\r\n",
       "            position: absolute;\r\n",
       "            opacity: 0;\r\n",
       "            top: 0;\r\n",
       "            left: -20px;\r\n",
       "            transition: 0.5s;\r\n",
       "        }\r\n",
       "        \r\n",
       "        .mySelectButton-left:hover span {\r\n",
       "            padding-left: 25px;\r\n",
       "        }\r\n",
       "        \r\n",
       "        .mySelectButton-left:hover span::before {\r\n",
       "            opacity: 1;\r\n",
       "            left: 0;\r\n",
       "        }\r\n",
       "        \r\n",
       "        .cancela,.cancela:link,.cancela:visited,.cancela:hover,.cancela:focus,.cancela:active{\r\n",
       "            color: inherit;\r\n",
       "            text-decoration: none;\r\n",
       "        }\r\n",
       "        \r\n",
       "        </style>\r\n",
       "        </head>\r\n",
       "        <body>\r\n",
       "        \r\n",
       "        <div Style=\"display: flex ; justify-content: space-between ; width: 100% \">\r\n",
       "            \r\n",
       "            <a target=\"_blank\" href=\"JP01_Systems_Biology_FSharp_Introduction.ipynb\" title=\"JP01_Systems_Biology_FSharp_Introduction.ipynb\" class=\"mySelectButton-right cancela\">\r\n",
       "                    <span>\r\n",
       "                        JP01\r\n",
       "                    </span>\r\n",
       "                </a>\r\n",
       "        </div>\r\n",
       "        \r\n",
       "        </body>\r\n",
       "        \";}"
      ]
     },
     "execution_count": 88,
     "metadata": {},
     "output_type": "execute_result"
    }
   ],
   "source": [
    "#load \"../AuxFsx/ProtAux.fsx\"\n",
    "ProtAux.showbuttons None (Some \"JP01_Systems_Biology_FSharp_Introduction.ipynb\")\n",
    "|> Util.Html "
   ]
  }
 ],
 "metadata": {
  "kernelspec": {
   "display_name": "F#",
   "language": "fsharp",
   "name": "ifsharp"
  },
  "language": "fsharp",
  "language_info": {
   "codemirror_mode": "",
   "file_extension": ".fs",
   "mimetype": "text/x-fsharp",
   "name": "fsharp",
   "nbconvert_exporter": "",
   "pygments_lexer": "",
   "version": "4.3.1.0"
  }
 },
 "nbformat": 4,
 "nbformat_minor": 2
}
