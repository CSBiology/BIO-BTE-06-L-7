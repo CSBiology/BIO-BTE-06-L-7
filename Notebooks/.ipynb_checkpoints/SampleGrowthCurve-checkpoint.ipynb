{
 "cells": [
  {
   "cell_type": "code",
   "execution_count": null,
   "metadata": {},
   "outputs": [],
   "source": [
    "#load \"..\\IfSharp\\Paket.fsx\"\n",
    "Paket.Version[\n",
    "    \"FSharp.Plotly\", \"1.2.0\";\n",
    "    \"FSharp.Stats\", \"0.2.1-beta\"\n",
    "]"
   ]
  },
  {
   "cell_type": "code",
   "execution_count": null,
   "metadata": {},
   "outputs": [],
   "source": [
    "#load \"..\\IfSharp\\Paket.Generated.Refs.fsx\"\n",
    "#load \"..\\IfSharp\\FSharp.Plotly.fsx\"\n",
    "open FSharp.Plotly\n",
    "open FSharp.Stats\n",
    "open FSharp.Stats.Fitting.NonLinearRegression"
   ]
  },
  {
   "cell_type": "markdown",
   "metadata": {},
   "source": [
    "A normal cell culture experiment with measurements for the growth curve will return data like the following.\n",
    "Multiple cell counts (y_Count) each related to a specific timepoint (x_Hours)."
   ]
  },
  {
   "cell_type": "code",
   "execution_count": null,
   "metadata": {},
   "outputs": [],
   "source": [
    "let x_Hours = [|0.; 19.5; 25.5; 30.; 43.; 48.5; 67.75|]\n",
    "\n",
    "let y_Count = [|0.0; 2510000.0; 4926400.0; 9802600.0; 14949400.0; 15598800.0; 16382000.0|]\n",
    "\n",
    "Chart.Point(Array.zip x_Hours y_Count)\n",
    "|> GenericChart.toChartHTML\n",
    "|> Util.Html\n",
    "|> Display"
   ]
  },
  {
   "cell_type": "markdown",
   "metadata": {},
   "source": [
    "The growth curve data points were fitted using a logistic function for the 1:1 dilution, whereas the data points for the 1:25 and the 1:50 dilution were both fitted with an exponential function and a logistic function with an maximum and midpoint, estimated on the basis of the 1:1 dilution (2.1.1.1).\n",
    " \n",
    "Figure 4: Growth curves for C. reinhardtii cell cultures. Shown are the measured numbers of cells for the 1:1, 1:25 and 1:50 diluted cell cultures. The 1:1 dilutions were fitted with a logistic function and the 1:25 and 1:50 dilutions with an exponential function plus with a logistic function assuming predicted maximal points and growth midpoints (5.1). This experiment was done by group 3 and 4 separately. \n",
    "It is necessary to know the growth rate for the calculation of the doubling time (Equation 1), which in turn needs a start point (N(0)) and an end point (N(t)), between which the growth rate is calculated (Equation 2). In an attempt, to create more reproducible doubling times, we chose N(0) and N(t) to be the turning points of the first derivative of the logistic function used to fit the growth data. These turning points are neighboring the maximum of the first derivative. This maximum resembles the maximum change in gradient for our function, which we deem to be the midpoint of the exponential part of the growth curve.\n"
   ]
  },
  {
   "cell_type": "markdown",
   "metadata": {},
   "source": [
    "The model we need already exists in FSharp.Stats and can be taken from the \"Table\" module."
   ]
  },
  {
   "cell_type": "code",
   "execution_count": null,
   "metadata": {},
   "outputs": [],
   "source": [
    "let model = Table.LogisticFunctionAscending"
   ]
  },
  {
   "cell_type": "markdown",
   "metadata": {},
   "source": [
    "Generation of parameters with varying steepnesses"
   ]
  },
  {
   "cell_type": "code",
   "execution_count": null,
   "metadata": {},
   "outputs": [],
   "source": [
    "let multipleSolverOptions =\n",
    "    LevenbergMarquardtConstrained.initialParamsOverRange x_Hours y_Count [|0. .. 0.1 .. 2.|]\n",
    "    |> Array.map Table.lineSolverOptions"
   ]
  },
  {
   "cell_type": "markdown",
   "metadata": {},
   "source": [
    "Estimate parameters for a possible solution based on residual sum of squares\n",
    "Besides the solverOptions, an upper and lower bound for the parameters are required.\n",
    "It is recommended to define them depending on the initial param guess"
   ]
  },
  {
   "cell_type": "code",
   "execution_count": null,
   "metadata": {},
   "outputs": [],
   "source": [
    "let estParamsRSS =\n",
    "    multipleSolverOptions\n",
    "    |> Array.map (fun solvO ->\n",
    "        let lowerBound =\n",
    "            solvO.InitialParamGuess\n",
    "            |> Array.map (fun param -> param - (abs param) * 0.2)\n",
    "            |> vector\n",
    "        let upperBound =\n",
    "            solvO.InitialParamGuess\n",
    "            |> Array.map (fun param -> param + (abs param) * 0.2)\n",
    "            |> vector\n",
    "        LevenbergMarquardtConstrained.estimatedParamsWithRSS \n",
    "            model solvO 0.001 10. lowerBound upperBound x_Hours y_Count\n",
    "    )\n",
    "    |> Array.minBy snd\n",
    "    |> fst"
   ]
  },
  {
   "cell_type": "markdown",
   "metadata": {},
   "source": [
    "Create fitting function"
   ]
  },
  {
   "cell_type": "code",
   "execution_count": null,
   "metadata": {},
   "outputs": [],
   "source": [
    "let fittingFunction = Table.LogisticFunctionAscending.GetFunctionValue estParamsRSS"
   ]
  },
  {
   "cell_type": "code",
   "execution_count": null,
   "metadata": {
    "scrolled": false
   },
   "outputs": [],
   "source": [
    "let fittedY = Array.zip [|0. .. 68.|] ([|0. .. 68.|] |> Array.map fittingFunction)\n",
    "\n",
    "let fittedLogisticFunc =\n",
    "    [\n",
    "    Chart.Point (Array.zip x_Hours y_Count)\n",
    "    |> Chart.withTraceName\"Data Points\"\n",
    "    Chart.Line fittedY\n",
    "    |> Chart.withTraceName \"Fit\"\n",
    "    ]\n",
    "    |> Chart.Combine\n",
    "    |> Chart.withY_AxisStyle \"Cellcount\"\n",
    "    |> Chart.withX_AxisStyle \"Time\"\n",
    "    |> GenericChart.toChartHTML\n",
    "    |> Util.Html\n",
    "    |> Display"
   ]
  },
  {
   "cell_type": "code",
   "execution_count": null,
   "metadata": {},
   "outputs": [],
   "source": []
  }
 ],
 "metadata": {
  "kernelspec": {
   "display_name": "F#",
   "language": "fsharp",
   "name": "ifsharp"
  },
  "language": "fsharp",
  "language_info": {
   "codemirror_mode": "",
   "file_extension": ".fs",
   "mimetype": "text/x-fsharp",
   "name": "fsharp",
   "nbconvert_exporter": "",
   "pygments_lexer": "",
   "version": "4.3.1.0"
  }
 },
 "nbformat": 4,
 "nbformat_minor": 2
}
