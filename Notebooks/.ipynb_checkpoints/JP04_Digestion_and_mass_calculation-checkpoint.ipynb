{
 "cells": [
  {
   "cell_type": "markdown",
   "metadata": {},
   "source": [
    "<h1 Style=\"font-size: 3rem\" >Digestion and mass calculation</h1>\n",
    "\n",
    "1. [Digestion and mass calculation](#Digestion-and-mass-calculation)\n",
    "6. [References](#References)"
   ]
  },
  {
   "cell_type": "markdown",
   "metadata": {},
   "source": [
    "## Digestion and mass calculation\n",
    "<div Style=\"max-width: 85%\">\n",
    "    <div Style=\"text-align: justify ; font-size: 1.8rem ; margin-top: 2rem ; line-height: 1.5\">\n",
    "The most widely applied method for protein digestion involves the use of enzymes. Many proteases are available for this purpose, each having their own characteristics in terms of specificity, efficiency and optimum digestion conditions. Trypsin is most widely applied in bottom-up proteomics and and has a very high degree of specificity, cleaving the peptide bonds C-terminal to the basic residues Lys and Arg, except when followed by Pro<sup><a href=\"#23\">23</a></sup>. In general, Lys and Arg are relatively abundant amino acids and are usually well distributed throughout a protein<sup><a href=\"#24\">24</a></sup>. This leads to tryptic peptides with an average length of ∼14 amino acids that carry at least two positive charges, which is ideally suited for CID-MS analysis<sup><a href=\"#23\">23</a></sup>.\n",
    "    </div>\n",
    "    <div Style=\"text-align: justify ; font-size: 1.5rem ; margin-top: 2rem ; margin-bottom: 2rem ; line-height: 1.3 ; width: 85% ; margin-left: auto ; margin-right: auto ; padding: 10px ; border: 2px dotted #708090 ; color: #708090\">\n",
    "Using <i>in silico</i> analysis, we want to confirm that the general properties of trypsin digestion also apply for the proteome of <i>Chlamydomonas reinhardtii</i> . First, we load the proteome of <i>Chlamydomonas</i> in standard fastA format. Amino acid composition of the proteome is simply counting each amino acid occurrence and can be visualized by a histogram:\n",
    "    </div>\n",
    "</div>"
   ]
  },
  {
   "cell_type": "code",
   "execution_count": null,
   "metadata": {},
   "outputs": [],
   "source": [
    "// Code ist fertig, kommt von Johnny"
   ]
  },
  {
   "cell_type": "markdown",
   "metadata": {},
   "source": [
    "<div Style=\"max-width: 85%\">\n",
    "    <div Style=\"text-align: justify ; font-size: 1.8rem ; margin-top: 2rem ; line-height: 1.5\">\n",
    "The molecular weight M of a peptide may be estimated by calculating the equation for the molecular weight of a peptide: \n",
    "    </div>\n",
    "    <img src=\"https://latex.codecogs.com/gif.latex?M&space;=&space;M_{N}&plus;M_{C}\\sum_{i=0}^{n}N_{i}M_{i}\" title=\"M = M_{N}+M_{C}\\sum_{i=0}^{n}N_{i}M_{i}\" Style=\"margin-top: 2rem\" />\n",
    "    <div Style=\"text-align: justify ; font-size: 1.8rem ; margin-top: 2rem ; line-height: 1.5\">\n",
    "        where N<sub>i</sub> are the number, and M<sub>i</sub> the average residue molecular weights, of the amino acids. M<sub>N</sub> + M<sub>C</sub> are added to the total in order to account for the termini: H at the N-terminus and OH at the C-terminus. (Remark: if the termini are modified, these additions are replaced by those of the modifiers.) \n",
    "    </div>\n",
    "    <div Style=\"text-align: justify ; font-size: 1.5rem ; margin-top: 2rem ; margin-bottom: 2rem ; line-height: 1.3 ; width: 85% ; margin-left: auto ; margin-right: auto ; padding: 10px ; border: 2px dotted #708090 ; color: #708090\">\n",
    "The distribution of all molecular weights for the peptides resulting from the previous proteome digest can be calculated and visualized using a histogram chart: \n",
    "    </div>\n",
    "</div>"
   ]
  },
  {
   "cell_type": "code",
   "execution_count": null,
   "metadata": {},
   "outputs": [],
   "source": [
    "// Code ist fertig, kommt von David"
   ]
  },
  {
   "cell_type": "markdown",
   "metadata": {},
   "source": [
    "<div Style=\"max-width: 85%\">\n",
    "    <div Style=\"text-align: justify ; font-size: 1.8rem ; margin-top: 2rem ; line-height: 1.5\">\n",
    "However, in mass spectrometry we are only able to detect ions. Therefore, the measurements report the mass-to-charge ratio. The abbreviation m/z is used to denote the dimensionless quantity formed by dividing the molecular weight of an ion (M+nH<sup>+</sup>) by its charge number (n).\n",
    "    </div>\n",
    "    <img src=\"https://latex.codecogs.com/gif.latex?M_{z}=\\frac{(M&plus;nH^{&plus;})}{n}\" title=\"M_{z}=\\frac{(M+nH^{+})}{n}\" Style=\"margin-top: 2rem\" />\n",
    "</div>"
   ]
  },
  {
   "cell_type": "markdown",
   "metadata": {},
   "source": [
    "## References\n",
    "<ol Style=\"max-width: 85% ; text-align: justify ; font-size: 1.8rem ; margin-top: 2rem ; line-height: 1.5\">\n",
    "    <li Value=\"23\" Id=\"23\"> Burkhart, J. M., Schumbrutzki, C., Wortelkamp, S., Sickmann, A. & Zahedi, R. P. Systematic and quantitative comparison of digest efficiency and specificity reveals the impact of trypsin quality on MS-based proteomics. Journal of proteomics 75, 1454–1462; 10.1016/j.jprot.2011.11.016 (2012).\n",
    "    </li>\n",
    "    <li Id=\"24\"> Switzar, L., Giera, M. & Niessen, W. M. A. Protein digestion: an overview of the available techniques and recent developments. J. Proteome Res. 12, 1067–1077; 10.1021/pr301201x (2013).\n",
    "    </li>\n",
    "</ol>"
   ]
  },
  {
   "cell_type": "code",
   "execution_count": null,
   "metadata": {},
   "outputs": [],
   "source": []
  }
 ],
 "metadata": {
  "kernelspec": {
   "display_name": "F#",
   "language": "fsharp",
   "name": "ifsharp"
  },
  "language": "fsharp",
  "language_info": {
   "codemirror_mode": "",
   "file_extension": ".fs",
   "mimetype": "text/x-fsharp",
   "name": "fsharp",
   "nbconvert_exporter": "",
   "pygments_lexer": "",
   "version": "4.3.1.0"
  }
 },
 "nbformat": 4,
 "nbformat_minor": 2
}
