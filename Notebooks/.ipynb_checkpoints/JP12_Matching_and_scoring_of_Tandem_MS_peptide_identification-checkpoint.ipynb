{
 "cells": [
  {
   "cell_type": "markdown",
   "metadata": {},
   "source": [
    "<h1 Style=\"font-size: 3rem\" >Matching and scoring of Tandem MS peptide identification</h1>\n",
    "\n",
    "1. [Matching and scoring of Tandem MS peptide identification](#Matching-and-scoring-of-Tandem-MS-peptide-identification)\n",
    "6. [References](#References)"
   ]
  },
  {
   "cell_type": "markdown",
   "metadata": {},
   "source": [
    "## Matching and scoring of Tandem MS peptide identification\n",
    "\n",
    "\n",
    "<div Style=\"max-width: 85%\">\n",
    "    <div Style=\"float: right ; display: inline-block ; font-size: 1.7rem ; color: #44546a ; width: 60% ; padding: 15px\">\n",
    "        <img src=\"img/SystemsBiology_Figure5.png\" Style=\"width: 100%\">\n",
    "        <div Style=\"padding-left: 1rem ; padding-right: 1rem ; text-align: justify ; \"><b>Figure 5: Process of computational identification of peptides from their fragment spectra</b></div>\n",
    "    </div>    \n",
    "    <div Style=\"text-align: justify ; font-size: 1.8rem ; margin-top: 2rem ; line-height: 1.5 ; margin-top: 1rem\">\n",
    "Previously we learned, that peptides fragment to create patterns characteristic of a specific amino acid sequence. These patterns are reproducible and, in general, predictable taking the applied fragmentation method into account. This can be used for computational identification of peptides from their fragment spectra. This process can be subdivided into 5 main steps: spectrum preprocessing, selection of possible sequences, generating theoretical spectra, matching and scoring <span Style=\"color: red\">[Figure 9]</span>. The first step is a preprocessing of the experimental spectra and is done to reduce noise. Secondly, all possible amino acid sequences are selected which match the particular precursor peptide mass. The possible peptides can but do not need to be restricted to a particular organism. A theoretical spectrum is predicted for each of these amino acid sequences. Matching and scoring is performed by comparing experimental spectra to their predicted corresponding theoretical spectra. The score function measures the closeness of fit between the experimental acquired and theoretical spectrum. There are many different score functions, which can be considered as the main reason of different identifications considering different identification algorithm. The most natural score function is the cross correlation score (xcorr) used by the commercially available search tool SEQUEST. One of the reasons the xcorr is so sensitive is because it involves a correction factor that assesses the background correlation for each acquired spectrum and the theoretically predicted spectrum from sequences within a database. To compute this correction factor, a measure of similarity is calculated at different offsets between a preprocessed mass spectrum and a theoretical spectrum. The final xcorr is then the correlation at zero offset minus the mean correlation from all the individual offsets.\n",
    "    </div>\n",
    "    <div Style=\"text-align: justify ; font-size: 1.8rem ; margin-top: 2rem ; line-height: 1.5\">\n",
    "Thus, the correlation function measures the coherence of two signals by, in effect, translating one signal across the other. This can be mathematically achieved using the formula for cross-correlation in the form for discrete input signals:\n",
    "    </div>\n",
    "    <div Style=\"text-align: justify ; width: 90% ; margin-left: auto ; margin-right: auto ; margin-top: 2rem\">\n",
    "        <i><b>Equation 5</b></i>\n",
    "    </div>\n",
    "    <img src=\"https://latex.codecogs.com/gif.latex?\\large&space;R_{\\tau}&space;=&space;\\sum_{i=0}^{n-1}x_{i}\\cdot y_{i&plus;\\tau}\" title=\"\\large R_{𝜏} = \\sum_{i=0}^{n-1}x_{i}\\cdot y_{i+𝜏}\" />\n",
    "    <div Style=\"text-align: justify ; font-size: 1.8rem ; margin-top: 2rem ; line-height: 1.5\">\n",
    "        where x<sub>i</sub> is a peak of the reconstructed spectrum at position i and y<sub>i</sub> is a peak of the experimental spectrum. The displacement value 𝜏 is the amount by which the signal is offset during the translation and is varied over a range of values. If two signals are the same, the correlation function should have its maxima at 𝜏=0, where there is no offset. The average of the offset-correlation is seen as the average background correlation and needs to be subtracted from the correlation at 𝜏=0. It follows: \n",
    "    </div>\n",
    "    <div Style=\"text-align: justify ; width: 90% ; margin-left: auto ; margin-right: auto ; margin-top: 2rem\">\n",
    "        <i><b>Equation 6</b></i>\n",
    "    </div>\n",
    "    <img src=\"https://latex.codecogs.com/gif.latex?xcorr&space;=&space;R_{0}&space;-&space;\\frac{(\\sum&space;\\begin{matrix}&space;\\tau=&plus;offeset\\\\&space;\\tau=-offeset\\end{matrix}R_{\\tau})}{2*offset&plus;1}\" title=\"xcorr = R_{0} - \\frac{(\\sum \\begin{matrix} \\tau=+offeset\\\\ \\tau=-offeset\\end{matrix}R_{\\tau})}{2*offset+1}\" />\n",
    "    <div Style=\"text-align: justify ; font-size: 1.8rem ; margin-top: 2rem ; line-height: 1.5\">\n",
    "In practice many theoretical spectra have to be matched again a single experimental spectrum. Therefore, the calculation can be speed up by reformulating (Equation 5 and (Equation 6 and introduce a preprocessing step, which is independent of the predicted spectra (4): \n",
    "    </div>\n",
    "    <div Style=\"text-align: justify ; width: 90% ; margin-left: auto ; margin-right: auto ; margin-top: 2rem\">\n",
    "        <i><b>Equation 7</b></i>\n",
    "    </div>\n",
    "    <img src=\"https://latex.codecogs.com/gif.latex?xcorr&space;=&space;x_{0}\\cdot&space;y_{0}&space;-&space;\\frac{(\\sum&space;\\begin{matrix}&space;\\tau=&plus;offeset\\\\&space;\\tau=-offeset\\end{matrix}x_{0}\\cdot&space;y_{\\tau})}{2*offset&plus;1}\" title=\"xcorr = x_{0}\\cdot y_{0} - \\frac{(\\sum \\begin{matrix} \\tau=+offeset\\\\ \\tau=-offeset\\end{matrix}x_{0}\\cdot y_{\\tau})}{2*offset+1}\" />\n",
    "    <div Style=\"text-align: justify ; font-size: 1.8rem ; margin-top: 2rem ; line-height: 1.5\">\n",
    "For the preprocessed experimental spectrum y' it follows:\n",
    "    </div>\n",
    "    <div Style=\"text-align: justify ; width: 90% ; margin-left: auto ; margin-right: auto ; margin-top: 2rem\">\n",
    "        <i><b>Equation 8</b></i>\n",
    "    </div>\n",
    "    <img src=\"https://latex.codecogs.com/gif.latex?xcorr&space;=&space;x_{0}\\cdot&space;y'\" title=\"xcorr = x_{0}\\cdot y'\" />\n",
    "    <div Style=\"text-align: justify ; font-size: 1.8rem ; margin-top: 2rem ; line-height: 1.5\">\n",
    "where:\n",
    "    </div>\n",
    "    <div Style=\"text-align: justify ; width: 90% ; margin-left: auto ; margin-right: auto ; margin-top: 2rem\">\n",
    "        <i><b>Equation 9</b></i>\n",
    "    </div>\n",
    "    <img src=\"https://latex.codecogs.com/gif.latex?y'&space;=&space;y_{0}&space;-&space;\\frac{(\\sum&space;\\begin{matrix}&space;\\tau=&plus;offeset\\\\&space;\\tau=-offeset\\end{matrix}x_{0}\\cdot&space;y_{\\tau})}{2*offset&plus;1}\" title=\"y' = y_{0} - \\frac{(\\sum \\begin{matrix} \\tau=+offeset\\\\ \\tau=-offeset\\end{matrix}x_{0}\\cdot y_{\\tau})}{2*offset+1}\" />\n",
    "    <div Style=\"text-align: justify ; font-size: 1.5rem ; margin-top: 2rem ; margin-bottom: 2rem ; line-height: 1.3 ; width: 85% ; margin-left: auto ; margin-right: auto ; padding: 10px ; border: 2px dotted #708090 ; color: #708090\">\n",
    "Matching a measured spectrum against chlamy database\n",
    "    </div>\n",
    "</div>"
   ]
  },
  {
   "cell_type": "markdown",
   "metadata": {},
   "source": [
    "## References"
   ]
  }
 ],
 "metadata": {
  "kernelspec": {
   "display_name": "F#",
   "language": "fsharp",
   "name": "ifsharp"
  },
  "language": "fsharp",
  "language_info": {
   "codemirror_mode": "",
   "file_extension": ".fs",
   "mimetype": "text/x-fsharp",
   "name": "fsharp",
   "nbconvert_exporter": "",
   "pygments_lexer": "",
   "version": "4.3.1.0"
  }
 },
 "nbformat": 4,
 "nbformat_minor": 2
}
