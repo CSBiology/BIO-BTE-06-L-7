{
 "cells": [
  {
   "cell_type": "markdown",
   "metadata": {},
   "source": [
    "<h1 Style=\"font-size: 3rem\" >Quantification</h1>\n",
    "\n",
    "1. [Quantification](#Quantification)<br>\n",
    " 1.1 [Targeted quantification qConCat](#Targeted-quantification-qConCat)\n",
    "6. [References](#References)"
   ]
  },
  {
   "cell_type": "markdown",
   "metadata": {},
   "source": [
    "## Quantification\n",
    "\n",
    "<div Style=\"max-width: 85%\">\n",
    "    <div Style=\"text-align: justify ; font-size: 1.8rem ; margin-top: 2rem ; line-height: 1.5\">\n",
    "To estimate the amount of individual proteins in complex mixtures, all peptide signals corresponding to a common protein serve as a proxy for their abundance. Peptide information needs to be obtained from multidimensional signal data detected by the mass spectrometer. All signals generated from one peptide ion species, often referred to as peptide feature, need to be grouped to form a three-dimensional peak along the m/z, ion intensity, and retention time dimension. This process is generally defined as peak detection or feature detection. Peak detection algorithms are a set of rules defining how neighboring signal points are joined. Whether noise filtering is done before or after peak detection strongly depends on the peak detection algorithm. Traditional approaches mainly focused on signal amplitude neglecting characteristic peak shapes as a common feature of chromatographic or spectroscopic peaks. These algorithms are prone to miss detection of low intensity peaks with a signal strength close to the noise level. To overcome these issues, techniques like smoothing, shape-matching and curve fitting are often implemented and applied. At the time, the most promising approach to do shape-matching and noise reduction in one step uses the continuous wavelet transformation (CWT).\n",
    "    </div>\n",
    "    <div Style=\"text-align: justify ; font-size: 1.8rem ; margin-top: 2rem ; line-height: 1.5\">\n",
    "In general, a CWT based approach describes a family of time-frequency-transformations often used in data compression and feature detection. The term is coined by the use of a wavelet, as a basis function which is “compared” to the signal. The point of highest correlation between the basis function and the signal reflects the location of the peak present. Due to the fact that MS derived peaks often follow the shape of a gaussian distribution, the Mexican Hat wavelet as the negative normalized second derivative of the Gaussian distribution is perfectly suited to find the peptide feature.\n",
    "    </div>\n",
    "    <div Style=\"float: right ; display: inline-block ; font-size: 1.7rem ; color: #44546a ; width: 70% ; padding: 15px\">\n",
    "        <img src=\"img/SystemsBiology_Figure3.png\" Style=\"width: 100%\">\n",
    "        <div Style=\"padding-left: 1rem ; padding-right: 1rem ; text-align: justify ; \">\n",
    "            <b>Figure 3: Schematic representation of the ‘Haar’-wavelet (blue) and the ‘Mexican Hat’- wavelet (green). </b>The ‘Haar’-wavelet is named after its discoverer Alfred Haar and represents the first wavelet ever to be described. The ‘Mexican Hat’- or ‘Ricker’-wavelet is frequently used in the fields of signal detection and compression.\n",
    "        </div>\n",
    "    </div>    \n",
    "    <div Style=\"text-align: justify ; font-size: 1.8rem ; margin-top: 2rem ; line-height: 1.5\">\n",
    "Depending on the quantification approach, the peptide features used for protein quantification might differ. In case of isotopic labeling, quantification means pairing features with the proper mass shift according to the utilized label. It is essential to account for the frequency of label incorporation when calculating the mass shift for the utilized label. Taking the ICAT method as an example, by which a heavy/light difference of 9 Dalton per cysteine is incorporated, the total mass shift is 9 Dalton times the number of cysteine within the sequence. Consequently, pairing peptide features for <sup>15</sup>N labeling is even more challenging, as the mass shift is less discrete. Using stable isotope labeling, different peptide feature pairs belonging to the same protein can be treated as technical replicates and averaged to gain protein quantification. In contrast, the sum of all extracted peptide signals results in a label-free protein quantiﬁcation. Spectral counting computes abundance values from the number of times a peptide was successfully identiﬁed by tandem mass spectrometry (MS/MS) and combines all these events per protein. The spectral counting values can be normalized by the number of peptides theoretically expected from the particular protein. \n",
    "    </div>\n",
    "    <div Style=\"float: right ; display: inline-block ; font-size: 1.7rem ; color: #44546a ; width: 100% ; padding: 15px\">\n",
    "        <img src=\"img/SystemsBiology_Figure4.png\" Style=\"width: 100%\">\n",
    "        <div Style=\"padding-left: 1rem ; padding-right: 1rem ; text-align: justify ; \">\n",
    "            <b>Figure 4: Computational strategy of peptide and protein quantiﬁcation on based on stable isotope labeling or by label-free quantiﬁcation.</b> (A) Label-free methods compare corresponding peptide abundances over different MS runs. The abundance is either estimated by the elution proﬁle les of the pep de ions or (B) in case of spectral counting, by the number of times a peptide was successfully identiﬁed (MS2). In contrast, methods based on differential stable isotope labeling analyze peptides pairs detected by their characteristic mass diﬀerence Δm/z. The abundance is estimated by the ratio of their corresponding elution proﬁles (C). Isobaric tagging methods (D) compare the reporter ion abundances in the fragmentation spectrum.\n",
    "        </div>\n",
    "    </div>    \n",
    "</div>\n",
    "\n"
   ]
  },
  {
   "cell_type": "markdown",
   "metadata": {},
   "source": [
    "### Targeted quantification qConCat\n",
    "\n",
    "<div Style=\"max-width: 85%\">\n",
    "    <div Style=\"text-align: justify ; font-size: 1.5rem ; margin-top: 2rem ; margin-bottom: 2rem ; line-height: 1.3 ; width: 85% ; margin-left: auto ; margin-right: auto ; padding: 10px ; border: 2px dotted #708090 ; color: #708090\">\n",
    "Extraction of XIC and area calculation\n",
    "    </div>\n",
    "</div>"
   ]
  },
  {
   "cell_type": "markdown",
   "metadata": {},
   "source": [
    "## References\n",
    "\n",
    "<ol Style=\"max-width: 85% ; text-align: justify ; font-size: 1.8rem ; margin-top: 2rem ; line-height: 1.5\">\n",
    "    <li Value =\"1\" Id=\"exmp\">exmp</li>\n",
    "</ol>"
   ]
  },
  {
   "cell_type": "code",
   "execution_count": null,
   "metadata": {},
   "outputs": [],
   "source": []
  }
 ],
 "metadata": {
  "kernelspec": {
   "display_name": "F#",
   "language": "fsharp",
   "name": "ifsharp"
  },
  "language": "fsharp",
  "language_info": {
   "codemirror_mode": "",
   "file_extension": ".fs",
   "mimetype": "text/x-fsharp",
   "name": "fsharp",
   "nbconvert_exporter": "",
   "pygments_lexer": "",
   "version": "4.3.1.0"
  }
 },
 "nbformat": 4,
 "nbformat_minor": 2
}
