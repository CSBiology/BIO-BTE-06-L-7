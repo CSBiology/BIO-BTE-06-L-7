{
 "cells": [
  {
   "cell_type": "markdown",
   "metadata": {},
   "source": [
    "<h1 Style=\"font-size: 3rem\" >Targeted quantification of photosynthetic proteins - Whole Cell</h1>\n",
    "\n",
    "1. [Targeted quantification of photosynthetic proteins](#Targeted-quantification-of-photosynthetic-proteins)\n",
    "2. [References](#References)<br>\n",
    "    2.1 [Quantification of target peptides using qConQuantifier](#Quantification-of-target-peptides-using-qConQuantifie)<br>\n",
    "    2.2 [Label efficiency and quantification correction](#Label-efficiency-and-quantification-correction)<br>\n",
    "    2.3 [Calculation of protein concentration per cell](#Calculation-of-protein-concentration-per-cell)<br>"
   ]
  },
  {
   "cell_type": "markdown",
   "metadata": {},
   "source": [
    "## Targeted quantification of photosynthetic proteins\n",
    "\n",
    "### What will you do!?\n",
    "\n",
    "1. Read in QuantifiedPeptides.txt (output from QconQuantifier)\n",
    "2. This will use \"wholeCellNameMapping\" to apply correct information about used peptides to the evaluated data<br>\n",
    "   2.1 You will have to change the names of the 'map' - keys to fit your filenames.<br>\n",
    "   2.2 You will have to change concentration to fit your real peptide concentrations.<br>\n",
    "3. For all sequences the found intensities are averaged (mean), meaning: For \"PEPTIDE\" we take the average of all intensities over all charges and global modifications; <br>\n",
    "    ```fsharp\n",
    "    //PeptideSequence   globalMod charge -> intensity\n",
    "    ADLNVPLDK       False 2 -> missing\n",
    "    ADLNVPLDK       True  2 -> 1858.40598596182\n",
    "    ```\n",
    "    ... will result in:\n",
    "    ```fsharp\n",
    "    ADLNVPLDK           -> 1858.4059859618\n",
    "    ```\n",
    "4. Add protein names to correct peptide sequence\n",
    "5. Calculate ratio in float\n",
    "6. filter out peptides <code>\"AFPDAYVR\"; \"EVTLGFVDLMR\"</code> (Hammel et al.)\n",
    "7. filter out all intensities, which are missing(nan) or (+/-)infinite\n",
    "\n"
   ]
  },
  {
   "cell_type": "markdown",
   "metadata": {},
   "source": [
    "## References\n",
    "\n",
    "<ol Style=\"max-width: 85% ; text-align: justify ; font-size: 1.8rem ; margin-top: 2rem ; line-height: 1.5\">\n",
    "    <li Value =\"1\" Id=\"exmp\">exmp</li>\n",
    "</ol>"
   ]
  },
  {
   "cell_type": "code",
   "execution_count": null,
   "metadata": {},
   "outputs": [],
   "source": []
  }
 ],
 "metadata": {
  "kernelspec": {
   "display_name": "F#",
   "language": "fsharp",
   "name": "ifsharp"
  },
  "language": "fsharp",
  "language_info": {
   "codemirror_mode": "",
   "file_extension": ".fs",
   "mimetype": "text/x-fsharp",
   "name": "fsharp",
   "nbconvert_exporter": "",
   "pygments_lexer": "",
   "version": "4.3.1.0"
  }
 },
 "nbformat": 4,
 "nbformat_minor": 2
}
