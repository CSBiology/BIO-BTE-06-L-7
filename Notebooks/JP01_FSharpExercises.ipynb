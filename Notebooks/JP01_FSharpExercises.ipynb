{
 "cells": [
  {
   "cell_type": "markdown",
   "metadata": {},
    "source": [
      "<div Style=\"max-width: 85%\">\n",
      "\t<div Style=\"text-align: justify ; font-size: 1.8rem ; margin-top: 2rem ; line-height: 1.5\">\n",
      "This notebook contains introductional exercises for the FSharp programming language and also some small code examples for correct formatting.\n",
      "If you have questions at any point please ask us. We will discuss the first batch (task 1-6) before you can start the rest.\n",
      "\t</div>\n",
      "</div>\n",
      "\n",
      "# FSharp Introduction Exercises\n",
      "\n",
      "1. [Code Examples](#Code-Examples)\n",
      "2. [Exercises](#Exercises)\n",
      "    * [Task 1](#Task-1)\n",
      "    * [Task 2](#Task-2)\n",
      "    * [Task 3](#Task-3)\n",
      "    * [Task 4](#Task-4)\n",
      "    * [Task 5](#Task-5)\n",
      "    * [Task 6](#Task-6)\n",
      "    * [Task 7](#Task-7)\n",
      "    * [Task 8](#Task-8)\n",
      "    * [Task 9](#Task-9)\n",
      "    * [Task 10](#Task-10)\n",
      "    * [Task 11](#Task-11)"
    ]
  },
  {
   "cell_type": "markdown",
   "metadata": {},
    "source": [
      "<hr>\n",
      "\n",
      "<h1 Style=\"font-size: 2rem ; display: inline-block ; margin-top: 2rem\">Code Examples</h1>\n",
      "<a href=\"#FSharp-Introduction-Exercises\" style=\"display: inline-block\"><sup>&#8593;back</sup></a><br>\n",
      "\n",
      "<div Style=\"max-width: 85%\">\n",
      "\t<div Style=\"text-align: justify ; font-size: 1.8rem ; margin-top: 2rem ; line-height: 1.5\">\n",
      "We will beginn with some minor code examples to show you correct formatting. You can even use these examples to help you understand minor programming logics for your exercises below.\n",
      "\t</div>\n",
      "</div>"
    ]
  },
  {
   "cell_type": "code",
   "execution_count": 1,
   "metadata": {},
   "outputs": [
    {
     "data": {
      "text/plain": [
       "6.0"
      ]
     },
     "execution_count": 1,
     "metadata": {},
     "output_type": "execute_result"
    }
   ],
   "source": [
    "// Define a function 'mulitplyBy2', whoch should doubly any input Float.\n",
    "\n",
    "let mulitplyBy2 x = x * 2.\n",
    "\n",
    "mulitplyBy2 3."
   ]
  },
  {
   "cell_type": "markdown",
   "metadata": {},
    "source": [
      "<div Style=\"max-width: 85%\">\n",
      "\t<div Style=\"text-align: justify ; font-size: 1.8rem ; margin-top: 2rem ; line-height: 1.5\">\n",
      "If a exercises asks you to bind something to a specific name, keep that name! It might be used later on!\n",
      "Also remember to use camel case for names. This works by having a regular first letter and then have a capital letter at the start of each new word.\n",
      "\t</div>\n",
      "    <div Style=\"text-align: justify ; font-size: 1.8rem ; margin-top: 2rem ; line-height: 1.5\">\n",
      "exmp: <code>thisIsACamelCaseExample</code>\n",
      "\t</div>\n",
      "</div>"
    ]
  },
  {
   "cell_type": "code",
   "execution_count": 2,
   "metadata": {},
   "outputs": [
    {
     "data": {
      "text/plain": [
       "125.6636"
      ]
     },
     "execution_count": 2,
     "metadata": {},
     "output_type": "execute_result"
    },
    {
     "data": {
      "text/plain": [
       "Das Volumen des Zylinders ist: 125.663600\r\n"
      ]
     },
     "metadata": {},
     "output_type": "display_data"
    }
   ],
   "source": [
    "// Create a function 'calculateCylinderVolume', which should, with a given radius and lenght, \n",
    "// calculate and return the volume of a cylinder AND print \"The volume of the cylinder is: XX.\" into the console. 'XX' is,\n",
    "// of course, the correct volume for the cylinder. (The output of a printfn function is Unit.)\n",
    "\n",
    "let calculateCylinderVolume radius length : float =\n",
    "   // function body\n",
    "   let pi = 3.14159 //or System.Math.PI\n",
    "   let volume = length * pi * radius * radius\n",
    "   printfn \"Das Volumen des Zylinders ist: %f\" volume\n",
    "   volume\n",
    "   \n",
    "calculateCylinderVolume 2. 10."
   ]
  },
  {
   "cell_type": "markdown",
   "metadata": {},
    "source": [
      " <div Style=\"max-width: 85%\">\n",
      "\t<div Style=\"text-align: justify ; font-size: 1.8rem ; margin-top: 2rem ; line-height: 1.5\">\n",
      "        <ul>\n",
      "            <li>Try to follow the exercises as close as possible, to not overlook something like \"...Volumen eines Zylinders (..) berechnet UND zusätzlich ...\" as these small differences migth be a valuable part of the exercises.</li>\n",
      "             <li>Lines of code do not have any cost, don't be to stingy about them, e.g. have an extra line with a binding of <code>let pi = 3.14159</code>, so you can just use \"pi\" instead of the number. </li>\n",
      "             <li>This improves readability and keeps the function modular.</li>\n",
      "            <li>By defining pi inside of the scope of <code>calculateCylinderVolume</code> it cannot be accessed from outside, keeping your overall code nice and clean.</li>\n",
      "        </ul>\n",
      "    </div>\n",
      "</div>\n"
    ]
  },
  {
   "cell_type": "code",
   "execution_count": 3,
   "metadata": {},
   "outputs": [
    {
     "data": {
      "text/plain": [
       "true"
      ]
     },
     "execution_count": 3,
     "metadata": {},
     "output_type": "execute_result"
    },
    {
     "data": {
      "text/plain": [
       "Both queens can hit each other\r\n"
      ]
     },
     "metadata": {},
     "output_type": "display_data"
    }
   ],
   "source": [
    "// A chessboard is a 8x8 field. The rows and columns have the indices 0 - 7.\n",
    "// Create a function, which should return true if two queens can hit each other or false if they can't.\n",
    "// The functions parameters should be two Tuples (int*int).\n",
    "\n",
    "let canHit (queen1 : int*int) (queen2 : int*int) =\n",
    "    let (posX1, posY1),(posX2, posY2)= (queen1,queen2)\n",
    "    if \n",
    "        // check if both queens are on the same x-axis\n",
    "        (posX1 = posX2) \n",
    "        // check if both queens are on the same y-axis\n",
    "        || (posY1 = posY2) \n",
    "        // check if both queens are on the same diagonal\n",
    "        || (abs (posX1 - posX2) = abs (posY1 - posY2))\n",
    "    then\n",
    "        printfn \"Both queens can hit each other\"\n",
    "        true\n",
    "    else \n",
    "        printfn \"Both queen cannot hit each other\"\n",
    "        false\n",
    "        \n",
    "canHit (3,5) (5,7)"
   ]
  },
  {
   "cell_type": "markdown",
   "metadata": {},
    "source": [
      "\n",
      "<hr>\n",
      "\n",
      "<h1 Style=\"font-size: 2.5rem ; display: inline-block ; margin-top: 2rem\">Exercises</h1>\n",
      "<a href=\"#FSharp-Introduction-Exercises\" style=\"display: inline-block\"><sup>&#8593;back</sup></a><br>\n"
    ]
  },
  {
   "cell_type": "markdown",
   "metadata": {},
    "source": [
      "<h1 Style=\"font-size: 2rem ; display: inline-block ; margin-top: 2rem\">Task 1</h1>\n",
      "<a href=\"#FSharp-Introduction-Exercises\" style=\"display: inline-block\"><sup>&#8593;back</sup></a><br>"
    ]
  },
  {
   "cell_type": "code",
   "execution_count": 4,
   "metadata": {},
   "outputs": [],
   "source": [
    "// Bind a String of your name (\"Name\") to the name 'myFirstName'.\n",
    "\n",
    "// Lösung\n",
    "\n"
   ]
  },
  {
   "cell_type": "markdown",
   "metadata": {},
    "source": [
      "<h1 Style=\"font-size: 2rem ; display: inline-block ; margin-top: 2rem\">Task 2</h1>\n",
      "<a href=\"#FSharp-Introduction-Exercises\" style=\"display: inline-block\"><sup>&#8593;back</sup></a><br>"
    ]
  },
  {
   "cell_type": "code",
   "execution_count": 5,
   "metadata": {},
   "outputs": [],
   "source": [
    "// Define a variable 'myName', by adding 'myFirstName' to the rest of your name.\n",
    "\n",
    "// Lösung\n",
    "\n"
   ]
  },
  {
   "cell_type": "markdown",
   "metadata": {},
    "source": [
      "<h1 Style=\"font-size: 2rem ; display: inline-block ; margin-top: 2rem\">Task 3</h1>\n",
      "<a href=\"#FSharp-Introduction-Exercises\" style=\"display: inline-block\"><sup>&#8593;back</sup></a><br>"
    ]
  },
  {
   "cell_type": "code",
   "execution_count": 6,
   "metadata": {},
   "outputs": [],
   "source": [
    "// Define a variable 'summeXY' as the sum of any two Integer numbers. Do this, by defining x and y as separate \n",
    "// let - bindings inside the functional scope of the 'summeXY' function. \n",
    "// (The function MUST contain three let - bindings)\n",
    "\n",
    "// Lösung\n",
    "\n"
   ]
  },
  {
   "cell_type": "markdown",
   "metadata": {},
    "source": [
      "<h1 Style=\"font-size: 2rem ; display: inline-block ; margin-top: 2rem\">Task 4</h1>\n",
      "<a href=\"#FSharp-Introduction-Exercises\" style=\"display: inline-block\"><sup>&#8593;back</sup></a><br>"
    ]
  },
  {
   "cell_type": "code",
   "execution_count": 7,
   "metadata": {},
   "outputs": [],
   "source": [
    "// Declare a Tuple, consisting of 2 and \"February\" and bind the Tuple to the name 'tuple1'\n",
    "\n",
    "// Lösung \n",
    "\n"
   ]
  },
  {
   "cell_type": "markdown",
   "metadata": {},
    "source": [
      "<h1 Style=\"font-size: 2rem ; display: inline-block ; margin-top: 2rem\">Task 5</h1>\n",
      "<a href=\"#FSharp-Introduction-Exercises\" style=\"display: inline-block\"><sup>&#8593;back</sup></a><br>"
    ]
  },
  {
   "cell_type": "code",
   "execution_count": 8,
   "metadata": {},
   "outputs": [],
   "source": [
    "// Declare a Tuple, consisting of 2, \"February\" and \"spring\" and bind the Tuple to the name 'tuple2'\n",
    "\n",
    "// Lösung \n",
    "\n"
   ]
  },
  {
   "cell_type": "markdown",
   "metadata": {},
    "source": [
      "<h1 Style=\"font-size: 2rem ; display: inline-block ; margin-top: 2rem\">Task 6</h1>\n",
      "<a href=\"#FSharp-Introduction-Exercises\" style=\"display: inline-block\"><sup>&#8593;back</sup></a><br>"
    ]
  },
  {
   "cell_type": "code",
   "execution_count": 9,
   "metadata": {},
   "outputs": [],
   "source": [
    "// Access the second variable of the Tuple 'tuple1'.\n",
    "// Access the second variable of the Tuple 'tuple2'.\n",
    "\n",
    "// Lösung \n",
    "\n"
   ]
  },
  {
   "cell_type": "markdown",
   "metadata": {},
    "source": [
      "<h1 Style=\"font-size: 2rem ; display: inline-block ; margin-top: 2rem\">Task 7</h1>\n",
      "<a href=\"#FSharp-Introduction-Exercises\" style=\"display: inline-block\"><sup>&#8593;back</sup></a><br>"
    ]
  },
  {
   "cell_type": "code",
   "execution_count": 10,
   "metadata": {},
   "outputs": [],
   "source": [
    "// Create a Record Type with the name 'Month'. 'Month' should contain the fields 'Number' (int),\n",
    "// 'Name' (string) and 'Season' (string).\n",
    "\n",
    "// Lösung\n",
    "\n"
   ]
  },
  {
   "cell_type": "markdown",
   "metadata": {},
    "source": [
      "<h1 Style=\"font-size: 2rem ; display: inline-block ; margin-top: 2rem\">Task 8</h1>\n",
      "<a href=\"#FSharp-Introduction-Exercises\" style=\"display: inline-block\"><sup>&#8593;back</sup></a><br>"
    ]
  },
  {
   "cell_type": "code",
   "execution_count": 11,
   "metadata": {},
   "outputs": [],
   "source": [
    "// Declare a function 'createMonth' with three input parameters and which should return a 'Month' - Record Type.\n",
    "// Use the values from 'tuple2' and create a month with these as input.  \n",
    "\n",
    "// Lösung\n",
    "\n"
   ]
  },
  {
   "cell_type": "markdown",
   "metadata": {},
    "source": [
      "<h1 Style=\"font-size: 2rem ; display: inline-block ; margin-top: 2rem\">Task 9</h1>\n",
      "<a href=\"#FSharp-Introduction-Exercises\" style=\"display: inline-block\"><sup>&#8593;back</sup></a><br>"
    ]
  },
  {
   "cell_type": "code",
   "execution_count": 12,
   "metadata": {},
   "outputs": [],
   "source": [
    "// Create a function called 'myMonthsPrinter' which should take a 'Month' as input and return a unit output \n",
    "// (printfn - command) in the form of \"My favorite month is [Month Name]. It is the [Number of Month] month\n",
    "// in the year and i especially like this time because it is part of [Season].\"\n",
    "\n",
    "// Lösung\n",
    "\n"
   ]
  },
  {
   "cell_type": "markdown",
   "metadata": {},
    "source": [
      "<h1 Style=\"font-size: 2rem ; display: inline-block ; margin-top: 2rem\">Task 10</h1>\n",
      "<a href=\"#FSharp-Introduction-Exercises\" style=\"display: inline-block\"><sup>&#8593;back</sup></a><br>"
    ]
  },
  {
   "cell_type": "code",
   "execution_count": 13,
   "metadata": {},
   "outputs": [],
   "source": [
    "// We want to put additional emphasis on readability of code ...\n",
    "\n",
    "// Oh no, the following function is not readable. Write the function new and use pipe operators!\n",
    "\n",
    "let unreadableFunc x = (string ((x - 7) * 2) + \"Generic\").ToUpper().ToCharArray()\n",
    "\n",
    "// Lösung\n",
    "\n"
   ]
  },
  {
   "cell_type": "markdown",
   "metadata": {},
    "source": [
      "<h1 Style=\"font-size: 2rem ; display: inline-block ; margin-top: 2rem\">Task 11</h1>\n",
      "<a href=\"#FSharp-Introduction-Exercises\" style=\"display: inline-block\"><sup>&#8593;back</sup></a><br>"
    ]
  },
  {
   "cell_type": "code",
   "execution_count": 14,
   "metadata": {},
   "outputs": [],
   "source": [
    "// Create a function 'replaceSmallNumbers', which should replace all \n",
    "// integers in a list with a 0 if the integer is smaller than 5.\n",
    "\n",
    "let numList = [0 .. 20]\n",
    "\n",
    "// Lösung\n",
    "\n"
   ]
  },
  {
   "cell_type": "markdown",
   "metadata": {},
   "source": [
    "<hr>"
   ]
  },
  {
   "cell_type": "markdown",
   "metadata": {},
   "source": [
    "<div style=\"width: 100% ; height: 60px ; display: flex ; align-content: center\">\n",
    "        <a href=\"JP00_Systems_Biology_FSharp_Introduction.ipynb\" style=\"padding: 8px ; border: 2px solid blue ; border-radius: 5px ; font-size: 1.5rem ; cursor: pointer ; color: inherit; text-decoration: none ; margin-right: auto ; display: block ; height: 40px ; width: 80px ; text-align: center ; color: white ; background-color: blue\">\n",
    "        &#171; JP00\n",
    "    </a>\n",
    "    <a href=\"JP02_Plant_Systems_Biology.ipynb\" style=\"padding: 8px ; border: 2px solid blue ; border-radius: 5px ; font-size: 1.5rem ; cursor: pointer ; color: inherit; text-decoration: none ; margin-left: auto ; display: block ; height: 40px ; width: 80px ; text-align: center ; color: white ; background-color: blue\">JP02 &#187;</a>\n",
    "</div>"
   ]
  },
  {
   "cell_type": "code",
   "execution_count": null,
   "metadata": {},
   "outputs": [],
   "source": []
  }
 ],
 "metadata": {
  "kernelspec": {
   "display_name": "F#",
   "language": "fsharp",
   "name": "ifsharp"
  },
  "language": "fsharp",
  "language_info": {
   "codemirror_mode": "",
   "file_extension": ".fs",
   "mimetype": "text/x-fsharp",
   "name": "fsharp",
   "nbconvert_exporter": "",
   "pygments_lexer": "",
   "version": "4.3.1.0"
  }
 },
 "nbformat": 4,
 "nbformat_minor": 2
}
