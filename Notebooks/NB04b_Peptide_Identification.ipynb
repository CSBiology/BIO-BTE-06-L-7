{
 "cells": [
  {
   "cell_type": "markdown",
   "metadata": {},
   "source": [
    "# NB04b Peptide Identification\n",
    "\n",
    "[![Binder](https://mybinder.org/badge_logo.svg)](https://mybinder.org/v2/gh/CSBiology/BIO-BTE-06-L-7/gh-pages?filepath=NB04b_Peptide_Identification.ipynb)\n",
    "\n",
    "[Download Notebook](https://github.com/CSBiology/BIO-BTE-06-L-7/releases/download/NB04a_NB04b/NB04b_Peptide_Identification.ipynb)\n",
    "\n",
    "1. Understanding peptide identification from MS2 spectra\n",
    "2. Matching and scoring of Tandem MS peptide identification\n",
    "    3. Step 1: Data acquisition and preprocessing\n",
    "    4. Step 2: Preselecting the peptides of interest\n",
    "    5. Step 3+4: Matching and Scoring\n",
    "\n",
    "## Understanding peptide identification from MS2 spectra\n",
    "\n",
    "Under low-energy fragmentation conditions, peptide fragment patterns are reproducible and, in general, predictable, which allows for an \n",
    "amino acid sequence identification according to a fragmentation expectation. Algorithms for peptide identification perform in principle \n",
    "three basic tasks:\n",
    "\n",
    "**(i)** a raw data preprocessing step is applied to the MS/MS spectra to obtain clean peak information. The same signal filtering \n",
    "and background subtraction methods are used as discussed in the section of low-level processing. Peak detection, however, may be performed \n",
    "differently. Preprocessing of MS/MS spectra focuses on the extraction of the precise m/z of the peak rather than the accurate peak areas. \n",
    "The conversion of a peak profile into the corresponding m/z and intensity values reduces the complexity, its representation is termed centroiding. \n",
    "To extract the masses for identification in a simple and fast way, peak fitting approaches are used. These approaches take either the most intense \n",
    "point of the peak profile, fit a Lorentzian distribution to the profile, or use a quadratic fit. \n",
    "\n",
    "**(ii)** Spectrum information and possible amino acid sequences assignments are evaluated. \n",
    "\n",
    "**(iii)** The quality of the match between spectrum and possible sequences is scored.\n",
    "\n",
    "Even though the three steps roughly describe the basic principle of algorithms used for peptide sequence identification, most implementations \n",
    "show differences in individual steps which can lead to major changes in the outcome. Therefore, it has been proven useful to utilize more than \n",
    "one algorithm for a robust and thorough identification. Due to their major difference in identification strategies and prerequisites, \n",
    "identification algorithms are normally classified into three categories: (i) *de novo* peptide sequencing, (ii) peptide sequence-tag (PST) \n",
    "searching, and (iii) uninterpreted sequence searching. However, in this notebook we focus on the explanation of (iii) uninterpreted sequence \n",
    "searching, the most frequently used methods.\n",
    "## Matching and scoring of Tandem MS peptide identification\n",
    "\n",
    "![](https://raw.githubusercontent.com/CSBiology/BIO-BTE-06-L-7/main/docs/img/ComputationalProteinIdentification.png)\n",
    "\n",
    "**Figure 5: Process of computational identification of peptides from their fragment spectra**\n",
    "\n",
    "Previously we learned, that peptides fragment to create patterns characteristic of a specific amino acid sequence. These patterns are reproducible and, in general, \n",
    "predictable taking the applied fragmentation method into account. This can be used for computational identification of peptides from their fragment spectra. \n",
    "This process can be subdivided into 5 main steps: spectrum preprocessing, selection of possible sequences, generating theoretical spectra, matching and scoring \n",
    "(Figure 5). The first step is a preprocessing of the experimental spectra and is done to reduce noise. Secondly, all possible amino acid \n",
    "sequences are selected which match the particular precursor peptide mass. The possible peptides can but do not need to be restricted to a particular organism. \n",
    "A theoretical spectrum is predicted for each of these amino acid sequences. Matching and scoring is performed by comparing experimental spectra to their predicted \n",
    "corresponding theoretical spectra. The score function measures the closeness of fit between the experimental acquired and theoretical spectrum. There are many \n",
    "different score functions, which can be considered as the main reason of different identifications considering different identification algorithm. The most \n",
    "natural score function is the cross correlation score (xcorr) used by the commercially available search tool SEQUEST. One of the reasons the xcorr is so \n",
    "sensitive is because it involves a correction factor that assesses the background correlation for each acquired spectrum and the theoretically predicted \n",
    "spectrum from sequences within a database. To compute this correction factor, a measure of similarity is calculated at different offsets between a preprocessed \n",
    "mass spectrum and a theoretical spectrum. The final xcorr is then the correlation at zero offset minus the mean correlation from all the individual offsets.\n",
    "\n",
    "Thus, the correlation function measures the coherence of two signals by, in effect, translating one signal across the other. This can be mathematically \n",
    "achieved using the formula for cross-correlation in the form for discrete input signals:\n",
    "\n",
    "***Equation 5***\n",
    "\n",
    "![](https://latex.codecogs.com/png.latex?\\large&space;R_{\\tau}&space;=&space;\\sum_{i=0}^{n-1}x_{i}\\cdot%20y_{i&plus;\\tau})\n",
    "\n",
    "where x(i) is a peak of the reconstructed spectrum at position i and y(i) is a peak of the experimental spectrum. The displacement value 𝜏 \n",
    "is the amount by which the signal is offset during the translation and is varied over a range of values. If two signals are the same, the correlation \n",
    "function should have its maxima at 𝜏=0, where there is no offset. The average of the offset-correlation is seen as the average background correlation \n",
    "and needs to be subtracted from the correlation at 𝜏=0. It follows: \n",
    "\n",
    "***Equation 6***\n",
    "\n",
    "![](https://latex.codecogs.com/png.latex?xcorr&space;=&space;R_{0}&space;-&space;\\frac{(\\sum&space;\\begin{matrix}&space;\\tau=&plus;offeset\\\\&space;\\tau=-offeset\\end{matrix}R_{\\tau})}{2*offset&plus;1})\n",
    "\n",
    "In practice many theoretical spectra have to be matched again a single experimental spectrum. Therefore, the calculation can be speed up by reformulating Equation 5 and Equation 6 and introduce a preprocessing step, which is independent of the predicted spectra.\n",
    "\n",
    "***Equation 7***\n",
    "\n",
    "![](https://latex.codecogs.com/png.latex?xcorr&space;=&space;x_{0}\\cdot&space;y_{0}&space;-&space;\\frac{(\\sum&space;\\begin{matrix}&space;\\tau=&plus;offeset\\\\&space;\\tau=-offeset\\end{matrix}x_{0}\\cdot&space;y_{\\tau})}{2*offset&plus;1})\n",
    "\n",
    "For the preprocessed experimental spectrum y' it follows:\n",
    "\n",
    "***Equation 8***\n",
    "\n",
    "![](https://latex.codecogs.com/png.latex?xcorr&space;=&space;x_{0}\\cdot&space;y`)\n",
    "\n",
    "where:\n",
    "\n",
    "***Equation 9***\n",
    "\n",
    "![](https://latex.codecogs.com/png.latex?y'&space;=&space;y_{0}&space;-&space;\\frac{(\\sum&space;\\begin{matrix}&space;\\tau=&plus;offeset\\\\&space;\\tau=-offeset\\end{matrix}x_{0}\\cdot&space;y_{\\tau})}{2*offset&plus;1})\n",
    "\n",
    "Matching a measured spectrum against chlamy database\n"
   ]
  },
  {
   "cell_type": "code",
   "execution_count": null,
   "metadata": {
    "dotnet_interactive": {
     "language": "fsharp"
    }
   },
   "outputs": [],
   "source": [
    "#r \"nuget: BioFSharp, 2.0.0-beta4\"\n",
    "#r \"nuget: BioFSharp.IO, 2.0.0-beta4\"\n",
    "#r \"nuget: Plotly.NET, 4.2.0\"\n",
    "#r \"nuget: BioFSharp.Mz, 0.1.5-beta\"\n",
    "#r \"nuget: BIO-BTE-06-L-7_Aux, 0.0.10\"\n",
    "\n",
    "#r \"nuget: Plotly.NET.Interactive, 4.2.0\"\n",
    "\n",
    "open Plotly.NET\n",
    "open BioFSharp\n",
    "open BioFSharp.Mz\n",
    "open BIO_BTE_06_L_7_Aux.FS3_Aux\n",
    "open System.IO\n"
   ]
  },
  {
   "cell_type": "markdown",
   "metadata": {},
   "source": [
    "### Step 1: Data acquisition and preprocessing\n",
    "\n",
    "We load a single MS2 spectrum that is saved in a mgf file.\n"
   ]
  },
  {
   "cell_type": "code",
   "execution_count": null,
   "metadata": {
    "dotnet_interactive": {
     "language": "fsharp"
    }
   },
   "outputs": [],
   "source": [
    "// Code-Block 1\n",
    "let directory = __SOURCE_DIRECTORY__\n",
    "let path = Path.Combine[|directory;\"downloads/ms2sample.mgf\"|]\n",
    "downloadFile path \"ms2sample.mgf\" \"bio-bte-06-l-7\"\n",
    "\n",
    "let ms2 = \n",
    "    BioFSharp.IO.Mgf.readMgf path\n",
    "    |> List.head\n",
    "    \n",
    "ms2\n"
   ]
  },
  {
   "cell_type": "markdown",
   "metadata": {},
   "source": [
    "Here, the spectrum is already centroidized as shown in *NB03c\\_Centroidisation.ipynb* using the function \n",
    "`msPeakPicking`. So we just visualize mass and intensity:\n"
   ]
  },
  {
   "cell_type": "code",
   "execution_count": null,
   "metadata": {
    "dotnet_interactive": {
     "language": "fsharp"
    }
   },
   "outputs": [],
   "source": [
    "// Code-Block 2\n",
    "\n",
    "let ms2Chart = \n",
    "    Chart.Column(ms2.Intensity, ms2.Mass) \n",
    "    |> Chart.withTemplate ChartTemplates.light\n",
    "\n",
    "\n",
    "ms2Chart\n"
   ]
  },
  {
   "cell_type": "markdown",
   "metadata": {},
   "source": [
    "Now, we will preprocess the experimental spectrum from our example. This is on the one hand to reduce noise, but also to make \n",
    "the measured spectrum more like the once we are able to simulate. \n"
   ]
  },
  {
   "cell_type": "code",
   "execution_count": null,
   "metadata": {
    "dotnet_interactive": {
     "language": "fsharp"
    }
   },
   "outputs": [],
   "source": [
    "// Code-Block 3\n",
    "\n",
    "let lowerScanLimit = 150.\n",
    "let upperScanLimit = 1000.\n",
    "\n",
    "let preprocessedIntesities =\n",
    "    Mz.PeakArray.zip ms2.Mass ms2.Intensity\n",
    "    |> (fun pa -> Mz.PeakArray.peaksToNearestUnitDaltonBinVector pa lowerScanLimit upperScanLimit)\n",
    "    |> (fun pa -> Mz.SequestLike.windowNormalizeIntensities pa 10)\n",
    "    \n",
    "let intensityChart = \n",
    "    Chart.Column(preprocessedIntesities, [lowerScanLimit .. upperScanLimit])\n",
    "    |> Chart.withTemplate ChartTemplates.light\n",
    "\n",
    "intensityChart\n"
   ]
  },
  {
   "cell_type": "markdown",
   "metadata": {},
   "source": [
    "### Step 2: Preselecting the peptides of interest\n",
    "\n",
    "Every MS2 spectrum is accompanied by a m/z ratio reported by the instrument. Additionally, we can estimate the charge looking \n",
    "at the isotopic cluster. We take the peptide \"DTDILAAFR\" from our previous notebook again. Our example has a measured m/z = 511.2691141 and \n",
    "a charge of z=2.\n"
   ]
  },
  {
   "cell_type": "code",
   "execution_count": null,
   "metadata": {
    "dotnet_interactive": {
     "language": "fsharp"
    }
   },
   "outputs": [],
   "source": [
    "let peptideMass = \n",
    "    Mass.ofMZ 511.2691141 2.\n",
    "\n",
    "peptideMass\n"
   ]
  },
  {
   "cell_type": "markdown",
   "metadata": {},
   "source": [
    "From our previos notebook *NB02b\\_Digestion\\_and\\_mass\\_calculation.ipynb*, we know how to \n",
    "calculate all peptide masses that we can expect to be present in *Chlamydomonas reinhardtii*.\n"
   ]
  },
  {
   "cell_type": "code",
   "execution_count": null,
   "metadata": {
    "dotnet_interactive": {
     "language": "fsharp"
    }
   },
   "outputs": [],
   "source": [
    "// Code-Block 4\n",
    "let path2 = Path.Combine[|directory;\"downloads/Chlamy_JGI5_5(Cp_Mp).fasta\"|]\n",
    "downloadFile path2 \"Chlamy_JGI5_5(Cp_Mp).fasta\" \"bio-bte-06-l-7\"\n",
    "\n",
    "let peptideAndMasses = \n",
    "    path2\n",
    "    |> IO.FastA.fromFile BioArray.ofAminoAcidString\n",
    "    |> Seq.toArray\n",
    "    |> Array.mapi (fun i fastAItem ->\n",
    "        Digestion.BioArray.digest Digestion.Table.Trypsin i fastAItem.Sequence\n",
    "        |> Digestion.BioArray.concernMissCleavages 0 0\n",
    "    )\n",
    "    |> Array.concat\n",
    "    |> Array.map (fun peptide ->\n",
    "        // calculate mass for each peptide\n",
    "        peptide.PepSequence, BioSeq.toMonoisotopicMassWith (BioItem.monoisoMass ModificationInfo.Table.H2O) peptide.PepSequence\n",
    "    )\n",
    "\n",
    "peptideAndMasses |> Array.head\n"
   ]
  },
  {
   "cell_type": "markdown",
   "metadata": {},
   "source": [
    "However, we are only interest in possible amino acid sequences, that match the particular precursor peptide mass of our example spectrum \n",
    "with 1020.523675 Da. Additionaly, we should also consider a small measurement error.\n"
   ]
  },
  {
   "cell_type": "code",
   "execution_count": null,
   "metadata": {
    "dotnet_interactive": {
     "language": "fsharp"
    }
   },
   "outputs": [],
   "source": [
    "// Code-Block 5\n",
    "\n",
    "peptideAndMasses\n",
    "|> Array.filter (fun (sequence,mass) -> mass > 1020.52  && mass < 1020.53)\n"
   ]
  },
  {
   "cell_type": "markdown",
   "metadata": {},
   "source": [
    "In the previous notebook *NB04a\\_Fragmentation\\_for\\_peptide\\_identification.ipynb*, \n",
    "we used functions that generate the theoretical series of b- and y-ions from the given peptide. Combined with the function \n",
    "`Mz.SequestLike.predictOf` that generates theoretical spectra that fit the Sequest scoring algorithm.\n"
   ]
  },
  {
   "cell_type": "code",
   "execution_count": null,
   "metadata": {
    "dotnet_interactive": {
     "language": "fsharp"
    }
   },
   "outputs": [],
   "source": [
    "// Code-Block 6\n",
    "\n",
    "let predictFromSequence peptide =\n",
    "    [\n",
    "        peptide\n",
    "        |> Mz.Fragmentation.Series. yOfBioList BioItem.initMonoisoMassWithMemP\n",
    "        peptide\n",
    "        |> Mz.Fragmentation.Series.bOfBioList BioItem.initMonoisoMassWithMemP\n",
    "    ]\n",
    "    |> List.concat\n",
    "    |> Mz.SequestLike.predictOf (lowerScanLimit,upperScanLimit) 2.\n"
   ]
  },
  {
   "cell_type": "markdown",
   "metadata": {},
   "source": [
    "### Step 3+4: Matching and Scoring\n",
    "\n",
    "In the matching step, we compare theoretical spectra of peptides within our precursor peptide mass range with our measured spectra. \n",
    "We get a score which tells us how well the theoretical spectrum fits the given experimental spectrum.\n"
   ]
  },
  {
   "cell_type": "code",
   "execution_count": null,
   "metadata": {
    "dotnet_interactive": {
     "language": "fsharp"
    }
   },
   "outputs": [],
   "source": [
    "// Code-Block 7\n",
    "let sortedScores = \n",
    "    peptideAndMasses\n",
    "    |> Array.filter (fun (sequence,mass) ->\n",
    "        mass > 1020.52  && mass < 1020.53\n",
    "    )\n",
    "    |> Array.map (fun (sequence,mass)    ->\n",
    "        sequence,predictFromSequence sequence\n",
    "    )\n",
    "    |> Array.map (fun (sequence,theoSpectrum) -> \n",
    "        sequence,BioFSharp.Mz.SequestLike.scoreSingle theoSpectrum preprocessedIntesities\n",
    "    )\n",
    "    |> Array.sortByDescending (fun (sequence,score) -> score)\n",
    "\n",
    "sortedScores \n"
   ]
  },
  {
   "cell_type": "markdown",
   "metadata": {},
   "source": [
    "Finally, we pick the sequence with the best score and are done for now. Notice however, that in a real world we would need to \n",
    "relate our score to the complete data set to get an idea of the overall quality and which numerical value we could trust. \n",
    "## Questions\n",
    "\n",
    "1. How does the Chart change, when you change the value of 'numberofwindows' from 10 to 20?\n",
    "  What does this parameter specify? (Code-Block 3)\n",
    "2. What is the rational behind the normalization of measured spectra?\n",
    "3. Why are we adding the mass of water to the peptide sequence? (BioItem.monoisoMass ModificationInfo.Table.H2O) (Code-Block 4)\n",
    "4. In code block 6 you get a raw estimate on how many peptide sequences are candidates for a match, when given a certain mz.\n",
    "Given that one MS run can consist of up to 120.000 ms2 spectra, how many peptide spectrum matches do you have to perform?\n",
    "What does that mean for the performance of the application? Which parameters influence the size of the \"search space\"? (Code-Block 6)\n",
    "5. What happens when you choose different lower and upper scan limits?\n",
    "6. Visualize the distribution of scores using a histogram. (Code-Block 7)\n"
   ]
  }
 ],
 "metadata": {
  "kernelspec": {
   "display_name": ".NET (F#)",
   "language": "F#",
   "name": ".net-fsharp"
  },
  "langauge_info": {
   "file_extension": ".fs",
   "mimetype": "text/x-fsharp",
   "name": "C#",
   "pygments_lexer": "fsharp",
   "version": "4.5"
  },
  "language_info": {
   "name": "polyglot-notebook"
  },
  "polyglot_notebook": {
   "kernelInfo": {
    "defaultKernelName": "fsharp",
    "items": [
     {
      "aliases": [],
      "name": "fsharp"
     }
    ]
   }
  }
 },
 "nbformat": 4,
 "nbformat_minor": 1
}
