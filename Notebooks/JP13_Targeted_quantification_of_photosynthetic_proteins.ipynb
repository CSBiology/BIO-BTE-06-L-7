{
 "cells": [
  {
   "cell_type": "markdown",
   "metadata": {},
   "source": [
    "<h1 Style=\"font-size: 3rem\" >Targeted quantification of photosynthetic proteins</h1>\n",
    "\n",
    "1. [Targeted quantification of photosynthetic proteins](#Targeted-quantification-of-photosynthetic-proteins)\n",
    "2. [References](#References)<br>\n",
    "    2.1 [Quantification of target peptides using qConQuantifier](#Quantification-of-target-peptides-using-qConQuantifie)<br>\n",
    "    2.2 [Label efficiency and quantification correction](#Label-efficiency-and-quantification-correction)<br>\n",
    "    2.3 [Calculation of protein concentration per cell](#Calculation-of-protein-concentration-per-cell)<br>"
   ]
  },
  {
   "cell_type": "markdown",
   "metadata": {},
   "source": [
    "## Targeted quantification of photosynthetic proteins\n",
    "\n",
    "### Quantification of target peptides using qConQuantifier\n",
    "\n",
    "### Label efficiency and quantification correction\n",
    "\n",
    "### Calculation of protein concentration per cell"
   ]
  },
  {
   "cell_type": "markdown",
   "metadata": {},
   "source": [
    "## References\n",
    "\n",
    "<ol Style=\"max-width: 85% ; text-align: justify ; font-size: 1.8rem ; margin-top: 2rem ; line-height: 1.5\">\n",
    "    <li Value =\"1\" Id=\"exmp\">exmp</li>\n",
    "</ol>"
   ]
  },
  {
   "cell_type": "code",
   "execution_count": null,
   "metadata": {},
   "outputs": [],
   "source": []
  }
 ],
 "metadata": {
  "kernelspec": {
   "display_name": "F#",
   "language": "fsharp",
   "name": "ifsharp"
  },
  "language": "fsharp",
  "language_info": {
   "codemirror_mode": "",
   "file_extension": ".fs",
   "mimetype": "text/x-fsharp",
   "name": "fsharp",
   "nbconvert_exporter": "",
   "pygments_lexer": "",
   "version": "4.3.1.0"
  }
 },
 "nbformat": 4,
 "nbformat_minor": 2
}
