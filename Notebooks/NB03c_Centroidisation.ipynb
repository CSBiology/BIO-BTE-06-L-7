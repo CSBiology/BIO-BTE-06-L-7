{
  "cells": [
    {
      "cell_type": "markdown",
      "metadata": {},
      "source": [
        "# NB03c Centroidisation\n",
        "\n",
        "[![Binder](https://mybinder.org/badge_logo.svg)](https://mybinder.org/v2/gh/CSBiology/BIO-BTE-06-L-7/gh-pages?filepath=NB03c_Centroidisation.ipynb)\n",
        "\n",
        "[Download Notebook](https://github.com/CSBiology/BIO-BTE-06-L-7/releases/download/NB03a_NB03b_NB03c/NB03c_Centroidisation.ipynb)\n",
        "\n",
        "1. Centroidisation\n",
        "2. Peak fitting and picking functions\n",
        "3. Application of the peak picking function\n",
        "4. Questions\n",
        "\n",
        "## Centroidisation\n",
        "\n",
        "In reality, a peak is represented by a collection of signals from a peptide or fragment ion species that are measured by the \n",
        "specific detector. Due to imperfections of the measurement, there is a scatter around the accurate mass. This distribution \n",
        "along the m/z axis of signals from ion species is termed profile peak. The conversion of a peak profile into the corresponding m/z and \n",
        "intensity values reduces the complexity, its representation is termed centroiding. To extract the masses for identification in a simple \n",
        "and fast way, peak fitting approaches are used. Further, peak fitting algorithms are also needed to extract ion abundancies and therefore \n",
        "explained under quantification in the following section."
      ]
    },
    {
      "cell_type": "code",
      "execution_count": 1,
      "metadata": {
        "dotnet_interactive": {
          "language": "fsharp"
        }
      },
      "source": [
        "#r \"nuget: BioFSharp, 2.0.0-beta5\"\n",
        "#r \"nuget: BioFSharp.IO, 2.0.0-beta5\"\n",
        "#r \"nuget: Plotly.NET, 2.0.0-beta6\"\n",
        "#r \"nuget: BioFSharp.Mz, 0.1.5-beta\"\n",
        "#r \"nuget: BIO-BTE-06-L-7_Aux, 0.0.1\"\n",
        "\n",
        "#r \"nuget: Plotly.NET, 2.0.0-beta8\"\n",
        "#r \"nuget: Plotly.NET.Interactive, 2.0.0-beta8\"\n",
        "\n",
        "open Plotly.NET\n",
        "open BioFSharp.Mz\n",
        "open BIO_BTE_06_L_7_Aux.FS3_Aux\n",
        "open System.IO"
      ],
      "outputs": []
    },
    {
      "cell_type": "markdown",
      "metadata": {},
      "source": [
        "## Peak fitting and picking functions\n",
        "\n",
        "We declare a function which centroids the given m/z and intensity data. In the scope of the function the m/z and intensity data \n",
        "are padded for the wavelet (You will read more about wavelet functions later in *NB05a\\_Quantification.ipynb* ) \n",
        "and the centroided. For the centroidisation, we use a Ricker 2D wavelet."
      ]
    },
    {
      "cell_type": "code",
      "execution_count": 1,
      "metadata": {
        "dotnet_interactive": {
          "language": "fsharp"
        }
      },
      "source": [
        "// Code-Block 1\n",
        "\n",
        "let ms1PeakPicking (mzData:float []) (intensityData: float []) = \n",
        "    if mzData.Length < 3 then \n",
        "        [||],[||]\n",
        "    else\n",
        "        let paddYValue = Array.min intensityData\n",
        "        // we need to define some padding and wavelet parameters\n",
        "        let paddingParams = \n",
        "            SignalDetection.Padding.createPaddingParameters paddYValue (Some 7) 0.05 150 95.\n",
        "        let waveletParameters = \n",
        "            SignalDetection.Wavelet.createWaveletParameters 10 paddYValue 0.1 90. 1. false false\n",
        "        \n",
        "        let paddedMz,paddedIntensity = \n",
        "            SignalDetection.Padding.paddDataBy paddingParams mzData intensityData\n",
        "        \n",
        "        BioFSharp.Mz.SignalDetection.Wavelet.toCentroidWithRicker2D waveletParameters paddedMz paddedIntensity "
      ],
      "outputs": []
    },
    {
      "cell_type": "markdown",
      "metadata": {},
      "source": [
        "We load a sample MS1 from a mgf file."
      ]
    },
    {
      "cell_type": "code",
      "execution_count": 1,
      "metadata": {
        "dotnet_interactive": {
          "language": "fsharp"
        }
      },
      "source": [
        "// Code-Block 2\n",
        "let directory = __SOURCE_DIRECTORY__\n",
        "let path = Path.Combine[|directory;\"downloads/ms1MGF.mgf\"|]\n",
        "downloadFile path \"ms1MGF.mgf\" \"bio-bte-06-l-7\"\n",
        "\n",
        "let ms1 = \n",
        "    BioFSharp.IO.Mgf.readMgf (path)\n",
        "    |> List.head\n",
        "\n",
        "ms1"
      ],
      "outputs": []
    },
    {
      "cell_type": "markdown",
      "metadata": {},
      "source": [
        "## Application of the peak picking function\n",
        "\n",
        "We centroid the MS2 data using the function declared beforehand:"
      ]
    },
    {
      "cell_type": "code",
      "execution_count": 1,
      "metadata": {
        "dotnet_interactive": {
          "language": "fsharp"
        }
      },
      "source": [
        "// Code-Block 3\n",
        "\n",
        "let centroidedMs1 = \n",
        "    ms1PeakPicking ms1.Mass ms1.Intensity"
      ],
      "outputs": []
    },
    {
      "cell_type": "code",
      "execution_count": 1,
      "metadata": {
        "dotnet_interactive": {
          "language": "fsharp"
        }
      },
      "source": [
        "// Code-Block 4\n",
        "\n",
        "//removes low intensity data points for charting\n",
        "let filteredMs1Mass, filteredMs1Intensity =\n",
        "    Array.zip ms1.Mass ms1.Intensity\n",
        "    |> Array.filter (fun (mass, intensity) ->\n",
        "        intensity > 400.\n",
        "    )\n",
        "    |> Array.unzip\n",
        "\n",
        "let filteredChart =\n",
        "    [\n",
        "        Chart.Point(filteredMs1Mass,filteredMs1Intensity)\n",
        "        |> Chart.withTraceName \"Uncentroided MS1\"\n",
        "        Chart.Point(fst centroidedMs1,snd centroidedMs1)\n",
        "        |> Chart.withTraceName \"Centroided MS1\"\n",
        "    ]\n",
        "    |> Chart.Combine\n",
        "    |> Chart.withY_AxisStyle \"Intensity\"\n",
        "    |> Chart.withX_AxisStyle (title = \"m/z\", MinMax = (400., 800.))\n",
        "    |> Chart.withSize (900.,900.)\n",
        "filteredChart"
      ],
      "outputs": []
    },
    {
      "cell_type": "markdown",
      "metadata": {},
      "source": [
        "## Questions:\n",
        "\n",
        "1. The aim of centroidization is finding the m/z for each profile peak. How can this improve the performance and quality of the following steps?\n",
        "2. In the result plot, a single ms1 spectrum is shown. Naively describe the differences between the uncentroided and the centroided spectrums.\n",
        "3. Taking into consideration your answer for question 1, do your findings of question 2 meet your expectations? If yes, why? If no, why?\n",
        ""
      ]
    }
  ],
  "metadata": {
    "kernelspec": {
      "display_name": ".NET (C#)",
      "language": "C#",
      "name": ".net-csharp"
    },
    "language_info": {
      "file_extension": ".cs",
      "mimetype": "text/x-csharp",
      "name": "C#",
      "pygments_lexer": "csharp",
      "version": "8.0"
    }
  },
  "nbformat": 4,
  "nbformat_minor": 4
}