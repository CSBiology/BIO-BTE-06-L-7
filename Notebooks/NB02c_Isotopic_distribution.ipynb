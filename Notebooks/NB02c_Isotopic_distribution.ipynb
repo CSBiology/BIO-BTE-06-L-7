{
  "cells": [
    {
      "cell_type": "markdown",
      "metadata": {},
      "source": [
        "# NB02c Isotopic Distribution\n",
        "\n",
        "[![Binder](https://mybinder.org/badge_logo.svg)](https://mybinder.org/v2/gh/CSBiology/BIO-BTE-06-L-7/gh-pages?filepath=NB02c_Isotopic_distribution.ipynb)\n",
        "\n",
        "[Download Notebook](https://github.com/CSBiology/BIO-BTE-06-L-7/releases/download/NB02a_NB02b_NB02c/NB02c_Isotopic_distribution.ipynb)\n",
        "\n",
        "1. Isotopic Distribution\n",
        "    1. Simulating Isotopic Clusters for peptides\n",
        "    2. Simulating Isotopic Clusters for peptides with stable isotope labeled variant\n",
        "2. References\n",
        "\n",
        "## Isotopic Distribution\n",
        "\n",
        "Peptide signals exhibit a characteristic shape in the mass spectrum that depend on their isotopic profile, which is defined by \n",
        "the number of naturally occurring isotopes in the peptide. The occurrence probabilities of natural isotopes are reflected in the mass \n",
        "spectrum by the relative heights of the peak series belonging to the respective peptide. The frequency at which natural isotopes occur \n",
        "is known and can be used to compute the isotope distribution of a molecule. The isotopic distribution for a given peptide molecule \n",
        "C(v)H(w)N(x)O(y)S(z) is described by the following product of polynomials:\n",
        "\n",
        "![](https://latex.codecogs.com/png.latex?\\large&space;\\newline(&space;{}^{12}\\textrm{C}&space;&plus;&space;{}^{13}\\textrm{C})^{v}&space;\\times&space;({}^{1}\\textrm{H}&plus;{}^{2}\\textrm{H})^{w}&space;\\times&space;({}^{14}\\textrm{N}&plus;{}^{15}\\textrm{N})^{x}\\times({}^{16}\\textrm{O}&plus;{}^{17}\\textrm{O}&space;&plus;&space;{}^{18}\\textrm{O})^{y}\\newline\\times({}^{32}\\textrm{S}&plus;{}^{33}\\textrm{S}&plus;{}^{34}\\textrm{S}&plus;{}^{36}\\textrm{S})^{z})\n",
        "\n",
        "Symbolic expansion of the polynomials results in many product terms, which correspond to different isotopic variants of a molecule. \n",
        "Even for molecules of a medium size, the straightforward expansion of the polynomials leads to an explosion regarding the number of product terms. \n",
        "Due to this complexity, there was a need to develop algorithms for efficient computation. The different strategies comprise pruning the \n",
        "polynomials to discard terms with coefficients below a threshold (Yergey 1983) combined with a recursive \n",
        "computation (Claesen et al. 2012), and Fourier Transformation for a more efficient convolution of the isotope distributions of \n",
        "individual elements (Rockwood et al. 1995), or rely on dynamic programming (Snider 2007).\n",
        "\n",
        "> MIDAs (Alves and Yu 2005) is one of the more elaborate algorithms to predict an isotope cluster based on a given peptide sequence. \n",
        "> Simulate the isotopic cluster of the peptide sequence ‘PEPTIDES’ and ‘PEPTIDEPEPTIDEPEPTIDEPEPTIDES’ with natural occurring isotope abundances.\n",
        ""
      ]
    },
    {
      "cell_type": "code",
      "execution_count": 1,
      "metadata": {
        "dotnet_interactive": {
          "language": "fsharp"
        }
      },
      "source": [
        "#r \"nuget: BioFSharp, 2.0.0-beta5\"\n",
        "#r \"nuget: BioFSharp.IO, 2.0.0-beta5\"\n",
        "#r \"nuget: Plotly.NET, 2.0.0-beta6\"\n",
        "\n",
        "#r \"nuget: Plotly.NET, 2.0.0-beta6\"\n",
        "#r \"nuget: Plotly.NET.Interactive, 2.0.0-beta6\"\n",
        "\n",
        "open Plotly.NET\n",
        "open BioFSharp"
      ],
      "outputs": []
    },
    {
      "cell_type": "markdown",
      "metadata": {},
      "source": [
        "## Simulating Isotopic Clusters for peptides\n",
        "\n",
        "We will use two artificial peptide sequences and translate them into their elemental composition to simulate their isotopic clusters. \n",
        "Therefore, we first define a function that maps from a peptide sequence to its formula:"
      ]
    },
    {
      "cell_type": "code",
      "execution_count": 1,
      "metadata": {
        "dotnet_interactive": {
          "language": "fsharp"
        }
      },
      "source": [
        "// Code-Block 1\n",
        "\n",
        "// create chemical formula for amino acid and add water to reflect hydrolysed state in mass spectrometer\n",
        "let toFormula bioseq =  \n",
        "    bioseq\n",
        "    |> BioSeq.toFormula\n",
        "    // peptides are hydrolysed in the mass spectrometer, so we add H2O\n",
        "    |> Formula.add Formula.Table.H2O"
      ],
      "outputs": []
    },
    {
      "cell_type": "markdown",
      "metadata": {},
      "source": [
        "Next, we will apply our function to receive the elemental composition or chemical formula of the peptides."
      ]
    },
    {
      "cell_type": "code",
      "execution_count": 1,
      "metadata": {
        "dotnet_interactive": {
          "language": "fsharp"
        }
      },
      "source": [
        "// Code-Block 2\n",
        "\n",
        "// translate single letter code into amino acids and create chemical formula of it.\n",
        "let peptide_short = \n",
        "    \"PEPTIDES\" \n",
        "    |> BioSeq.ofAminoAcidString\n",
        "    |> toFormula\n",
        "    \n",
        "let peptide_long  = \n",
        "    \"PEPTIDEPEPTIDEPEPTIDEPEPTIDES\" \n",
        "    |> BioSeq.ofAminoAcidString\n",
        "    |> toFormula\n",
        "    \n",
        "let peptide_shortString =\n",
        "    peptide_short \n",
        "    |> Formula.toString\n",
        "\n",
        "\n",
        "let peptide_longString =\n",
        "    peptide_long \n",
        "    |> Formula.toString"
      ],
      "outputs": []
    },
    {
      "cell_type": "markdown",
      "metadata": {},
      "source": [
        "Additionally, we need a function that maps from Formula (and charge) to the isotopic distribution. Here, we \n",
        "can use `IsotopicDistribution.MIDA.ofFormula` from the BioFSharp library. However, for convenience \n",
        "(to use the same parameter twice), we define our function `generateIsotopicDistribution`:"
      ]
    },
    {
      "cell_type": "code",
      "execution_count": 1,
      "metadata": {
        "dotnet_interactive": {
          "language": "fsharp"
        }
      },
      "source": [
        "// Code-Block 3\n",
        "\n",
        "// Predicts an isotopic distribution of the given formula at the given charge, \n",
        "// normalized by the sum of probabilities, using the MIDAs algorithm\n",
        "let generateIsotopicDistribution (charge:int) (f:Formula.Formula) =\n",
        "    IsotopicDistribution.MIDA.ofFormula \n",
        "        IsotopicDistribution.MIDA.normalizeByMaxProb\n",
        "        0.01\n",
        "        0.005\n",
        "        charge\n",
        "        f\n",
        "        \n",
        "// create pattern for peptide_short\n",
        "let isoPattern_peptide_short = \n",
        "    generateIsotopicDistribution 1 peptide_short\n",
        "\n",
        "// create pattern for peptide_long\n",
        "let isoPattern_peptide_long = \n",
        "    generateIsotopicDistribution 1 peptide_long\n",
        "    \n",
        "isoPattern_peptide_long"
      ],
      "outputs": []
    },
    {
      "cell_type": "code",
      "execution_count": 1,
      "metadata": {
        "dotnet_interactive": {
          "language": "fsharp"
        }
      },
      "source": [
        "// Code-Block 4\n",
        "\n",
        "// create one chart for both, short and long peptide isotopic patterns.     \n",
        "let isoPatternChart = \n",
        "    [\n",
        "        Chart.Column(isoPattern_peptide_short,Name= \"peptide_short\" )\n",
        "        |> Chart.withX_AxisStyle (\"m/z\",MinMax=(885.,895.))\n",
        "        Chart.Column(isoPattern_peptide_long,Name= \"peptide_long\" )\n",
        "        |> Chart.withX_AxisStyle (\"m/z\",MinMax=(3230., 3240.))\n",
        "    ]\n",
        "    |> Chart.Stack 2\n",
        "    |> Chart.withSize (900.,600.)\n",
        "    |> Chart.withTitle \"Isotopeclusters\"\n",
        "    |> Chart.withY_AxisStyle \"intensity\"\n",
        "isoPatternChart"
      ],
      "outputs": []
    },
    {
      "cell_type": "markdown",
      "metadata": {},
      "source": [
        "## Simulating Isotopic Clusters for peptides with stable isotope labeled variant\n",
        "\n",
        "In addition to the natural occurring isotopic distribution, the field of proteomics has benefited greatly from the ability to \n",
        "introduce stable isotopes into peptide sequences. So called isotopic labeling refers to the introduction of a naturally low-abundance \n",
        "isotope of carbon, nitrogen, hydrogen and, in some cases, oxygen, into a peptide sequence. The isotopes commonly used are 13C, \n",
        "15N, 2H (deuterium) and 18O with natural abundances of 1.10%, 0.366%, 0.015% and 0.200%, \n",
        "respectively (Becker 2008). Therefore, the introduction of these isotopes into a peptide sequence can be detected by \n",
        "most modern mass spectrometers leading to a respective mass shift and the ability to separate the same peptide species within the same run.\n",
        "\n",
        "> MIDAs (Alves and Yu 2005) is also able to predict isotope clusters with altered isotope abundances. Simulate the isotopic cluster \n",
        "> of the peptide sequence ‘PEPTIDES’ and ‘PEPTIDEPEPTIDEPEPTIDEPEPTIDES’ with stable isotopes 15N labeling. \n",
        "\n",
        "Therefore, we define a function called `label`. The function maps from a formula to a formula with exchangen nitrogen isotopes. \n",
        "(Attention: Don't get confused a formula is just a FSharpMap.) "
      ]
    },
    {
      "cell_type": "code",
      "execution_count": 1,
      "metadata": {
        "dotnet_interactive": {
          "language": "fsharp"
        }
      },
      "source": [
        "// Code-Block 5\n",
        "\n",
        "/// returns a function that replaces the nitrogen atoms in a formula\n",
        "/// with the 15N isotope\n",
        "let label formula =\n",
        "    Formula.replaceElement formula Elements.Table.N Elements.Table.Heavy.N15\n",
        "\n",
        "// Code-Block 6\n",
        "\n",
        "let N15_peptide_short = \n",
        "    \"PEPTIDES\" \n",
        "    |> BioSeq.ofAminoAcidString\n",
        "    |> toFormula\n",
        "    |> label\n",
        "\n",
        "let N15_peptide_long  = \n",
        "    \"PEPTIDEPEPTIDEPEPTIDEPEPTIDES\" \n",
        "    |> BioSeq.ofAminoAcidString\n",
        "    |> toFormula\n",
        "    |> label\n",
        "\n",
        "//result: N15_peptide_short\n",
        "N15_peptide_short"
      ],
      "outputs": []
    },
    {
      "cell_type": "code",
      "execution_count": 1,
      "metadata": {
        "dotnet_interactive": {
          "language": "fsharp"
        }
      },
      "source": [
        "//result: N15_peptide_long\n",
        "N15_peptide_long"
      ],
      "outputs": []
    },
    {
      "cell_type": "code",
      "execution_count": 1,
      "metadata": {
        "dotnet_interactive": {
          "language": "fsharp"
        }
      },
      "source": [
        "// Code-Block 7\n",
        "\n",
        "// create pattern for N15_peptide_short\n",
        "let N15_isoPattern_peptide_short = \n",
        "    generateIsotopicDistribution 1 N15_peptide_short\n",
        "\n",
        "// create pattern for N15_peptide_long\n",
        "let N15_isoPattern_peptid_long = \n",
        "    generateIsotopicDistribution 1 N15_peptide_long"
      ],
      "outputs": []
    },
    {
      "cell_type": "code",
      "execution_count": 1,
      "metadata": {
        "dotnet_interactive": {
          "language": "fsharp"
        }
      },
      "source": [
        "// Code-Block 8\n",
        "\n",
        "// Create two charts. Each with the related 14N and 15N isotopic clusters. Then stack them two one unit.\n",
        "let isoPatternChart2 = \n",
        "    [\n",
        "        [\n",
        "            Chart.Column(isoPattern_peptide_short,Name= \"peptide_short\" )\n",
        "            Chart.Column(N15_isoPattern_peptide_short,Name= \"N15_peptide_short\" )\n",
        "        ] \n",
        "        |> Chart.Combine \n",
        "        |> Chart.withX_AxisStyle (\"m/z\",MinMax=(885., 905.0))\n",
        "\n",
        "        [\n",
        "            Chart.Column(isoPattern_peptide_long,Name= \"peptide_long\" )\n",
        "            Chart.Column(N15_isoPattern_peptid_long,Name= \"N15_peptide_long\" )            \n",
        "        ] \n",
        "        |> Chart.Combine \n",
        "        |> Chart.withX_AxisStyle (\"m/z\",MinMax=(3230.0, 3270.0))\n",
        "    ]\n",
        "    |> Chart.Stack 2\n",
        "    |> Chart.withTitle \"Isotopeclusters\"\n",
        "    |> Chart.withY_AxisStyle \"intensity\"\n",
        "isoPatternChart2"
      ],
      "outputs": []
    },
    {
      "cell_type": "markdown",
      "metadata": {},
      "source": [
        "## Questions\n",
        "\n",
        "1. Does the isotopic distribution tend to vary more or less the larger a peptide sequence becomes?\n",
        "2. How does the isotopic distribution of the amino acid-sequence \"SEQUENCE\" look like with natural and heavy N-labelling? Plot it via using the functions provided above.\n",
        "3. Which information can be drawn from the distance of two values of adjacent signals (of one isotopic cluster) regarding m/z?\n",
        "## References\n",
        "\n",
        "25. Yergey, J. A. A General-Approach to Calculating Isotopic Distributions for Mass-Spectrometry. Int J Mass Spectrom 52, 337–349; 10.1016/0020-7381(83)85053-0 (1983).\n",
        "26. Claesen, J., Dittwald, P., Burzykowski, T. & Valkenborg, D. An efficient method to calculate the aggregated isotopic distribution and exact center-masses. Journal of the American Society for Mass Spectrometry 23, 753–763; 10.1007/s13361-011-0326-2 (2012).\n",
        "27. Rockwood, A. L., Vanorden, S. L. & Smith, R. D. Rapid Calculation of Isotope Distributions. Anal Chem 67, 2699–2704; 10.1021/Ac00111a031 (1995).\n",
        "28. Snider, R. K. Efficient calculation of exact mass isotopic distributions. Journal of the American Society for Mass Spectrometry 18, 1511–1515; 10.1016/j.jasms.2007.05.016 (2007).\n",
        "29. Alves, G. & Yu, Y. K. Robust accurate identification of peptides (RAId). deciphering MS2 data using a structured library search with de novo based statistics. Bioinformatics 21, 3726–3732; 10.1093/bioinformatics/bti620 (2005).\n",
        "30. Becker, G. W. Stable isotopic labeling of proteins for quantitative proteomic applications. Brief Funct Genomic Proteomic 7, 371–382; 10.1093/bfgp/eln047 (2008)."
      ]
    }
  ],
  "metadata": {
    "kernelspec": {
      "display_name": ".NET (C#)",
      "language": "C#",
      "name": ".net-csharp"
    },
    "language_info": {
      "file_extension": ".cs",
      "mimetype": "text/x-csharp",
      "name": "C#",
      "pygments_lexer": "csharp",
      "version": "8.0"
    }
  },
  "nbformat": 4,
  "nbformat_minor": 4
}