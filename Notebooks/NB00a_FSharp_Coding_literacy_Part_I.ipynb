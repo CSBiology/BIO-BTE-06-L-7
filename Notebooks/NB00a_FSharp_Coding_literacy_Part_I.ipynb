{
 "cells": [
  {
   "cell_type": "markdown",
   "metadata": {},
   "source": [
    "# NB00a FSharp Coding literacy part I\n",
    "\n",
    "[![Binder](https://mybinder.org/badge_logo.svg)](https://mybinder.org/v2/gh/CSBiology/BIO-BTE-06-L-7/gh-pages?filepath=NB00a_FSharp_Coding_literacy_Part_I.ipynb)\n",
    "\n",
    "[Download Notebook](https://github.com/CSBiology/BIO-BTE-06-L-7/releases/download/NB00a/NB00a_FSharp_Coding_literacy_Part_I.ipynb)\n",
    "\n",
    "1. Getting things done and understand values\n",
    "    1. Numeric types\n",
    "    2. String or character types\n",
    "    3. F# handles your types.\n",
    "2. Functions and operators: Do some operations\n",
    "    1. Operations and types\n",
    "    2. Functions\n",
    "3. Namespace and modules\n",
    "4. Control flow expressions\n",
    "\n",
    "\n",
    "## Getting things done \n",
    "\n",
    "The purpose of this first part is to present the use of F# (pronounced “F Sharp”) programming language to facilitate and automate a wide variety of data manipulation\n",
    "tasks typically faced in life science research. Here, we want to support your coding literacy by a practical programming approach without the attempt to detail every \n",
    "possible variation of the mechanisms. This offers a rapid introduction to F# programming that should allow you to understand code and do some manipulation to achieve \n",
    "your desired outcome.\n",
    "\n",
    "There are many kinds of programming languages, with different purposes, styles, intended uses, etc. However, F# is particularly nice as it is easy to learn in the beginning \n",
    "but also extremely powerful for professional use cases. Simply put, F# is a beautiful language. It is effective for everything from teaching new programmers to advanced\n",
    "computer science study, from simple scripts to sophisticated advanced applications. Therefore, it is extremely well suited for bioinformatics programming and \n",
    "application in live science.\n",
    "\n",
    "### Numeric types\n",
    "\n",
    "Definitely, F# can be a good friend in your daily work even when you are doing simple calculations, e.g. in the lab. Let's jump right in and some stuff done:\n"
   ]
  },
  {
   "cell_type": "code",
   "execution_count": null,
   "metadata": {
    "dotnet_interactive": {
     "language": "fsharp"
    }
   },
   "outputs": [],
   "source": [
    "// Define numerical values\n",
    "let co2Oxygens = 2\n",
    "let co2Carbon  = 1\n",
    "let oxygenMass = 15.9994\n",
    "let carbonMass = 12.0107\n",
    "let avogadro = 6.023e23\n"
   ]
  },
  {
   "cell_type": "markdown",
   "metadata": {},
   "source": [
    "First things first: Any text on a line that follows `//` is handled as a comment and is ignored by the F# compiler. Comments help to write organized code with documentation \n",
    "and are therefore not executed as part of your program or script. Additionally, there is also the possibility to write comments that span multiple lines by putting text between \n",
    "parenthesis and asterisk `(* … *)`.\n",
    "\n",
    "The example shows the two most common types of numbers used in F#:\n"
   ]
  },
  {
   "cell_type": "code",
   "execution_count": null,
   "metadata": {
    "dotnet_interactive": {
     "language": "fsharp"
    }
   },
   "outputs": [],
   "source": [
    "// integer (`int`)\n",
    "let co2Oxygens = 1\n",
    "// floating point numbers (`float`)\n",
    "let oxygenMass = 15.9994\n"
   ]
  },
  {
   "cell_type": "markdown",
   "metadata": {},
   "source": [
    "One of the most important action in programming is naming things, which is called binding. Binding is the naming process that associates an identifier (name) to a value or function. \n",
    "In F#, the `let` keyword is used to do such a binding and bind a name to a value in our example. We can use `let` binding at various level. It might be worth noting here that this \n",
    "process is often referred as declaring variables, but using the term \"binding\" is much nicer.\n",
    "Bindings are case sensitive names and can contain letters, numbers as well as the underscore character. They cannot start with a number however and they cannot contain spaces. \n",
    "\n",
    "This makes the following three different bindings: \n"
   ]
  },
  {
   "cell_type": "code",
   "execution_count": null,
   "metadata": {
    "dotnet_interactive": {
     "language": "fsharp"
    }
   },
   "outputs": [],
   "source": [
    "let myvariable = 1\n",
    "let MyVariable = 3.172\n",
    "let MYVARIABLE = \"Undefined\"\n"
   ]
  },
  {
   "cell_type": "markdown",
   "metadata": {},
   "source": [
    "_But what is a value?_\n",
    "\n",
    "In general, computer programs manipulate data. An individual item of data is called a value. F# is a statically typed language and every value has a type that identifies the kind of value it is. \n",
    "For example, the type of `co2Oxygens` is `int`. Each value can be seen an instance of a particular type, later we will complete this point of view by recognizing that each object is an \n",
    "instance of a particular class (type).\n",
    "\n",
    "### String or character types\n",
    "\n",
    "Similar to declaring numbers in F#, we also can bind text (aka. `string`) or characters to names just by enclosing the declared value in double or single quotes.\n"
   ]
  },
  {
   "cell_type": "code",
   "execution_count": null,
   "metadata": {
    "dotnet_interactive": {
     "language": "fsharp"
    }
   },
   "outputs": [],
   "source": [
    "// Define string or character values\n",
    "let buffer = \"Tris\"\n",
    "let hydrogenMass = \"1.00794\"\n",
    "let nucleotide = 'A'\n"
   ]
  },
  {
   "cell_type": "markdown",
   "metadata": {},
   "source": [
    "Here, single quotes are used for single character (`char`), while double quotes indicate a string. Importantly, if you would like to use quotes (or other special characters) in a string, you must \n",
    "quote the quotes with a backslash `\\`. \n",
    "\n",
    "One more way to declare strings in F# that allows you to even include line breaks in the strings. It's useful, for example, for declaring paragraphs of text as strings. To use it, you have to enclose\n",
    "the string itself in triple quotes.\n"
   ]
  },
  {
   "cell_type": "code",
   "execution_count": null,
   "metadata": {
    "dotnet_interactive": {
     "language": "fsharp"
    }
   },
   "outputs": [],
   "source": [
    "let poem = \"\"\"\n",
    "    Nature's first green is gold,\n",
    "    Her hardest hue to hold.\n",
    "    Her early leaf's a flower;\n",
    "    But only so an hour.\n",
    "\"\"\"\n"
   ]
  },
  {
   "cell_type": "markdown",
   "metadata": {},
   "source": [
    "There are many different specialized primitive types available in F#, [see here](https://docs.microsoft.com/en-us/dotnet/fsharp/language-reference/literals) for the full overview. However, covering \n",
    "Boolean (`bool`) values in the following, we now covered the most common primitive types.\n"
   ]
  },
  {
   "cell_type": "code",
   "execution_count": null,
   "metadata": {
    "dotnet_interactive": {
     "language": "fsharp"
    }
   },
   "outputs": [],
   "source": [
    "let yes = true\n",
    "let no  = false\n"
   ]
  },
  {
   "cell_type": "markdown",
   "metadata": {},
   "source": [
    "Very often, in programming, you will need a data type that can only have one of two values, like: *Yes/No, On/Off or TRUE/FALSE*. A boolean type is declared with the bool keyword and can only take the values \n",
    "`true` or `false`.\n",
    "\n",
    "### F# handles your types.\n",
    "The F# compiler needs to always know the type of your value. Luckily, this does not mean that you need to specify the type all the time explicitly by yourself. In the process of type inference, the \n",
    "F# compiler infers the types of values, variables, parameters and return values.\n",
    "The compiler infers the type based on the context. If the type is not otherwise specified, it is inferred to be generic. If the code uses a value inconsistently, in such a way that there is no single \n",
    "inferred type that satisfies all the uses of a value, the compiler reports an error. \n",
    "\n",
    "We have seen this happen through all the examples so far, but how does it work and what can you do if it goes wrong?\n",
    "In that case, you can apply explicit type annotations using `: type name`, as shown in the following examples: \n"
   ]
  },
  {
   "cell_type": "code",
   "execution_count": null,
   "metadata": {
    "dotnet_interactive": {
     "language": "fsharp"
    }
   },
   "outputs": [],
   "source": [
    "// Explicitly define the type of on as bool. Brackets () are not necessary\n",
    "let (on : bool) = true\n"
   ]
  },
  {
   "cell_type": "markdown",
   "metadata": {},
   "source": [
    "## Functions and operators: Do some operations\n",
    "\n",
    "In the beginning, I introduced F# as your friendly pal. Let’s dive into a quick example, that actually does some operations.\n"
   ]
  },
  {
   "cell_type": "code",
   "execution_count": null,
   "metadata": {
    "dotnet_interactive": {
     "language": "fsharp"
    }
   },
   "outputs": [],
   "source": [
    "let co2Oxygens' = 2\n",
    "let co2Carbon'  = 1\n",
    "let oxygenMass' = 15.9994\n",
    "let carbonMass' = 12.0107\n",
    "\n",
    "let co2Mass = float co2Oxygens' * oxygenMass' + float co2Carbon' * carbonMass'\n",
    "\n",
    "printfn \"Molecular weight of CO2 = %f\" co2Mass\n"
   ]
  },
  {
   "cell_type": "markdown",
   "metadata": {},
   "source": [
    "Here we use the bindings we did before to calculate the mass of a CO2 molecule and bind the result to the name co2Mass. In the next line `printfn` is used to output the result to the F# console which is the \n",
    "default stream for any output from the code. \n",
    "If you run this code into your interactive notebook and saw the output, you just ran your first, small F# program!\n",
    "\n",
    "### Operations and types\n",
    "\n",
    "The F# type system makes sure that you can not mix types during calculation. While it is possible to concatenate two string using the `+` operator. However, using two different types will cause the compiler \n",
    "to point out the error.  \n",
    "\n",
    "It is worth to notice, that because `int` and `float` are different types even though they are both numbers. Therefore, to calculate the example above it is necessary to explicitly cast between `int` and `float` for \n",
    "operations such as multiplication.\n",
    "\n",
    "### Functions \n",
    "   \n",
    "\n",
    "At this point we have our first functionality, meaning a small F# program that can perform a calculation. In most cases you want to organize the functionalities your code provides into nice building blocks that \n",
    "can be reused and applied multiple times. You can think of functions as exactly those kinds of self-contained building blocks of code that accomplish a specific task. Functions usually consume input data called \n",
    "parameter, process it in their function body, and return a result. Once you have a function defined, it can be used over and over and over again. \n",
    "The best way to understand an F# function is to see it in action. Let’s dive into it:\n"
   ]
  },
  {
   "cell_type": "code",
   "execution_count": null,
   "metadata": {
    "dotnet_interactive": {
     "language": "fsharp"
    }
   },
   "outputs": [],
   "source": [
    "// Example of indented code\n",
    "let explainIndentedCode () =\n",
    "    printfn \"This indented line is part of the function\"\n",
    "    printfn \"So is this one\"\n",
    "printfn \"This unindented line is not a part of the function\"\n"
   ]
  },
  {
   "cell_type": "markdown",
   "metadata": {},
   "source": [
    "This code exemplifies two important point. First, indentation is syntactically meaningful in F# and not just for comfortable reading. It is used to show which particular block of code belongs together. Therefore, \n",
    "all code inside a function must be indented to define it as belonging to the function.\n",
    "\n",
    "Secondly, functions can be called from the inside of other functions. Here, we use the `printfn` function you already know inside the outer function.  The function `printfn` is a build in function and is already \n",
    "defined in the core of F#. Thus, we do not need to define it ourselves and can call it as we desire.\n",
    "\n",
    "With this knowledge we can do a more meaningful example:\n"
   ]
  },
  {
   "cell_type": "code",
   "execution_count": null,
   "metadata": {
    "dotnet_interactive": {
     "language": "fsharp"
    }
   },
   "outputs": [],
   "source": [
    "//A simple function to calculate molar volumes\n",
    "let calculateGasDensity molarMass pressure temperatureK =\n",
    "    let gasConstant = 0.082057\n",
    "    let density : float = (molarMass * pressure) / (gasConstant * temperatureK)\n",
    "    density\n",
    "\n",
    "let co2MolarVolume = calculateGasDensity co2Mass 4. 546.\n",
    "printfn \"The density of carbon dioxide at 546 K and 4.00 atmospheres pressure is %f g/L\" co2MolarVolume\n"
   ]
  },
  {
   "cell_type": "markdown",
   "metadata": {},
   "source": [
    "As the biochemistry textbooks tell us, the density of 1 mole of CO2 at 546 Kelvin and 4.00 atmospheres pressure is indeed 3.93 g/L. We make use of the `let` keyword and define or declare our function, followed by the function call where the result is \n",
    "bound to the name `co2MolarVolume`.\n",
    "\n",
    "*Side note:* Signature of a function\n",
    "\n",
    "A function signature shows the function prototype. It tells you name, input type(s) and output type of a function. You will later learn that the type defines the kind of the value for functions to act upon (input) \n",
    "and return (output). Just by examining a function’s signature, you can often get some idea of what it does.\n",
    "\n",
    "*Side note:* Lambda expressions\n",
    "\n",
    "In F# it is possible to use function without giving them a name and use the keyword `fun` instead and the `=` becomes `->`. This is called anonymous function or referring to lambda calculus lambda expression. \n",
    "This kind of functions are often used for convenience. To write 'add1' as lambda expression `fun x -> x + 1`\n",
    "\n",
    "## Namespace and modules\n",
    "\n",
    "Sometimes it can be necessary to go a little bit further in terms of code organization. For example, to ship code in a library to other users. Namespaces und Modules are top-level and low-level constructs to \n",
    "organize code. You can think of namespaces and modules as containers and sub containers, respectively, in which you can put function and type definitions. The hierarchy is defined that you can have multiple \n",
    "modules in one namespace, also nested modules in a module, but no namespace in another namespace. \n",
    "\n",
    "The most important bit is, that you can access namespaces and modules with the `.` operator. This is also how you find functionality in libraries which you can load from other sources.  This is required because \n",
    "it means you do not need to write all code and functionality by yourself.\n",
    "In the following you can see how you can profit from the amazing F# community efforts to provide you with various libraries. It seems obvious that for our example we load BioFSharp.\n"
   ]
  },
  {
   "cell_type": "code",
   "execution_count": null,
   "metadata": {
    "dotnet_interactive": {
     "language": "fsharp"
    }
   },
   "outputs": [],
   "source": [
    "#r \"nuget: BioFSharp, 2.0.0-beta5\"\n",
    "\n",
    "// Access adenine without 'open'\n",
    "BioFSharp.Nucleotides.A\n",
    "\n",
    "// Access adenine with 'open'\n",
    "open BioFSharp\n",
    "Nucleotides.A\n"
   ]
  },
  {
   "cell_type": "markdown",
   "metadata": {},
   "source": [
    "The first line automatically pulls the necessary files from the internet and allows you to use the library in your scripting environment. Due to the `open` statement you can shorten the path to access the modules \n",
    "and functions in the library. This just saves you the effort to always type `BioFSharp.` in front of everything… \n",
    "\n",
    "## Control flow expressions\n",
    "\n",
    "Everything you have seen so far has consisted of sequential execution, in which expressions are always evaluated one after the next, in exactly the order specified. But the world is often more complicated than that. \n",
    "Frequently, a program needs to skip over or choose between alternate sets of paths to execute.\n",
    "That is where control structures come in. A control structure directs the order of evaluation of expressions in a program (referred to as the program’s control flow).\n"
   ]
  },
  {
   "cell_type": "code",
   "execution_count": null,
   "metadata": {
    "dotnet_interactive": {
     "language": "fsharp"
    }
   },
   "outputs": [],
   "source": [
    "//Function for calculating buffer recipes that uses if-conditionals \n",
    "let bufferRecipe buffer molarity =\n",
    "    let grams = \n",
    "        if buffer = \"Tris\" then\n",
    "            121.14\n",
    "        elif buffer = \"MES\" then\n",
    "            217.22 \n",
    "        elif buffer = \"HEPES\" then\n",
    "            238.30 \n",
    "        else\n",
    "            failwith \"Huh???\"\n",
    "    let gramsPerLiter = grams * molarity \n",
    "    gramsPerLiter\n"
   ]
  },
  {
   "cell_type": "markdown",
   "metadata": {},
   "source": [
    "The function `bufferRecipe` takes two arguments that specify the name of the `buffer` and `molarity` of the stock solution you want to make. Based upon the buffer name that you provide; it then binds the appropriate value \n",
    "to the name grams and returns the required weight of buffer (in grams) to make up a 1 L solution.\n",
    "\n",
    "As with other programming languages, the equality operator in F# is just one of a bunch of comparison you can do:\n",
    "\n",
    "* `=`  equals \n",
    "* `<>` not equals\n",
    "* `>` greater than \n",
    "* `<` less than \n",
    "* `>=` greater than OR equals \n",
    "* `<=` less than OR equals\n",
    "\n",
    "However, there is a more powerful control flow construct called Matching expression. You can write the `bufferRecipe` example from above as follows:\n"
   ]
  },
  {
   "cell_type": "code",
   "execution_count": null,
   "metadata": {
    "dotnet_interactive": {
     "language": "fsharp"
    }
   },
   "outputs": [],
   "source": [
    "//Function for calculating buffer recipes that uses match-conditions \n",
    "let bufferRecipe' buffer molarity =\n",
    "    let grams =\n",
    "        match buffer with\n",
    "        | \"Tris\"  -> 121.14\n",
    "        | \"MES\"   -> 217.22 \n",
    "        | \"HEPES\" -> 238.30 \n",
    "        | _       -> failwith \"Huh???\"\n",
    "    grams * molarity \n",
    "    \n"
   ]
  },
  {
   "cell_type": "markdown",
   "metadata": {},
   "source": [
    "Each `|` defines a condition, the `->` means \"if the condition is true, follow this path...\". The `_` is the default pattern, meaning that it matches anything, sort of like a wildcard. Occasionally, it's not enough to \n",
    "match an input against a particular value; we can add filters, or guards, to patterns using the `when` keyword. We can rewrite our `bufferRecipe` function once again. \n"
   ]
  },
  {
   "cell_type": "code",
   "execution_count": null,
   "metadata": {
    "dotnet_interactive": {
     "language": "fsharp"
    }
   },
   "outputs": [],
   "source": [
    "//Function for calculating buffer recipes that uses match-conditions with guards\n",
    "let bufferRecipe'' buffer molarity =\n",
    "    let grams =\n",
    "        match buffer with\n",
    "        | x when x = \"Tris\"  -> 121.14\n",
    "        | x when x = \"MES\"   -> 217.22 \n",
    "        | x when x = \"HEPES\" -> 238.30 \n",
    "        | _       -> failwith \"Huh???\"\n",
    "    grams * molarity \n",
    "    \n"
   ]
  },
  {
   "cell_type": "markdown",
   "metadata": {},
   "source": [
    "Maybe we should notice that in this function we use the function `failwith` to throw an error, if we do not know the buffer. This is not particular nice, however necessary in our example. \n"
   ]
  }
 ],
 "metadata": {
  "kernelspec": {
   "display_name": ".NET (C#)",
   "language": "C#",
   "name": ".net-csharp"
  },
  "langauge_info": {
   "file_extension": ".fs",
   "mimetype": "text/x-fsharp",
   "name": "C#",
   "pygments_lexer": "fsharp",
   "version": "4.5"
  },
  "polyglot_notebook": {
   "kernelInfo": {
    "defaultKernelName": "csharp",
    "items": [
     {
      "aliases": [],
      "name": "csharp"
     },
     {
      "aliases": [],
      "name": "fsharp"
     }
    ]
   }
  }
 },
 "nbformat": 4,
 "nbformat_minor": 1
}
