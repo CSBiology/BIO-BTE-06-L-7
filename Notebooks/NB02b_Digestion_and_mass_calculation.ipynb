{
 "cells": [
  {
   "cell_type": "markdown",
   "metadata": {},
   "source": [
    "# NB02b Digestion and mass calculation\n",
    "\n",
    "[![Binder](https://mybinder.org/badge_logo.svg)](https://mybinder.org/v2/gh/CSBiology/BIO-BTE-06-L-7/gh-pages?filepath=NB02b_Digestion_and_mass_calculation.ipynb)\n",
    "\n",
    "[Download Notebook](https://github.com/CSBiology/BIO-BTE-06-L-7/releases/download/NB02a_NB02b_NB02c/NB02b_Digestion_and_mass_calculation.ipynb)\n",
    "\n",
    "1. Digestion and mass calculation\n",
    "    2. Accessing the protein sequences of *Chlamydomonas reinhardtii*\n",
    "    3. Amino acid distribution for *C. reinhardtii*\n",
    "4. Calculating the molecular weight for peptides\n",
    "    5. *In silico* digestion of FASTA proteins with trypsin\n",
    "    6. Calculating peptide masses\n",
    "    7. Calculating peptide masses for charge 2\n",
    "6. References\n",
    "7. Questions\n",
    "\n",
    "## Digestion and mass calculation\n",
    "\n",
    "The most widely applied method for protein digestion involves the use of enzymes. Many proteases are available for this purpose, \n",
    "each having their own characteristics in terms of specificity, efficiency and optimum digestion conditions. Trypsin is most widely \n",
    "applied in bottom-up proteomics and and has a very high degree of specificity, cleaving the peptide bonds C-terminal to the basic residues \n",
    "Lys and Arg, except when followed by Pro (Burkhart et al. 2012). In general, Lys and Arg are relatively abundant amino acids and are \n",
    "usually well distributed throughout a protein (Switzar et al. 2013). This leads to tryptic peptides with an average length of ∼14 amino \n",
    "acids that carry at least two positive charges, which is ideally suited for CID-MS analysis (Burkhart et al. 2012).\n",
    "\n",
    "Using *in silico* analysis, we want to confirm that the general properties of trypsin digestion also apply for the \n",
    "proteome of *Chlamydomonas reinhardtii*. First, we load the proteome of *Chlamydomonas* in standard FASTA format. \n",
    "Amino acid composition of the proteome is simply counting each amino acid occurrence and can be visualized by a histogram:\n"
   ]
  },
  {
   "cell_type": "code",
   "execution_count": null,
   "metadata": {
    "dotnet_interactive": {
     "language": "fsharp"
    }
   },
   "outputs": [],
   "source": [
    "#r \"nuget: BioFSharp, 2.0.0-beta5\"\n",
    "#r \"nuget: BioFSharp.IO, 2.0.0-beta5\"\n",
    "#r \"nuget: Plotly.NET, 4.2.0\"\n",
    "#r \"nuget: BIO-BTE-06-L-7_Aux, 0.0.10\"\n",
    "\n",
    "#r \"nuget: Plotly.NET.Interactive, 4.2.0\"\n",
    "\n",
    "open Plotly.NET\n",
    "open BioFSharp\n",
    "open BIO_BTE_06_L_7_Aux.FS3_Aux\n",
    "open System.IO\n"
   ]
  },
  {
   "cell_type": "markdown",
   "metadata": {},
   "source": [
    "## Accessing the protein sequences of *Chlamydomonas reinhardtii*\n",
    "\n",
    "FASTA is a standardized text format, containing gene or protein sequence information. Such FASTAs can be donwloaded \n",
    "from [UniProt](https://www.uniprot.org/proteomes/UP000006906) for example.\n",
    "\n",
    "To gain informations about the amino acid composition of *C. reinhardtii*, we need information about the proteome \n",
    "of *Chlamydomonas*, which is saved in the .fasta file we are accessing below.\n"
   ]
  },
  {
   "cell_type": "code",
   "execution_count": null,
   "metadata": {
    "dotnet_interactive": {
     "language": "fsharp"
    }
   },
   "outputs": [],
   "source": [
    "// __SOURCE_DIRECTORY__ returns the directory in which the current notebook is located\n",
    "let directory = __SOURCE_DIRECTORY__\n",
    "let path = Path.Combine [|directory; \"downloads/Chlamy_JGI5_5(Cp_Mp).fasta\"|]\n",
    "downloadFile path \"Chlamy_JGI5_5(Cp_Mp).fasta\" \"bio-bte-06-l-7\"\n",
    "// with /../ we navigate a directory \n",
    "path\n"
   ]
  },
  {
   "cell_type": "markdown",
   "metadata": {},
   "source": [
    "Functions to read information from FASTA files exist in the [BioFSharp](https://csbiology.github.io/BioFSharp/) library.\n"
   ]
  },
  {
   "cell_type": "code",
   "execution_count": null,
   "metadata": {
    "dotnet_interactive": {
     "language": "fsharp"
    }
   },
   "outputs": [],
   "source": [
    "let sequences = \n",
    "    path\n",
    "    |> IO.FastA.fromFile BioArray.ofAminoAcidString\n",
    "    |> Seq.toArray\n",
    "    \n",
    "// Display the first element in the array collection\n",
    "sequences |> Array.head\n"
   ]
  },
  {
   "cell_type": "markdown",
   "metadata": {},
   "source": [
    "## Amino acid distribution for *C. reinhardtii*\n",
    "\n",
    "To count the amino acid composition, we take the sequence of every protein and count the occurences of each amino acid:\n"
   ]
  },
  {
   "cell_type": "code",
   "execution_count": null,
   "metadata": {
    "dotnet_interactive": {
     "language": "fsharp"
    }
   },
   "outputs": [],
   "source": [
    "let aminoAcidDistribution =\n",
    "    sequences\n",
    "    // only access Sequence from each array element.\n",
    "    |> Array.collect (fun fastAItem -> fastAItem.Sequence)\n",
    "    // count each occurence of all amino acids. \n",
    "    |> Array.countBy id\n",
    "    \n",
    "aminoAcidDistribution\n",
    "\n",
    "let aaDistributionHis =\n",
    "    aminoAcidDistribution\n",
    "    |> Array.map (fun (name,count) -> string name, count)\n",
    "    // sort by number of occurences\n",
    "    |> Array.sortByDescending snd\n",
    "    // create chart\n",
    "    |> Chart.Column\n",
    "    // style chart\n",
    "    |> Chart.withYAxisStyle \"Count\"\n",
    "    |> Chart.withSize (650.,600.)\n",
    "    |> Chart.withTitle \"Amino Acid composition of the <i>Chlamydomonas reinhardtii</i> proteome\"\n",
    "\n",
    "aaDistributionHis\n"
   ]
  },
  {
   "cell_type": "markdown",
   "metadata": {},
   "source": [
    "## Calculating the molecular weight for peptides\n",
    "\n",
    "The molecular weight M of a peptide may be estimated by calculating the equation for the molecular weight of a peptide: \n",
    "\n",
    "![](https://latex.codecogs.com/png.latex?M&space;=&space;M_{N}&plus;M_{C}\\sum_{i=0}^{n}N_{i}M_{i})\n",
    "\n",
    "where N(i) are the number, and M(i) the average residue molecular weights, of the amino acids. M(N) + M(C) \n",
    "are added to the total in order to account for the termini: H at the N-terminus and OH at the C-terminus. (Remark: If the termini are modified, \n",
    "these additions are replaced by those of the modifiers.)\n",
    "\n",
    "The distribution of all molecular weights for the peptides resulting from the previous proteome digest can be calculated and visualized using a histogram chart:\n",
    "## *In silico* digestion of FASTA proteins with trypsin\n",
    "\n",
    "To gain information about the peptide sequences of each protein, we have to compute the digested sequence, A digest function with \n",
    "variable protease exists in BioFSharp.\n"
   ]
  },
  {
   "cell_type": "code",
   "execution_count": null,
   "metadata": {
    "dotnet_interactive": {
     "language": "fsharp"
    }
   },
   "outputs": [],
   "source": [
    "let digestedProteins =\n",
    "    // sequences is the fasta data\n",
    "    sequences\n",
    "    |> Array.mapi (fun i fastAItem ->\n",
    "        // in silico digestion\n",
    "        Digestion.BioArray.digest Digestion.Table.Trypsin i fastAItem.Sequence\n",
    "        |> Digestion.BioArray.concernMissCleavages 0 1\n",
    "    )\n",
    "    |> Array.concat\n",
    "    \n",
    "digestedProteins |> Array.head\n"
   ]
  },
  {
   "cell_type": "markdown",
   "metadata": {},
   "source": [
    "## Calculating peptide masses\n",
    "\n",
    "We calculate the mass of each peptide by calculating the monoisotopic mass of each amino acid and adding the weight \n",
    "of an H(2)O to each peptide weight.\n"
   ]
  },
  {
   "cell_type": "code",
   "execution_count": null,
   "metadata": {
    "dotnet_interactive": {
     "language": "fsharp"
    }
   },
   "outputs": [],
   "source": [
    "let chartDigestedProteins =\n",
    "    digestedProteins\n",
    "    |> Array.map (fun peptide ->\n",
    "        // calculate mass for each peptide\n",
    "        BioSeq.toMonoisotopicMassWith (BioItem.monoisoMass ModificationInfo.Table.H2O) peptide.PepSequence\n",
    "        )\n",
    "    |> Array.filter (fun x -> x < 3000.)\n",
    "    // visualize distribution of all peptide masses < 3000 Da\n",
    "    |> fun masses -> Chart.Histogram(data = masses, orientation = StyleParam.Orientation.Vertical, NBinsX = 100)\n",
    "    |> Chart.withXAxisStyle (TitleText = \"Mass [Da]\", MinMax = (0., 3000.))\n",
    "    |> Chart.withYAxisStyle \"Count\"\n",
    "\n",
    "chartDigestedProteins\n"
   ]
  },
  {
   "cell_type": "markdown",
   "metadata": {},
   "source": [
    "## Calculating peptide masses for charge 2\n",
    "\n",
    "However, in mass spectrometry we are only able to detect ions. Therefore, the measurements report the mass-to-charge ratio. \n",
    "The abbreviation m/z (m = mass; z = charge) is used to denote the dimensionless quantity formed by dividing the molecular weight \n",
    "of an ion (M+nH(+)) by its charge number (n).\n",
    "\n",
    "![](https://latex.codecogs.com/png.latex?M_{z}=\\frac{(M&plus;nH^{&plus;})}{n})\n",
    "\n",
    "In the following, we will convert the uncharged peptide masses to the m/z ratio with charge two by applaying the Mass.toMZ \n",
    "function from the BioFSharp library and displax its distribution again. Note that m/z ratio with a charge of two represents \n",
    "the predominant charge species.\n"
   ]
  },
  {
   "cell_type": "code",
   "execution_count": null,
   "metadata": {
    "dotnet_interactive": {
     "language": "fsharp"
    }
   },
   "outputs": [],
   "source": [
    "let digestedPeptideMasses =\n",
    "    digestedProteins\n",
    "    |> Array.map (fun peptide ->\n",
    "        BioSeq.toMonoisotopicMassWith (BioItem.monoisoMass ModificationInfo.Table.H2O) peptide.PepSequence\n",
    "    )\n",
    "\n",
    "let chartDigestedPeptideMasses =\n",
    "    digestedPeptideMasses\n",
    "    |> Array.map (fun ucMass -> Mass.toMZ ucMass 2.)\n",
    "    |> Array.filter (fun x -> x < 3000.)\n",
    "    |> fun masses -> Chart.Histogram(data = masses, orientation = StyleParam.Orientation.Vertical, NBinsX=100)\n",
    "    |> Chart.withXAxisStyle (TitleText = \"m/z\", MinMax = (0., 3000.))\n",
    "    |> Chart.withYAxisStyle \"Count\"\n",
    "    \n",
    "chartDigestedPeptideMasses\n"
   ]
  },
  {
   "cell_type": "markdown",
   "metadata": {},
   "source": [
    "## Questions\n",
    "\n",
    "1. When trypsin is used for digestion in an MS experiment, it is often combined with another protease (e.g. Lys-C). Why can it be beneficial to combine trypsin?\n",
    "2. A peptide with a charge of 2 has an m/z of 414. What is the m/z of the same peptide with a charge of 3? Visualize the m/z of the peptides from the FASTA with a charge of 3\n",
    "like done above.\n",
    "3. Peptides can occur at different charge states during an MS run. Do the different charge states of an peptide usually possess similar intensities?\n",
    "## References\n",
    "\n",
    "23. Burkhart, J. M., Schumbrutzki, C., Wortelkamp, S., Sickmann, A. & Zahedi, R. P. Systematic and quantitative comparison of digest efficiency and specificity reveals the impact of trypsin quality on MS-based proteomics. Journal of proteomics 75, 1454–1462; 10.1016/j.jprot.2011.11.016 (2012).\n",
    "24. Switzar, L., Giera, M. & Niessen, W. M. A. Protein digestion: an overview of the available techniques and recent developments. J. Proteome Res. 12, 1067–1077; 10.1021/pr301201x (2013).\n"
   ]
  }
 ],
 "metadata": {
  "kernelspec": {
   "display_name": ".NET (F#)",
   "language": "F#",
   "name": ".net-fsharp"
  },
  "langauge_info": {
   "file_extension": ".fs",
   "mimetype": "text/x-fsharp",
   "name": "C#",
   "pygments_lexer": "fsharp",
   "version": "4.5"
  },
  "language_info": {
   "name": "polyglot-notebook"
  },
  "polyglot_notebook": {
   "kernelInfo": {
    "defaultKernelName": "fsharp",
    "items": [
     {
      "aliases": [],
      "name": "fsharp"
     }
    ]
   }
  }
 },
 "nbformat": 4,
 "nbformat_minor": 1
}
