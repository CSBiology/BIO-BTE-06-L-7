{
 "cells": [
  {
   "cell_type": "markdown",
   "metadata": {},
   "source": [
    "# NB04a Fragmentation for peptide identification\n",
    "\n",
    "[![Binder](https://mybinder.org/badge_logo.svg)](https://mybinder.org/v2/gh/CSBiology/BIO-BTE-06-L-7/gh-pages?filepath=NB04a_Fragmentation_for_peptide_identification.ipynb)\n",
    "\n",
    "[Download Notebook](https://github.com/CSBiology/BIO-BTE-06-L-7/releases/download/NB04a_NB04b/NB04a_Fragmentation_for_peptide_identification.ipynb)\n",
    "\n",
    "1. Understanding MS2 spectra: From peptide to fragment\n",
    "2. Simulate MS2 Fragmentation\n",
    "3. Questions\n",
    "4. References\n",
    "\n",
    "## Understanding MS2 spectra: From peptide to fragment\n",
    "\n",
    "The currency of information for identification in MS-based proteomics is the fragment ion spectrum (MS/MS spectrum) that is typically \n",
    "derived from the fragmentation of a specific peptide in the collision cell of a mass spectrometer. Peptides produce fragments that provide \n",
    "information on their amino acid sequence. The correct assignment of such a spectrum to a peptide sequence is the central step to link \n",
    "m/z values and ion intensities to biology (Nesvizhskii et al. 2007). \n",
    "\n",
    "![](https://raw.githubusercontent.com/CSBiology/BIO-BTE-06-L-7/main/docs/img/FragmentIonNomenclature.PNG)\n",
    "\n",
    "**Figure 4: The Roepstorff-Fohlmann-Biemann nomenclature of fragment ions.**\n",
    "N-terminal and C-terminal peptide fragments result of dissociation of electron bonds along the peptide backbone.\n",
    "\n",
    "During the unimolecular peptide ion dissociation processes, different chemical reactions can lead to different types \n",
    "of product ions. The types of ions observed in MS/MS experiments depend on the physicochemical properties of the amino \n",
    "acids and their sequence, on the amount of internal energy, and on the peptide’s charge state. In addition, product ion formation \n",
    "is strongly influenced by the fragmentation method (Medzihradszky 2005). The most widely used fragmentation methods today \n",
    "are low-energy collision-induced dissociation (CID) (Johnson et al. 1987) and electron transfer dissociation \n",
    "(ETD) (Mikesh et al. 2006). These methods favor fragmentation along the peptide backbone and result in an N-terminal prefix \n",
    "fragment and a C-terminal suffix fragment. The standard nomenclature for the C-terminal fragments is x, y and z whereas the corresponding \n",
    "N-terminal fragments are denoted as a, b and c depending on the position where the breakage occurs at the peptide backbone level. The numbering \n",
    "of each fragment starts from the N-terminus for a,b,c series and from the C-terminus for x,y,z series (Figure 4). \n",
    "One should keep in mind that during parent ion selection many of the same peptide ions are selected and dissociated into fragments, with the \n",
    "resulting fragment ions having different relative abundances according to the preferred fragmentation reaction. In addition to the \n",
    "fragmentation along the peptide backbone, fragment ions containing the amino acids R, K, N, or Q can lose ammonia (-17 Da) and are then \n",
    "denoted a*, b* and y*. Fragments containing the amino acids S, T, E, or D may lose water (-18 Da) and are then denoted a°, b° and y°. \n",
    "These losses do not change the charge of the ions and are observable as natural losses (Forner et al. 2007, Steen and Mann 2004).\n"
   ]
  },
  {
   "cell_type": "code",
   "execution_count": null,
   "metadata": {
    "dotnet_interactive": {
     "language": "fsharp"
    }
   },
   "outputs": [],
   "source": [
    "#r \"nuget: BioFSharp, 2.0.0-beta5\"\n",
    "#r \"nuget: BioFSharp.IO, 2.0.0-beta5\"\n",
    "#r \"nuget: Plotly.NET, 4.2.0\"\n",
    "#r \"nuget: BioFSharp.Mz, 0.1.5-beta\"\n",
    "\n",
    "#r \"nuget: Plotly.NET.Interactive, 4.2.0\"\n",
    "\n",
    "open Plotly.NET\n",
    "open BioFSharp\n"
   ]
  },
  {
   "cell_type": "markdown",
   "metadata": {},
   "source": [
    "## Simulate MS2 Fragmentation\n",
    "\n",
    "For the simulation we first define a short peptide. The peptide we take for this example is from rbcL.\n"
   ]
  },
  {
   "cell_type": "code",
   "execution_count": null,
   "metadata": {
    "dotnet_interactive": {
     "language": "fsharp"
    }
   },
   "outputs": [],
   "source": [
    "// Code-Block 1\n",
    "\n",
    "let peptide = \n",
    "    \"DTDILAAFR\"\n",
    "    |> BioList.ofAminoAcidString\n",
    "\n",
    "peptide\n"
   ]
  },
  {
   "cell_type": "markdown",
   "metadata": {},
   "source": [
    "In the `Mz` namespace of [BioFSharp](https://csbiology.github.io/BioFSharp/), we can find a function that can \n",
    "generate the theoretical series of y-ions from the given peptide. This function provides a lot of information, but we are only interested \n",
    "in the mass. Notice, that we do not know the intesity of the fragment ions and just use '1.' for simulation.\n"
   ]
  },
  {
   "cell_type": "code",
   "execution_count": null,
   "metadata": {
    "dotnet_interactive": {
     "language": "fsharp"
    }
   },
   "outputs": [],
   "source": [
    "// Code-Block 2\n",
    "\n",
    "let ionSeriesY =\n",
    "    peptide\n",
    "    |> Mz.Fragmentation.Series.yOfBioList BioItem.initMonoisoMassWithMemP\n",
    "    |> List.map (fun aac -> aac.MainPeak.Mass,1.)\n",
    "    \n",
    "ionSeriesY\n"
   ]
  },
  {
   "cell_type": "markdown",
   "metadata": {},
   "source": [
    "Similarly, we can simulate the b-ion series.\n"
   ]
  },
  {
   "cell_type": "code",
   "execution_count": null,
   "metadata": {
    "dotnet_interactive": {
     "language": "fsharp"
    }
   },
   "outputs": [],
   "source": [
    "// Code-Block 3\n",
    "\n",
    "let ionSeriesB =\n",
    "    peptide\n",
    "    |> Mz.Fragmentation.Series.bOfBioList BioItem.initMonoisoMassWithMemP\n",
    "    |> List.map (fun aac -> aac.MainPeak.Mass,1.)\n",
    "\n",
    "ionSeriesB\n"
   ]
  },
  {
   "cell_type": "markdown",
   "metadata": {},
   "source": [
    "Now, we can just plot the simulated data and look at our theoretical spectrum.\n"
   ]
  },
  {
   "cell_type": "code",
   "execution_count": null,
   "metadata": {
    "dotnet_interactive": {
     "language": "fsharp"
    }
   },
   "outputs": [],
   "source": [
    "// Code-Block 4\n",
    "\n",
    "let ionChart =\n",
    "    [    \n",
    "        Chart.Column (ionSeriesB, Name = \"b ions\")\n",
    "        Chart.Column (ionSeriesY, Name = \"y ions\")\n",
    "    ]\n",
    "    |> Chart.combine\n",
    "\n",
    "ionChart\n"
   ]
  },
  {
   "cell_type": "markdown",
   "metadata": {},
   "source": [
    "## Questions:\n",
    "\n",
    "1. Why are ms1 spectra not sufficent for peptide identification?\n",
    "2. How can fragmentation help with this?\n",
    "3. For an oligopeptide consisting of 3 amino acids, roughly estimate the number of possible fragments if only cosidering b/y fragments or abc/xyz fragments. What advantages and disadvantages might only considering b/y fragments have?\n",
    "\n",
    "\n",
    "## References\n",
    "\n",
    "31. Nesvizhskii, A. I., Vitek, O. & Aebersold, R. Analysis and validation of proteomic data generated by tandem mass spectrometry. Nature methods 4, 787–797; 10.1038/nmeth1088 (2007).\n",
    "32. Medzihradszky, K. F. Peptide sequence analysis. Method Enzymol 402, 209–244; 10.1016/S0076-6879(05)02007-0 (2005).\n",
    "33. Johnson, R. S., Martin, S. A., Biemann, K., Stults, J. T. & Watson, J. T. Novel fragmentation process of peptides by collision-induced decomposition in a tandem mass spectrometer: differentiation of leucine and isoleucine. Anal. Chem. 59, 2621–2625; 10.1021/Ac00148a019 (1987).\n",
    "34. Mikesh, L. M. et al. The utility of ETD mass spectrometry in proteomic analysis. Biochimica et biophysica acta 1764, 1811–1822; 10.1016/j.bbapap.2006.10.003 (2006).\n",
    "35. Forner, F., Foster, L. J. & Toppo, S. Mass spectrometry data analysis in the proteomics era. Curr Bioinform 2, 63–93; 10.2174/157489307779314285 (2007).\n",
    "36. Steen, H. & Mann, M. The ABC's (and XYZ's) of peptide sequencing. Nat. Rev. Mol. Cell Biol. 5, 699–711; 10.1038/nrm1468 (2004).\n"
   ]
  }
 ],
 "metadata": {
  "kernelspec": {
   "display_name": ".NET (F#)",
   "language": "F#",
   "name": ".net-fsharp"
  },
  "langauge_info": {
   "file_extension": ".fs",
   "mimetype": "text/x-fsharp",
   "name": "C#",
   "pygments_lexer": "fsharp",
   "version": "4.5"
  },
  "language_info": {
   "name": "polyglot-notebook"
  },
  "polyglot_notebook": {
   "kernelInfo": {
    "defaultKernelName": "fsharp",
    "items": [
     {
      "aliases": [],
      "name": "fsharp"
     }
    ]
   }
  }
 },
 "nbformat": 4,
 "nbformat_minor": 1
}
