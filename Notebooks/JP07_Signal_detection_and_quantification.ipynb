{
 "cells": [
  {
   "cell_type": "markdown",
   "metadata": {},
   "source": [
    "<h1 Style=\"font-size: 3rem\" >Signal detection and quantification</h1>\n",
    "\n",
    "1. [Signal detection and quantification](#Signal-detection-and-quantification)"
   ]
  },
  {
   "cell_type": "markdown",
   "metadata": {},
   "source": [
    "<h1 Style=\"font-size: 2rem ; display: inline-block ; margin-top: 2rem\">Signal detection and quantification</h1>\n",
    "<a href=\"#Signal-detection-and-quantification\" style=\"display: inline-block\"><sup>&#8593;back</sup></a><br>\n",
    "<div Style=\"max-width: 85%\">\n",
    "    <div Style=\"text-align: justify ; font-size: 1.8rem ; margin-top: 2rem ; line-height : 1.5\">\n",
    "Signals detected during a LC-MS measurement are pairs of m/z value and ion intensity in time. All signals recorded at a particular retention time in a given mass range compose a spectrum. Thus, in its most raw form, a generic spectrum contains the following information: (i) scan (spectra) number; (ii) retention time; (iii) vector of m/z values; (iv) vector of ion intensities; (v) scan mode. The scan number is a simple enumeration over the measurements. The retention time is the time when the measured peptides were eluting from the column. The m/z values represent the mass over charge values of the ions and ion intensity values are the corresponding ion abundances. The scan mode denotes the operational mode used to record the spectrum. It is either a full scan or the number of the fragmentation scan.\n",
    "    </div>\n",
    "    <div Id=\"figure3\" Style=\"margin-left: auto ; margin-right: auto ; font-size: 1.7rem ; color: #44546a ; width: 80% ; padding: 15px\">\n",
    "        <img src=\"img/MSDerivedDataSpaces.png\" Style=\"width: 100%\">\n",
    "        <div Style=\"padding-left: 1rem ; padding-right: 1rem ; text-align: justify ; margin-top: 1rem\">\n",
    "            <b>Figure 3: A conceptual view of different spaces of MS derived data sets.</b>\n",
    "            (i) The metadata-space serves as a descriptive layer to order, assign and integrate spectra information. (ii) The MS1-space and the (iii) MS2-space represent two independent entities that differ in signal shape, resolution and their information content (‘features’).\n",
    "        </div>\n",
    "    </div>    \n",
    "</div>"
   ]
  },
  {
   "cell_type": "markdown",
   "metadata": {},
   "source": [
    "<hr>"
   ]
  },
  {
   "cell_type": "markdown",
   "metadata": {},
   "source": [
    "<div style=\"width: 100% ; height: 60px ; display: flex ; align-content: center\">\n",
    "    <a href=\"JP06_Retention_time_and_scan_time.ipynb\" style=\"padding: 8px ; border: 2px solid blue ; border-radius: 5px ; font-size: 1.5rem ; cursor: pointer ; color: inherit; text-decoration: none ; margin-right: auto ; display: block ; height: 40px ; width: 80px ; text-align: center ; color: white ; background-color: blue\">\n",
    "        &#171; JP06\n",
    "    </a>\n",
    "    <a href=\"JP08_Centroidisation.ipynb\" style=\"padding: 8px ; border: 2px solid blue ; border-radius: 5px ; font-size: 1.5rem ; cursor: pointer ; color: inherit; text-decoration: none ; margin-left: auto ; display: block ; height: 40px ; width: 80px ; text-align: center ; color: white ; background-color: blue\">\n",
    "        JP08 &#187;\n",
    "    </a>\n",
    "</div>"
   ]
  }
 ],
 "metadata": {
  "kernelspec": {
   "display_name": "F#",
   "language": "fsharp",
   "name": "ifsharp"
  },
  "language": "fsharp",
  "language_info": {
   "codemirror_mode": "",
   "file_extension": ".fs",
   "mimetype": "text/x-fsharp",
   "name": "fsharp",
   "nbconvert_exporter": "",
   "pygments_lexer": "",
   "version": "4.3.1.0"
  }
 },
 "nbformat": 4,
 "nbformat_minor": 2
}
