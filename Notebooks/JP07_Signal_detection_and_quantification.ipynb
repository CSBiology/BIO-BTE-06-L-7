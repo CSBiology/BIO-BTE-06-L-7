{
 "cells": [
  {
   "cell_type": "markdown",
   "metadata": {},
   "source": [
    "<h1 Style=\"font-size: 3rem\" >Signal detection and quantification</h1>\n",
    "\n",
    "1. [Signal detection and quantification](#Signal-detection-and-quantification)\n",
    "6. [References](#References)"
   ]
  },
  {
   "cell_type": "markdown",
   "metadata": {},
   "source": [
    "## Signal detection and quantification\n",
    "<div Style=\"max-width: 85%\">\n",
    "    <div Style=\"text-align: justify ; font-size: 1.8rem ; margin-top: 2rem ; line-height : 1.5\">\n",
    "Signals detected during a LC-MS measurement are pairs of m/z value and ion intensity in time. All signals recorded at a particular retention time in a given mass range compose a spectrum. Thus, in its most raw form, a generic spectrum contains the following information: (i) scan (spectra) number; (ii) retention time; (iii) vector of m/z values; (iv) vector of ion intensities; (v) scan mode. The scan number is a simple enumeration over the measurements. The retention time is the time when the measured peptides were eluting from the column. The m/z values represent the mass over charge values of the ions and ion intensity values are the corresponding ion abundances. The scan mode denotes the operational mode used to record the spectrum. It is either a full scan or the number of the fragmentation scan.\n",
    "    </div>\n",
    "    <div Id=\"figure3\" Style=\"margin-left: auto ; margin-right: auto ; font-size: 1.7rem ; color: #44546a ; width: 80% ; padding: 15px\">\n",
    "        <img src=\"img/MSDerivedDataSpaces.png\" Style=\"width: 100%\">\n",
    "        <div Style=\"padding-left: 1rem ; padding-right: 1rem ; text-align: justify ; margin-top: 1rem\">\n",
    "            <b>Figure 3: A conceptual view of different spaces of MS derived data sets.</b>\n",
    "            (i) The metadata-space serves as a descriptive layer to order, assign and integrate spectra information. (ii) The MS1-space and the (iii) MS2-space represent two independent entities that differ in signal shape, resolution and their information content (‘features’).\n",
    "        </div>\n",
    "    </div>    \n",
    "</div>"
   ]
  },
  {
   "cell_type": "markdown",
   "metadata": {},
   "source": [
    "## References\n",
    "\n",
    "<ol Style=\"max-width: 85% ; text-align: justify ; font-size: 1.8rem ; margin-top: 2rem ; line-height: 1.5\">\n",
    "<li Id=\"exmp\">exmp</li>\n",
    "\n",
    "</ol>"
   ]
  }
 ],
 "metadata": {
  "kernelspec": {
   "display_name": "F#",
   "language": "fsharp",
   "name": "ifsharp"
  },
  "language": "fsharp",
  "language_info": {
   "codemirror_mode": "",
   "file_extension": ".fs",
   "mimetype": "text/x-fsharp",
   "name": "fsharp",
   "nbconvert_exporter": "",
   "pygments_lexer": "",
   "version": "4.3.1.0"
  }
 },
 "nbformat": 4,
 "nbformat_minor": 2
}
