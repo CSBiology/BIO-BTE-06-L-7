{
 "cells": [
  {
   "cell_type": "markdown",
   "metadata": {},
   "source": [
    "# NB07a Working with Deedle\n",
    "\n",
    "[![Binder](https://mybinder.org/badge_logo.svg)](https://mybinder.org/v2/gh/CSBiology/BIO-BTE-06-L-7/gh-pages?filepath=NB07a_Working_With_Deedle.ipynb)\n",
    "\n",
    "[Download Notebook](https://github.com/CSBiology/BIO-BTE-06-L-7/releases/download/NB07a/NB07a_Working_With_Deedle.ipynb)\n",
    "\n",
    "[Deedle](http://bluemountaincapital.github.io/Deedle/index.html)  is an easy to use library for data and time series manipulation and for scientific \n",
    "programming. It supports working with structured data frames, ordered and unordered data, as well as time series.\n",
    "\n",
    "The analysis of your data in the following notebooks will be mostly done in Deedle, so here are some explanations and examples to help you better understand \n",
    "the analysis notebooks.\n",
    "\n",
    "We start by loading our usual nuget packages and the Deedle package.\n"
   ]
  },
  {
   "cell_type": "code",
   "execution_count": null,
   "metadata": {
    "dotnet_interactive": {
     "language": "fsharp"
    }
   },
   "outputs": [],
   "source": [
    "#r \"nuget: Deedle, 2.3.0\"\n",
    "#r \"nuget: BioFSharp, 2.0.0-beta4\"\n",
    "#r \"nuget: BioFSharp.IO, 2.0.0-beta4\"\n",
    "#r \"nuget: BioFSharp.Mz, 0.1.5-beta\"\n",
    "#r \"nuget: BIO-BTE-06-L-7_Aux, 0.0.9\"\n",
    "#r \"nuget: FSharp.Stats\"\n",
    "\n",
    "#r \"nuget: Plotly.NET, 2.0.0-preview.16\"\n",
    "#r \"nuget: Plotly.NET.Interactive, 2.0.0-preview.16\"\n",
    "\n",
    "open Plotly.NET\n",
    "open BioFSharp\n",
    "open BioFSharp.Mz\n",
    "open BIO_BTE_06_L_7_Aux.FS3_Aux\n",
    "open BIO_BTE_06_L_7_Aux.Deedle_Aux\n",
    "open System.IO\n",
    "open Deedle\n",
    "open FSharp.Stats\n"
   ]
  },
  {
   "cell_type": "markdown",
   "metadata": {},
   "source": [
    "## Deedle Basics\n",
    "Familiarize yourself with Deedle! Create a series yourself that you add to the frame 'persons' frame.\n"
   ]
  },
  {
   "cell_type": "code",
   "execution_count": null,
   "metadata": {
    "dotnet_interactive": {
     "language": "fsharp"
    }
   },
   "outputs": [],
   "source": [
    "let firstNames      = Series.ofValues [\"Kevin\";\"Lukas\";\"Benedikt\";\"Michael\"] \n",
    "let coffeesPerWeek  = Series.ofValues [15;12;10;11] \n",
    "let lastNames       = Series.ofValues [\"Schneider\";\"Weil\";\"Venn\";\"Schroda\"]  \n",
    "let group           = Series.ofValues [\"CSB\";\"CSB\";\"CSB\";\"MBS\"] \n",
    "let persons = \n",
    "    Frame.ofColumns(List.zip [\"fN\";\"lN\";\"g\"] [firstNames;lastNames;group])\n",
    "    |> Frame.addCol \"cpw\" coffeesPerWeek\n"
   ]
  },
  {
   "cell_type": "code",
   "execution_count": null,
   "metadata": {
    "dotnet_interactive": {
     "language": "fsharp"
    }
   },
   "outputs": [],
   "source": [
    "persons\n",
    "|> formatAsTable 0.\n",
    "|> Chart.withSize (600.,700.)\n"
   ]
  },
  {
   "cell_type": "markdown",
   "metadata": {},
   "source": [
    "Follow the above scheme and create another frame that is exactly the same, but represents different persons (the frame can be small, e.g. two persons).\n",
    "Use the function Frame.merge to combine your frame and 'persons'.\n",
    "Back to the frame 'persons'! In the following you see a series of frame/series manipulations.\n"
   ]
  },
  {
   "cell_type": "code",
   "execution_count": null,
   "metadata": {
    "dotnet_interactive": {
     "language": "fsharp"
    }
   },
   "outputs": [],
   "source": [
    "let coffeePerWeek' :Series<int,int> = Frame.getCol (\"cpw\") persons \n",
    "let groupedByG :Frame<string*int,_> = persons |> Frame.groupRowsBy \"g\"\n",
    "let withOutG :Frame<string*int,_> = groupedByG |> Frame.sliceCols [\"fN\";\"lN\";\"cpw\"]\n",
    "let coffeePerWeek'' :Series<string*int,int>= groupedByG |> Frame.getCol (\"cpw\")\n",
    "let coffeePerWeekPerGroup = Series.applyLevel Pair.get1Of2 (Series.values >> Seq.sum) coffeePerWeek''\n"
   ]
  },
  {
   "cell_type": "markdown",
   "metadata": {},
   "source": [
    "Now that you got to know the object `Frame` which is a collection of `Series`, we move on to a real dataset. \n",
    "As our dataset we take the FASTA with Chlamy proteins, select 50 random proteins, and digest them.\n",
    "The digested peptides are represented using a record type. Deedle frames can be directly constructed from\n",
    "record types with `Frame.ofRecords`. Alternatively, a character separated file could be used as source for a Frame as well.\n"
   ]
  },
  {
   "cell_type": "code",
   "execution_count": null,
   "metadata": {
    "dotnet_interactive": {
     "language": "fsharp"
    }
   },
   "outputs": [],
   "source": [
    "let path = Path.Combine[|__SOURCE_DIRECTORY__;\"downloads/Chlamy_JGI5_5(Cp_Mp).fasta\"|]\n",
    "downloadFile path \"Chlamy_JGI5_5(Cp_Mp).fasta\" \"bio-bte-06-l-7\"\n",
    "\n",
    "let examplePeptides = \n",
    "    path\n",
    "    |> IO.FastA.fromFile BioArray.ofAminoAcidString\n",
    "    |> Seq.toArray\n",
    "    |> Array.take 50\n",
    "    |> Array.mapi (fun i fastAItem ->\n",
    "        Digestion.BioArray.digest Digestion.Table.Trypsin i fastAItem.Sequence\n",
    "        |> Digestion.BioArray.concernMissCleavages 0 0 \n",
    "        |> Array.map (fun dp ->\n",
    "            {|\n",
    "                PeptideSequence = dp.PepSequence\n",
    "                Protein = fastAItem.Header.Split ' ' |> Array.head\n",
    "            |}\n",
    "        )\n",
    "    )\n",
    "    |> Array.concat\n",
    "    |> Array.filter (fun x -> x.PeptideSequence.Length > 5)\n",
    "\n",
    "let peptidesFrame =\n",
    "    examplePeptides\n",
    "    |> Frame.ofRecords\n"
   ]
  },
  {
   "cell_type": "code",
   "execution_count": null,
   "metadata": {
    "dotnet_interactive": {
     "language": "fsharp"
    }
   },
   "outputs": [],
   "source": [
    "peptidesFrame\n",
    "|> Frame.take 10\n",
    "|> formatAsTable 0.\n",
    "|> Chart.withSize (700.,900.)\n"
   ]
  },
  {
   "cell_type": "markdown",
   "metadata": {},
   "source": [
    "As you can see, our columns are named the same as the field of the record type, while our rows are indexed by numbers only. It is often helpful to use a more descriptive\n",
    "row key. In this case, we can use the peptide sequence for that.  \n",
    "**Note:** Row keys must be unique. By grouping with \"PeptidesSequence\", we get the sequence tupled with the index as key. \n",
    "The function `Frame.reduceLevel` aggregates the rows now based on the first part of the tuple, the peptide sequence, ignoring the second part of the tuple, the index. \n",
    "The aggregator function given to `Frame.reduceLevel` aggregates each column separately.\n"
   ]
  },
  {
   "cell_type": "code",
   "execution_count": null,
   "metadata": {
    "dotnet_interactive": {
     "language": "fsharp"
    }
   },
   "outputs": [],
   "source": [
    "let pfIndexedSequenceList : Frame<list<AminoAcids.AminoAcid>,string> =\n",
    "    peptidesFrame\n",
    "    |> Frame.groupRowsBy \"PeptideSequence\"\n",
    "    |> Frame.dropCol \"PeptideSequence\"\n",
    "    |> Frame.reduceLevel fst (fun a b -> a + \",\" + b)\n"
   ]
  },
  {
   "cell_type": "code",
   "execution_count": null,
   "metadata": {
    "dotnet_interactive": {
     "language": "fsharp"
    }
   },
   "outputs": [],
   "source": [
    "pfIndexedSequenceList\n",
    "|> Frame.take 10\n",
    "|> formatAsTable 0.\n",
    "|> Chart.withSize (500.,900.)\n"
   ]
  },
  {
   "cell_type": "markdown",
   "metadata": {},
   "source": [
    "Our rows are now indexed with the peptide sequences. The peptide sequence is still an aarray of amino acids. For better visibility we can transform it to its string representation. \n",
    "For that we can map over our row keys similar to an array and call the function `BioList.toString` on each row key.\n"
   ]
  },
  {
   "cell_type": "code",
   "execution_count": null,
   "metadata": {
    "dotnet_interactive": {
     "language": "fsharp"
    }
   },
   "outputs": [],
   "source": [
    "let pfIndexedStringSequence =\n",
    "    pfIndexedSequenceList\n",
    "    |> Frame.mapRowKeys (fun rc -> rc |> BioList.toString)\n"
   ]
  },
  {
   "cell_type": "code",
   "execution_count": null,
   "metadata": {
    "dotnet_interactive": {
     "language": "fsharp"
    }
   },
   "outputs": [],
   "source": [
    "pfIndexedStringSequence\n",
    "|> Frame.take 10\n",
    "|> formatAsTable 0.\n",
    "|> Chart.withSize (800.,900.)\n"
   ]
  },
  {
   "cell_type": "markdown",
   "metadata": {},
   "source": [
    "We now have a frame containing information about our peptides. To add additional information we can go back to the peptide array we started with and calculate \n",
    "the monoisotopic mass, for example. The monoisotopic mass is tupled with the peptide sequence as string, the same as in our peptide frame. The resulting array\n",
    "can then be transformed into a `series`\n"
   ]
  },
  {
   "cell_type": "code",
   "execution_count": null,
   "metadata": {
    "dotnet_interactive": {
     "language": "fsharp"
    }
   },
   "outputs": [],
   "source": [
    "let peptidesAndMasses =\n",
    "    examplePeptides\n",
    "    |> Array.distinctBy (fun x -> x.PeptideSequence)\n",
    "    |> Array.map (fun peptide ->\n",
    "        // calculate mass for each peptide\n",
    "        peptide.PeptideSequence |> BioList.toString, BioSeq.toMonoisotopicMassWith (BioItem.monoisoMass ModificationInfo.Table.H2O) peptide.PeptideSequence\n",
    "        )\n",
    "\n",
    "let peptidesAndMassesSeries =\n",
    "    peptidesAndMasses\n",
    "    |> series\n"
   ]
  },
  {
   "cell_type": "markdown",
   "metadata": {},
   "source": [
    "The columns in frames consist of series. Since we now have a series containing our monoisotopic masses, together with the peptide sequence, we can simply add \n",
    "it to our frame and give the column a name.\n"
   ]
  },
  {
   "cell_type": "code",
   "execution_count": null,
   "metadata": {
    "dotnet_interactive": {
     "language": "fsharp"
    }
   },
   "outputs": [],
   "source": [
    "let pfAddedMass =\n",
    "    pfIndexedStringSequence\n",
    "    |> Frame.addCol \"Mass\" peptidesAndMassesSeries\n"
   ]
  },
  {
   "cell_type": "code",
   "execution_count": null,
   "metadata": {
    "dotnet_interactive": {
     "language": "fsharp"
    }
   },
   "outputs": [],
   "source": [
    "pfAddedMass\n",
    "|> Frame.take 10\n",
    "|> formatAsTable 0.\n",
    "|> Chart.withSize (1000.,900.)\n"
   ]
  },
  {
   "cell_type": "markdown",
   "metadata": {},
   "source": [
    "Alternatively, we can take a column from our frame, apply a function to it, and create a new frame from the series.\n"
   ]
  },
  {
   "cell_type": "code",
   "execution_count": null,
   "metadata": {
    "dotnet_interactive": {
     "language": "fsharp"
    }
   },
   "outputs": [],
   "source": [
    "let pfChargedMass =\n",
    "    pfAddedMass\n",
    "    |> Frame.getCol \"Mass\"\n",
    "    |> Series.mapValues (fun mass -> Mass.toMZ mass 2.)\n",
    "    |> fun s -> [\"Mass Charge 2\", s]\n",
    "    |> Frame.ofColumns\n"
   ]
  },
  {
   "cell_type": "code",
   "execution_count": null,
   "metadata": {
    "dotnet_interactive": {
     "language": "fsharp"
    }
   },
   "outputs": [],
   "source": [
    "pfChargedMass\n",
    "|> Frame.take 10\n",
    "|> formatAsTable 0.\n",
    "|> Chart.withSize (1000.,900.)\n"
   ]
  },
  {
   "cell_type": "markdown",
   "metadata": {},
   "source": [
    "The new frame has the same row keys as our previous frame. The information from our new frame can be joined with our old frame by using `Frame.join`.\n",
    "`Frame.join` is similar to `Frame.addCol`, but can join whole frames at once instead of single columns.\n"
   ]
  },
  {
   "cell_type": "code",
   "execution_count": null,
   "metadata": {
    "dotnet_interactive": {
     "language": "fsharp"
    }
   },
   "outputs": [],
   "source": [
    "let joinedFrame =\n",
    "    pfAddedMass\n",
    "    |> Frame.join JoinKind.Left pfChargedMass\n"
   ]
  },
  {
   "cell_type": "code",
   "execution_count": null,
   "metadata": {
    "dotnet_interactive": {
     "language": "fsharp"
    }
   },
   "outputs": [],
   "source": [
    "joinedFrame\n",
    "|> Frame.take 10\n",
    "|> formatAsTable 0.\n",
    "|> Chart.withSize (1500.,900.)\n"
   ]
  }
 ],
 "metadata": {
  "kernelspec": {
   "display_name": ".NET (F#)",
   "language": "F#",
   "name": ".net-fsharp"
  },
  "langauge_info": {
   "file_extension": ".fs",
   "mimetype": "text/x-fsharp",
   "name": "C#",
   "pygments_lexer": "fsharp",
   "version": "4.5"
  }
 },
 "nbformat": 4,
 "nbformat_minor": 1
}
