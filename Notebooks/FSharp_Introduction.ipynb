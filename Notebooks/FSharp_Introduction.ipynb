{
 "cells": [
  {
   "cell_type": "markdown",
   "metadata": {},
   "source": [
    "This notebook is meant as a small cheat sheet for the FSharp programming language maybe read up on [Comments](#Comments) first so you don't get confused if explanatory text is written in the code blocks\n",
    "\n",
    "1. [Variables (but not really)](#Variables-(but-not-really))\n",
    "2. [Lists & Arrays](#Lists-&-Arrays)\n",
    "3. [Functions](#Functions)\n",
    "4. [Control flow expressions](#Control-flow-expressions)\n",
    "    - [Pattern Matching](#Pattern-Matching)\n",
    "    - [if-then-else](#if-then-else)\n",
    "5 [Complex Data Types](#Complex-Data-Types)\n",
    "    - [Tuples](#Tuples)\n",
    "    - [Record Types](#Record-Types)\n",
    "    - [Comments](#Comments) "
   ]
  },
  {
   "cell_type": "markdown",
   "metadata": {},
   "source": [
    "### Variable (but not really)\n",
    "\n",
    "The `let` keyword defines an (immutable) value."
   ]
  },
  {
   "cell_type": "code",
   "execution_count": 1,
   "metadata": {},
   "outputs": [
    {
     "data": {
      "text/plain": [
       "5"
      ]
     },
     "execution_count": 1,
     "metadata": {},
     "output_type": "execute_result"
    }
   ],
   "source": [
    "let myInt = 5\n",
    "myInt"
   ]
  },
  {
   "cell_type": "code",
   "execution_count": 2,
   "metadata": {},
   "outputs": [
    {
     "data": {
      "text/plain": [
       "3.14"
      ]
     },
     "execution_count": 2,
     "metadata": {},
     "output_type": "execute_result"
    }
   ],
   "source": [
    "let myFloat = 3.14\n",
    "myFloat"
   ]
  },
  {
   "cell_type": "code",
   "execution_count": 3,
   "metadata": {},
   "outputs": [
    {
     "data": {
      "text/plain": [
       "\"hello\""
      ]
     },
     "execution_count": 3,
     "metadata": {},
     "output_type": "execute_result"
    }
   ],
   "source": [
    "let myString = \"hello\"\n",
    "myString"
   ]
  },
  {
   "cell_type": "markdown",
   "metadata": {},
   "source": [
    "### Lists & Arrays\n",
    "\n",
    "Square brackets `[]` create a list with semicolon `;` delimiters."
   ]
  },
  {
   "cell_type": "code",
   "execution_count": 4,
   "metadata": {},
   "outputs": [
    {
     "data": {
      "text/plain": [
       "[2; 3; 4; 5]"
      ]
     },
     "execution_count": 4,
     "metadata": {},
     "output_type": "execute_result"
    }
   ],
   "source": [
    "let twoToFive = [2; 3; 4; 5]\n",
    "twoToFive"
   ]
  },
  {
   "cell_type": "markdown",
   "metadata": {},
   "source": [
    "`::` creates a list with a new 1st element"
   ]
  },
  {
   "cell_type": "code",
   "execution_count": 5,
   "metadata": {},
   "outputs": [
    {
     "data": {
      "text/plain": [
       "[1; 2; 3; 4; 5]"
      ]
     },
     "execution_count": 5,
     "metadata": {},
     "output_type": "execute_result"
    }
   ],
   "source": [
    "let oneToFive = 1::twoToFive\n",
    "oneToFive"
   ]
  },
  {
   "cell_type": "markdown",
   "metadata": {},
   "source": [
    "Square brackets with dashes `[||]` create an array with semicolon `;` delimiters."
   ]
  },
  {
   "cell_type": "code",
   "execution_count": 6,
   "metadata": {},
   "outputs": [],
   "source": [
    "let oneToFour = [|1; 2; 3; 4|]"
   ]
  },
  {
   "cell_type": "markdown",
   "metadata": {},
   "source": [
    "Elements can be accessed using dot `.[i]`"
   ]
  },
  {
   "cell_type": "code",
   "execution_count": 7,
   "metadata": {},
   "outputs": [
    {
     "data": {
      "text/plain": [
       "1"
      ]
     },
     "execution_count": 7,
     "metadata": {},
     "output_type": "execute_result"
    }
   ],
   "source": [
    "oneToFour.[0]"
   ]
  },
  {
   "cell_type": "markdown",
   "metadata": {},
   "source": [
    "IMPORTANT: commas are ***never*** used as delimiters, only semicolons!"
   ]
  },
  {
   "cell_type": "markdown",
   "metadata": {},
   "source": [
    "### Functions\n",
    "\n",
    "The `let` keyword also defines a named function."
   ]
  },
  {
   "cell_type": "code",
   "execution_count": 8,
   "metadata": {},
   "outputs": [
    {
     "data": {
      "text/plain": [
       "9"
      ]
     },
     "execution_count": 8,
     "metadata": {},
     "output_type": "execute_result"
    }
   ],
   "source": [
    "let square x = x * x\n",
    "square 3"
   ]
  },
  {
   "cell_type": "code",
   "execution_count": 9,
   "metadata": {},
   "outputs": [
    {
     "data": {
      "text/plain": [
       "5"
      ]
     },
     "execution_count": 9,
     "metadata": {},
     "output_type": "execute_result"
    }
   ],
   "source": [
    "let add x y = x + y\n",
    "add 2 3"
   ]
  },
  {
   "cell_type": "markdown",
   "metadata": {},
   "source": [
    "To define a multiline function, just use indents. No `;` needed."
   ]
  },
  {
   "cell_type": "code",
   "execution_count": 10,
   "metadata": {},
   "outputs": [],
   "source": [
    "let evens list =\n",
    "   let isEven x = x%2 = 0\n",
    "   List.filter isEven list \n",
    "   \n",
    "//isEven 5    // the value or constructor isEven is not definet. .. this is because it is only defined inside \n",
    "            // of the functional scope of `evens`."
   ]
  },
  {
   "cell_type": "markdown",
   "metadata": {},
   "source": [
    "Define `isEven` as an inner (\"nested\") function. In this case the function `isEven` is defined in the scope of the function `evens`. It cannot be accessed outside of this scope.\n",
    "`List.filter` is a library function with two parameters: a `boolean` function and a `list` to work on."
   ]
  },
  {
   "cell_type": "code",
   "execution_count": 11,
   "metadata": {},
   "outputs": [
    {
     "data": {
      "text/plain": [
       "[2; 4]"
      ]
     },
     "execution_count": 11,
     "metadata": {},
     "output_type": "execute_result"
    }
   ],
   "source": [
    "evens oneToFive"
   ]
  },
  {
   "cell_type": "markdown",
   "metadata": {},
   "source": [
    "You can use `()` to clarify precedence (think brackets in math). In this example, do `List.map` first, with two parameters, then do `List.sum` on the result.\n",
    "`List.map` applies a function to all elements in the list.\n"
   ]
  },
  {
   "cell_type": "code",
   "execution_count": 12,
   "metadata": {},
   "outputs": [
    {
     "data": {
      "text/plain": [
       "338350"
      ]
     },
     "execution_count": 12,
     "metadata": {},
     "output_type": "execute_result"
    }
   ],
   "source": [
    "let sumOfSquaresTo100 =\n",
    "   List.sum (List.map square [1..100])\n",
    "sumOfSquaresTo100"
   ]
  },
  {
   "cell_type": "markdown",
   "metadata": {},
   "source": [
    "Without the `()`, `List.map` would be passed as an parameter to `List.sum`."
   ]
  },
  {
   "cell_type": "markdown",
   "metadata": {},
   "source": [
    "You can pipe the output of one operation to the next using `|>`.\n",
    "Here is the same sumOfSquares function written using pipes."
   ]
  },
  {
   "cell_type": "code",
   "execution_count": 13,
   "metadata": {},
   "outputs": [
    {
     "data": {
      "text/plain": [
       "338350"
      ]
     },
     "execution_count": 13,
     "metadata": {},
     "output_type": "execute_result"
    }
   ],
   "source": [
    "let sumOfSquaresTo100piped =\n",
    "   [1..100] \n",
    "   |> List.map square \n",
    "   |> List.sum\n",
    "sumOfSquaresTo100piped"
   ]
  },
  {
   "cell_type": "markdown",
   "metadata": {},
   "source": [
    "You can define anonymous functions using the `fun` keyword"
   ]
  },
  {
   "cell_type": "code",
   "execution_count": 14,
   "metadata": {},
   "outputs": [
    {
     "data": {
      "text/plain": [
       "338350"
      ]
     },
     "execution_count": 14,
     "metadata": {},
     "output_type": "execute_result"
    }
   ],
   "source": [
    "let sumOfSquaresTo100withFun =\n",
    "   [1..100] \n",
    "   |> List.map (fun x -> x * x) \n",
    "   |> List.sum\n",
    "sumOfSquaresTo100withFun"
   ]
  },
  {
   "cell_type": "markdown",
   "metadata": {},
   "source": [
    "### Control flow expressions\n",
    "\n",
    "#### Pattern Matching"
   ]
  },
  {
   "cell_type": "code",
   "execution_count": 15,
   "metadata": {},
   "outputs": [],
   "source": [
    "let simplePatternMatch x =\n",
    "   match x with\n",
    "    | \"a\" -> printfn \"input is a\"\n",
    "    | \"b\" -> printfn \"input is b\"\n",
    "    | _   -> printfn \"input is something else\""
   ]
  },
  {
   "cell_type": "markdown",
   "metadata": {},
   "source": [
    "Underscore `_` matches anything"
   ]
  },
  {
   "cell_type": "code",
   "execution_count": 16,
   "metadata": {},
   "outputs": [
    {
     "data": {
      "text/plain": [
       "input is a\r\n"
      ]
     },
     "metadata": {},
     "output_type": "display_data"
    }
   ],
   "source": [
    "simplePatternMatch \"a\""
   ]
  },
  {
   "cell_type": "markdown",
   "metadata": {},
   "source": [
    "#### if-then-else\n",
    "\n",
    "`if-then-else` is an expression and must return a value of a particular type.\n",
    "It evaluates to a different value depending on the `boolean` expression given.\n",
    "Both branches must return the same type!"
   ]
  },
  {
   "cell_type": "code",
   "execution_count": 17,
   "metadata": {},
   "outputs": [
    {
     "data": {
      "text/plain": [
       "\"a\""
      ]
     },
     "execution_count": 17,
     "metadata": {},
     "output_type": "execute_result"
    }
   ],
   "source": [
    "let v = if true then \"a\" else \"b\"\n",
    "v"
   ]
  },
  {
   "cell_type": "markdown",
   "metadata": {},
   "source": [
    "In the following we will use a printfn function. Normally in FSharp only the last output is returned, but side effects, can always be returned. As a rule of thumb: All Unit outputs are side effects. <br>\n",
    "In this case, this means, we will print the result and still can keep working with the output.\n",
    "Also you will notice, that the last output is only `f (1=3)` -> \"b\", but we still will get all other results, as we print them below."
   ]
  },
  {
   "cell_type": "code",
   "execution_count": 18,
   "metadata": {},
   "outputs": [
    {
     "data": {
      "text/plain": [
       "\"b\""
      ]
     },
     "execution_count": 18,
     "metadata": {},
     "output_type": "execute_result"
    },
    {
     "data": {
      "text/plain": [
       "b\r\n",
       "a\r\n",
       "a\r\n",
       "b\r\n"
      ]
     },
     "metadata": {},
     "output_type": "display_data"
    }
   ],
   "source": [
    "let f x = \n",
    "    if x \n",
    "    then \n",
    "        printfn \"a\";\n",
    "        \"a\" \n",
    "    else\n",
    "        printfn \"b\"\n",
    "        \"b\"\n",
    "\n",
    "f false\n",
    "f true\n",
    "f (1=1)\n",
    "f (1=3)"
   ]
  },
  {
   "cell_type": "markdown",
   "metadata": {},
   "source": [
    "### Complex Data Types\n",
    "\n",
    "#### Tuples\n",
    "\n",
    "Tuple types are pairs, triples, and so on of values.\n",
    "Tuples use commas `,` as delimiter."
   ]
  },
  {
   "cell_type": "code",
   "execution_count": 19,
   "metadata": {},
   "outputs": [
    {
     "data": {
      "text/plain": [
       "(1, 2)"
      ]
     },
     "execution_count": 19,
     "metadata": {},
     "output_type": "execute_result"
    }
   ],
   "source": [
    "let twoTuple = 1,2\n",
    "twoTuple"
   ]
  },
  {
   "cell_type": "code",
   "execution_count": 20,
   "metadata": {},
   "outputs": [
    {
     "data": {
      "text/plain": [
       "(\"a\", 2, true)"
      ]
     },
     "execution_count": 20,
     "metadata": {},
     "output_type": "execute_result"
    }
   ],
   "source": [
    "let threeTuple = \"a\",2,true\n",
    "threeTuple"
   ]
  },
  {
   "cell_type": "markdown",
   "metadata": {},
   "source": [
    "#### Record Types\n",
    "\n",
    "Record types have named fields. They use Semicolons `;` as separators."
   ]
  },
  {
   "cell_type": "code",
   "execution_count": 21,
   "metadata": {},
   "outputs": [],
   "source": [
    "type Person = {FirstName:string; LastName:string}"
   ]
  },
  {
   "cell_type": "code",
   "execution_count": 22,
   "metadata": {},
   "outputs": [
    {
     "data": {
      "text/plain": [
       "{FirstName = \"John\";\n",
       " LastName = \"Doe\";}"
      ]
     },
     "execution_count": 22,
     "metadata": {},
     "output_type": "execute_result"
    }
   ],
   "source": [
    "let person1 = {FirstName = \"John\"; LastName = \"Doe\"}\n",
    "person1"
   ]
  },
  {
   "cell_type": "markdown",
   "metadata": {},
   "source": [
    "Field of a record type can be acessed individually with a dot `.Name`"
   ]
  },
  {
   "cell_type": "code",
   "execution_count": 23,
   "metadata": {},
   "outputs": [
    {
     "data": {
      "text/plain": [
       "\"John\""
      ]
     },
     "execution_count": 23,
     "metadata": {},
     "output_type": "execute_result"
    }
   ],
   "source": [
    "person1.FirstName"
   ]
  },
  {
   "cell_type": "markdown",
   "metadata": {},
   "source": [
    "### Comments\n",
    "\n",
    "<b Style=\"color:red\">Comments are text written in code area (often marked green) which will be ignored by the compiler and is not executed.</b>\n",
    "\n",
    "// single line comments use a double slash\n",
    "\n",
    "(* multi line comments use (* . . . *) pair -end of multi line comment- *)"
   ]
  },
  {
   "cell_type": "code",
   "execution_count": 24,
   "metadata": {},
   "outputs": [],
   "source": [
    "type PersonalInformation =\n",
    "    {\n",
    "        //First name of a person\n",
    "        FirstName  :string\n",
    "        //Last name of a person\n",
    "        LastName   :string\n",
    "        (*Address and\n",
    "        phone number of a person*)\n",
    "        Address    : string\n",
    "        PhoneNumber: int\n",
    "    }"
   ]
  }
 ],
 "metadata": {
  "kernelspec": {
   "display_name": "F#",
   "language": "fsharp",
   "name": "ifsharp"
  },
  "language": "fsharp",
  "language_info": {
   "codemirror_mode": "",
   "file_extension": ".fs",
   "mimetype": "text/x-fsharp",
   "name": "fsharp",
   "nbconvert_exporter": "",
   "pygments_lexer": "",
   "version": "4.3.1.0"
  }
 },
 "nbformat": 4,
 "nbformat_minor": 2
}
