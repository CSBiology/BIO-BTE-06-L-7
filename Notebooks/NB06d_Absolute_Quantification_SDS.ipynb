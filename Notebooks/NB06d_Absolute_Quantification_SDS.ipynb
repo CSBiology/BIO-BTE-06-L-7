{
  "cells": [
    {
      "cell_type": "code",
      "execution_count": 1,
      "metadata": {
        "dotnet_interactive": {
          "language": "fsharp"
        }
      },
      "source": [
        "#r \"nuget: FSharp.Stats, 0.4.0\"\n",
        "#r \"nuget: BioFSharp, 2.0.0-beta5\"\n",
        "#r \"nuget: BioFSharp.IO, 2.0.0-beta5\"\n",
        "#r \"nuget: Plotly.NET, 2.0.0-beta6\"\n",
        "#r \"nuget: BIO-BTE-06-L-7_Aux, 0.0.6\"\n",
        "#r \"nuget: Deedle, 2.3.0\"\n",
        "#r \"nuget: ISADotNet, 0.2.4\"\n",
        "#r \"nuget: ISADotNet.XLSX, 0.2.4\"\n",
        "\n",
        "#r \"nuget: Plotly.NET, 2.0.0-beta8\"\n",
        "#r \"nuget: Plotly.NET.Interactive, 2.0.0-beta8\"\n",
        "\n",
        "open System.IO\n",
        "open ISADotNet\n",
        "open ISADotNet.API\n",
        "open Deedle\n",
        "open BioFSharp\n",
        "open FSharpAux\n",
        "open FSharp.Stats\n",
        "open Plotly.NET\n",
        "open FSharp.Stats.Fitting.LinearRegression.OrdinaryLeastSquares.Linear\n",
        "open System.IO\n",
        "open BIO_BTE_06_L_7_Aux.FS3_Aux\n",
        "open BIO_BTE_06_L_7_Aux.Deedle_Aux"
      ],
      "outputs": []
    },
    {
      "cell_type": "markdown",
      "metadata": {},
      "source": [
        "# NB06d Absolute Quantification\n",
        "\n",
        "[![Binder](https://mybinder.org/badge_logo.svg)](https://mybinder.org/v2/gh/CSBiology/BIO-BTE-06-L-7/gh-pages?filepath=NB06d_Absolute_Quantification_SDS.ipynb)\n",
        "\n",
        "[Download Notebook](https://github.com/CSBiology/BIO-BTE-06-L-7/releases/download/NB06b_NB06b_NB06c_NB06c_NB06d_NB06d/NB06d_Absolute_Quantification_SDS.ipynb)\n",
        "\n",
        "Finally, after careful peptide ion selection, quality control and assuring that our label efficiency allows accurate for quantifications, we can start to\n",
        "calculate protein abundancies. Since we start again by getting access to our data and its description, this notebook will start off familiar!\n",
        "\n",
        "## I. Reading the sample description\n",
        "\n",
        "As always: before we analyze our data, we will download and read the sample description provided by the experimentalist."
      ]
    },
    {
      "cell_type": "code",
      "execution_count": 1,
      "metadata": {
        "dotnet_interactive": {
          "language": "fsharp"
        }
      },
      "source": [
        "let directory = __SOURCE_DIRECTORY__\n",
        "let path2 = Path.Combine[|directory;\"downloads/alle_Gruppen_V11_SWATE.xlsx\"|]\n",
        "downloadFile path2 \"alle_Gruppen_V11_SWATE.xlsx\" \"bio-bte-06-l-7\"\n",
        "\n",
        "let _,_,_,myAssayFile = XLSX.AssayFile.AssayFile.fromFile path2\n",
        "let inOutMap = BIO_BTE_06_L_7_Aux.ISA_Aux.createInOutMap myAssayFile"
      ],
      "outputs": []
    },
    {
      "cell_type": "markdown",
      "metadata": {},
      "source": [
        "Next, we will prepare functions to look up parameters which might be needed for further calculations.\n",
        "If you compare this list to the one of note book NB06b you will find additional functions. We will need these functions\n",
        "in order to calculate the absolute abundances. "
      ]
    },
    {
      "cell_type": "code",
      "execution_count": 1,
      "metadata": {
        "dotnet_interactive": {
          "language": "fsharp"
        }
      },
      "source": [
        "type CutoutBand =\n",
        "    | RbcL\n",
        "    | RbcS\n",
        "\n",
        "let normalizeFileName (f:string) = if Path.HasExtension f then f else Path.ChangeExtension(f, \"wiff\")\n",
        "\n",
        "//\n",
        "let getStrain (fileName:string) =\n",
        "    let fN = fileName |> normalizeFileName\n",
        "    BIO_BTE_06_L_7_Aux.ISA_Aux.tryGetCharacteristic inOutMap \"Cultivation -Sample preparation\" \"strain\" fN myAssayFile\n",
        "    |> Option.defaultValue \"\"\n",
        "\n",
        "//\n",
        "let getExpressionLevel (fileName:string) =\n",
        "    let fN = fileName |> normalizeFileName \n",
        "    BIO_BTE_06_L_7_Aux.ISA_Aux.tryGetCharacteristic inOutMap \"Cultivation -Sample preparation\" \"gene expression\" fN myAssayFile \n",
        "    |> Option.defaultValue \"Wt-Like\"\n",
        "\n",
        "// \n",
        "let getμgChlorophPerMlCult (fileName:string) =\n",
        "    let fN = fileName |> normalizeFileName\n",
        "    BIO_BTE_06_L_7_Aux.ISA_Aux.tryGetCharacteristic inOutMap \"Cultivation -Sample preparation\" \"concentration #5\" fN myAssayFile |> Option.defaultValue \"\"\n",
        "    |> float \n",
        "    |> (*) 1000.\n",
        "\n",
        "// \n",
        "let getCellCountPerMlCult (fileName:string) =\n",
        "    let fN = fileName |> normalizeFileName\n",
        "    BIO_BTE_06_L_7_Aux.ISA_Aux.tryGetParameter inOutMap \"Cultivation -Sample preparation\" \"concentration\" fN myAssayFile |> Option.defaultValue \"\"\n",
        "    |> float \n",
        "\n",
        "// \n",
        "let getμgChlorophPerμlSample (fileName:string) =\n",
        "    let fN = fileName |> normalizeFileName\n",
        "    BIO_BTE_06_L_7_Aux.ISA_Aux.tryGetCharacteristic inOutMap \"Cultivation -Sample preparation\" \"concentration #2\" fN myAssayFile |> Option.defaultValue \"\"\n",
        "    |> float \n",
        "\n",
        "// \n",
        "let getμgProtPerμlSample (fileName:string) =\n",
        "    let fN = fileName |> normalizeFileName\n",
        "    BIO_BTE_06_L_7_Aux.ISA_Aux.tryGetCharacteristic inOutMap \"Cultivation -Sample preparation\" \"concentration #3\" fN myAssayFile |> Option.defaultValue \"\"\n",
        "    |> float \n",
        "\n",
        "//\n",
        "let get15N_PS_Amount (fileName:string) =\n",
        "    let fN = fileName |> normalizeFileName\n",
        "    BIO_BTE_06_L_7_Aux.ISA_Aux.tryGetCharacteristic inOutMap \"Extraction\" \"gram #2\" fN myAssayFile |> Option.defaultValue \"\"\n",
        "    |> String.split ' '\n",
        "    |> Array.head\n",
        "    |> float \n",
        "//\n",
        "let getGroupID (fileName:string) =\n",
        "    let fN = fileName |> normalizeFileName\n",
        "    BIO_BTE_06_L_7_Aux.ISA_Aux.tryGetParameter inOutMap \"Extraction\" \"Group name\" fN myAssayFile |> Option.defaultValue \"\"\n",
        "    |> int    \n",
        "\n",
        "let getLoadAmount (fileName : string) =\n",
        "    let fN = fileName |> normalizeFileName\n",
        "    BIO_BTE_06_L_7_Aux.ISA_Aux.tryGetParameter inOutMap \"PAGE - Sample preparation\" \"soluble protein content\" fN myAssayFile |> Option.defaultValue \"\"\n",
        "    |> float\n",
        "\n",
        "\n",
        "let getCutoutBand (fileName : string) =\n",
        "    let fN = fileName |> normalizeFileName\n",
        "    BIO_BTE_06_L_7_Aux.ISA_Aux.tryGetParameter inOutMap \"PAGE - Sample preparation\" \"Cutout band\" fN myAssayFile |> Option.defaultValue \"\"\n",
        "    |> fun str ->\n",
        "        match str with\n",
        "        | \"rbcL\" -> RbcL\n",
        "        | \"rbcS\" -> RbcS\n",
        "        | _ -> failwith (sprintf \"rbcL or rbcS not cut out in file %s\" fN)"
      ],
      "outputs": []
    },
    {
      "cell_type": "markdown",
      "metadata": {},
      "source": [
        "A quick execution to test the retrieval of data from the isa sample table:"
      ]
    },
    {
      "cell_type": "code",
      "execution_count": 1,
      "metadata": {
        "dotnet_interactive": {
          "language": "fsharp"
        }
      },
      "source": [
        "getStrain \"Gr2rbcL2_5.wiff\"\n",
        "getExpressionLevel \"Gr2rbcL2_5.wiff\"\n",
        "getμgChlorophPerMlCult \"Gr2rbcL2_5.wiff\"\n",
        "getCellCountPerMlCult \"Gr2rbcL2_5.wiff\"\n",
        "getμgChlorophPerμlSample \"Gr2rbcL2_5.wiff\"\n",
        "getμgProtPerμlSample \"Gr2rbcL2_5.wiff\"\n",
        "get15N_PS_Amount \"Gr2rbcL2_5.wiff\"\n",
        "getGroupID \"Gr2rbcL2_5.wiff\"\n",
        "getLoadAmount \"Gr2rbcL2_5.wiff\""
      ],
      "outputs": []
    },
    {
      "cell_type": "markdown",
      "metadata": {},
      "source": [
        "## II. Reading the data\n",
        "As promised, we start this notebook with the output of the previous analysis, this notebook assumes that the data from *NB06b Data Access and Quality Control* is stored in a .txt"
      ]
    },
    {
      "cell_type": "code",
      "execution_count": 1,
      "metadata": {
        "dotnet_interactive": {
          "language": "fsharp"
        }
      },
      "source": [
        "type PeptideIon = \n",
        "    {|\n",
        "        ProteinGroup    : string  \n",
        "        Synonyms        : string\n",
        "        StringSequence  : string\n",
        "        PepSequenceID   : int\n",
        "        Charge          : int\n",
        "    |}\n",
        "\n",
        "//This is the filepath you chose in *NB06b Data Access and Quality Control*\n",
        "// let filePath = @\"C:\\yourPath\\testOut.txt\"\n",
        "let filePath = System.IO.Path.Combine [|__SOURCE_DIRECTORY__ + \"/downloads/qualityControlResult_SDS.txt\"|]\n",
        "\n",
        "let qConcatDataFiltered =\n",
        "    Frame.ReadCsv(path = filePath, separators = \"\\t\")\n",
        "    // StringSequence is the peptide sequence\n",
        "    |> Frame.indexRowsUsing (fun os -> \n",
        "        {|\n",
        "            ProteinGroup    = os.GetAs<string>(\"ProteinGroup\"); \n",
        "            Synonyms        = os.GetAs<string>(\"Synonyms\")\n",
        "            StringSequence  = os.GetAs<string>(\"StringSequence\");\n",
        "            PepSequenceID   = os.GetAs<int>(\"PepSequenceID\");\n",
        "            Charge          = os.GetAs<int>(\"Charge\");\n",
        "        |}\n",
        "    )\n",
        "    |> Frame.filterRows (fun k s -> String.contains \"QProt_newPS\" k.ProteinGroup)"
      ],
      "outputs": []
    },
    {
      "cell_type": "markdown",
      "metadata": {},
      "source": [
        "## III. From Ratios to mol proteins per cell.\n",
        "\n",
        "Now we can use the extensive information stored in the sample sheet and map each quantified peptide ion passing\n",
        "the quality checks to an estimator for protein abundance! First we start off by defining a function to extract ratios:"
      ]
    },
    {
      "cell_type": "code",
      "execution_count": 1,
      "metadata": {
        "dotnet_interactive": {
          "language": "fsharp"
        }
      },
      "source": [
        "let sliceQuantColumns quantColID frame = \n",
        "    frame\n",
        "    |> Frame.filterCols (fun ck os -> ck |> String.contains (\".\" + quantColID))\n",
        "    |> Frame.mapColKeys (fun ck -> ck.Split('.') |> Array.item 0)"
      ],
      "outputs": []
    },
    {
      "cell_type": "markdown",
      "metadata": {},
      "source": [
        "Next up, we have to define a function, which maps the measured ratio and measured parameters to an quantification value."
      ]
    },
    {
      "cell_type": "code",
      "execution_count": 1,
      "metadata": {
        "dotnet_interactive": {
          "language": "fsharp"
        }
      },
      "source": [
        "/// \n",
        "let calcAbsoluteAbundance μgChlorophPerMlCult cellCountPerMlCult μgChlorophPerμlSample μgProtPerμlSample μgQProtSpike μgloadedProtein molWeightQProt molWeightTargetProt ratio1415N =\n",
        "    let chlorophPerCell : float = μgChlorophPerMlCult / cellCountPerMlCult\n",
        "    let cellsPerμlSample = μgChlorophPerμlSample / chlorophPerCell\n",
        "    let μgProteinPerCell = μgProtPerμlSample / cellsPerμlSample\n",
        "    let molQProtSpike = μgQProtSpike * 10. ** -6. / molWeightQProt\n",
        "    let molProtPerBand = ratio1415N * molQProtSpike\n",
        "    let molProtIn1μgLoadedProt = molProtPerBand / μgloadedProtein\n",
        "    let gTargetProtIn1μgLoadedProt = molWeightTargetProt * molProtIn1μgLoadedProt\n",
        "    let molProteinPerCell = molProtIn1μgLoadedProt * μgProteinPerCell\n",
        "    let proteinsPerCell = molProteinPerCell * 6.022 * 10. ** 23.\n",
        "    let attoMolProteinPerCell = molProteinPerCell * (10. ** 18.)\n",
        "    {|\n",
        "        MassTargetProteinInLoadedProtein    = gTargetProtIn1μgLoadedProt\n",
        "        ProteinsPerCell                     = proteinsPerCell\n",
        "        AttoMolProteinPerCell               = attoMolProteinPerCell\n",
        "    |}"
      ],
      "outputs": []
    },
    {
      "cell_type": "markdown",
      "metadata": {},
      "source": [
        "Inspecting the input parameters of 'calcAbsoluteAbundance' we can see that we need both, the molcular weight of the qProtein and of the \n",
        "native Protein. Since we have none at hand we will use our newly aquired skills to compute both and add them to the row key of our Frame. "
      ]
    },
    {
      "cell_type": "code",
      "execution_count": 1,
      "metadata": {
        "dotnet_interactive": {
          "language": "fsharp"
        }
      },
      "source": [
        "let path = Path.Combine[|__SOURCE_DIRECTORY__;\"downloads/Chlamy_JGI5_5(Cp_Mp)_QProt.fasta\"|]\n",
        "downloadFile path \"Chlamy_JGI5_5(Cp_Mp)_QProt.fasta\" \"bio-bte-06-l-7\"\n",
        "\n",
        "let examplePeptides = \n",
        "    path\n",
        "    |> IO.FastA.fromFile BioArray.ofAminoAcidString\n",
        "    |> Array.ofSeq"
      ],
      "outputs": []
    },
    {
      "cell_type": "markdown",
      "metadata": {},
      "source": [
        "First we find the sequences of the qProteins, calculate their masses and define a function to retrieve the calculated mass."
      ]
    },
    {
      "cell_type": "code",
      "execution_count": 1,
      "metadata": {
        "dotnet_interactive": {
          "language": "fsharp"
        }
      },
      "source": [
        "let PS = \n",
        "    examplePeptides \n",
        "    |> Seq.find (fun prot -> prot.Header |> String.contains \"QProt_newPS\")\n",
        "\n",
        "let PSMass = \n",
        "    BioFSharp.BioSeq.toMonoisotopicMassWith (Formula.monoisoMass Formula.Table.H2O) PS.Sequence"
      ],
      "outputs": []
    },
    {
      "cell_type": "markdown",
      "metadata": {},
      "source": [
        "Then we repeat the process and assign the calculated masses to each protein."
      ]
    },
    {
      "cell_type": "code",
      "execution_count": 1,
      "metadata": {
        "dotnet_interactive": {
          "language": "fsharp"
        }
      },
      "source": [
        "let withProteinWeights = \n",
        "    qConcatDataFiltered\n",
        "    /// For each row (peptide) in the frame...\n",
        "    |> Frame.mapRowKeys (fun k -> \n",
        "        let proteinsOfInterest = \n",
        "            k.ProteinGroup \n",
        "            |> String.split ';' \n",
        "            |> Array.filter (fun x -> x.Contains \"Cre\")\n",
        "        let masses = \n",
        "            proteinsOfInterest\n",
        "            /// ...we look up the matching protein sequence\n",
        "            |> Seq.choose (fun creID -> \n",
        "                examplePeptides \n",
        "                |> Seq.tryFind (fun prot -> prot.Header |> String.contains creID)\n",
        "                )\n",
        "            /// ... and calculate the protein masses        \n",
        "            |> Seq.map (fun prot -> \n",
        "                BioFSharp.BioSeq.toMonoisotopicMassWith (Formula.monoisoMass Formula.Table.H2O) prot.Sequence \n",
        "                )\n",
        "        let avgMass = if Seq.isEmpty masses then 0. else masses |> Seq.average\n",
        "        /// ... and add the average to the peptide.   \n",
        "        {|k with AverageProtGroupMass = avgMass|}\n",
        "    )"
      ],
      "outputs": []
    },
    {
      "cell_type": "markdown",
      "metadata": {},
      "source": [
        "With our newest update to our meta data (adding the masses to the rowkey), we can slice out the columns\n",
        "needed to calculate absolute abundances: the ratio columns."
      ]
    },
    {
      "cell_type": "code",
      "execution_count": 1,
      "metadata": {
        "dotnet_interactive": {
          "language": "fsharp"
        }
      },
      "source": [
        "let ratios = sliceQuantColumns \"Ratio\" withProteinWeights"
      ],
      "outputs": []
    },
    {
      "cell_type": "markdown",
      "metadata": {},
      "source": [
        "Finally, we can iterate the ratios and map each to a protein abundance using our well annotated experiment."
      ]
    },
    {
      "cell_type": "code",
      "execution_count": 1,
      "metadata": {
        "dotnet_interactive": {
          "language": "fsharp"
        }
      },
      "source": [
        "//\n",
        "let absoluteAbundances = \n",
        "    ratios\n",
        "    |> Frame.map (fun peptide fileName ratio -> \n",
        "        try \n",
        "            let μgChlorophPerMlCult     = getμgChlorophPerMlCult fileName\n",
        "            let cellCountPerMlCult      = getCellCountPerMlCult fileName\n",
        "            let μgChlorophPerμlSample   = getμgChlorophPerμlSample fileName\n",
        "            let μgProtPerμlSample       = getμgProtPerμlSample fileName\n",
        "            let μgQProtSpike            = get15N_PS_Amount fileName\n",
        "            let μgloadedProtein         = getLoadAmount fileName\n",
        "            let molWeightQProt          = PSMass\n",
        "            let molWeightTargetProt     = peptide.AverageProtGroupMass\n",
        "            let result = \n",
        "                calcAbsoluteAbundance\n",
        "                    μgChlorophPerMlCult  \n",
        "                    cellCountPerMlCult   \n",
        "                    μgChlorophPerμlSample\n",
        "                    μgProtPerμlSample    \n",
        "                    μgQProtSpike         \n",
        "                    μgloadedProtein\n",
        "                    molWeightQProt       \n",
        "                    molWeightTargetProt\n",
        "                    ratio\n",
        "            result.AttoMolProteinPerCell\n",
        "        with :? System.FormatException -> nan\n",
        "    )"
      ],
      "outputs": []
    },
    {
      "cell_type": "code",
      "execution_count": 1,
      "metadata": {
        "dotnet_interactive": {
          "language": "fsharp"
        }
      },
      "source": [
        "formatAsTable absoluteAbundances |> Chart.Show\n",
        "\n",
        "// Why don't we see results for the SDS experiments with CBB-QProt?\n",
        "// Why don't we see any results in the BN experiment?\n",
        "// Discuss (and maybe look into your assay file if you don't progress)."
      ],
      "outputs": []
    },
    {
      "cell_type": "markdown",
      "metadata": {},
      "source": [
        "To see if our calculations are not off, we look at the calculated abundance for the well studied abundances of rbcL and RBCS\n",
        "and compare this to the published knowledge about these proteins.\n",
        "For this, we write a function that, given a protein synonym and a list of peptide sequences, returns a list of quantifications (via mean)\n",
        "and the estimated uncertainty (via standard deviation). The results can then be visualized using e.g. column charts."
      ]
    },
    {
      "cell_type": "code",
      "execution_count": 1,
      "metadata": {
        "dotnet_interactive": {
          "language": "fsharp"
        }
      },
      "source": [
        "let extractAbsoluteAbundancesOf filterCutoutProtein groupID prot peptidelist = \n",
        "    absoluteAbundances\n",
        "    |> Frame.filterRows (fun k s -> k.Synonyms |> String.contains prot)\n",
        "    |> Frame.filterRows (fun k s -> \n",
        "        peptidelist |> List.exists (fun (sequence,charge) -> sequence = k.StringSequence && charge = k.Charge)\n",
        "    )\n",
        "    |> Frame.getNumericCols \n",
        "    |> Series.observationsAll\n",
        "    |> Seq.sortBy (fun (k, x) -> getLoadAmount k)\n",
        "    |> Seq.filter (fun (k, x) -> getGroupID k = groupID)\n",
        "    // why do we filter out the protein which is not cut out here?\n",
        "    |> fun res ->\n",
        "        if filterCutoutProtein then\n",
        "            res\n",
        "            |> Seq.filter (fun (k, x) -> \n",
        "                match getCutoutBand k with\n",
        "                | RbcL -> String.contains (prot.ToLower()) (k.ToLower())\n",
        "                | RbcS -> String.contains (prot.ToLower()) (k.ToLower())\n",
        "            )\n",
        "        else res\n",
        "    |> Seq.choose (fun (k,x) -> \n",
        "        match x with\n",
        "        | Some x -> Some (k, x)\n",
        "        | _ -> None\n",
        "    )\n",
        "    |> Seq.map (fun (k, v) -> \n",
        "        {|\n",
        "            Filename   = k \n",
        "            MeanQuant  = Stats.mean v\n",
        "            StdevQuant = Stats.stdDev v\n",
        "        |}\n",
        "    )\n",
        "\n",
        "// with filtering\n",
        "let rbclQuantification = \n",
        "    extractAbsoluteAbundancesOf true 2 \"rbcL\" [\"DTDILAAFR\", 2;\"FLFVAEAIYK\", 2] \n",
        "    |> Array.ofSeq\n",
        "let rbcsQuantification = \n",
        "    extractAbsoluteAbundancesOf true 2 \"RBCS\" [\"AFPDAYVR\", 2;\"LVAFDNQK\", 2] \n",
        "    |> Array.ofSeq\n",
        "\n",
        "let protAbundanceChart =\n",
        "    [\n",
        "        Chart.Column(rbclQuantification |> Seq.map (fun x -> x.Filename + \"_rbcL\"),rbclQuantification |> Seq.map (fun x -> x.MeanQuant))\n",
        "        |> Chart.withYErrorStyle (rbclQuantification |> Seq.map (fun x -> x.StdevQuant))\n",
        "        |> Chart.withTraceName \"rbcL\"\n",
        "        Chart.Column(rbcsQuantification |> Seq.map (fun x -> x.Filename + \"_rbcS\"),rbcsQuantification |> Seq.map (fun x -> x.MeanQuant))\n",
        "        |> Chart.withYErrorStyle (rbcsQuantification |> Seq.map (fun x -> x.StdevQuant))\n",
        "        |> Chart.withTraceName \"RBCS\"\n",
        "    ]\n",
        "    |> Chart.Combine\n",
        "    |> Chart.withY_AxisStyle \"protein abundance [amol/cell]\""
      ],
      "outputs": []
    },
    {
      "cell_type": "code",
      "execution_count": 1,
      "metadata": {
        "dotnet_interactive": {
          "language": "fsharp"
        }
      },
      "source": [
        "protAbundanceChart\n",
        "\n",
        "// without filtering. Compare both Charts.\n",
        "let rbclQuantification' = \n",
        "    extractAbsoluteAbundancesOf false 2 \"rbcL\" [\"DTDILAAFR\", 2;\"FLFVAEAIYK\", 2] \n",
        "    |> Array.ofSeq\n",
        "let rbcsQuantification' = \n",
        "    extractAbsoluteAbundancesOf false 2 \"RBCS\" [\"AFPDAYVR\", 2;\"LVAFDNQK\", 2] \n",
        "    |> Array.ofSeq\n",
        "\n",
        "let protAbundanceChart' =\n",
        "    [\n",
        "        Chart.Column(rbclQuantification' |> Seq.map (fun x -> x.Filename + \"_rbcL\"),rbclQuantification' |> Seq.map (fun x -> x.MeanQuant))\n",
        "        |> Chart.withYErrorStyle (rbclQuantification' |> Seq.map (fun x -> x.StdevQuant))\n",
        "        |> Chart.withTraceName \"rbcL\"\n",
        "        Chart.Column(rbcsQuantification' |> Seq.map (fun x -> x.Filename + \"_rbcS\"),rbcsQuantification' |> Seq.map (fun x -> x.MeanQuant))\n",
        "        |> Chart.withYErrorStyle (rbcsQuantification' |> Seq.map (fun x -> x.StdevQuant))\n",
        "        |> Chart.withTraceName \"RBCS\"\n",
        "    ]\n",
        "    |> Chart.Combine\n",
        "    |> Chart.withY_AxisStyle \"protein abundance [amol/cell]\""
      ],
      "outputs": []
    },
    {
      "cell_type": "code",
      "execution_count": 1,
      "metadata": {
        "dotnet_interactive": {
          "language": "fsharp"
        }
      },
      "source": [
        "protAbundanceChart'"
      ],
      "outputs": []
    },
    {
      "cell_type": "markdown",
      "metadata": {},
      "source": [
        "Since we didn't change the amount of QProt given to the sample but the amount of protein loaded into our SDS-PAGE, we check the reliability of our experiments via comparing \n",
        "the chart above with a chart of the protein quantification per band. We remember that the bands were loaded with different amounts of the proteins seperated by the SDS-PAGE.\n",
        "\n",
        "Uncomment everything below.\n",
        "This is the formula from above. Now that we want to get the protein per band in mol, just add a respective calculation to get the protein band in mol and define it in the \n",
        "anonymous record type."
      ]
    },
    {
      "cell_type": "code",
      "execution_count": 1,
      "metadata": {
        "dotnet_interactive": {
          "language": "fsharp"
        }
      },
      "source": [
        "// let calcAbsoluteAbundance μgChlorophPerMlCult cellCountPerMlCult μgChlorophPerμlSample μgProtPerμlSample μgQProtSpike μgloadedProtein molWeightQProt molWeightTargetProt ratio1415N =\n",
        "//     let chlorophPerCell : float = μgChlorophPerMlCult / cellCountPerMlCult\n",
        "//     let cellsPerμlSample = μgChlorophPerμlSample / chlorophPerCell\n",
        "//     let μgProteinPerCell = μgProtPerμlSample / cellsPerμlSample\n",
        "//     let molQProtSpike = μgQProtSpike * 10. ** -6. / molWeightQProt\n",
        "//     let molProtPerBand = ratio1415N * molQProtSpike\n",
        "//     let molProtIn1μgLoadedProt = molProtPerBand / μgloadedProtein\n",
        "//     let gTargetProtIn1μgLoadedProt = molWeightTargetProt * molProtIn1μgLoadedProt\n",
        "//     let molProteinPerCell = molProtIn1μgLoadedProt * μgProteinPerCell\n",
        "//     let proteinsPerCell = molProteinPerCell * 6.022 * 10. ** 23.\n",
        "//     let attoMolProteinPerCell = molProteinPerCell * (10. ** 18.)\n",
        "//     let attoMolProteinPerBand = ??? // <--- write your calculation here\n",
        "//     {|\n",
        "//         MassTargetProteinInLoadedProtein    = gTargetProtIn1μgLoadedProt\n",
        "//         ProteinsPerCell                     = proteinsPerCell\n",
        "//         AttoMolProteinPerCell               = attoMolProteinPerCell\n",
        "//         AttoMolProteinPerBand               = attoMolProteinPerBand\n",
        "//     |}\n",
        "\n",
        "// let absoluteBandAbundances = \n",
        "//     ratios\n",
        "//     |> Frame.map (fun peptide fileName ratio -> \n",
        "//         try \n",
        "//             let μgChlorophPerMlCult     = getμgChlorophPerMlCult fileName\n",
        "//             let cellCountPerMlCult      = getCellCountPerMlCult fileName\n",
        "//             let μgChlorophPerμlSample   = getμgChlorophPerμlSample fileName\n",
        "//             let μgProtPerμlSample       = getμgProtPerμlSample fileName\n",
        "//             let μgQProtSpike            = get15N_PS_Amount fileName\n",
        "//             let μgloadedProtein         = getLoadAmount fileName\n",
        "//             let molWeightQProt          = PSMass\n",
        "//             let molWeightTargetProt     = peptide.AverageProtGroupMass\n",
        "//             let result = \n",
        "//                 calcAbsoluteAbundance\n",
        "//                     μgChlorophPerMlCult  \n",
        "//                     cellCountPerMlCult   \n",
        "//                     μgChlorophPerμlSample\n",
        "//                     μgProtPerμlSample    \n",
        "//                     μgQProtSpike         \n",
        "//                     μgloadedProtein\n",
        "//                     molWeightQProt       \n",
        "//                     molWeightTargetProt\n",
        "//                     ratio\n",
        "//             result.AttoMolProteinPerBand\n",
        "//         with :? System.FormatException -> nan\n",
        "//     )\n",
        "\n",
        "// let extractAbsoluteBandAbundancesOf prot peptidelist = \n",
        "//     absoluteBandAbundances\n",
        "//     |> Frame.filterRows (fun k s -> k.Synonyms |> String.contains prot)\n",
        "//     |> Frame.filterRows (fun k s -> \n",
        "//         peptidelist |> List.exists (fun (sequence,charge) -> sequence = k.StringSequence && charge = k.Charge)\n",
        "//     )\n",
        "//     |> Frame.getNumericCols \n",
        "//     // |> Series.filter (fun k s -> getExpressionLevel k = \"\")\n",
        "//     |> Series.map (fun k v -> \n",
        "//         {|\n",
        "//             Synonym    = k \n",
        "//             MeanQuant  = Stats.mean v\n",
        "//             StdevQuant = Stats.stdDev v\n",
        "//         |}\n",
        "//     )\n",
        "//     |> Series.values\n",
        "\n",
        "// let rbclBandQuantification = \n",
        "//     extractAbsoluteBandAbundancesOf \"rbcL\" [\"DTDILAAFR\", 2;\"FLFVAEAIYK\", 2] \n",
        "//     |> Array.ofSeq\n",
        "// let rbcsBandQuantification = \n",
        "//     extractAbsoluteBandAbundancesOf \"RBCS\" [\"AFPDAYVR\", 2;\"LVAFDNQK\", 2] \n",
        "//     |> Array.ofSeq\n",
        "\n",
        "// let protAbundanceBandChart =\n",
        "//     [\n",
        "//         Chart.Column(rbclBandQuantification |> Seq.map (fun x -> x.Synonym),rbclBandQuantification |> Seq.map (fun x -> x.MeanQuant))\n",
        "//         |> Chart.withYErrorStyle (rbclBandQuantification |> Seq.map (fun x -> x.StdevQuant))\n",
        "//         |> Chart.withTraceName \"rbcL\"\n",
        "//         Chart.Column(rbcsBandQuantification |> Seq.map (fun x -> x.Synonym),rbcsBandQuantification |> Seq.map (fun x -> x.MeanQuant))\n",
        "//         |> Chart.withYErrorStyle (rbcsBandQuantification |> Seq.map (fun x -> x.StdevQuant))\n",
        "//         |> Chart.withTraceName \"RBCS\"\n",
        "//     ]\n",
        "//     |> Chart.Combine\n",
        "//     |> Chart.withY_AxisStyle \"protein abundance per band [amol/band]\"\n",
        "\n",
        "// protAbundanceBandChart |> Chart.Show"
      ],
      "outputs": []
    },
    {
      "cell_type": "markdown",
      "metadata": {},
      "source": [
        "Comparing this to the published results (see: https://www.frontiersin.org/articles/10.3389/fpls.2020.00868/full) we see that our preliminary results are\n",
        "not only in the same order of magnitude as the published values, but in many cases really close! Of course it could be that you see systematic differences between your results\n",
        "and published results. As data analysts it is now your task to estimate if the differences are the product of biology (e.g. different growth conditions or genetic background)\n",
        "or caused by technical artifacts (e.g. different amounts of spiked proteins, mistakes estimating a parameter like the cell count) which could be accounted for by developing\n",
        "normalization strategies. We look forward to read your explanations!"
      ]
    }
  ],
  "metadata": {
    "kernelspec": {
      "display_name": ".NET (C#)",
      "language": "C#",
      "name": ".net-csharp"
    },
    "language_info": {
      "file_extension": ".cs",
      "mimetype": "text/x-csharp",
      "name": "C#",
      "pygments_lexer": "csharp",
      "version": "8.0"
    }
  },
  "nbformat": 4,
  "nbformat_minor": 4
}