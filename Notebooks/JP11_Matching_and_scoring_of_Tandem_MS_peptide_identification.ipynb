{
 "cells": [
  {
   "cell_type": "markdown",
   "metadata": {},
   "source": [
    "<h1 Style=\"font-size: 3rem\" >Matching and scoring of Tandem MS peptide identification</h1>\n",
    "\n",
    "1. [Matching and scoring of Tandem MS peptide identification](#Matching-and-scoring-of-Tandem-MS-peptide-identification)\n",
    "6. [References](#References)"
   ]
  },
  {
   "cell_type": "markdown",
   "metadata": {},
   "source": [
    "## Matching and scoring of Tandem MS peptide identification\n",
    "\n",
    "\n",
    "<div Style=\"max-width: 85%\">\n",
    "    <div Id=\"figure4\" Style=\"float: right ; display: inline-block ; font-size: 1.7rem ; color: #44546a ; width: 60% ; padding: 15px\">\n",
    "        <img src=\"img/ComputationalProteinIdentification.png\" Style=\"width: 100%\">\n",
    "        <div Style=\"padding-left: 1rem ; padding-right: 1rem ; text-align: justify ; \"><b>Figure 4: Process of computational identification of peptides from their fragment spectra</b></div>\n",
    "    </div>    \n",
    "    <div Style=\"text-align: justify ; font-size: 1.8rem ; margin-top: 2rem ; line-height: 1.5 ; margin-top: 1rem\">\n",
    "Previously we learned, that peptides fragment to create patterns characteristic of a specific amino acid sequence. These patterns are reproducible and, in general, predictable taking the applied fragmentation method into account. This can be used for computational identification of peptides from their fragment spectra. This process can be subdivided into 5 main steps: spectrum preprocessing, selection of possible sequences, generating theoretical spectra, matching and scoring (<a href=\"#figure5\" >Figure 4</a>). The first step is a preprocessing of the experimental spectra and is done to reduce noise. Secondly, all possible amino acid sequences are selected which match the particular precursor peptide mass. The possible peptides can but do not need to be restricted to a particular organism. A theoretical spectrum is predicted for each of these amino acid sequences. Matching and scoring is performed by comparing experimental spectra to their predicted corresponding theoretical spectra. The score function measures the closeness of fit between the experimental acquired and theoretical spectrum. There are many different score functions, which can be considered as the main reason of different identifications considering different identification algorithm. The most natural score function is the cross correlation score (xcorr) used by the commercially available search tool SEQUEST. One of the reasons the xcorr is so sensitive is because it involves a correction factor that assesses the background correlation for each acquired spectrum and the theoretically predicted spectrum from sequences within a database. To compute this correction factor, a measure of similarity is calculated at different offsets between a preprocessed mass spectrum and a theoretical spectrum. The final xcorr is then the correlation at zero offset minus the mean correlation from all the individual offsets.\n",
    "    </div>\n",
    "    <div Style=\"text-align: justify ; font-size: 1.8rem ; margin-top: 2rem ; line-height: 1.5\">\n",
    "Thus, the correlation function measures the coherence of two signals by, in effect, translating one signal across the other. This can be mathematically achieved using the formula for cross-correlation in the form for discrete input signals:\n",
    "    </div>\n",
    "    <div Style=\"text-align: justify ; width: 90% ; margin-left: auto ; margin-right: auto ; margin-top: 2rem\">\n",
    "        <i><b>Equation 5</b></i>\n",
    "    </div>\n",
    "    <img src=\"https://latex.codecogs.com/gif.latex?\\large&space;R_{\\tau}&space;=&space;\\sum_{i=0}^{n-1}x_{i}\\cdot y_{i&plus;\\tau}\" title=\"\\large R_{𝜏} = \\sum_{i=0}^{n-1}x_{i}\\cdot y_{i+𝜏}\" />\n",
    "    <div Style=\"text-align: justify ; font-size: 1.8rem ; margin-top: 2rem ; line-height: 1.5\">\n",
    "        where x<sub>i</sub> is a peak of the reconstructed spectrum at position i and y<sub>i</sub> is a peak of the experimental spectrum. The displacement value 𝜏 is the amount by which the signal is offset during the translation and is varied over a range of values. If two signals are the same, the correlation function should have its maxima at 𝜏=0, where there is no offset. The average of the offset-correlation is seen as the average background correlation and needs to be subtracted from the correlation at 𝜏=0. It follows: \n",
    "    </div>\n",
    "    <div Style=\"text-align: justify ; width: 90% ; margin-left: auto ; margin-right: auto ; margin-top: 2rem\">\n",
    "        <i><b>Equation 6</b></i>\n",
    "    </div>\n",
    "    <img src=\"https://latex.codecogs.com/gif.latex?xcorr&space;=&space;R_{0}&space;-&space;\\frac{(\\sum&space;\\begin{matrix}&space;\\tau=&plus;offeset\\\\&space;\\tau=-offeset\\end{matrix}R_{\\tau})}{2*offset&plus;1}\" title=\"xcorr = R_{0} - \\frac{(\\sum \\begin{matrix} \\tau=+offeset\\\\ \\tau=-offeset\\end{matrix}R_{\\tau})}{2*offset+1}\" />\n",
    "    <div Style=\"text-align: justify ; font-size: 1.8rem ; margin-top: 2rem ; line-height: 1.5\">\n",
    "In practice many theoretical spectra have to be matched again a single experimental spectrum. Therefore, the calculation can be speed up by reformulating Equation 5 and Equation 6 and introduce a preprocessing step, which is independent of the predicted spectra.\n",
    "    </div>\n",
    "    <div Style=\"text-align: justify ; width: 90% ; margin-left: auto ; margin-right: auto ; margin-top: 2rem\">\n",
    "        <i><b>Equation 7</b></i>\n",
    "    </div>\n",
    "    <img src=\"https://latex.codecogs.com/gif.latex?xcorr&space;=&space;x_{0}\\cdot&space;y_{0}&space;-&space;\\frac{(\\sum&space;\\begin{matrix}&space;\\tau=&plus;offeset\\\\&space;\\tau=-offeset\\end{matrix}x_{0}\\cdot&space;y_{\\tau})}{2*offset&plus;1}\" title=\"xcorr = x_{0}\\cdot y_{0} - \\frac{(\\sum \\begin{matrix} \\tau=+offeset\\\\ \\tau=-offeset\\end{matrix}x_{0}\\cdot y_{\\tau})}{2*offset+1}\" />\n",
    "    <div Style=\"text-align: justify ; font-size: 1.8rem ; margin-top: 2rem ; line-height: 1.5\">\n",
    "For the preprocessed experimental spectrum y' it follows:\n",
    "    </div>\n",
    "    <div Style=\"text-align: justify ; width: 90% ; margin-left: auto ; margin-right: auto ; margin-top: 2rem\">\n",
    "        <i><b>Equation 8</b></i>\n",
    "    </div>\n",
    "    <img src=\"https://latex.codecogs.com/gif.latex?xcorr&space;=&space;x_{0}\\cdot&space;y'\" title=\"xcorr = x_{0}\\cdot y'\" />\n",
    "    <div Style=\"text-align: justify ; font-size: 1.8rem ; margin-top: 2rem ; line-height: 1.5\">\n",
    "where:\n",
    "    </div>\n",
    "    <div Style=\"text-align: justify ; width: 90% ; margin-left: auto ; margin-right: auto ; margin-top: 2rem\">\n",
    "        <i><b>Equation 9</b></i>\n",
    "    </div>\n",
    "    <img src=\"https://latex.codecogs.com/gif.latex?y'&space;=&space;y_{0}&space;-&space;\\frac{(\\sum&space;\\begin{matrix}&space;\\tau=&plus;offeset\\\\&space;\\tau=-offeset\\end{matrix}x_{0}\\cdot&space;y_{\\tau})}{2*offset&plus;1}\" title=\"y' = y_{0} - \\frac{(\\sum \\begin{matrix} \\tau=+offeset\\\\ \\tau=-offeset\\end{matrix}x_{0}\\cdot y_{\\tau})}{2*offset+1}\" />\n",
    "    <div Style=\"text-align: justify ; font-size: 1.5rem ; margin-top: 2rem ; margin-bottom: 2rem ; line-height: 1.3 ; width: 85% ; margin-left: auto ; margin-right: auto ; padding: 10px ; border: 2px dotted #708090 ; color: #708090\">\n",
    "Matching a measured spectrum against chlamy database\n",
    "    </div>\n",
    "</div>"
   ]
  },
  {
   "cell_type": "code",
   "execution_count": 1,
   "metadata": {},
   "outputs": [],
   "source": [
    "#load \"../IfSharp/References.fsx\"\n",
    "#load \"../IfSharp/Paket.Generated.Refs.fsx\"\n",
    "\n",
    "open BioFSharp.Mz\n",
    "open SearchDB\n",
    "open QConQuantifier\n",
    "open BioFSharp\n",
    "open FSharp.Stats\n",
    "open BioFSharp.Mz.Quantification.HULQ\n",
    "open SearchEngineResult\n",
    "open FSharp.Plotly\n",
    "open FSharpAux\n",
    "open MzIO.Processing\n",
    "open MzIO"
   ]
  },
  {
   "cell_type": "code",
   "execution_count": 2,
   "metadata": {},
   "outputs": [],
   "source": [
    "let source = __SOURCE_DIRECTORY__\n",
    "\n",
    "let dbPath = source + @\"/../AuxFiles/sample.mzlite\"\n",
    "\n",
    "let runID = \"sample=0\"\n",
    "\n",
    "let reader =\n",
    "    new MzSQL.MzSQL(dbPath)\n",
    "    :> MzIO.IO.IMzIODataReader\n",
    "\n",
    "let tr = reader.BeginTransaction()"
   ]
  },
  {
   "cell_type": "code",
   "execution_count": 3,
   "metadata": {},
   "outputs": [],
   "source": [
    "let peptideOfInterest = \n",
    "    BioFSharp.Mz.SearchDB.createLookUpResult 3439282 302200012 1190.654689 1190654689L \"VYVVGEDGILK\" \n",
    "        (BioList.ofAminoAcidString \"VYVVGEDGILK\") 0"
   ]
  },
  {
   "cell_type": "code",
   "execution_count": 4,
   "metadata": {},
   "outputs": [],
   "source": [
    "let theoMzCharge2 = \n",
    "    Mass.toMZ peptideOfInterest.Mass 2."
   ]
  },
  {
   "cell_type": "code",
   "execution_count": 5,
   "metadata": {},
   "outputs": [],
   "source": [
    "let ms2Headers = \n",
    "    Processing.MassSpectrum.getMassSpectraBy reader runID\n",
    "    |> Seq.filter (fun ms -> Processing.MassSpectrum.getMsLevel ms = 2)\n",
    "    |> Seq.filter (fun ms2 -> \n",
    "        let precMz = Processing.MassSpectrum.getPrecursorMZ ms2 \n",
    "        precMz > theoMzCharge2-0.05 && precMz < theoMzCharge2+0.05\n",
    "    )"
   ]
  },
  {
   "cell_type": "code",
   "execution_count": 6,
   "metadata": {},
   "outputs": [],
   "source": [
    "let ms2WithSpectra = \n",
    "    ms2Headers\n",
    "    |> Seq.map (fun ms2Header -> \n",
    "        let ms2ID = Processing.MassSpectrum.getID ms2Header\n",
    "        let peaks = \n",
    "            reader.ReadSpectrumPeaks(ms2ID).Peaks\n",
    "            |> Seq.map (fun p-> Peak(p.Mz,p.Intensity))\n",
    "            |> Array.ofSeq\n",
    "        ms2Header, peaks\n",
    "    ) "
   ]
  },
  {
   "cell_type": "code",
   "execution_count": 7,
   "metadata": {},
   "outputs": [],
   "source": [
    "let calcIonSeries aal = \n",
    "    Fragmentation.Series.fragmentMasses Fragmentation.Series.bOfBioList \n",
    "        Fragmentation.Series.yOfBioList BioItem.initMonoisoMassWithMemP aal"
   ]
  },
  {
   "cell_type": "code",
   "execution_count": 8,
   "metadata": {},
   "outputs": [],
   "source": [
    "let peptideSpectrumMatches chargeState ms2PrecursorMZ lookUpResult centroidedMs2 (ms2: Model.MassSpectrum) =\n",
    "    let theoSpec =\n",
    "        lookUpResult\n",
    "        |> List.map (fun lookUpResult -> \n",
    "            let ionSeries = calcIonSeries lookUpResult.BioSequence\n",
    "            lookUpResult,ionSeries\n",
    "        )\n",
    "        |> SequestLike.getTheoSpecs (100.,1500.) chargeState\n",
    "    SequestLike.calcSequestScore\n",
    "        (100.,1500.)\n",
    "        centroidedMs2\n",
    "        (MassSpectrum.getScanTime ms2)\n",
    "        2\n",
    "        ms2PrecursorMZ\n",
    "        theoSpec\n",
    "        ms2.ID"
   ]
  },
  {
   "cell_type": "code",
   "execution_count": 9,
   "metadata": {},
   "outputs": [],
   "source": [
    "let score = \n",
    "    ms2WithSpectra\n",
    "    |> Seq.map (fun (ms2Header,centroidedPeaks) -> \n",
    "        let score = \n",
    "            let results = peptideSpectrumMatches 2 theoMzCharge2 [peptideOfInterest] centroidedPeaks ms2Header\n",
    "            match results with \n",
    "            | []  -> None \n",
    "            | h::tail -> Some h \n",
    "        ms2Header, score \n",
    "    )\n",
    "    |> List.ofSeq"
   ]
  },
  {
   "cell_type": "code",
   "execution_count": 10,
   "metadata": {},
   "outputs": [],
   "source": [
    "let retTimeAndScore =                                                    \n",
    "    score \n",
    "    |> List.filter (fun (ms2Header, score) -> score.IsSome)\n",
    "    |> List.map (fun (ms2Header, score) -> (ms2Header, score.Value)) \n",
    "    |> List.sortByDescending (fun (ms2Header, score) -> score) \n",
    "    |> List.map (fun (ms2Header, score) -> \n",
    "        let retTime = Processing.MassSpectrum.getScanTime ms2Header\n",
    "        retTime,score.Score \n",
    "    )"
   ]
  },
  {
   "cell_type": "code",
   "execution_count": 11,
   "metadata": {},
   "outputs": [],
   "source": [
    "let normRetTimeAndScore = \n",
    "    let maxScore = \n",
    "        retTimeAndScore\n",
    "        |> List.maxBy snd \n",
    "        |> snd \n",
    "    retTimeAndScore\n",
    "    |> List.map (fun (ret,score) -> ret, (score / maxScore))\n",
    "    \n",
    "tr.Dispose()"
   ]
  },
  {
   "cell_type": "markdown",
   "metadata": {},
   "source": [
    "## References\n",
    "\n",
    "<ol Style=\"max-width: 85% ; text-align: justify ; font-size: 1.8rem ; margin-top: 2rem ; line-height: 1.5\">\n",
    "    <li Value =\"1\" Id=\"exmp\">exmp</li>\n",
    "</ol>"
   ]
  },
  {
   "cell_type": "code",
   "execution_count": null,
   "metadata": {},
   "outputs": [],
   "source": []
  }
 ],
 "metadata": {
  "kernelspec": {
   "display_name": "F#",
   "language": "fsharp",
   "name": "ifsharp"
  },
  "language": "fsharp",
  "language_info": {
   "codemirror_mode": "",
   "file_extension": ".fs",
   "mimetype": "text/x-fsharp",
   "name": "fsharp",
   "nbconvert_exporter": "",
   "pygments_lexer": "",
   "version": "4.3.1.0"
  }
 },
 "nbformat": 4,
 "nbformat_minor": 2
}
