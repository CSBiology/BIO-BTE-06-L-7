{
 "cells": [
  {
   "cell_type": "markdown",
   "metadata": {},
   "source": [
    "<h1 Style=\"font-size: 3rem\" >Quantification</h1>\n",
    "\n",
    "1. [Quantification Theory](#Quantification-Theory)<br>\n",
    "    1. [Targeted quantification](#Targeted-quantification)\n",
    "    2. [(i) Targeted acquisition at peptide](#(i)-Targeted-acquisition-at-peptide)\n",
    "    3. [(ii) Targeted data analysis at peptide ion level](#(ii)-Targeted-data-analysis-at-peptide-ion-level)\n",
    "6. [References](#References)"
   ]
  },
  {
   "cell_type": "markdown",
   "metadata": {},
   "source": [
    "<h1 Style=\"font-size: 2.5rem ; display: inline-block ; margin-top: 2rem\">Quantification Theory</h1>\n",
    "<a href=\"#Quantification\" style=\"display: inline-block\"><sup>&#8593;back</sup></a><br>\n",
    "\n",
    "<div Style=\"max-width: 85%\">\n",
    "    <div Style=\"text-align: justify ; font-size: 1.8rem ; margin-top: 2rem ; line-height: 1.5\">\n",
    "To estimate the amount of individual proteins in complex mixtures, all peptide signals corresponding to a common protein serve as a proxy for their abundance. Peptide information needs to be obtained from multidimensional signal data detected by the mass spectrometer. All signals generated from one peptide ion species, often referred to as peptide feature, need to be grouped to form a three-dimensional peak along the m/z, ion intensity, and retention time dimension. This process is generally defined as peak detection or feature detection. Peak detection algorithms are a set of rules defining how neighboring signal points are joined. Whether noise filtering is done before or after peak detection strongly depends on the peak detection algorithm. Traditional approaches mainly focused on signal amplitude neglecting characteristic peak shapes as a common feature of chromatographic or spectroscopic peaks. These algorithms are prone to miss detection of low intensity peaks with a signal strength close to the noise level. To overcome these issues, techniques like smoothing, shape-matching and curve fitting are often implemented and applied. At the time, the most promising approach to do shape-matching and noise reduction in one step uses the continuous wavelet transformation (CWT).\n",
    "    </div>\n",
    "    <div Style=\"text-align: justify ; font-size: 1.8rem ; margin-top: 2rem ; line-height: 1.5\">\n",
    "In general, a CWT based approach describes a family of time-frequency-transformations often used in data compression and feature detection. The term is coined by the use of a wavelet, as a basis function which is “compared” to the signal. The point of highest correlation between the basis function and the signal reflects the location of the peak present. Due to the fact that MS derived peaks often follow the shape of a gaussian distribution, the <i>Mexican Hat</i> wavelet as the negative normalized second derivative of the Gaussian distribution is perfectly suited to find the peptide feature.\n",
    "    </div>\n",
    "    <div Id=\"figure5\" Style=\"float: right ; display: inline-block ; font-size: 1.7rem ; color: #44546a ; width: 70% ; padding: 15px\">\n",
    "        <img src=\"img/Wavelets.png\" Style=\"width: 100%\">\n",
    "        <div Style=\"padding-left: 1rem ; padding-right: 1rem ; text-align: justify ; \">\n",
    "            <b>Figure 5: Schematic representation of the ‘Haar’-wavelet (blue) and the ‘Mexican Hat’- wavelet (green). </b>The ‘Haar’-wavelet is named after its discoverer Alfred Haar and represents the first wavelet ever to be described. The ‘Mexican Hat’- or ‘Ricker’-wavelet is frequently used in the fields of signal detection and compression.\n",
    "        </div>\n",
    "    </div>    \n",
    "    <div Style=\"text-align: justify ; font-size: 1.8rem ; margin-top: 2rem ; line-height: 1.5\">\n",
    "Depending on the quantification approach, the peptide features used for protein quantification might differ. In case of isotopic labeling, quantification means pairing features with the proper mass shift according to the utilized label. It is essential to account for the frequency of label incorporation when calculating the mass shift for the utilized label. Taking the ICAT method as an example, by which a heavy/light difference of 9 Dalton per cysteine is incorporated, the total mass shift is 9 Dalton times the number of cysteine within the sequence. Consequently, pairing peptide features for <sup>15</sup>N labeling is even more challenging, as the mass shift is less discrete. Using stable isotope labeling, different peptide feature pairs belonging to the same protein can be treated as technical replicates and averaged to gain protein quantification. In contrast, the sum of all extracted peptide signals results in a label-free protein quantiﬁcation. Spectral counting computes abundance values from the number of times a peptide was successfully identiﬁed by tandem mass spectrometry (MS/MS) and combines all these events per protein. The spectral counting values can be normalized by the number of peptides theoretically expected from the particular protein. \n",
    "    </div>\n",
    "    <div Style=\"float: right ; display: inline-block ; font-size: 1.7rem ; color: #44546a ; width: 100% ; padding: 15px\">\n",
    "        <img src=\"img/ComputationalProteinQuantification.png\" Style=\"width: 100%\">\n",
    "        <div Style=\"padding-left: 1rem ; padding-right: 1rem ; text-align: justify ; \">\n",
    "            <b>Figure 6: Computational strategy of peptide and protein quantiﬁcation on based on stable isotope labeling or by label-free quantiﬁcation.</b> (A) Label-free methods compare corresponding peptide abundances over different MS runs. The abundance is either estimated by the elution proﬁle les of the pep de ions or (B) in case of spectral counting, by the number of times a peptide was successfully identiﬁed (MS2). In contrast, methods based on differential stable isotope labeling analyze peptides pairs detected by their characteristic mass diﬀerence Δm/z. The abundance is estimated by the ratio of their corresponding elution proﬁles (C). Isobaric tagging methods (D) compare the reporter ion abundances in the fragmentation spectrum.\n",
    "        </div>\n",
    "    </div>    \n",
    "</div>\n",
    "\n"
   ]
  },
  {
   "cell_type": "markdown",
   "metadata": {},
   "source": [
    "<h1 Style=\"font-size: 1.9rem ; display: inline-block ; margin-top: 2rem\">Targeted quantification</h1>\n",
    "<a href=\"#Quantification\" style=\"display: inline-block\"><sup>&#8593;back</sup></a><br>\n",
    "\n",
    "<div Style=\"max-width: 85%\">\n",
    "\t<div Style=\"text-align: justify ; font-size: 1.8rem ; margin-top: 2rem ; line-height: 1.5\">\n",
    "Targeted proteomics has gained significant popularity in mass spectrometry‐based protein quantification as a method to detect proteins of interest with high sensitivity, quantitative accuracy and reproducibility. The two major strategies of (i) targeted acquisition at peptide, and (ii) targeted data analysis at peptide ion level need to be distinguished.\n",
    "\t</div>\n",
    "</div>\n",
    "\n",
    "<h1 Style=\"font-size: 1.8rem ; display: inline-block ; margin-top: 2rem\">(i) Targeted acquisition at peptide</h1>\n",
    "<a href=\"#Quantification\" style=\"display: inline-block\"><sup>&#8593;back</sup></a><br>\n",
    "\n",
    "<div Style=\"max-width: 85%\">\n",
    "\t<div Style=\"text-align: justify ; font-size: 1.8rem ; margin-top: 2rem ; line-height: 1.5\">\n",
    "In multiple reaction monitoring (MRM or SRM for single/selected reaction monitoring) simply predefined transitions are recorded. Knowledge about the targeted transitions from precursor to their corresponding fragment ions are needed and predefined in the mass spectrometer. MRM can be performed rapidly and is highly specific even for low abundant peptide ions in complex mixtures, but with the drawback of a necessary bias in the sense that only predefined peptides are measured.\n",
    "\t</div>\n",
    "</div>\n",
    "\n",
    "<h1 Style=\"font-size: 1.8rem ; display: inline-block ; margin-top: 2rem\">(ii) Targeted data analysis at peptide ion level</h1>\n",
    "<a href=\"#Quantification\" style=\"display: inline-block\"><sup>&#8593;back</sup></a><br>\n",
    "\n",
    "<div Style=\"max-width: 85%\">\n",
    "\t<div Style=\"text-align: justify ; font-size: 1.8rem ; margin-top: 2rem ; line-height: 1.5\">\n",
    "Data‐independent acquisition at the peptide level makes it possible to acquire peptide data for virtually all peptide ions present in a sample. In this strategy, a high‐resolution mass analyzer—such as an orbitrap or a time‐of‐flight—is used to constantly sample the full mass range at the peptide level during the entire chromatographic gradient. In a subsequent step, precursor ion chromatograms can be extracted by targeted data analysis. Those extracted-ion chromatogram (XIC) can be obtained to calculate the area under the curve and used for peptide quantification.\n",
    "Let’s start and extract a XIC…\n",
    "\t</div>\n",
    "</div>"
   ]
  },
  {
   "cell_type": "code",
   "execution_count": 2,
   "metadata": {},
   "outputs": [],
   "source": [
    "#load \"../IfSharp/References.fsx\"\n",
    "#load \"../IfSharp/Paket.Generated.Refs.fsx\"\n",
    "#load \"../IfSharp/FSharp.Plotly.fsx\"\n",
    "\n",
    "open FSharp.Plotly\n",
    "open FSharp.Stats\n",
    "open BioFSharp\n",
    "open System.IO\n",
    "open System.Data.SQLite"
   ]
  },
  {
   "cell_type": "markdown",
   "metadata": {},
   "source": [
    "<div Style=\"max-width: 85%\">\n",
    "\t<div Style=\"text-align: justify ; font-size: 1.8rem ; margin-top: 2rem ; line-height: 1.5\">\n",
    "We now want to extract the XIC for the peptide where we previously calculated the matching score.\n",
    "Since we need several mass spectrometry scans to quantify over the retention time, we connect to our database and index the entries according to their retention time.\n",
    "\t</div>\n",
    "</div>"
   ]
  },
  {
   "cell_type": "code",
   "execution_count": 3,
   "metadata": {},
   "outputs": [
    {
     "data": {
      "text/plain": [
       "seq\n",
       "  [[rt=40.02668333, spectrumID='sample=0 experiment=0 scan=3385'];\n",
       "   [rt=40.064, spectrumID='sample=0 experiment=0 scan=3386'];\n",
       "   [rt=40.1015, spectrumID='sample=0 experiment=0 scan=3387'];\n",
       "   [rt=40.13883333, spectrumID='sample=0 experiment=0 scan=3388']; ...]"
      ]
     },
     "execution_count": 3,
     "metadata": {},
     "output_type": "execute_result"
    }
   ],
   "source": [
    "// Code-Block 1\n",
    "\n",
    "let path = \"../AuxFiles/sample.mzlite\"\n",
    "let runID = \"sample=0\"\n",
    "\n",
    "let mzReader = new MzIO.MzSQL.MzSQL(path) :>  MzIO.IO.IMzIODataReader\n",
    "let transaction = mzReader.BeginTransaction()\n",
    "\n",
    "// Indexes all spectra of the related sample run\n",
    "let idx = MzIO.Processing.Query.getMS1RTIdx mzReader runID\n",
    "idx"
   ]
  },
  {
   "cell_type": "markdown",
   "metadata": {},
   "source": [
    "<div Style=\"max-width: 85%\">\n",
    "\t<div Style=\"text-align: justify ; font-size: 1.8rem ; margin-top: 2rem ; line-height: 1.5\">\n",
    "        <b>We know from the MS<sup>2</sup> measurement, that our peptide had its match at a retention of around 51.95 min</b>. We create a query to the database to extract the intensities of all peaks that are +/-5 min of our retention time and within 0.04 m/z of our peptide of interest. After we are done, we close the connection to the database.\n",
    "\t</div>\n",
    "</div>"
   ]
  },
  {
   "cell_type": "code",
   "execution_count": 4,
   "metadata": {},
   "outputs": [
    {
     "data": {
      "text/html": [
       "<div id=\"cdaf743b-383c-452c-a40f-d7e08a224f65\" style=\"width: 900px; height: 900px;\"><!-- Plotly chart will be drawn inside this DIV --></div>\n",
       "  <script>\n",
       "    var data = [{\"type\":\"scatter\",\"x\":[46.98453333,47.02203333,47.05953333,47.0972,47.1347,47.17236667,47.20986667,47.24735,47.28485,47.32251667,47.36001667,47.39751667,47.43501667,47.47251667,47.51016667,47.54783333,47.58533333,47.623,47.66066667,47.69833333,47.73583333,47.77348333,47.81115,47.84881667,47.88648333,47.92415,47.96165,47.9993,48.03696667,48.0748,48.11263333,48.15046667,48.18796667,48.22545,48.26311667,48.30095,48.33861667,48.37628333,48.41378333,48.45128333,48.48876667,48.5261,48.56343333,48.60076667,48.63826667,48.67576667,48.71341667,48.75108333,48.78858333,48.82608333,48.86358333,48.90108333,48.93858333,48.97623333,49.0139,49.0514,49.0889,49.12656667,49.16423333,49.20173333,49.23955,49.27721667,49.31471667,49.35221667,49.38955,49.42688333,49.46436667,49.50186667,49.53903333,49.57653333,49.61386667,49.65136667,49.68886667,49.72668333,49.76435,49.80185,49.83968333,49.87735,49.91518333,49.95283333,49.99033333,50.028,50.06566667,50.10333333,50.141,50.17866667,50.21631667,50.254,50.29181667,50.32948333,50.36731667,50.40498333,50.44248333,50.48013333,50.51796667,50.55563333,50.5933,50.63113333,50.6688,50.70628333,50.74378333,50.78161667,50.81911667,50.85695,50.89478333,50.93245,50.96978333,51.00776667,51.04526667,51.0826,51.1196,51.15743333,51.19508333,51.23258333,51.26991667,51.30725,51.34475,51.38225,51.41958333,51.4574,51.49506667,51.53273333,51.5699,51.60756667,51.64523333,51.68288333,51.72056667,51.75821667,51.79588333,51.83371667,51.87138333,51.90821667,51.94453333,51.9807,52.01703333,52.05336667,52.08986667,52.1267,52.16386667,52.20185,52.23951667,52.27701667,52.31468333,52.35235,52.38985,52.42766667,52.465,52.50266667,52.54033333,52.578,52.61566667,52.65333333,52.69081667,52.72848333,52.76615,52.80398333,52.84165,52.87948333,52.91731667,52.95465,52.9923,53.02963333,53.0673,53.10496667,53.1428,53.18061667,53.21828333,53.25578333,53.29361667,53.33128333,53.36895,53.40661667,53.44426667,53.48193333,53.5196,53.55726667,53.59493333,53.6326,53.67025,53.70808333,53.74591667,53.78358333,53.82125,53.85875,53.89675,53.93458333,53.9724,54.01006667,54.04756667,54.08523333,54.12273333,54.1604,54.19805,54.23538333,54.27305,54.31071667,54.34821667,54.38571667,54.4232,54.46103333,54.49853333,54.5362,54.57386667,54.61153333,54.64886667,54.68635,54.72401667,54.76168333,54.79901667,54.83668333,54.87435,54.91183333,54.94951667,54.98716667,55.02483333,55.06216667,55.09983333,55.1375,55.17515,55.21283333,55.25031667,55.28798333,55.32548333,55.36298333,55.40046667,55.43763333,55.47513333,55.51263333,55.5503,55.58796667,55.62546667,55.66311667,55.70061667,55.73811667,55.77578333,55.81311667,55.85061667,55.88826667,55.9256,55.96293333,56.00043333,56.03793333,56.07526667,56.11243333,56.14975,56.18725,56.22475,56.26225,56.29991667,56.33708333,56.37458333,56.41173333,56.44923333,56.48673333,56.52423333,56.56173333,56.59906667,56.63671667,56.67421667,56.71188333,56.74905,56.78671667,56.82438333,56.86205,56.8997,56.93736667],\"y\":[361.0,492.0,458.0,545.0,580.0,473.0,495.0,484.0,517.0,359.0,366.0,263.0,0.0,0.0,342.0,285.0,291.0,0.0,189.0,190.0,265.0,239.0,370.0,483.0,470.0,460.0,604.0,488.0,448.0,403.0,439.0,355.0,347.0,328.0,301.0,383.0,371.0,388.0,471.0,614.0,736.0,753.0,849.0,669.0,604.0,595.0,780.0,633.0,584.0,625.0,542.0,508.0,310.0,354.0,356.0,492.0,593.0,617.0,495.0,562.0,488.0,409.0,366.0,511.0,476.0,539.0,570.0,433.0,512.0,544.0,428.0,517.0,542.0,344.0,571.0,467.0,451.0,337.0,297.0,318.0,340.0,330.0,327.0,332.0,304.0,213.0,370.0,404.0,259.0,339.0,447.0,273.0,368.0,347.0,278.0,213.0,0.0,446.0,351.0,253.0,366.0,279.0,309.0,250.0,246.0,123.0,151.0,155.0,154.0,126.0,180.0,168.0,211.0,232.0,212.0,165.0,233.0,297.0,313.0,357.0,432.0,322.0,503.0,507.0,775.0,2486.0,8692.0,29737.0,89780.0,175075.0,265613.0,271997.0,250440.0,247999.0,188239.0,157868.0,113058.0,76462.0,48485.0,30124.0,16533.0,9233.0,6308.0,4059.0,2989.0,2173.0,1965.0,1836.0,1632.0,1582.0,1366.0,1265.0,1078.0,1012.0,1057.0,965.0,915.0,824.0,620.0,679.0,602.0,873.0,889.0,0.0,0.0,0.0,0.0,691.0,684.0,452.0,631.0,541.0,636.0,894.0,1137.0,1368.0,1800.0,2581.0,2742.0,3585.0,3406.0,3150.0,2148.0,2323.0,1397.0,1095.0,881.0,476.0,459.0,382.0,0.0,0.0,0.0,0.0,0.0,0.0,0.0,0.0,0.0,0.0,819.0,1022.0,1197.0,1069.0,1414.0,1815.0,1669.0,1744.0,2046.0,1857.0,1676.0,1969.0,1373.0,1522.0,2208.0,3801.0,4119.0,5043.0,5096.0,4580.0,3655.0,3016.0,2341.0,2097.0,1365.0,1227.0,1013.0,1010.0,1051.0,886.0,1091.0,951.0,1007.0,1022.0,1067.0,1116.0,978.0,1069.0,913.0,960.0,754.0,646.0,564.0,592.0,581.0,615.0,538.0,525.0,412.0,372.0,386.0,357.0,499.0,654.0,841.0,532.0,782.0,551.0,418.0,351.0,432.0,233.0,174.0,167.0,221.0,168.0],\"mode\":\"markers\",\"marker\":{}}];\n",
       "    var layout = {\"xaxis\":{\"title\":\"Retention Time\"},\"yaxis\":{\"title\":\"Intensity/Score\"},\"width\":900.0,\"height\":900.0};\n",
       "    var config = {};\n",
       "    Plotly.newPlot('cdaf743b-383c-452c-a40f-d7e08a224f65', data, layout, config);\n",
       "  </script>"
      ]
     },
     "metadata": {},
     "output_type": "display_data"
    }
   ],
   "source": [
    "// Code-Block 2\n",
    "\n",
    "let retentionTime = 51.95\n",
    "let mzAtCharge2   = 511.2691141\n",
    "\n",
    "let rtQuery = MzIO.Processing.Query.createRangeQuery retentionTime 5.\n",
    "\n",
    "let mzQuery = MzIO.Processing.Query.createRangeQuery mzAtCharge2 0.04\n",
    "\n",
    "let xic = \n",
    "    MzIO.Processing.Query.getXIC mzReader idx rtQuery mzQuery  \n",
    "    |> Array.map (fun p -> p.Rt , p.Intensity)\n",
    "    \n",
    "transaction.Dispose()\n",
    "\n",
    "xic\n",
    "|> Chart.Point\n",
    "|> Chart.withX_AxisStyle \"Retention Time\"\n",
    "|> Chart.withY_AxisStyle \"Intensity/Score\"\n",
    "|> Chart.withSize (900.,900.)\n",
    "|> Display"
   ]
  },
  {
   "cell_type": "markdown",
   "metadata": {},
   "source": [
    "<div Style=\"max-width: 85%\">\n",
    "\t<div Style=\"text-align: justify ; font-size: 1.8rem ; margin-top: 2rem ; line-height: 1.5\">\n",
    "We have now the XIC in our hands and can use the second derivative to identify peaks with our trace.\n",
    "\t</div>\n",
    "</div>"
   ]
  },
  {
   "cell_type": "code",
   "execution_count": 5,
   "metadata": {
    "scrolled": false
   },
   "outputs": [
    {
     "data": {
      "text/plain": [
       "{Apex = {Index = 4;\n",
       "         XVal = 47.1347;\n",
       "         YVal = 580.0;};\n",
       " LeftLiftOff = None;\n",
       " LeftEnd = {Index = 0;\n",
       "            XVal = 46.98453333;\n",
       "            YVal = 361.0;};\n",
       " RightLiftOff = Some {Index = 13;\n",
       "                      XVal = 47.47251667;\n",
       "                      YVal = 0.0;};\n",
       " RightEnd = {Index = 15;\n",
       "             XVal = 47.54783333;\n",
       "             YVal = 285.0;};\n",
       " LeftSidedConvolved = true;\n",
       " RightSidedConvolved = false;\n",
       " XData =\n",
       "  [|46.98453333; 47.02203333; 47.05953333; 47.0972; 47.1347; 47.17236667;\n",
       "    47.20986667; 47.24735; 47.28485; 47.32251667; 47.36001667; 47.39751667;\n",
       "    47.43501667; 47.47251667; 47.51016667; 47.54783333|];\n",
       " YData =\n",
       "  [|361.0; 492.0; 458.0; 545.0; 580.0; 473.0; 495.0; 484.0; 517.0; 359.0; 366.0;\n",
       "    263.0; 0.0; 0.0; 342.0; 285.0|];}"
      ]
     },
     "execution_count": 5,
     "metadata": {},
     "output_type": "execute_result"
    }
   ],
   "source": [
    "// Code-Block 3\n",
    "\n",
    "// get all peaks\n",
    "let peaks = \n",
    "    xic\n",
    "    |> Array.unzip\n",
    "    |> (fun (ret, intensity) ->\n",
    "        FSharp.Stats.Signal.PeakDetection.SecondDerivative.getPeaks 0.1 2 13 ret intensity\n",
    "        )\n",
    "\n",
    "peaks |> Array.head"
   ]
  },
  {
   "cell_type": "markdown",
   "metadata": {},
   "source": [
    "<div Style=\"max-width: 85%\">\n",
    "\t<div Style=\"text-align: justify ; font-size: 1.8rem ; margin-top: 2rem ; line-height: 1.5\">\n",
    "The peak model includes numerus information. Therefore we can mark the apices of the peaks we identified.\n",
    "\t</div>\n",
    "</div>"
   ]
  },
  {
   "cell_type": "code",
   "execution_count": 6,
   "metadata": {},
   "outputs": [
    {
     "data": {
      "text/html": [
       "<div id=\"8b0dd269-c916-43b2-82f7-6c0153589f13\" style=\"width: 900px; height: 900px;\"><!-- Plotly chart will be drawn inside this DIV --></div>\n",
       "  <script>\n",
       "    var data = [{\"type\":\"scatter\",\"x\":[47.1347,47.96165,48.56343333,49.16423333,49.65136667,50.36731667,50.78161667,51.41958333,51.94453333,52.61566667,52.91731667,53.74591667,54.68635,55.17515,55.81311667,56.59906667],\"y\":[580.0,604.0,849.0,495.0,517.0,447.0,279.0,313.0,250440.0,1366.0,620.0,3406.0,1815.0,5096.0,1116.0,782.0],\"mode\":\"markers\",\"name\":\"apices\",\"marker\":{\"size\":15}},{\"type\":\"scatter\",\"x\":[46.98453333,47.02203333,47.05953333,47.0972,47.1347,47.17236667,47.20986667,47.24735,47.28485,47.32251667,47.36001667,47.39751667,47.43501667,47.47251667,47.51016667,47.54783333,47.58533333,47.623,47.66066667,47.69833333,47.73583333,47.77348333,47.81115,47.84881667,47.88648333,47.92415,47.96165,47.9993,48.03696667,48.0748,48.11263333,48.15046667,48.18796667,48.22545,48.26311667,48.30095,48.33861667,48.37628333,48.41378333,48.45128333,48.48876667,48.5261,48.56343333,48.60076667,48.63826667,48.67576667,48.71341667,48.75108333,48.78858333,48.82608333,48.86358333,48.90108333,48.93858333,48.97623333,49.0139,49.0514,49.0889,49.12656667,49.16423333,49.20173333,49.23955,49.27721667,49.31471667,49.35221667,49.38955,49.42688333,49.46436667,49.50186667,49.53903333,49.57653333,49.61386667,49.65136667,49.68886667,49.72668333,49.76435,49.80185,49.83968333,49.87735,49.91518333,49.95283333,49.99033333,50.028,50.06566667,50.10333333,50.141,50.17866667,50.21631667,50.254,50.29181667,50.32948333,50.36731667,50.40498333,50.44248333,50.48013333,50.51796667,50.55563333,50.5933,50.63113333,50.6688,50.70628333,50.74378333,50.78161667,50.81911667,50.85695,50.89478333,50.93245,50.96978333,51.00776667,51.04526667,51.0826,51.1196,51.15743333,51.19508333,51.23258333,51.26991667,51.30725,51.34475,51.38225,51.41958333,51.4574,51.49506667,51.53273333,51.5699,51.60756667,51.64523333,51.68288333,51.72056667,51.75821667,51.79588333,51.83371667,51.87138333,51.90821667,51.94453333,51.9807,52.01703333,52.05336667,52.08986667,52.1267,52.16386667,52.20185,52.23951667,52.27701667,52.31468333,52.35235,52.38985,52.42766667,52.465,52.50266667,52.54033333,52.578,52.61566667,52.65333333,52.69081667,52.72848333,52.76615,52.80398333,52.84165,52.87948333,52.91731667,52.95465,52.9923,53.02963333,53.0673,53.10496667,53.1428,53.18061667,53.21828333,53.25578333,53.29361667,53.33128333,53.36895,53.40661667,53.44426667,53.48193333,53.5196,53.55726667,53.59493333,53.6326,53.67025,53.70808333,53.74591667,53.78358333,53.82125,53.85875,53.89675,53.93458333,53.9724,54.01006667,54.04756667,54.08523333,54.12273333,54.1604,54.19805,54.23538333,54.27305,54.31071667,54.34821667,54.38571667,54.4232,54.46103333,54.49853333,54.5362,54.57386667,54.61153333,54.64886667,54.68635,54.72401667,54.76168333,54.79901667,54.83668333,54.87435,54.91183333,54.94951667,54.98716667,55.02483333,55.06216667,55.09983333,55.1375,55.17515,55.21283333,55.25031667,55.28798333,55.32548333,55.36298333,55.40046667,55.43763333,55.47513333,55.51263333,55.5503,55.58796667,55.62546667,55.66311667,55.70061667,55.73811667,55.77578333,55.81311667,55.85061667,55.88826667,55.9256,55.96293333,56.00043333,56.03793333,56.07526667,56.11243333,56.14975,56.18725,56.22475,56.26225,56.29991667,56.33708333,56.37458333,56.41173333,56.44923333,56.48673333,56.52423333,56.56173333,56.59906667,56.63671667,56.67421667,56.71188333,56.74905,56.78671667,56.82438333,56.86205,56.8997,56.93736667],\"y\":[361.0,492.0,458.0,545.0,580.0,473.0,495.0,484.0,517.0,359.0,366.0,263.0,0.0,0.0,342.0,285.0,291.0,0.0,189.0,190.0,265.0,239.0,370.0,483.0,470.0,460.0,604.0,488.0,448.0,403.0,439.0,355.0,347.0,328.0,301.0,383.0,371.0,388.0,471.0,614.0,736.0,753.0,849.0,669.0,604.0,595.0,780.0,633.0,584.0,625.0,542.0,508.0,310.0,354.0,356.0,492.0,593.0,617.0,495.0,562.0,488.0,409.0,366.0,511.0,476.0,539.0,570.0,433.0,512.0,544.0,428.0,517.0,542.0,344.0,571.0,467.0,451.0,337.0,297.0,318.0,340.0,330.0,327.0,332.0,304.0,213.0,370.0,404.0,259.0,339.0,447.0,273.0,368.0,347.0,278.0,213.0,0.0,446.0,351.0,253.0,366.0,279.0,309.0,250.0,246.0,123.0,151.0,155.0,154.0,126.0,180.0,168.0,211.0,232.0,212.0,165.0,233.0,297.0,313.0,357.0,432.0,322.0,503.0,507.0,775.0,2486.0,8692.0,29737.0,89780.0,175075.0,265613.0,271997.0,250440.0,247999.0,188239.0,157868.0,113058.0,76462.0,48485.0,30124.0,16533.0,9233.0,6308.0,4059.0,2989.0,2173.0,1965.0,1836.0,1632.0,1582.0,1366.0,1265.0,1078.0,1012.0,1057.0,965.0,915.0,824.0,620.0,679.0,602.0,873.0,889.0,0.0,0.0,0.0,0.0,691.0,684.0,452.0,631.0,541.0,636.0,894.0,1137.0,1368.0,1800.0,2581.0,2742.0,3585.0,3406.0,3150.0,2148.0,2323.0,1397.0,1095.0,881.0,476.0,459.0,382.0,0.0,0.0,0.0,0.0,0.0,0.0,0.0,0.0,0.0,0.0,819.0,1022.0,1197.0,1069.0,1414.0,1815.0,1669.0,1744.0,2046.0,1857.0,1676.0,1969.0,1373.0,1522.0,2208.0,3801.0,4119.0,5043.0,5096.0,4580.0,3655.0,3016.0,2341.0,2097.0,1365.0,1227.0,1013.0,1010.0,1051.0,886.0,1091.0,951.0,1007.0,1022.0,1067.0,1116.0,978.0,1069.0,913.0,960.0,754.0,646.0,564.0,592.0,581.0,615.0,538.0,525.0,412.0,372.0,386.0,357.0,499.0,654.0,841.0,532.0,782.0,551.0,418.0,351.0,432.0,233.0,174.0,167.0,221.0,168.0],\"mode\":\"markers\",\"name\":\"XIC\",\"marker\":{}}];\n",
       "    var layout = {\"xaxis\":{\"title\":\"Retention Time\"},\"yaxis\":{\"title\":\"Intensity\"},\"width\":900.0,\"height\":900.0};\n",
       "    var config = {};\n",
       "    Plotly.newPlot('8b0dd269-c916-43b2-82f7-6c0153589f13', data, layout, config);\n",
       "  </script>"
      ]
     },
     "metadata": {},
     "output_type": "display_data"
    }
   ],
   "source": [
    "// Code-Block 4\n",
    "\n",
    "let apices =\n",
    "    peaks\n",
    "    |> Array.map (fun peak -> peak.Apex.XVal,peak.Apex.YVal)\n",
    "\n",
    "[    \n",
    "    Chart.Point(apices, Name=\"apices\")\n",
    "    |> Chart.withMarkerStyle(Size=15)\n",
    "    Chart.Point(xic, Name = \"XIC\")\n",
    "\n",
    "]\n",
    "|> Chart.Combine\n",
    "|> Chart.withX_AxisStyle \"Retention Time\"\n",
    "|> Chart.withY_AxisStyle \"Intensity\"\n",
    "|> Chart.withSize (900.,900.)\n",
    "|> Display\n"
   ]
  },
  {
   "cell_type": "markdown",
   "metadata": {},
   "source": [
    "<div Style=\"max-width: 85%\">\n",
    "\t<div Style=\"text-align: justify ; font-size: 1.8rem ; margin-top: 2rem ; line-height: 1.5\">\n",
    "We can then go ahead and characterize our peak and quantify the area under the fitted curve.\n",
    "\t</div>\n",
    "</div>"
   ]
  },
  {
   "cell_type": "code",
   "execution_count": 7,
   "metadata": {},
   "outputs": [
    {
     "data": {
      "text/plain": [
       "69574.13128"
      ]
     },
     "execution_count": 7,
     "metadata": {},
     "output_type": "execute_result"
    }
   ],
   "source": [
    "// Code-Block 5\n",
    "\n",
    "// get peak at \"ret=51.95\" from all peaks \"peaks\"\n",
    "let quantifiedXIC = \n",
    "    BioFSharp.Mz.Quantification.HULQ.getPeakBy peaks retentionTime\n",
    "    // quantify peak of interest\n",
    "    |> BioFSharp.Mz.Quantification.HULQ.quantifyPeak \n",
    "    \n",
    "quantifiedXIC.Area"
   ]
  },
  {
   "cell_type": "markdown",
   "metadata": {},
   "source": [
    "<div Style=\"max-width: 85%\">\n",
    "\t<div Style=\"text-align: justify ; font-size: 1.8rem ; margin-top: 2rem ; line-height: 1.5\">\n",
    "The peak model gives us all the information we need for our peptide of interest. If we want to see what we quantified, we can take an exponential modified gaussian function using the parameters given by the peak model and plot it together with the previously extracted XIC.\n",
    "\t</div>\n",
    "</div>"
   ]
  },
  {
   "cell_type": "code",
   "execution_count": 8,
   "metadata": {},
   "outputs": [
    {
     "data": {
      "text/plain": [
       "<fun:it@4> : (double -> double)"
      ]
     },
     "execution_count": 8,
     "metadata": {},
     "output_type": "execute_result"
    }
   ],
   "source": [
    "// Code-Block 6\n",
    "\n",
    "let eval x = \n",
    "    Fitting.NonLinearRegression.Table.emgModel.GetFunctionValue (vector quantifiedXIC.EstimatedParams) x\n",
    "\n",
    "eval"
   ]
  },
  {
   "cell_type": "code",
   "execution_count": 9,
   "metadata": {},
   "outputs": [
    {
     "data": {
      "text/html": [
       "<div id=\"fe427c9c-928d-4e09-8df2-74609ab66912\" style=\"width: 900px; height: 900px;\"><!-- Plotly chart will be drawn inside this DIV --></div>\n",
       "  <script>\n",
       "    var data = [{\"type\":\"scatter\",\"x\":[46.98453333,47.02203333,47.05953333,47.0972,47.1347,47.17236667,47.20986667,47.24735,47.28485,47.32251667,47.36001667,47.39751667,47.43501667,47.47251667,47.51016667,47.54783333,47.58533333,47.623,47.66066667,47.69833333,47.73583333,47.77348333,47.81115,47.84881667,47.88648333,47.92415,47.96165,47.9993,48.03696667,48.0748,48.11263333,48.15046667,48.18796667,48.22545,48.26311667,48.30095,48.33861667,48.37628333,48.41378333,48.45128333,48.48876667,48.5261,48.56343333,48.60076667,48.63826667,48.67576667,48.71341667,48.75108333,48.78858333,48.82608333,48.86358333,48.90108333,48.93858333,48.97623333,49.0139,49.0514,49.0889,49.12656667,49.16423333,49.20173333,49.23955,49.27721667,49.31471667,49.35221667,49.38955,49.42688333,49.46436667,49.50186667,49.53903333,49.57653333,49.61386667,49.65136667,49.68886667,49.72668333,49.76435,49.80185,49.83968333,49.87735,49.91518333,49.95283333,49.99033333,50.028,50.06566667,50.10333333,50.141,50.17866667,50.21631667,50.254,50.29181667,50.32948333,50.36731667,50.40498333,50.44248333,50.48013333,50.51796667,50.55563333,50.5933,50.63113333,50.6688,50.70628333,50.74378333,50.78161667,50.81911667,50.85695,50.89478333,50.93245,50.96978333,51.00776667,51.04526667,51.0826,51.1196,51.15743333,51.19508333,51.23258333,51.26991667,51.30725,51.34475,51.38225,51.41958333,51.4574,51.49506667,51.53273333,51.5699,51.60756667,51.64523333,51.68288333,51.72056667,51.75821667,51.79588333,51.83371667,51.87138333,51.90821667,51.94453333,51.9807,52.01703333,52.05336667,52.08986667,52.1267,52.16386667,52.20185,52.23951667,52.27701667,52.31468333,52.35235,52.38985,52.42766667,52.465,52.50266667,52.54033333,52.578,52.61566667,52.65333333,52.69081667,52.72848333,52.76615,52.80398333,52.84165,52.87948333,52.91731667,52.95465,52.9923,53.02963333,53.0673,53.10496667,53.1428,53.18061667,53.21828333,53.25578333,53.29361667,53.33128333,53.36895,53.40661667,53.44426667,53.48193333,53.5196,53.55726667,53.59493333,53.6326,53.67025,53.70808333,53.74591667,53.78358333,53.82125,53.85875,53.89675,53.93458333,53.9724,54.01006667,54.04756667,54.08523333,54.12273333,54.1604,54.19805,54.23538333,54.27305,54.31071667,54.34821667,54.38571667,54.4232,54.46103333,54.49853333,54.5362,54.57386667,54.61153333,54.64886667,54.68635,54.72401667,54.76168333,54.79901667,54.83668333,54.87435,54.91183333,54.94951667,54.98716667,55.02483333,55.06216667,55.09983333,55.1375,55.17515,55.21283333,55.25031667,55.28798333,55.32548333,55.36298333,55.40046667,55.43763333,55.47513333,55.51263333,55.5503,55.58796667,55.62546667,55.66311667,55.70061667,55.73811667,55.77578333,55.81311667,55.85061667,55.88826667,55.9256,55.96293333,56.00043333,56.03793333,56.07526667,56.11243333,56.14975,56.18725,56.22475,56.26225,56.29991667,56.33708333,56.37458333,56.41173333,56.44923333,56.48673333,56.52423333,56.56173333,56.59906667,56.63671667,56.67421667,56.71188333,56.74905,56.78671667,56.82438333,56.86205,56.8997,56.93736667],\"y\":[361.0,492.0,458.0,545.0,580.0,473.0,495.0,484.0,517.0,359.0,366.0,263.0,0.0,0.0,342.0,285.0,291.0,0.0,189.0,190.0,265.0,239.0,370.0,483.0,470.0,460.0,604.0,488.0,448.0,403.0,439.0,355.0,347.0,328.0,301.0,383.0,371.0,388.0,471.0,614.0,736.0,753.0,849.0,669.0,604.0,595.0,780.0,633.0,584.0,625.0,542.0,508.0,310.0,354.0,356.0,492.0,593.0,617.0,495.0,562.0,488.0,409.0,366.0,511.0,476.0,539.0,570.0,433.0,512.0,544.0,428.0,517.0,542.0,344.0,571.0,467.0,451.0,337.0,297.0,318.0,340.0,330.0,327.0,332.0,304.0,213.0,370.0,404.0,259.0,339.0,447.0,273.0,368.0,347.0,278.0,213.0,0.0,446.0,351.0,253.0,366.0,279.0,309.0,250.0,246.0,123.0,151.0,155.0,154.0,126.0,180.0,168.0,211.0,232.0,212.0,165.0,233.0,297.0,313.0,357.0,432.0,322.0,503.0,507.0,775.0,2486.0,8692.0,29737.0,89780.0,175075.0,265613.0,271997.0,250440.0,247999.0,188239.0,157868.0,113058.0,76462.0,48485.0,30124.0,16533.0,9233.0,6308.0,4059.0,2989.0,2173.0,1965.0,1836.0,1632.0,1582.0,1366.0,1265.0,1078.0,1012.0,1057.0,965.0,915.0,824.0,620.0,679.0,602.0,873.0,889.0,0.0,0.0,0.0,0.0,691.0,684.0,452.0,631.0,541.0,636.0,894.0,1137.0,1368.0,1800.0,2581.0,2742.0,3585.0,3406.0,3150.0,2148.0,2323.0,1397.0,1095.0,881.0,476.0,459.0,382.0,0.0,0.0,0.0,0.0,0.0,0.0,0.0,0.0,0.0,0.0,819.0,1022.0,1197.0,1069.0,1414.0,1815.0,1669.0,1744.0,2046.0,1857.0,1676.0,1969.0,1373.0,1522.0,2208.0,3801.0,4119.0,5043.0,5096.0,4580.0,3655.0,3016.0,2341.0,2097.0,1365.0,1227.0,1013.0,1010.0,1051.0,886.0,1091.0,951.0,1007.0,1022.0,1067.0,1116.0,978.0,1069.0,913.0,960.0,754.0,646.0,564.0,592.0,581.0,615.0,538.0,525.0,412.0,372.0,386.0,357.0,499.0,654.0,841.0,532.0,782.0,551.0,418.0,351.0,432.0,233.0,174.0,167.0,221.0,168.0],\"mode\":\"markers\",\"name\":\"XIC\",\"marker\":{}},{\"type\":\"scatter\",\"x\":[46.98453333,47.02203333,47.05953333,47.0972,47.1347,47.17236667,47.20986667,47.24735,47.28485,47.32251667,47.36001667,47.39751667,47.43501667,47.47251667,47.51016667,47.54783333,47.58533333,47.623,47.66066667,47.69833333,47.73583333,47.77348333,47.81115,47.84881667,47.88648333,47.92415,47.96165,47.9993,48.03696667,48.0748,48.11263333,48.15046667,48.18796667,48.22545,48.26311667,48.30095,48.33861667,48.37628333,48.41378333,48.45128333,48.48876667,48.5261,48.56343333,48.60076667,48.63826667,48.67576667,48.71341667,48.75108333,48.78858333,48.82608333,48.86358333,48.90108333,48.93858333,48.97623333,49.0139,49.0514,49.0889,49.12656667,49.16423333,49.20173333,49.23955,49.27721667,49.31471667,49.35221667,49.38955,49.42688333,49.46436667,49.50186667,49.53903333,49.57653333,49.61386667,49.65136667,49.68886667,49.72668333,49.76435,49.80185,49.83968333,49.87735,49.91518333,49.95283333,49.99033333,50.028,50.06566667,50.10333333,50.141,50.17866667,50.21631667,50.254,50.29181667,50.32948333,50.36731667,50.40498333,50.44248333,50.48013333,50.51796667,50.55563333,50.5933,50.63113333,50.6688,50.70628333,50.74378333,50.78161667,50.81911667,50.85695,50.89478333,50.93245,50.96978333,51.00776667,51.04526667,51.0826,51.1196,51.15743333,51.19508333,51.23258333,51.26991667,51.30725,51.34475,51.38225,51.41958333,51.4574,51.49506667,51.53273333,51.5699,51.60756667,51.64523333,51.68288333,51.72056667,51.75821667,51.79588333,51.83371667,51.87138333,51.90821667,51.94453333,51.9807,52.01703333,52.05336667,52.08986667,52.1267,52.16386667,52.20185,52.23951667,52.27701667,52.31468333,52.35235,52.38985,52.42766667,52.465,52.50266667,52.54033333,52.578,52.61566667,52.65333333,52.69081667,52.72848333,52.76615,52.80398333,52.84165,52.87948333,52.91731667,52.95465,52.9923,53.02963333,53.0673,53.10496667,53.1428,53.18061667,53.21828333,53.25578333,53.29361667,53.33128333,53.36895,53.40661667,53.44426667,53.48193333,53.5196,53.55726667,53.59493333,53.6326,53.67025,53.70808333,53.74591667,53.78358333,53.82125,53.85875,53.89675,53.93458333,53.9724,54.01006667,54.04756667,54.08523333,54.12273333,54.1604,54.19805,54.23538333,54.27305,54.31071667,54.34821667,54.38571667,54.4232,54.46103333,54.49853333,54.5362,54.57386667,54.61153333,54.64886667,54.68635,54.72401667,54.76168333,54.79901667,54.83668333,54.87435,54.91183333,54.94951667,54.98716667,55.02483333,55.06216667,55.09983333,55.1375,55.17515,55.21283333,55.25031667,55.28798333,55.32548333,55.36298333,55.40046667,55.43763333,55.47513333,55.51263333,55.5503,55.58796667,55.62546667,55.66311667,55.70061667,55.73811667,55.77578333,55.81311667,55.85061667,55.88826667,55.9256,55.96293333,56.00043333,56.03793333,56.07526667,56.11243333,56.14975,56.18725,56.22475,56.26225,56.29991667,56.33708333,56.37458333,56.41173333,56.44923333,56.48673333,56.52423333,56.56173333,56.59906667,56.63671667,56.67421667,56.71188333,56.74905,56.78671667,56.82438333,56.86205,56.8997,56.93736667],\"y\":[0.0,0.0,0.0,0.0,0.0,0.0,0.0,0.0,0.0,0.0,0.0,0.0,0.0,0.0,0.0,0.0,0.0,0.0,0.0,0.0,0.0,0.0,0.0,0.0,0.0,0.0,0.0,0.0,0.0,0.0,0.0,0.0,0.0,0.0,0.0,0.0,0.0,0.0,0.0,0.0,0.0,0.0,0.0,3.6677618844137E-316,7.13207274915812E-309,1.1430208276565192E-301,1.6115199659773743E-294,1.8831332827092564E-287,1.6869387152297802E-280,1.2455178272917718E-273,7.5793932813084007E-267,3.801493889870078E-260,1.5714880211724604E-253,6.5463705228999469E-247,1.9585270111328519E-240,4.5190729212442067E-234,8.5941574178625654E-228,1.4346318123704392E-221,1.9704511416578435E-215,2.0945292723356886E-209,2.0581327873192669E-203,1.5747748457417177E-197,9.3494894008736632E-192,4.5751491365763346E-186,1.7431872387045796E-180,5.4837807249248156E-175,1.4969399305036415E-169,3.3870485165080383E-164,5.6756756089240022E-159,8.7398746463455041E-154,1.0533283610559553E-148,1.1029639661895375E-143,9.51990028168724E-139,7.4369722015839507E-134,4.5700281193348589E-129,2.2036957154907545E-124,9.6156797104652226E-120,3.2925210528233505E-115,9.7035219123474924E-111,2.2381965179054591E-106,4.0872032293184453E-102,6.4187394769624435E-98,8.2955882036615318E-94,8.8231580522603588E-90,7.7230618783617173E-86,5.56352376156217E-82,3.2859599551980734E-78,1.6094862608139007E-74,6.6782884598659456E-71,2.2057359338981412E-67,6.2071523028871065E-64,1.3877144703449017E-60,2.4712284525373971E-57,3.7346410655484307E-54,4.8085692865979083E-51,4.936314246109491E-48,4.1717140321460643E-45,2.9864649430783654E-42,1.70922568478397E-39,7.8201902274035E-37,2.9592980983372837E-34,9.7125797397808423E-32,2.4965746584147249E-29,5.5474629773938E-27,1.013494964778769E-24,1.4899150494969658E-22,1.7307684378109572E-20,1.7965206395707973E-18,1.4490225048436428E-16,9.4732249651293436E-15,4.9466755348850574E-13,2.328616537475399E-11,8.8678585684313794E-10,2.7483906896891864E-08,6.940130810860062E-07,1.4508178174166682E-05,0.00025426851050649053,0.0036854020374819186,0.043727865327386449,0.4425773564709849,3.6686098685312594,25.162552060925474,139.8435629908962,660.17339270143759,2587.0483323258222,8425.3548389385178,22885.132773198169,51894.783911466409,98718.006394325479,158506.09875789381,215332.657712061,249890.14230635134,252812.833419116,226953.05908253041,183785.12615782121,137108.87676428846,96208.613159373184,64717.073331433407,42443.037730496988,27295.688746765427,17551.524988335779,11294.987128624556,7252.3992467406424,4656.42247831771,2995.5072026925477,1919.8618043573563,1237.4818168229542,794.51973206999469,510.11794248622368,327.51897041074221,210.28210741962485,135.01071356898132,86.870176241228179,55.774619277454512,35.80984780051088,22.94652319535119,14.73271380103488,9.4405472162072268,6.0493893019890539,3.899243757990384,2.5039832027344211,1.613987856619618,1.0362537700151409,0.66532215311683551,0.42633049723988664,0.27324104075367561,0.17543322321222793,0.1128571812119009,0.072317526626406572,0.046431153811347471,0.029810917093226509,0.019139967564666269,0.012291141630885486,0.00789147408938507,0.0050666860612132479,0.00325304339241555,0.0020886023783488932,0.001340977926042039,0.00086113780272541261,0.00055180682907986374,0.000353591190441746,0.00022702168776529141,0.00014575827126401216,9.3767117379334861E-05,5.9967160615400825E-05,3.8426241007393981E-05,2.4627902890099823E-05,1.5812236202869628E-05,1.017210066507095E-05,6.5309530427435928E-06,4.2013989000229173E-06,2.6974895948751139E-06,1.7322509323190716E-06,1.1165538036869031E-06,7.1687843483446021E-07,4.6026863070435076E-07,2.9609340414794358E-07,1.9047855563337746E-07,1.225599599257278E-07,7.8534959961960619E-08,5.0521982356638327E-08,3.2437415480532588E-08,2.0826299245925117E-08,1.3371434958003788E-08,8.618800272097547E-09,5.5456101735109391E-09,3.5605345020197158E-09,2.2860257094788613E-09,1.4734992219427691E-09,9.46053774327284E-10,6.0740964454154739E-10,3.9082668096664118E-10,2.5087934107842103E-10,1.6110756212307494E-10,1.0343841038357957E-10,6.6673098463948292E-11,4.2807173229958319E-11,2.7484156377819498E-11,1.7649541855484092E-11,1.1329589732639956E-11,7.28981745817066E-12,4.6803956308614891E-12,3.0109248874517172E-12,1.9369449492898332E-12,1.2462918287471958E-12,8.0489660334648043E-13,5.17794521228324E-13,3.3310013373066335E-13,2.1386546866213426E-13,1.373113789352523E-13,8.8333183938626E-14,5.6725052998575345E-14,3.649154628921328E-14,2.347521738959597E-14,1.5072161344813694E-14,9.7150342283961634E-15,6.2497362718323712E-15,4.0134024999385119E-15,2.5869114822950462E-15,1.6674407855511641E-15,1.072674054830599E-15,6.9005726492793225E-16,4.4478889224703428E-16,2.8725942056102009E-16,1.8519456860634167E-16,1.1913670971764413E-16,7.6641316800799875E-17,4.9303791038730073E-17,3.165528112889883E-17,2.0444030580093579E-17,1.3151760092146915E-17,8.495507721405425E-18,5.4652079967879617E-18,3.515799105555269E-18,2.261733379203135E-18,1.4549858296848628E-18,9.3783743511235979E-19,6.022524700090015E-19,3.8743240817559861E-19,2.4874929459953934E-19,1.6065052673615475E-19,1.0314496066527232E-19,6.622377391659175E-20,4.2518681354535134E-20,2.7304285272240569E-20,1.7530595682540226E-20],\"mode\":\"lines\",\"fill\":\"tozeroy\",\"name\":\"quantified XIC\",\"line\":{\"width\":{},\"shape\":\"spline\"},\"marker\":{}}];\n",
       "    var layout = {\"xaxis\":{\"title\":\"Retention Time\",\"range\":[51.0,55.0]},\"yaxis\":{\"title\":\"Intensity\"},\"width\":900.0,\"height\":900.0};\n",
       "    var config = {};\n",
       "    Plotly.newPlot('fe427c9c-928d-4e09-8df2-74609ab66912', data, layout, config);\n",
       "  </script>"
      ]
     },
     "metadata": {},
     "output_type": "display_data"
    }
   ],
   "source": [
    "// Code-Block 7\n",
    "\n",
    "let quantifiedArea =\n",
    "    xic \n",
    "    |> Array.map (fun (rt,i) -> rt, eval rt)\n",
    "\n",
    "\n",
    "[\n",
    "    Chart.Point(xic,Name=\"XIC\")\n",
    "    Chart.SplineArea(quantifiedArea,Name=\"quantified XIC\")\n",
    "]\n",
    "|> Chart.Combine\n",
    "|> Chart.withX_AxisStyle (title = \"Retention Time\", MinMax = (51.,55.))\n",
    "|> Chart.withY_AxisStyle \"Intensity\"\n",
    "|> Chart.withSize (900.,900.)\n",
    "|> Display"
   ]
  },
  {
   "cell_type": "markdown",
   "metadata": {},
   "source": [
    "<div style=\"width: 100% ; height: 60px ; display: flex ; align-content: center\">\n",
    "    <a href=\"JP10_Peptide_Identification.ipynb\" style=\"padding: 8px ; border: 2px solid blue ; border-radius: 5px ; font-size: 1.5rem ; cursor: pointer ; color: inherit; text-decoration: none ; margin-right: auto ; display: block ; height: 40px ; width: 80px ; text-align: center ; color: white ; background-color: blue\">\n",
    "        &#171; JP10\n",
    "    </a>\n",
    "</div>"
   ]
  }
 ],
 "metadata": {
  "kernelspec": {
   "display_name": "F#",
   "language": "fsharp",
   "name": "ifsharp"
  },
  "language": "fsharp",
  "language_info": {
   "codemirror_mode": "",
   "file_extension": ".fs",
   "mimetype": "text/x-fsharp",
   "name": "fsharp",
   "nbconvert_exporter": "",
   "pygments_lexer": "",
   "version": "4.3.1.0"
  }
 },
 "nbformat": 4,
 "nbformat_minor": 2
}
