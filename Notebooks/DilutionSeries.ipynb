{
 "cells": [
  {
   "cell_type": "code",
   "execution_count": null,
   "metadata": {
    "dotnet_interactive": {
     "language": "fsharp"
    },
    "vscode": {
     "languageId": "polyglot-notebook"
    }
   },
   "outputs": [],
   "source": [
    "#r \"nuget: FSharp.Stats, 0.4.3\"\n",
    "#r \"nuget: BioFSharp, 2.0.0-beta5\"\n",
    "#r \"nuget: BioFSharp.IO, 2.0.0-beta5\"\n",
    "#r \"nuget: Plotly.NET, 4.2.0\"\n",
    "#r \"nuget: Deedle, 2.5.0\"\n",
    "#r \"nuget: Plotly.NET.Interactive, 4.2.0\"\n",
    "#r \"nuget: ARCtrl\"\n",
    "#r \"nuget: ARCtrl.NET, 1.0.5\"\n",
    "#r \"nuget: ARCtrl.QueryModel, 1.0.5\"\n",
    "\n",
    "open System.IO\n",
    "open Deedle\n",
    "open BioFSharp\n",
    "open FSharpAux\n",
    "open FSharp.Stats\n",
    "open Plotly.NET\n",
    "open ARCtrl\n",
    "open ARCtrl.NET\n",
    "open ARCtrl.QueryModel\n",
    "open ARCtrl.ISA"
   ]
  },
  {
   "cell_type": "markdown",
   "metadata": {},
   "source": [
    "## I. Reading the sample description\n",
    "\n",
    "Before we analyze our data, we will download and read the sample description provided by the experimentalist."
   ]
  },
  {
   "cell_type": "code",
   "execution_count": null,
   "metadata": {
    "dotnet_interactive": {
     "language": "fsharp"
    },
    "vscode": {
     "languageId": "polyglot-notebook"
    }
   },
   "outputs": [],
   "source": [
    "// let path = @\"..\\\"\n",
    "\n",
    "// let arc = ARC.load path\n",
    "// let i = arc.ISA.Value"
   ]
  },
  {
   "cell_type": "code",
   "execution_count": null,
   "metadata": {
    "dotnet_interactive": {
     "language": "fsharp"
    },
    "vscode": {
     "languageId": "polyglot-notebook"
    }
   },
   "outputs": [],
   "source": [
    "let normalizeFileName (f: string) = if Path.HasExtension f then f else Path.ChangeExtension(f, \"wiff\")\n",
    "\n",
    "//        \n",
    "// let getStrain (fileName: string) =\n",
    "//     let fN = fileName |> normalizeFileName\n",
    "//     i.ArcTables.CharacteristicsOf(fN,\"Cultivation\")\n",
    "//         .WithName(\"strain\")\n",
    "//         .[0]\n",
    "//         .ValueText\n",
    "\n",
    "// //\n",
    "// let getExpressionLevel (fileName: string) =\n",
    "//     let fN = fileName |> normalizeFileName \n",
    "//     i.ArcTables.CharacteristicsOf(fN,\"Cultivation\")\n",
    "//         .WithName(\"gene expression\")\n",
    "//         .[0]\n",
    "//         .ValueText\n",
    "\n",
    "let getGroupID (fileName: string) =\n",
    "    // let fN = fileName |> normalizeFileName\n",
    "    // i.ArcTables.ParametersOf(fN,\"Protein extraction\")\n",
    "    //     .WithName(\"Group name\")\n",
    "    //     .[0]\n",
    "    //     .ValueText\n",
    "    fileName.Split(\"_\").[2].Split(\".\").[0]\n",
    "\n",
    "let getDilutionFactor (fileName : string) =\n",
    "    // let fN = fileName |> normalizeFileName\n",
    "    // i.ArcTables.ParametersOf(fN,\"Dilution Series\")\n",
    "    //     .WithName(\"Dilution Factor\")\n",
    "    //     .[0]\n",
    "    //     .ValueText\n",
    "    fileName.Split(\"_\").[1]"
   ]
  },
  {
   "cell_type": "markdown",
   "metadata": {},
   "source": [
    "A quick execution to test the retrieval of data from the isa sample table:"
   ]
  },
  {
   "cell_type": "code",
   "execution_count": null,
   "metadata": {
    "dotnet_interactive": {
     "language": "fsharp"
    },
    "vscode": {
     "languageId": "polyglot-notebook"
    }
   },
   "outputs": [],
   "source": [
    "\n",
    "// getStrain \"Whole Cell UVM4 1to5 G3\"\n",
    "// getExpressionLevel \"Whole Cell UVM4 1to5 G3\"\n",
    "// getGroupID \"Whole Cell UVM4 1to5 G3\"\n",
    "// getDilutionFactor \"Whole Cell UVM4 1to5 G3\"\n",
    "\n"
   ]
  },
  {
   "cell_type": "markdown",
   "metadata": {},
   "source": [
    "Now that we have the sample sheet, all that is missing is the data to be analyzed:"
   ]
  },
  {
   "cell_type": "code",
   "execution_count": null,
   "metadata": {
    "dotnet_interactive": {
     "language": "fsharp"
    },
    "vscode": {
     "languageId": "polyglot-notebook"
    }
   },
   "outputs": [],
   "source": [
    "let path = @\"C:\\Users\\jonat\\Downloads\\QProt_Annotated.csv\"\n"
   ]
  },
  {
   "cell_type": "markdown",
   "metadata": {},
   "source": [
    "## II. Raw data access using Deedle:\n",
    "As teasered in the primer, we want to work with our tabular data using Deedle. Luckily, Deedle does not only deliver data frame and series\n",
    "manipulation, but also allows us to quickly read the recently downloaded data into the memory:"
   ]
  },
  {
   "cell_type": "code",
   "execution_count": null,
   "metadata": {
    "dotnet_interactive": {
     "language": "fsharp"
    },
    "vscode": {
     "languageId": "polyglot-notebook"
    }
   },
   "outputs": [],
   "source": [
    "let rawData = Frame.ReadCsv(path, separators = \"\\t\")"
   ]
  },
  {
   "cell_type": "markdown",
   "metadata": {},
   "source": [
    "To visualize the data, we can call the \"Print()\" function."
   ]
  },
  {
   "cell_type": "code",
   "execution_count": null,
   "metadata": {
    "dotnet_interactive": {
     "language": "fsharp"
    },
    "polyglot_notebook": {
     "kernelName": "fsharp"
    },
    "vscode": {
     "languageId": "polyglot-notebook"
    }
   },
   "outputs": [],
   "source": [
    "rawData.Print()"
   ]
  },
  {
   "cell_type": "markdown",
   "metadata": {},
   "source": [
    "Looking at the raw data, we can see that each row contains a different quantification of a peptide ion, with the columns containing \n",
    "a single ion feature each, such as peptide ion charge, sequence or a quantification value reported for a file (e.g. light, heavy or ratio).\n",
    "Since the columns ProteinGroup, StringSequence, PepSequenceID and Charge uniquely identify a row, we can use these to index the rows.\n",
    "For this, we use a language feature called [\"anonymous record type\"](https://docs.microsoft.com/en-us/dotnet/fsharp/language-reference/anonymous-records). \n",
    "Here we create a tuple like structure, with the additional feature that each element of the tuple is named (e.g.: Proteingroup)."
   ]
  },
  {
   "cell_type": "code",
   "execution_count": null,
   "metadata": {
    "dotnet_interactive": {
     "language": "fsharp"
    },
    "vscode": {
     "languageId": "polyglot-notebook"
    }
   },
   "outputs": [],
   "source": [
    "let indexedData =\n",
    "    rawData\n",
    "    // StringSequence is the peptide sequence\n",
    "    |> Frame.indexRowsUsing (fun os -> \n",
    "            {|\n",
    "                ProteinGroup    = os.GetAs<string>(\"ProteinGroup\"); \n",
    "                Synonyms        = os.GetAs<string>(\"Synonym\")\n",
    "                StringSequence  = os.GetAs<string>(\"StringSequence\");\n",
    "                PepSequenceID   = os.GetAs<int>(\"PepSequenceID\");\n",
    "                Charge          = os.GetAs<int>(\"Charge\")\n",
    "            |}\n",
    "        )\n",
    "        \n",
    "let inline printIndexedData (f: Frame<{| Charge: int; PepSequenceID: int; ProteinGroup: string; StringSequence: string; Synonyms: string |},string>) =\n",
    "    f\n",
    "    |> Frame.mapRowKeys (fun k -> $\"{k.ProteinGroup},{k.Synonyms},{k.StringSequence},{k.PepSequenceID},{k.Charge}\")\n",
    "    |> fun f -> f.Print()"
   ]
  },
  {
   "cell_type": "code",
   "execution_count": null,
   "metadata": {
    "dotnet_interactive": {
     "language": "fsharp"
    },
    "vscode": {
     "languageId": "polyglot-notebook"
    }
   },
   "outputs": [],
   "source": [
    "// The effect of our frame manipulation can be observed:\n",
    "indexedData\n",
    "|> printIndexedData"
   ]
  },
  {
   "cell_type": "code",
   "execution_count": null,
   "metadata": {
    "dotnet_interactive": {
     "language": "fsharp"
    },
    "vscode": {
     "languageId": "polyglot-notebook"
    }
   },
   "outputs": [],
   "source": [
    "// this matching is important for the distinction later on\n",
    "type Qprot = \n",
    "    | CBB\n",
    "    | PS \n",
    "\n",
    "let finalRaw = \n",
    "    indexedData\n",
    "    |> Frame.mapRowKeys (fun k ->\n",
    "        let qprot = \n",
    "            match k.ProteinGroup |> String.contains \"QProt_newCBB\", k.ProteinGroup |> String.contains \"QProt_newPS\" with \n",
    "            // if contains CBB and not PS -> CBB\n",
    "            | true, false  -> Some CBB\n",
    "            // if contains no CBB but PS -> PS \n",
    "            | false, true  -> Some PS \n",
    "            // if anything else (eg false,false -> None)\n",
    "            | _ -> None  \n",
    "        {|k with QProt = qprot|}\n",
    "        )\n",
    "    |> Frame.filterRows (fun k s -> k.QProt.IsSome)\n",
    "    |> Frame.mapRowKeys (fun k -> {|k with QProt = k.QProt.Value|})\n",
    "\n",
    "let inline printIndexedQProtData (f: Frame<{| Charge: int; PepSequenceID: int; ProteinGroup: string; QProt: Qprot; StringSequence: string; Synonyms: string |},string>) =\n",
    "    f\n",
    "    |> Frame.mapRowKeys (fun k -> $\"{k.ProteinGroup},{k.Synonyms},{k.StringSequence},{k.PepSequenceID},{k.Charge},{k.QProt}\")\n",
    "    |> fun f -> f.Print()"
   ]
  },
  {
   "cell_type": "code",
   "execution_count": null,
   "metadata": {
    "dotnet_interactive": {
     "language": "fsharp"
    },
    "vscode": {
     "languageId": "polyglot-notebook"
    }
   },
   "outputs": [],
   "source": [
    "finalRaw\n",
    "|> printIndexedQProtData"
   ]
  },
  {
   "cell_type": "markdown",
   "metadata": {},
   "source": [
    "## IV. Quality control.\n",
    "\n",
    "With our data frame prepared, we want to see if our dilution experiment worked.\n",
    "We plot the overall mean of the 14N and 15N quantifications and observe if we can recover our dilution series (15N),\n",
    "while keeping the analyte to be quantified at a constant level (14N).\n",
    "\n",
    "Since it comes in handy to simplify the data frame, we will only keep columns that contain a specific identifier, \n",
    "such as, \"Ratio\", \"Light\" or \"Heavy\". "
   ]
  },
  {
   "cell_type": "code",
   "execution_count": null,
   "metadata": {
    "dotnet_interactive": {
     "language": "fsharp"
    },
    "vscode": {
     "languageId": "polyglot-notebook"
    }
   },
   "outputs": [],
   "source": [
    "let sliceQuantColumns quantColID frame = \n",
    "    frame\n",
    "    |> Frame.filterCols (fun ck os -> ck |> String.contains (\".\" + quantColID))\n",
    "    |> Frame.mapColKeys (fun ck -> ck.Split('.') |> Array.item 0)\n",
    "\n",
    "// How did the data frame change, how did the column headers change?\n",
    "// get everything that had Ratio in the Name (eg WCGr_5F_1.Ratio), cut everything else & remove Ratio from Name \n",
    "let ratios = sliceQuantColumns \"Ratio\" finalRaw \n",
    "// get all columns with light \n",
    "let light  = sliceQuantColumns \"Quant_Light\" finalRaw\n",
    "// get all columns with heavy \n",
    "let heavy  = sliceQuantColumns \"Quant_Heavy\" finalRaw\n"
   ]
  },
  {
   "cell_type": "code",
   "execution_count": null,
   "metadata": {
    "dotnet_interactive": {
     "language": "fsharp"
    },
    "vscode": {
     "languageId": "polyglot-notebook"
    }
   },
   "outputs": [],
   "source": [
    "ratios\n",
    "|> printIndexedQProtData"
   ]
  },
  {
   "cell_type": "code",
   "execution_count": null,
   "metadata": {
    "dotnet_interactive": {
     "language": "fsharp"
    },
    "vscode": {
     "languageId": "polyglot-notebook"
    }
   },
   "outputs": [],
   "source": [
    "\n",
    "type PeptideIon = \n",
    "    {|\n",
    "        ProteinGroup    : string  \n",
    "        Synonyms        : string\n",
    "        StringSequence  : string\n",
    "        PepSequenceID   : int\n",
    "        Charge          : int\n",
    "        QProt           : Qprot\n",
    "    |}\n",
    "\n",
    "let createBoxPlot (qprot:Qprot) (f:Frame<PeptideIon,string>) = \n",
    "\n",
    "        f\n",
    "        |> Frame.filterRows (fun k s -> k.QProt = qprot)\n",
    "        |> Frame.getNumericCols\n",
    "        |> Series.map (fun k s -> \n",
    "            let x,y =\n",
    "                s\n",
    "                |> Series.values \n",
    "                |> Seq.map (fun values -> $\"{getDilutionFactor k}, {getGroupID k}\",values)\n",
    "                |> Seq.unzip\n",
    "            Chart.BoxPlot(X = x, Y = y, Orientation = StyleParam.Orientation.Vertical)\n",
    "            )\n",
    "        |> Series.values\n",
    "        |> Chart.combine\n",
    "        |> Chart.withYAxisStyle \"Ion intensity\"\n",
    "        |> Chart.withLegend(false)"
   ]
  },
  {
   "cell_type": "code",
   "execution_count": null,
   "metadata": {
    "dotnet_interactive": {
     "language": "fsharp"
    },
    "vscode": {
     "languageId": "polyglot-notebook"
    }
   },
   "outputs": [],
   "source": [
    "// specify QProt you want to have a look at\n",
    "filteredRatios\n",
    "|> createBoxPlot PS"
   ]
  },
  {
   "cell_type": "code",
   "execution_count": null,
   "metadata": {
    "dotnet_interactive": {
     "language": "fsharp"
    },
    "vscode": {
     "languageId": "polyglot-notebook"
    }
   },
   "outputs": [],
   "source": [
    "\n",
    "filteredRatios\n",
    "|> createBoxPlot CBB"
   ]
  },
  {
   "cell_type": "code",
   "execution_count": null,
   "metadata": {
    "dotnet_interactive": {
     "language": "fsharp"
    },
    "polyglot_notebook": {
     "kernelName": "fsharp"
    },
    "vscode": {
     "languageId": "polyglot-notebook"
    }
   },
   "outputs": [],
   "source": [
    "let createLineChart (qprot:Qprot) (groupID: string) (f:Frame<PeptideIon,string>) = \n",
    "\n",
    "        f\n",
    "        |> Frame.filterRows (fun k s -> k.QProt = qprot)\n",
    "        |> Frame.filterCols (fun ck s -> getGroupID ck = groupID)\n",
    "        |> Frame.transpose\n",
    "        |> Frame.getNumericCols\n",
    "        |> Series.map (fun k s -> \n",
    "            s\n",
    "            |> Series.observations\n",
    "            |> Seq.map (fun (k, v) -> getDilutionFactor k, v)\n",
    "            |> Chart.Line\n",
    "            |> Chart.withTraceInfo($\"{k.StringSequence}, {k.Charge}, {k.Synonyms}\")\n",
    "        )\n",
    "        |> Series.values\n",
    "        |> Chart.combine\n",
    "        |> Chart.withYAxisStyle \"Ion intensity\"\n",
    "        |> Chart.withSize(1600,900)"
   ]
  },
  {
   "cell_type": "code",
   "execution_count": null,
   "metadata": {
    "dotnet_interactive": {
     "language": "fsharp"
    },
    "polyglot_notebook": {
     "kernelName": "fsharp"
    },
    "vscode": {
     "languageId": "polyglot-notebook"
    }
   },
   "outputs": [],
   "source": [
    "filteredRatios\n",
    "|> createLineChart PS \"G1\""
   ]
  }
 ],
 "metadata": {
  "kernelspec": {
   "display_name": ".NET (C#)",
   "language": "C#",
   "name": ".net-csharp"
  },
  "language_info": {
   "file_extension": ".cs",
   "mimetype": "text/x-csharp",
   "name": "C#",
   "pygments_lexer": "csharp",
   "version": "9.0"
  },
  "orig_nbformat": 4
 },
 "nbformat": 4,
 "nbformat_minor": 2
}
