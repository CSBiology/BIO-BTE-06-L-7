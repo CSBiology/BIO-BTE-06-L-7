{
 "cells": [
  {
   "cell_type": "code",
   "execution_count": null,
   "metadata": {
    "dotnet_interactive": {
     "language": "fsharp"
    }
   },
   "outputs": [],
   "source": [
    "#r \"nuget: FSharp.Stats, 0.4.3\"\n",
    "#r \"nuget: BioFSharp, 1.2.0\"\n",
    "#r \"nuget: BioFSharp.IO, 1.2.0\"\n",
    "#r \"nuget: Plotly.NET, 4.2.0\"\n",
    "#r \"nuget: Deedle, 2.5.0\"\n",
    "#r \"nuget: Plotly.NET.Interactive, 4.2.0\"\n",
    "#r \"nuget: ARCtrl\"\n",
    "#r \"nuget: ARCtrl.NET, 1.0.5\"\n",
    "#r \"nuget: ARCtrl.QueryModel, 1.0.5\"\n",
    "\n",
    "open System.IO\n",
    "open FSharp.Stats\n",
    "open BioFSharp\n",
    "open Plotly.NET\n",
    "open Deedle\n",
    "open FSharpAux\n",
    "open ARCtrl\n",
    "open ARCtrl.NET\n",
    "open ARCtrl.QueryModel\n",
    "open ARCtrl.ISA\n"
   ]
  },
  {
   "cell_type": "markdown",
   "metadata": {},
   "source": [
    "# NB06d Absolute Quantification\n",
    "\n",
    "[![Binder](https://mybinder.org/badge_logo.svg)](https://mybinder.org/v2/gh/CSBiology/BIO-BTE-06-L-7/gh-pages?filepath=NB08c_Absolute_Quantification.ipynb)\n",
    "\n",
    "[Download Notebook](https://github.com/CSBiology/BIO-BTE-06-L-7/releases/download/NB08c/NB08c_Absolute_Quantification.ipynb)\n",
    "\n",
    "Finally, after careful peptide ion selection, quality control and assuring that our label efficiency allows accurate for quantifications, we can start to\n",
    "calculate protein abundancies. Since we start again by getting access to our data and its description, this notebook will start off familiar!\n",
    "\n",
    "## I. Reading the sample description\n",
    "\n",
    "As always: before we analyze our data, we will download and read the sample description provided by the experimentalist.\n"
   ]
  },
  {
   "cell_type": "code",
   "execution_count": null,
   "metadata": {
    "dotnet_interactive": {
     "language": "fsharp"
    }
   },
   "outputs": [],
   "source": [
    "let path = @\"..\\\"\n",
    "\n",
    "let arc = ARC.load path\n",
    "let i = arc.ISA.Value"
   ]
  },
  {
   "cell_type": "markdown",
   "metadata": {},
   "source": [
    "Next, we will prepare functions to look up parameters which might be needed for further calculations.\n",
    "If you compare this list to the one of note book *NB08a Data Access and Quality Control* you will find additional functions. We will need these functions\n",
    "in order to calculate the absolute abundances. \n"
   ]
  },
  {
   "cell_type": "code",
   "execution_count": null,
   "metadata": {
    "dotnet_interactive": {
     "language": "fsharp"
    }
   },
   "outputs": [],
   "source": [
    "let normalizeFileName (f: string) = if Path.HasExtension f then f else Path.ChangeExtension(f, \"wiff\")\n",
    "\n",
    "let getStrain (fileName: string) =\n",
    "    let fN = fileName |> normalizeFileName\n",
    "    i.ArcTables.CharacteristicsOf(fN,\"Cultivation\")\n",
    "        .WithName(\"strain\")\n",
    "        .[0]\n",
    "        .ValueText\n",
    "\n",
    "//\n",
    "let getExpressionLevel (fileName: string) =\n",
    "    let fN = fileName |> normalizeFileName \n",
    "    i.ArcTables.CharacteristicsOf(fN,\"Cultivation\")\n",
    "        .WithName(\"gene expression\")\n",
    "        .[0]\n",
    "        .ValueText\n",
    "\n",
    "// \n",
    "let getμgChlorophPerMlCult (fileName: string) =\n",
    "    let fN = fileName |> normalizeFileName\n",
    "    i.ArcTables.CharacteristicsOf(fN,\"Cultivation\")\n",
    "        .WithName(\"total chlorophyll concentration of culture#7\")\n",
    "        .[0]\n",
    "        .ValueText\n",
    "        |> float\n",
    "\n",
    "// \n",
    "let getCellCountPerMlCult (fileName: string) =\n",
    "    let fN = fileName |> normalizeFileName\n",
    "    i.ArcTables.CharacteristicsOf(fN,\"Cultivation\")\n",
    "        .WithName(\"cell concentration#6\")\n",
    "        .[0]\n",
    "        .ValueText\n",
    "        |> float\n",
    "\n",
    "// \n",
    "let getμgChlorophPerμlSample (fileName: string) =\n",
    "    let fN = fileName |> normalizeFileName\n",
    "    i.ArcTables.CharacteristicsOf(fN,\"Cultivation\")\n",
    "        .WithName(\"total chlorophyll of sample#12\")\n",
    "        .[0]\n",
    "        .ValueText\n",
    "        |> float\n",
    "        |> fun x -> x / 1000.\n",
    "// \n",
    "let getμgProtPerμlSample (fileName: string) =\n",
    "    let fN = fileName |> normalizeFileName\n",
    "    i.ArcTables.CharacteristicsOf(fN,\"Cultivation\")\n",
    "        .WithName(\"whole cell protein concentration of sample#11\")\n",
    "        .[0]\n",
    "        .ValueText\n",
    "        |> float\n",
    "        |> fun x -> x / 1000.\n",
    "\n",
    "//  \n",
    "let get15N_CBC_Amount (fileName: string) =\n",
    "    let fN = fileName |> normalizeFileName\n",
    "    i.ArcTables.ParametersOf(fN,\"Protein extraction\")\n",
    "        .WithName(\"15N Calvin-Benson cycle QconCAT mass\")\n",
    "        .[0]\n",
    "        .ValueText\n",
    "//\n",
    "let get15N_PS_Amount (fileName: string) =\n",
    "    let fN = fileName |> normalizeFileName\n",
    "    i.ArcTables.ParametersOf(fN,\"Protein extraction\")\n",
    "        .WithName(\"15N Photosynthesis QconCAT mass\")\n",
    "        .[0]\n",
    "        .ValueText\n",
    "//\n",
    "let getGroupID (fileName: string) =\n",
    "    let fN = fileName |> normalizeFileName\n",
    "    i.ArcTables.ParametersOf(fN,\"Protein extraction\")\n",
    "        .WithName(\"Group name\")\n",
    "        .[0]\n",
    "        .ValueText\n"
   ]
  },
  {
   "cell_type": "markdown",
   "metadata": {},
   "source": [
    "A quick execution to test the retrieval of data from the isa sample table:\n"
   ]
  },
  {
   "cell_type": "code",
   "execution_count": null,
   "metadata": {
    "dotnet_interactive": {
     "language": "fsharp"
    }
   },
   "outputs": [],
   "source": [
    "getStrain \"WCGr2_U1.wiff\"\n",
    "getExpressionLevel \"WCGr2_U1.wiff\"\n",
    "getμgChlorophPerMlCult \"WCGr2_U1.wiff\"\n",
    "getCellCountPerMlCult \"WCGr2_U1.wiff\"\n",
    "getμgChlorophPerμlSample \"WCGr2_U1.wiff\"\n",
    "getμgProtPerμlSample \"WCGr2_U1.wiff\"\n",
    "get15N_CBC_Amount \"WCGr2_U1.wiff\"\n",
    "get15N_PS_Amount \"WCGr2_U1.wiff\"\n",
    "getGroupID \"WCGr2_U1.wiff\"\n"
   ]
  },
  {
   "cell_type": "markdown",
   "metadata": {},
   "source": [
    "## II. Reading the data\n",
    "As promised, we start this notebook with the output of the previous analysis, this notebook assumes that the data from *NB06b Data Access and Quality Control* is stored in a .txt\n"
   ]
  },
  {
   "cell_type": "code",
   "execution_count": null,
   "metadata": {
    "dotnet_interactive": {
     "language": "fsharp"
    }
   },
   "outputs": [],
   "source": [
    "// Similarly to the previous notebook, we start by defining a type, modelling our qProteins. \n",
    "type Qprot = \n",
    "    | CBB\n",
    "    | PS \n",
    "\n",
    "// Finally we want to define a function that given a distinct Qprot,\n",
    "// returns the correct ISA lookup. (See: 'Reading the sample description')\n",
    "let initGetQProtAmount qProt =\n",
    "    match qProt with \n",
    "    | CBB -> get15N_CBC_Amount\n",
    "    | PS  -> get15N_PS_Amount\n",
    "\n",
    "type PeptideIon = \n",
    "    {|\n",
    "        ProteinGroup    : string  \n",
    "        Synonyms        : string\n",
    "        StringSequence  : string\n",
    "        PepSequenceID   : int\n",
    "        Charge          : int\n",
    "        QProt           : Qprot\n",
    "    |}\n",
    "\n",
    "//This is the filepath you chose in *NB08a Data Access and Quality Control*\n",
    "let filePath = @\"Your\\Path\\Here\"\n",
    "\n",
    "let qConcatDataFiltered =\n",
    "    Frame.ReadCsv(path = filePath,separators=\"\\t\")\n",
    "    // StringSequence is the peptide sequence\n",
    "    |> Frame.indexRowsUsing (fun os -> \n",
    "            let proteinGroup = os.GetAs<string>(\"ProteinGroup\")\n",
    "            let qprot = \n",
    "                match proteinGroup |> String.contains \"QProt_newCBB\", proteinGroup |> String.contains \"QProt_newPS\" with \n",
    "                | true, false  -> Some CBB\n",
    "                | false, true  -> Some PS \n",
    "                | _ -> None  \n",
    "            {|\n",
    "                ProteinGroup    = os.GetAs<string>(\"ProteinGroup\"); \n",
    "                Synonyms        = os.GetAs<string>(\"Synonym\")\n",
    "                StringSequence  = os.GetAs<string>(\"StringSequence\");\n",
    "                PepSequenceID   = os.GetAs<int>(\"PepSequenceID\");\n",
    "                Charge          = os.GetAs<int>(\"Charge\");\n",
    "                QProt           = qprot;\n",
    "            |}\n",
    "        )\n",
    "    |> Frame.filterRows (fun k s -> k.QProt.IsSome)\n",
    "    |> Frame.mapRowKeys (fun k -> {|k with QProt = k.QProt.Value|})\n",
    "\n",
    "let inline printIndexedQProtData (f: Frame<{| Charge: int; PepSequenceID: int; ProteinGroup: string; QProt: Qprot; StringSequence: string; Synonyms: string |},string>) =\n",
    "    f\n",
    "    |> Frame.mapRowKeys (fun k -> $\"{k.ProteinGroup},{k.Synonyms},{k.StringSequence},{k.PepSequenceID},{k.Charge},{k.QProt}\")\n",
    "    |> fun f -> f.Print()\n"
   ]
  },
  {
   "cell_type": "code",
   "execution_count": null,
   "metadata": {
    "dotnet_interactive": {
     "language": "fsharp"
    }
   },
   "outputs": [],
   "source": [
    "qConcatDataFiltered\n",
    "|> printIndexedQProtData\n"
   ]
  },
  {
   "cell_type": "markdown",
   "metadata": {},
   "source": [
    "## III. From Ratios to mol proteins per cell.\n",
    "\n",
    "Now we can use the extensive information stored in the sample sheet and map each quantified peptide ion passing\n",
    "the quality checks to an estimator for protein abundance! First we start off by defining a function to extract ratios:\n"
   ]
  },
  {
   "cell_type": "code",
   "execution_count": null,
   "metadata": {
    "dotnet_interactive": {
     "language": "fsharp"
    }
   },
   "outputs": [],
   "source": [
    "let sliceQuantColumns quantColID frame = \n",
    "    frame\n",
    "    |> Frame.filterCols (fun ck os -> ck |> String.contains (\".\" + quantColID))\n",
    "    |> Frame.mapColKeys (fun ck -> ck.Split('.') |> Array.item 0)\n"
   ]
  },
  {
   "cell_type": "markdown",
   "metadata": {},
   "source": [
    "Next up, we have to define a function, which maps the measured ratio and measured parameters to an quantification value.\n"
   ]
  },
  {
   "cell_type": "code",
   "execution_count": null,
   "metadata": {
    "dotnet_interactive": {
     "language": "fsharp"
    }
   },
   "outputs": [],
   "source": [
    "/// \n",
    "let calcAbsoluteAbundance μgChlorophPerMlCult cellCountPerMlCult μgChlorophPerμlSample μgProtPerμlSample μgQProtSpike molWeightQProt molWeightTargetProt ratio1415N =\n",
    "    let chlorophPerCell: float = μgChlorophPerMlCult / cellCountPerMlCult\n",
    "    let cellsPerμlSample = μgChlorophPerμlSample / chlorophPerCell\n",
    "    let μgProteinPerCell = μgProtPerμlSample / cellsPerμlSample\n",
    "    let molQProtSpike = μgQProtSpike * 10. ** -6. / molWeightQProt\n",
    "    let molProtIn50μgWCProt = ratio1415N * molQProtSpike\n",
    "    let molProtIn1μgWCProt = molProtIn50μgWCProt / 50.\n",
    "    let gTargetProtIn1μgWCProt = molWeightTargetProt * molProtIn1μgWCProt\n",
    "    let molProteinPerCell = molProtIn1μgWCProt * μgProteinPerCell\n",
    "    let proteinsPerCell = molProteinPerCell * 6.022 * 10. ** 23.\n",
    "    let attoMolProteinPerCell = molProteinPerCell * (10. ** 18.)\n",
    "    {|\n",
    "        MassTargetProteinInWCProtein    = gTargetProtIn1μgWCProt\n",
    "        ProteinsPerCell                 = proteinsPerCell\n",
    "        AttoMolProteinPerCell           = attoMolProteinPerCell\n",
    "    |}\n"
   ]
  },
  {
   "cell_type": "markdown",
   "metadata": {},
   "source": [
    "Inspecting the input parameters of 'calcAbsoluteAbundance' we can see that we need both, the molcular weight of the qProtein and of the \n",
    "native Protein. Since we have none at hand we will use our newly aquired skills to compute both and add them to the row key of our Frame. \n"
   ]
  },
  {
   "cell_type": "code",
   "execution_count": null,
   "metadata": {
    "dotnet_interactive": {
     "language": "fsharp"
    },
    "polyglot_notebook": {
     "kernelName": "fsharp"
    }
   },
   "outputs": [],
   "source": [
    "/// Fasta item contains header and sequence\n",
    "type FastaItem<'a> = {\n",
    "        Header    : string;\n",
    "        Sequence  : 'a;       \n",
    "    }\n",
    "\n",
    "/// Creates with header line and sequence.\n",
    "let createFastaItem header sequence =\n",
    "    { Header = header; Sequence = sequence }\n",
    "\n",
    "// Conditon of grouping lines\n",
    "let private same_group l =             \n",
    "    not (String.length l = 0 || l.[0] <> '>')\n",
    "\n",
    "/// Reads FastaItem from file. Converter determines type of sequence by converting seq<char> -> type\n",
    "let fromFileEnumerator (converter:seq<char>-> 'a) (fileEnumerator) =\n",
    "    // Matches grouped lines and concatenates them\n",
    "    let record d (converter:seq<char>-> 'a) = \n",
    "        match d with\n",
    "        | [] -> raise (System.Exception \"Incorrect FASTA format\")\n",
    "        | (h:string) :: t when h.StartsWith \">\" ->  let header = h .Remove(0,1)\n",
    "                                                    let sequence = (Seq.concat t) |> converter\n",
    "                                                    createFastaItem header sequence\n",
    "                                                    \n",
    "        | h :: _ -> raise (System.Exception \"Incorrect FASTA format\")        \n",
    "\n",
    "    // main\n",
    "    fileEnumerator\n",
    "    |> Seq.filter (fun (l:string) -> not (l.StartsWith \";\" || l.StartsWith \"#\"))\n",
    "    |> Seq.groupWhen same_group \n",
    "    |> Seq.map (fun l -> record (List.ofSeq l) converter)\n",
    "\n",
    "\n",
    "/// Reads FastaItem from file. Converter determines type of sequence by converting seq<char> -> type\n",
    "let fromFile converter (filePath) =\n",
    "    FSharpAux.IO.FileIO.readFile filePath\n",
    "    |> fromFileEnumerator converter"
   ]
  },
  {
   "cell_type": "code",
   "execution_count": null,
   "metadata": {
    "dotnet_interactive": {
     "language": "fsharp"
    }
   },
   "outputs": [],
   "source": [
    "let path = @\"..\\studies\\ProteinPreparation\\resources\\Chlamy_JGI5_5_Cp_Mp_QProt.fasta\"\n",
    "\n",
    "let examplePeptides = \n",
    "    fromFile (BioArray.ofAminoAcidString) path\n",
    "    |> Array.ofSeq\n"
   ]
  },
  {
   "cell_type": "markdown",
   "metadata": {},
   "source": [
    "First we find the sequences of the qProteins, calculate their masses and define a function to retrieve the calculated mass.\n"
   ]
  },
  {
   "cell_type": "code",
   "execution_count": null,
   "metadata": {
    "dotnet_interactive": {
     "language": "fsharp"
    }
   },
   "outputs": [],
   "source": [
    "let CBB = \n",
    "    examplePeptides \n",
    "    |> Seq.find (fun prot -> prot.Header |> String.contains \"QProt_newCBB2\")\n",
    "\n",
    "let CBBMass = \n",
    "    BioFSharp.BioSeq.toMonoisotopicMassWith (Formula.monoisoMass Formula.Table.H2O) CBB.Sequence\n",
    "\n",
    "let PS = \n",
    "    examplePeptides \n",
    "    |> Seq.find (fun prot -> prot.Header |> String.contains \"QProt_newPS\")\n",
    "\n",
    "let PSMass = \n",
    "    BioFSharp.BioSeq.toMonoisotopicMassWith (Formula.monoisoMass Formula.Table.H2O) PS.Sequence\n",
    "\n",
    "let getQProtMass qProt =\n",
    "    match qProt with \n",
    "    | CBB -> CBBMass\n",
    "    | PS  -> PSMass\n"
   ]
  },
  {
   "cell_type": "markdown",
   "metadata": {},
   "source": [
    "Then we repeat the process and assign the calculated masses to each protein.\n"
   ]
  },
  {
   "cell_type": "code",
   "execution_count": null,
   "metadata": {
    "dotnet_interactive": {
     "language": "fsharp"
    }
   },
   "outputs": [],
   "source": [
    "let withProteinWeights = \n",
    "    qConcatDataFiltered\n",
    "    /// For each row (peptide) in the frame...\n",
    "    |> Frame.mapRowKeys (fun k -> \n",
    "        let proteinsOfInterest = \n",
    "            k.ProteinGroup \n",
    "            |> String.split ';' \n",
    "            |> Array.filter (fun x -> x.Contains \"Cre\")\n",
    "        let masses = \n",
    "            proteinsOfInterest\n",
    "            /// ...we look up the matching protein sequence\n",
    "            |> Seq.choose (fun creID -> \n",
    "                examplePeptides \n",
    "                |> Seq.tryFind (fun prot -> prot.Header |> String.contains creID)\n",
    "                )\n",
    "            /// ... and calculate the protein masses        \n",
    "            |> Seq.map (fun prot -> \n",
    "                BioFSharp.BioSeq.toMonoisotopicMassWith (Formula.monoisoMass Formula.Table.H2O) prot.Sequence \n",
    "                )\n",
    "        let avgMass = if Seq.isEmpty masses then 0. else masses |> Seq.average\n",
    "        /// ... and add the average to the peptide.   \n",
    "        {|k with AverageProtGroupMass = avgMass|}\n",
    "        )\n",
    "\n",
    "let inline printIndexedQProtWeightData (f: Frame<{| AverageProtGroupMass: float; Charge: int; PepSequenceID: int; ProteinGroup: string; QProt: Qprot; StringSequence: string; Synonyms: string |},string>) =\n",
    "    f\n",
    "    |> Frame.mapRowKeys (fun k -> $\"{k.ProteinGroup},{k.Synonyms},{k.StringSequence},{k.PepSequenceID},{k.Charge},{k.QProt}, {k.AverageProtGroupMass}\")\n",
    "    |> fun f -> f.Print()"
   ]
  },
  {
   "cell_type": "markdown",
   "metadata": {},
   "source": [
    "With our newest update to our meta data (adding the masses to the rowkey), we can slice out the columns\n",
    "needed to calculate absolute abundances: the ratio columns.\n"
   ]
  },
  {
   "cell_type": "code",
   "execution_count": null,
   "metadata": {
    "dotnet_interactive": {
     "language": "fsharp"
    }
   },
   "outputs": [],
   "source": [
    "let ratios = sliceQuantColumns \"Ratio\" withProteinWeights\n"
   ]
  },
  {
   "cell_type": "code",
   "execution_count": null,
   "metadata": {
    "dotnet_interactive": {
     "language": "fsharp"
    }
   },
   "outputs": [],
   "source": [
    "ratios\n",
    "|> printIndexedQProtWeightData\n"
   ]
  },
  {
   "cell_type": "markdown",
   "metadata": {},
   "source": [
    "Finally, we can iterate the ratios and map each to a protein abundance using our well annotated experiment.\n"
   ]
  },
  {
   "cell_type": "code",
   "execution_count": null,
   "metadata": {
    "dotnet_interactive": {
     "language": "fsharp"
    }
   },
   "outputs": [],
   "source": [
    "//\n",
    "let absoluteAbundances  = \n",
    "    ratios\n",
    "    |> Frame.map (fun peptide filenName ratio -> \n",
    "        let μgChlorophPerMlCult     = getμgChlorophPerMlCult filenName\n",
    "        let cellCountPerMlCult      = getCellCountPerMlCult filenName\n",
    "        let μgChlorophPerμlSample   = getμgChlorophPerμlSample filenName\n",
    "        let μgProtPerμlSample       = getμgProtPerμlSample filenName\n",
    "        let μgQProtSpike            = initGetQProtAmount peptide.QProt filenName\n",
    "        let molWeightQProt          = getQProtMass peptide.QProt\n",
    "        let molWeightTargetProt     = peptide.AverageProtGroupMass\n",
    "        let result = \n",
    "            calcAbsoluteAbundance\n",
    "                μgChlorophPerMlCult  \n",
    "                cellCountPerMlCult   \n",
    "                μgChlorophPerμlSample\n",
    "                μgProtPerμlSample    \n",
    "                (float μgQProtSpike)         \n",
    "                molWeightQProt       \n",
    "                molWeightTargetProt\n",
    "                ratio\n",
    "        result.AttoMolProteinPerCell \n",
    "        )\n"
   ]
  },
  {
   "cell_type": "markdown",
   "metadata": {},
   "source": [
    "To see if our calculations are not off, we look at the calculated abundance for the well studied abundances of rbcL and RBCS\n",
    "and compare this to the published knowledge about these proteins.\n",
    "For this, we write a function that, given a protein synonym and a list of peptide sequences, returns a list of quantifications (via mean)\n",
    "and the estimated uncertainty (via standard deviation). The results can then be visualized using e.g. column charts.\n"
   ]
  },
  {
   "cell_type": "code",
   "execution_count": null,
   "metadata": {
    "dotnet_interactive": {
     "language": "fsharp"
    }
   },
   "outputs": [],
   "source": [
    "let extractAbsolutAbundancesOf prot peptidelist = \n",
    "    absoluteAbundances\n",
    "    |> Frame.filterRows (fun k s -> k.Synonyms |> String.contains prot)\n",
    "    |> Frame.filterRows (fun k s -> \n",
    "        peptidelist |> List.exists (fun (sequence,charge) -> sequence = k.StringSequence && charge = k.Charge)\n",
    "        )\n",
    "    |> Frame.getNumericCols \n",
    "    |> Series.filter (fun k s -> getExpressionLevel k = \"\")\n",
    "    |> Series.map (fun k v -> \n",
    "        {|\n",
    "            Filename   = k \n",
    "            MeanQuant  = Stats.mean v\n",
    "            StdevQuant = Stats.stdDev v\n",
    "        |}\n",
    "        )\n",
    "    |> Series.values\n",
    "\n",
    "let rbclQuantification = extractAbsolutAbundancesOf \"rbcL\" [\"DTDILAAFR\", 2; \"FLFVAEAIYK\", 2]\n",
    "let rbcsQuantification = extractAbsolutAbundancesOf \"RBCS\" [\"AFPDAYVR\", 2; \"LVAFDNQK\", 2]\n",
    "\n",
    "let protAbundanceChart =\n",
    "    [\n",
    "    Chart.Column(rbclQuantification |> Seq.map (fun x -> x.MeanQuant),rbclQuantification |> Seq.map (fun x -> x.Filename))\n",
    "    |> Chart.withYErrorStyle (Array = (rbclQuantification |> Seq.map (fun x -> x.StdevQuant)))\n",
    "    |> Chart.withTraceInfo \"rbcL\"\n",
    "    Chart.Column(rbcsQuantification |> Seq.map (fun x -> x.MeanQuant),rbcsQuantification |> Seq.map (fun x -> x.Filename))\n",
    "    |> Chart.withYErrorStyle (Array = (rbcsQuantification |> Seq.map (fun x -> x.StdevQuant)))\n",
    "    |> Chart.withTraceInfo \"RBCS\"\n",
    "    ]\n",
    "    |> Chart.combine\n",
    "    |> Chart.withTemplate ChartTemplates.light\n",
    "    |> Chart.withYAxisStyle \"protein abundance [amol/cell]\"\n",
    "\n",
    "protAbundanceChart\n"
   ]
  },
  {
   "cell_type": "markdown",
   "metadata": {},
   "source": [
    "Comparing this to the published results (see: https://www.frontiersin.org/articles/10.3389/fpls.2020.00868/full) we see that our preliminary results are\n",
    "not only in the same order of magnitude as the published values, but in many cases really close! Of course it could be that you see systematic differences between your results\n",
    "and published results. As data analysts it is now your task to estimate if the differences are the product of biology (e.g. different growth conditions or genetic background)\n",
    "or caused by technical artifacts (e.g. different amounts of spiked proteins, mistakes estimating a parameter like the cell count) which could be accounted for by developing\n",
    "normalization strategies. We look forward to read your explanations!\n"
   ]
  }
 ],
 "metadata": {
  "kernelspec": {
   "display_name": ".NET (C#)",
   "language": "C#",
   "name": ".net-csharp"
  },
  "langauge_info": {
   "file_extension": ".fs",
   "mimetype": "text/x-fsharp",
   "name": "C#",
   "pygments_lexer": "fsharp",
   "version": "4.5"
  },
  "language_info": {
   "name": "polyglot-notebook"
  },
  "polyglot_notebook": {
   "kernelInfo": {
    "defaultKernelName": "csharp",
    "items": [
     {
      "aliases": [],
      "name": "csharp"
     },
     {
      "aliases": [],
      "name": "fsharp"
     }
    ]
   }
  }
 },
 "nbformat": 4,
 "nbformat_minor": 1
}
