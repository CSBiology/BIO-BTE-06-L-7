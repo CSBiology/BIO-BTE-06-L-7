
        {
            "cells": [
          {
           "cell_type": "markdown",
           "metadata": {},
           
           "source": ["# JP11 Quantification\n",
"\n",
"[![Binder](https://mybinder.org/badge_logo.svg)](https://mybinder.org/v2/gh/CSBiology/BIO-BTE-06-L-7/gh-pages?filepath=JP11_Quantification.ipynb)\n",
"\n",
"1. [Quantification Theory](#Quantification-Theory)\u003cbr\u003e\n",
"    1. [Targeted quantification](#Targeted-quantification)\n",
"    2. [(i) Targeted acquisition at peptide](#(i)-Targeted-acquisition-at-peptide)\n",
"    3. [(ii) Targeted data analysis at peptide ion level](#(ii)-Targeted-data-analysis-at-peptide-ion-level)\n",
"2. [References](#References)\n",
"\n",
"## Quantification Theory\n",
"\u003ca href=\"#Quantification\" style=\"display: inline-block\"\u003e\u003csup\u003e\u0026#8593;back\u003c/sup\u003e\u003c/a\u003e\u003cbr\u003e\n",
"\u003ca href=\"#Quantification\" style=\"display: inline-block\"\u003e\u003csup\u003e\u0026#8593;back\u003c/sup\u003e\u003c/a\u003e\u003cbr\u003e\n",
"\n",
"\u003cdiv class=\"container\"\u003e\n",
"\u003cdiv class=\"container\"\u003e\n",
"To estimate the amount of individual proteins in complex mixtures, all peptide signals corresponding to a common protein serve as a \n",
"proxy for their abundance. Peptide information needs to be obtained from multidimensional signal data detected by the mass spectrometer. \n",
"All signals generated from one peptide ion species, often referred to as peptide feature, need to be grouped to form a three-dimensional peak \n",
"along the m/z, ion intensity, and retention time dimension. This process is generally defined as peak detection or feature detection. \n",
"Peak detection algorithms are a set of rules defining how neighboring signal points are joined. Whether noise filtering is done before or after \n",
"peak detection strongly depends on the peak detection algorithm. Traditional approaches mainly focused on signal amplitude neglecting \n",
"characteristic peak shapes as a common feature of chromatographic or spectroscopic peaks. These algorithms are prone to miss detection of low \n",
"intensity peaks with a signal strength close to the noise level. To overcome these issues, techniques like smoothing, shape-matching and curve \n",
"fitting are often implemented and applied. At the time, the most promising approach to do shape-matching and noise reduction in one step uses the \n",
"continuous wavelet transformation (CWT).\n",
"\n",
"In general, a CWT based approach describes a family of time-frequency-transformations often used in data compression and feature detection. \n",
"The term is coined by the use of a wavelet, as a basis function which is “compared” to the signal. The point of highest correlation between the \n",
"basis function and the signal reflects the location of the peak present. Due to the fact that MS derived peaks often follow the shape of a \n",
"gaussian distribution, the \u003ci\u003eMexican Hat\u003c/i\u003e wavelet as the negative normalized second derivative of the Gaussian distribution is perfectly \n",
"suited to find the peptide feature.\n",
"\n",
"\u003cdiv Id=\"figure5\" Style=\"float: right ; display: inline-block ; color: #44546a ; width: 70% ; padding: 15px\"\u003e\n",
"\u003cdiv Id=\"figure5\" Style=\"float: right ; display: inline-block ; color: #44546a ; width: 70% ; padding: 15px\"\u003e\n",
"    \u003cimg src=\"img/Wavelets.png\" Style=\"width: 100%\"\u003e\n",
"    \u003cdiv Style=\"padding-left: 1rem ; padding-right: 1rem ; text-align: justify ; font-size: 0.8rem\"\u003e\n",
"        \u003cb\u003eFigure 5: Schematic representation of the ‘Haar’-wavelet (blue) and the ‘Mexican Hat’- wavelet (green). \u003c/b\u003eThe ‘Haar’-wavelet is \n",
"        named after its discoverer Alfred Haar and represents the first wavelet ever to be described. The ‘Mexican Hat’- or ‘Ricker’-wavelet is \n",
"        frequently used in the fields of signal detection and compression.\n",
"    \u003c/div\u003e\n",
"\u003c/div\u003e    \n",
"\n",
"Depending on the quantification approach, the peptide features used for protein quantification might differ. In case of isotopic labeling, \n",
"quantification means pairing features with the proper mass shift according to the utilized label. It is essential to account for the frequency \n",
"of label incorporation when calculating the mass shift for the utilized label. Taking the ICAT method as an example, by which a heavy/light \n",
"difference of 9 Dalton per cysteine is incorporated, the total mass shift is 9 Dalton times the number of cysteine within the sequence. \n",
"Consequently, pairing peptide features for \u003csup\u003e15\u003c/sup\u003eN labeling is even more challenging, as the mass shift is less discrete. Using stable \n",
"isotope labeling, different peptide feature pairs belonging to the same protein can be treated as technical replicates and averaged to gain \n",
"protein quantification. In contrast, the sum of all extracted peptide signals results in a label-free protein quantiﬁcation. Spectral counting \n",
"computes abundance values from the number of times a peptide was successfully identiﬁed by tandem mass spectrometry (MS/MS) and combines all \n",
"these events per protein. The spectral counting values can be normalized by the number of peptides theoretically expected from the particular \n",
"protein. \n",
"\n",
"\u003cdiv Style=\"float: right ; display: inline-block ; color: #44546a ; width: 100% ; padding: 15px; max-width: 800px\"\u003e\n",
"\u003cdiv Style=\"float: right ; display: inline-block ; color: #44546a ; width: 100% ; padding: 15px; max-width: 800px\"\u003e\n",
"    \u003cimg src=\"img/ComputationalProteinQuantification.png\" Style=\"width: 100%\"\u003e\n",
"    \u003cdiv Style=\"padding-left: 1rem ; padding-right: 1rem ; text-align: justify ; font-size: 0.8rem\"\u003e\n",
"        \u003cb\u003eFigure 6: Computational strategy of peptide and protein quantiﬁcation on based on stable isotope labeling or by label-free \n",
"        quantiﬁcation.\u003c/b\u003e (A) Label-free methods compare corresponding peptide abundances over different MS runs. The abundance is either \n",
"        estimated by the elution proﬁle les of the pep de ions or (B) in case of spectral counting, by the number of times a peptide was \n",
"        successfully identiﬁed (MS2). In contrast, methods based on differential stable isotope labeling analyze peptides pairs detected by \n",
"        their characteristic mass diﬀerence Δm/z. The abundance is estimated by the ratio of their corresponding elution proﬁles (C). Isobaric \n",
"        tagging methods (D) compare the reporter ion abundances in the fragmentation spectrum.\n",
"    \u003c/div\u003e\n",
"\u003c/div\u003e\n",
"\n",
"\u003c/div\u003e\n",
"\u003c/div\u003e\n",
"\n",
"### Targeted quantification\n",
"\u003ca href=\"#Quantification\" style=\"display: inline-block\"\u003e\u003csup\u003e\u0026#8593;back\u003c/sup\u003e\u003c/a\u003e\u003cbr\u003e\n",
"\u003ca href=\"#Quantification\" style=\"display: inline-block\"\u003e\u003csup\u003e\u0026#8593;back\u003c/sup\u003e\u003c/a\u003e\u003cbr\u003e\n",
"\n",
"\u003cdiv class=\"container\"\u003e\n",
"\u003cdiv class=\"container\"\u003e\n",
"Targeted proteomics has gained significant popularity in mass spectrometry‐based protein quantification as a method to detect proteins of \n",
"interest with high sensitivity, quantitative accuracy and reproducibility. The two major strategies of (i) targeted acquisition at peptide, \n",
"and (ii) targeted data analysis at peptide ion level need to be distinguished.\n",
"\u003c/div\u003e\n",
"\n",
"###(i) Targeted acquisition at peptide\n",
"\u003ca href=\"#Quantification\" style=\"display: inline-block\"\u003e\u003csup\u003e\u0026#8593;back\u003c/sup\u003e\u003c/a\u003e\u003cbr\u003e\n",
"\u003ca href=\"#Quantification\" style=\"display: inline-block\"\u003e\u003csup\u003e\u0026#8593;back\u003c/sup\u003e\u003c/a\u003e\u003cbr\u003e\n",
"\n",
"\u003cdiv class=\"container\"\u003e\n",
"\u003cdiv class=\"container\"\u003e\n",
"In multiple reaction monitoring (MRM or SRM for single/selected reaction monitoring) simply predefined transitions are recorded. \n",
"Knowledge about the targeted transitions from precursor to their corresponding fragment ions are needed and predefined in the mass \n",
"spectrometer. MRM can be performed rapidly and is highly specific even for low abundant peptide ions in complex mixtures, but with the \n",
"drawback of a necessary bias in the sense that only predefined peptides are measured.\n",
"\u003c/div\u003e\n",
"\n",
"### (ii) Targeted data analysis at peptide ion level\n",
"\u003ca href=\"#Quantification\" style=\"display: inline-block\"\u003e\u003csup\u003e\u0026#8593;back\u003c/sup\u003e\u003c/a\u003e\u003cbr\u003e\n",
"\u003ca href=\"#Quantification\" style=\"display: inline-block\"\u003e\u003csup\u003e\u0026#8593;back\u003c/sup\u003e\u003c/a\u003e\u003cbr\u003e\n",
"\n",
"\u003cdiv class=\"container\"\u003e\n",
"\u003cdiv class=\"container\"\u003e\n",
"Data‐independent acquisition at the peptide level makes it possible to acquire peptide data for virtually all peptide ions present in a sample. \n",
"In this strategy, a high‐resolution mass analyzer—such as an orbitrap or a time‐of‐flight—is used to constantly sample the full mass range \n",
"at the peptide level during the entire chromatographic gradient. In a subsequent step, precursor ion chromatograms can be extracted by targeted \n",
"data analysis. Those extracted-ion chromatogram (XIC) can be obtained to calculate the area under the curve and used for peptide quantification.\n",
"\n",
"Let’s start and extract a XIC…\n",
"\u003c/div\u003e\n",
"\n"]
          }
,
          {
           "cell_type": "code",
           "metadata": {},
            "execution_count": 1, "outputs": [], 
           "source": ["#r \"nuget: FSharp.Stats, 0.4.0\"\n",
"#r \"nuget: BioFSharp, 2.0.0-beta5\"\n",
"#r \"nuget: BioFSharp.IO, 2.0.0-beta5\"\n",
"#r \"nuget: Plotly.NET, 2.0.0-beta6\"\n",
"#r \"nuget: System.Data.SQLite, 1.0.113.7\"\n",
"#r \"nuget: BioFSharp.Mz, 0.1.5-beta\"\n",
"#r \"nuget: MzIO, 0.1.0-beta\"\n",
"#r \"nuget: MzIO.SQL, 0.1.0-beta\"\n",
"#r \"nuget: MzIO.Processing, 0.1.0-beta\"\n",
"\n",
"#r \"nuget: Plotly.NET, 2.0.0-beta6\"\n",
"#r \"nuget: Plotly.NET.Interactive, 2.0.0-beta6\"\n",
"\n",
"open Plotly.NET\n",
"open FSharp.Stats\n",
"open BioFSharp\n",
"open System.IO\n",
"open System.Data.SQLite\n"]
          }
,
          {
           "cell_type": "markdown",
           "metadata": {},
           
           "source": ["\u003cdiv class=\"container\"\u003e\n",
"\u003cdiv class=\"container\"\u003e\n",
"We now want to extract the XIC for the peptide where we previously calculated the matching score.\n",
"\n",
"Since we need several mass spectrometry scans to quantify over the retention time, we connect to our database \n",
"and index the entries according to their retention time.\n",
"\u003c/div\u003e\n",
"\n"]
          }
,
          {
           "cell_type": "code",
           "metadata": {},
            "execution_count": 2, "outputs": [
          {
           "data": {
            "text/plain": ["No value returned by any evaluator"]
        },
           "execution_count": 2,
           "metadata": {},
           "output_type": "execute_result"
          }], 
           "source": ["// Code-Block 1\n",
"let directory = __SOURCE_DIRECTORY__\n",
"let path = Path.Combine[|__SOURCE_DIRECTORY__;\"../../AuxFiles/sample.mzlite\"|]\n",
"let runID = \"sample=0\"\n",
"\n",
"let mzReader = new MzIO.MzSQL.MzSQL(path)\n",
"let cn = mzReader.Open()\n",
"let transaction = mzReader.BeginTransaction()\n",
"\n",
"// Indexes all spectra of the related sample run\n",
"let idx = MzIO.Processing.Query.getMS1RTIdx mzReader runID\n",
"idx\n"]
          }
,
          {
           "cell_type": "markdown",
           "metadata": {},
           
           "source": ["\u003cdiv class=\"container\"\u003e\n",
"\u003cdiv class=\"container\"\u003e\n",
"\u003cb\u003eWe know from the MS\u003csup\u003e2\u003c/sup\u003e measurement, that our peptide had its match at a retention of around 51.95 min\u003c/b\u003e. We create a query \n",
"to the database to extract the intensities of all peaks that are +/-5 min of our retention time and within 0.04 m/z of our peptide of interest. \n",
"After we are done, we close the connection to the database.\n",
"\u003c/div\u003e\n",
"\n"]
          }
,
          {
           "cell_type": "code",
           "metadata": {},
            "execution_count": 3, "outputs": [
          {
           "data": {
            "text/plain": ["No value returned by any evaluator"]
        },
           "execution_count": 3,
           "metadata": {},
           "output_type": "execute_result"
          }], 
           "source": ["// Code-Block 2\n",
"\n",
"let retentionTime = 51.95\n",
"let mzAtCharge2   = 511.2691141\n",
"\n",
"let rtQuery = MzIO.Processing.Query.createRangeQuery retentionTime 5.\n",
"\n",
"let mzQuery = MzIO.Processing.Query.createRangeQuery mzAtCharge2 0.04\n",
"\n",
"let xic = \n",
"    MzIO.Processing.Query.getXIC mzReader idx rtQuery mzQuery  \n",
"    |\u003e Array.map (fun p -\u003e p.Rt , p.Intensity)\n",
"    \n",
"transaction.Dispose()\n",
"\n",
"let xicChart =\n",
"    xic\n",
"    |\u003e Chart.Point\n",
"    |\u003e Chart.withX_AxisStyle \"Retention Time\"\n",
"    |\u003e Chart.withY_AxisStyle \"Intensity/Score\"\n",
"    |\u003e Chart.withSize (900.,900.)\n"]
          }
,
          {
           "cell_type": "markdown",
           "metadata": {},
           
           "source": ["We have now the XIC in our hands and can use the second derivative to identify peaks with our trace.\n",
"\n"]
          }
,
          {
           "cell_type": "code",
           "metadata": {},
            "execution_count": 5, "outputs": [
          {
           "data": {
            "text/plain": ["No value returned by any evaluator"]
        },
           "execution_count": 5,
           "metadata": {},
           "output_type": "execute_result"
          }], 
           "source": ["// Code-Block 3\n",
"\n",
"// get all peaks\n",
"let peaks = \n",
"    xic\n",
"    |\u003e Array.unzip\n",
"    |\u003e (fun (ret, intensity) -\u003e\n",
"        FSharp.Stats.Signal.PeakDetection.SecondDerivative.getPeaks 0.1 2 13 ret intensity\n",
"        )\n",
"\n",
"peaks |\u003e Array.head\n"]
          }
,
          {
           "cell_type": "markdown",
           "metadata": {},
           
           "source": ["The peak model includes numerus information. Therefore we can mark the apices of the peaks we identified.\n",
"\n"]
          }
,
          {
           "cell_type": "code",
           "metadata": {},
            "execution_count": 6, "outputs": [
          {
           "data": {
            "text/plain": ["No value returned by any evaluator"]
        },
           "execution_count": 6,
           "metadata": {},
           "output_type": "execute_result"
          }], 
           "source": ["// Code-Block 4\n",
"\n",
"let apices =\n",
"    peaks\n",
"    |\u003e Array.map (fun peak -\u003e peak.Apex.XVal,peak.Apex.YVal)\n",
"\n",
"let apicesChart=\n",
"    [    \n",
"        Chart.Point(apices, Name=\"apices\")\n",
"        |\u003e Chart.withMarkerStyle(Size=15)\n",
"        Chart.Point(xic, Name = \"XIC\")\n",
"\n",
"    ]\n",
"    |\u003e Chart.Combine\n",
"    |\u003e Chart.withX_AxisStyle \"Retention Time\"\n",
"    |\u003e Chart.withY_AxisStyle \"Intensity\"\n",
"    |\u003e Chart.withSize (900.,900.)\n"]
          }
,
          {
           "cell_type": "markdown",
           "metadata": {},
           
           "source": ["We can then go ahead and characterize our peak and quantify the area under the fitted curve.\n",
"\n"]
          }
,
          {
           "cell_type": "code",
           "metadata": {},
            "execution_count": 8, "outputs": [
          {
           "data": {
            "text/plain": ["No value returned by any evaluator"]
        },
           "execution_count": 8,
           "metadata": {},
           "output_type": "execute_result"
          }], 
           "source": ["// Code-Block 5\n",
"\n",
"// get peak at \"ret=51.95\" from all peaks \"peaks\"\n",
"let quantifiedXIC = \n",
"    BioFSharp.Mz.Quantification.HULQ.getPeakBy peaks retentionTime\n",
"    // quantify peak of interest\n",
"    |\u003e BioFSharp.Mz.Quantification.HULQ.quantifyPeak \n",
"    \n",
"quantifiedXIC.Area\n"]
          }
,
          {
           "cell_type": "markdown",
           "metadata": {},
           
           "source": ["The peak model gives us all the information we need for our peptide of interest. If we want to see what we quantified, we can take an \n",
"exponential modified gaussian function using the parameters given by the peak model and plot it together with the previously extracted XIC.\n",
"\n"]
          }
,
          {
           "cell_type": "code",
           "metadata": {},
            "execution_count": 9, "outputs": [], 
           "source": ["// Code-Block 6\n",
"\n",
"let eval x = \n",
"    Fitting.NonLinearRegression.Table.emgModel.GetFunctionValue (vector quantifiedXIC.EstimatedParams) x\n",
"\n",
"eval\n"]
          }
,
          {
           "cell_type": "code",
           "metadata": {},
            "execution_count": 10, "outputs": [
          {
           "data": {
            "text/plain": ["No value returned by any evaluator"]
        },
           "execution_count": 10,
           "metadata": {},
           "output_type": "execute_result"
          }], 
           "source": ["// Code-Block 7\n",
"\n",
"let quantifiedArea =\n",
"    xic \n",
"    |\u003e Array.map (fun (rt,i) -\u003e rt, eval rt)\n",
"\n",
"let quantifiedAreaChart =\n",
"    [\n",
"        Chart.Point(xic,Name=\"XIC\")\n",
"        Chart.SplineArea(quantifiedArea,Name=\"quantified XIC\")\n",
"    ]\n",
"    |\u003e Chart.Combine\n",
"    |\u003e Chart.withX_AxisStyle (title = \"Retention Time\", MinMax = (51.,55.))\n",
"    |\u003e Chart.withY_AxisStyle \"Intensity\"\n",
"    |\u003e Chart.withSize (900.,900.)\n"]
          }
,
          {
           "cell_type": "markdown",
           "metadata": {},
           
           "source": ["\u003chr\u003e\n",
"\u003chr\u003e\n",
"\u003cnav class=\"level is-mobile\"\u003e\n",
"    \u003cdiv class=\"level-left\"\u003e\n",
"        \u003cdiv class=\"level-item\"\u003e\n",
"            \u003cbutton class=\"button is-primary is-outlined\" onclick=\"location.href=\u0027/JP10_Peptide_Identification.html\u0027;\"\u003eJP10 \u0026#187;\u003c/button\u003e\n",
"        \u003c/div\u003e\n",
"    \u003c/div\u003e\n",
"    \u003cdiv class=\"level-right\"\u003e\n",
"    \u003c/div\u003e\n",
"\u003c/nav\u003e\n",
"\n"]
          }],
            "metadata": {
            "kernelspec": {"display_name": ".NET (F#)", "language": "F#", "name": ".net-fsharp"},
            "langauge_info": {
        "file_extension": ".fs",
        "mimetype": "text/x-fsharp",
        "name": "C#",
        "pygments_lexer": "fsharp",
        "version": "4.5"
        }
        },
            "nbformat": 4,
            "nbformat_minor": 1
        }
        

