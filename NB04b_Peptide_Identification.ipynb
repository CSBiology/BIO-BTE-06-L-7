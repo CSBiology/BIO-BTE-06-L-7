
        {
            "cells": [
          {
           "cell_type": "markdown",
           "metadata": {},
           
           "source": ["# JP10 Peptide Identification\n",
"\n",
"[![Binder](https://mybinder.org/badge_logo.svg)](https://mybinder.org/v2/gh/CSBiology/BIO-BTE-06-L-7/gh-pages?filepath=JP10_Peptide_Identification.ipynb)\n",
"\n",
"\n",
"1. Understanding peptide identification from MS2 spectra\n",
"2. Matching and scoring of Tandem MS peptide identification\n",
"    3. Step 1: Data acquisition and preprocessing\n",
"    4. Step 2: Preselecting the peptides of interest\n",
"    5. Step 3+4: Matching and Scoring\n",
"\n",
"\n",
"## Understanding peptide identification from MS2 spectra\n",
"\n",
"Under low-energy fragmentation conditions, peptide fragment patterns are reproducible and, in general, predictable, which allows for an \n",
"amino acid sequence identification according to a fragmentation expectation. Algorithms for peptide identification perform in principle \n",
"three basic tasks:\n",
"\n",
"**(i)** a raw data preprocessing step is applied to the MS/MS spectra to obtain clean peak information. The same signal filtering \n",
"and background subtraction methods are used as discussed in the section of low-level processing. Peak detection, however, may be performed \n",
"differently. Preprocessing of MS/MS spectra focuses on the extraction of the precise m/z of the peak rather than the accurate peak areas. \n",
"The conversion of a peak profile into the corresponding m/z and intensity values reduces the complexity, its representation is termed centroiding. \n",
"To extract the masses for identification in a simple and fast way, peak fitting approaches are used. These approaches take either the most intense \n",
"point of the peak profile, fit a Lorentzian distribution to the profile, or use a quadratic fit. \n",
"\n",
"**(ii)** Spectrum information and possible amino acid sequences assignments are evaluated. \n",
"\n",
"**(iii)** The quality of the match between spectrum and possible sequences is scored.\n",
"\n",
"Even though the three steps roughly describe the basic principle of algorithms used for peptide sequence identification, most implementations \n",
"show differences in individual steps which can lead to major changes in the outcome. Therefore, it has been proven useful to utilize more than \n",
"one algorithm for a robust and thorough identification. Due to their major difference in identification strategies and prerequisites, \n",
"identification algorithms are normally classified into three categories: (i) *de novo* peptide sequencing, (ii) peptide sequence-tag (PST) \n",
"searching, and (iii) uninterpreted sequence searching. However, in this notebook we focus on the explanation of (iii) uninterpreted sequence \n",
"searching, the most frequently used methods.\n",
"\n",
"## Matching and scoring of Tandem MS peptide identification\n",
"\n",
"![](https://raw.githubusercontent.com/CSBiology/BIO-BTE-06-L-7/main/docs/img/ComputationalProteinIdentification.png)\n",
"\n",
"**Figure 5: Process of computational identification of peptides from their fragment spectra**\n",
"\n",
"Previously we learned, that peptides fragment to create patterns characteristic of a specific amino acid sequence. These patterns are reproducible and, in general, \n",
"predictable taking the applied fragmentation method into account. This can be used for computational identification of peptides from their fragment spectra. \n",
"This process can be subdivided into 5 main steps: spectrum preprocessing, selection of possible sequences, generating theoretical spectra, matching and scoring \n",
"(Figure 5). The first step is a preprocessing of the experimental spectra and is done to reduce noise. Secondly, all possible amino acid \n",
"sequences are selected which match the particular precursor peptide mass. The possible peptides can but do not need to be restricted to a particular organism. \n",
"A theoretical spectrum is predicted for each of these amino acid sequences. Matching and scoring is performed by comparing experimental spectra to their predicted \n",
"corresponding theoretical spectra. The score function measures the closeness of fit between the experimental acquired and theoretical spectrum. There are many \n",
"different score functions, which can be considered as the main reason of different identifications considering different identification algorithm. The most \n",
"natural score function is the cross correlation score (xcorr) used by the commercially available search tool SEQUEST. One of the reasons the xcorr is so \n",
"sensitive is because it involves a correction factor that assesses the background correlation for each acquired spectrum and the theoretically predicted \n",
"spectrum from sequences within a database. To compute this correction factor, a measure of similarity is calculated at different offsets between a preprocessed \n",
"mass spectrum and a theoretical spectrum. The final xcorr is then the correlation at zero offset minus the mean correlation from all the individual offsets.\n",
"\n",
"Thus, the correlation function measures the coherence of two signals by, in effect, translating one signal across the other. This can be mathematically \n",
"achieved using the formula for cross-correlation in the form for discrete input signals:\n",
"\n",
"***Equation 5***\n",
"\n",
"![](https://latex.codecogs.com/gif.latex?\\large\u0026space;R_{\\tau}\u0026space;=\u0026space;\\sum_{i=0}^{n-1}x_{i}\\cdot y_{i\u0026plus;\\tau})\n",
"\n",
"where x(i) is a peak of the reconstructed spectrum at position i and y(i) is a peak of the experimental spectrum. The displacement value 𝜏 \n",
"is the amount by which the signal is offset during the translation and is varied over a range of values. If two signals are the same, the correlation \n",
"function should have its maxima at 𝜏=0, where there is no offset. The average of the offset-correlation is seen as the average background correlation \n",
"and needs to be subtracted from the correlation at 𝜏=0. It follows: \n",
"\n",
"***Equation 6***\n",
"\n",
"![](https://latex.codecogs.com/gif.latex?xcorr\u0026space;=\u0026space;R_{0}\u0026space;-\u0026space;\\frac{(\\sum\u0026space;\\begin{matrix}\u0026space;\\tau=\u0026plus;offeset\\\\\u0026space;\\tau=-offeset\\end{matrix}R_{\\tau})}{2*offset\u0026plus;1})\n",
"\n",
"In practice many theoretical spectra have to be matched again a single experimental spectrum. Therefore, the calculation can be speed up by reformulating Equation 5 and Equation 6 and introduce a preprocessing step, which is independent of the predicted spectra.\n",
"\n",
"***Equation 7***\n",
"\n",
"![](https://latex.codecogs.com/gif.latex?xcorr\u0026space;=\u0026space;x_{0}\\cdot\u0026space;y_{0}\u0026space;-\u0026space;\\frac{(\\sum\u0026space;\\begin{matrix}\u0026space;\\tau=\u0026plus;offeset\\\\\u0026space;\\tau=-offeset\\end{matrix}x_{0}\\cdot\u0026space;y_{\\tau})}{2*offset\u0026plus;1})\n",
"\n",
"For the preprocessed experimental spectrum y\u0027 it follows:\n",
"\n",
"***Equation 8***\n",
"\n",
"![](https://latex.codecogs.com/gif.latex?xcorr\u0026space;=\u0026space;x_{0}\\cdot\u0026space;y`)\n",
"\n",
"where:\n",
"\n",
"***Equation 9***\n",
"\n",
"![](https://latex.codecogs.com/gif.latex?y\u0027\u0026space;=\u0026space;y_{0}\u0026space;-\u0026space;\\frac{(\\sum\u0026space;\\begin{matrix}\u0026space;\\tau=\u0026plus;offeset\\\\\u0026space;\\tau=-offeset\\end{matrix}x_{0}\\cdot\u0026space;y_{\\tau})}{2*offset\u0026plus;1})\n",
"\n",
"Matching a measured spectrum against chlamy database\n",
"\n"]
          }
,
          {
           "cell_type": "code",
           "metadata": {},
            "execution_count": 1, "outputs": [], 
           "source": ["#r \"nuget: BioFSharp, 2.0.0-beta4\"\n",
"#r \"nuget: BioFSharp.IO, 2.0.0-beta4\"\n",
"#r \"nuget: BioFSharp.Mz, 0.1.5-beta\"\n",
"#r \"nuget: Plotly.NET, 2.0.0-beta6\"\n",
"#r \"nuget: BIO-BTE-06-L-7_Aux, 0.0.1\"\n",
"\n",
"#r \"nuget: Plotly.NET, 2.0.0-beta6\"\n",
"#r \"nuget: Plotly.NET.Interactive, 2.0.0-beta6\"\n",
"\n",
"open Plotly.NET\n",
"open BioFSharp\n",
"open BioFSharp.Mz\n",
"open BIO_BTE_06_L_7_Aux.FS3_Aux\n",
"open System.IO\n"]
          }
,
          {
           "cell_type": "markdown",
           "metadata": {},
           
           "source": ["### Step 1: Data acquisition and preprocessing\n",
"\n",
"We load a single MS2 spectrum that is saved in a mgf file.\n",
"\n"]
          }
,
          {
           "cell_type": "code",
           "metadata": {},
            "execution_count": 2, "outputs": [
          {
           "data": {
            "text/plain": ["{ Parameters =",
"              map",
"                [(\"CHARGE\", \"2\"); (\"Id\", \"sample\");",
"                 (\"PRECURSORMZ\", \"511.2691141\");",
"                 (\"RawFile\", \"20180322MS_SHshift1514002\");",
"                 (\"SCANTIME\", \"51.95223333\"); (\"TITLE\", \"Exemplary MS2 Scan\");",
"                 (\"centroided\", \"True\")]",
"  Mass =",
"        [|112.036653; 120.080594; 130.046346; 153.062829; 157.109862; 158.092818;",
"          171.076774; 175.067784; 189.087923; 189.338845; 198.083737; 199.072418;",
"          201.124816; 211.144868; 217.082739; 219.109405; 227.174856; 229.120531;",
"          233.165312; 238.16277; 242.111545; 253.044327; 255.142393; 256.169969;",
"          260.12437; 268.091868; 270.07139; 272.085967; 279.059968; 280.158068;",
"          281.197142; 285.149895; 288.08612; 296.090984; 296.202063; 305.155873;",
"          314.098751; 315.094288; 322.006424; 322.192782; 323.185918; 332.111085;",
"          332.315692; 338.132174; 342.195319; 345.718946; 351.209137; 353.131429;",
"          358.185808; 359.153126; 366.12195; 375.242387; 376.194349; 381.174952;",
"          384.133931; 385.13565; 393.22419; 394.226541; 399.184537; 400.16638;",
"          403.14732; 413.239741; 417.196992; 417.300178; 427.184224; 427.323445;",
"          428.176669; 429.240034; 439.257781; 443.242876; 445.194799; 446.196081;",
"          447.234097; 453.230571; 453.768446; 457.230402; 462.822253; 464.260295;",
"          464.586884; 465.26462; 465.500733; 465.652119; 470.259918; 471.209786;",
"          479.273205; 480.256729; 484.275011; 485.269833; 494.262925; 502.262504;",
"          502.76579; 511.271366; 512.268119; 513.259484; 514.283629; 516.232954;",
"          523.264365; 526.253758; 530.272248; 531.274408; ...|]",
"  Intensity =",
"             [|253.0; 1118.0; 96.0; 943.0; 290.0; 781.0; 1540.0; 46.0; 12618.0;",
"               24.0; 233.0; 12520.0; 5369.0; 48.0; 10722.0; 318.0; 345.0; 1643.0;",
"               24.0; 24.0; 1283.0; 120.0; 72.0; 239.0; 120.0; 120.0; 300.0; 48.0;",
"               48.0; 72.0; 24.0; 96.0; 421.0; 588.0; 48.0; 1960.0; 15750.0;",
"               288.0; 24.0; 3545.0; 215.0; 29178.0; 24.0; 211.0; 599.0; 286.0;",
"               48.0; 24.0; 127.0; 72.0; 72.0; 208.0; 987.0; 190.0; 48.0; 72.0;",
"               9226.0; 728.0; 1443.0; 439.0; 141.0; 405.0; 6152.0; 23.0; 2033.0;",
"               24.0; 120.0; 96.0; 48.0; 432.0; 8936.0; 610.0; 577.0; 96.0; 72.0;",
"               120.0; 164.0; 35545.0; 24.0; 2098.0; 48.0; 24.0; 48.0; 139.0;",
"               478.0; 72.0; 362.0; 72.0; 208.0; 2302.0; 436.0; 166.0; 657.0;",
"               365.0; 170.0; 700.0; 24.0; 24.0; 654.0; 72.0; ...|] }"]
        },
           "execution_count": 2,
           "metadata": {},
           "output_type": "execute_result"
          }], 
           "source": ["// Code-Block 1\n",
"let directory = __SOURCE_DIRECTORY__\n",
"let path = Path.Combine[|directory;\"downloads/ms2sample.mgf\"|]\n",
"downloadFile path \"ms2sample.mgf\" \"bio-bte-06-l-7\"\n",
"\n",
"let ms2 = \n",
"    BioFSharp.IO.Mgf.readMgf path\n",
"    |\u003e List.head\n",
"    \n",
"ms2\n"]
          }
,
          {
           "cell_type": "markdown",
           "metadata": {},
           
           "source": ["Here, the spectrum is already centroidized as shown in *JP08_Centroidisation.ipynb* using the function \n",
"`msPeakPicking`. So we just visualize mass and intensity:\n",
"\n"]
          }
,
          {
           "cell_type": "code",
           "metadata": {},
            "execution_count": 3, "outputs": [
          {
           "data": {
            "text/html": ["\u003cdiv id=\"4655a808-e01b-4064-b939-effdc33a268e\" style=\"width: 600px; height: 600px;\"\u003e\u003c!-- Plotly chart will be drawn inside this DIV --\u003e\u003c/div\u003e",
"\u003cscript type=\"text/javascript\"\u003e",
"",
"            var renderPlotly_4655a808e01b4064b939effdc33a268e = function() {",
"            var fsharpPlotlyRequire = requirejs.config({context:\u0027fsharp-plotly\u0027,paths:{plotly:\u0027https://cdn.plot.ly/plotly-latest.min\u0027}}) || require;",
"            fsharpPlotlyRequire([\u0027plotly\u0027], function(Plotly) {",
"",
"            var data = [{\"type\":\"bar\",\"x\":[112.036653,120.080594,130.046346,153.062829,157.109862,158.092818,171.076774,175.067784,189.087923,189.338845,198.083737,199.072418,201.124816,211.144868,217.082739,219.109405,227.174856,229.120531,233.165312,238.16277,242.111545,253.044327,255.142393,256.169969,260.12437,268.091868,270.07139,272.085967,279.059968,280.158068,281.197142,285.149895,288.08612,296.090984,296.202063,305.155873,314.098751,315.094288,322.006424,322.192782,323.185918,332.111085,332.315692,338.132174,342.195319,345.718946,351.209137,353.131429,358.185808,359.153126,366.12195,375.242387,376.194349,381.174952,384.133931,385.13565,393.22419,394.226541,399.184537,400.16638,403.14732,413.239741,417.196992,417.300178,427.184224,427.323445,428.176669,429.240034,439.257781,443.242876,445.194799,446.196081,447.234097,453.230571,453.768446,457.230402,462.822253,464.260295,464.586884,465.26462,465.500733,465.652119,470.259918,471.209786,479.273205,480.256729,484.275011,485.269833,494.262925,502.262504,502.76579,511.271366,512.268119,513.259484,514.283629,516.232954,523.264365,526.253758,530.272248,531.274408,540.271182,541.269683,542.301782,550.245007,551.259267,554.142479,554.274614,556.318098,558.279137,558.3985,558.683698,559.333957,560.310053,565.310057,569.267126,575.531536,576.56209,577.350783,578.342469,584.290103,587.319537,593.299364,593.524966,594.304648,596.317768,596.42057,597.263876,599.31635,600.326716,601.317288,611.295671,611.406695,612.32997,629.321462,630.314525,637.323317,641.517339,654.354213,655.359643,656.416175,660.340675,663.300761,664.182845,665.333326,682.336088,688.250119,690.423762,690.733508,691.427002,695.410243,700.347824,701.328517,707.331578,724.428818,726.439443,732.43487,734.380513,744.453695,763.456062,770.45088,775.452194,787.463086,788.432043,802.950406,803.101507,804.589423,805.457347,806.453247,810.323167,811.65784,813.329727,815.46007,819.463982,828.849964,829.423713,830.442404,847.414598,847.63519,898.460976,906.520859,916.467903],\"y\":[253.0,1118.0,96.0,943.0,290.0,781.0,1540.0,46.0,12618.0,24.0,233.0,12520.0,5369.0,48.0,10722.0,318.0,345.0,1643.0,24.0,24.0,1283.0,120.0,72.0,239.0,120.0,120.0,300.0,48.0,48.0,72.0,24.0,96.0,421.0,588.0,48.0,1960.0,15750.0,288.0,24.0,3545.0,215.0,29178.0,24.0,211.0,599.0,286.0,48.0,24.0,127.0,72.0,72.0,208.0,987.0,190.0,48.0,72.0,9226.0,728.0,1443.0,439.0,141.0,405.0,6152.0,23.0,2033.0,24.0,120.0,96.0,48.0,432.0,8936.0,610.0,577.0,96.0,72.0,120.0,164.0,35545.0,24.0,2098.0,48.0,24.0,48.0,139.0,478.0,72.0,362.0,72.0,208.0,2302.0,436.0,166.0,657.0,365.0,170.0,700.0,24.0,24.0,654.0,72.0,1132.0,119.0,120.0,48.0,48.0,24.0,24.0,24.0,2500.0,23.0,24.0,228.0,416.0,48.0,72.0,132.0,72.0,68417.0,4148.0,177.0,154.0,72.0,24.0,24.0,24.0,24.0,24.0,24.0,24.0,288.0,507.0,24.0,48.0,1388.0,131.0,48.0,24.0,72.0,48.0,24.0,24.0,24.0,24.0,24.0,158.0,96.0,10941.0,24.0,1317.0,24.0,358.0,72.0,24.0,24.0,24.0,24.0,48.0,24.0,48.0,24.0,48.0,296.0,153.0,96.0,24.0,48.0,27770.0,2648.0,24.0,24.0,24.0,48.0,24.0,24.0,72.0,24.0,96.0,24.0,96.0,72.0,796.0],\"marker\":{}}];",
"            var layout = {};",
"            var config = {};",
"            Plotly.newPlot(\u00274655a808-e01b-4064-b939-effdc33a268e\u0027, data, layout, config);",
"});",
"            };",
"            if ((typeof(requirejs) !==  typeof(Function)) || (typeof(requirejs.config) !== typeof(Function))) {",
"                var script = document.createElement(\"script\");",
"                script.setAttribute(\"src\", \"https://cdnjs.cloudflare.com/ajax/libs/require.js/2.3.6/require.min.js\");",
"                script.onload = function(){",
"                    renderPlotly_4655a808e01b4064b939effdc33a268e();",
"                };",
"                document.getElementsByTagName(\"head\")[0].appendChild(script);",
"            }",
"            else {",
"                renderPlotly_4655a808e01b4064b939effdc33a268e();",
"            }",
"\u003c/script\u003e",
""]
        },
           "execution_count": 3,
           "metadata": {},
           "output_type": "execute_result"
          }], 
           "source": ["// Code-Block 2\n",
"\n",
"let ms2Chart = Chart.Column(ms2.Mass, ms2.Intensity)\n",
"ms2Chart\n"]
          }
,
          {
           "cell_type": "markdown",
           "metadata": {},
           
           "source": ["Now, we will preprocess the experimental spectrum from our example. This is on the one hand to reduce noise, but also to make \n",
"the measured spectrum more like the once we are able to simulate. \n",
"\n"]
          }
,
          {
           "cell_type": "code",
           "metadata": {},
            "execution_count": 5, "outputs": [
          {
           "data": {
            "text/html": ["\u003cdiv id=\"751a0861-e8fa-4fd3-a7e4-9f0069e47434\" style=\"width: 600px; height: 600px;\"\u003e\u003c!-- Plotly chart will be drawn inside this DIV --\u003e\u003c/div\u003e",
"\u003cscript type=\"text/javascript\"\u003e",
"",
"            var renderPlotly_751a0861e8fa4fd3a7e49f0069e47434 = function() {",
"            var fsharpPlotlyRequire = requirejs.config({context:\u0027fsharp-plotly\u0027,paths:{plotly:\u0027https://cdn.plot.ly/plotly-latest.min\u0027}}) || require;",
"            fsharpPlotlyRequire([\u0027plotly\u0027], function(Plotly) {",
"",
"            var data = [{\"type\":\"bar\",\"x\":[150.0,151.0,152.0,153.0,154.0,155.0,156.0,157.0,158.0,159.0,160.0,161.0,162.0,163.0,164.0,165.0,166.0,167.0,168.0,169.0,170.0,171.0,172.0,173.0,174.0,175.0,176.0,177.0,178.0,179.0,180.0,181.0,182.0,183.0,184.0,185.0,186.0,187.0,188.0,189.0,190.0,191.0,192.0,193.0,194.0,195.0,196.0,197.0,198.0,199.0,200.0,201.0,202.0,203.0,204.0,205.0,206.0,207.0,208.0,209.0,210.0,211.0,212.0,213.0,214.0,215.0,216.0,217.0,218.0,219.0,220.0,221.0,222.0,223.0,224.0,225.0,226.0,227.0,228.0,229.0,230.0,231.0,232.0,233.0,234.0,235.0,236.0,237.0,238.0,239.0,240.0,241.0,242.0,243.0,244.0,245.0,246.0,247.0,248.0,249.0,250.0,251.0,252.0,253.0,254.0,255.0,256.0,257.0,258.0,259.0,260.0,261.0,262.0,263.0,264.0,265.0,266.0,267.0,268.0,269.0,270.0,271.0,272.0,273.0,274.0,275.0,276.0,277.0,278.0,279.0,280.0,281.0,282.0,283.0,284.0,285.0,286.0,287.0,288.0,289.0,290.0,291.0,292.0,293.0,294.0,295.0,296.0,297.0,298.0,299.0,300.0,301.0,302.0,303.0,304.0,305.0,306.0,307.0,308.0,309.0,310.0,311.0,312.0,313.0,314.0,315.0,316.0,317.0,318.0,319.0,320.0,321.0,322.0,323.0,324.0,325.0,326.0,327.0,328.0,329.0,330.0,331.0,332.0,333.0,334.0,335.0,336.0,337.0,338.0,339.0,340.0,341.0,342.0,343.0,344.0,345.0,346.0,347.0,348.0,349.0,350.0,351.0,352.0,353.0,354.0,355.0,356.0,357.0,358.0,359.0,360.0,361.0,362.0,363.0,364.0,365.0,366.0,367.0,368.0,369.0,370.0,371.0,372.0,373.0,374.0,375.0,376.0,377.0,378.0,379.0,380.0,381.0,382.0,383.0,384.0,385.0,386.0,387.0,388.0,389.0,390.0,391.0,392.0,393.0,394.0,395.0,396.0,397.0,398.0,399.0,400.0,401.0,402.0,403.0,404.0,405.0,406.0,407.0,408.0,409.0,410.0,411.0,412.0,413.0,414.0,415.0,416.0,417.0,418.0,419.0,420.0,421.0,422.0,423.0,424.0,425.0,426.0,427.0,428.0,429.0,430.0,431.0,432.0,433.0,434.0,435.0,436.0,437.0,438.0,439.0,440.0,441.0,442.0,443.0,444.0,445.0,446.0,447.0,448.0,449.0,450.0,451.0,452.0,453.0,454.0,455.0,456.0,457.0,458.0,459.0,460.0,461.0,462.0,463.0,464.0,465.0,466.0,467.0,468.0,469.0,470.0,471.0,472.0,473.0,474.0,475.0,476.0,477.0,478.0,479.0,480.0,481.0,482.0,483.0,484.0,485.0,486.0,487.0,488.0,489.0,490.0,491.0,492.0,493.0,494.0,495.0,496.0,497.0,498.0,499.0,500.0,501.0,502.0,503.0,504.0,505.0,506.0,507.0,508.0,509.0,510.0,511.0,512.0,513.0,514.0,515.0,516.0,517.0,518.0,519.0,520.0,521.0,522.0,523.0,524.0,525.0,526.0,527.0,528.0,529.0,530.0,531.0,532.0,533.0,534.0,535.0,536.0,537.0,538.0,539.0,540.0,541.0,542.0,543.0,544.0,545.0,546.0,547.0,548.0,549.0,550.0,551.0,552.0,553.0,554.0,555.0,556.0,557.0,558.0,559.0,560.0,561.0,562.0,563.0,564.0,565.0,566.0,567.0,568.0,569.0,570.0,571.0,572.0,573.0,574.0,575.0,576.0,577.0,578.0,579.0,580.0,581.0,582.0,583.0,584.0,585.0,586.0,587.0,588.0,589.0,590.0,591.0,592.0,593.0,594.0,595.0,596.0,597.0,598.0,599.0,600.0,601.0,602.0,603.0,604.0,605.0,606.0,607.0,608.0,609.0,610.0,611.0,612.0,613.0,614.0,615.0,616.0,617.0,618.0,619.0,620.0,621.0,622.0,623.0,624.0,625.0,626.0,627.0,628.0,629.0,630.0,631.0,632.0,633.0,634.0,635.0,636.0,637.0,638.0,639.0,640.0,641.0,642.0,643.0,644.0,645.0,646.0,647.0,648.0,649.0,650.0,651.0,652.0,653.0,654.0,655.0,656.0,657.0,658.0,659.0,660.0,661.0,662.0,663.0,664.0,665.0,666.0,667.0,668.0,669.0,670.0,671.0,672.0,673.0,674.0,675.0,676.0,677.0,678.0,679.0,680.0,681.0,682.0,683.0,684.0,685.0,686.0,687.0,688.0,689.0,690.0,691.0,692.0,693.0,694.0,695.0,696.0,697.0,698.0,699.0,700.0,701.0,702.0,703.0,704.0,705.0,706.0,707.0,708.0,709.0,710.0,711.0,712.0,713.0,714.0,715.0,716.0,717.0,718.0,719.0,720.0,721.0,722.0,723.0,724.0,725.0,726.0,727.0,728.0,729.0,730.0,731.0,732.0,733.0,734.0,735.0,736.0,737.0,738.0,739.0,740.0,741.0,742.0,743.0,744.0,745.0,746.0,747.0,748.0,749.0,750.0,751.0,752.0,753.0,754.0,755.0,756.0,757.0,758.0,759.0,760.0,761.0,762.0,763.0,764.0,765.0,766.0,767.0,768.0,769.0,770.0,771.0,772.0,773.0,774.0,775.0,776.0,777.0,778.0,779.0,780.0,781.0,782.0,783.0,784.0,785.0,786.0,787.0,788.0,789.0,790.0,791.0,792.0,793.0,794.0,795.0,796.0,797.0,798.0,799.0,800.0,801.0,802.0,803.0,804.0,805.0,806.0,807.0,808.0,809.0,810.0,811.0,812.0,813.0,814.0,815.0,816.0,817.0,818.0,819.0,820.0,821.0,822.0,823.0,824.0,825.0,826.0,827.0,828.0,829.0,830.0,831.0,832.0,833.0,834.0,835.0,836.0,837.0,838.0,839.0,840.0,841.0,842.0,843.0,844.0,845.0,846.0,847.0,848.0,849.0,850.0,851.0,852.0,853.0,854.0,855.0,856.0,857.0,858.0,859.0,860.0,861.0,862.0,863.0,864.0,865.0,866.0,867.0,868.0,869.0,870.0,871.0,872.0,873.0,874.0,875.0,876.0,877.0,878.0,879.0,880.0,881.0,882.0,883.0,884.0,885.0,886.0,887.0,888.0,889.0,890.0,891.0,892.0,893.0,894.0,895.0,896.0,897.0,898.0,899.0,900.0,901.0,902.0,903.0,904.0,905.0,906.0,907.0,908.0,909.0,910.0,911.0,912.0,913.0,914.0,915.0,916.0,917.0,918.0,919.0,920.0,921.0,922.0,923.0,924.0,925.0,926.0,927.0,928.0,929.0,930.0,931.0,932.0,933.0,934.0,935.0,936.0,937.0,938.0,939.0,940.0,941.0,942.0,943.0,944.0,945.0,946.0,947.0,948.0,949.0,950.0,951.0,952.0,953.0,954.0,955.0,956.0,957.0,958.0,959.0,960.0,961.0,962.0,963.0,964.0,965.0,966.0,967.0,968.0,969.0,970.0,971.0,972.0,973.0,974.0,975.0,976.0,977.0,978.0,979.0,980.0,981.0,982.0,983.0,984.0,985.0,986.0,987.0,988.0,989.0,990.0,991.0,992.0,993.0,994.0,995.0,996.0,997.0,998.0,999.0,1000.0],\"y\":[0.0,0.0,0.0,0.27337612598926253,0.0,0.0,0.0,0.15160158343975957,0.24878847350521868,0.0,0.0,0.0,0.0,0.0,0.0,0.0,0.0,0.0,0.0,0.0,0.0,0.34935350023278844,0.0,0.0,0.0,0.06037868557084755,0.0,0.0,0.0,0.0,0.0,0.0,0.0,0.0,0.0,0.0,0.0,0.0,0.0,1.0,0.0,0.0,0.0,0.0,0.0,0.0,0.0,0.0,0.135888498201918,0.9961090891478508,0.0,0.6523061009421568,0.0,0.0,0.0,0.0,0.0,0.0,0.0,0.0,0.0,0.061677300492975595,0.0,0.0,0.0,0.0,0.0,0.9218125996394375,0.0,0.158751668492548,0.0,0.0,0.0,0.0,0.0,0.0,0.0,0.16535384039832446,0.0,0.3608473499335057,0.0,0.0,0.0,0.043612437423863434,0.0,0.0,0.0,0.0,0.03903600291794133,0.0,0.0,0.0,0.28541253907338665,0.0,0.0,0.0,0.0,0.0,0.0,0.0,0.0,0.0,0.0,0.08728715609439695,0.0,0.06761234037828133,0.12318523927241923,0.0,0.0,0.0,0.08728715609439695,0.0,0.0,0.0,0.0,0.0,0.0,0.0,0.08728715609439695,0.0,0.13801311186847087,0.0,0.05520524474738834,0.0,0.0,0.0,0.0,0.0,0.0,0.05520524474738834,0.06761234037828133,0.03903600291794133,0.0,0.0,0.0,0.07807200583588265,0.0,0.0,0.16349360455430278,0.0,0.0,0.0,0.0,0.0,0.0,0.0,0.19321835661585918,0.0,0.0,0.0,0.0,0.0,0.0,0.0,0.0,0.35276684147527876,0.0,0.0,0.0,0.0,0.0,0.0,0.0,0.0,1.0,0.13522468075656266,0.0,0.0,0.0,0.0,0.0,0.0,0.34856225757471154,0.08584034807397452,0.0,0.0,0.0,0.0,0.0,0.0,0.0,0.0,1.0,0.0,0.0,0.0,0.0,0.0,0.08503808422945165,0.0,0.0,0.0,0.1432800258579567,0.0,0.0,0.0,0.09900457335534474,0.0,0.0,0.0,0.0,0.040559524856061305,0.0,0.028679915067425277,0.0,0.0,0.0,0.0,0.0659741951103139,0.049675070053540764,0.0,0.0,0.0,0.0,0.0,0.0,0.049675070053540764,0.0,0.0,0.0,0.0,0.0,0.0,0.0,0.0,0.08443138384736432,0.18392078689016686,0.0,0.0,0.0,0.0,0.08069544864597337,0.0,0.0,0.040559524856061305,0.049675070053540764,0.0,0.0,0.0,0.0,0.0,0.0,0.0,0.5623140891242276,0.15795665552401839,0.0,0.0,0.0,0.0,0.2223849565225085,0.12266043489253259,0.0,0.0,0.06951552329238431,0.0,0.0,0.0,0.0,0.0,0.0,0.0,0.0,0.0,0.10674271682885472,0.0,0.0,0.0,0.41602449693608357,0.0,0.0,0.0,0.0,0.0,0.0,0.0,0.0,0.0,0.23915498070652122,0.05810337555313089,0.051969238983600036,0.0,0.0,0.0,0.0,0.0,0.0,0.0,0.0,0.0,0.036747801298407864,0.0,0.0,0.0,0.11024340389522361,0.0,0.5013976807549302,0.1310013159255656,0.12740857174969078,0.0,0.0,0.0,0.0,0.0,0.051969238983600036,0.04500668117514221,0.0,0.0,0.05810337555313089,0.0,0.0,0.0,0.0,0.0,0.06792547197171198,1.0,0.24294808639401777,0.036747801298407864,0.0,0.0,0.0,0.036747801298407864,0.06253427812294066,0.0,0.0,0.0,0.0,0.0,0.0,0.0,0.11596440099657683,0.04500668117514221,0.0,0.0,0.0,0.10091716135614548,0.04500668117514221,0.0,0.0,0.0,0.0,0.0,0.0,0.0,0.0,0.2884441020371191,0.0,0.0,0.0,0.0,0.0,0.0,0.0,0.9595832428716125,0.417612260356422,0.0,0.0,0.0,0.0,0.0,0.0,0.0,0.25768197453450253,0.5126402247190519,0.382099463490856,0.260768096208106,0.0,0.529150262212918,0.0,0.0,0.0,0.0,0.0,0.0,0.09797958971132711,0.0,0.0,0.09797958971132711,0.0,0.0,0.0,0.5114684741017769,0.1697056274847714,0.0,0.0,0.0,0.0,0.0,0.0,0.0,0.0,0.6729041536504289,0.2181742422927143,0.21908902300206645,0.0,0.0,0.0,0.0,0.0,0.0,0.0,0.13856406460551018,0.13856406460551018,0.0,0.0,0.09797958971132711,0.0,0.09797958971132711,0.0,1.0,0.30199337741083,0.4079215610874228,0.0,0.0,0.0,0.0,0.13856406460551018,0.0,0.0,0.0,0.1697056274847714,0.0,0.0,0.0,0.0,0.0,0.0,0.04392431041942429,1.0,0.24622795625176258,0.0,0.0,0.0,0.0,0.0,0.0508633100716328,0.0,0.0,0.047443677697443905,0.0,0.0,0.0,0.0,0.0,0.032440253158595854,0.018729388893694923,0.0,0.018729388893694923,0.018729388893694923,0.0,0.018729388893694923,0.018729388893694923,0.06488050631719171,0.0,0.0,0.0,0.0,0.0,0.0,0.0,0.0,0.0,0.08608390631237597,0.02648735578842338,0.0,0.0,0.0,0.0,0.0,0.0,0.0,0.0,0.0,0.0,0.0,0.0,0.0,0.0,0.0,0.0,0.142433688015949,0.04375761414285301,0.0,0.0,0.0,0.0,0.0,0.0,0.02648735578842338,0.0,0.0,0.0,0.0,0.018729388893694923,0.0,0.0,0.0,0.0,0.0,0.0,0.0,0.0,0.0,0.0,0.0,0.032440253158595854,0.02648735578842338,0.018729388893694923,0.0,0.0,0.0,0.046835710387268824,0.0,0.0,0.046835710387268824,0.046835710387268824,0.046835710387268824,0.0,0.0,0.0,0.0,0.0,0.0,0.0,0.0,0.0,0.0,0.0,0.0,0.0,0.0,0.0,0.0,0.12017109942041306,0.0,0.0,0.0,0.0,0.0,0.09367142077453765,0.0,1.0,0.34694799212630073,0.0,0.0,0.0,0.046835710387268824,0.0,0.0,0.0,0.0,0.18088935254710767,0.08112182999933101,0.0,0.0,0.0,0.0,0.0,0.046835710387268824,0.0,0.0,0.0,0.0,0.0,0.0,0.0,0.0,0.0,0.0,0.0,0.0,0.0,0.0,0.0,0.0,0.046835710387268824,0.0,0.046835710387268824,0.0,0.0,0.0,0.0,0.0,0.046835710387268824,0.0,0.06623569683305401,0.0,0.0,0.0,0.0,0.0,0.0,0.0,0.0,0.0,0.046835710387268824,0.0,0.0,0.0,0.0,0.0,0.0,0.0,0.0,0.0,0.0,0.0,0.0,0.0,0.0,0.0,0.0,0.0,0.0,0.041575040294786765,0.0,0.0,0.0,0.0,0.0,0.0,0.02939799292054768,0.0,0.0,0.0,0.0,0.041575040294786765,0.0,0.0,0.0,0.0,0.0,0.0,0.0,0.0,0.0,0.0,0.0,0.10324235814656882,0.07422629366975118,0.0,0.0,0.0,0.0,0.0,0.0,0.0,0.0,0.0,0.0,0.0,0.0,0.0,0.0,0.05879598584109536,0.0,1.0,0.3087955623317933,0.0,0.0,0.0,0.02939799292054768,0.0,0.02939799292054768,0.02939799292054768,0.0,0.041575040294786765,0.0,0.0,0.0,0.02939799292054768,0.0,0.0,0.0,0.0,0.0,0.0,0.0,0.0,0.0,0.050918817378938754,0.5,0.0,0.0,0.0,0.0,0.0,0.0,0.0,0.0,0.0,0.0,0.0,0.0,0.0,0.0,0.0,0.0,1.0,0.5,0.0,0.0,0.0,0.0,0.0,0.0,0.0,0.0,0.0,0.0,0.0,0.0,0.0,0.0,0.0,0.0,0.0,0.0,0.0,0.0,0.0,0.0,0.0,0.0,0.0,0.0,0.0,0.0,0.0,0.0,0.0,0.0,0.0,0.0,0.0,0.0,0.0,0.0,0.0,0.0,0.0,0.0,0.0,0.0,0.0,0.0,0.0,0.0,0.0,1.0,0.0,0.0,0.0,0.0,0.0,0.0,0.0,0.0,0.8660254037844386,0.0,0.0,0.0,0.0,0.0,0.0,0.0,0.0,1.0,0.0,0.0,0.0,0.0,0.0,0.0,0.0,0.0,0.0,0.0,0.0,0.0,0.0,0.0,0.0,0.0,0.0,0.0,0.0,0.0,0.0,0.0,0.0,0.0,0.0,0.0,0.0,0.0,0.0,0.0,0.0,0.0,0.0,0.0,0.0,0.0,0.0,0.0,0.0,0.0,0.0,0.0,0.0,0.0,0.0,0.0,0.0,0.0,0.0,0.0,0.0,0.0,0.0,0.0,0.0,0.0,0.0,0.0,0.0,0.0,0.0,0.0,0.0,0.0,0.0,0.0,0.0,0.0,0.0,0.0,0.0,0.0,0.0,0.0,0.0,0.0,0.0,0.0,0.0,0.0,0.0,0.0,0.0],\"marker\":{}}];",
"            var layout = {};",
"            var config = {};",
"            Plotly.newPlot(\u0027751a0861-e8fa-4fd3-a7e4-9f0069e47434\u0027, data, layout, config);",
"});",
"            };",
"            if ((typeof(requirejs) !==  typeof(Function)) || (typeof(requirejs.config) !== typeof(Function))) {",
"                var script = document.createElement(\"script\");",
"                script.setAttribute(\"src\", \"https://cdnjs.cloudflare.com/ajax/libs/require.js/2.3.6/require.min.js\");",
"                script.onload = function(){",
"                    renderPlotly_751a0861e8fa4fd3a7e49f0069e47434();",
"                };",
"                document.getElementsByTagName(\"head\")[0].appendChild(script);",
"            }",
"            else {",
"                renderPlotly_751a0861e8fa4fd3a7e49f0069e47434();",
"            }",
"\u003c/script\u003e",
""]
        },
           "execution_count": 5,
           "metadata": {},
           "output_type": "execute_result"
          }], 
           "source": ["// Code-Block 3\n",
"\n",
"let lowerScanLimit = 150.\n",
"let upperScanLimit = 1000.\n",
"\n",
"let preprocessedIntesities =\n",
"    Mz.PeakArray.zip ms2.Mass ms2.Intensity\n",
"    |\u003e (fun pa -\u003e Mz.PeakArray.peaksToNearestUnitDaltonBinVector pa lowerScanLimit upperScanLimit)\n",
"    |\u003e (fun pa -\u003e Mz.SequestLike.windowNormalizeIntensities pa 10)\n",
"    \n",
"let intensityChart = Chart.Column([lowerScanLimit .. upperScanLimit], preprocessedIntesities)\n",
"intensityChart\n"]
          }
,
          {
           "cell_type": "markdown",
           "metadata": {},
           
           "source": ["### Step 2: Preselecting the peptides of interest\n",
"\n",
"Every MS2 spectrum is accompanied by a m/z ratio reported by the instrument. Additionally, we can estimate the charge looking \n",
"at the isotopic cluster. We take the peptide \"DTDILAAFR\" from our previous notebook again. Our example has a measured m/z = 511.2691141 and \n",
"a charge of z=2.\n",
"\n"]
          }
,
          {
           "cell_type": "code",
           "metadata": {},
            "execution_count": 7, "outputs": [
          {
           "data": {
            "text/plain": ["1020.523675"]
        },
           "execution_count": 7,
           "metadata": {},
           "output_type": "execute_result"
          }], 
           "source": ["let peptideMass = \n",
"    Mass.ofMZ 511.2691141 2.\n",
"\n",
"peptideMass\n"]
          }
,
          {
           "cell_type": "markdown",
           "metadata": {},
           
           "source": ["From our previos notebook *JP04_Digestion_and_mass_calculation.ipynb*, we know how to \n",
"calculate all peptide masses that we can expect to be present in *Chlamydomonas reinhardtii*.\n",
"\n"]
          }
,
          {
           "cell_type": "code",
           "metadata": {},
            "execution_count": 8, "outputs": [
          {
           "data": {
            "text/plain": ["([Asp; Leu; His; Pro; Leu; Leu; Thr; Ser; Leu; Pro; Thr; Lys; Pro; Gly; Ser; Ala;",
"  Ala; Thr; Pro; Tyr; Thr; Thr; Thr; Gln; Ser; Pro; Pro; Ser; Thr; Thr; Leu; Ser;",
"  Ter], 3279.687453)"]
        },
           "execution_count": 8,
           "metadata": {},
           "output_type": "execute_result"
          }], 
           "source": ["// Code-Block 4\n",
"let path2 = Path.Combine[|directory;\"downloads/Chlamy_JGI5_5(Cp_Mp).fasta\"|]\n",
"downloadFile path2 \"Chlamy_JGI5_5(Cp_Mp).fasta\" \"bio-bte-06-l-7\"\n",
"\n",
"let peptideAndMasses = \n",
"    path2\n",
"    |\u003e IO.FastA.fromFile BioArray.ofAminoAcidString\n",
"    |\u003e Seq.toArray\n",
"    |\u003e Array.mapi (fun i fastAItem -\u003e\n",
"        Digestion.BioArray.digest Digestion.Table.Trypsin i fastAItem.Sequence\n",
"        |\u003e Digestion.BioArray.concernMissCleavages 0 0\n",
"        )\n",
"    |\u003e Array.concat\n",
"    |\u003e Array.map (fun peptide -\u003e\n",
"        // calculate mass for each peptide\n",
"        peptide.PepSequence, BioSeq.toMonoisotopicMassWith (BioItem.monoisoMass ModificationInfo.Table.H2O) peptide.PepSequence\n",
"        )\n",
"\n",
"peptideAndMasses |\u003e Array.head\n"]
          }
,
          {
           "cell_type": "markdown",
           "metadata": {},
           
           "source": ["However, we are only interest in possible amino acid sequences, that match the particular precursor peptide mass of our example spectrum \n",
"with 1020.523675 Da. Additionaly, we should also consider a small measurement error.\n",
"\n"]
          }
,
          {
           "cell_type": "code",
           "metadata": {},
            "execution_count": 9, "outputs": [
          {
           "data": {
            "text/plain": ["[|([Leu; Ser; Ser; Glu; Val; Pro; Phe; Ser; Arg], 1020.52401);",
"  ([Leu; Ser; Ser; Glu; Val; Pro; Phe; Ser; Arg], 1020.52401);",
"  ([Ala; Ala; Thr; Thr; Ala; Thr; Met; Leu; Asn; Lys], 1020.527381);",
"  ([Leu; Gly; Ala; Leu; Glu; Ala; Glu; Tyr; Arg], 1020.52401);",
"  ([Ser; Leu; Ile; Gly; Asp; Asp; Phe; Val; Arg], 1020.52401);",
"  ([Gly; Glu; Glu; Leu; Leu; Ser; Ala; Phe; Arg], 1020.52401);",
"  ([Thr; Thr; Pro; Tyr; Gly; Val; Val; Glu; Arg], 1020.52401);",
"  ([Val; Asp; Phe; Thr; Asn; Ala; Asn; Leu; Lys], 1020.52401);",
"  ([Leu; Tyr; Ala; Ala; Asp; Gly; Asn; Ala; Val; Lys], 1020.52401);",
"  ([Asp; Val; Leu; Thr; Trp; Tyr; Pro; Lys], 1020.528032);",
"  ([Glu; Tyr; Gln; Ala; Glu; Leu; Leu; Arg], 1020.52401);",
"  ([Phe; Ala; Gln; Gly; Ala; Asp; Ala; Thr; Ile; Lys], 1020.52401);",
"  ([Asp; Phe; Val; Glu; Val; Val; Ser; Ala; Arg], 1020.52401);",
"  ([Gln; Asn; Ile; Phe; Pro; Thr; Ser; Ser; Lys], 1020.52401);",
"  ([Ala; Val; Gln; Leu; Tyr; Asp; Gln; Gly; Lys], 1020.52401);",
"  ([Val; Val; Asp; Leu; Ser; Ala; Asp; Phe; Arg], 1020.52401);",
"  ([Gly; Ser; Thr; Tyr; Gly; Gln; Pro; Ala; Leu; Lys], 1020.52401);",
"  ([Asn; Tyr; Val; Glu; Asp; Leu; Leu; Arg], 1020.52401);",
"  ([Ala; Glu; Ala; Val; Glu; Thr; Phe; Val; Arg], 1020.52401);",
"  ([Val; Ser; Thr; Met; Asp; Thr; Leu; Val; Arg], 1020.527381);",
"  ([Ser; Ala; Ser; Pro; Pro; Pro; Pro; Gly; Pro; Ser; Lys], 1020.52401);",
"  ([Ser; Ala; Ser; Pro; Pro; Pro; Pro; Gly; Pro; Ser; Lys], 1020.52401);",
"  ([Ser; Ala; Ser; Pro; Pro; Pro; Pro; Gly; Pro; Ser; Lys], 1020.52401);",
"  ([Trp; Leu; Ala; Ser; Val; Ile; Phe; Glu; Gly; Ter], 1020.528032);",
"  ([Trp; Pro; Gly; Val; Ala; Ala; His; Gln; Arg], 1020.525347);",
"  ([Ala; Asp; Leu; Asp; Gly; Val; Leu; Tyr; Arg], 1020.52401);",
"  ([Val; Ile; Gly; Cys; Thr; Thr; Thr; Gly; Ala; Ala; Lys], 1020.527381);",
"  ([Val; Ile; Gly; Cys; Thr; Thr; Thr; Gly; Ala; Ala; Lys], 1020.527381);",
"  ([Phe; Leu; Asp; Ala; Gly; Leu; Glu; Thr; Arg], 1020.52401);",
"  ([Phe; Val; Thr; Leu; Ala; Glu; Gly; Glu; Arg], 1020.52401);",
"  ([Ala; Tyr; Gln; Gly; Ala; Glu; Ala; Ala; Leu; Lys], 1020.52401);",
"  ([Asp; Val; Leu; Asp; Trp; Phe; Val; Lys], 1020.528032);",
"  ([Leu; Glu; Gly; Tyr; Val; Glu; Gly; Val; Arg], 1020.52401);",
"  ([Gln; Ile; Ile; Thr; Phe; Glu; Asp; Arg], 1020.52401);",
"  ([Asp; Thr; Asp; Ile; Leu; Ala; Ala; Phe; Arg], 1020.52401)|]"]
        },
           "execution_count": 9,
           "metadata": {},
           "output_type": "execute_result"
          }], 
           "source": ["// Code-Block 5\n",
"\n",
"peptideAndMasses\n",
"|\u003e Array.filter (fun (sequence,mass) -\u003e mass \u003e 1020.52  \u0026\u0026 mass \u003c 1020.53)\n"]
          }
,
          {
           "cell_type": "markdown",
           "metadata": {},
           
           "source": ["In the previous notebook *JP09_Fragmentation_for_peptide_identification.ipynb*, \n",
"we used functions that generate the theoretical series of b- and y-ions from the given peptide. Combined with the function \n",
"`Mz.SequestLike.predictOf` that generates theoretical spectra that fit the Sequest scoring algorithm.\n",
"\n"]
          }
,
          {
           "cell_type": "code",
           "metadata": {},
            "execution_count": 10, "outputs": [], 
           "source": ["// Code-Block 6\n",
"\n",
"let predictFromSequence peptide =\n",
"    [\n",
"        peptide\n",
"        |\u003e Mz.Fragmentation.Series. yOfBioList BioItem.initMonoisoMassWithMemP\n",
"        peptide\n",
"        |\u003e Mz.Fragmentation.Series.bOfBioList BioItem.initMonoisoMassWithMemP\n",
"    ]\n",
"    |\u003e List.concat\n",
"    |\u003e Mz.SequestLike.predictOf (lowerScanLimit,upperScanLimit) 2.\n"]
          }
,
          {
           "cell_type": "markdown",
           "metadata": {},
           
           "source": ["### Step 3+4: Matching and Scoring\n",
"\n",
"In the matching step, we compare theoretical spectra of peptides within our precursor peptide mass range with our measured spectra. \n",
"We get a score which tells us how well the theoretical spectrum fits the given experimental spectrum.\n",
"\n"]
          }
,
          {
           "cell_type": "code",
           "metadata": {},
            "execution_count": 11, "outputs": [
          {
           "data": {
            "text/plain": ["No value returned by any evaluator"]
        },
           "execution_count": 11,
           "metadata": {},
           "output_type": "execute_result"
          }], 
           "source": ["// Code-Block 7\n",
"let sortedScores = \n",
"    peptideAndMasses\n",
"    |\u003e Array.filter (fun (sequence,mass) -\u003e\n",
"        mass \u003e 1020.52  \u0026\u0026 mass \u003c 1020.53\n",
"    )\n",
"    |\u003e Array.map (fun (sequence,mass)    -\u003e\n",
"        sequence,predictFromSequence sequence\n",
"    )\n",
"    |\u003e Array.map (fun (sequence,theoSpectrum) -\u003e \n",
"        sequence,BioFSharp.Mz.SequestLike.scoreSingle theoSpectrum preprocessedIntesities\n",
"    )\n",
"    |\u003e Array.sortByDescending (fun (sequence,score) -\u003e score)\n",
"\n",
"sortedScores \n"]
          }
,
          {
           "cell_type": "markdown",
           "metadata": {},
           
           "source": ["Finally, we pick the sequence with the best score and are done for now. Notice however, that in a real world we would need to \n",
"relate our score to the complete data set to get an idea of the overall quality and which numerical value we could trust. \n",
"\n",
"## Questions\n",
"\n",
"1. How does the Chart change, when you change the value of \u0027numberofwindows\u0027 from 10 to 20?\n",
"  What does this parameter specify? (Code-Block 3)\n",
"2. What is the rational behind the normalization of measured spectra?\n",
"3. Why are we adding the mass of water to the peptide sequence? (BioItem.monoisoMass ModificationInfo.Table.H2O) (Code-Block 4)\n",
"4. In code block 6 you get a raw estimate on how many peptide sequences are candidates for a match, when given a certain mz.\n",
"Given that one MS run can consist of up to 120.000 ms2 spectra, how many peptide spectrum matches do you have to perform?\n",
"What does that mean for the performance of the application? Which parameters influence the size of the \"search space\"? (Code-Block 6)\n",
"5. What happens when you choose different lower and upper scan limits?\n",
"6. Visualize the distribution of scores using a histogram. (Code-Block 7)\n",
"\n"]
          }],
            "metadata": {
            "kernelspec": {"display_name": ".NET (F#)", "language": "F#", "name": ".net-fsharp"},
            "langauge_info": {
        "file_extension": ".fs",
        "mimetype": "text/x-fsharp",
        "name": "C#",
        "pygments_lexer": "fsharp",
        "version": "4.5"
        }
        },
            "nbformat": 4,
            "nbformat_minor": 1
        }
        

