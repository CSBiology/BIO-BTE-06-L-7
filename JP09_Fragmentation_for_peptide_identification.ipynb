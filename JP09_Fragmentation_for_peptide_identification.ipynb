
        {
            "cells": [
          {
           "cell_type": "markdown",
           "metadata": {},
           
           "source": ["# JP09 Fragmentation for peptide identification\n",
"\n",
"[![Binder](https://mybinder.org/badge_logo.svg)](https://mybinder.org/v2/gh/CSBiology/BIO-BTE-06-L-7/gh-pages?filepath=JP09_Fragmentation_for_peptide_identification.ipynb)\n",
"\n",
"1. [Understanding MS2 spectra: From peptide to fragment](#Understanding-MS2-spectra:-From-peptide-to-fragment)\n",
"2. [Simulate MS2 Fragmentation](#Simulate-MS2-Fragmentation)\u003cbr\u003e\n",
"2. [References](#References)\n",
"\n",
"## Understanding MS2 spectra: From peptide to fragment\n",
"\u003ca href=\"#Fragmentation-for-peptide-identification\" style=\"display: inline-block\"\u003e\u003csup\u003e\u0026#8593;back\u003c/sup\u003e\u003c/a\u003e\u003cbr\u003e\n",
"\u003ca href=\"#Fragmentation-for-peptide-identification\" style=\"display: inline-block\"\u003e\u003csup\u003e\u0026#8593;back\u003c/sup\u003e\u003c/a\u003e\u003cbr\u003e\n",
"\n",
"\u003cdiv class=\"container\"\u003e\n",
"\u003cdiv class=\"container\"\u003e\n",
"The currency of information for identification in MS-based proteomics is the fragment ion spectrum (MS/MS spectrum) that is typically \n",
"derived from the fragmentation of a specific peptide in the collision cell of a mass spectrometer. Peptides produce fragments that provide \n",
"information on their amino acid sequence. The correct assignment of such a spectrum to a peptide sequence is the central step to link \n",
"m/z values and ion intensities to biology\u003csup\u003e\u003ca href=\"#31\"\u003e31\u003c/a\u003e\u003c/sup\u003e. \n",
"\n",
"\u003cdiv Id=\"figure4\" Style=\"float: right ; display: inline-block ; color: #44546a ; width: 60% ; padding: 15px\"\u003e\n",
"\u003cdiv Id=\"figure4\" Style=\"float: right ; display: inline-block ; color: #44546a ; width: 60% ; padding: 15px\"\u003e\n",
"    \u003cimg src=\"img/FragmentIonNomenclature.png\" Style=\"width: 100%\"\u003e\n",
"    \u003cdiv Style=\"padding-left: 1rem ; padding-right: 1rem ; margin-top: 1rem ; text-align: justify ; font-size: 0.8rem\"\u003e\n",
"        \u003cb\u003eFigure 4: The Roepstorff-Fohlmann-Biemann nomenclature of fragment ions.\u003c/b\u003e\n",
"        N-terminal and C-terminal peptide fragments result of dissociation of electron bonds along the peptide backbone.\n",
"    \u003c/div\u003e\n",
"\u003c/div\u003e    \n",
"\n",
"During the unimolecular peptide ion dissociation processes, different chemical reactions can lead to different types \n",
"of product ions. The types of ions observed in MS/MS experiments depend on the physicochemical properties of the amino \n",
"acids and their sequence, on the amount of internal energy, and on the peptide’s charge state. In addition, product ion formation \n",
"is strongly influenced by the fragmentation method\u003csup\u003e\u003ca href=\"#32\"\u003e32\u003c/a\u003e\u003c/sup\u003e. The most widely used fragmentation methods today \n",
"are low-energy collision-induced dissociation (CID)\u003csup\u003e\u003ca href=\"#33\"\u003e33\u003c/a\u003e\u003c/sup\u003e and electron transfer dissociation \n",
"(ETD)\u003csup\u003e\u003ca href=\"#34\"\u003e34\u003c/a\u003e\u003c/sup\u003e. These methods favor fragmentation along the peptide backbone and result in an N-terminal prefix \n",
"fragment and a C-terminal suffix fragment. The standard nomenclature for the C-terminal fragments is x, y and z whereas the corresponding \n",
"N-terminal fragments are denoted as a, b and c depending on the position where the breakage occurs at the peptide backbone level. The numbering \n",
"of each fragment starts from the N-terminus for a,b,c series and from the C-terminus for x,y,z series (\u003ca href=\"#figure4\"\u003eFigure 4\u003c/a\u003e). \n",
"One should keep in mind that during parent ion selection many of the same peptide ions are selected and dissociated into fragments, with the \n",
"resulting fragment ions having different relative abundances according to the preferred fragmentation reaction. In addition to the \n",
"fragmentation along the peptide backbone, fragment ions containing the amino acids R, K, N, or Q can lose ammonia (-17 Da) and are then \n",
"denoted a*, b* and y*. Fragments containing the amino acids S, T, E, or D may lose water (-18 Da) and are then denoted a°, b° and y°. \n",
"These losses do not change the charge of the ions and are observable as natural losses \u003csup\u003e\u003ca href=\"#35\"\u003e35\u003c/a\u003e,\u003ca href=\"#36\"\u003e36\u003c/a\u003e\u003c/sup\u003e.\n",
"\n",
"\u003c/div\u003e\n",
"\u003c/div\u003e\n",
"\n"]
          }
,
          {
           "cell_type": "code",
           "metadata": {},
            "execution_count": 1, "outputs": [], 
           "source": ["#r \"nuget: BioFSharp, 2.0.0-beta5\"\n",
"#r \"nuget: BioFSharp.IO, 2.0.0-beta5\"\n",
"#r \"nuget: Plotly.NET, 2.0.0-beta6\"\n",
"#r \"nuget: BioFSharp.Mz, 0.1.5-beta\"\n",
"\n",
"#r \"nuget: Plotly.NET, 2.0.0-beta6\"\n",
"#r \"nuget: Plotly.NET.Interactive, 2.0.0-beta6\"\n",
"\n",
"open Plotly.NET\n",
"open BioFSharp\n"]
          }
,
          {
           "cell_type": "markdown",
           "metadata": {},
           
           "source": ["## Simulate MS2 Fragmentation\n",
"\u003ca href=\"#Fragmentation-for-peptide-identification\" style=\"display: inline-block\"\u003e\u003csup\u003e\u0026#8593;back\u003c/sup\u003e\u003c/a\u003e\u003cbr\u003e\n",
"\u003ca href=\"#Fragmentation-for-peptide-identification\" style=\"display: inline-block\"\u003e\u003csup\u003e\u0026#8593;back\u003c/sup\u003e\u003c/a\u003e\u003cbr\u003e\n",
"\n",
"\n",
"For the simulation we first define a short peptide. The peptide we take for this example is from rbcL.\n",
"\n",
"\n"]
          }
,
          {
           "cell_type": "code",
           "metadata": {},
            "execution_count": 2, "outputs": [
          {
           "data": {
            "text/plain": ["[Asp; Thr; Asp; Ile; Leu; Ala; Ala; Phe; Arg]"]
        },
           "execution_count": 2,
           "metadata": {},
           "output_type": "execute_result"
          }], 
           "source": ["// Code-Block 1\n",
"\n",
"let peptide = \n",
"    \"DTDILAAFR\"\n",
"    |\u003e BioList.ofAminoAcidString\n",
"\n",
"peptide\n"]
          }
,
          {
           "cell_type": "markdown",
           "metadata": {},
           
           "source": ["\u003cdiv class=\"container\"\u003e\n",
"\u003cdiv class=\"container\"\u003e\n",
"In the \u003ccode\u003eMz\u003c/code\u003e namespace of \u003ca href=\"https://csbiology.github.io/BioFSharp/\"\u003eBioFSharp\u003c/a\u003e, we can find a function that can \n",
"generate the theoretical series of y-ions from the given peptide. This function provides a lot of information, but we are only interested \n",
"in the mass. Notice, that we do not know the intesity of the fragment ions and just use \u00271.\u0027 for simulation.\n",
"\u003c/div\u003e\n",
"\n"]
          }
,
          {
           "cell_type": "code",
           "metadata": {},
            "execution_count": 3, "outputs": [
          {
           "data": {
            "text/plain": ["[(1020.52401, 1.0); (905.4970666, 1.0); (804.4493882, 1.0); (689.4224451, 1.0);",
" (576.3383812, 1.0); (463.2543172, 1.0); (392.2172034, 1.0); (321.1800896, 1.0);",
" (174.1116757, 1.0)]"]
        },
           "execution_count": 3,
           "metadata": {},
           "output_type": "execute_result"
          }], 
           "source": ["// Code-Block 2\n",
"\n",
"let ionSeriesY =\n",
"    peptide\n",
"    |\u003e Mz.Fragmentation.Series.yOfBioList BioItem.initMonoisoMassWithMemP\n",
"    |\u003e List.map (fun aac -\u003e aac.MainPeak.Mass,1.)\n",
"    \n",
"ionSeriesY\n"]
          }
,
          {
           "cell_type": "markdown",
           "metadata": {},
           
           "source": ["Similarly, we can simulate the b-ion series.\n",
"\n"]
          }
,
          {
           "cell_type": "code",
           "metadata": {},
            "execution_count": 4, "outputs": [
          {
           "data": {
            "text/plain": ["[(115.026943, 1.0); (216.0746215, 1.0); (331.1015645, 1.0); (444.1856285, 1.0);",
" (557.2696925, 1.0); (628.3068062, 1.0); (699.34392, 1.0); (846.4123339, 1.0);",
" (1002.513445, 1.0)]"]
        },
           "execution_count": 4,
           "metadata": {},
           "output_type": "execute_result"
          }], 
           "source": ["// Code-Block 3\n",
"\n",
"let ionSeriesB =\n",
"    peptide\n",
"    |\u003e Mz.Fragmentation.Series.bOfBioList BioItem.initMonoisoMassWithMemP\n",
"    |\u003e List.map (fun aac -\u003e aac.MainPeak.Mass,1.)\n",
"\n",
"ionSeriesB\n"]
          }
,
          {
           "cell_type": "markdown",
           "metadata": {},
           
           "source": ["Now, we can just plot the simulated data and look at our theoretical spectrum.\n",
"\n"]
          }
,
          {
           "cell_type": "code",
           "metadata": {},
            "execution_count": 5, "outputs": [
          {
           "data": {
            "text/html": ["\u003cdiv id=\"b78ee0bc-974a-413c-adca-af4b159a9c2a\" style=\"width: 600px; height: 600px;\"\u003e\u003c!-- Plotly chart will be drawn inside this DIV --\u003e\u003c/div\u003e",
"\u003cscript type=\"text/javascript\"\u003e",
"",
"            var renderPlotly_b78ee0bc974a413cadcaaf4b159a9c2a = function() {",
"            var fsharpPlotlyRequire = requirejs.config({context:\u0027fsharp-plotly\u0027,paths:{plotly:\u0027https://cdn.plot.ly/plotly-latest.min\u0027}}) || require;",
"            fsharpPlotlyRequire([\u0027plotly\u0027], function(Plotly) {",
"",
"            var data = [{\"type\":\"bar\",\"x\":[115.02694302215,216.07462148944,331.10156451159,444.18562848816003,557.26969246473,628.3068062488801,699.3439200330301,846.4123339454602,1002.5134449685002],\"y\":[1.0,1.0,1.0,1.0,1.0,1.0,1.0,1.0,1.0],\"marker\":{},\"name\":\"b ions\"},{\"type\":\"bar\",\"x\":[1020.52400965164,905.49706662949,804.4493881622,689.42244514005,576.33838116348,463.25431718691,392.21720340276,321.18008961861,174.11167570618],\"y\":[1.0,1.0,1.0,1.0,1.0,1.0,1.0,1.0,1.0],\"marker\":{},\"name\":\"y ions\"}];",
"            var layout = {};",
"            var config = {};",
"            Plotly.newPlot(\u0027b78ee0bc-974a-413c-adca-af4b159a9c2a\u0027, data, layout, config);",
"});",
"            };",
"            if ((typeof(requirejs) !==  typeof(Function)) || (typeof(requirejs.config) !== typeof(Function))) {",
"                var script = document.createElement(\"script\");",
"                script.setAttribute(\"src\", \"https://cdnjs.cloudflare.com/ajax/libs/require.js/2.3.6/require.min.js\");",
"                script.onload = function(){",
"                    renderPlotly_b78ee0bc974a413cadcaaf4b159a9c2a();",
"                };",
"                document.getElementsByTagName(\"head\")[0].appendChild(script);",
"            }",
"            else {",
"                renderPlotly_b78ee0bc974a413cadcaaf4b159a9c2a();",
"            }",
"\u003c/script\u003e",
""]
        },
           "execution_count": 5,
           "metadata": {},
           "output_type": "execute_result"
          }], 
           "source": ["// Code-Block 4\n",
"\n",
"let ionChart =\n",
"    [    \n",
"        Chart.Column (ionSeriesB, Name=\"b ions\")\n",
"        Chart.Column (ionSeriesY, Name=\"y ions\")\n",
"    ]\n",
"    |\u003e Chart.Combine\n",
"ionChart\n"]
          }
,
          {
           "cell_type": "markdown",
           "metadata": {},
           
           "source": ["\u003chr\u003e\n",
"\u003chr\u003e\n",
"\u003cnav class=\"level is-mobile\"\u003e\n",
"    \u003cdiv class=\"level-left\"\u003e\n",
"        \u003cdiv class=\"level-item\"\u003e\n",
"            \u003cbutton class=\"button is-primary is-outlined\" onclick=\"location.href=\u0027/JP08_Centroidisation.html\u0027;\"\u003e\u0026#171; JP08\u003c/button\u003e\n",
"        \u003c/div\u003e\n",
"    \u003c/div\u003e\n",
"    \u003cdiv class=\"level-right\"\u003e\n",
"        \u003cdiv class=\"level-item\"\u003e\n",
"            \u003cbutton class=\"button is-primary is-outlined\" onclick=\"location.href=\u0027/JP10_Peptide_Identification.html\u0027;\"\u003eJP10 \u0026#187;\u003c/button\u003e\n",
"        \u003c/div\u003e\n",
"    \u003c/div\u003e\n",
"\u003c/nav\u003e\n",
"\n",
"## References\n",
"\u003ca href=\"#Fragmentation-for-peptide-identification\" style=\"display: inline-block\"\u003e\u003csup\u003e\u0026#8593;back\u003c/sup\u003e\u003c/a\u003e\u003cbr\u003e\n",
"\u003ca href=\"#Fragmentation-for-peptide-identification\" style=\"display: inline-block\"\u003e\u003csup\u003e\u0026#8593;back\u003c/sup\u003e\u003c/a\u003e\u003cbr\u003e\n",
"\n",
"\u003col\u003e\n",
"\u003col\u003e\n",
"\u003cli Value=\"31\" Id=\"31\"\u003e Nesvizhskii, A. I., Vitek, O. \u0026 Aebersold, R. Analysis and validation of proteomic data generated by tandem mass spectrometry. Nature methods 4, 787–797; 10.1038/nmeth1088 (2007).\n",
"\u003cli Id=\"32\"\u003e Medzihradszky, K. F. Peptide sequence analysis. Method Enzymol 402, 209–244; 10.1016/S0076-6879(05)02007-0 (2005).\n",
"\u003cli Id=\"33\"\u003e Johnson, R. S., Martin, S. A., Biemann, K., Stults, J. T. \u0026 Watson, J. T. Novel fragmentation process of peptides by collision-induced decomposition in a tandem mass spectrometer: differentiation of leucine and isoleucine. Anal. Chem. 59, 2621–2625; 10.1021/Ac00148a019 (1987).\n",
"\u003cli Id=\"34\"\u003e Mikesh, L. M. et al. The utility of ETD mass spectrometry in proteomic analysis. Biochimica et biophysica acta 1764, 1811–1822; 10.1016/j.bbapap.2006.10.003 (2006).\n",
"\u003cli Id=\"35\"\u003e Forner, F., Foster, L. J. \u0026 Toppo, S. Mass spectrometry data analysis in the proteomics era. Curr Bioinform 2, 63–93; 10.2174/157489307779314285 (2007).\n",
"\u003cli Id=\"36\"\u003e Steen, H. \u0026 Mann, M. The ABC\u0027s (and XYZ\u0027s) of peptide sequencing. Nat. Rev. Mol. Cell Biol. 5, 699–711; 10.1038/nrm1468 (2004).\n",
"\u003c/ol\u003e\n",
"\n"]
          }],
            "metadata": {
            "kernelspec": {"display_name": ".NET (F#)", "language": "F#", "name": ".net-fsharp"},
            "langauge_info": {
        "file_extension": ".fs",
        "mimetype": "text/x-fsharp",
        "name": "C#",
        "pygments_lexer": "fsharp",
        "version": "4.5"
        }
        },
            "nbformat": 4,
            "nbformat_minor": 1
        }
        

