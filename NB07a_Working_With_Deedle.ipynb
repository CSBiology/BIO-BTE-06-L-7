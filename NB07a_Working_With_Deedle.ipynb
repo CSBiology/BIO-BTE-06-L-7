
        {
            "cells": [
          {
           "cell_type": "markdown",
           "metadata": {},
           
           "source": ["# NB07a Working with Deedle\n",
"\n",
"[![Binder](https://mybinder.org/badge_logo.svg)](https://mybinder.org/v2/gh/CSBiology/BIO-BTE-06-L-7/gh-pages?filepath=NB07a_Working_With_Deedle.ipynb)\n",
"\n",
"[Download Notebook](https://github.com/CSBiology/BIO-BTE-06-L-7/releases/download/NB07a/NB07a_Working_With_Deedle.ipynb)\n",
"\n",
"[Deedle](http://bluemountaincapital.github.io/Deedle/index.html)  is an easy to use library for data and time series manipulation and for scientific \n",
"programming. It supports working with structured data frames, ordered and unordered data, as well as time series.\n",
"\n",
"The analysis of your data in the following notebooks will be mostly done in Deedle, so here are some explanations and examples to help you better understand \n",
"the analysis notebooks.\n",
"\n",
"We start by loading our usual nuget packages and the Deedle package.\n",
"\n"]
          }
,
          {
           "cell_type": "code",
           "metadata": {},
            "execution_count": 1, "outputs": [], 
           "source": ["#r \"nuget: Deedle, 2.3.0\"\n",
"#r \"nuget: BioFSharp, 2.0.0-beta4\"\n",
"#r \"nuget: BioFSharp.IO, 2.0.0-beta4\"\n",
"#r \"nuget: BioFSharp.Mz, 0.1.5-beta\"\n",
"#r \"nuget: BIO-BTE-06-L-7_Aux, 0.0.9\"\n",
"#r \"nuget: FSharp.Stats\"\n",
"\n",
"#r \"nuget: Plotly.NET, 2.0.0-preview.16\"\n",
"#r \"nuget: Plotly.NET.Interactive, 2.0.0-preview.16\"\n",
"\n",
"open Plotly.NET\n",
"open BioFSharp\n",
"open BioFSharp.Mz\n",
"open BIO_BTE_06_L_7_Aux.FS3_Aux\n",
"open BIO_BTE_06_L_7_Aux.Deedle_Aux\n",
"open System.IO\n",
"open Deedle\n",
"open FSharp.Stats\n"]
          }
,
          {
           "cell_type": "markdown",
           "metadata": {},
           
           "source": ["## Deedle Basics\n",
"Familiarize yourself with Deedle! Create a series yourself that you add to the frame \u0027persons\u0027 frame.\n",
"\n"]
          }
,
          {
           "cell_type": "code",
           "metadata": {},
            "execution_count": 2, "outputs": [], 
           "source": ["let firstNames      = Series.ofValues [\"Kevin\";\"Lukas\";\"Benedikt\";\"Michael\"] \n",
"let coffeesPerWeek  = Series.ofValues [15;12;10;11] \n",
"let lastNames       = Series.ofValues [\"Schneider\";\"Weil\";\"Venn\";\"Schroda\"]  \n",
"let group           = Series.ofValues [\"CSB\";\"CSB\";\"CSB\";\"MBS\"] \n",
"let persons = \n",
"    Frame.ofColumns(List.zip [\"fN\";\"lN\";\"g\"] [firstNames;lastNames;group])\n",
"    |\u003e Frame.addCol \"cpw\" coffeesPerWeek\n"]
          }
,
          {
           "cell_type": "code",
           "metadata": {},
            "execution_count": null, "outputs": [], 
           "source": ["persons\n",
"|\u003e formatAsTable 0.\n",
"|\u003e Chart.withSize (600.,700.)\n"]
          }
,
          {
           "cell_type": "markdown",
           "metadata": {},
           
           "source": ["Follow the above scheme and create another frame that is exactly the same, but represents different persons (the frame can be small, e.g. two persons).\n",
"Use the function Frame.merge to combine your frame and \u0027persons\u0027.\n",
"Back to the frame \u0027persons\u0027! In the following you see a series of frame/series manipulations.\n",
"\n"]
          }
,
          {
           "cell_type": "code",
           "metadata": {},
            "execution_count": 3, "outputs": [], 
           "source": ["let coffeePerWeek\u0027 :Series\u003cint,int\u003e = Frame.getCol (\"cpw\") persons \n",
"let groupedByG :Frame\u003cstring*int,_\u003e = persons |\u003e Frame.groupRowsBy \"g\"\n",
"let withOutG :Frame\u003cstring*int,_\u003e = groupedByG |\u003e Frame.sliceCols [\"fN\";\"lN\";\"cpw\"]\n",
"let coffeePerWeek\u0027\u0027 :Series\u003cstring*int,int\u003e= groupedByG |\u003e Frame.getCol (\"cpw\")\n",
"let coffeePerWeekPerGroup = Series.applyLevel Pair.get1Of2 (Series.values \u003e\u003e Seq.sum) coffeePerWeek\u0027\u0027\n"]
          }
,
          {
           "cell_type": "markdown",
           "metadata": {},
           
           "source": ["Now that you got to know the object `Frame` which is a collection of `Series`, we move on to a real dataset. \n",
"As our dataset we take the FASTA with Chlamy proteins, select 50 random proteins, and digest them.\n",
"The digested peptides are represented using a record type. Deedle frames can be directly constructed from\n",
"record types with `Frame.ofRecords`. Alternatively, a character separated file could be used as source for a Frame as well.\n",
"\n"]
          }
,
          {
           "cell_type": "code",
           "metadata": {},
            "execution_count": 4, "outputs": [], 
           "source": ["let path = Path.Combine[|__SOURCE_DIRECTORY__;\"downloads/Chlamy_JGI5_5(Cp_Mp).fasta\"|]\n",
"downloadFile path \"Chlamy_JGI5_5(Cp_Mp).fasta\" \"bio-bte-06-l-7\"\n",
"\n",
"let examplePeptides = \n",
"    path\n",
"    |\u003e IO.FastA.fromFile BioArray.ofAminoAcidString\n",
"    |\u003e Seq.toArray\n",
"    |\u003e Array.take 50\n",
"    |\u003e Array.mapi (fun i fastAItem -\u003e\n",
"        Digestion.BioArray.digest Digestion.Table.Trypsin i fastAItem.Sequence\n",
"        |\u003e Digestion.BioArray.concernMissCleavages 0 0 \n",
"        |\u003e Array.map (fun dp -\u003e\n",
"            {|\n",
"                PeptideSequence = dp.PepSequence\n",
"                Protein = fastAItem.Header.Split \u0027 \u0027 |\u003e Array.head\n",
"            |}\n",
"        )\n",
"    )\n",
"    |\u003e Array.concat\n",
"    |\u003e Array.filter (fun x -\u003e x.PeptideSequence.Length \u003e 5)\n",
"\n",
"let peptidesFrame =\n",
"    examplePeptides\n",
"    |\u003e Frame.ofRecords\n"]
          }
,
          {
           "cell_type": "code",
           "metadata": {},
            "execution_count": null, "outputs": [
          {
           "data": {
            "text/plain": ["PeptideSequence       Protein            ",
"0 -\u003e [Asp; Leu; His; ... ] Cre38.g759997.t1.1 ",
"1 -\u003e [Val; Gln; Tyr; ... ] Cre38.g759997.t1.1 ",
"2 -\u003e [Ala; Gln; Gln; ... ] Cre38.g759997.t1.1 ",
"3 -\u003e [Asp; Thr; Ile; ... ] Cre38.g759997.t1.1 ",
"4 -\u003e [His; Leu; His; ... ] Cre38.g759997.t1.1 ",
"5 -\u003e [Leu; Pro; Pro; ... ] Cre38.g759997.t1.1 ",
"6 -\u003e [Ala; Asp; Leu; ... ] Cre38.g759997.t1.1 ",
"7 -\u003e [Met; Asp; Ala; ... ] Cre38.g759997.t1.1 ",
"8 -\u003e [Tyr; Ser; Ala; ... ] Cre08.g363350.t1.1 ",
"9 -\u003e [Met; Tyr; Gly; ... ] Cre08.g363350.t1.1 ",
"",
"val it : unit = ()"]
        },
           "execution_count": null,
           "metadata": {},
           "output_type": "execute_result"
          }], 
           "source": ["peptidesFrame\n",
"|\u003e Frame.take 10\n",
"|\u003e formatAsTable 0.\n",
"|\u003e Chart.withSize (700.,900.)\n"]
          }
,
          {
           "cell_type": "markdown",
           "metadata": {},
           
           "source": ["As you can see, our columns are named the same as the field of the record type, while our rows are indexed by numbers only. It is often helpful to use a more descriptive\n",
"row key. In this case, we can use the peptide sequence for that.  \n",
"**Note:** Row keys must be unique. By grouping with \"PeptidesSequence\", we get the sequence tupled with the index as key. \n",
"The function `Frame.reduceLevel` aggregates the rows now based on the first part of the tuple, the peptide sequence, ignoring the second part of the tuple, the index. \n",
"The aggregator function given to `Frame.reduceLevel` aggregates each column separately.\n",
"\n"]
          }
,
          {
           "cell_type": "code",
           "metadata": {},
            "execution_count": 6, "outputs": [], 
           "source": ["let pfIndexedSequenceList : Frame\u003clist\u003cAminoAcids.AminoAcid\u003e,string\u003e =\n",
"    peptidesFrame\n",
"    |\u003e Frame.groupRowsBy \"PeptideSequence\"\n",
"    |\u003e Frame.dropCol \"PeptideSequence\"\n",
"    |\u003e Frame.reduceLevel fst (fun a b -\u003e a + \",\" + b)\n"]
          }
,
          {
           "cell_type": "code",
           "metadata": {},
            "execution_count": null, "outputs": [
          {
           "data": {
            "text/plain": ["Protein            ",
"[Asp; Leu; His; ... ] -\u003e Cre38.g759997.t1.1 ",
"[Val; Gln; Tyr; ... ] -\u003e Cre38.g759997.t1.1 ",
"[Ala; Gln; Gln; ... ] -\u003e Cre38.g759997.t1.1 ",
"[Asp; Thr; Ile; ... ] -\u003e Cre38.g759997.t1.1 ",
"[His; Leu; His; ... ] -\u003e Cre38.g759997.t1.1 ",
"[Leu; Pro; Pro; ... ] -\u003e Cre38.g759997.t1.1 ",
"[Ala; Asp; Leu; ... ] -\u003e Cre38.g759997.t1.1 ",
"[Met; Asp; Ala; ... ] -\u003e Cre38.g759997.t1.1 ",
"[Tyr; Ser; Ala; ... ] -\u003e Cre08.g363350.t1.1 ",
"[Met; Tyr; Gly; ... ] -\u003e Cre08.g363350.t1.1 ",
"",
"val it : unit = ()"]
        },
           "execution_count": null,
           "metadata": {},
           "output_type": "execute_result"
          }], 
           "source": ["pfIndexedSequenceList\n",
"|\u003e Frame.take 10\n",
"|\u003e formatAsTable 0.\n",
"|\u003e Chart.withSize (500.,900.)\n"]
          }
,
          {
           "cell_type": "markdown",
           "metadata": {},
           
           "source": ["Our rows are now indexed with the peptide sequences. The peptide sequence is still an aarray of amino acids. For better visibility we can transform it to its string representation. \n",
"For that we can map over our row keys similar to an array and call the function `BioList.toString` on each row key.\n",
"\n"]
          }
,
          {
           "cell_type": "code",
           "metadata": {},
            "execution_count": 8, "outputs": [], 
           "source": ["let pfIndexedStringSequence =\n",
"    pfIndexedSequenceList\n",
"    |\u003e Frame.mapRowKeys (fun rc -\u003e rc |\u003e BioList.toString)\n"]
          }
,
          {
           "cell_type": "code",
           "metadata": {},
            "execution_count": null, "outputs": [
          {
           "data": {
            "text/plain": ["Protein            ",
"DLHPLLTSLPTKPGSAATPYTTTQSPPSTTLS* -\u003e Cre38.g759997.t1.1 ",
"VQYTPQSAISLGFAGTIR                -\u003e Cre38.g759997.t1.1 ",
"AQQQQALAADLR                      -\u003e Cre38.g759997.t1.1 ",
"DTIHIIEAGYTADTNHAAK               -\u003e Cre38.g759997.t1.1 ",
"HLHYRPDILLIPSISLAAALNPDFVVLPSER   -\u003e Cre38.g759997.t1.1 ",
"LPPWLLPDQEGKPAGR                  -\u003e Cre38.g759997.t1.1 ",
"ADLPDYAADNR                       -\u003e Cre38.g759997.t1.1 ",
"MDATSK                            -\u003e Cre38.g759997.t1.1 ",
"YSADGVTVCGR                       -\u003e Cre08.g363350.t1.1 ",
"MYGAIR                            -\u003e Cre08.g363350.t1.1 ",
"",
"val it : unit = ()"]
        },
           "execution_count": null,
           "metadata": {},
           "output_type": "execute_result"
          }], 
           "source": ["pfIndexedStringSequence\n",
"|\u003e Frame.take 10\n",
"|\u003e formatAsTable 0.\n",
"|\u003e Chart.withSize (800.,900.)\n"]
          }
,
          {
           "cell_type": "markdown",
           "metadata": {},
           
           "source": ["We now have a frame containing information about our peptides. To add additional information we can go back to the peptide array we started with and calculate \n",
"the monoisotopic mass, for example. The monoisotopic mass is tupled with the peptide sequence as string, the same as in our peptide frame. The resulting array\n",
"can then be transformed into a `series`\n",
"\n"]
          }
,
          {
           "cell_type": "code",
           "metadata": {},
            "execution_count": 10, "outputs": [], 
           "source": ["let peptidesAndMasses =\n",
"    examplePeptides\n",
"    |\u003e Array.distinctBy (fun x -\u003e x.PeptideSequence)\n",
"    |\u003e Array.map (fun peptide -\u003e\n",
"        // calculate mass for each peptide\n",
"        peptide.PeptideSequence |\u003e BioList.toString, BioSeq.toMonoisotopicMassWith (BioItem.monoisoMass ModificationInfo.Table.H2O) peptide.PeptideSequence\n",
"        )\n",
"\n",
"let peptidesAndMassesSeries =\n",
"    peptidesAndMasses\n",
"    |\u003e series\n"]
          }
,
          {
           "cell_type": "markdown",
           "metadata": {},
           
           "source": ["The columns in frames consist of series. Since we now have a series containing our monoisotopic masses, together with the peptide sequence, we can simply add \n",
"it to our frame and give the column a name.\n",
"\n"]
          }
,
          {
           "cell_type": "code",
           "metadata": {},
            "execution_count": 11, "outputs": [], 
           "source": ["let pfAddedMass =\n",
"    pfIndexedStringSequence\n",
"    |\u003e Frame.addCol \"Mass\" peptidesAndMassesSeries\n"]
          }
,
          {
           "cell_type": "code",
           "metadata": {},
            "execution_count": null, "outputs": [
          {
           "data": {
            "text/plain": ["Protein            Mass               ",
"DLHPLLTSLPTKPGSAATPYTTTQSPPSTTLS* -\u003e Cre38.g759997.t1.1 3279.6874526271804 ",
"VQYTPQSAISLGFAGTIR                -\u003e Cre38.g759997.t1.1 1908.0105115979898 ",
"AQQQQALAADLR                      -\u003e Cre38.g759997.t1.1 1311.6895118347097 ",
"DTIHIIEAGYTADTNHAAK               -\u003e Cre38.g759997.t1.1 2039.9912327025907 ",
"HLHYRPDILLIPSISLAAALNPDFVVLPSER   -\u003e Cre38.g759997.t1.1 3465.91364502852   ",
"LPPWLLPDQEGKPAGR                  -\u003e Cre38.g759997.t1.1 1772.9573538285597 ",
"ADLPDYAADNR                       -\u003e Cre38.g759997.t1.1 1219.54692992139   ",
"MDATSK                            -\u003e Cre38.g759997.t1.1 651.2897762857499  ",
"YSADGVTVCGR                       -\u003e Cre08.g363350.t1.1 1126.50770796338   ",
"MYGAIR                            -\u003e Cre08.g363350.t1.1 709.3581306307699  ",
"",
"val it : unit = ()"]
        },
           "execution_count": null,
           "metadata": {},
           "output_type": "execute_result"
          }], 
           "source": ["pfAddedMass\n",
"|\u003e Frame.take 10\n",
"|\u003e formatAsTable 0.\n",
"|\u003e Chart.withSize (1000.,900.)\n"]
          }
,
          {
           "cell_type": "markdown",
           "metadata": {},
           
           "source": ["Alternatively, we can take a column from our frame, apply a function to it, and create a new frame from the series.\n",
"\n"]
          }
,
          {
           "cell_type": "code",
           "metadata": {},
            "execution_count": 13, "outputs": [], 
           "source": ["let pfChargedMass =\n",
"    pfAddedMass\n",
"    |\u003e Frame.getCol \"Mass\"\n",
"    |\u003e Series.mapValues (fun mass -\u003e Mass.toMZ mass 2.)\n",
"    |\u003e fun s -\u003e [\"Mass Charge 2\", s]\n",
"    |\u003e Frame.ofColumns\n"]
          }
,
          {
           "cell_type": "code",
           "metadata": {},
            "execution_count": null, "outputs": [
          {
           "data": {
            "text/plain": ["Mass Charge 2      ",
"DLHPLLTSLPTKPGSAATPYTTTQSPPSTTLS* -\u003e 1640.8510027804002 ",
"VQYTPQSAISLGFAGTIR                -\u003e 955.0125322658049  ",
"AQQQQALAADLR                      -\u003e 656.8520323841649  ",
"DTIHIIEAGYTADTNHAAK               -\u003e 1021.0028928181054 ",
"HLHYRPDILLIPSISLAAALNPDFVVLPSER   -\u003e 1733.96409898107   ",
"LPPWLLPDQEGKPAGR                  -\u003e 887.4859533810899  ",
"ADLPDYAADNR                       -\u003e 610.7807414275051  ",
"MDATSK                            -\u003e 326.652164609685   ",
"YSADGVTVCGR                       -\u003e 564.2611304485     ",
"MYGAIR                            -\u003e 355.686341782195   ",
"",
"val it : unit = ()"]
        },
           "execution_count": null,
           "metadata": {},
           "output_type": "execute_result"
          }], 
           "source": ["pfChargedMass\n",
"|\u003e Frame.take 10\n",
"|\u003e formatAsTable 0.\n",
"|\u003e Chart.withSize (1000.,900.)\n"]
          }
,
          {
           "cell_type": "markdown",
           "metadata": {},
           
           "source": ["The new frame has the same row keys as our previous frame. The information from our new frame can be joined with our old frame by using `Frame.join`.\n",
"`Frame.join` is similar to `Frame.addCol`, but can join whole frames at once instead of single columns.\n",
"\n"]
          }
,
          {
           "cell_type": "code",
           "metadata": {},
            "execution_count": 15, "outputs": [], 
           "source": ["let joinedFrame =\n",
"    pfAddedMass\n",
"    |\u003e Frame.join JoinKind.Left pfChargedMass\n"]
          }
,
          {
           "cell_type": "code",
           "metadata": {},
            "execution_count": null, "outputs": [
          {
           "data": {
            "text/plain": ["Mass Charge 2      Protein            Mass               ",
"DLHPLLTSLPTKPGSAATPYTTTQSPPSTTLS* -\u003e 1640.8510027804002 Cre38.g759997.t1.1 3279.6874526271804 ",
"VQYTPQSAISLGFAGTIR                -\u003e 955.0125322658049  Cre38.g759997.t1.1 1908.0105115979898 ",
"AQQQQALAADLR                      -\u003e 656.8520323841649  Cre38.g759997.t1.1 1311.6895118347097 ",
"DTIHIIEAGYTADTNHAAK               -\u003e 1021.0028928181054 Cre38.g759997.t1.1 2039.9912327025907 ",
"HLHYRPDILLIPSISLAAALNPDFVVLPSER   -\u003e 1733.96409898107   Cre38.g759997.t1.1 3465.91364502852   ",
"LPPWLLPDQEGKPAGR                  -\u003e 887.4859533810899  Cre38.g759997.t1.1 1772.9573538285597 ",
"ADLPDYAADNR                       -\u003e 610.7807414275051  Cre38.g759997.t1.1 1219.54692992139   ",
"MDATSK                            -\u003e 326.652164609685   Cre38.g759997.t1.1 651.2897762857499  ",
"YSADGVTVCGR                       -\u003e 564.2611304485     Cre08.g363350.t1.1 1126.50770796338   ",
"MYGAIR                            -\u003e 355.686341782195   Cre08.g363350.t1.1 709.3581306307699  ",
"",
"val it : unit = ()"]
        },
           "execution_count": null,
           "metadata": {},
           "output_type": "execute_result"
          }], 
           "source": ["joinedFrame\n",
"|\u003e Frame.take 10\n",
"|\u003e formatAsTable 0.\n",
"|\u003e Chart.withSize (1500.,900.)\n"]
          }],
            "metadata": {
            "kernelspec": {"display_name": ".NET (F#)", "language": "F#", "name": ".net-fsharp"},
            "langauge_info": {
        "file_extension": ".fs",
        "mimetype": "text/x-fsharp",
        "name": "C#",
        "pygments_lexer": "fsharp",
        "version": "4.5"
        }
        },
            "nbformat": 4,
            "nbformat_minor": 1
        }
        

