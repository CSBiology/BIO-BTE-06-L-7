
        {
            "cells": [
          {
           "cell_type": "markdown",
           "metadata": {},
           
           "source": ["## Deedle Basics\n",
"\n",
"[Deedle](http://bluemountaincapital.github.io/Deedle/index.html)  is an easy to use library for data and time series manipulation and for scientific \n",
"programming. It supports working with structured data frames, ordered and unordered data, as well as time series.\n",
"\n",
"The analysis of your data in the following notebooks will be mostly done in Deedle, so here are some explanations and examples to help you better understand \n",
"the analysis notebooks.\n",
"\n",
"We start by loading our usual nuget packages and the Deedle package.\n",
"\n"]
          }
,
          {
           "cell_type": "code",
           "metadata": {},
            "execution_count": 1, "outputs": [], 
           "source": ["#r \"nuget: Deedle, 2.3.0\"\n",
"#r \"nuget: BioFSharp, 2.0.0-beta4\"\n",
"#r \"nuget: BioFSharp.IO, 2.0.0-beta4\"\n",
"#r \"nuget: BioFSharp.Mz, 0.1.5-beta\"\n",
"#r \"nuget: BIO-BTE-06-L-7_Aux, 0.0.1\"\n",
"#r \"nuget: FSharp.Stats\"\n",
"\n",
"#r \"nuget: Plotly.NET, 2.0.0-beta6\"\n",
"#r \"nuget: Plotly.NET.Interactive, 2.0.0-beta6\"\n",
"\n",
"open Plotly.NET\n",
"open BioFSharp\n",
"open BioFSharp.Mz\n",
"open BIO_BTE_06_L_7_Aux.FS3_Aux\n",
"open System.IO\n",
"open Deedle\n",
"open FSharp.Stats\n"]
          }
,
          {
           "cell_type": "markdown",
           "metadata": {},
           
           "source": ["As our dataset we take the FASTA with Chlamy proteins, select 50 random proteins, and digest them.\n",
"The digested peptides are represented using a record type. Deedle frames can be directly constructed from\n",
"record types with `Frame.ofRecords`. Alternatively, a character separated file could be used as source for a Frame as well.\n",
"\n"]
          }
,
          {
           "cell_type": "code",
           "metadata": {},
            "execution_count": 2, "outputs": [], 
           "source": ["let path = Path.Combine[|__SOURCE_DIRECTORY__;\"downloads/Chlamy_JGI5_5(Cp_Mp).fasta\"|]\n",
"downloadFile path \"Chlamy_JGI5_5(Cp_Mp).fasta\" \"bio-bte-06-l-7\"\n",
"\n",
"let examplePeptides = \n",
"    path\n",
"    |\u003e IO.FastA.fromFile BioArray.ofAminoAcidString\n",
"    |\u003e Seq.toArray\n",
"    |\u003e Array.take 50\n",
"    |\u003e Array.mapi (fun i fastAItem -\u003e\n",
"        Digestion.BioArray.digest Digestion.Table.Trypsin i fastAItem.Sequence\n",
"        |\u003e Digestion.BioArray.concernMissCleavages 0 0 \n",
"        |\u003e Array.map (fun dp -\u003e\n",
"            {|\n",
"                PeptideSequence = dp.PepSequence\n",
"                Protein = fastAItem.Header.Split \u0027 \u0027 |\u003e Array.head\n",
"            |}\n",
"        )\n",
"    )\n",
"    |\u003e Array.concat\n",
"    |\u003e Array.filter (fun x -\u003e x.PeptideSequence.Length \u003e 5)\n",
"\n",
"let peptidesFrame =\n",
"    examplePeptides\n",
"    |\u003e Frame.ofRecords\n",
"\n",
"peptidesFrame.Print()\n"]
          }
,
          {
           "cell_type": "markdown",
           "metadata": {},
           
           "source": ["As you can see, our columns are named the same as the field of the record type, while our rows are indexed by numbers only. It is often helpful to use a more descriptive\n",
"row key. In this case, we can use the peptide sequence for that. **Note** Row keys must be unique. By grouping with \"PeptidesSequence\", we get the sequence tupled with the index as key. \n",
"The function `Frame.reduceLevel` aggregates the rows now based on the first part of the tuple, the peptide sequence, ignoring the second part of the tuple, the index. \n",
"The aggregator function given to `Frame.reduceLevel` aggregates each column separately.\n",
"\n"]
          }
,
          {
           "cell_type": "code",
           "metadata": {},
            "execution_count": 3, "outputs": [], 
           "source": ["let pfIndexedSequenceList : Frame\u003clist\u003cAminoAcids.AminoAcid\u003e,string\u003e =\n",
"    peptidesFrame\n",
"    |\u003e Frame.groupRowsBy \"PeptideSequence\"\n",
"    |\u003e Frame.dropCol \"PeptideSequence\"\n",
"    |\u003e Frame.reduceLevel fst (fun a b -\u003e a + \",\" + b)\n",
"\n",
"pfIndexedSequenceList.Print()\n"]
          }
,
          {
           "cell_type": "markdown",
           "metadata": {},
           
           "source": ["Our rows are now indexed with the peptide sequences. The peptide sequence is still an aarray of amino acids. For better visibility we can transform it to its string representation. \n",
"For that we can map over our row keys similar to an array and call the function `BioList.toString` on each row key.\n",
"\n"]
          }
,
          {
           "cell_type": "code",
           "metadata": {},
            "execution_count": 4, "outputs": [], 
           "source": ["let pfIndexedStringSequence =\n",
"    pfIndexedSequenceList\n",
"    |\u003e Frame.mapRowKeys (fun rc -\u003e rc |\u003e BioList.toString)\n",
"\n",
"pfIndexedStringSequence.Print()\n"]
          }
,
          {
           "cell_type": "markdown",
           "metadata": {},
           
           "source": ["We now have a frame containing information about our peptides. To add additional information we can go back to the peptide array we started with and calculate \n",
"the monoisotopic mass, for example. The monoisotopic mass is tupled with the peptide sequence as string, the same as in our peptide frame. The resulting array\n",
"can then be transformed into a `series`\n",
"\n"]
          }
,
          {
           "cell_type": "code",
           "metadata": {},
            "execution_count": 5, "outputs": [], 
           "source": ["let peptidesAndMasses =\n",
"    examplePeptides\n",
"    |\u003e Array.distinctBy (fun x -\u003e x.PeptideSequence)\n",
"    |\u003e Array.map (fun peptide -\u003e\n",
"        // calculate mass for each peptide\n",
"        peptide.PeptideSequence |\u003e BioList.toString, BioSeq.toMonoisotopicMassWith (BioItem.monoisoMass ModificationInfo.Table.H2O) peptide.PeptideSequence\n",
"        )\n",
"\n",
"let peptidesAndMassesSeries =\n",
"    peptidesAndMasses\n",
"    |\u003e series\n"]
          }
,
          {
           "cell_type": "markdown",
           "metadata": {},
           
           "source": ["The columns in frames consist of series. Since we now have a series containing our monoisotopic masses, together with the peptide sequence, we can simply add \n",
"it to our frame and give the column a name.\n",
"\n"]
          }
,
          {
           "cell_type": "code",
           "metadata": {},
            "execution_count": 6, "outputs": [], 
           "source": ["let pfAddedMass =\n",
"    pfIndexedStringSequence\n",
"    |\u003e Frame.addCol \"Mass\" peptidesAndMassesSeries\n",
"\n",
"pfAddedMass.Print()\n"]
          }
,
          {
           "cell_type": "markdown",
           "metadata": {},
           
           "source": ["Alternatively, we can take a column from our frame, apply a function to it, and create a new frame from the series.\n",
"\n"]
          }
,
          {
           "cell_type": "code",
           "metadata": {},
            "execution_count": 7, "outputs": [], 
           "source": ["let pfChargedMass =\n",
"    pfAddedMass\n",
"    |\u003e Frame.getCol \"Mass\"\n",
"    |\u003e Series.mapValues (fun mass -\u003e Mass.toMZ mass 2.)\n",
"    |\u003e fun s -\u003e [\"Mass Charge 2\", s]\n",
"    |\u003e Frame.ofColumns\n",
"\n",
"pfChargedMass.Print()\n"]
          }
,
          {
           "cell_type": "markdown",
           "metadata": {},
           
           "source": ["The new frame has the same row keys as our previous frame. The information from our new frame can be joined with our old frame by using `Frame.join`.\n",
"`Frame.join` is similar to `Frame.addCol`, but can join whole frames at once instead of single columns.\n",
"\n"]
          }
,
          {
           "cell_type": "code",
           "metadata": {},
            "execution_count": 8, "outputs": [], 
           "source": ["let joinedFrame =\n",
"    pfAddedMass\n",
"    |\u003e Frame.join JoinKind.Left pfChargedMass\n",
"\n",
"joinedFrame.Print()\n"]
          }],
            "metadata": {
            "kernelspec": {"display_name": ".NET (F#)", "language": "F#", "name": ".net-fsharp"},
            "langauge_info": {
        "file_extension": ".fs",
        "mimetype": "text/x-fsharp",
        "name": "C#",
        "pygments_lexer": "fsharp",
        "version": "4.5"
        }
        },
            "nbformat": 4,
            "nbformat_minor": 1
        }
        

