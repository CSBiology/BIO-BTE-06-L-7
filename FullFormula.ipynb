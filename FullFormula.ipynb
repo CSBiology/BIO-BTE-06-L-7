
        {
            "cells": [
          {
           "cell_type": "code",
           "metadata": {},
            "execution_count": 1, "outputs": [], 
           "source": ["let calcAbsoluteAbundance μgChlorophPerMlCult cellCountPerMlCult μgChlorophPerμlSample μgProtPerμlSample μgQProtSpike μgloadedProtein molWeightQProt molWeightTargetProt ratio1415N =\n",
"    let chlorophPerCell : float = μgChlorophPerMlCult / cellCountPerMlCult\n",
"    let cellsPerμlSample = μgChlorophPerμlSample / chlorophPerCell\n",
"    let μgProteinPerCell = μgProtPerμlSample / cellsPerμlSample\n",
"    let molQProtSpike = μgQProtSpike * 10. ** -6. / molWeightQProt\n",
"    let molProtPerBand = ratio1415N * molQProtSpike\n",
"    let molProtIn1μgLoadedProt = molProtPerBand / μgloadedProtein\n",
"    let gTargetProtIn1μgLoadedProt = molWeightTargetProt * molProtIn1μgLoadedProt\n",
"    let molProteinPerCell = molProtIn1μgLoadedProt * μgProteinPerCell\n",
"    let proteinsPerCell = molProteinPerCell * 6.022 * 10. ** 23.\n",
"    let attoMolProteinPerCell = molProteinPerCell * (10. ** 18.)\n",
"    let attoMolProteinPerBand = molProtPerBand * (10. ** 18.)\n",
"    {|\n",
"        MassTargetProteinInLoadedProtein    = gTargetProtIn1μgLoadedProt\n",
"        ProteinsPerCell                     = proteinsPerCell\n",
"        AttoMolProteinPerCell               = attoMolProteinPerCell\n",
"        AttoMolProteinPerBand               = attoMolProteinPerBand\n",
"    |}\n"]
          }],
            "metadata": {
            "kernelspec": {"display_name": ".NET (F#)", "language": "F#", "name": ".net-fsharp"},
            "langauge_info": {
        "file_extension": ".fs",
        "mimetype": "text/x-fsharp",
        "name": "C#",
        "pygments_lexer": "fsharp",
        "version": "4.5"
        }
        },
            "nbformat": 4,
            "nbformat_minor": 1
        }
        

