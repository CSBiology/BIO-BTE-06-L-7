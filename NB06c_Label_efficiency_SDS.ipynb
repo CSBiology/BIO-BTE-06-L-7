
        {
            "cells": [
          {
           "cell_type": "code",
           "metadata": {},
            "execution_count": 1, "outputs": [], 
           "source": ["#r \"nuget: FSharp.Stats, 0.4.0\"\n",
"#r \"nuget: BioFSharp, 2.0.0-beta5\"\n",
"#r \"nuget: BioFSharp.IO, 2.0.0-beta5\"\n",
"#r \"nuget: Plotly.NET, 2.0.0-beta8\"\n",
"#r \"nuget: BIO-BTE-06-L-7_Aux, 0.0.8\"\n",
"#r \"nuget: Deedle, 2.3.0\"\n",
"#r \"nuget: ISADotNet, 0.2.4\"\n",
"#r \"nuget: ISADotNet.XLSX, 0.2.4\"\n",
"\n",
"#r \"nuget: Plotly.NET.Interactive, 2.0.0-beta8\"\n",
"\n",
"open System.IO\n",
"open ISADotNet\n",
"open ISADotNet.API\n",
"open Deedle\n",
"open BioFSharp\n",
"open FSharpAux\n",
"open FSharp.Stats\n",
"open Plotly.NET\n",
"open System.IO\n",
"open BIO_BTE_06_L_7_Aux.FS3_Aux\n",
"open BIO_BTE_06_L_7_Aux.Deedle_Aux\n"]
          }
,
          {
           "cell_type": "markdown",
           "metadata": {},
           
           "source": ["# NB06c\u0027 Label efficiency for SDS\n",
"\n",
"[![Binder](https://mybinder.org/badge_logo.svg)](https://mybinder.org/v2/gh/CSBiology/BIO-BTE-06-L-7/gh-pages?filepath=NB06c_Label_efficiency_SDS.ipynb)\n",
"\n",
"[Download Notebook](https://github.com/CSBiology/BIO-BTE-06-L-7/releases/download/NB06b_NB06b_NB06c_NB06c_NB06d_NB06d/NB06c_Label_efficiency_SDS.ipynb)\n",
"\n",
"Stable isotopic peptide labeling is the foundation of QconCAT experiments. While an excellent tool when carried out with correctly, it also exposes \n",
"challenges and pitfalls that have to be checked and possibly accounted for. One of these pitfalls is the efficiency with which we labeled \n",
"our QconCAT protein (Why?). In this notebook we will have a look at some high quality peptides selected in the previous notebook and \n",
"illustrate how the label efficiency can be calculated using simulations.  \n",
"\n",
"## I. Reading the data\n",
"As promised, we start this notebook with the output of the previous analysis, this notebook assumes that the data from *NB06b Data Access and Quality Control* is stored in a .txt\n",
"\n"]
          }
,
          {
           "cell_type": "code",
           "metadata": {},
            "execution_count": 2, "outputs": [
          {
           "data": {
            "text/plain": ["[|\"ProteinGroup\"; \"StringSequence\"; \"PepSequenceID\"; \"Charge\"; \"Synonyms\";",
"  \"Gr1rbcL10.Light\"; \"Gr1rbcL10.Heavy\"; \"Gr1rbcL10.Ratio\";",
"  \"Gr1rbcL10.CorrelationLightHeavy\"; \"Gr1rbcL10.lightPatternMz\";",
"  \"Gr1rbcL10.lightPatternI\"; \"Gr1rbcL10.heavyPatternMz\";",
"  \"Gr1rbcL10.heavyPatternI\"; \"Gr1rbcL2_5.Light\"; \"Gr1rbcL2_5.Heavy\";",
"  \"Gr1rbcL2_5.Ratio\"; \"Gr1rbcL2_5.CorrelationLightHeavy\";",
"  \"Gr1rbcL2_5.lightPatternMz\"; \"Gr1rbcL2_5.lightPatternI\";",
"  \"Gr1rbcL2_5.heavyPatternMz\"; \"Gr1rbcL2_5.heavyPatternI\"; \"Gr1rbcL5.Light\";",
"  \"Gr1rbcL5.Heavy\"; \"Gr1rbcL5.Ratio\"; \"Gr1rbcL5.CorrelationLightHeavy\";",
"  \"Gr1rbcL5.lightPatternMz\"; \"Gr1rbcL5.lightPatternI\"; \"Gr1rbcL5.heavyPatternMz\";",
"  \"Gr1rbcL5.heavyPatternI\"; \"Gr1rbcS10.Light\"; \"Gr1rbcS10.Heavy\";",
"  \"Gr1rbcS10.Ratio\"; \"Gr1rbcS10.CorrelationLightHeavy\";",
"  \"Gr1rbcS10.lightPatternMz\"; \"Gr1rbcS10.lightPatternI\";",
"  \"Gr1rbcS10.heavyPatternMz\"; \"Gr1rbcS10.heavyPatternI\"; \"Gr1rbcS2_5.Light\";",
"  \"Gr1rbcS2_5.Heavy\"; \"Gr1rbcS2_5.Ratio\"; \"Gr1rbcS2_5.CorrelationLightHeavy\";",
"  \"Gr1rbcS2_5.lightPatternMz\"; \"Gr1rbcS2_5.lightPatternI\";",
"  \"Gr1rbcS2_5.heavyPatternMz\"; \"Gr1rbcS2_5.heavyPatternI\"; \"Gr1rbcS5.Light\";",
"  \"Gr1rbcS5.Heavy\"; \"Gr1rbcS5.Ratio\"; \"Gr1rbcS5.CorrelationLightHeavy\";",
"  \"Gr1rbcS5.lightPatternMz\"; \"Gr1rbcS5.lightPatternI\"; \"Gr1rbcS5.heavyPatternMz\";",
"  \"Gr1rbcS5.heavyPatternI\"; \"Gr2rbcL10.Light\"; \"Gr2rbcL10.Heavy\";",
"  \"Gr2rbcL10.Ratio\"; \"Gr2rbcL10.CorrelationLightHeavy\";",
"  \"Gr2rbcL10.lightPatternMz\"; \"Gr2rbcL10.lightPatternI\";",
"  \"Gr2rbcL10.heavyPatternMz\"; \"Gr2rbcL10.heavyPatternI\"; \"Gr2rbcL2_5.Light\";",
"  \"Gr2rbcL2_5.Heavy\"; \"Gr2rbcL2_5.Ratio\"; \"Gr2rbcL2_5.CorrelationLightHeavy\";",
"  \"Gr2rbcL2_5.lightPatternMz\"; \"Gr2rbcL2_5.lightPatternI\";",
"  \"Gr2rbcL2_5.heavyPatternMz\"; \"Gr2rbcL2_5.heavyPatternI\"; \"Gr2rbcL5.Light\";",
"  \"Gr2rbcL5.Heavy\"; \"Gr2rbcL5.Ratio\"; \"Gr2rbcL5.CorrelationLightHeavy\";",
"  \"Gr2rbcL5.lightPatternMz\"; \"Gr2rbcL5.lightPatternI\"; \"Gr2rbcL5.heavyPatternMz\";",
"  \"Gr2rbcL5.heavyPatternI\"; \"Gr2rbcL5A.Light\"; \"Gr2rbcL5A.Heavy\";",
"  \"Gr2rbcL5A.Ratio\"; \"Gr2rbcL5A.CorrelationLightHeavy\";",
"  \"Gr2rbcL5A.lightPatternMz\"; \"Gr2rbcL5A.lightPatternI\";",
"  \"Gr2rbcL5A.heavyPatternMz\"; \"Gr2rbcL5A.heavyPatternI\"; \"Gr2rbcL5A2.Light\";",
"  \"Gr2rbcL5A2.Heavy\"; \"Gr2rbcL5A2.Ratio\"; \"Gr2rbcL5A2.CorrelationLightHeavy\";",
"  \"Gr2rbcL5A2.lightPatternMz\"; \"Gr2rbcL5A2.lightPatternI\";",
"  \"Gr2rbcL5A2.heavyPatternMz\"; \"Gr2rbcL5A2.heavyPatternI\"; \"Gr2rbcS10.Light\";",
"  \"Gr2rbcS10.Heavy\"; \"Gr2rbcS10.Ratio\"; \"Gr2rbcS10.CorrelationLightHeavy\";",
"  \"Gr2rbcS10.lightPatternMz\"; \"Gr2rbcS10.lightPatternI\";",
"  \"Gr2rbcS10.heavyPatternMz\"; ...|]"]
        },
           "execution_count": 2,
           "metadata": {},
           "output_type": "execute_result"
          }], 
           "source": ["type PeptideIon = \n",
"    {|\n",
"        ProteinGroup    : string  \n",
"        Synonyms        : string\n",
"        StringSequence  : string\n",
"        PepSequenceID   : int\n",
"        Charge          : int\n",
"    |}\n",
"\n",
"//This is the filepath you chose in *NB06b Data Access and Quality Control*\n",
"// let filePath = @\"C:\\YourPath\\testOut.txt\"\n",
"let filePath = System.IO.Path.Combine [|__SOURCE_DIRECTORY__; \"downloads\"; \"qualityControlResult_SDS.txt\"|]\n",
"\n",
"// What is different about this function from the one known from the last notebook?\n",
"let qConcatDataFiltered =\n",
"    Frame.ReadCsv(path = filePath, separators = \"\\t\")\n",
"    // StringSequence is the peptide sequence\n",
"    |\u003e Frame.indexRowsUsing (fun os -\u003e \n",
"            let proteinGroup = os.GetAs\u003cstring\u003e(\"ProteinGroup\")\n",
"            {|\n",
"                ProteinGroup    = os.GetAs\u003cstring\u003e(\"ProteinGroup\"); \n",
"                Synonyms        = os.GetAs\u003cstring\u003e(\"Synonyms\")\n",
"                StringSequence  = os.GetAs\u003cstring\u003e(\"StringSequence\");\n",
"                PepSequenceID   = os.GetAs\u003cint\u003e(\"PepSequenceID\");\n",
"                Charge          = os.GetAs\u003cint\u003e(\"Charge\");\n",
"            |}\n",
"        )\n",
"    |\u003e Frame.filterRows (fun k s -\u003e k.ProteinGroup |\u003e String.contains \"QProt_newPS\")\n",
"\n",
"qConcatDataFiltered.ColumnKeys\n",
"|\u003e Array.ofSeq\n"]
          }
,
          {
           "cell_type": "markdown",
           "metadata": {},
           
           "source": ["First we reuse a proved pattern and define a function to manipulate our frame\n",
"\n"]
          }
,
          {
           "cell_type": "code",
           "metadata": {},
            "execution_count": 3, "outputs": [], 
           "source": ["let sliceQuantColumns quantColID frame = \n",
"    frame\n",
"    |\u003e Frame.filterCols (fun ck os -\u003e ck |\u003e String.contains (\".\" + quantColID))\n",
"    |\u003e Frame.mapColKeys (fun ck -\u003e ck.Split(\u0027.\u0027) |\u003e Array.item 0)\n"]
          }
,
          {
           "cell_type": "markdown",
           "metadata": {},
           
           "source": ["Besides already familiar slices...\n",
"\n"]
          }
,
          {
           "cell_type": "code",
           "metadata": {},
            "execution_count": 4, "outputs": [], 
           "source": ["let heavy = sliceQuantColumns \"Heavy\" qConcatDataFiltered\n"]
          }
,
          {
           "cell_type": "markdown",
           "metadata": {},
           
           "source": ["... we can also use this function for information needed to reconstruct isotopic patterns.\n",
"\n",
"## II. Extraction and visualization of measured isotopic envelopes.\n",
"\n"]
          }
,
          {
           "cell_type": "code",
           "metadata": {},
            "execution_count": 5, "outputs": [], 
           "source": ["let heavyPatternMz = sliceQuantColumns \"heavyPatternMz\" qConcatDataFiltered\n",
"let heavyPatternI  = sliceQuantColumns \"heavyPatternI\" qConcatDataFiltered\n"]
          }
,
          {
           "cell_type": "markdown",
           "metadata": {},
           
           "source": ["Now, there\u0027s a challenge: The info to reconstruct an isotopic pattern is\n",
"separated into two columns, the x component (heavyPatternMz) and the y component (heavyPatternI).\n",
"As always, this challenged can be solved using a function! \n",
"Hint: Note how we define a function \u0027floatArrayOf\u0027 that specifies how the string is parsed. \n",
"\n"]
          }
,
          {
           "cell_type": "code",
           "metadata": {},
            "execution_count": 6, "outputs": [
          {
           "data": {
            "text/plain": ["\u003cnull\u003e"]
        },
           "execution_count": 6,
           "metadata": {},
           "output_type": "execute_result"
          }], 
           "source": ["let getHeavyPatternsInFile fileName = \n",
"    let floatArrayOf s = \n",
"        if String.isNullOrEmpty s then \n",
"            [||]\n",
"        else\n",
"            s\n",
"            |\u003e String.split (\u0027;\u0027) \n",
"            |\u003e Array.map float\n",
"    let mz, intensities =\n",
"        heavyPatternMz\n",
"        |\u003e Frame.getCol fileName \n",
"        |\u003e Series.mapValues floatArrayOf,\n",
"        heavyPatternI\n",
"        |\u003e Frame.getCol fileName \n",
"        |\u003e Series.mapValues floatArrayOf\n",
"    let zipped = Series.zipInner mz intensities\n",
"    zipped\n",
"\n",
"let extractedPatterns = getHeavyPatternsInFile \"Gr2rbcL2_5\"\n"]
          }
,
          {
           "cell_type": "markdown",
           "metadata": {},
           
           "source": ["Additionally, we can write two functions to plot the patterns of a peptide. When it comes\n",
"to the build the chart (plotIsotopicPattern), things get a little bit trickier, but this is not necessarily your concern. Please inspect the Chart \n",
"created by \u0027plotIsotopicPatternOf\u0027 and write correct descriptions for the x and the y axis. (Fill: |\u003e Chart.withX_AxisStyle \"\" and |\u003e Chart.withY_AxisStyle \"\")\n",
"\n"]
          }
,
          {
           "cell_type": "code",
           "metadata": {},
            "execution_count": 7, "outputs": [], 
           "source": ["let plotIsotopicPattern color mzsAndintensities =\n",
"    let min,max =\n",
"        mzsAndintensities |\u003e Seq.minBy fst |\u003e fst,\n",
"        mzsAndintensities |\u003e Seq.maxBy fst |\u003e fst\n",
"    Seq.map (fun (x,y) -\u003e \n",
"        Chart.Line([x;x],[0.;y], Showlegend = false)\n",
"        |\u003e Chart.withLineStyle (Width = 7)\n",
"    ) mzsAndintensities\n",
"    |\u003e Chart.Combine\n",
"    |\u003e Chart.withMarkerStyle(Size=0,Color = FSharpAux.Colors.toWebColor color)\n",
"    |\u003e Chart.withX_AxisStyle (\"\", MinMax = (min - 1., max + 1.))\n",
"    |\u003e Chart.withY_AxisStyle \"\"\n",
"\n",
"type ExtractedIsoPattern = \n",
"    {|\n",
"        PeptideSequence : PeptideIon\n",
"        Charge          : int\n",
"        Pattern         : seq\u003c(float*float)\u003e\n",
"    |}\n",
"\n",
"let getIsotopicPattern peptideSequence charge =\n",
"    let (k,(mzs,intensities)) = \n",
"        extractedPatterns\n",
"        |\u003e Series.observations\n",
"        |\u003e Seq.find (fun (k,(mzs,intensities)) -\u003e \n",
"                k.StringSequence = peptideSequence \u0026\u0026 k.Charge = charge\n",
"            )\n",
"    {|\n",
"        PeptideSequence=k\n",
"        Charge  = charge\n",
"        Pattern = Seq.zip mzs intensities\n",
"    |}\n"]
          }
,
          {
           "cell_type": "code",
           "metadata": {},
            "execution_count": 8, "outputs": [], 
           "source": ["let examplePep1 = getIsotopicPattern \"DTDILAAFR\" 2\n"]
          }
,
          {
           "cell_type": "code",
           "metadata": {},
            "execution_count": null, "outputs": [
          {
           "data": {
            "text/html": ["\u003cdiv id=\"8092677b-27d4-4790-9645-1ce927699113\" style=\"width: 600px; height: 600px;\"\u003e\u003c!-- Plotly chart will be drawn inside this DIV --\u003e\u003c/div\u003e",
"\u003cscript type=\"text/javascript\"\u003e",
"",
"            var renderPlotly_8092677b27d4479096451ce927699113 = function() {",
"            var fsharpPlotlyRequire = requirejs.config({context:\u0027fsharp-plotly\u0027,paths:{plotly:\u0027https://cdn.plot.ly/plotly-latest.min\u0027}}) || require;",
"            fsharpPlotlyRequire([\u0027plotly\u0027], function(Plotly) {",
"",
"            var data = [{\"type\":\"scatter\",\"x\":[516.7474592008799,516.7474592008799],\"y\":[0.0,0.026959823544210483],\"mode\":\"lines\",\"showlegend\":false,\"marker\":{\"size\":0,\"color\":\"#41719C\"},\"line\":{\"width\":7}},{\"type\":\"scatter\",\"x\":[517.255191950945,517.255191950945],\"y\":[0.0,0.7184488740412237],\"mode\":\"lines\",\"showlegend\":false,\"marker\":{\"size\":0,\"color\":\"#41719C\"},\"line\":{\"width\":7}},{\"type\":\"scatter\",\"x\":[517.7535871412731,517.7535871412731],\"y\":[0.0,0.2545913024145658],\"mode\":\"lines\",\"showlegend\":false,\"marker\":{\"size\":0,\"color\":\"#41719C\"},\"line\":{\"width\":7}}];",
"            var layout = {\"xaxis\":{\"title\":\"\",\"range\":[515.7474592008799,518.7535871412731]},\"yaxis\":{\"title\":\"\"}};",
"            var config = {};",
"            Plotly.newPlot(\u00278092677b-27d4-4790-9645-1ce927699113\u0027, data, layout, config);",
"});",
"            };",
"            if ((typeof(requirejs) !==  typeof(Function)) || (typeof(requirejs.config) !== typeof(Function))) {",
"                var script = document.createElement(\"script\");",
"                script.setAttribute(\"src\", \"https://cdnjs.cloudflare.com/ajax/libs/require.js/2.3.6/require.min.js\");",
"                script.onload = function(){",
"                    renderPlotly_8092677b27d4479096451ce927699113();",
"                };",
"                document.getElementsByTagName(\"head\")[0].appendChild(script);",
"            }",
"            else {",
"                renderPlotly_8092677b27d4479096451ce927699113();",
"            }",
"\u003c/script\u003e",
""]
        },
           "execution_count": null,
           "metadata": {},
           "output_type": "execute_result"
          }], 
           "source": ["plotIsotopicPattern FSharpAux.Colors.Table.Office.blue examplePep1.Pattern\n"]
          }
,
          {
           "cell_type": "code",
           "metadata": {},
            "execution_count": 10, "outputs": [], 
           "source": ["let examplePep2 = getIsotopicPattern \"LTYYTPDYVVR\" 2\n"]
          }
,
          {
           "cell_type": "code",
           "metadata": {},
            "execution_count": null, "outputs": [
          {
           "data": {
            "text/html": ["\u003cdiv id=\"8e4fc6b1-0650-4ebd-afb1-765577a6a40b\" style=\"width: 600px; height: 600px;\"\u003e\u003c!-- Plotly chart will be drawn inside this DIV --\u003e\u003c/div\u003e",
"\u003cscript type=\"text/javascript\"\u003e",
"",
"            var renderPlotly_8e4fc6b106504ebdafb1765577a6a40b = function() {",
"            var fsharpPlotlyRequire = requirejs.config({context:\u0027fsharp-plotly\u0027,paths:{plotly:\u0027https://cdn.plot.ly/plotly-latest.min\u0027}}) || require;",
"            fsharpPlotlyRequire([\u0027plotly\u0027], function(Plotly) {",
"",
"            var data = [{\"type\":\"scatter\",\"x\":[701.8333408162464,701.8333408162464],\"y\":[0.0,0.027600669046608583],\"mode\":\"lines\",\"showlegend\":false,\"marker\":{\"size\":0,\"color\":\"#41719C\"},\"line\":{\"width\":7}},{\"type\":\"scatter\",\"x\":[702.3319849798934,702.3319849798934],\"y\":[0.0,0.6511620940160272],\"mode\":\"lines\",\"showlegend\":false,\"marker\":{\"size\":0,\"color\":\"#41719C\"},\"line\":{\"width\":7}},{\"type\":\"scatter\",\"x\":[702.8308062209867,702.8308062209867],\"y\":[0.0,0.3212372369373643],\"mode\":\"lines\",\"showlegend\":false,\"marker\":{\"size\":0,\"color\":\"#41719C\"},\"line\":{\"width\":7}}];",
"            var layout = {\"xaxis\":{\"title\":\"\",\"range\":[700.8333408162464,703.8308062209867]},\"yaxis\":{\"title\":\"\"}};",
"            var config = {};",
"            Plotly.newPlot(\u00278e4fc6b1-0650-4ebd-afb1-765577a6a40b\u0027, data, layout, config);",
"});",
"            };",
"            if ((typeof(requirejs) !==  typeof(Function)) || (typeof(requirejs.config) !== typeof(Function))) {",
"                var script = document.createElement(\"script\");",
"                script.setAttribute(\"src\", \"https://cdnjs.cloudflare.com/ajax/libs/require.js/2.3.6/require.min.js\");",
"                script.onload = function(){",
"                    renderPlotly_8e4fc6b106504ebdafb1765577a6a40b();",
"                };",
"                document.getElementsByTagName(\"head\")[0].appendChild(script);",
"            }",
"            else {",
"                renderPlotly_8e4fc6b106504ebdafb1765577a6a40b();",
"            }",
"\u003c/script\u003e",
""]
        },
           "execution_count": null,
           "metadata": {},
           "output_type": "execute_result"
          }], 
           "source": ["plotIsotopicPattern FSharpAux.Colors.Table.Office.blue examplePep2.Pattern\n"]
          }
,
          {
           "cell_type": "markdown",
           "metadata": {},
           
           "source": ["## III. Simulation of isotopic patterns: revisited.\n",
"\n",
"Now that we visualized the patterns of two sample peptides, we will simulate theoretical patterns\n",
"and compare them to the ones we measured! You will recognize a lot of the used code from *NB02c Isotopic distribution*\n",
"Note: we copy the code so you can make yourself familiar with it, of course we could also reference functions defined beforehand.\n",
"\n"]
          }
,
          {
           "cell_type": "code",
           "metadata": {},
            "execution_count": 12, "outputs": [], 
           "source": ["// create chemical formula for amino acid and add water to reflect hydrolysed state in mass spectrometer\n",
"let toFormula bioseq =  \n",
"    bioseq\n",
"    |\u003e BioSeq.toFormula\n",
"    // peptides are hydrolysed in the mass spectrometer, so we add H2O\n",
"    |\u003e Formula.add Formula.Table.H2O\n",
"\n",
"let label n15LableEfficiency formula =\n",
"    let heavyN15 = Elements.Di  (Elements.createDi \"N15\" (Isotopes.Table.N15,n15LableEfficiency) (Isotopes.Table.N14,1.-n15LableEfficiency) )\n",
"    Formula.replaceElement formula Elements.Table.N heavyN15\n",
"\n",
"// Predicts an isotopic distribution of the given formula at the given charge, \n",
"// normalized by the sum of probabilities, using the MIDAs algorithm\n",
"let generateIsotopicDistribution (charge:int) (f:Formula.Formula) =\n",
"    IsotopicDistribution.MIDA.ofFormula \n",
"        IsotopicDistribution.MIDA.normalizeByProbSum\n",
"        0.01\n",
"        0.000000001\n",
"        charge\n",
"        f\n",
"\n",
"type SimulatedIsoPattern = \n",
"    {|\n",
"        PeptideSequence : string\n",
"        Charge          : int\n",
"        LableEfficiency : float\n",
"        SimPattern      : list\u003c(float*float)\u003e\n",
"    |}\n",
"\n",
"let simulateFrom peptideSequence charge lableEfficiency =\n",
"    let simPattern =\n",
"        peptideSequence\n",
"        |\u003e BioSeq.ofAminoAcidString\n",
"        |\u003e toFormula \n",
"        |\u003e label lableEfficiency\n",
"        |\u003e generateIsotopicDistribution charge     \n",
"    {|\n",
"        PeptideSequence = peptideSequence\n",
"        Charge          = charge\n",
"        LableEfficiency = lableEfficiency\n",
"        SimPattern      = simPattern\n",
"    |}\n"]
          }
,
          {
           "cell_type": "code",
           "metadata": {},
            "execution_count": 13, "outputs": [
          {
           "data": {
            "text/html": ["\u003cdiv id=\"5ffe62c1-9f35-48e9-8e3b-e8ad37ec8139\" style=\"width: 600px; height: 600px;\"\u003e\u003c!-- Plotly chart will be drawn inside this DIV --\u003e\u003c/div\u003e",
"\u003cscript type=\"text/javascript\"\u003e",
"",
"            var renderPlotly_5ffe62c19f3548e98e3be8ad37ec8139 = function() {",
"            var fsharpPlotlyRequire = requirejs.config({context:\u0027fsharp-plotly\u0027,paths:{plotly:\u0027https://cdn.plot.ly/plotly-latest.min\u0027}}) || require;",
"            fsharpPlotlyRequire([\u0027plotly\u0027], function(Plotly) {",
"",
"            var data = [{\"type\":\"scatter\",\"x\":[697.8490096036468,697.8490096036468],\"y\":[0.0,1.3970829629574933E-09],\"mode\":\"lines\",\"showlegend\":false,\"marker\":{\"size\":0,\"color\":\"#ED7D31\"},\"line\":{\"width\":7}},{\"type\":\"scatter\",\"x\":[698.34760896613,698.34760896613],\"y\":[0.0,4.0837277521087134E-08],\"mode\":\"lines\",\"showlegend\":false,\"marker\":{\"size\":0,\"color\":\"#ED7D31\"},\"line\":{\"width\":7}},{\"type\":\"scatter\",\"x\":[698.8461528800368,698.8461528800368],\"y\":[0.0,8.936765434790334E-07],\"mode\":\"lines\",\"showlegend\":false,\"marker\":{\"size\":0,\"color\":\"#ED7D31\"},\"line\":{\"width\":7}},{\"type\":\"scatter\",\"x\":[699.3447045573978,699.3447045573978],\"y\":[0.0,1.50116355657933E-05],\"mode\":\"lines\",\"showlegend\":false,\"marker\":{\"size\":0,\"color\":\"#ED7D31\"},\"line\":{\"width\":7}},{\"type\":\"scatter\",\"x\":[699.350721733829,699.350721733829],\"y\":[0.0,1.1693889739674368E-08],\"mode\":\"lines\",\"showlegend\":false,\"marker\":{\"size\":0,\"color\":\"#ED7D31\"},\"line\":{\"width\":7}},{\"type\":\"scatter\",\"x\":[699.8432654129793,699.8432654129793],\"y\":[0.0,0.00019271012948812225],\"mode\":\"lines\",\"showlegend\":false,\"marker\":{\"size\":0,\"color\":\"#ED7D31\"},\"line\":{\"width\":7}},{\"type\":\"scatter\",\"x\":[699.8494946436625,699.8494946436625],\"y\":[0.0,2.308370562429268E-07],\"mode\":\"lines\",\"showlegend\":false,\"marker\":{\"size\":0,\"color\":\"#ED7D31\"},\"line\":{\"width\":7}},{\"type\":\"scatter\",\"x\":[700.3418522455902,700.3418522455902],\"y\":[0.0,0.0018682789930166105],\"mode\":\"lines\",\"showlegend\":false,\"marker\":{\"size\":0,\"color\":\"#ED7D31\"},\"line\":{\"width\":7}},{\"type\":\"scatter\",\"x\":[700.3499652027043,700.3499652027043],\"y\":[0.0,1.7276860783679397E-07],\"mode\":\"lines\",\"showlegend\":false,\"marker\":{\"size\":0,\"color\":\"#ED7D31\"},\"line\":{\"width\":7}},{\"type\":\"scatter\",\"x\":[700.8404579489564,700.8404579489564],\"y\":[0.0,0.013274054447479195],\"mode\":\"lines\",\"showlegend\":false,\"marker\":{\"size\":0,\"color\":\"#ED7D31\"},\"line\":{\"width\":7}},{\"type\":\"scatter\",\"x\":[700.8459764478409,700.8459764478409],\"y\":[0.0,9.428546333152092E-06],\"mode\":\"lines\",\"showlegend\":false,\"marker\":{\"size\":0,\"color\":\"#ED7D31\"},\"line\":{\"width\":7}},{\"type\":\"scatter\",\"x\":[701.3390727035044,701.3390727035044],\"y\":[0.0,0.06549263210686368],\"mode\":\"lines\",\"showlegend\":false,\"marker\":{\"size\":0,\"color\":\"#ED7D31\"},\"line\":{\"width\":7}},{\"type\":\"scatter\",\"x\":[701.344578535139,701.344578535139],\"y\":[0.0,0.0006348449156610074],\"mode\":\"lines\",\"showlegend\":false,\"marker\":{\"size\":0,\"color\":\"#ED7D31\"},\"line\":{\"width\":7}},{\"type\":\"scatter\",\"x\":[701.3514222235586,701.3514222235586],\"y\":[0.0,1.7279990119335753E-07],\"mode\":\"lines\",\"showlegend\":false,\"marker\":{\"size\":0,\"color\":\"#ED7D31\"},\"line\":{\"width\":7}},{\"type\":\"scatter\",\"x\":[701.8379114616379,701.8379114616379],\"y\":[0.0,0.21157489675194804],\"mode\":\"lines\",\"showlegend\":false,\"marker\":{\"size\":0,\"color\":\"#ED7D31\"},\"line\":{\"width\":7}},{\"type\":\"scatter\",\"x\":[701.8458061211896,701.8458061211896],\"y\":[0.0,5.7564098295199155E-05],\"mode\":\"lines\",\"showlegend\":false,\"marker\":{\"size\":0,\"color\":\"#ED7D31\"},\"line\":{\"width\":7}},{\"type\":\"scatter\",\"x\":[701.8544691076909,701.8544691076909],\"y\":[0.0,1.6999882718488825E-09],\"mode\":\"lines\",\"showlegend\":false,\"marker\":{\"size\":0,\"color\":\"#ED7D31\"},\"line\":{\"width\":7}},{\"type\":\"scatter\",\"x\":[702.3370174054604,702.3370174054604],\"y\":[0.0,0.36203186035882484],\"mode\":\"lines\",\"showlegend\":false,\"marker\":{\"size\":0,\"color\":\"#ED7D31\"},\"line\":{\"width\":7}},{\"type\":\"scatter\",\"x\":[702.3423610000177,702.3423610000177],\"y\":[0.0,0.004130325278245811],\"mode\":\"lines\",\"showlegend\":false,\"marker\":{\"size\":0,\"color\":\"#ED7D31\"},\"line\":{\"width\":7}},{\"type\":\"scatter\",\"x\":[702.3515689975715,702.3515689975715],\"y\":[0.0,3.4480019518200574E-08],\"mode\":\"lines\",\"showlegend\":false,\"marker\":{\"size\":0,\"color\":\"#ED7D31\"},\"line\":{\"width\":7}},{\"type\":\"scatter\",\"x\":[702.8382324208044,702.8382324208044],\"y\":[0.0,0.22246617271295813],\"mode\":\"lines\",\"showlegend\":false,\"marker\":{\"size\":0,\"color\":\"#ED7D31\"},\"line\":{\"width\":7}},{\"type\":\"scatter\",\"x\":[702.8457378571696,702.8457378571696],\"y\":[0.0,0.0001462593704238711],\"mode\":\"lines\",\"showlegend\":false,\"marker\":{\"size\":0,\"color\":\"#ED7D31\"},\"line\":{\"width\":7}},{\"type\":\"scatter\",\"x\":[702.8501644628818,702.8501644628818],\"y\":[0.0,3.1451260748537322E-06],\"mode\":\"lines\",\"showlegend\":false,\"marker\":{\"size\":0,\"color\":\"#ED7D31\"},\"line\":{\"width\":7}},{\"type\":\"scatter\",\"x\":[703.3395053137706,703.3395053137706],\"y\":[0.0,0.0851825003708714],\"mode\":\"lines\",\"showlegend\":false,\"marker\":{\"size\":0,\"color\":\"#ED7D31\"},\"line\":{\"width\":7}},{\"type\":\"scatter\",\"x\":[703.3456257963234,703.3456257963234],\"y\":[0.0,0.0007191798130445007],\"mode\":\"lines\",\"showlegend\":false,\"marker\":{\"size\":0,\"color\":\"#ED7D31\"},\"line\":{\"width\":7}},{\"type\":\"scatter\",\"x\":[703.3502310346838,703.3502310346838],\"y\":[0.0,1.1066092278374865E-06],\"mode\":\"lines\",\"showlegend\":false,\"marker\":{\"size\":0,\"color\":\"#ED7D31\"},\"line\":{\"width\":7}},{\"type\":\"scatter\",\"x\":[703.3549927006201,703.3549927006201],\"y\":[0.0,2.8968827193078952E-09],\"mode\":\"lines\",\"showlegend\":false,\"marker\":{\"size\":0,\"color\":\"#ED7D31\"},\"line\":{\"width\":7}},{\"type\":\"scatter\",\"x\":[703.8408651894921,703.8408651894921],\"y\":[0.0,0.024710191896730845],\"mode\":\"lines\",\"showlegend\":false,\"marker\":{\"size\":0,\"color\":\"#ED7D31\"},\"line\":{\"width\":7}},{\"type\":\"scatter\",\"x\":[703.8459649130984,703.8459649130984],\"y\":[0.0,0.00019010097666118022],\"mode\":\"lines\",\"showlegend\":false,\"marker\":{\"size\":0,\"color\":\"#ED7D31\"},\"line\":{\"width\":7}},{\"type\":\"scatter\",\"x\":[703.8515856253384,703.8515856253384],\"y\":[0.0,2.9716252927342786E-07],\"mode\":\"lines\",\"showlegend\":false,\"marker\":{\"size\":0,\"color\":\"#ED7D31\"},\"line\":{\"width\":7}},{\"type\":\"scatter\",\"x\":[704.3422484737587,704.3422484737587],\"y\":[0.0,0.00587188711208848],\"mode\":\"lines\",\"showlegend\":false,\"marker\":{\"size\":0,\"color\":\"#ED7D31\"},\"line\":{\"width\":7}},{\"type\":\"scatter\",\"x\":[704.3508297211299,704.3508297211299],\"y\":[0.0,8.580356592920924E-07],\"mode\":\"lines\",\"showlegend\":false,\"marker\":{\"size\":0,\"color\":\"#ED7D31\"},\"line\":{\"width\":7}},{\"type\":\"scatter\",\"x\":[704.8435771463786,704.8435771463786],\"y\":[0.0,0.001177875784266261],\"mode\":\"lines\",\"showlegend\":false,\"marker\":{\"size\":0,\"color\":\"#ED7D31\"},\"line\":{\"width\":7}},{\"type\":\"scatter\",\"x\":[704.8506496238499,704.8506496238499],\"y\":[0.0,1.5459571677803764E-06],\"mode\":\"lines\",\"showlegend\":false,\"marker\":{\"size\":0,\"color\":\"#ED7D31\"},\"line\":{\"width\":7}},{\"type\":\"scatter\",\"x\":[705.3448892958287,705.3448892958287],\"y\":[0.0,0.00020676147130907146],\"mode\":\"lines\",\"showlegend\":false,\"marker\":{\"size\":0,\"color\":\"#ED7D31\"},\"line\":{\"width\":7}},{\"type\":\"scatter\",\"x\":[705.3504305476782,705.3504305476782],\"y\":[0.0,8.906200508228865E-07],\"mode\":\"lines\",\"showlegend\":false,\"marker\":{\"size\":0,\"color\":\"#ED7D31\"},\"line\":{\"width\":7}},{\"type\":\"scatter\",\"x\":[705.8461710899614,705.8461710899614],\"y\":[0.0,3.229041025803717E-05],\"mode\":\"lines\",\"showlegend\":false,\"marker\":{\"size\":0,\"color\":\"#ED7D31\"},\"line\":{\"width\":7}},{\"type\":\"scatter\",\"x\":[705.8508707655795,705.8508707655795],\"y\":[0.0,4.090580840687963E-07],\"mode\":\"lines\",\"showlegend\":false,\"marker\":{\"size\":0,\"color\":\"#ED7D31\"},\"line\":{\"width\":7}},{\"type\":\"scatter\",\"x\":[706.3475354829349,706.3475354829349],\"y\":[0.0,4.6709300844135485E-06],\"mode\":\"lines\",\"showlegend\":false,\"marker\":{\"size\":0,\"color\":\"#ED7D31\"},\"line\":{\"width\":7}},{\"type\":\"scatter\",\"x\":[706.848810629564,706.848810629564],\"y\":[0.0,6.089268971635478E-07],\"mode\":\"lines\",\"showlegend\":false,\"marker\":{\"size\":0,\"color\":\"#ED7D31\"},\"line\":{\"width\":7}},{\"type\":\"scatter\",\"x\":[707.3500830289358,707.3500830289358],\"y\":[0.0,7.166202784559138E-08],\"mode\":\"lines\",\"showlegend\":false,\"marker\":{\"size\":0,\"color\":\"#ED7D31\"},\"line\":{\"width\":7}},{\"type\":\"scatter\",\"x\":[707.8512850146085,707.8512850146085],\"y\":[0.0,5.644613849283407E-09],\"mode\":\"lines\",\"showlegend\":false,\"marker\":{\"size\":0,\"color\":\"#ED7D31\"},\"line\":{\"width\":7}}];",
"            var layout = {\"xaxis\":{\"title\":\"\",\"range\":[696.8490096036468,708.8512850146085]},\"yaxis\":{\"title\":\"\"}};",
"            var config = {};",
"            Plotly.newPlot(\u00275ffe62c1-9f35-48e9-8e3b-e8ad37ec8139\u0027, data, layout, config);",
"});",
"            };",
"            if ((typeof(requirejs) !==  typeof(Function)) || (typeof(requirejs.config) !== typeof(Function))) {",
"                var script = document.createElement(\"script\");",
"                script.setAttribute(\"src\", \"https://cdnjs.cloudflare.com/ajax/libs/require.js/2.3.6/require.min.js\");",
"                script.onload = function(){",
"                    renderPlotly_5ffe62c19f3548e98e3be8ad37ec8139();",
"                };",
"                document.getElementsByTagName(\"head\")[0].appendChild(script);",
"            }",
"            else {",
"                renderPlotly_5ffe62c19f3548e98e3be8ad37ec8139();",
"            }",
"\u003c/script\u003e",
""]
        },
           "execution_count": 13,
           "metadata": {},
           "output_type": "execute_result"
          }], 
           "source": ["let examplePep2_Sim1 = simulateFrom \"LTYYTPDYVVR\" 2 0.95\n",
"\n",
"plotIsotopicPattern FSharpAux.Colors.Table.Office.orange examplePep2_Sim1.SimPattern\n"]
          }
,
          {
           "cell_type": "code",
           "metadata": {},
            "execution_count": 15, "outputs": [
          {
           "data": {
            "text/html": ["\u003cdiv id=\"3e24fefa-99b5-4d83-9e21-245f19168c7e\" style=\"width: 600px; height: 600px;\"\u003e\u003c!-- Plotly chart will be drawn inside this DIV --\u003e\u003c/div\u003e",
"\u003cscript type=\"text/javascript\"\u003e",
"",
"            var renderPlotly_3e24fefa99b54d839e21245f19168c7e = function() {",
"            var fsharpPlotlyRequire = requirejs.config({context:\u0027fsharp-plotly\u0027,paths:{plotly:\u0027https://cdn.plot.ly/plotly-latest.min\u0027}}) || require;",
"            fsharpPlotlyRequire([\u0027plotly\u0027], function(Plotly) {",
"",
"            var data = [{\"type\":\"scatter\",\"x\":[699.3445692604643,699.3445692604643],\"y\":[0.0,1.2795196065098556E-09],\"mode\":\"lines\",\"showlegend\":false,\"marker\":{\"size\":0,\"color\":\"#ED7D31\"},\"line\":{\"width\":7}},{\"type\":\"scatter\",\"x\":[699.84308914607,699.84308914607],\"y\":[0.0,8.444829402963785E-08],\"mode\":\"lines\",\"showlegend\":false,\"marker\":{\"size\":0,\"color\":\"#ED7D31\"},\"line\":{\"width\":7}},{\"type\":\"scatter\",\"x\":[700.3416552813679,700.3416552813679],\"y\":[0.0,4.241870601983185E-06],\"mode\":\"lines\",\"showlegend\":false,\"marker\":{\"size\":0,\"color\":\"#ED7D31\"},\"line\":{\"width\":7}},{\"type\":\"scatter\",\"x\":[700.8401928601737,700.8401928601737],\"y\":[0.0,0.00015357027680704173],\"mode\":\"lines\",\"showlegend\":false,\"marker\":{\"size\":0,\"color\":\"#ED7D31\"},\"line\":{\"width\":7}},{\"type\":\"scatter\",\"x\":[700.8462813906463,700.8462813906463],\"y\":[0.0,2.480177816281291E-08],\"mode\":\"lines\",\"showlegend\":false,\"marker\":{\"size\":0,\"color\":\"#ED7D31\"},\"line\":{\"width\":7}},{\"type\":\"scatter\",\"x\":[701.3387412204617,701.3387412204617],\"y\":[0.0,0.0038357381030572255],\"mode\":\"lines\",\"showlegend\":false,\"marker\":{\"size\":0,\"color\":\"#ED7D31\"},\"line\":{\"width\":7}},{\"type\":\"scatter\",\"x\":[701.3450300802326,701.3450300802326],\"y\":[0.0,1.106270881023102E-06],\"mode\":\"lines\",\"showlegend\":false,\"marker\":{\"size\":0,\"color\":\"#ED7D31\"},\"line\":{\"width\":7}},{\"type\":\"scatter\",\"x\":[701.8373203629613,701.8373203629613],\"y\":[0.0,0.059520197958898825],\"mode\":\"lines\",\"showlegend\":false,\"marker\":{\"size\":0,\"color\":\"#ED7D31\"},\"line\":{\"width\":7}},{\"type\":\"scatter\",\"x\":[701.8452748188865,701.8452748188865],\"y\":[0.0,1.4979383613640783E-06],\"mode\":\"lines\",\"showlegend\":false,\"marker\":{\"size\":0,\"color\":\"#ED7D31\"},\"line\":{\"width\":7}},{\"type\":\"scatter\",\"x\":[702.3360027567306,702.3360027567306],\"y\":[0.0,0.4439690230636216],\"mode\":\"lines\",\"showlegend\":false,\"marker\":{\"size\":0,\"color\":\"#ED7D31\"},\"line\":{\"width\":7}},{\"type\":\"scatter\",\"x\":[702.3412799787812,702.3412799787812],\"y\":[0.0,0.00017926695465607132],\"mode\":\"lines\",\"showlegend\":false,\"marker\":{\"size\":0,\"color\":\"#ED7D31\"},\"line\":{\"width\":7}},{\"type\":\"scatter\",\"x\":[702.8375676547897,702.8375676547897],\"y\":[0.0,0.31366832017216384],\"mode\":\"lines\",\"showlegend\":false,\"marker\":{\"size\":0,\"color\":\"#ED7D31\"},\"line\":{\"width\":7}},{\"type\":\"scatter\",\"x\":[702.8469614513797,702.8469614513797],\"y\":[0.0,1.7926755363389707E-06],\"mode\":\"lines\",\"showlegend\":false,\"marker\":{\"size\":0,\"color\":\"#ED7D31\"},\"line\":{\"width\":7}},{\"type\":\"scatter\",\"x\":[703.3390576723148,703.3390576723148],\"y\":[0.0,0.1285289488408072],\"mode\":\"lines\",\"showlegend\":false,\"marker\":{\"size\":0,\"color\":\"#ED7D31\"},\"line\":{\"width\":7}},{\"type\":\"scatter\",\"x\":[703.345490313138,703.345490313138],\"y\":[0.0,4.10581410868632E-05],\"mode\":\"lines\",\"showlegend\":false,\"marker\":{\"size\":0,\"color\":\"#ED7D31\"},\"line\":{\"width\":7}},{\"type\":\"scatter\",\"x\":[703.3500287645082,703.3500287645082],\"y\":[0.0,1.7797960847793486E-08],\"mode\":\"lines\",\"showlegend\":false,\"marker\":{\"size\":0,\"color\":\"#ED7D31\"},\"line\":{\"width\":7}},{\"type\":\"scatter\",\"x\":[703.8405039149677,703.8405039149677],\"y\":[0.0,0.03852319937845025],\"mode\":\"lines\",\"showlegend\":false,\"marker\":{\"size\":0,\"color\":\"#ED7D31\"},\"line\":{\"width\":7}},{\"type\":\"scatter\",\"x\":[703.8478654137475,703.8478654137475],\"y\":[0.0,4.0968959374914253E-07],\"mode\":\"lines\",\"showlegend\":false,\"marker\":{\"size\":0,\"color\":\"#ED7D31\"},\"line\":{\"width\":7}},{\"type\":\"scatter\",\"x\":[704.3419115559918,704.3419115559918],\"y\":[0.0,0.009280541163370635],\"mode\":\"lines\",\"showlegend\":false,\"marker\":{\"size\":0,\"color\":\"#ED7D31\"},\"line\":{\"width\":7}},{\"type\":\"scatter\",\"x\":[704.8432915106474,704.8432915106474],\"y\":[0.0,0.001891736027759499],\"mode\":\"lines\",\"showlegend\":false,\"marker\":{\"size\":0,\"color\":\"#ED7D31\"},\"line\":{\"width\":7}},{\"type\":\"scatter\",\"x\":[704.85059383228,704.85059383228],\"y\":[0.0,6.498670030654246E-08],\"mode\":\"lines\",\"showlegend\":false,\"marker\":{\"size\":0,\"color\":\"#ED7D31\"},\"line\":{\"width\":7}},{\"type\":\"scatter\",\"x\":[705.344650370425,705.344650370425],\"y\":[0.0,0.00033678418681284055],\"mode\":\"lines\",\"showlegend\":false,\"marker\":{\"size\":0,\"color\":\"#ED7D31\"},\"line\":{\"width\":7}},{\"type\":\"scatter\",\"x\":[705.3509986969107,705.3509986969107],\"y\":[0.0,2.4543263736862864E-08],\"mode\":\"lines\",\"showlegend\":false,\"marker\":{\"size\":0,\"color\":\"#ED7D31\"},\"line\":{\"width\":7}},{\"type\":\"scatter\",\"x\":[705.845980763922,705.845980763922],\"y\":[0.0,5.336007534189496E-05],\"mode\":\"lines\",\"showlegend\":false,\"marker\":{\"size\":0,\"color\":\"#ED7D31\"},\"line\":{\"width\":7}},{\"type\":\"scatter\",\"x\":[705.8505905738847,705.8505905738847],\"y\":[0.0,1.432216923884686E-07],\"mode\":\"lines\",\"showlegend\":false,\"marker\":{\"size\":0,\"color\":\"#ED7D31\"},\"line\":{\"width\":7}},{\"type\":\"scatter\",\"x\":[706.3473207120211,706.3473207120211],\"y\":[0.0,7.698640579254149E-06],\"mode\":\"lines\",\"showlegend\":false,\"marker\":{\"size\":0,\"color\":\"#ED7D31\"},\"line\":{\"width\":7}},{\"type\":\"scatter\",\"x\":[706.8486322385055,706.8486322385055],\"y\":[0.0,1.01329418499124E-06],\"mode\":\"lines\",\"showlegend\":false,\"marker\":{\"size\":0,\"color\":\"#ED7D31\"},\"line\":{\"width\":7}},{\"type\":\"scatter\",\"x\":[707.3498984607531,707.3498984607531],\"y\":[0.0,1.2130237339165246E-07],\"mode\":\"lines\",\"showlegend\":false,\"marker\":{\"size\":0,\"color\":\"#ED7D31\"},\"line\":{\"width\":7}},{\"type\":\"scatter\",\"x\":[707.8511606166704,707.8511606166704],\"y\":[0.0,1.2895844677662855E-08],\"mode\":\"lines\",\"showlegend\":false,\"marker\":{\"size\":0,\"color\":\"#ED7D31\"},\"line\":{\"width\":7}}];",
"            var layout = {\"xaxis\":{\"title\":\"\",\"range\":[698.3445692604643,708.8511606166704]},\"yaxis\":{\"title\":\"\"}};",
"            var config = {};",
"            Plotly.newPlot(\u00273e24fefa-99b5-4d83-9e21-245f19168c7e\u0027, data, layout, config);",
"});",
"            };",
"            if ((typeof(requirejs) !==  typeof(Function)) || (typeof(requirejs.config) !== typeof(Function))) {",
"                var script = document.createElement(\"script\");",
"                script.setAttribute(\"src\", \"https://cdnjs.cloudflare.com/ajax/libs/require.js/2.3.6/require.min.js\");",
"                script.onload = function(){",
"                    renderPlotly_3e24fefa99b54d839e21245f19168c7e();",
"                };",
"                document.getElementsByTagName(\"head\")[0].appendChild(script);",
"            }",
"            else {",
"                renderPlotly_3e24fefa99b54d839e21245f19168c7e();",
"            }",
"\u003c/script\u003e",
""]
        },
           "execution_count": 15,
           "metadata": {},
           "output_type": "execute_result"
          }], 
           "source": ["let examplePep2_Sim2 = simulateFrom \"LTYYTPDYVVR\" 2 0.99\n",
"\n",
"plotIsotopicPattern FSharpAux.Colors.Table.Office.orange examplePep2_Sim2.SimPattern\n"]
          }
,
          {
           "cell_type": "markdown",
           "metadata": {},
           
           "source": ["## IV. Comparing measured and theoretical isotopic patterns.\n",
"\n",
"As we see, there is a discrepancy between real and simulated patterns, both in peak height and in peak count. \n",
"But before we compare both patterns, we have to take some things into consideration.\n",
"While both patterns are normalized in a way that their intensities\n",
"sum to 1., they were normalized independently from each other. Since it is often not possible to \n",
"extract all peaks of an isotopic pattern from a MS run (e.g. due to measurement inaccuracies), we have to \n",
"write a function which filters the simulated patterns for those peaks present in the experimentally \n",
"measured one. Then we normalize it again and have two spectra that can be compared.\n",
"// How are distributions called that sum up to 1?\n",
"\n"]
          }
,
          {
           "cell_type": "code",
           "metadata": {},
            "execution_count": 17, "outputs": [], 
           "source": ["let normBySum (a:seq\u003cfloat*float\u003e) =\n",
"    let s = Seq.sumBy snd a \n",
"    Seq.map (fun (x,y) -\u003e x,y / s) a\n",
"\n",
"let compareIsotopicDistributions (measured:ExtractedIsoPattern) (simulated:SimulatedIsoPattern)= \n",
"    let patternSim\u0027 = \n",
"        measured.Pattern \n",
"        |\u003e Seq.map (fun (mz,intensities) -\u003e \n",
"                mz,\n",
"                simulated.SimPattern\n",
"                |\u003e Seq.filter (fun (mzSim,intensitiesSim) -\u003e abs(mzSim-mz) \u003c 0.05 )\n",
"                |\u003e Seq.sumBy snd\n",
"            )\n",
"        |\u003e normBySum\n",
"    {|\n",
"        Plot = \n",
"            [\n",
"            plotIsotopicPattern FSharpAux.Colors.Table.Office.blue measured.Pattern\n",
"            plotIsotopicPattern FSharpAux.Colors.Table.Office.orange patternSim\u0027\n",
"            ]\n",
"            |\u003e Chart.Combine\n",
"    |}\n"]
          }
,
          {
           "cell_type": "code",
           "metadata": {},
            "execution_count": 18, "outputs": [
          {
           "data": {
            "text/html": ["\u003cdiv id=\"7823d5f0-db53-4733-8e63-263978daa861\" style=\"width: 600px; height: 600px;\"\u003e\u003c!-- Plotly chart will be drawn inside this DIV --\u003e\u003c/div\u003e",
"\u003cscript type=\"text/javascript\"\u003e",
"",
"            var renderPlotly_7823d5f0db5347338e63263978daa861 = function() {",
"            var fsharpPlotlyRequire = requirejs.config({context:\u0027fsharp-plotly\u0027,paths:{plotly:\u0027https://cdn.plot.ly/plotly-latest.min\u0027}}) || require;",
"            fsharpPlotlyRequire([\u0027plotly\u0027], function(Plotly) {",
"",
"            var data = [{\"type\":\"scatter\",\"x\":[701.8333408162464,701.8333408162464],\"y\":[0.0,0.027600669046608583],\"mode\":\"lines\",\"showlegend\":false,\"marker\":{\"size\":0,\"color\":\"#41719C\"},\"line\":{\"width\":7}},{\"type\":\"scatter\",\"x\":[702.3319849798934,702.3319849798934],\"y\":[0.0,0.6511620940160272],\"mode\":\"lines\",\"showlegend\":false,\"marker\":{\"size\":0,\"color\":\"#41719C\"},\"line\":{\"width\":7}},{\"type\":\"scatter\",\"x\":[702.8308062209867,702.8308062209867],\"y\":[0.0,0.3212372369373643],\"mode\":\"lines\",\"showlegend\":false,\"marker\":{\"size\":0,\"color\":\"#41719C\"},\"line\":{\"width\":7}},{\"type\":\"scatter\",\"x\":[701.8333408162464,701.8333408162464],\"y\":[0.0,0.26440498474221436],\"mode\":\"lines\",\"showlegend\":false,\"marker\":{\"size\":0,\"color\":\"#ED7D31\"},\"line\":{\"width\":7}},{\"type\":\"scatter\",\"x\":[702.3319849798934,702.3319849798934],\"y\":[0.0,0.45746817410044194],\"mode\":\"lines\",\"showlegend\":false,\"marker\":{\"size\":0,\"color\":\"#ED7D31\"},\"line\":{\"width\":7}},{\"type\":\"scatter\",\"x\":[702.8308062209867,702.8308062209867],\"y\":[0.0,0.27812684115734354],\"mode\":\"lines\",\"showlegend\":false,\"marker\":{\"size\":0,\"color\":\"#ED7D31\"},\"line\":{\"width\":7}}];",
"            var layout = {\"xaxis\":{\"title\":\"\",\"range\":[700.8333408162464,703.8308062209867]},\"yaxis\":{\"title\":\"\"}};",
"            var config = {};",
"            Plotly.newPlot(\u00277823d5f0-db53-4733-8e63-263978daa861\u0027, data, layout, config);",
"});",
"            };",
"            if ((typeof(requirejs) !==  typeof(Function)) || (typeof(requirejs.config) !== typeof(Function))) {",
"                var script = document.createElement(\"script\");",
"                script.setAttribute(\"src\", \"https://cdnjs.cloudflare.com/ajax/libs/require.js/2.3.6/require.min.js\");",
"                script.onload = function(){",
"                    renderPlotly_7823d5f0db5347338e63263978daa861();",
"                };",
"                document.getElementsByTagName(\"head\")[0].appendChild(script);",
"            }",
"            else {",
"                renderPlotly_7823d5f0db5347338e63263978daa861();",
"            }",
"\u003c/script\u003e",
""]
        },
           "execution_count": 18,
           "metadata": {},
           "output_type": "execute_result"
          }], 
           "source": ["let comp1 = compareIsotopicDistributions examplePep2 examplePep2_Sim1\n",
"comp1.Plot\n"]
          }
,
          {
           "cell_type": "code",
           "metadata": {},
            "execution_count": 20, "outputs": [
          {
           "data": {
            "text/html": ["\u003cdiv id=\"b05ff2cb-82d3-4671-bc3b-f72e0582cf57\" style=\"width: 600px; height: 600px;\"\u003e\u003c!-- Plotly chart will be drawn inside this DIV --\u003e\u003c/div\u003e",
"\u003cscript type=\"text/javascript\"\u003e",
"",
"            var renderPlotly_b05ff2cb82d34671bc3bf72e0582cf57 = function() {",
"            var fsharpPlotlyRequire = requirejs.config({context:\u0027fsharp-plotly\u0027,paths:{plotly:\u0027https://cdn.plot.ly/plotly-latest.min\u0027}}) || require;",
"            fsharpPlotlyRequire([\u0027plotly\u0027], function(Plotly) {",
"",
"            var data = [{\"type\":\"scatter\",\"x\":[701.8333408162464,701.8333408162464],\"y\":[0.0,0.027600669046608583],\"mode\":\"lines\",\"showlegend\":false,\"marker\":{\"size\":0,\"color\":\"#41719C\"},\"line\":{\"width\":7}},{\"type\":\"scatter\",\"x\":[702.3319849798934,702.3319849798934],\"y\":[0.0,0.6511620940160272],\"mode\":\"lines\",\"showlegend\":false,\"marker\":{\"size\":0,\"color\":\"#41719C\"},\"line\":{\"width\":7}},{\"type\":\"scatter\",\"x\":[702.8308062209867,702.8308062209867],\"y\":[0.0,0.3212372369373643],\"mode\":\"lines\",\"showlegend\":false,\"marker\":{\"size\":0,\"color\":\"#41719C\"},\"line\":{\"width\":7}},{\"type\":\"scatter\",\"x\":[701.8333408162464,701.8333408162464],\"y\":[0.0,0.0728236580920546],\"mode\":\"lines\",\"showlegend\":false,\"marker\":{\"size\":0,\"color\":\"#ED7D31\"},\"line\":{\"width\":7}},{\"type\":\"scatter\",\"x\":[702.3319849798934,702.3319849798934],\"y\":[0.0,0.5434069498001416],\"mode\":\"lines\",\"showlegend\":false,\"marker\":{\"size\":0,\"color\":\"#ED7D31\"},\"line\":{\"width\":7}},{\"type\":\"scatter\",\"x\":[702.8308062209867,702.8308062209867],\"y\":[0.0,0.38376939210780375],\"mode\":\"lines\",\"showlegend\":false,\"marker\":{\"size\":0,\"color\":\"#ED7D31\"},\"line\":{\"width\":7}}];",
"            var layout = {\"xaxis\":{\"title\":\"\",\"range\":[700.8333408162464,703.8308062209867]},\"yaxis\":{\"title\":\"\"}};",
"            var config = {};",
"            Plotly.newPlot(\u0027b05ff2cb-82d3-4671-bc3b-f72e0582cf57\u0027, data, layout, config);",
"});",
"            };",
"            if ((typeof(requirejs) !==  typeof(Function)) || (typeof(requirejs.config) !== typeof(Function))) {",
"                var script = document.createElement(\"script\");",
"                script.setAttribute(\"src\", \"https://cdnjs.cloudflare.com/ajax/libs/require.js/2.3.6/require.min.js\");",
"                script.onload = function(){",
"                    renderPlotly_b05ff2cb82d34671bc3bf72e0582cf57();",
"                };",
"                document.getElementsByTagName(\"head\")[0].appendChild(script);",
"            }",
"            else {",
"                renderPlotly_b05ff2cb82d34671bc3bf72e0582cf57();",
"            }",
"\u003c/script\u003e",
""]
        },
           "execution_count": 20,
           "metadata": {},
           "output_type": "execute_result"
          }], 
           "source": ["let comp2 = compareIsotopicDistributions examplePep2 examplePep2_Sim2\n",
"comp2.Plot\n"]
          }
,
          {
           "cell_type": "markdown",
           "metadata": {},
           
           "source": ["Comparing both simulations, we see that the simulation with a label efficiency of 0.99 fits the measured spectra better than the simulation with 0.95.\n",
"But since we do not want to find a better fit, but the best fit to our measured pattern, this is no goal that is achievable in a feasable way \n",
"using visual inspections. As a solution we utilize the fact that isotopic patterns can be abstracted as ___ ___ (See: How are distributions called that sum up to 1?) distributions.\n",
"A measure to compare measured and theoretical distributions is the kullback leibler divergence. The following code block extends the function \n",
"\u0027compareIsotopicDistributions\u0027 to compute the KL divergence between the precisely measured distribution p and our approximation \n",
"of p (q) using the mida algorithm. \n",
"\n"]
          }
,
          {
           "cell_type": "code",
           "metadata": {},
            "execution_count": 22, "outputs": [], 
           "source": ["/// Calculates the Kullback-Leibler divergence Dkl(p||q) from q (theory, model, description, or approximation of p) \n",
"/// to p (the \"true\" distribution of data, observations, or a ___ ___ precisely measured).\n",
"let klDiv (p:seq\u003cfloat\u003e) (q:seq\u003cfloat\u003e) = \n",
"    Seq.fold2 (fun acc p q -\u003e (System.Math.Log(p/q)*p) + acc ) 0. p q\n",
"\n",
"let compareIsotopicDistributions\u0027 (measured:ExtractedIsoPattern) (simulated:SimulatedIsoPattern)= \n",
"    let patternSim\u0027 = \n",
"        measured.Pattern \n",
"        |\u003e Seq.map (fun (mz,intensities) -\u003e \n",
"                mz,\n",
"                simulated.SimPattern\n",
"                |\u003e Seq.filter (fun (mzSim,intensitiesSim) -\u003e abs(mzSim-mz) \u003c 0.05 )\n",
"                |\u003e Seq.sumBy snd\n",
"            )\n",
"        |\u003e normBySum\n",
"    let klDiv = klDiv (patternSim\u0027 |\u003e Seq.map snd)  (measured.Pattern |\u003e Seq.map snd)\n",
"    {|\n",
"        KLDiv = klDiv\n",
"        Plot  = \n",
"            [\n",
"            plotIsotopicPattern FSharpAux.Colors.Table.Office.blue measured.Pattern\n",
"            plotIsotopicPattern FSharpAux.Colors.Table.Office.orange patternSim\u0027\n",
"            ]\n",
"            |\u003e Chart.Combine\n",
"    |}\n"]
          }
,
          {
           "cell_type": "markdown",
           "metadata": {},
           
           "source": ["## V. Determining the lable efficiency: an optimiziation problem.\n",
"\n",
"Using this function we can now visualize the kullback leibler divergence between\n",
"different models and the two peptides we measured. Since the lower the divergence. We will\n",
"also visualize the pattern with the best fit. Please inspect the Chart created by \u0027Chart.Point(lableEfficiency,comparison |\u003e Seq.map (fun x -\u003e x.KLDiv))\u0027 \n",
"and write correct descriptions for the x and the y axis. (Fill: |\u003e Chart.withX_AxisStyle \"\" and |\u003e Chart.withY_AxisStyle \"\")\n",
"\n"]
          }
,
          {
           "cell_type": "code",
           "metadata": {},
            "execution_count": 23, "outputs": [
          {
           "data": {
            "text/html": ["\u003cdiv id=\"f3ff73f6-bf68-41b8-b821-e0c700a4874d\" style=\"width: 600px; height: 600px;\"\u003e\u003c!-- Plotly chart will be drawn inside this DIV --\u003e\u003c/div\u003e",
"\u003cscript type=\"text/javascript\"\u003e",
"",
"            var renderPlotly_f3ff73f6bf6841b8b821e0c700a4874d = function() {",
"            var fsharpPlotlyRequire = requirejs.config({context:\u0027fsharp-plotly\u0027,paths:{plotly:\u0027https://cdn.plot.ly/plotly-latest.min\u0027}}) || require;",
"            fsharpPlotlyRequire([\u0027plotly\u0027], function(Plotly) {",
"",
"            var data = [{\"type\":\"scatter\",\"x\":[0.95,0.951,0.952,0.953,0.954,0.955,0.956,0.957,0.958,0.959,0.96,0.961,0.962,0.963,0.964,0.965,0.966,0.967,0.968,0.969,0.97,0.971,0.972,0.973,0.974,0.975,0.976,0.977,0.978,0.979,0.98,0.981,0.982,0.983,0.984,0.985,0.986,0.987,0.988,0.989,0.99,0.991,0.992,0.993,0.994,0.995,0.996,0.997,0.998,0.999],\"y\":[0.4202300368720852,0.4106811298362736,0.40108374365623656,0.3914389407235811,0.38174792039725797,0.372012003930289,0.36223266208822635,0.35241152647217344,0.34255040204347276,0.3326512802759425,0.3227163606483192,0.3127480663845308,0.30274906643771704,0.29272229739667555,0.28267099006858043,0.2725986984454146,0.26250933123933023,0.2524071867765106,0.2422969939163012,0.23218395539234604,0.2220738050482816,0.21197285571490368,0.20188807197079947,0.19182714021125777,0.18179856413990877,0.17181174971809146,0.16187712901082377,0.15200629184997771,0.1422121388475539,0.13250907072122395,0.12291320078434166,0.11344261535799016,0.10411768870923449,0.09496146484697818,0.08600012427897644,0.07726357314862309,0.06878616776923088,0.06060765985257048,0.052774416177287634,0.045341040135439804,0.038372562381640114,0.031947502243633324,0.026162263258920064,0.021137708970179185,0.0170294553364064,0.014045041687708933,0.01247494613699962,0.01275534840045972,0.015618942496663,0.022586969474675464],\"mode\":\"markers\",\"marker\":{}}];",
"            var layout = {};",
"            var config = {};",
"            Plotly.newPlot(\u0027f3ff73f6-bf68-41b8-b821-e0c700a4874d\u0027, data, layout, config);",
"});",
"            };",
"            if ((typeof(requirejs) !==  typeof(Function)) || (typeof(requirejs.config) !== typeof(Function))) {",
"                var script = document.createElement(\"script\");",
"                script.setAttribute(\"src\", \"https://cdnjs.cloudflare.com/ajax/libs/require.js/2.3.6/require.min.js\");",
"                script.onload = function(){",
"                    renderPlotly_f3ff73f6bf6841b8b821e0c700a4874d();",
"                };",
"                document.getElementsByTagName(\"head\")[0].appendChild(script);",
"            }",
"            else {",
"                renderPlotly_f3ff73f6bf6841b8b821e0c700a4874d();",
"            }",
"\u003c/script\u003e",
""]
        },
           "execution_count": 23,
           "metadata": {},
           "output_type": "execute_result"
          }], 
           "source": ["let lableEfficiency, comparison = \n",
"    [|0.95 .. 0.001 .. 0.999|]\n",
"    |\u003e Array.map (fun lableEfficiency -\u003e \n",
"            let sim = simulateFrom \"DTDILAAFR\" 2 lableEfficiency\n",
"            let comp = compareIsotopicDistributions\u0027 examplePep1 sim\n",
"            lableEfficiency,\n",
"            comp\n",
"        )\n",
"    |\u003e Seq.unzip\n",
"let bestFit = comparison |\u003e Seq.minBy (fun x -\u003e x.KLDiv) \n",
"\n",
"Chart.Point(lableEfficiency,comparison |\u003e Seq.map (fun x -\u003e x.KLDiv))\n",
"|\u003e Chart.withX_AxisStyle \"\"\n",
"|\u003e Chart.withY_AxisStyle \"\"\n"]
          }
,
          {
           "cell_type": "code",
           "metadata": {},
            "execution_count": 25, "outputs": [
          {
           "data": {
            "text/html": ["\u003cdiv id=\"0d9dcc67-9ee6-413c-8f84-5b9652d3a941\" style=\"width: 600px; height: 600px;\"\u003e\u003c!-- Plotly chart will be drawn inside this DIV --\u003e\u003c/div\u003e",
"\u003cscript type=\"text/javascript\"\u003e",
"",
"            var renderPlotly_0d9dcc679ee6413c8f845b9652d3a941 = function() {",
"            var fsharpPlotlyRequire = requirejs.config({context:\u0027fsharp-plotly\u0027,paths:{plotly:\u0027https://cdn.plot.ly/plotly-latest.min\u0027}}) || require;",
"            fsharpPlotlyRequire([\u0027plotly\u0027], function(Plotly) {",
"",
"            var data = [{\"type\":\"scatter\",\"x\":[516.7474592008799,516.7474592008799],\"y\":[0.0,0.026959823544210483],\"mode\":\"lines\",\"showlegend\":false,\"marker\":{\"size\":0,\"color\":\"#41719C\"},\"line\":{\"width\":7}},{\"type\":\"scatter\",\"x\":[517.255191950945,517.255191950945],\"y\":[0.0,0.7184488740412237],\"mode\":\"lines\",\"showlegend\":false,\"marker\":{\"size\":0,\"color\":\"#41719C\"},\"line\":{\"width\":7}},{\"type\":\"scatter\",\"x\":[517.7535871412731,517.7535871412731],\"y\":[0.0,0.2545913024145658],\"mode\":\"lines\",\"showlegend\":false,\"marker\":{\"size\":0,\"color\":\"#41719C\"},\"line\":{\"width\":7}},{\"type\":\"scatter\",\"x\":[516.7474592008799,516.7474592008799],\"y\":[0.0,0.030740481622225],\"mode\":\"lines\",\"showlegend\":false,\"marker\":{\"size\":0,\"color\":\"#ED7D31\"},\"line\":{\"width\":7}},{\"type\":\"scatter\",\"x\":[517.255191950945,517.255191950945],\"y\":[0.0,0.6462486749099781],\"mode\":\"lines\",\"showlegend\":false,\"marker\":{\"size\":0,\"color\":\"#ED7D31\"},\"line\":{\"width\":7}},{\"type\":\"scatter\",\"x\":[517.7535871412731,517.7535871412731],\"y\":[0.0,0.32301084346779685],\"mode\":\"lines\",\"showlegend\":false,\"marker\":{\"size\":0,\"color\":\"#ED7D31\"},\"line\":{\"width\":7}}];",
"            var layout = {\"xaxis\":{\"title\":\"\",\"range\":[515.7474592008799,518.7535871412731]},\"yaxis\":{\"title\":\"\"}};",
"            var config = {};",
"            Plotly.newPlot(\u00270d9dcc67-9ee6-413c-8f84-5b9652d3a941\u0027, data, layout, config);",
"});",
"            };",
"            if ((typeof(requirejs) !==  typeof(Function)) || (typeof(requirejs.config) !== typeof(Function))) {",
"                var script = document.createElement(\"script\");",
"                script.setAttribute(\"src\", \"https://cdnjs.cloudflare.com/ajax/libs/require.js/2.3.6/require.min.js\");",
"                script.onload = function(){",
"                    renderPlotly_0d9dcc679ee6413c8f845b9652d3a941();",
"                };",
"                document.getElementsByTagName(\"head\")[0].appendChild(script);",
"            }",
"            else {",
"                renderPlotly_0d9dcc679ee6413c8f845b9652d3a941();",
"            }",
"\u003c/script\u003e",
""]
        },
           "execution_count": 25,
           "metadata": {},
           "output_type": "execute_result"
          }], 
           "source": ["bestFit.Plot\n"]
          }
,
          {
           "cell_type": "code",
           "metadata": {},
            "execution_count": 27, "outputs": [
          {
           "data": {
            "text/html": ["\u003cdiv id=\"a8c22391-c465-4aec-b96a-03927955fd7d\" style=\"width: 600px; height: 600px;\"\u003e\u003c!-- Plotly chart will be drawn inside this DIV --\u003e\u003c/div\u003e",
"\u003cscript type=\"text/javascript\"\u003e",
"",
"            var renderPlotly_a8c22391c4654aecb96a03927955fd7d = function() {",
"            var fsharpPlotlyRequire = requirejs.config({context:\u0027fsharp-plotly\u0027,paths:{plotly:\u0027https://cdn.plot.ly/plotly-latest.min\u0027}}) || require;",
"            fsharpPlotlyRequire([\u0027plotly\u0027], function(Plotly) {",
"",
"            var data = [{\"type\":\"scatter\",\"x\":[0.95,0.951,0.952,0.953,0.954,0.955,0.956,0.957,0.958,0.959,0.96,0.961,0.962,0.963,0.964,0.965,0.966,0.967,0.968,0.969,0.97,0.971,0.972,0.973,0.974,0.975,0.976,0.977,0.978,0.979,0.98,0.981,0.982,0.983,0.984,0.985,0.986,0.987,0.988,0.989,0.99,0.991,0.992,0.993,0.994,0.995,0.996,0.997,0.998,0.999],\"y\":[0.3958720572825158,0.3870879592238074,0.3782550250649485,0.36937405723007255,0.36044596633975307,0.3514717862672045,0.34245269212590573,0.33338999558298527,0.32428517707171617,0.3151398895003735,0.30595597866502666,0.29673550151578365,0.28748075116940497,0.27819427026846727,0.2688788836245405,0.2595377248790925,0.25017426838871804,0.24079236499462642,0.23139628281859717,0.2219907503404549,0.21258101130378365,0.20317287876216344,0.19377280969637206,0.18438796919156014,0.17502632524296788,0.16569674872475104,0.15640912737178073,0.14717450427852014,0.13800523490298547,0.1289151757678232,0.11991990615046978,0.11103699296460559,0.10228631692844146,0.09369045315704211,0.08527516302551627,0.07706997776186397,0.0691089595923986,0.061431659618945804,0.05408436637666729,0.047121760700113105,0.04060915777701403,0.03462563764337007,0.029268518568318296,0.02466006073478405,0.020957955136867865,0.01837278558846797,0.017199542210354885,0.017881330251814626,0.02116228995807555,0.028585922870256353],\"mode\":\"markers\",\"marker\":{}}];",
"            var layout = {};",
"            var config = {};",
"            Plotly.newPlot(\u0027a8c22391-c465-4aec-b96a-03927955fd7d\u0027, data, layout, config);",
"});",
"            };",
"            if ((typeof(requirejs) !==  typeof(Function)) || (typeof(requirejs.config) !== typeof(Function))) {",
"                var script = document.createElement(\"script\");",
"                script.setAttribute(\"src\", \"https://cdnjs.cloudflare.com/ajax/libs/require.js/2.3.6/require.min.js\");",
"                script.onload = function(){",
"                    renderPlotly_a8c22391c4654aecb96a03927955fd7d();",
"                };",
"                document.getElementsByTagName(\"head\")[0].appendChild(script);",
"            }",
"            else {",
"                renderPlotly_a8c22391c4654aecb96a03927955fd7d();",
"            }",
"\u003c/script\u003e",
""]
        },
           "execution_count": 27,
           "metadata": {},
           "output_type": "execute_result"
          }], 
           "source": ["let lableEfficiency2, comparison2 = \n",
"    [|0.95 .. 0.001 .. 0.999|]\n",
"    |\u003e Array.map (fun lableEfficiency -\u003e \n",
"            let sim = simulateFrom \"LTYYTPDYVVR\" 2 lableEfficiency\n",
"            let comp = compareIsotopicDistributions\u0027 examplePep2 sim\n",
"            lableEfficiency,\n",
"            comp\n",
"        )\n",
"    |\u003e Seq.unzip\n",
"\n",
"let bestFit2 = comparison2 |\u003e Seq.minBy (fun x -\u003e x.KLDiv) \n",
"\n",
"Chart.Point(lableEfficiency2,comparison2 |\u003e Seq.map (fun x -\u003e x.KLDiv))\n",
"|\u003e Chart.withX_AxisStyle \"\"\n",
"|\u003e Chart.withY_AxisStyle \"\"\n"]
          }
,
          {
           "cell_type": "code",
           "metadata": {},
            "execution_count": 29, "outputs": [
          {
           "data": {
            "text/html": ["\u003cdiv id=\"39d1bbd1-8b0d-4476-ae45-a1a03c3c3182\" style=\"width: 600px; height: 600px;\"\u003e\u003c!-- Plotly chart will be drawn inside this DIV --\u003e\u003c/div\u003e",
"\u003cscript type=\"text/javascript\"\u003e",
"",
"            var renderPlotly_39d1bbd18b0d4476ae45a1a03c3c3182 = function() {",
"            var fsharpPlotlyRequire = requirejs.config({context:\u0027fsharp-plotly\u0027,paths:{plotly:\u0027https://cdn.plot.ly/plotly-latest.min\u0027}}) || require;",
"            fsharpPlotlyRequire([\u0027plotly\u0027], function(Plotly) {",
"",
"            var data = [{\"type\":\"scatter\",\"x\":[701.8333408162464,701.8333408162464],\"y\":[0.0,0.027600669046608583],\"mode\":\"lines\",\"showlegend\":false,\"marker\":{\"size\":0,\"color\":\"#41719C\"},\"line\":{\"width\":7}},{\"type\":\"scatter\",\"x\":[702.3319849798934,702.3319849798934],\"y\":[0.0,0.6511620940160272],\"mode\":\"lines\",\"showlegend\":false,\"marker\":{\"size\":0,\"color\":\"#41719C\"},\"line\":{\"width\":7}},{\"type\":\"scatter\",\"x\":[702.8308062209867,702.8308062209867],\"y\":[0.0,0.3212372369373643],\"mode\":\"lines\",\"showlegend\":false,\"marker\":{\"size\":0,\"color\":\"#41719C\"},\"line\":{\"width\":7}},{\"type\":\"scatter\",\"x\":[701.8333408162464,701.8333408162464],\"y\":[0.0,0.030909557622845665],\"mode\":\"lines\",\"showlegend\":false,\"marker\":{\"size\":0,\"color\":\"#ED7D31\"},\"line\":{\"width\":7}},{\"type\":\"scatter\",\"x\":[702.3319849798934,702.3319849798934],\"y\":[0.0,0.5619050489097641],\"mode\":\"lines\",\"showlegend\":false,\"marker\":{\"size\":0,\"color\":\"#ED7D31\"},\"line\":{\"width\":7}},{\"type\":\"scatter\",\"x\":[702.8308062209867,702.8308062209867],\"y\":[0.0,0.4071853934673903],\"mode\":\"lines\",\"showlegend\":false,\"marker\":{\"size\":0,\"color\":\"#ED7D31\"},\"line\":{\"width\":7}}];",
"            var layout = {\"xaxis\":{\"title\":\"\",\"range\":[700.8333408162464,703.8308062209867]},\"yaxis\":{\"title\":\"\"}};",
"            var config = {};",
"            Plotly.newPlot(\u002739d1bbd1-8b0d-4476-ae45-a1a03c3c3182\u0027, data, layout, config);",
"});",
"            };",
"            if ((typeof(requirejs) !==  typeof(Function)) || (typeof(requirejs.config) !== typeof(Function))) {",
"                var script = document.createElement(\"script\");",
"                script.setAttribute(\"src\", \"https://cdnjs.cloudflare.com/ajax/libs/require.js/2.3.6/require.min.js\");",
"                script.onload = function(){",
"                    renderPlotly_39d1bbd18b0d4476ae45a1a03c3c3182();",
"                };",
"                document.getElementsByTagName(\"head\")[0].appendChild(script);",
"            }",
"            else {",
"                renderPlotly_39d1bbd18b0d4476ae45a1a03c3c3182();",
"            }",
"\u003c/script\u003e",
""]
        },
           "execution_count": 29,
           "metadata": {},
           "output_type": "execute_result"
          }], 
           "source": ["bestFit2.Plot\n"]
          }
,
          {
           "cell_type": "markdown",
           "metadata": {},
           
           "source": ["Observing the output, we can make two observations: the function x(lablefficiency) = KL(measured,sim(lableeffciency)) has in both cases a local minimum\n",
"that is similar, yet slightly different for peptides \"LTYYTPDYVVR\" and \"DTDILAAFR\", and that the best fit resembles the measured distribution closely, but not\n",
"perfectly, what is the reason for this?\n",
"\n",
"Finding this local minimum will give us the best estimator for the lable efficiency. This can be done using brute force approaches (as we just did) \n",
"or more elaborate optimization techniques. For this we will use an algorithm called \u0027Brent\u0027s method\u0027. This method is more precise and speeds up the calculation time (Why?). \n",
"How close are the estimates?\n",
"\n"]
          }
,
          {
           "cell_type": "code",
           "metadata": {},
            "execution_count": 31, "outputs": [], 
           "source": ["let calcKL peptideSequence charge lableEfficiency = \n",
"    let measured = \n",
"        getIsotopicPattern peptideSequence charge\n",
"    let sim = simulateFrom peptideSequence charge lableEfficiency\n",
"    let comp = \n",
"        compareIsotopicDistributions\u0027 measured sim\n",
"    comp.KLDiv\n",
"\n",
"let est1 = Optimization.Brent.minimize (calcKL \"DTDILAAFR\" 2) 0.98 0.999\n",
"let est2 = Optimization.Brent.minimize (calcKL \"LTYYTPDYVVR\" 2) 0.98 0.999\n"]
          }
,
          {
           "cell_type": "markdown",
           "metadata": {},
           
           "source": ["Since the estimates have a certain level of uncertainty we will repeat the estimation for \n",
"some high intensity peptides and visualize the results. Please fill the x axis description (|\u003e Chart.withX_AxisStyle \"\")\n",
"\n"]
          }
,
          {
           "cell_type": "code",
           "metadata": {},
            "execution_count": 32, "outputs": [], 
           "source": ["let highIntensityPeptides = \n",
"    heavy\n",
"    |\u003e Frame.getCol \"Gr2rbcL2_5\" \n",
"    |\u003e Series.sortBy (fun (x:float) -\u003e - x)\n",
"    |\u003e Series.filter (fun k v -\u003e k.StringSequence |\u003e String.exists (fun x -\u003e x=\u0027[\u0027) |\u003e not)\n",
"\n",
"let estimates = \n",
"    highIntensityPeptides\n",
"    |\u003e Series.take 20 \n",
"    |\u003e Series.map (fun k v -\u003e \n",
"        FSharp.Stats.Optimization.Brent.minimize (calcKL k.StringSequence k.Charge) 0.98 0.999\n",
"        )\n",
"    |\u003e Series.values\n",
"    |\u003e Seq.choose id\n"]
          }
,
          {
           "cell_type": "code",
           "metadata": {},
            "execution_count": null, "outputs": [
          {
           "data": {
            "text/html": ["\u003cdiv id=\"0c2275aa-ae02-435a-987c-bcdfab5b62ab\" style=\"width: 600px; height: 600px;\"\u003e\u003c!-- Plotly chart will be drawn inside this DIV --\u003e\u003c/div\u003e",
"\u003cscript type=\"text/javascript\"\u003e",
"",
"            var renderPlotly_0c2275aaae02435a987cbcdfab5b62ab = function() {",
"            var fsharpPlotlyRequire = requirejs.config({context:\u0027fsharp-plotly\u0027,paths:{plotly:\u0027https://cdn.plot.ly/plotly-latest.min\u0027}}) || require;",
"            fsharpPlotlyRequire([\u0027plotly\u0027], function(Plotly) {",
"",
"            var data = [{\"type\":\"box\",\"x\":[0.9964043390426609,0.9970736546415111,0.9972546896277672,0.9955931699486613,0.9967332091423007,0.9964442257241938,0.9955171619261681,0.9956074456817249,0.9955994301859825,0.9959536519137125,0.9961790811237841,0.9964705515627769,0.9963796100630795,0.9933099682843453,0.9960970211651181,0.9958145306475031,0.995964367907164,0.9963189350019076,0.9956625304180128,0.9959898490526867],\"marker\":{}}];",
"            var layout = {};",
"            var config = {};",
"            Plotly.newPlot(\u00270c2275aa-ae02-435a-987c-bcdfab5b62ab\u0027, data, layout, config);",
"});",
"            };",
"            if ((typeof(requirejs) !==  typeof(Function)) || (typeof(requirejs.config) !== typeof(Function))) {",
"                var script = document.createElement(\"script\");",
"                script.setAttribute(\"src\", \"https://cdnjs.cloudflare.com/ajax/libs/require.js/2.3.6/require.min.js\");",
"                script.onload = function(){",
"                    renderPlotly_0c2275aaae02435a987cbcdfab5b62ab();",
"                };",
"                document.getElementsByTagName(\"head\")[0].appendChild(script);",
"            }",
"            else {",
"                renderPlotly_0c2275aaae02435a987cbcdfab5b62ab();",
"            }",
"\u003c/script\u003e",
""]
        },
           "execution_count": null,
           "metadata": {},
           "output_type": "execute_result"
          }], 
           "source": ["Chart.BoxPlot estimates\n",
"|\u003e Chart.withX_AxisStyle \"\"\n"]
          }
,
          {
           "cell_type": "markdown",
           "metadata": {},
           
           "source": ["Now that we know more than an educated guess of an lable efficiency estimate we can start with our main goal:\n",
"the absolute quantification of chlamydomonas proteins!\n",
"\n"]
          }],
            "metadata": {
            "kernelspec": {"display_name": ".NET (F#)", "language": "F#", "name": ".net-fsharp"},
            "langauge_info": {
        "file_extension": ".fs",
        "mimetype": "text/x-fsharp",
        "name": "C#",
        "pygments_lexer": "fsharp",
        "version": "4.5"
        }
        },
            "nbformat": 4,
            "nbformat_minor": 1
        }
        

