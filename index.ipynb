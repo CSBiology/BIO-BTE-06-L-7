
        {
            "cells": [
          {
           "cell_type": "markdown",
           "metadata": {},
           
           "source": ["# BIO-BTE-06-L-7\n",
"\u003cbr\u003e\n",
"\u003cbr\u003e\n",
"## Course objective and procedure\n",
"\n",
"A typical modern proteomics workflow reaches from the experiment and measurement over deconvolution, identification, \n",
"quantification, protein assembly and statistical analysis. This shows that independent from the different specialized \n",
"workflows at hand, the computational part in proteomics is noticeable.\n",
"\n",
"The objective of this course is to provide insights in both aspects. Now, is time to start the computational proteomics part. In the following notebooks you will learn: \n",
"\n",
"1. How to model growth for a defined cell number to relate the findings in your proteomics experiments to a meaningful basis.\n",
"2. Getting in-silico information about the proteome of interest to be able to make sense out of your experimental measurements.\n",
"3. How to access and look at your measurements from an m/z perspective and what it is that we actually measure.\n",
"4. How does peptide or protein identification work computationally?\n",
"5. What must be done to quantify a peptide?\n",
"\n",
"The most hands-on approach to provide those insights is to use a combination of explanatory text, images, interactive charts, \n",
"and program code. This will be combined within interactive notebooks, that allow you to play around with the code examples and learn.\n",
"\n",
"In this course, we want to support your coding literacy by a practical learning approach without the attempt to detail every mechanisms of the \n",
"programming language. This means that the focus is on reading, understanding, and learning to manipulate the code not on coding itself.\n",
"\n",
"However, in the beginning you will get a rapid introduction into F# programming that should allow you to understand code \n",
"and do some manipulations to achieve your desired outcome.\n",
"\n",
"## Schedule\n",
"\n",
"| Day      | Topic                                 | Notebooks        |\n",
"|----------|---------------------------------------|------------------|\n",
"| 15.03.21 | Getting started                       |                  |\n",
"| 16.03.21 | Programming in F#                     | 00.1; 00.2       |\n",
"| 17.03.22 | 1: Growth Model and Cell number       | 01.1; 01.2       |\n",
"| 18.03.23 | 2: In-silico analysis                 | 02.1; 02.2; 02.3 |\n",
"| 19.03.24 | 3: Understanding the Data             | 03.1; 03.2; 03.3 |\n",
"| 22.03.21 | 4: Protein and Peptide Identification | 04.1; 04.2       |\n",
"| 23.03.21 | 5: Peptide quantification             | 05.1             |\n",
"| 24.03.22 | Analysing your own Data               | 06.1; 06.2; 06.3 |\n",
"| 25.03.22 | Analysing your own Data               | 06.1; 06.2; 06.3 |\n",
"| 26.03.23 | Analysing your own Data               | 06.1; 06.2; 06.4 |\n",
"\n",
"## Getting started\n",
"\n",
"\n",
"\n"]
          }],
            "metadata": {
            "kernelspec": {"display_name": ".NET (F#)", "language": "F#", "name": ".net-fsharp"},
            "langauge_info": {
        "file_extension": ".fs",
        "mimetype": "text/x-fsharp",
        "name": "C#",
        "pygments_lexer": "fsharp",
        "version": "4.5"
        }
        },
            "nbformat": 4,
            "nbformat_minor": 1
        }
        

