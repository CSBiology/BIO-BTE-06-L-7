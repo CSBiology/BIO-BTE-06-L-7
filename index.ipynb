
        {
            "cells": [
          {
           "cell_type": "markdown",
           "metadata": {},
           
           "source": ["# BIO-BTE-06-L-7\n",
"\u003cbr\u003e\n",
"\n",
"## Getting started\n",
"\n",
"* Download the latest stable build for [Visual Studio Code](https://code.visualstudio.com/) and install it.\n",
"* Download the recommended [.NET SDK](https://dotnet.microsoft.com/download) and install it.\n",
"* Open Visual Studio Code, navigate to the \"Extensions\" tab and install\n",
"    * .NET Polyglot Notebooks\n",
"    * Ionide-fsharp\n",
"    \n",
"    ![](https://raw.githubusercontent.com/CSBiology/BIO-BTE-06-L-7/main/docs/img/CodeExtensions.png)\n",
"\n",
"* Download the current notebook from the page linked on the left.\n",
"\n",
"    ![](https://raw.githubusercontent.com/CSBiology/BIO-BTE-06-L-7/main/docs/img/DownloadNotebook.png)\n",
"\n",
"* In Visual Studio Code press `Strg + Shift + P` and klick on `Polyglot Notebook: Open notebook`.\n",
"\n",
"    ![](https://raw.githubusercontent.com/CSBiology/BIO-BTE-06-L-7/main/docs/img/OpenNotebook.png)\n",
"\n",
"* Navigate to the location of your notebook and open it.\n",
"* Notebooks contain Text- and Codeblocks:\n",
"    * Adding a new Text- or Codeblock can be done by hovering at the upper or lower border of an existing block:\n",
"\n",
"    ![](https://raw.githubusercontent.com/CSBiology/BIO-BTE-06-L-7/main/docs/img/AddingBlock.png)\n",
"\n",
"    * Working with Textblocks:\n",
"        You can edit a Textblock by doubleklicking on it. Inside a Textblock you can write plain text or style it with [Markdown](https://en.wikipedia.org/wiki/Markdown).\n",
"        Once you are finished you can press the `Esc` button.\n",
"    * Working with Codeblocks:\n",
"        You can start editing any Codeblock by clicking in it. In there you can start writing your own code or edit existing code. Once you are done you can execute the Codeblock by pressing `Strg + Alt + Enter`.\n",
"        If you want to execute all codeblocks at once, you can press on the two arrows in the upper part of the notebook:\n",
"\n",
"    ![](https://raw.githubusercontent.com/CSBiology/BIO-BTE-06-L-7/main/docs/img/ExecuteAll.png)\n",
"\n"]
          }],
            "metadata": {
            "kernelspec": {"display_name": ".NET (F#)", "language": "F#", "name": ".net-fsharp"},
            "langauge_info": {
        "file_extension": ".fs",
        "mimetype": "text/x-fsharp",
        "name": "C#",
        "pygments_lexer": "fsharp",
        "version": "4.5"
        }
        },
            "nbformat": 4,
            "nbformat_minor": 1
        }
        

